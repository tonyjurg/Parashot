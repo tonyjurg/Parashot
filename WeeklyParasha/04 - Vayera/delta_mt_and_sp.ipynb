{
 "cells": [
  {
   "cell_type": "markdown",
   "id": "ef1d222e-9996-4c9f-bddd-173624840ebc",
   "metadata": {},
   "source": [
    "# Differences in MT and SP in parasha #4: Vayera (Genesis 18:1-22:24)"
   ]
  },
  {
   "cell_type": "markdown",
   "id": "00169c3b-05ee-417b-8bc4-950a9914cda7",
   "metadata": {},
   "source": [
    "## Table of Content <a class=\"anchor\" id=\"TOC\"></a> (ToC)\n",
    "\n",
    "* <a href=\"#bullet1\">1 - Introduction</a>\n",
    "* <a href=\"#bullet2\">2 - Load Text-Fabric app and data</a>\n",
    "* <a href=\"#bullet3\">3 - Compare surface texts of SP and MT</a>\n",
    "* <a href=\"#bullet4\">4 - Compare texts using minimum Levenshtein distance</a>\n",
    "* <a href=\"#bullet5\">5 - Comparison of spelling of proper nouns between SP and MT</a>\n",
    "* <a href=\"#bullet6\">6 - References and acknowledgement</a>\n",
    "* <a href=\"#bullet7\">7 - Required libraries</a>\n",
    "* <a href=\"#bullet8\">8 - Notebook version details</a>"
   ]
  },
  {
   "cell_type": "markdown",
   "id": "b9d778e2-a5f4-4f48-acfc-ab657714729c",
   "metadata": {
    "tags": []
   },
   "source": [
    "# 1 - Introduction <a class=\"anchor\" id=\"bullet1\"></a>\n",
    "##### [Back to ToC](#TOC)\n",
    "\n",
    "The Samaritan Pentateuch (SP) is a version of the Torah preserved by the Samaritan community, differing from the Masoretic Text (MT) in several aspects, including language, orthography, and occasionally theological emphasis. This notebook compares the text of the Masoretic Text, based on the BHSA dataset in Text-Fabric, with the Samaritan Pentateuch, also available as a Text-Fabric dataset.<a href=\"#ref1\"><sup>1</sup></a>\n",
    "\n",
    "In this analysis, we focus on comparing the text of the verses in a specific parasha, highlighting differences in wording and orthography. Additionally, special attention is given to spelling variations of proper nouns between the two traditions. This notebook draws inspiration from the notebook provided by Martijn Naaijer<a href=\"#ref2\"><sup>2</sup></a> and aims to explore the textual nuances between these two important versions of the Torah."
   ]
  },
  {
   "cell_type": "markdown",
   "id": "52843ad7-dd3b-4e06-a232-96e8919e8335",
   "metadata": {},
   "source": [
    "# 2 - Load Text-Fabric app and data <a class=\"anchor\" id=\"bullet2\"></a>\n",
    "##### [Back to ToC](#TOC)\n",
    "\n",
    "The following code will load the Text-Fabric version of the [Samaritan Pentatuch](https://github.com/DT-UCPH/sp), the [Biblia Hebraica Stuttgartensia (Amstelodamensis)](https://etcbc.github.io/bhsa/) together with the additonal parasha related features from [tonyjurg/BHSaddons](https://github.com/tonyjurg/BHSaddons)."
   ]
  },
  {
   "cell_type": "code",
   "execution_count": 1,
   "id": "18ee17d5",
   "metadata": {
    "scrolled": true
   },
   "outputs": [
    {
     "data": {
      "text/markdown": [
       "**Locating corpus resources ...**"
      ],
      "text/plain": [
       "<IPython.core.display.Markdown object>"
      ]
     },
     "metadata": {},
     "output_type": "display_data"
    },
    {
     "data": {
      "text/html": [
       "<b title=\"local release\">app:</b> <span title=\"rv3.4=#g0c9b2fff6448228af93ed6c466ba95e6c0bb3547 offline under C:/Users/tonyj/text-fabric-data/github\">~/text-fabric-data/github/DT-UCPH/sp/app</span>"
      ],
      "text/plain": [
       "<IPython.core.display.HTML object>"
      ]
     },
     "metadata": {},
     "output_type": "display_data"
    },
    {
     "data": {
      "text/html": [
       "<b title=\"local release\">data:</b> <span title=\"rv3.4.1=#893bec3898e2e07adfe7eb8806485fe62039c468 offline under C:/Users/tonyj/text-fabric-data/github\">~/text-fabric-data/github/DT-UCPH/sp/tf/3.4</span>"
      ],
      "text/plain": [
       "<IPython.core.display.HTML object>"
      ]
     },
     "metadata": {},
     "output_type": "display_data"
    },
    {
     "data": {
      "text/html": [
       "\n",
       "            <b>TF:</b> <a target=\"_blank\" href=\"https://annotation.github.io/text-fabric/tf/cheatsheet.html\" title=\"text-fabric api\">TF API 12.6.2</a>, <a target=\"_blank\" href=\"https://github.com/DT-UCPH/sp/blob/master/app\" title=\"DT-UCPH/sp app\">DT-UCPH/sp/app  v3</a>, <a target=\"_blank\" href=\"https://annotation.github.io/text-fabric/tf/about/searchusage.html\" title=\"Search Templates Introduction and Reference\">Search Reference</a><br>\n",
       "            <b>Data:</b> <a target=\"_blank\" href=\"https://etcbc.github.io/bhsa/\" title=\"provenance of The Samaritan Pentateuch\">DT-UCPH - sp 3.4</a>, <a target=\"_blank\" href=\"https://annotation.github.io/text-fabric/tf/writing/hebrew.html\" title=\"How TF features represent text\">Character table</a>, <a target=\"_blank\" href=\"https://etcbc.github.io/bhsa/features/0_home\" title=\"DT-UCPH - sp feature documentation\">Feature docs</a><br>\n",
       "            <details class=\"nodeinfo\"><summary><b>Node types</b></summary>\n",
       "<table class=\"nodeinfo\">\n",
       "    <tr>\n",
       "        <th>Name</th>\n",
       "        <th># of nodes</th>\n",
       "        <th># slots / node</th>\n",
       "        <th>% coverage</th>\n",
       "    </tr>\n",
       "\n",
       "<tr>\n",
       "    <th>book</th>\n",
       "    <td>5</td>\n",
       "    <td>79878.40</td>\n",
       "    <td><b>100</b></td>\n",
       "</tr>\n",
       "\n",
       "<tr>\n",
       "    <th>chapter</th>\n",
       "    <td>187</td>\n",
       "    <td>2135.79</td>\n",
       "    <td><b>100</b></td>\n",
       "</tr>\n",
       "\n",
       "<tr>\n",
       "    <th>verse</th>\n",
       "    <td>5841</td>\n",
       "    <td>68.38</td>\n",
       "    <td><b>100</b></td>\n",
       "</tr>\n",
       "\n",
       "<tr>\n",
       "    <th>word</th>\n",
       "    <td>114890</td>\n",
       "    <td>3.48</td>\n",
       "    <td><b>100</b></td>\n",
       "</tr>\n",
       "\n",
       "<tr>\n",
       "    <th><i>sign</i></th>\n",
       "    <td>399392</td>\n",
       "    <td>1.00</td>\n",
       "    <td><b>100</b></td>\n",
       "</tr>\n",
       "</table></details>\n",
       "            <b>Sets:</b> no custom sets<br>\n",
       "            <b>Features:</b><br>\n",
       "<details><summary><b>The Samaritan Pentateuch</b></summary>\n",
       "    <div class=\"fcorpus\">\n",
       "\n",
       "<div class=\"frow\">\n",
       "    <div class=\"fnamecat \">\n",
       "<a target=\"_blank\" href=\"https://etcbc.github.io/bhsa/features/book\" title=\"~/text-fabric-data/github/DT-UCPH/sp/tf/3.4/book.tf\">book</a>\n",
       "</div>\n",
       "<div class=\"fmono\">str</div>\n",
       "\n",
       "<span> book title</span>\n",
       "\n",
       "</div>\n",
       "\n",
       "<div class=\"frow\">\n",
       "    <div class=\"fnamecat \">\n",
       "<a target=\"_blank\" href=\"https://etcbc.github.io/bhsa/features/chapter\" title=\"~/text-fabric-data/github/DT-UCPH/sp/tf/3.4/chapter.tf\">chapter</a>\n",
       "</div>\n",
       "<div class=\"fmono\">int</div>\n",
       "\n",
       "<span> chapter number</span>\n",
       "\n",
       "</div>\n",
       "\n",
       "<div class=\"frow\">\n",
       "    <div class=\"fnamecat \">\n",
       "<a target=\"_blank\" href=\"https://etcbc.github.io/bhsa/features/g_cons\" title=\"~/text-fabric-data/github/DT-UCPH/sp/tf/3.4/g_cons.tf\">g_cons</a>\n",
       "</div>\n",
       "<div class=\"fmono\">str</div>\n",
       "\n",
       "<span> word consonantal-transliterated</span>\n",
       "\n",
       "</div>\n",
       "\n",
       "<div class=\"frow\">\n",
       "    <div class=\"fnamecat \">\n",
       "<a target=\"_blank\" href=\"https://etcbc.github.io/bhsa/features/g_cons_raw\" title=\"~/text-fabric-data/github/DT-UCPH/sp/tf/3.4/g_cons_raw.tf\">g_cons_raw</a>\n",
       "</div>\n",
       "<div class=\"fmono\">str</div>\n",
       "\n",
       "<span> word consonantal-transliterated (without disambiguation of Shin (C) and Sin (F))</span>\n",
       "\n",
       "</div>\n",
       "\n",
       "<div class=\"frow\">\n",
       "    <div class=\"fnamecat \">\n",
       "<a target=\"_blank\" href=\"https://etcbc.github.io/bhsa/features/g_cons_utf8\" title=\"~/text-fabric-data/github/DT-UCPH/sp/tf/3.4/g_cons_utf8.tf\">g_cons_utf8</a>\n",
       "</div>\n",
       "<div class=\"fmono\">str</div>\n",
       "\n",
       "<span> word in Hebrew script</span>\n",
       "\n",
       "</div>\n",
       "\n",
       "<div class=\"frow\">\n",
       "    <div class=\"fnamecat \">\n",
       "<a target=\"_blank\" href=\"https://etcbc.github.io/bhsa/features/g_lex\" title=\"~/text-fabric-data/github/DT-UCPH/sp/tf/3.4/g_lex.tf\">g_lex</a>\n",
       "</div>\n",
       "<div class=\"fmono\">str</div>\n",
       "\n",
       "<span> realized lexeme</span>\n",
       "\n",
       "</div>\n",
       "\n",
       "<div class=\"frow\">\n",
       "    <div class=\"fnamecat \">\n",
       "<a target=\"_blank\" href=\"https://etcbc.github.io/bhsa/features/g_lex_utf8\" title=\"~/text-fabric-data/github/DT-UCPH/sp/tf/3.4/g_lex_utf8.tf\">g_lex_utf8</a>\n",
       "</div>\n",
       "<div class=\"fmono\">str</div>\n",
       "\n",
       "<span> realized lexeme in Hebrew script</span>\n",
       "\n",
       "</div>\n",
       "\n",
       "<div class=\"frow\">\n",
       "    <div class=\"fnamecat \">\n",
       "<a target=\"_blank\" href=\"https://etcbc.github.io/bhsa/features/g_nme\" title=\"~/text-fabric-data/github/DT-UCPH/sp/tf/3.4/g_nme.tf\">g_nme</a>\n",
       "</div>\n",
       "<div class=\"fmono\">str</div>\n",
       "\n",
       "<span> realized nominal ending consonantal</span>\n",
       "\n",
       "</div>\n",
       "\n",
       "<div class=\"frow\">\n",
       "    <div class=\"fnamecat \">\n",
       "<a target=\"_blank\" href=\"https://etcbc.github.io/bhsa/features/g_nme_utf8\" title=\"~/text-fabric-data/github/DT-UCPH/sp/tf/3.4/g_nme_utf8.tf\">g_nme_utf8</a>\n",
       "</div>\n",
       "<div class=\"fmono\">str</div>\n",
       "\n",
       "<span> realized nominal ending consonantal in Hebrew script</span>\n",
       "\n",
       "</div>\n",
       "\n",
       "<div class=\"frow\">\n",
       "    <div class=\"fnamecat \">\n",
       "<a target=\"_blank\" href=\"https://etcbc.github.io/bhsa/features/g_pfm\" title=\"~/text-fabric-data/github/DT-UCPH/sp/tf/3.4/g_pfm.tf\">g_pfm</a>\n",
       "</div>\n",
       "<div class=\"fmono\">str</div>\n",
       "\n",
       "<span> realized verbal preformative consonantal</span>\n",
       "\n",
       "</div>\n",
       "\n",
       "<div class=\"frow\">\n",
       "    <div class=\"fnamecat \">\n",
       "<a target=\"_blank\" href=\"https://etcbc.github.io/bhsa/features/g_pfm_utf8\" title=\"~/text-fabric-data/github/DT-UCPH/sp/tf/3.4/g_pfm_utf8.tf\">g_pfm_utf8</a>\n",
       "</div>\n",
       "<div class=\"fmono\">str</div>\n",
       "\n",
       "<span> realized verbal preformative consonantal in Hebrew script</span>\n",
       "\n",
       "</div>\n",
       "\n",
       "<div class=\"frow\">\n",
       "    <div class=\"fnamecat \">\n",
       "<a target=\"_blank\" href=\"https://etcbc.github.io/bhsa/features/g_prs\" title=\"~/text-fabric-data/github/DT-UCPH/sp/tf/3.4/g_prs.tf\">g_prs</a>\n",
       "</div>\n",
       "<div class=\"fmono\">str</div>\n",
       "\n",
       "<span> realized pronominal suffix consonantal</span>\n",
       "\n",
       "</div>\n",
       "\n",
       "<div class=\"frow\">\n",
       "    <div class=\"fnamecat \">\n",
       "<a target=\"_blank\" href=\"https://etcbc.github.io/bhsa/features/g_prs_utf8\" title=\"~/text-fabric-data/github/DT-UCPH/sp/tf/3.4/g_prs_utf8.tf\">g_prs_utf8</a>\n",
       "</div>\n",
       "<div class=\"fmono\">str</div>\n",
       "\n",
       "<span> realized pronominal suffix consonantal in Hebrew script</span>\n",
       "\n",
       "</div>\n",
       "\n",
       "<div class=\"frow\">\n",
       "    <div class=\"fnamecat \">\n",
       "<a target=\"_blank\" href=\"https://etcbc.github.io/bhsa/features/g_uvf\" title=\"~/text-fabric-data/github/DT-UCPH/sp/tf/3.4/g_uvf.tf\">g_uvf</a>\n",
       "</div>\n",
       "<div class=\"fmono\">str</div>\n",
       "\n",
       "<span> realized univalent final</span>\n",
       "\n",
       "</div>\n",
       "\n",
       "<div class=\"frow\">\n",
       "    <div class=\"fnamecat \">\n",
       "<a target=\"_blank\" href=\"https://etcbc.github.io/bhsa/features/g_uvf_utf8\" title=\"~/text-fabric-data/github/DT-UCPH/sp/tf/3.4/g_uvf_utf8.tf\">g_uvf_utf8</a>\n",
       "</div>\n",
       "<div class=\"fmono\">str</div>\n",
       "\n",
       "<span> realized univalent final in Hebrew script</span>\n",
       "\n",
       "</div>\n",
       "\n",
       "<div class=\"frow\">\n",
       "    <div class=\"fnamecat \">\n",
       "<a target=\"_blank\" href=\"https://etcbc.github.io/bhsa/features/g_vbe\" title=\"~/text-fabric-data/github/DT-UCPH/sp/tf/3.4/g_vbe.tf\">g_vbe</a>\n",
       "</div>\n",
       "<div class=\"fmono\">str</div>\n",
       "\n",
       "<span> realized verbal ending consonantal</span>\n",
       "\n",
       "</div>\n",
       "\n",
       "<div class=\"frow\">\n",
       "    <div class=\"fnamecat \">\n",
       "<a target=\"_blank\" href=\"https://etcbc.github.io/bhsa/features/g_vbe_utf8\" title=\"~/text-fabric-data/github/DT-UCPH/sp/tf/3.4/g_vbe_utf8.tf\">g_vbe_utf8</a>\n",
       "</div>\n",
       "<div class=\"fmono\">str</div>\n",
       "\n",
       "<span> realized verbal ending consonantal in Hebrew script</span>\n",
       "\n",
       "</div>\n",
       "\n",
       "<div class=\"frow\">\n",
       "    <div class=\"fnamecat \">\n",
       "<a target=\"_blank\" href=\"https://etcbc.github.io/bhsa/features/g_vbs\" title=\"~/text-fabric-data/github/DT-UCPH/sp/tf/3.4/g_vbs.tf\">g_vbs</a>\n",
       "</div>\n",
       "<div class=\"fmono\">str</div>\n",
       "\n",
       "<span> realized verbal stem consonantal</span>\n",
       "\n",
       "</div>\n",
       "\n",
       "<div class=\"frow\">\n",
       "    <div class=\"fnamecat \">\n",
       "<a target=\"_blank\" href=\"https://etcbc.github.io/bhsa/features/g_vbs_utf8\" title=\"~/text-fabric-data/github/DT-UCPH/sp/tf/3.4/g_vbs_utf8.tf\">g_vbs_utf8</a>\n",
       "</div>\n",
       "<div class=\"fmono\">str</div>\n",
       "\n",
       "<span> realized verbal stem consonantal in Hebrew script</span>\n",
       "\n",
       "</div>\n",
       "\n",
       "<div class=\"frow\">\n",
       "    <div class=\"fnamecat \">\n",
       "<a target=\"_blank\" href=\"https://etcbc.github.io/bhsa/features/gn\" title=\"~/text-fabric-data/github/DT-UCPH/sp/tf/3.4/gn.tf\">gn</a>\n",
       "</div>\n",
       "<div class=\"fmono\">str</div>\n",
       "\n",
       "<span> gender</span>\n",
       "\n",
       "</div>\n",
       "\n",
       "<div class=\"frow\">\n",
       "    <div class=\"fnamecat \">\n",
       "<a target=\"_blank\" href=\"https://etcbc.github.io/bhsa/features/language\" title=\"~/text-fabric-data/github/DT-UCPH/sp/tf/3.4/language.tf\">language</a>\n",
       "</div>\n",
       "<div class=\"fmono\">str</div>\n",
       "\n",
       "<span> language</span>\n",
       "\n",
       "</div>\n",
       "\n",
       "<div class=\"frow\">\n",
       "    <div class=\"fnamecat \">\n",
       "<a target=\"_blank\" href=\"https://etcbc.github.io/bhsa/features/lex\" title=\"~/text-fabric-data/github/DT-UCPH/sp/tf/3.4/lex.tf\">lex</a>\n",
       "</div>\n",
       "<div class=\"fmono\">str</div>\n",
       "\n",
       "<span> lexeme consonantal-transliterated</span>\n",
       "\n",
       "</div>\n",
       "\n",
       "<div class=\"frow\">\n",
       "    <div class=\"fnamecat \">\n",
       "<a target=\"_blank\" href=\"https://etcbc.github.io/bhsa/features/lex_utf8\" title=\"~/text-fabric-data/github/DT-UCPH/sp/tf/3.4/lex_utf8.tf\">lex_utf8</a>\n",
       "</div>\n",
       "<div class=\"fmono\">str</div>\n",
       "\n",
       "<span> lexeme in Hebrew script</span>\n",
       "\n",
       "</div>\n",
       "\n",
       "<div class=\"frow\">\n",
       "    <div class=\"fnamecat \">\n",
       "<a target=\"_blank\" href=\"https://etcbc.github.io/bhsa/features/mt_feat\" title=\"~/text-fabric-data/github/DT-UCPH/sp/tf/3.4/mt_feat.tf\">mt_feat</a>\n",
       "</div>\n",
       "<div class=\"fmono\">str</div>\n",
       "\n",
       "<span> features imposed from MT</span>\n",
       "\n",
       "</div>\n",
       "\n",
       "<div class=\"frow\">\n",
       "    <div class=\"fnamecat \">\n",
       "<a target=\"_blank\" href=\"https://etcbc.github.io/bhsa/features/nu\" title=\"~/text-fabric-data/github/DT-UCPH/sp/tf/3.4/nu.tf\">nu</a>\n",
       "</div>\n",
       "<div class=\"fmono\">str</div>\n",
       "\n",
       "<span> grammatical number</span>\n",
       "\n",
       "</div>\n",
       "\n",
       "<div class=\"frow\">\n",
       "    <div class=\"fnamecat \">\n",
       "<a target=\"_blank\" href=\"https://etcbc.github.io/bhsa/features/otype\" title=\"~/text-fabric-data/github/DT-UCPH/sp/tf/3.4/otype.tf\">otype</a>\n",
       "</div>\n",
       "<div class=\"fmono\">str</div>\n",
       "\n",
       "<span> </span>\n",
       "\n",
       "</div>\n",
       "\n",
       "<div class=\"frow\">\n",
       "    <div class=\"fnamecat \">\n",
       "<a target=\"_blank\" href=\"https://etcbc.github.io/bhsa/features/prediction\" title=\"~/text-fabric-data/github/DT-UCPH/sp/tf/3.4/prediction.tf\">prediction</a>\n",
       "</div>\n",
       "<div class=\"fmono\">str</div>\n",
       "\n",
       "<span> neural network prediction</span>\n",
       "\n",
       "</div>\n",
       "\n",
       "<div class=\"frow\">\n",
       "    <div class=\"fnamecat \">\n",
       "<a target=\"_blank\" href=\"https://etcbc.github.io/bhsa/features/prs_gn\" title=\"~/text-fabric-data/github/DT-UCPH/sp/tf/3.4/prs_gn.tf\">prs_gn</a>\n",
       "</div>\n",
       "<div class=\"fmono\">str</div>\n",
       "\n",
       "<span> pronominal suffix gender</span>\n",
       "\n",
       "</div>\n",
       "\n",
       "<div class=\"frow\">\n",
       "    <div class=\"fnamecat \">\n",
       "<a target=\"_blank\" href=\"https://etcbc.github.io/bhsa/features/prs_nu\" title=\"~/text-fabric-data/github/DT-UCPH/sp/tf/3.4/prs_nu.tf\">prs_nu</a>\n",
       "</div>\n",
       "<div class=\"fmono\">str</div>\n",
       "\n",
       "<span> pronominal suffix number</span>\n",
       "\n",
       "</div>\n",
       "\n",
       "<div class=\"frow\">\n",
       "    <div class=\"fnamecat \">\n",
       "<a target=\"_blank\" href=\"https://etcbc.github.io/bhsa/features/prs_ps\" title=\"~/text-fabric-data/github/DT-UCPH/sp/tf/3.4/prs_ps.tf\">prs_ps</a>\n",
       "</div>\n",
       "<div class=\"fmono\">str</div>\n",
       "\n",
       "<span> pronominal suffix person</span>\n",
       "\n",
       "</div>\n",
       "\n",
       "<div class=\"frow\">\n",
       "    <div class=\"fnamecat \">\n",
       "<a target=\"_blank\" href=\"https://etcbc.github.io/bhsa/features/ps\" title=\"~/text-fabric-data/github/DT-UCPH/sp/tf/3.4/ps.tf\">ps</a>\n",
       "</div>\n",
       "<div class=\"fmono\">str</div>\n",
       "\n",
       "<span> grammatical person</span>\n",
       "\n",
       "</div>\n",
       "\n",
       "<div class=\"frow\">\n",
       "    <div class=\"fnamecat \">\n",
       "<a target=\"_blank\" href=\"https://etcbc.github.io/bhsa/features/sign\" title=\"~/text-fabric-data/github/DT-UCPH/sp/tf/3.4/sign.tf\">sign</a>\n",
       "</div>\n",
       "<div class=\"fmono\">str</div>\n",
       "\n",
       "<span> consonantal letter</span>\n",
       "\n",
       "</div>\n",
       "\n",
       "<div class=\"frow\">\n",
       "    <div class=\"fnamecat \">\n",
       "<a target=\"_blank\" href=\"https://etcbc.github.io/bhsa/features/sp\" title=\"~/text-fabric-data/github/DT-UCPH/sp/tf/3.4/sp.tf\">sp</a>\n",
       "</div>\n",
       "<div class=\"fmono\">str</div>\n",
       "\n",
       "<span> part of speech</span>\n",
       "\n",
       "</div>\n",
       "\n",
       "<div class=\"frow\">\n",
       "    <div class=\"fnamecat \">\n",
       "<a target=\"_blank\" href=\"https://etcbc.github.io/bhsa/features/trailer\" title=\"~/text-fabric-data/github/DT-UCPH/sp/tf/3.4/trailer.tf\">trailer</a>\n",
       "</div>\n",
       "<div class=\"fmono\">str</div>\n",
       "\n",
       "<span> interword material</span>\n",
       "\n",
       "</div>\n",
       "\n",
       "<div class=\"frow\">\n",
       "    <div class=\"fnamecat \">\n",
       "<a target=\"_blank\" href=\"https://etcbc.github.io/bhsa/features/verse\" title=\"~/text-fabric-data/github/DT-UCPH/sp/tf/3.4/verse.tf\">verse</a>\n",
       "</div>\n",
       "<div class=\"fmono\">int</div>\n",
       "\n",
       "<span> verse number</span>\n",
       "\n",
       "</div>\n",
       "\n",
       "<div class=\"frow\">\n",
       "    <div class=\"fnamecat \">\n",
       "<a target=\"_blank\" href=\"https://etcbc.github.io/bhsa/features/vt\" title=\"~/text-fabric-data/github/DT-UCPH/sp/tf/3.4/vt.tf\">vt</a>\n",
       "</div>\n",
       "<div class=\"fmono\">str</div>\n",
       "\n",
       "<span> verbal tense</span>\n",
       "\n",
       "</div>\n",
       "\n",
       "<div class=\"frow\">\n",
       "    <div class=\"fnamecat edge\">\n",
       "<a target=\"_blank\" href=\"https://etcbc.github.io/bhsa/features/oslots\" title=\"~/text-fabric-data/github/DT-UCPH/sp/tf/3.4/oslots.tf\">oslots</a>\n",
       "</div>\n",
       "<div class=\"fmono\">none</div>\n",
       "\n",
       "<span> </span>\n",
       "\n",
       "</div>\n",
       "\n",
       "    </div>\n",
       "</details>\n",
       "\n",
       "            <b>Settings:</b><br><details ><summary><b>specified</b></summary><ol><li><b>apiVersion</b>: <code>3</code></li><li><b>appName</b>: <code>DT-UCPH/sp</code></li><li><b>appPath</b>: <code>C:/Users/tonyj/text-fabric-data/github/DT-UCPH/sp/app</code></li><li><b>commit</b>: <code>g0c9b2fff6448228af93ed6c466ba95e6c0bb3547</code></li><li><b>css</b>: <code>''</code></li><li><details><summary><b>dataDisplay</b>:</summary><li><details open>\n",
       "                <summary><b>textFormats</b>:</summary>\n",
       "                <li><details open>\n",
       "                <summary><b>layout-orig-full</b>:</summary>\n",
       "                <ul><li><b>method</b>: <code>layoutRich</code></li><li><b>style</b>: <code>orig</code></li></ul>\n",
       "                </details></li>\n",
       "                </details></li></details></li><li><details><summary><b>docs</b>:</summary><ul><li><b>docBase</b>: <code>{docRoot}/bhsa</code></li><li><b>docExt</b>: <code>''</code></li><li><b>docPage</b>: <code>''</code></li><li><b>docRoot</b>: <code>https://etcbc.github.io</code></li><li><b>featurePage</b>: <code>0_home</code></li></ul></details></li><li><b>interfaceDefaults</b>: <code>{}</code></li><li><b>isCompatible</b>: <code>True</code></li><li><b>local</b>: <code>local</code></li><li><b>localDir</b>: <code>C:/Users/tonyj/text-fabric-data/github/DT-UCPH/sp/_temp</code></li><li><details><summary><b>provenanceSpec</b>:</summary><ul><li><b>corpus</b>: <code>The Samaritan Pentateuch</code></li><li><b>org</b>: <code>DT-UCPH</code></li><li><b>relative</b>: <code>/tf</code></li><li><b>repo</b>: <code>sp</code></li><li><b>version</b>: <code>3.4</code></li></ul></details></li><li><b>release</b>: <code>v3.4</code></li><li><details><summary><b>typeDisplay</b>:</summary><ul><li><details><summary><b>verse</b>:</summary><ul><li><b>label</b>: <code>{verse}</code></li><li><b>template</b>: <code>{verse}</code></li><li><b>verselike</b>: <code>True</code></li></ul></details></li><li><b>word</b>: {<b>features</b>: <code>lex</code>}</li></ul></details></li><li><b>writing</b>: <code>hbo</code></li></ol></details>\n"
      ],
      "text/plain": [
       "<IPython.core.display.HTML object>"
      ]
     },
     "metadata": {},
     "output_type": "display_data"
    },
    {
     "data": {
      "text/html": [
       "<style>tr.tf.ltr, td.tf.ltr, th.tf.ltr { text-align: left ! important;}\n",
       "tr.tf.rtl, td.tf.rtl, th.tf.rtl { text-align: right ! important;}\n",
       "@font-face {\n",
       "  font-family: \"Gentium Plus\";\n",
       "  src: local('Gentium Plus'), local('GentiumPlus'),\n",
       "    url('/browser/static/fonts/GentiumPlus-R.woff') format('woff'),\n",
       "    url('https://github.com/annotation/text-fabric/blob/master/tf/browser/static/fonts/GentiumPlus-R.woff?raw=true') format('woff');\n",
       "}\n",
       "\n",
       "@font-face {\n",
       "  font-family: \"Ezra SIL\";\n",
       "  src: local('Ezra SIL'), local('EzraSIL'),\n",
       "    url('/browser/static/fonts/SILEOT.woff') format('woff'),\n",
       "    url('https://github.com/annotation/text-fabric/blob/master/tf/browser/static/fonts/SILEOT.woff?raw=true') format('woff');\n",
       "}\n",
       "\n",
       "@font-face {\n",
       "  font-family: \"SBL Hebrew\";\n",
       "  src: local('SBL Hebrew'), local('SBLHebrew'),\n",
       "    url('/browser/static/fonts/SBL_Hbrw.woff') format('woff'),\n",
       "    url('https://github.com/annotation/text-fabric/blob/master/tf/browser/static/fonts/SBL_Hbrw.woff?raw=true') format('woff');\n",
       "}\n",
       "\n",
       "@font-face {\n",
       "  font-family: \"Estrangelo Edessa\";\n",
       "  src: local('Estrangelo Edessa'), local('EstrangeloEdessa');\n",
       "    url('/browser/static/fonts/SyrCOMEdessa.woff') format('woff'),\n",
       "    url('https://github.com/annotation/text-fabric/blob/master/tf/browser/static/fonts/SyrCOMEdessa.woff?raw=true') format('woff');\n",
       "}\n",
       "\n",
       "@font-face {\n",
       "  font-family: AmiriQuran;\n",
       "  font-style: normal;\n",
       "  font-weight: 400;\n",
       "  src: local('Amiri Quran'), local('AmiriQuran'),\n",
       "    url('/browser/static/fonts/AmiriQuran.woff') format('woff'),\n",
       "    url('https://github.com/annotation/text-fabric/blob/master/tf/browser/static/fonts/AmiriQuran.woff?raw=true') format('woff');\n",
       "}\n",
       "\n",
       "@font-face {\n",
       "  font-family: AmiriQuranColored;\n",
       "  font-style: normal;\n",
       "  font-weight: 400;\n",
       "  src: local('Amiri Quran Colored'), local('AmiriQuranColored'),\n",
       "    url('/browser/static/fonts/AmiriQuranColored.woff') format('woff'),\n",
       "    url('https://github.com/annotation/text-fabric/blob/master/tf/browser/static/fonts/AmiriQuranColored.woff?raw=true') format('woff');\n",
       "}\n",
       "\n",
       "@font-face {\n",
       "  font-family: \"Santakku\";\n",
       "  src: local('Santakku'),\n",
       "    url('/browser/static/fonts/Santakku.woff') format('woff'),\n",
       "    url('https://github.com/annotation/text-fabric/blob/master/tf/browser/static/fonts/Santakku.woff?raw=true') format('woff');\n",
       "}\n",
       "\n",
       "@font-face {\n",
       "  font-family: \"SantakkuM\";\n",
       "  src: local('SantakkuM'),\n",
       "    url('/browser/static/fonts/SantakkuM.woff') format('woff'),\n",
       "    url('https://github.com/annotation/text-fabric/blob/master/tf/browser/static/fonts/SantakkuM.woff?raw=true') format('woff');\n",
       "}\n",
       "\n",
       "/* bypassing some classical notebook settings */\n",
       "div#notebook {\n",
       "  line-height: unset;\n",
       "}\n",
       "/* neutral text */\n",
       ".txtn,.txtn a:visited,.txtn a:link {\n",
       "    font-family: sans-serif;\n",
       "    font-size: medium;\n",
       "    direction: ltr;\n",
       "    unicode-bidi: embed;\n",
       "    text-decoration: none;\n",
       "    color: var(--text-color);\n",
       "}\n",
       "/* transcription text */\n",
       ".txtt,.txtt a:visited,.txtt a:link {\n",
       "    font-family: monospace;\n",
       "    font-size: medium;\n",
       "    direction: ltr;\n",
       "    unicode-bidi: embed;\n",
       "    text-decoration: none;\n",
       "    color: var(--text-color);\n",
       "}\n",
       "/* source text */\n",
       ".txto,.txto a:visited,.txto a:link {\n",
       "    font-family: serif;\n",
       "    font-size: medium;\n",
       "    direction: ltr;\n",
       "    unicode-bidi: embed;\n",
       "    text-decoration: none;\n",
       "    color: var(--text-color);\n",
       "}\n",
       "/* phonetic text */\n",
       ".txtp,.txtp a:visited,.txtp a:link {\n",
       "    font-family: Gentium, sans-serif;\n",
       "    font-size: medium;\n",
       "    direction: ltr;\n",
       "    unicode-bidi: embed;\n",
       "    text-decoration: none;\n",
       "    color: var(--text-color);\n",
       "}\n",
       "/* original script text */\n",
       ".txtu,.txtu a:visited,.txtu a:link {\n",
       "    font-family: Gentium, sans-serif;\n",
       "    font-size: medium;\n",
       "    text-decoration: none;\n",
       "    color: var(--text-color);\n",
       "}\n",
       "/* hebrew */\n",
       ".txtu.hbo,.lex.hbo {\n",
       "    font-family: \"Ezra SIL\", \"SBL Hebrew\", sans-serif;\n",
       "    font-size: large;\n",
       "    direction: rtl ! important;\n",
       "    unicode-bidi: embed;\n",
       "}\n",
       "/* syriac */\n",
       ".txtu.syc,.lex.syc {\n",
       "    font-family: \"Estrangelo Edessa\", sans-serif;\n",
       "    font-size: medium;\n",
       "    direction: rtl ! important;\n",
       "    unicode-bidi: embed;\n",
       "}\n",
       "/* neo aramaic */\n",
       ".txtu.cld,.lex.cld {\n",
       "    font-family: \"CharisSIL-R\", sans-serif;\n",
       "    font-size: medium;\n",
       "    direction: ltr ! important;\n",
       "    unicode-bidi: embed;\n",
       "}\n",
       "/* standard arabic */\n",
       ".txtu.ara,.lex.ara {\n",
       "    font-family: \"AmiriQuran\", sans-serif;\n",
       "    font-size: large;\n",
       "    direction: rtl ! important;\n",
       "    unicode-bidi: embed;\n",
       "}\n",
       "/* cuneiform */\n",
       ".txtu.akk,.lex.akk {\n",
       "    font-family: Santakku, sans-serif;\n",
       "    font-size: large;\n",
       "    direction: ltr ! important;\n",
       "    unicode-bidi: embed;\n",
       "}\n",
       ".txtu.uga,.lex.uga {\n",
       "    font-family: sans-serif;\n",
       "    /*font-family: Noto Sans Ugaritic, sans-serif;*/\n",
       "    font-size: large;\n",
       "    direction: ltr ! important;\n",
       "    unicode-bidi: embed;\n",
       "}\n",
       "/* greek */\n",
       ".txtu.grc,.lex.grc a:link {\n",
       "    font-family: Gentium, sans-serif;\n",
       "    font-size: medium;\n",
       "    direction: ltr ! important;\n",
       "    unicode-bidi: embed;\n",
       "}\n",
       "a:hover {\n",
       "    text-decoration: underline | important;\n",
       "    color: #0000ff | important;\n",
       "}\n",
       ".ltr {\n",
       "    direction: ltr ! important;\n",
       "    unicode-bidi: embed;\n",
       "}\n",
       ".rtl {\n",
       "    direction: rtl ! important;\n",
       "    unicode-bidi: embed;\n",
       "}\n",
       ".ubd {\n",
       "    unicode-bidi: embed;\n",
       "}\n",
       ".col {\n",
       "   display: inline-block;\n",
       "}\n",
       ".features {\n",
       "    font-family: monospace;\n",
       "    font-size: medium;\n",
       "    font-weight: bold;\n",
       "    color: var(--features);\n",
       "    display: flex;\n",
       "    flex-flow: column nowrap;\n",
       "    justify-content: flex-start;\n",
       "    align-items: flex-start;\n",
       "    align-content: flex-start;\n",
       "    padding: 2px;\n",
       "    margin: 2px;\n",
       "    direction: ltr;\n",
       "    unicode-bidi: embed;\n",
       "    border: var(--meta-width) solid var(--meta-color);\n",
       "    border-radius: var(--meta-width);\n",
       "}\n",
       ".features div,.features span {\n",
       "    padding: 0;\n",
       "    margin: -2px 0;\n",
       "}\n",
       ".features .f {\n",
       "    font-family: sans-serif;\n",
       "    font-size: small;\n",
       "    font-weight: normal;\n",
       "    color: #5555bb;\n",
       "}\n",
       ".features .xft {\n",
       "  color: #000000;\n",
       "  background-color: #eeeeee;\n",
       "  font-size: medium;\n",
       "  margin: 2px 0px;\n",
       "}\n",
       ".features .xft .f {\n",
       "  color: #000000;\n",
       "  background-color: #eeeeee;\n",
       "  font-size: small;\n",
       "  font-weight: normal;\n",
       "}\n",
       ".tfsechead {\n",
       "    font-family: sans-serif;\n",
       "    font-size: small;\n",
       "    font-weight: bold;\n",
       "    color: var(--tfsechead);\n",
       "    unicode-bidi: embed;\n",
       "    text-align: start;\n",
       "}\n",
       ".structure {\n",
       "    font-family: sans-serif;\n",
       "    font-size: small;\n",
       "    font-weight: bold;\n",
       "    color: var(--structure);\n",
       "    unicode-bidi: embed;\n",
       "    text-align: start;\n",
       "}\n",
       ".comments {\n",
       "    display: flex;\n",
       "    justify-content: flex-start;\n",
       "    align-items: flex-start;\n",
       "    align-content: flex-start;\n",
       "    flex-flow: column nowrap;\n",
       "}\n",
       ".nd, a:link.nd {\n",
       "    font-family: sans-serif;\n",
       "    font-size: small;\n",
       "    color: var(--node);\n",
       "    vertical-align: super;\n",
       "    direction: ltr ! important;\n",
       "    unicode-bidi: embed;\n",
       "}\n",
       ".nde, a:link.nde {\n",
       "    font-family: sans-serif;\n",
       "    font-size: small;\n",
       "    color: var(--node);\n",
       "    direction: ltr ! important;\n",
       "    unicode-bidi: embed;\n",
       "}\n",
       ".etf {\n",
       "    font-size: normal;\n",
       "    border-radius: 0.2rem;\n",
       "    border: 1pt solid white;\n",
       "    padding: 0 0.2rem ! important;\n",
       "    margin: 0 0.2rem ! important;\n",
       "}\n",
       ".etfx {\n",
       "    font-size: x-large;\n",
       "}\n",
       ".lex {\n",
       "  color: var(--lex-color);;\n",
       "}\n",
       "#colormapplus, #colormapmin, .ecolormapmin {\n",
       "  font-weight: bold;\n",
       "  border-radius: 0.1rem;\n",
       "  background-color: #eeeeff;\n",
       "  padding: 0 1rem;\n",
       "  margin: 0 1rem;\n",
       "}\n",
       ".clr {\n",
       "  font-style: italic;\n",
       "  font-size: small;\n",
       "}\n",
       ".clmap,.eclmap {\n",
       "  padding: 0;\n",
       "}\n",
       ".children,.children.ltr {\n",
       "    display: flex;\n",
       "    border: 0;\n",
       "    background-color: #ffffff;\n",
       "    justify-content: flex-start;\n",
       "    align-items: flex-start;\n",
       "    align-content: flex-start;\n",
       "}\n",
       ".children.stretch {\n",
       "    align-items: stretch;\n",
       "}\n",
       ".children.hor {\n",
       "    flex-flow: row nowrap;\n",
       "}\n",
       ".children.hor.wrap {\n",
       "    flex-flow: row wrap;\n",
       "}\n",
       ".children.ver {\n",
       "    flex-flow: column nowrap;\n",
       "}\n",
       ".children.ver.wrap {\n",
       "    flex-flow: column wrap;\n",
       "}\n",
       ".contnr {\n",
       "    width: fit-content;\n",
       "    display: flex;\n",
       "    justify-content: flex-start;\n",
       "    align-items: flex-start;\n",
       "    align-content: flex-start;\n",
       "    flex-flow: column nowrap;\n",
       "    background: #ffffff none repeat scroll 0 0;\n",
       "    padding:  10px 2px 2px 2px;\n",
       "    margin: 16px 2px 2px 2px;\n",
       "    border-style: solid;\n",
       "    font-size: small;\n",
       "}\n",
       ".contnr.trm {\n",
       "    background-attachment: local;\n",
       "}\n",
       ".contnr.cnul {\n",
       "    padding:  0;\n",
       "    margin: 0;\n",
       "    border-style: solid;\n",
       "    font-size: xx-small;\n",
       "}\n",
       ".contnr.cnul,.lbl.cnul {\n",
       "    border-color: var(--border-color-nul);\n",
       "    border-width: var(--border-width-nul);\n",
       "    border-radius: var(--border-width-nul);\n",
       "}\n",
       ".contnr.c0,.lbl.c0 {\n",
       "    border-color: var(--border-color0);\n",
       "    border-width: var(--border-width0);\n",
       "    border-radius: var(--border-width0);\n",
       "}\n",
       ".contnr.c1,.lbl.c1 {\n",
       "    border-color: var(--border-color1);\n",
       "    border-width: var(--border-width1);\n",
       "    border-radius: var(--border-width1);\n",
       "}\n",
       ".contnr.c2,.lbl.c2 {\n",
       "    border-color: var(--border-color2);\n",
       "    border-width: var(--border-width2);\n",
       "    border-radius: var(--border-width2);\n",
       "}\n",
       ".contnr.c3,.lbl.c3 {\n",
       "    border-color: var(--border-color3);\n",
       "    border-width: var(--border-width3);\n",
       "    border-radius: var(--border-width3);\n",
       "}\n",
       ".contnr.c4,.lbl.c4 {\n",
       "    border-color: var(--border-color4);\n",
       "    border-width: var(--border-width4);\n",
       "    border-radius: var(--border-width4);\n",
       "}\n",
       "span.plain {\n",
       "    /*display: inline-block;*/\n",
       "    display: inline-flex;\n",
       "    flex-flow: row wrap;\n",
       "    white-space: pre-wrap;\n",
       "}\n",
       "span.break {\n",
       "  flex-basis: 100%;\n",
       "  height: 0;\n",
       "}\n",
       ".plain {\n",
       "    background-color: #ffffff;\n",
       "}\n",
       ".plain.l,.contnr.l,.contnr.l>.lbl {\n",
       "    border-left-style: dotted\n",
       "}\n",
       ".plain.r,.contnr.r,.contnr.r>.lbl {\n",
       "    border-right-style: dotted\n",
       "}\n",
       ".plain.lno,.contnr.lno,.contnr.lno>.lbl {\n",
       "    border-left-style: none\n",
       "}\n",
       ".plain.rno,.contnr.rno,.contnr.rno>.lbl {\n",
       "    border-right-style: none\n",
       "}\n",
       ".plain.l {\n",
       "    padding-left: 4px;\n",
       "    margin-left: 2px;\n",
       "    border-width: var(--border-width-plain);\n",
       "}\n",
       ".plain.r {\n",
       "    padding-right: 4px;\n",
       "    margin-right: 2px;\n",
       "    border-width: var(--border-width-plain);\n",
       "}\n",
       ".lbl {\n",
       "    font-family: monospace;\n",
       "    margin-top: -24px;\n",
       "    margin-left: 20px;\n",
       "    background: #ffffff none repeat scroll 0 0;\n",
       "    padding: 0 6px;\n",
       "    border-style: solid;\n",
       "    display: block;\n",
       "    color: var(--label)\n",
       "}\n",
       ".lbl.trm {\n",
       "    background-attachment: local;\n",
       "    margin-top: 2px;\n",
       "    margin-left: 2px;\n",
       "    padding: 2px 2px;\n",
       "    border-style: none;\n",
       "}\n",
       ".lbl.cnul {\n",
       "    font-size: xx-small;\n",
       "}\n",
       ".lbl.c0 {\n",
       "    font-size: small;\n",
       "}\n",
       ".lbl.c1 {\n",
       "    font-size: small;\n",
       "}\n",
       ".lbl.c2 {\n",
       "    font-size: medium;\n",
       "}\n",
       ".lbl.c3 {\n",
       "    font-size: medium;\n",
       "}\n",
       ".lbl.c4 {\n",
       "    font-size: large;\n",
       "}\n",
       ".occs, a:link.occs {\n",
       "    font-size: small;\n",
       "}\n",
       "\n",
       "/* PROVENANCE */\n",
       "\n",
       "div.prov {\n",
       "\tmargin: 40px;\n",
       "\tpadding: 20px;\n",
       "\tborder: 2px solid var(--fog-rim);\n",
       "}\n",
       "div.pline {\n",
       "\tdisplay: flex;\n",
       "\tflex-flow: row nowrap;\n",
       "\tjustify-content: stretch;\n",
       "\talign-items: baseline;\n",
       "}\n",
       "div.p2line {\n",
       "\tmargin-left: 2em;\n",
       "\tdisplay: flex;\n",
       "\tflex-flow: row nowrap;\n",
       "\tjustify-content: stretch;\n",
       "\talign-items: baseline;\n",
       "}\n",
       "div.psline {\n",
       "\tdisplay: flex;\n",
       "\tflex-flow: row nowrap;\n",
       "\tjustify-content: stretch;\n",
       "\talign-items: baseline;\n",
       "\tbackground-color: var(--gold-mist-back);\n",
       "}\n",
       "div.pname {\n",
       "\tflex: 0 0 5rem;\n",
       "\tfont-weight: bold;\n",
       "}\n",
       "div.pval {\n",
       "    flex: 1 1 auto;\n",
       "}\n",
       "\n",
       "/* KEYBOARD */\n",
       ".ccoff {\n",
       "  background-color: inherit;\n",
       "}\n",
       ".ccon {\n",
       "  background-color: yellow ! important;\n",
       "}\n",
       ".ccon,.ccoff {\n",
       "  padding: 0.2rem;\n",
       "  margin: 0.2rem;\n",
       "  border: 0.1rem solid var(--letter-box-border);\n",
       "  border-radius: 0.1rem;\n",
       "}\n",
       ".ccline {\n",
       "  font-size: xx-large ! important;\n",
       "  font-weight: bold;\n",
       "  line-height: 2em ! important;\n",
       "}\n",
       "/* TF header */\n",
       "\n",
       "summary {\n",
       "  /* needed to override the normalize.less\n",
       "   * in the classical Jupyter Notebook\n",
       "   */\n",
       "  display: list-item ! important;\n",
       "}\n",
       "\n",
       ".fcorpus {\n",
       "  display: flex;\n",
       "  flex-flow: column nowrap;\n",
       "  justify-content: flex-start;\n",
       "  align-items: flex-start;\n",
       "  align-content: flex-start;\n",
       "  overflow: auto;\n",
       "}\n",
       ".frow {\n",
       "  display: flex;\n",
       "  flex-flow: row nowrap;\n",
       "  justify-content: flex-start;\n",
       "  align-items: flex-start;\n",
       "  align-content: flex-start;\n",
       "}\n",
       ".fmeta {\n",
       "  display: flex;\n",
       "  flex-flow: column nowrap;\n",
       "  justify-content: flex-start;\n",
       "  align-items: flex-start;\n",
       "  align-content: flex-start;\n",
       "}\n",
       ".fmetarow {\n",
       "  display: flex;\n",
       "  flex-flow: row nowrap;\n",
       "  justify-content: flex-start;\n",
       "  align-items: flex-start;\n",
       "  align-content: flex-start;\n",
       "}\n",
       ".fmetakey {\n",
       "  min-width: 8em;\n",
       "  font-family: monospace;\n",
       "}\n",
       ".fnamecat {\n",
       "  min-width: 8em;\n",
       "}\n",
       ".fnamecat.edge {\n",
       "  font-weight: bold;\n",
       "  font-style: italic;\n",
       "}\n",
       ".fmono {\n",
       "    font-family: monospace;\n",
       "}\n",
       "\n",
       ":root {\n",
       "\t--node:               hsla(120, 100%,  20%, 1.0  );\n",
       "\t--label:              hsla(  0, 100%,  20%, 1.0  );\n",
       "\t--tfsechead:          hsla(  0, 100%,  25%, 1.0  );\n",
       "\t--structure:          hsla(120, 100%,  25%, 1.0  );\n",
       "\t--features:           hsla(  0,   0%,  30%, 1.0  );\n",
       "  --text-color:         hsla( 60,  80%,  10%, 1.0  );\n",
       "  --lex-color:          hsla(220,  90%,  60%, 1.0  );\n",
       "  --meta-color:         hsla(  0,   0%,  90%, 0.7  );\n",
       "  --meta-width:         3px;\n",
       "  --border-color-nul:   hsla(  0,   0%,  90%, 0.5  );\n",
       "  --border-color0:      hsla(  0,   0%,  90%, 0.9  );\n",
       "  --border-color1:      hsla(  0,   0%,  80%, 0.9  );\n",
       "  --border-color2:      hsla(  0,   0%,  70%, 0.9  );\n",
       "  --border-color3:      hsla(  0,   0%,  80%, 0.8  );\n",
       "  --border-color4:      hsla(  0,   0%,  60%, 0.9  );\n",
       "\t--letter-box-border:  hsla(  0,   0%,  80%, 0.5  );\n",
       "  --border-width-nul:   2px;\n",
       "  --border-width0:      2px;\n",
       "  --border-width1:      3px;\n",
       "  --border-width2:      4px;\n",
       "  --border-width3:      6px;\n",
       "  --border-width4:      5px;\n",
       "  --border-width-plain: 2px;\n",
       "}\n",
       ".hl {\n",
       "  background-color: var(--hl-strong);\n",
       "}\n",
       "span.hl {\n",
       "\tbackground-color: var(--hl-strong);\n",
       "\tborder-width: 0;\n",
       "\tborder-radius: 2px;\n",
       "\tborder-style: solid;\n",
       "}\n",
       "div.contnr.hl,div.lbl.hl {\n",
       "  background-color: var(--hl-strong);\n",
       "}\n",
       "div.contnr.hl {\n",
       "  border-color: var(--hl-rim) ! important;\n",
       "\tborder-width: 4px ! important;\n",
       "}\n",
       "\n",
       "span.hlbx {\n",
       "\tborder-color: var(--hl-rim);\n",
       "\tborder-width: 4px ! important;\n",
       "\tborder-style: solid;\n",
       "\tborder-radius: 6px;\n",
       "  padding: 4px;\n",
       "  margin: 4px;\n",
       "}\n",
       ".ehl {\n",
       "  background-color: var(--ehl-strong);\n",
       "}\n",
       "\n",
       ":root {\n",
       "\t--hl-strong:        hsla( 60, 100%,  70%, 0.9  );\n",
       "\t--hl-rim:           hsla( 55,  80%,  50%, 1.0  );\n",
       "\t--ehl-strong:       hsla(240, 100%,  70%, 0.9  );\n",
       "}\n",
       "</style>"
      ],
      "text/plain": [
       "<IPython.core.display.HTML object>"
      ]
     },
     "metadata": {},
     "output_type": "display_data"
    },
    {
     "data": {
      "text/html": [
       "\n",
       "<script>\n",
       "globalThis.copyChar = (el, c) => {\n",
       "    for (const el of document.getElementsByClassName('ccon')) {\n",
       "        el.className = 'ccoff'\n",
       "    }\n",
       "    el.className = 'ccon'\n",
       "    navigator.clipboard.writeText(String.fromCharCode(c))\n",
       "}\n",
       "</script>\n"
      ],
      "text/plain": [
       "<IPython.core.display.HTML object>"
      ]
     },
     "metadata": {},
     "output_type": "display_data"
    },
    {
     "data": {
      "text/markdown": [
       "**Locating corpus resources ...**"
      ],
      "text/plain": [
       "<IPython.core.display.Markdown object>"
      ]
     },
     "metadata": {},
     "output_type": "display_data"
    },
    {
     "data": {
      "text/html": [
       "<b title=\"local release\">app:</b> <span title=\"rv1.8=#gd905e3fb6e80d0fa537600337614adc2af157309 offline under C:/Users/tonyj/text-fabric-data/github\">~/text-fabric-data/github/etcbc/bhsa/app</span>"
      ],
      "text/plain": [
       "<IPython.core.display.HTML object>"
      ]
     },
     "metadata": {},
     "output_type": "display_data"
    },
    {
     "data": {
      "text/html": [
       "<b title=\"local release\">data:</b> <span title=\"rv1.8=#gd905e3fb6e80d0fa537600337614adc2af157309 offline under C:/Users/tonyj/text-fabric-data/github\">~/text-fabric-data/github/etcbc/bhsa/tf/2021</span>"
      ],
      "text/plain": [
       "<IPython.core.display.HTML object>"
      ]
     },
     "metadata": {},
     "output_type": "display_data"
    },
    {
     "data": {
      "text/html": [
       "<b title=\"local commit\">data:</b> <span title=\"#79c84ec8b922c7d9632449b2d3a41324294cea03 offline under C:/Users/tonyj/text-fabric-data/github\">~/text-fabric-data/github/tonyjurg/BHSaddons/tf/2021</span>"
      ],
      "text/plain": [
       "<IPython.core.display.HTML object>"
      ]
     },
     "metadata": {},
     "output_type": "display_data"
    },
    {
     "data": {
      "text/html": [
       "<b title=\"local release\">data:</b> <span title=\"rv2.1=#gaba4367b49750089e4e4122415a77cac43bd97bc offline under C:/Users/tonyj/text-fabric-data/github\">~/text-fabric-data/github/etcbc/phono/tf/2021</span>"
      ],
      "text/plain": [
       "<IPython.core.display.HTML object>"
      ]
     },
     "metadata": {},
     "output_type": "display_data"
    },
    {
     "data": {
      "text/html": [
       "<b title=\"local release\">data:</b> <span title=\"rv2.1=#f45f6cc3c4f933dba6e649f49cdb14a40dcf333f offline under C:/Users/tonyj/text-fabric-data/github\">~/text-fabric-data/github/etcbc/parallels/tf/2021</span>"
      ],
      "text/plain": [
       "<IPython.core.display.HTML object>"
      ]
     },
     "metadata": {},
     "output_type": "display_data"
    },
    {
     "data": {
      "text/html": [
       "\n",
       "            <b>TF:</b> <a target=\"_blank\" href=\"https://annotation.github.io/text-fabric/tf/cheatsheet.html\" title=\"text-fabric api\">TF API 12.6.2</a>, <a target=\"_blank\" href=\"https://github.com/etcbc/bhsa/blob/master/app\" title=\"etcbc/bhsa app\">etcbc/bhsa/app  v3</a>, <a target=\"_blank\" href=\"https://annotation.github.io/text-fabric/tf/about/searchusage.html\" title=\"Search Templates Introduction and Reference\">Search Reference</a><br>\n",
       "            <b>Data:</b> <a target=\"_blank\" href=\"https://etcbc.github.io/bhsa/\" title=\"provenance of BHSA = Biblia Hebraica Stuttgartensia Amstelodamensis\">etcbc - bhsa 2021</a>, <a target=\"_blank\" href=\"https://annotation.github.io/text-fabric/tf/writing/hebrew.html\" title=\"How TF features represent text\">Character table</a>, <a target=\"_blank\" href=\"https://etcbc.github.io/bhsa/features/0_home\" title=\"etcbc - bhsa feature documentation\">Feature docs</a><br>\n",
       "            <details class=\"nodeinfo\"><summary><b>Node types</b></summary>\n",
       "<table class=\"nodeinfo\">\n",
       "    <tr>\n",
       "        <th>Name</th>\n",
       "        <th># of nodes</th>\n",
       "        <th># slots / node</th>\n",
       "        <th>% coverage</th>\n",
       "    </tr>\n",
       "\n",
       "<tr>\n",
       "    <th>book</th>\n",
       "    <td>39</td>\n",
       "    <td>10938.21</td>\n",
       "    <td><b>100</b></td>\n",
       "</tr>\n",
       "\n",
       "<tr>\n",
       "    <th>chapter</th>\n",
       "    <td>929</td>\n",
       "    <td>459.19</td>\n",
       "    <td><b>100</b></td>\n",
       "</tr>\n",
       "\n",
       "<tr>\n",
       "    <th>lex</th>\n",
       "    <td>9230</td>\n",
       "    <td>46.22</td>\n",
       "    <td><b>100</b></td>\n",
       "</tr>\n",
       "\n",
       "<tr>\n",
       "    <th>verse</th>\n",
       "    <td>23213</td>\n",
       "    <td>18.38</td>\n",
       "    <td><b>100</b></td>\n",
       "</tr>\n",
       "\n",
       "<tr>\n",
       "    <th>half_verse</th>\n",
       "    <td>45179</td>\n",
       "    <td>9.44</td>\n",
       "    <td><b>100</b></td>\n",
       "</tr>\n",
       "\n",
       "<tr>\n",
       "    <th>sentence</th>\n",
       "    <td>63717</td>\n",
       "    <td>6.70</td>\n",
       "    <td><b>100</b></td>\n",
       "</tr>\n",
       "\n",
       "<tr>\n",
       "    <th>sentence_atom</th>\n",
       "    <td>64514</td>\n",
       "    <td>6.61</td>\n",
       "    <td><b>100</b></td>\n",
       "</tr>\n",
       "\n",
       "<tr>\n",
       "    <th>clause</th>\n",
       "    <td>88131</td>\n",
       "    <td>4.84</td>\n",
       "    <td><b>100</b></td>\n",
       "</tr>\n",
       "\n",
       "<tr>\n",
       "    <th>clause_atom</th>\n",
       "    <td>90704</td>\n",
       "    <td>4.70</td>\n",
       "    <td><b>100</b></td>\n",
       "</tr>\n",
       "\n",
       "<tr>\n",
       "    <th>phrase</th>\n",
       "    <td>253203</td>\n",
       "    <td>1.68</td>\n",
       "    <td><b>100</b></td>\n",
       "</tr>\n",
       "\n",
       "<tr>\n",
       "    <th>phrase_atom</th>\n",
       "    <td>267532</td>\n",
       "    <td>1.59</td>\n",
       "    <td><b>100</b></td>\n",
       "</tr>\n",
       "\n",
       "<tr>\n",
       "    <th>subphrase</th>\n",
       "    <td>113850</td>\n",
       "    <td>1.42</td>\n",
       "    <td>38</td>\n",
       "</tr>\n",
       "\n",
       "<tr>\n",
       "    <th><i>word</i></th>\n",
       "    <td>426590</td>\n",
       "    <td>1.00</td>\n",
       "    <td><b>100</b></td>\n",
       "</tr>\n",
       "</table></details>\n",
       "            <b>Sets:</b> no custom sets<br>\n",
       "            <b>Features:</b><br>\n",
       "<details><summary><b>Parallel Passages</b></summary>\n",
       "    <div class=\"fcorpus\">\n",
       "\n",
       "<div class=\"frow\">\n",
       "    <div class=\"fnamecat edge\">\n",
       "<a target=\"_blank\" href=\"https://nbviewer.jupyter.org/github/etcbc/parallels/blob/master/programs/parallels.ipynb\" title=\"~/text-fabric-data/github/etcbc/parallels/tf/2021/crossref.tf\">crossref</a>\n",
       "</div>\n",
       "<div class=\"fmono\">int</div>\n",
       "\n",
       "<span> 🆗 links between similar passages</span>\n",
       "\n",
       "</div>\n",
       "\n",
       "    </div>\n",
       "</details>\n",
       "\n",
       "<details><summary><b>BHSA = Biblia Hebraica Stuttgartensia Amstelodamensis</b></summary>\n",
       "    <div class=\"fcorpus\">\n",
       "\n",
       "<div class=\"frow\">\n",
       "    <div class=\"fnamecat \">\n",
       "<a target=\"_blank\" href=\"https://etcbc.github.io/bhsa/features/book\" title=\"~/text-fabric-data/github/etcbc/bhsa/tf/2021/book.tf\">book</a>\n",
       "</div>\n",
       "<div class=\"fmono\">str</div>\n",
       "\n",
       "<span> ✅ book name in Latin (Genesis; Numeri; Reges1; ...)</span>\n",
       "\n",
       "</div>\n",
       "\n",
       "<div class=\"frow\">\n",
       "    <div class=\"fnamecat \">\n",
       "<a target=\"_blank\" href=\"https://etcbc.github.io/bhsa/features/book@ll\" title=\"~/text-fabric-data/github/etcbc/bhsa/tf/2021/book@am.tf\">book@ll</a>\n",
       "</div>\n",
       "<div class=\"fmono\">str</div>\n",
       "\n",
       "<span> ✅ book name in amharic (ኣማርኛ)</span>\n",
       "\n",
       "</div>\n",
       "\n",
       "<div class=\"frow\">\n",
       "    <div class=\"fnamecat \">\n",
       "<a target=\"_blank\" href=\"https://etcbc.github.io/bhsa/features/chapter\" title=\"~/text-fabric-data/github/etcbc/bhsa/tf/2021/chapter.tf\">chapter</a>\n",
       "</div>\n",
       "<div class=\"fmono\">int</div>\n",
       "\n",
       "<span> ✅ chapter number (1; 2; 3; ...)</span>\n",
       "\n",
       "</div>\n",
       "\n",
       "<div class=\"frow\">\n",
       "    <div class=\"fnamecat \">\n",
       "<a target=\"_blank\" href=\"https://etcbc.github.io/bhsa/features/code\" title=\"~/text-fabric-data/github/etcbc/bhsa/tf/2021/code.tf\">code</a>\n",
       "</div>\n",
       "<div class=\"fmono\">int</div>\n",
       "\n",
       "<span> ✅ identifier of a clause atom relationship (0; 74; 367; ...)</span>\n",
       "\n",
       "</div>\n",
       "\n",
       "<div class=\"frow\">\n",
       "    <div class=\"fnamecat \">\n",
       "<a target=\"_blank\" href=\"https://etcbc.github.io/bhsa/features/det\" title=\"~/text-fabric-data/github/etcbc/bhsa/tf/2021/det.tf\">det</a>\n",
       "</div>\n",
       "<div class=\"fmono\">str</div>\n",
       "\n",
       "<span> ✅ determinedness of phrase(atom) (det; und; NA.)</span>\n",
       "\n",
       "</div>\n",
       "\n",
       "<div class=\"frow\">\n",
       "    <div class=\"fnamecat \">\n",
       "<a target=\"_blank\" href=\"https://etcbc.github.io/bhsa/features/domain\" title=\"~/text-fabric-data/github/etcbc/bhsa/tf/2021/domain.tf\">domain</a>\n",
       "</div>\n",
       "<div class=\"fmono\">str</div>\n",
       "\n",
       "<span> ✅ text type of clause (? (Unknown); N (narrative); D (discursive); Q (Quotation).)</span>\n",
       "\n",
       "</div>\n",
       "\n",
       "<div class=\"frow\">\n",
       "    <div class=\"fnamecat \">\n",
       "<a target=\"_blank\" href=\"https://etcbc.github.io/bhsa/features/freq_lex\" title=\"~/text-fabric-data/github/etcbc/bhsa/tf/2021/freq_lex.tf\">freq_lex</a>\n",
       "</div>\n",
       "<div class=\"fmono\">int</div>\n",
       "\n",
       "<span> ✅ frequency of lexemes</span>\n",
       "\n",
       "</div>\n",
       "\n",
       "<div class=\"frow\">\n",
       "    <div class=\"fnamecat \">\n",
       "<a target=\"_blank\" href=\"https://etcbc.github.io/bhsa/features/function\" title=\"~/text-fabric-data/github/etcbc/bhsa/tf/2021/function.tf\">function</a>\n",
       "</div>\n",
       "<div class=\"fmono\">str</div>\n",
       "\n",
       "<span> ✅ syntactic function of phrase (Cmpl; Objc; Pred; ...)</span>\n",
       "\n",
       "</div>\n",
       "\n",
       "<div class=\"frow\">\n",
       "    <div class=\"fnamecat \">\n",
       "<a target=\"_blank\" href=\"https://etcbc.github.io/bhsa/features/g_cons\" title=\"~/text-fabric-data/github/etcbc/bhsa/tf/2021/g_cons.tf\">g_cons</a>\n",
       "</div>\n",
       "<div class=\"fmono\">str</div>\n",
       "\n",
       "<span> ✅ word consonantal-transliterated (B R>CJT BR> >LHJM ...)</span>\n",
       "\n",
       "</div>\n",
       "\n",
       "<div class=\"frow\">\n",
       "    <div class=\"fnamecat \">\n",
       "<a target=\"_blank\" href=\"https://etcbc.github.io/bhsa/features/g_cons_utf8\" title=\"~/text-fabric-data/github/etcbc/bhsa/tf/2021/g_cons_utf8.tf\">g_cons_utf8</a>\n",
       "</div>\n",
       "<div class=\"fmono\">str</div>\n",
       "\n",
       "<span> ✅ word consonantal-Hebrew (ב ראשׁית ברא אלהים)</span>\n",
       "\n",
       "</div>\n",
       "\n",
       "<div class=\"frow\">\n",
       "    <div class=\"fnamecat \">\n",
       "<a target=\"_blank\" href=\"https://etcbc.github.io/bhsa/features/g_lex\" title=\"~/text-fabric-data/github/etcbc/bhsa/tf/2021/g_lex.tf\">g_lex</a>\n",
       "</div>\n",
       "<div class=\"fmono\">str</div>\n",
       "\n",
       "<span> ✅ lexeme pointed-transliterated (B.:- R;>CIJT B.@R@> >:ELOH ...)</span>\n",
       "\n",
       "</div>\n",
       "\n",
       "<div class=\"frow\">\n",
       "    <div class=\"fnamecat \">\n",
       "<a target=\"_blank\" href=\"https://etcbc.github.io/bhsa/features/g_lex_utf8\" title=\"~/text-fabric-data/github/etcbc/bhsa/tf/2021/g_lex_utf8.tf\">g_lex_utf8</a>\n",
       "</div>\n",
       "<div class=\"fmono\">str</div>\n",
       "\n",
       "<span> ✅ lexeme pointed-Hebrew (בְּ רֵאשִׁית בָּרָא אֱלֹה)</span>\n",
       "\n",
       "</div>\n",
       "\n",
       "<div class=\"frow\">\n",
       "    <div class=\"fnamecat \">\n",
       "<a target=\"_blank\" href=\"https://etcbc.github.io/bhsa/features/g_word\" title=\"~/text-fabric-data/github/etcbc/bhsa/tf/2021/g_word.tf\">g_word</a>\n",
       "</div>\n",
       "<div class=\"fmono\">str</div>\n",
       "\n",
       "<span> ✅ word pointed-transliterated (B.:- R;>CI73JT B.@R@74> >:ELOHI92JM)</span>\n",
       "\n",
       "</div>\n",
       "\n",
       "<div class=\"frow\">\n",
       "    <div class=\"fnamecat \">\n",
       "<a target=\"_blank\" href=\"https://etcbc.github.io/bhsa/features/g_word_utf8\" title=\"~/text-fabric-data/github/etcbc/bhsa/tf/2021/g_word_utf8.tf\">g_word_utf8</a>\n",
       "</div>\n",
       "<div class=\"fmono\">str</div>\n",
       "\n",
       "<span> ✅ word pointed-Hebrew (בְּ רֵאשִׁ֖ית בָּרָ֣א אֱלֹהִ֑ים)</span>\n",
       "\n",
       "</div>\n",
       "\n",
       "<div class=\"frow\">\n",
       "    <div class=\"fnamecat \">\n",
       "<a target=\"_blank\" href=\"https://etcbc.github.io/bhsa/features/gloss\" title=\"~/text-fabric-data/github/etcbc/bhsa/tf/2021/gloss.tf\">gloss</a>\n",
       "</div>\n",
       "<div class=\"fmono\">str</div>\n",
       "\n",
       "<span> 🆗 english translation of lexeme (beginning create god(s))</span>\n",
       "\n",
       "</div>\n",
       "\n",
       "<div class=\"frow\">\n",
       "    <div class=\"fnamecat \">\n",
       "<a target=\"_blank\" href=\"https://etcbc.github.io/bhsa/features/gn\" title=\"~/text-fabric-data/github/etcbc/bhsa/tf/2021/gn.tf\">gn</a>\n",
       "</div>\n",
       "<div class=\"fmono\">str</div>\n",
       "\n",
       "<span> ✅ grammatical gender (m; f; NA; unknown.)</span>\n",
       "\n",
       "</div>\n",
       "\n",
       "<div class=\"frow\">\n",
       "    <div class=\"fnamecat \">\n",
       "<a target=\"_blank\" href=\"https://etcbc.github.io/bhsa/features/label\" title=\"~/text-fabric-data/github/etcbc/bhsa/tf/2021/label.tf\">label</a>\n",
       "</div>\n",
       "<div class=\"fmono\">str</div>\n",
       "\n",
       "<span> ✅ (half-)verse label (half verses: A; B; C; verses:  GEN 01,02)</span>\n",
       "\n",
       "</div>\n",
       "\n",
       "<div class=\"frow\">\n",
       "    <div class=\"fnamecat \">\n",
       "<a target=\"_blank\" href=\"https://etcbc.github.io/bhsa/features/language\" title=\"~/text-fabric-data/github/etcbc/bhsa/tf/2021/language.tf\">language</a>\n",
       "</div>\n",
       "<div class=\"fmono\">str</div>\n",
       "\n",
       "<span> ✅ of word or lexeme (Hebrew; Aramaic.)</span>\n",
       "\n",
       "</div>\n",
       "\n",
       "<div class=\"frow\">\n",
       "    <div class=\"fnamecat \">\n",
       "<a target=\"_blank\" href=\"https://etcbc.github.io/bhsa/features/lex\" title=\"~/text-fabric-data/github/etcbc/bhsa/tf/2021/lex.tf\">lex</a>\n",
       "</div>\n",
       "<div class=\"fmono\">str</div>\n",
       "\n",
       "<span> ✅ lexeme consonantal-transliterated (B R>CJT/ BR>[ >LHJM/)</span>\n",
       "\n",
       "</div>\n",
       "\n",
       "<div class=\"frow\">\n",
       "    <div class=\"fnamecat \">\n",
       "<a target=\"_blank\" href=\"https://etcbc.github.io/bhsa/features/lex_utf8\" title=\"~/text-fabric-data/github/etcbc/bhsa/tf/2021/lex_utf8.tf\">lex_utf8</a>\n",
       "</div>\n",
       "<div class=\"fmono\">str</div>\n",
       "\n",
       "<span> ✅ lexeme consonantal-Hebrew (ב ראשׁית֜ ברא אלהים֜)</span>\n",
       "\n",
       "</div>\n",
       "\n",
       "<div class=\"frow\">\n",
       "    <div class=\"fnamecat \">\n",
       "<a target=\"_blank\" href=\"https://etcbc.github.io/bhsa/features/ls\" title=\"~/text-fabric-data/github/etcbc/bhsa/tf/2021/ls.tf\">ls</a>\n",
       "</div>\n",
       "<div class=\"fmono\">str</div>\n",
       "\n",
       "<span> ✅ lexical set, subclassification of part-of-speech (card; ques; mult)</span>\n",
       "\n",
       "</div>\n",
       "\n",
       "<div class=\"frow\">\n",
       "    <div class=\"fnamecat \">\n",
       "<a target=\"_blank\" href=\"https://etcbc.github.io/bhsa/features/nametype\" title=\"~/text-fabric-data/github/etcbc/bhsa/tf/2021/nametype.tf\">nametype</a>\n",
       "</div>\n",
       "<div class=\"fmono\">str</div>\n",
       "\n",
       "<span> ⚠️ named entity type (pers; mens; gens; topo; ppde.)</span>\n",
       "\n",
       "</div>\n",
       "\n",
       "<div class=\"frow\">\n",
       "    <div class=\"fnamecat \">\n",
       "<a target=\"_blank\" href=\"https://etcbc.github.io/bhsa/features/nme\" title=\"~/text-fabric-data/github/etcbc/bhsa/tf/2021/nme.tf\">nme</a>\n",
       "</div>\n",
       "<div class=\"fmono\">str</div>\n",
       "\n",
       "<span> ✅ nominal ending consonantal-transliterated (absent; n/a; JM, ...)</span>\n",
       "\n",
       "</div>\n",
       "\n",
       "<div class=\"frow\">\n",
       "    <div class=\"fnamecat \">\n",
       "<a target=\"_blank\" href=\"https://etcbc.github.io/bhsa/features/nu\" title=\"~/text-fabric-data/github/etcbc/bhsa/tf/2021/nu.tf\">nu</a>\n",
       "</div>\n",
       "<div class=\"fmono\">str</div>\n",
       "\n",
       "<span> ✅ grammatical number (sg; du; pl; NA; unknown.)</span>\n",
       "\n",
       "</div>\n",
       "\n",
       "<div class=\"frow\">\n",
       "    <div class=\"fnamecat \">\n",
       "<a target=\"_blank\" href=\"https://etcbc.github.io/bhsa/features/number\" title=\"~/text-fabric-data/github/etcbc/bhsa/tf/2021/number.tf\">number</a>\n",
       "</div>\n",
       "<div class=\"fmono\">int</div>\n",
       "\n",
       "<span> ✅ sequence number of an object within its context</span>\n",
       "\n",
       "</div>\n",
       "\n",
       "<div class=\"frow\">\n",
       "    <div class=\"fnamecat \">\n",
       "<a target=\"_blank\" href=\"https://etcbc.github.io/bhsa/features/otype\" title=\"~/text-fabric-data/github/etcbc/bhsa/tf/2021/otype.tf\">otype</a>\n",
       "</div>\n",
       "<div class=\"fmono\">str</div>\n",
       "\n",
       "<span> </span>\n",
       "\n",
       "</div>\n",
       "\n",
       "<div class=\"frow\">\n",
       "    <div class=\"fnamecat \">\n",
       "<a target=\"_blank\" href=\"https://etcbc.github.io/bhsa/features/pargr\" title=\"~/text-fabric-data/github/etcbc/bhsa/tf/2021/pargr.tf\">pargr</a>\n",
       "</div>\n",
       "<div class=\"fmono\">str</div>\n",
       "\n",
       "<span> 🆗 hierarchical paragraph number (1; 1.2; 1.2.3.4; ...)</span>\n",
       "\n",
       "</div>\n",
       "\n",
       "<div class=\"frow\">\n",
       "    <div class=\"fnamecat \">\n",
       "<a target=\"_blank\" href=\"https://etcbc.github.io/bhsa/features/pdp\" title=\"~/text-fabric-data/github/etcbc/bhsa/tf/2021/pdp.tf\">pdp</a>\n",
       "</div>\n",
       "<div class=\"fmono\">str</div>\n",
       "\n",
       "<span> ✅ phrase dependent part-of-speech (art; verb; subs; nmpr, ...)</span>\n",
       "\n",
       "</div>\n",
       "\n",
       "<div class=\"frow\">\n",
       "    <div class=\"fnamecat \">\n",
       "<a target=\"_blank\" href=\"https://etcbc.github.io/bhsa/features/pfm\" title=\"~/text-fabric-data/github/etcbc/bhsa/tf/2021/pfm.tf\">pfm</a>\n",
       "</div>\n",
       "<div class=\"fmono\">str</div>\n",
       "\n",
       "<span> ✅ preformative consonantal-transliterated (absent; n/a; J, ...)</span>\n",
       "\n",
       "</div>\n",
       "\n",
       "<div class=\"frow\">\n",
       "    <div class=\"fnamecat \">\n",
       "<a target=\"_blank\" href=\"https://etcbc.github.io/bhsa/features/prs\" title=\"~/text-fabric-data/github/etcbc/bhsa/tf/2021/prs.tf\">prs</a>\n",
       "</div>\n",
       "<div class=\"fmono\">str</div>\n",
       "\n",
       "<span> ✅ pronominal suffix consonantal-transliterated (absent; n/a; W; ...)</span>\n",
       "\n",
       "</div>\n",
       "\n",
       "<div class=\"frow\">\n",
       "    <div class=\"fnamecat \">\n",
       "<a target=\"_blank\" href=\"https://etcbc.github.io/bhsa/features/prs_gn\" title=\"~/text-fabric-data/github/etcbc/bhsa/tf/2021/prs_gn.tf\">prs_gn</a>\n",
       "</div>\n",
       "<div class=\"fmono\">str</div>\n",
       "\n",
       "<span> ✅ pronominal suffix gender (m; f; NA; unknown.)</span>\n",
       "\n",
       "</div>\n",
       "\n",
       "<div class=\"frow\">\n",
       "    <div class=\"fnamecat \">\n",
       "<a target=\"_blank\" href=\"https://etcbc.github.io/bhsa/features/prs_nu\" title=\"~/text-fabric-data/github/etcbc/bhsa/tf/2021/prs_nu.tf\">prs_nu</a>\n",
       "</div>\n",
       "<div class=\"fmono\">str</div>\n",
       "\n",
       "<span> ✅ pronominal suffix number (sg; du; pl; NA; unknown.)</span>\n",
       "\n",
       "</div>\n",
       "\n",
       "<div class=\"frow\">\n",
       "    <div class=\"fnamecat \">\n",
       "<a target=\"_blank\" href=\"https://etcbc.github.io/bhsa/features/prs_ps\" title=\"~/text-fabric-data/github/etcbc/bhsa/tf/2021/prs_ps.tf\">prs_ps</a>\n",
       "</div>\n",
       "<div class=\"fmono\">str</div>\n",
       "\n",
       "<span> ✅ pronominal suffix person (p1; p2; p3; NA; unknown.)</span>\n",
       "\n",
       "</div>\n",
       "\n",
       "<div class=\"frow\">\n",
       "    <div class=\"fnamecat \">\n",
       "<a target=\"_blank\" href=\"https://etcbc.github.io/bhsa/features/ps\" title=\"~/text-fabric-data/github/etcbc/bhsa/tf/2021/ps.tf\">ps</a>\n",
       "</div>\n",
       "<div class=\"fmono\">str</div>\n",
       "\n",
       "<span> ✅ grammatical person (p1; p2; p3; NA; unknown.)</span>\n",
       "\n",
       "</div>\n",
       "\n",
       "<div class=\"frow\">\n",
       "    <div class=\"fnamecat \">\n",
       "<a target=\"_blank\" href=\"https://etcbc.github.io/bhsa/features/qere\" title=\"~/text-fabric-data/github/etcbc/bhsa/tf/2021/qere.tf\">qere</a>\n",
       "</div>\n",
       "<div class=\"fmono\">str</div>\n",
       "\n",
       "<span> ✅ word pointed-transliterated masoretic reading correction</span>\n",
       "\n",
       "</div>\n",
       "\n",
       "<div class=\"frow\">\n",
       "    <div class=\"fnamecat \">\n",
       "<a target=\"_blank\" href=\"https://etcbc.github.io/bhsa/features/qere_trailer\" title=\"~/text-fabric-data/github/etcbc/bhsa/tf/2021/qere_trailer.tf\">qere_trailer</a>\n",
       "</div>\n",
       "<div class=\"fmono\">str</div>\n",
       "\n",
       "<span> ✅ interword material -pointed-transliterated (Masoretic correction)</span>\n",
       "\n",
       "</div>\n",
       "\n",
       "<div class=\"frow\">\n",
       "    <div class=\"fnamecat \">\n",
       "<a target=\"_blank\" href=\"https://etcbc.github.io/bhsa/features/qere_trailer_utf8\" title=\"~/text-fabric-data/github/etcbc/bhsa/tf/2021/qere_trailer_utf8.tf\">qere_trailer_utf8</a>\n",
       "</div>\n",
       "<div class=\"fmono\">str</div>\n",
       "\n",
       "<span> ✅ interword material -pointed-transliterated (Masoretic correction)</span>\n",
       "\n",
       "</div>\n",
       "\n",
       "<div class=\"frow\">\n",
       "    <div class=\"fnamecat \">\n",
       "<a target=\"_blank\" href=\"https://etcbc.github.io/bhsa/features/qere_utf8\" title=\"~/text-fabric-data/github/etcbc/bhsa/tf/2021/qere_utf8.tf\">qere_utf8</a>\n",
       "</div>\n",
       "<div class=\"fmono\">str</div>\n",
       "\n",
       "<span> ✅ word pointed-Hebrew masoretic reading correction</span>\n",
       "\n",
       "</div>\n",
       "\n",
       "<div class=\"frow\">\n",
       "    <div class=\"fnamecat \">\n",
       "<a target=\"_blank\" href=\"https://etcbc.github.io/bhsa/features/rank_lex\" title=\"~/text-fabric-data/github/etcbc/bhsa/tf/2021/rank_lex.tf\">rank_lex</a>\n",
       "</div>\n",
       "<div class=\"fmono\">int</div>\n",
       "\n",
       "<span> ✅ ranking of lexemes based on freqnuecy</span>\n",
       "\n",
       "</div>\n",
       "\n",
       "<div class=\"frow\">\n",
       "    <div class=\"fnamecat \">\n",
       "<a target=\"_blank\" href=\"https://etcbc.github.io/bhsa/features/rela\" title=\"~/text-fabric-data/github/etcbc/bhsa/tf/2021/rela.tf\">rela</a>\n",
       "</div>\n",
       "<div class=\"fmono\">str</div>\n",
       "\n",
       "<span> ✅ linguistic relation between clause/(sub)phrase(atom) (ADJ; MOD; ATR; ...)</span>\n",
       "\n",
       "</div>\n",
       "\n",
       "<div class=\"frow\">\n",
       "    <div class=\"fnamecat \">\n",
       "<a target=\"_blank\" href=\"https://etcbc.github.io/bhsa/features/sp\" title=\"~/text-fabric-data/github/etcbc/bhsa/tf/2021/sp.tf\">sp</a>\n",
       "</div>\n",
       "<div class=\"fmono\">str</div>\n",
       "\n",
       "<span> ✅ part-of-speech (art; verb; subs; nmpr, ...)</span>\n",
       "\n",
       "</div>\n",
       "\n",
       "<div class=\"frow\">\n",
       "    <div class=\"fnamecat \">\n",
       "<a target=\"_blank\" href=\"https://etcbc.github.io/bhsa/features/st\" title=\"~/text-fabric-data/github/etcbc/bhsa/tf/2021/st.tf\">st</a>\n",
       "</div>\n",
       "<div class=\"fmono\">str</div>\n",
       "\n",
       "<span> ✅ state of a noun (a (absolute); c (construct); e (emphatic).)</span>\n",
       "\n",
       "</div>\n",
       "\n",
       "<div class=\"frow\">\n",
       "    <div class=\"fnamecat \">\n",
       "<a target=\"_blank\" href=\"https://etcbc.github.io/bhsa/features/tab\" title=\"~/text-fabric-data/github/etcbc/bhsa/tf/2021/tab.tf\">tab</a>\n",
       "</div>\n",
       "<div class=\"fmono\">int</div>\n",
       "\n",
       "<span> ✅ clause atom: its level in the linguistic embedding</span>\n",
       "\n",
       "</div>\n",
       "\n",
       "<div class=\"frow\">\n",
       "    <div class=\"fnamecat \">\n",
       "<a target=\"_blank\" href=\"https://etcbc.github.io/bhsa/features/trailer\" title=\"~/text-fabric-data/github/etcbc/bhsa/tf/2021/trailer.tf\">trailer</a>\n",
       "</div>\n",
       "<div class=\"fmono\">str</div>\n",
       "\n",
       "<span> ✅ interword material pointed-transliterated (& 00 05 00_P ...)</span>\n",
       "\n",
       "</div>\n",
       "\n",
       "<div class=\"frow\">\n",
       "    <div class=\"fnamecat \">\n",
       "<a target=\"_blank\" href=\"https://etcbc.github.io/bhsa/features/trailer_utf8\" title=\"~/text-fabric-data/github/etcbc/bhsa/tf/2021/trailer_utf8.tf\">trailer_utf8</a>\n",
       "</div>\n",
       "<div class=\"fmono\">str</div>\n",
       "\n",
       "<span> ✅ interword material pointed-Hebrew (־ ׃)</span>\n",
       "\n",
       "</div>\n",
       "\n",
       "<div class=\"frow\">\n",
       "    <div class=\"fnamecat \">\n",
       "<a target=\"_blank\" href=\"https://etcbc.github.io/bhsa/features/txt\" title=\"~/text-fabric-data/github/etcbc/bhsa/tf/2021/txt.tf\">txt</a>\n",
       "</div>\n",
       "<div class=\"fmono\">str</div>\n",
       "\n",
       "<span> ✅ text type of clause and surrounding (repetion of ? N D Q as in feature domain)</span>\n",
       "\n",
       "</div>\n",
       "\n",
       "<div class=\"frow\">\n",
       "    <div class=\"fnamecat \">\n",
       "<a target=\"_blank\" href=\"https://etcbc.github.io/bhsa/features/typ\" title=\"~/text-fabric-data/github/etcbc/bhsa/tf/2021/typ.tf\">typ</a>\n",
       "</div>\n",
       "<div class=\"fmono\">str</div>\n",
       "\n",
       "<span> ✅ clause/phrase(atom) type (VP; NP; Ellp; Ptcp; WayX)</span>\n",
       "\n",
       "</div>\n",
       "\n",
       "<div class=\"frow\">\n",
       "    <div class=\"fnamecat \">\n",
       "<a target=\"_blank\" href=\"https://etcbc.github.io/bhsa/features/uvf\" title=\"~/text-fabric-data/github/etcbc/bhsa/tf/2021/uvf.tf\">uvf</a>\n",
       "</div>\n",
       "<div class=\"fmono\">str</div>\n",
       "\n",
       "<span> ✅ univalent final consonant consonantal-transliterated (absent; N; J; ...)</span>\n",
       "\n",
       "</div>\n",
       "\n",
       "<div class=\"frow\">\n",
       "    <div class=\"fnamecat \">\n",
       "<a target=\"_blank\" href=\"https://etcbc.github.io/bhsa/features/vbe\" title=\"~/text-fabric-data/github/etcbc/bhsa/tf/2021/vbe.tf\">vbe</a>\n",
       "</div>\n",
       "<div class=\"fmono\">str</div>\n",
       "\n",
       "<span> ✅ verbal ending consonantal-transliterated (n/a; W; ...)</span>\n",
       "\n",
       "</div>\n",
       "\n",
       "<div class=\"frow\">\n",
       "    <div class=\"fnamecat \">\n",
       "<a target=\"_blank\" href=\"https://etcbc.github.io/bhsa/features/vbs\" title=\"~/text-fabric-data/github/etcbc/bhsa/tf/2021/vbs.tf\">vbs</a>\n",
       "</div>\n",
       "<div class=\"fmono\">str</div>\n",
       "\n",
       "<span> ✅ root formation consonantal-transliterated (absent; n/a; H; ...)</span>\n",
       "\n",
       "</div>\n",
       "\n",
       "<div class=\"frow\">\n",
       "    <div class=\"fnamecat \">\n",
       "<a target=\"_blank\" href=\"https://etcbc.github.io/bhsa/features/verse\" title=\"~/text-fabric-data/github/etcbc/bhsa/tf/2021/verse.tf\">verse</a>\n",
       "</div>\n",
       "<div class=\"fmono\">int</div>\n",
       "\n",
       "<span> ✅ verse number</span>\n",
       "\n",
       "</div>\n",
       "\n",
       "<div class=\"frow\">\n",
       "    <div class=\"fnamecat \">\n",
       "<a target=\"_blank\" href=\"https://etcbc.github.io/bhsa/features/voc_lex\" title=\"~/text-fabric-data/github/etcbc/bhsa/tf/2021/voc_lex.tf\">voc_lex</a>\n",
       "</div>\n",
       "<div class=\"fmono\">str</div>\n",
       "\n",
       "<span> ✅ vocalized lexeme pointed-transliterated (B.: R;>CIJT BR> >:ELOHIJM)</span>\n",
       "\n",
       "</div>\n",
       "\n",
       "<div class=\"frow\">\n",
       "    <div class=\"fnamecat \">\n",
       "<a target=\"_blank\" href=\"https://etcbc.github.io/bhsa/features/voc_lex_utf8\" title=\"~/text-fabric-data/github/etcbc/bhsa/tf/2021/voc_lex_utf8.tf\">voc_lex_utf8</a>\n",
       "</div>\n",
       "<div class=\"fmono\">str</div>\n",
       "\n",
       "<span> ✅ vocalized lexeme pointed-Hebrew (בְּ רֵאשִׁית ברא אֱלֹהִים)</span>\n",
       "\n",
       "</div>\n",
       "\n",
       "<div class=\"frow\">\n",
       "    <div class=\"fnamecat \">\n",
       "<a target=\"_blank\" href=\"https://etcbc.github.io/bhsa/features/vs\" title=\"~/text-fabric-data/github/etcbc/bhsa/tf/2021/vs.tf\">vs</a>\n",
       "</div>\n",
       "<div class=\"fmono\">str</div>\n",
       "\n",
       "<span> ✅ verbal stem (qal; piel; hif; apel; pael)</span>\n",
       "\n",
       "</div>\n",
       "\n",
       "<div class=\"frow\">\n",
       "    <div class=\"fnamecat \">\n",
       "<a target=\"_blank\" href=\"https://etcbc.github.io/bhsa/features/vt\" title=\"~/text-fabric-data/github/etcbc/bhsa/tf/2021/vt.tf\">vt</a>\n",
       "</div>\n",
       "<div class=\"fmono\">str</div>\n",
       "\n",
       "<span> ✅ verbal tense (perf; impv; wayq; infc)</span>\n",
       "\n",
       "</div>\n",
       "\n",
       "<div class=\"frow\">\n",
       "    <div class=\"fnamecat edge\">\n",
       "<a target=\"_blank\" href=\"https://etcbc.github.io/bhsa/features/mother\" title=\"~/text-fabric-data/github/etcbc/bhsa/tf/2021/mother.tf\">mother</a>\n",
       "</div>\n",
       "<div class=\"fmono\">none</div>\n",
       "\n",
       "<span> ✅ linguistic dependency between textual objects</span>\n",
       "\n",
       "</div>\n",
       "\n",
       "<div class=\"frow\">\n",
       "    <div class=\"fnamecat edge\">\n",
       "<a target=\"_blank\" href=\"https://etcbc.github.io/bhsa/features/oslots\" title=\"~/text-fabric-data/github/etcbc/bhsa/tf/2021/oslots.tf\">oslots</a>\n",
       "</div>\n",
       "<div class=\"fmono\">none</div>\n",
       "\n",
       "<span> </span>\n",
       "\n",
       "</div>\n",
       "\n",
       "    </div>\n",
       "</details>\n",
       "\n",
       "<details><summary><b>Phonetic Transcriptions</b></summary>\n",
       "    <div class=\"fcorpus\">\n",
       "\n",
       "<div class=\"frow\">\n",
       "    <div class=\"fnamecat \">\n",
       "<a target=\"_blank\" href=\"https://nbviewer.jupyter.org/github/etcbc/phono/blob/master/programs/phono.ipynb\" title=\"~/text-fabric-data/github/etcbc/phono/tf/2021/phono.tf\">phono</a>\n",
       "</div>\n",
       "<div class=\"fmono\">str</div>\n",
       "\n",
       "<span> 🆗 phonological transcription (bᵊ rēšˌîṯ bārˈā ʔᵉlōhˈîm)</span>\n",
       "\n",
       "</div>\n",
       "\n",
       "<div class=\"frow\">\n",
       "    <div class=\"fnamecat \">\n",
       "<a target=\"_blank\" href=\"https://nbviewer.jupyter.org/github/etcbc/phono/blob/master/programs/phono.ipynb\" title=\"~/text-fabric-data/github/etcbc/phono/tf/2021/phono_trailer.tf\">phono_trailer</a>\n",
       "</div>\n",
       "<div class=\"fmono\">str</div>\n",
       "\n",
       "<span> 🆗 interword material in phonological transcription</span>\n",
       "\n",
       "</div>\n",
       "\n",
       "    </div>\n",
       "</details>\n",
       "\n",
       "<details><summary><b><github>tonyjurg/BHSaddons/tf</b></summary>\n",
       "    <div class=\"fcorpus\">\n",
       "\n",
       "<div class=\"frow\">\n",
       "    <div class=\"fnamecat \">\n",
       "<a target=\"_blank\" href=\"https://github.com/tonyjurg/BHSaddons/tree/master/tf\" title=\"~/text-fabric-data/github/tonyjurg/BHSaddons/tf/2021/aliyotnum.tf\">aliyotnum</a>\n",
       "</div>\n",
       "<div class=\"fmono\">str</div>\n",
       "\n",
       "<span> The sequence number of the aliyot within the parasha</span>\n",
       "\n",
       "</div>\n",
       "\n",
       "<div class=\"frow\">\n",
       "    <div class=\"fnamecat \">\n",
       "<a target=\"_blank\" href=\"https://github.com/tonyjurg/BHSaddons/tree/master/tf\" title=\"~/text-fabric-data/github/tonyjurg/BHSaddons/tf/2021/maftir.tf\">maftir</a>\n",
       "</div>\n",
       "<div class=\"fmono\">str</div>\n",
       "\n",
       "<span> Set to 1 if this verse is part of a maftir</span>\n",
       "\n",
       "</div>\n",
       "\n",
       "<div class=\"frow\">\n",
       "    <div class=\"fnamecat \">\n",
       "<a target=\"_blank\" href=\"https://github.com/tonyjurg/BHSaddons/tree/master/tf\" title=\"~/text-fabric-data/github/tonyjurg/BHSaddons/tf/2021/parashahebr.tf\">parashahebr</a>\n",
       "</div>\n",
       "<div class=\"fmono\">str</div>\n",
       "\n",
       "<span> The name of the parasha in Hebrew</span>\n",
       "\n",
       "</div>\n",
       "\n",
       "<div class=\"frow\">\n",
       "    <div class=\"fnamecat \">\n",
       "<a target=\"_blank\" href=\"https://github.com/tonyjurg/BHSaddons/tree/master/tf\" title=\"~/text-fabric-data/github/tonyjurg/BHSaddons/tf/2021/parashanum.tf\">parashanum</a>\n",
       "</div>\n",
       "<div class=\"fmono\">int</div>\n",
       "\n",
       "<span> The sequence number of the parasha</span>\n",
       "\n",
       "</div>\n",
       "\n",
       "<div class=\"frow\">\n",
       "    <div class=\"fnamecat \">\n",
       "<a target=\"_blank\" href=\"https://github.com/tonyjurg/BHSaddons/tree/master/tf\" title=\"~/text-fabric-data/github/tonyjurg/BHSaddons/tf/2021/parashatrans.tf\">parashatrans</a>\n",
       "</div>\n",
       "<div class=\"fmono\">str</div>\n",
       "\n",
       "<span> Transliteration of the Hebrew parasha name</span>\n",
       "\n",
       "</div>\n",
       "\n",
       "<div class=\"frow\">\n",
       "    <div class=\"fnamecat \">\n",
       "<a target=\"_blank\" href=\"https://github.com/tonyjurg/BHSaddons/tree/master/tf\" title=\"~/text-fabric-data/github/tonyjurg/BHSaddons/tf/2021/parashaverse.tf\">parashaverse</a>\n",
       "</div>\n",
       "<div class=\"fmono\">str</div>\n",
       "\n",
       "<span> The sequence number of the verse within the parasha</span>\n",
       "\n",
       "</div>\n",
       "\n",
       "<div class=\"frow\">\n",
       "    <div class=\"fnamecat \">\n",
       "<a target=\"_blank\" href=\"https://github.com/tonyjurg/BHSaddons/tree/master/tf\" title=\"~/text-fabric-data/github/tonyjurg/BHSaddons/tf/2021/wordboundary.tf\">wordboundary</a>\n",
       "</div>\n",
       "<div class=\"fmono\">str</div>\n",
       "\n",
       "<span> indicates wordboudaries (spaces OR maqaf)</span>\n",
       "\n",
       "</div>\n",
       "\n",
       "    </div>\n",
       "</details>\n",
       "\n",
       "            <b>Settings:</b><br><details ><summary><b>specified</b></summary><ol><li><b>apiVersion</b>: <code>3</code></li><li><b>appName</b>: <code>etcbc/bhsa</code></li><li><b>appPath</b>: <code>C:/Users/tonyj/text-fabric-data/github/etcbc/bhsa/app</code></li><li><b>commit</b>: <code>gd905e3fb6e80d0fa537600337614adc2af157309</code></li><li><b>css</b>: <code>''</code></li><li><details><summary><b>dataDisplay</b>:</summary><ul><li><details><summary><b>exampleSectionHtml</b>:</summary><code>&lt;code&gt;Genesis 1:1&lt;/code&gt; (use &lt;a href=\"https://github.com/{org}/{repo}/blob/master/tf/{version}/book%40en.tf\" target=\"_blank\"&gt;English book names&lt;/a&gt;)</code></details></li><li><details><summary><b>excludedFeatures</b>:</summary><ul><li><code>g_uvf_utf8</code></li><li><code>g_vbs</code></li><li><code>kq_hybrid</code></li><li><code>languageISO</code></li><li><code>g_nme</code></li><li><code>lex0</code></li><li><code>is_root</code></li><li><code>g_vbs_utf8</code></li><li><code>g_uvf</code></li><li><code>dist</code></li><li><code>root</code></li><li><code>suffix_person</code></li><li><code>g_vbe</code></li><li><code>dist_unit</code></li><li><code>suffix_number</code></li><li><code>distributional_parent</code></li><li><code>kq_hybrid_utf8</code></li><li><code>crossrefSET</code></li><li><code>instruction</code></li><li><code>g_prs</code></li><li><code>lexeme_count</code></li><li><code>rank_occ</code></li><li><code>g_pfm_utf8</code></li><li><code>freq_occ</code></li><li><code>crossrefLCS</code></li><li><code>functional_parent</code></li><li><code>g_pfm</code></li><li><code>g_nme_utf8</code></li><li><code>g_vbe_utf8</code></li><li><code>kind</code></li><li><code>g_prs_utf8</code></li><li><code>suffix_gender</code></li><li><code>mother_object_type</code></li></ul></details></li><li><details><summary><b>noneValues</b>:</summary><ul><li><code>none</code></li><li><code>unknown</code></li><li><i>no value</i></li><li><code>NA</code></li></ul></details></li></ul></details></li><li><details><summary><b>docs</b>:</summary><ul><li><b>docBase</b>: <code>{docRoot}/{repo}</code></li><li><b>docExt</b>: <code>''</code></li><li><b>docPage</b>: <code>''</code></li><li><b>docRoot</b>: <code>https://{org}.github.io</code></li><li><b>featurePage</b>: <code>0_home</code></li></ul></details></li><li><b>interfaceDefaults</b>: <code>{}</code></li><li><b>isCompatible</b>: <code>True</code></li><li><b>local</b>: <code>local</code></li><li><b>localDir</b>: <code>C:/Users/tonyj/text-fabric-data/github/etcbc/bhsa/_temp</code></li><li><details><summary><b>provenanceSpec</b>:</summary><ul><li><b>corpus</b>: <code>BHSA = Biblia Hebraica Stuttgartensia Amstelodamensis</code></li><li><b>doi</b>: <code>10.5281/zenodo.1007624</code></li><li><details><summary><b>moduleSpecs</b>:</summary><ul><li><details><summary>:</summary><ul><li><b>backend</b>: <i>no value</i></li><li><b>corpus</b>: <code>Phonetic Transcriptions</code></li><li><details><summary><b>docUrl</b>:</summary><code>https://nbviewer.jupyter.org/github/etcbc/phono/blob/master/programs/phono.ipynb</code></details></li><li><b>doi</b>: <code>10.5281/zenodo.1007636</code></li><li><b>org</b>: <code>etcbc</code></li><li><b>relative</b>: <code>/tf</code></li><li><b>repo</b>: <code>phono</code></li></ul></details></li><li><details><summary>:</summary><ul><li><b>backend</b>: <i>no value</i></li><li><b>corpus</b>: <code>Parallel Passages</code></li><li><details><summary><b>docUrl</b>:</summary><code>https://nbviewer.jupyter.org/github/etcbc/parallels/blob/master/programs/parallels.ipynb</code></details></li><li><b>doi</b>: <code>10.5281/zenodo.1007642</code></li><li><b>org</b>: <code>etcbc</code></li><li><b>relative</b>: <code>/tf</code></li><li><b>repo</b>: <code>parallels</code></li></ul></details></li></ul></details></li><li><b>org</b>: <code>etcbc</code></li><li><b>relative</b>: <code>/tf</code></li><li><b>repo</b>: <code>bhsa</code></li><li><b>version</b>: <code>2021</code></li><li><b>webBase</b>: <code>https://shebanq.ancient-data.org/hebrew</code></li><li><b>webHint</b>: <code>Show this on SHEBANQ</code></li><li><b>webLang</b>: <code>la</code></li><li><b>webLexId</b>: <code>True</code></li><li><details><summary><b>webUrl</b>:</summary><code>{webBase}/text?book=&lt;1&gt;&amp;chapter=&lt;2&gt;&amp;verse=&lt;3&gt;&amp;version={version}&amp;mr=m&amp;qw=q&amp;tp=txt_p&amp;tr=hb&amp;wget=v&amp;qget=v&amp;nget=vt</code></details></li><li><b>webUrlLex</b>: <code>{webBase}/word?version={version}&amp;id=&lt;lid&gt;</code></li></ul></details></li><li><b>release</b>: <code>v1.8</code></li><li><details><summary><b>typeDisplay</b>:</summary><ul><li><details><summary><b>clause</b>:</summary><ul><li><b>label</b>: <code>{typ} {rela}</code></li><li><b>style</b>: <code>''</code></li></ul></details></li><li><details><summary><b>clause_atom</b>:</summary><ul><li><b>hidden</b>: <code>True</code></li><li><b>label</b>: <code>{code}</code></li><li><b>level</b>: <code>1</code></li><li><b>style</b>: <code>''</code></li></ul></details></li><li><details><summary><b>half_verse</b>:</summary><ul><li><b>hidden</b>: <code>True</code></li><li><b>label</b>: <code>{label}</code></li><li><b>style</b>: <code>''</code></li><li><b>verselike</b>: <code>True</code></li></ul></details></li><li><details><summary><b>lex</b>:</summary><ul><li><b>featuresBare</b>: <code>gloss</code></li><li><b>label</b>: <code>{voc_lex_utf8}</code></li><li><b>lexOcc</b>: <code>word</code></li><li><b>style</b>: <code>orig</code></li><li><b>template</b>: <code>{voc_lex_utf8}</code></li></ul></details></li><li><details><summary><b>phrase</b>:</summary><ul><li><b>label</b>: <code>{typ} {function}</code></li><li><b>style</b>: <code>''</code></li></ul></details></li><li><details><summary><b>phrase_atom</b>:</summary><ul><li><b>hidden</b>: <code>True</code></li><li><b>label</b>: <code>{typ} {rela}</code></li><li><b>level</b>: <code>1</code></li><li><b>style</b>: <code>''</code></li></ul></details></li><li><details><summary><b>sentence</b>:</summary><ul><li><b>label</b>: <code>{number}</code></li><li><b>style</b>: <code>''</code></li></ul></details></li><li><details><summary><b>sentence_atom</b>:</summary><ul><li><b>hidden</b>: <code>True</code></li><li><b>label</b>: <code>{number}</code></li><li><b>level</b>: <code>1</code></li><li><b>style</b>: <code>''</code></li></ul></details></li><li><details><summary><b>subphrase</b>:</summary><ul><li><b>hidden</b>: <code>True</code></li><li><b>label</b>: <code>{number}</code></li><li><b>style</b>: <code>''</code></li></ul></details></li><li><details><summary><b>word</b>:</summary><ul><li><b>features</b>: <code>pdp vs vt</code></li><li><b>featuresBare</b>: <code>lex:gloss</code></li></ul></details></li></ul></details></li><li><b>writing</b>: <code>hbo</code></li></ol></details>\n"
      ],
      "text/plain": [
       "<IPython.core.display.HTML object>"
      ]
     },
     "metadata": {},
     "output_type": "display_data"
    },
    {
     "data": {
      "text/html": [
       "<style>tr.tf.ltr, td.tf.ltr, th.tf.ltr { text-align: left ! important;}\n",
       "tr.tf.rtl, td.tf.rtl, th.tf.rtl { text-align: right ! important;}\n",
       "@font-face {\n",
       "  font-family: \"Gentium Plus\";\n",
       "  src: local('Gentium Plus'), local('GentiumPlus'),\n",
       "    url('/browser/static/fonts/GentiumPlus-R.woff') format('woff'),\n",
       "    url('https://github.com/annotation/text-fabric/blob/master/tf/browser/static/fonts/GentiumPlus-R.woff?raw=true') format('woff');\n",
       "}\n",
       "\n",
       "@font-face {\n",
       "  font-family: \"Ezra SIL\";\n",
       "  src: local('Ezra SIL'), local('EzraSIL'),\n",
       "    url('/browser/static/fonts/SILEOT.woff') format('woff'),\n",
       "    url('https://github.com/annotation/text-fabric/blob/master/tf/browser/static/fonts/SILEOT.woff?raw=true') format('woff');\n",
       "}\n",
       "\n",
       "@font-face {\n",
       "  font-family: \"SBL Hebrew\";\n",
       "  src: local('SBL Hebrew'), local('SBLHebrew'),\n",
       "    url('/browser/static/fonts/SBL_Hbrw.woff') format('woff'),\n",
       "    url('https://github.com/annotation/text-fabric/blob/master/tf/browser/static/fonts/SBL_Hbrw.woff?raw=true') format('woff');\n",
       "}\n",
       "\n",
       "@font-face {\n",
       "  font-family: \"Estrangelo Edessa\";\n",
       "  src: local('Estrangelo Edessa'), local('EstrangeloEdessa');\n",
       "    url('/browser/static/fonts/SyrCOMEdessa.woff') format('woff'),\n",
       "    url('https://github.com/annotation/text-fabric/blob/master/tf/browser/static/fonts/SyrCOMEdessa.woff?raw=true') format('woff');\n",
       "}\n",
       "\n",
       "@font-face {\n",
       "  font-family: AmiriQuran;\n",
       "  font-style: normal;\n",
       "  font-weight: 400;\n",
       "  src: local('Amiri Quran'), local('AmiriQuran'),\n",
       "    url('/browser/static/fonts/AmiriQuran.woff') format('woff'),\n",
       "    url('https://github.com/annotation/text-fabric/blob/master/tf/browser/static/fonts/AmiriQuran.woff?raw=true') format('woff');\n",
       "}\n",
       "\n",
       "@font-face {\n",
       "  font-family: AmiriQuranColored;\n",
       "  font-style: normal;\n",
       "  font-weight: 400;\n",
       "  src: local('Amiri Quran Colored'), local('AmiriQuranColored'),\n",
       "    url('/browser/static/fonts/AmiriQuranColored.woff') format('woff'),\n",
       "    url('https://github.com/annotation/text-fabric/blob/master/tf/browser/static/fonts/AmiriQuranColored.woff?raw=true') format('woff');\n",
       "}\n",
       "\n",
       "@font-face {\n",
       "  font-family: \"Santakku\";\n",
       "  src: local('Santakku'),\n",
       "    url('/browser/static/fonts/Santakku.woff') format('woff'),\n",
       "    url('https://github.com/annotation/text-fabric/blob/master/tf/browser/static/fonts/Santakku.woff?raw=true') format('woff');\n",
       "}\n",
       "\n",
       "@font-face {\n",
       "  font-family: \"SantakkuM\";\n",
       "  src: local('SantakkuM'),\n",
       "    url('/browser/static/fonts/SantakkuM.woff') format('woff'),\n",
       "    url('https://github.com/annotation/text-fabric/blob/master/tf/browser/static/fonts/SantakkuM.woff?raw=true') format('woff');\n",
       "}\n",
       "\n",
       "/* bypassing some classical notebook settings */\n",
       "div#notebook {\n",
       "  line-height: unset;\n",
       "}\n",
       "/* neutral text */\n",
       ".txtn,.txtn a:visited,.txtn a:link {\n",
       "    font-family: sans-serif;\n",
       "    font-size: medium;\n",
       "    direction: ltr;\n",
       "    unicode-bidi: embed;\n",
       "    text-decoration: none;\n",
       "    color: var(--text-color);\n",
       "}\n",
       "/* transcription text */\n",
       ".txtt,.txtt a:visited,.txtt a:link {\n",
       "    font-family: monospace;\n",
       "    font-size: medium;\n",
       "    direction: ltr;\n",
       "    unicode-bidi: embed;\n",
       "    text-decoration: none;\n",
       "    color: var(--text-color);\n",
       "}\n",
       "/* source text */\n",
       ".txto,.txto a:visited,.txto a:link {\n",
       "    font-family: serif;\n",
       "    font-size: medium;\n",
       "    direction: ltr;\n",
       "    unicode-bidi: embed;\n",
       "    text-decoration: none;\n",
       "    color: var(--text-color);\n",
       "}\n",
       "/* phonetic text */\n",
       ".txtp,.txtp a:visited,.txtp a:link {\n",
       "    font-family: Gentium, sans-serif;\n",
       "    font-size: medium;\n",
       "    direction: ltr;\n",
       "    unicode-bidi: embed;\n",
       "    text-decoration: none;\n",
       "    color: var(--text-color);\n",
       "}\n",
       "/* original script text */\n",
       ".txtu,.txtu a:visited,.txtu a:link {\n",
       "    font-family: Gentium, sans-serif;\n",
       "    font-size: medium;\n",
       "    text-decoration: none;\n",
       "    color: var(--text-color);\n",
       "}\n",
       "/* hebrew */\n",
       ".txtu.hbo,.lex.hbo {\n",
       "    font-family: \"Ezra SIL\", \"SBL Hebrew\", sans-serif;\n",
       "    font-size: large;\n",
       "    direction: rtl ! important;\n",
       "    unicode-bidi: embed;\n",
       "}\n",
       "/* syriac */\n",
       ".txtu.syc,.lex.syc {\n",
       "    font-family: \"Estrangelo Edessa\", sans-serif;\n",
       "    font-size: medium;\n",
       "    direction: rtl ! important;\n",
       "    unicode-bidi: embed;\n",
       "}\n",
       "/* neo aramaic */\n",
       ".txtu.cld,.lex.cld {\n",
       "    font-family: \"CharisSIL-R\", sans-serif;\n",
       "    font-size: medium;\n",
       "    direction: ltr ! important;\n",
       "    unicode-bidi: embed;\n",
       "}\n",
       "/* standard arabic */\n",
       ".txtu.ara,.lex.ara {\n",
       "    font-family: \"AmiriQuran\", sans-serif;\n",
       "    font-size: large;\n",
       "    direction: rtl ! important;\n",
       "    unicode-bidi: embed;\n",
       "}\n",
       "/* cuneiform */\n",
       ".txtu.akk,.lex.akk {\n",
       "    font-family: Santakku, sans-serif;\n",
       "    font-size: large;\n",
       "    direction: ltr ! important;\n",
       "    unicode-bidi: embed;\n",
       "}\n",
       ".txtu.uga,.lex.uga {\n",
       "    font-family: sans-serif;\n",
       "    /*font-family: Noto Sans Ugaritic, sans-serif;*/\n",
       "    font-size: large;\n",
       "    direction: ltr ! important;\n",
       "    unicode-bidi: embed;\n",
       "}\n",
       "/* greek */\n",
       ".txtu.grc,.lex.grc a:link {\n",
       "    font-family: Gentium, sans-serif;\n",
       "    font-size: medium;\n",
       "    direction: ltr ! important;\n",
       "    unicode-bidi: embed;\n",
       "}\n",
       "a:hover {\n",
       "    text-decoration: underline | important;\n",
       "    color: #0000ff | important;\n",
       "}\n",
       ".ltr {\n",
       "    direction: ltr ! important;\n",
       "    unicode-bidi: embed;\n",
       "}\n",
       ".rtl {\n",
       "    direction: rtl ! important;\n",
       "    unicode-bidi: embed;\n",
       "}\n",
       ".ubd {\n",
       "    unicode-bidi: embed;\n",
       "}\n",
       ".col {\n",
       "   display: inline-block;\n",
       "}\n",
       ".features {\n",
       "    font-family: monospace;\n",
       "    font-size: medium;\n",
       "    font-weight: bold;\n",
       "    color: var(--features);\n",
       "    display: flex;\n",
       "    flex-flow: column nowrap;\n",
       "    justify-content: flex-start;\n",
       "    align-items: flex-start;\n",
       "    align-content: flex-start;\n",
       "    padding: 2px;\n",
       "    margin: 2px;\n",
       "    direction: ltr;\n",
       "    unicode-bidi: embed;\n",
       "    border: var(--meta-width) solid var(--meta-color);\n",
       "    border-radius: var(--meta-width);\n",
       "}\n",
       ".features div,.features span {\n",
       "    padding: 0;\n",
       "    margin: -2px 0;\n",
       "}\n",
       ".features .f {\n",
       "    font-family: sans-serif;\n",
       "    font-size: small;\n",
       "    font-weight: normal;\n",
       "    color: #5555bb;\n",
       "}\n",
       ".features .xft {\n",
       "  color: #000000;\n",
       "  background-color: #eeeeee;\n",
       "  font-size: medium;\n",
       "  margin: 2px 0px;\n",
       "}\n",
       ".features .xft .f {\n",
       "  color: #000000;\n",
       "  background-color: #eeeeee;\n",
       "  font-size: small;\n",
       "  font-weight: normal;\n",
       "}\n",
       ".tfsechead {\n",
       "    font-family: sans-serif;\n",
       "    font-size: small;\n",
       "    font-weight: bold;\n",
       "    color: var(--tfsechead);\n",
       "    unicode-bidi: embed;\n",
       "    text-align: start;\n",
       "}\n",
       ".structure {\n",
       "    font-family: sans-serif;\n",
       "    font-size: small;\n",
       "    font-weight: bold;\n",
       "    color: var(--structure);\n",
       "    unicode-bidi: embed;\n",
       "    text-align: start;\n",
       "}\n",
       ".comments {\n",
       "    display: flex;\n",
       "    justify-content: flex-start;\n",
       "    align-items: flex-start;\n",
       "    align-content: flex-start;\n",
       "    flex-flow: column nowrap;\n",
       "}\n",
       ".nd, a:link.nd {\n",
       "    font-family: sans-serif;\n",
       "    font-size: small;\n",
       "    color: var(--node);\n",
       "    vertical-align: super;\n",
       "    direction: ltr ! important;\n",
       "    unicode-bidi: embed;\n",
       "}\n",
       ".nde, a:link.nde {\n",
       "    font-family: sans-serif;\n",
       "    font-size: small;\n",
       "    color: var(--node);\n",
       "    direction: ltr ! important;\n",
       "    unicode-bidi: embed;\n",
       "}\n",
       ".etf {\n",
       "    font-size: normal;\n",
       "    border-radius: 0.2rem;\n",
       "    border: 1pt solid white;\n",
       "    padding: 0 0.2rem ! important;\n",
       "    margin: 0 0.2rem ! important;\n",
       "}\n",
       ".etfx {\n",
       "    font-size: x-large;\n",
       "}\n",
       ".lex {\n",
       "  color: var(--lex-color);;\n",
       "}\n",
       "#colormapplus, #colormapmin, .ecolormapmin {\n",
       "  font-weight: bold;\n",
       "  border-radius: 0.1rem;\n",
       "  background-color: #eeeeff;\n",
       "  padding: 0 1rem;\n",
       "  margin: 0 1rem;\n",
       "}\n",
       ".clr {\n",
       "  font-style: italic;\n",
       "  font-size: small;\n",
       "}\n",
       ".clmap,.eclmap {\n",
       "  padding: 0;\n",
       "}\n",
       ".children,.children.ltr {\n",
       "    display: flex;\n",
       "    border: 0;\n",
       "    background-color: #ffffff;\n",
       "    justify-content: flex-start;\n",
       "    align-items: flex-start;\n",
       "    align-content: flex-start;\n",
       "}\n",
       ".children.stretch {\n",
       "    align-items: stretch;\n",
       "}\n",
       ".children.hor {\n",
       "    flex-flow: row nowrap;\n",
       "}\n",
       ".children.hor.wrap {\n",
       "    flex-flow: row wrap;\n",
       "}\n",
       ".children.ver {\n",
       "    flex-flow: column nowrap;\n",
       "}\n",
       ".children.ver.wrap {\n",
       "    flex-flow: column wrap;\n",
       "}\n",
       ".contnr {\n",
       "    width: fit-content;\n",
       "    display: flex;\n",
       "    justify-content: flex-start;\n",
       "    align-items: flex-start;\n",
       "    align-content: flex-start;\n",
       "    flex-flow: column nowrap;\n",
       "    background: #ffffff none repeat scroll 0 0;\n",
       "    padding:  10px 2px 2px 2px;\n",
       "    margin: 16px 2px 2px 2px;\n",
       "    border-style: solid;\n",
       "    font-size: small;\n",
       "}\n",
       ".contnr.trm {\n",
       "    background-attachment: local;\n",
       "}\n",
       ".contnr.cnul {\n",
       "    padding:  0;\n",
       "    margin: 0;\n",
       "    border-style: solid;\n",
       "    font-size: xx-small;\n",
       "}\n",
       ".contnr.cnul,.lbl.cnul {\n",
       "    border-color: var(--border-color-nul);\n",
       "    border-width: var(--border-width-nul);\n",
       "    border-radius: var(--border-width-nul);\n",
       "}\n",
       ".contnr.c0,.lbl.c0 {\n",
       "    border-color: var(--border-color0);\n",
       "    border-width: var(--border-width0);\n",
       "    border-radius: var(--border-width0);\n",
       "}\n",
       ".contnr.c1,.lbl.c1 {\n",
       "    border-color: var(--border-color1);\n",
       "    border-width: var(--border-width1);\n",
       "    border-radius: var(--border-width1);\n",
       "}\n",
       ".contnr.c2,.lbl.c2 {\n",
       "    border-color: var(--border-color2);\n",
       "    border-width: var(--border-width2);\n",
       "    border-radius: var(--border-width2);\n",
       "}\n",
       ".contnr.c3,.lbl.c3 {\n",
       "    border-color: var(--border-color3);\n",
       "    border-width: var(--border-width3);\n",
       "    border-radius: var(--border-width3);\n",
       "}\n",
       ".contnr.c4,.lbl.c4 {\n",
       "    border-color: var(--border-color4);\n",
       "    border-width: var(--border-width4);\n",
       "    border-radius: var(--border-width4);\n",
       "}\n",
       "span.plain {\n",
       "    /*display: inline-block;*/\n",
       "    display: inline-flex;\n",
       "    flex-flow: row wrap;\n",
       "    white-space: pre-wrap;\n",
       "}\n",
       "span.break {\n",
       "  flex-basis: 100%;\n",
       "  height: 0;\n",
       "}\n",
       ".plain {\n",
       "    background-color: #ffffff;\n",
       "}\n",
       ".plain.l,.contnr.l,.contnr.l>.lbl {\n",
       "    border-left-style: dotted\n",
       "}\n",
       ".plain.r,.contnr.r,.contnr.r>.lbl {\n",
       "    border-right-style: dotted\n",
       "}\n",
       ".plain.lno,.contnr.lno,.contnr.lno>.lbl {\n",
       "    border-left-style: none\n",
       "}\n",
       ".plain.rno,.contnr.rno,.contnr.rno>.lbl {\n",
       "    border-right-style: none\n",
       "}\n",
       ".plain.l {\n",
       "    padding-left: 4px;\n",
       "    margin-left: 2px;\n",
       "    border-width: var(--border-width-plain);\n",
       "}\n",
       ".plain.r {\n",
       "    padding-right: 4px;\n",
       "    margin-right: 2px;\n",
       "    border-width: var(--border-width-plain);\n",
       "}\n",
       ".lbl {\n",
       "    font-family: monospace;\n",
       "    margin-top: -24px;\n",
       "    margin-left: 20px;\n",
       "    background: #ffffff none repeat scroll 0 0;\n",
       "    padding: 0 6px;\n",
       "    border-style: solid;\n",
       "    display: block;\n",
       "    color: var(--label)\n",
       "}\n",
       ".lbl.trm {\n",
       "    background-attachment: local;\n",
       "    margin-top: 2px;\n",
       "    margin-left: 2px;\n",
       "    padding: 2px 2px;\n",
       "    border-style: none;\n",
       "}\n",
       ".lbl.cnul {\n",
       "    font-size: xx-small;\n",
       "}\n",
       ".lbl.c0 {\n",
       "    font-size: small;\n",
       "}\n",
       ".lbl.c1 {\n",
       "    font-size: small;\n",
       "}\n",
       ".lbl.c2 {\n",
       "    font-size: medium;\n",
       "}\n",
       ".lbl.c3 {\n",
       "    font-size: medium;\n",
       "}\n",
       ".lbl.c4 {\n",
       "    font-size: large;\n",
       "}\n",
       ".occs, a:link.occs {\n",
       "    font-size: small;\n",
       "}\n",
       "\n",
       "/* PROVENANCE */\n",
       "\n",
       "div.prov {\n",
       "\tmargin: 40px;\n",
       "\tpadding: 20px;\n",
       "\tborder: 2px solid var(--fog-rim);\n",
       "}\n",
       "div.pline {\n",
       "\tdisplay: flex;\n",
       "\tflex-flow: row nowrap;\n",
       "\tjustify-content: stretch;\n",
       "\talign-items: baseline;\n",
       "}\n",
       "div.p2line {\n",
       "\tmargin-left: 2em;\n",
       "\tdisplay: flex;\n",
       "\tflex-flow: row nowrap;\n",
       "\tjustify-content: stretch;\n",
       "\talign-items: baseline;\n",
       "}\n",
       "div.psline {\n",
       "\tdisplay: flex;\n",
       "\tflex-flow: row nowrap;\n",
       "\tjustify-content: stretch;\n",
       "\talign-items: baseline;\n",
       "\tbackground-color: var(--gold-mist-back);\n",
       "}\n",
       "div.pname {\n",
       "\tflex: 0 0 5rem;\n",
       "\tfont-weight: bold;\n",
       "}\n",
       "div.pval {\n",
       "    flex: 1 1 auto;\n",
       "}\n",
       "\n",
       "/* KEYBOARD */\n",
       ".ccoff {\n",
       "  background-color: inherit;\n",
       "}\n",
       ".ccon {\n",
       "  background-color: yellow ! important;\n",
       "}\n",
       ".ccon,.ccoff {\n",
       "  padding: 0.2rem;\n",
       "  margin: 0.2rem;\n",
       "  border: 0.1rem solid var(--letter-box-border);\n",
       "  border-radius: 0.1rem;\n",
       "}\n",
       ".ccline {\n",
       "  font-size: xx-large ! important;\n",
       "  font-weight: bold;\n",
       "  line-height: 2em ! important;\n",
       "}\n",
       "/* TF header */\n",
       "\n",
       "summary {\n",
       "  /* needed to override the normalize.less\n",
       "   * in the classical Jupyter Notebook\n",
       "   */\n",
       "  display: list-item ! important;\n",
       "}\n",
       "\n",
       ".fcorpus {\n",
       "  display: flex;\n",
       "  flex-flow: column nowrap;\n",
       "  justify-content: flex-start;\n",
       "  align-items: flex-start;\n",
       "  align-content: flex-start;\n",
       "  overflow: auto;\n",
       "}\n",
       ".frow {\n",
       "  display: flex;\n",
       "  flex-flow: row nowrap;\n",
       "  justify-content: flex-start;\n",
       "  align-items: flex-start;\n",
       "  align-content: flex-start;\n",
       "}\n",
       ".fmeta {\n",
       "  display: flex;\n",
       "  flex-flow: column nowrap;\n",
       "  justify-content: flex-start;\n",
       "  align-items: flex-start;\n",
       "  align-content: flex-start;\n",
       "}\n",
       ".fmetarow {\n",
       "  display: flex;\n",
       "  flex-flow: row nowrap;\n",
       "  justify-content: flex-start;\n",
       "  align-items: flex-start;\n",
       "  align-content: flex-start;\n",
       "}\n",
       ".fmetakey {\n",
       "  min-width: 8em;\n",
       "  font-family: monospace;\n",
       "}\n",
       ".fnamecat {\n",
       "  min-width: 8em;\n",
       "}\n",
       ".fnamecat.edge {\n",
       "  font-weight: bold;\n",
       "  font-style: italic;\n",
       "}\n",
       ".fmono {\n",
       "    font-family: monospace;\n",
       "}\n",
       "\n",
       ":root {\n",
       "\t--node:               hsla(120, 100%,  20%, 1.0  );\n",
       "\t--label:              hsla(  0, 100%,  20%, 1.0  );\n",
       "\t--tfsechead:          hsla(  0, 100%,  25%, 1.0  );\n",
       "\t--structure:          hsla(120, 100%,  25%, 1.0  );\n",
       "\t--features:           hsla(  0,   0%,  30%, 1.0  );\n",
       "  --text-color:         hsla( 60,  80%,  10%, 1.0  );\n",
       "  --lex-color:          hsla(220,  90%,  60%, 1.0  );\n",
       "  --meta-color:         hsla(  0,   0%,  90%, 0.7  );\n",
       "  --meta-width:         3px;\n",
       "  --border-color-nul:   hsla(  0,   0%,  90%, 0.5  );\n",
       "  --border-color0:      hsla(  0,   0%,  90%, 0.9  );\n",
       "  --border-color1:      hsla(  0,   0%,  80%, 0.9  );\n",
       "  --border-color2:      hsla(  0,   0%,  70%, 0.9  );\n",
       "  --border-color3:      hsla(  0,   0%,  80%, 0.8  );\n",
       "  --border-color4:      hsla(  0,   0%,  60%, 0.9  );\n",
       "\t--letter-box-border:  hsla(  0,   0%,  80%, 0.5  );\n",
       "  --border-width-nul:   2px;\n",
       "  --border-width0:      2px;\n",
       "  --border-width1:      3px;\n",
       "  --border-width2:      4px;\n",
       "  --border-width3:      6px;\n",
       "  --border-width4:      5px;\n",
       "  --border-width-plain: 2px;\n",
       "}\n",
       ".hl {\n",
       "  background-color: var(--hl-strong);\n",
       "}\n",
       "span.hl {\n",
       "\tbackground-color: var(--hl-strong);\n",
       "\tborder-width: 0;\n",
       "\tborder-radius: 2px;\n",
       "\tborder-style: solid;\n",
       "}\n",
       "div.contnr.hl,div.lbl.hl {\n",
       "  background-color: var(--hl-strong);\n",
       "}\n",
       "div.contnr.hl {\n",
       "  border-color: var(--hl-rim) ! important;\n",
       "\tborder-width: 4px ! important;\n",
       "}\n",
       "\n",
       "span.hlbx {\n",
       "\tborder-color: var(--hl-rim);\n",
       "\tborder-width: 4px ! important;\n",
       "\tborder-style: solid;\n",
       "\tborder-radius: 6px;\n",
       "  padding: 4px;\n",
       "  margin: 4px;\n",
       "}\n",
       ".ehl {\n",
       "  background-color: var(--ehl-strong);\n",
       "}\n",
       "\n",
       ":root {\n",
       "\t--hl-strong:        hsla( 60, 100%,  70%, 0.9  );\n",
       "\t--hl-rim:           hsla( 55,  80%,  50%, 1.0  );\n",
       "\t--ehl-strong:       hsla(240, 100%,  70%, 0.9  );\n",
       "}\n",
       "</style>"
      ],
      "text/plain": [
       "<IPython.core.display.HTML object>"
      ]
     },
     "metadata": {},
     "output_type": "display_data"
    },
    {
     "data": {
      "text/html": [
       "\n",
       "<script>\n",
       "globalThis.copyChar = (el, c) => {\n",
       "    for (const el of document.getElementsByClassName('ccon')) {\n",
       "        el.className = 'ccoff'\n",
       "    }\n",
       "    el.className = 'ccon'\n",
       "    navigator.clipboard.writeText(String.fromCharCode(c))\n",
       "}\n",
       "</script>\n"
      ],
      "text/plain": [
       "<IPython.core.display.HTML object>"
      ]
     },
     "metadata": {},
     "output_type": "display_data"
    }
   ],
   "source": [
    "from tf.app import use\n",
    "\n",
    "# Load the SP data, and rename the node features class F,\n",
    "# the locality class L and the text class T, \n",
    "# then they cannot be overwritten while loading the MT.\n",
    "SP = use('DT-UCPH/sp', version='3.4')\n",
    "Fsp, Lsp, Tsp = SP.api.F, SP.api.L, SP.api.T\n",
    "\n",
    "# Do the same for the MT dataset (BHSA) together with BHSaddons \n",
    "MT = use('etcbc/bhsa', version='2021',mod=\"tonyjurg/BHSaddons/tf/\")\n",
    "Fmt, Lmt, Tmt = MT.api.F, MT.api.L, MT.api.T"
   ]
  },
  {
   "cell_type": "markdown",
   "id": "f0086270",
   "metadata": {},
   "source": [
    "# 3 - Compare surface texts of SP and MT <a class=\"anchor\" id=\"bullet3\"></a>\n",
    "##### [Back to ToC](#TOC)\n",
    "\n",
    "In this section, we compare the surface texts of the Samaritan Pentateuch (SP) and the Masoretic Text (MT) at the verse level. By analyzing the wording and structure of these texts, we aim to identify variations."
   ]
  },
  {
   "cell_type": "code",
   "execution_count": 2,
   "id": "3b399f27-1f11-4efc-94e6-db55fe87a684",
   "metadata": {},
   "outputs": [
    {
     "name": "stdout",
     "output_type": "stream",
     "text": [
      "  0.01s 147 results\n"
     ]
    }
   ],
   "source": [
    "# find all word nodes for this parasha (we can either use the transliterated name or the sequence number)\n",
    "parashaQuery = '''\n",
    "verse parashanum=4\n",
    "'''\n",
    "parashaResults = MT.search(parashaQuery)"
   ]
  },
  {
   "cell_type": "code",
   "execution_count": 3,
   "id": "e064e73f-8ca2-4d78-ac65-2b518e1dc4aa",
   "metadata": {},
   "outputs": [],
   "source": [
    "# Extract book, chapter, and verse information\n",
    "bookChapterVerseList = [\n",
    "    Tmt.sectionFromNode(verse[0]) for verse in parashaResults\n",
    "]\n",
    "\n",
    "# Store parashname, start and end verse for future use\n",
    "startNode=parashaResults[0][0]\n",
    "endNode=parashaResults[-1][0]\n",
    "parashaNameHebrew=Fmt.parashahebr.v(startNode)\n",
    "parashaNameEnglish=Fmt.parashatrans.v(startNode)\n",
    "bookStart,chapterStart,startVerse=Tmt.sectionFromNode(startNode)\n",
    "parashaStart=f'{bookStart} {chapterStart}:{startVerse}'\n",
    "bookEnd,chapterEnd,startEnd=Tmt.sectionFromNode(endNode)\n",
    "parashaEnd=f'{chapterEnd}:{startEnd}'"
   ]
  },
  {
   "cell_type": "code",
   "execution_count": 4,
   "id": "06e216e5-a5b1-47d6-994c-f4e8c6a66e90",
   "metadata": {},
   "outputs": [],
   "source": [
    "# Function to reconstruct verses\n",
    "def reconstructVerses(F, L, T, textFeature, inputList):\n",
    "    \"\"\"Reconstruct text for each verse.\"\"\"\n",
    "    verseTexts = {}\n",
    "    for verseName in inputList:\n",
    "        verseText = ''\n",
    "        verseNode = T.nodeFromSection(verseName)\n",
    "        wordNodes = L.d(verseNode, 'word')\n",
    "        for wordNode in wordNodes:\n",
    "            wordText = eval(f'F.{textFeature}.v(wordNode)')\n",
    "            trailer = F.trailer.v(wordNode)\n",
    "            if wordText:\n",
    "                verseText += wordText + (trailer if trailer else ' ')\n",
    "        verseTexts[verseName] = verseText.strip()\n",
    "    return verseTexts\n",
    "    \n",
    "SPverses = reconstructVerses(Fsp, Lsp, Tsp, 'g_cons', bookChapterVerseList)\n",
    "MTverses = reconstructVerses(Fmt, Lmt, Tmt, 'g_cons', bookChapterVerseList)"
   ]
  },
  {
   "cell_type": "code",
   "execution_count": 5,
   "id": "18b2a272",
   "metadata": {},
   "outputs": [
    {
     "data": {
      "text/markdown": [
       "### Differences between MT and SP for parasha Vayera (Genesis 18:1-22:24)"
      ],
      "text/plain": [
       "<IPython.core.display.Markdown object>"
      ]
     },
     "metadata": {},
     "output_type": "display_data"
    },
    {
     "data": {
      "text/markdown": [
       "<h4>Genesis 18:1</h4><p><b>SP:</b> וירא אליו יהוה באל<mark>ו</mark>ני ממרא והוא יש<mark></mark>ב פתח האהל כחם היום <br><b>MT:</b> וירא אליו יהוה באל<mark></mark>ני ממרא והוא יש<mark>ׁ</mark>ב פתח האהל כחם היום </p>"
      ],
      "text/plain": [
       "<IPython.core.display.Markdown object>"
      ]
     },
     "metadata": {},
     "output_type": "display_data"
    },
    {
     "data": {
      "text/markdown": [
       "<h4>Genesis 18:2</h4><p><b>SP:</b> ויש<mark></mark>א עיניו וירא והנה ש<mark></mark>לש<mark></mark>ה אנ<mark>ו</mark>ש<mark></mark>ים נצבים עליו וירא וירץ לקראתם מפתח האהל ויש<mark></mark>תחו<mark>י</mark> ארצה <br><b>MT:</b> ויש<mark>ׂ</mark>א עיניו וירא והנה ש<mark>ׁ</mark>לש<mark>ׁ</mark>ה אנ<mark></mark>ש<mark>ׁ</mark>ים נצבים עליו וירא וירץ לקראתם מפתח האהל ויש<mark>ׁ</mark>תחו<mark></mark> ארצה </p>"
      ],
      "text/plain": [
       "<IPython.core.display.Markdown object>"
      ]
     },
     "metadata": {},
     "output_type": "display_data"
    },
    {
     "data": {
      "text/markdown": [
       "<h4>Genesis 18:3</h4><p><b>SP:</b> ויאמר אדני אם נא מצאתי חן בעיני<mark>כם</mark> אל נא תעבר<mark>ו</mark> מעל עבד<mark>כם</mark> <br><b>MT:</b> ויאמר אדני אם נא מצאתי חן בעיני<mark>ך</mark> אל נא תעבר<mark></mark> מעל עבד<mark>ך</mark> </p>"
      ],
      "text/plain": [
       "<IPython.core.display.Markdown object>"
      ]
     },
     "metadata": {},
     "output_type": "display_data"
    },
    {
     "data": {
      "text/markdown": [
       "<h4>Genesis 18:4</h4><p><b>SP:</b> יקח נא מעט מים ורחצו רגליכם והש<mark></mark>ע<mark>י</mark>נו תחת העץ <br><b>MT:</b> יקח נא מעט מים ורחצו רגליכם והש<mark>ׁ</mark>ע<mark></mark>נו תחת העץ </p>"
      ],
      "text/plain": [
       "<IPython.core.display.Markdown object>"
      ]
     },
     "metadata": {},
     "output_type": "display_data"
    },
    {
     "data": {
      "text/markdown": [
       "<h4>Genesis 18:5</h4><p><b>SP:</b> ואקח<mark></mark> פת לחם וסעדו לב<mark>ב</mark>כם <mark>ו</mark>אחר תעברו כי על כן עברתם על עבדכם ויאמרו כן תעש<mark></mark>ה כאש<mark></mark>ר דברת <br><b>MT:</b> ואקח<mark>ה</mark> פת לחם וסעדו לב<mark></mark>כם <mark></mark>אחר תעברו כי על כן עברתם על עבדכם ויאמרו כן תעש<mark>ׂ</mark>ה כאש<mark>ׁ</mark>ר דברת </p>"
      ],
      "text/plain": [
       "<IPython.core.display.Markdown object>"
      ]
     },
     "metadata": {},
     "output_type": "display_data"
    },
    {
     "data": {
      "text/markdown": [
       "<h4>Genesis 18:6</h4><p><b>SP:</b> וימהר אברהם האהלה אל ש<mark></mark>רה ויאמר מהרי ש<mark></mark>לש<mark></mark> ס<mark></mark>ים קמח סלת לוש<mark></mark>י ועש<mark>ה</mark> עגות <br><b>MT:</b> וימהר אברהם האהלה אל ש<mark>ׂ</mark>רה ויאמר מהרי ש<mark>ׁ</mark>לש<mark>ׁ</mark> ס<mark>א</mark>ים קמח סלת לוש<mark>ׁ</mark>י ועש<mark>ׂי</mark> עגות </p>"
      ],
      "text/plain": [
       "<IPython.core.display.Markdown object>"
      ]
     },
     "metadata": {},
     "output_type": "display_data"
    },
    {
     "data": {
      "text/markdown": [
       "<h4>Genesis 18:7</h4><p><b>SP:</b> ואל הבקר רץ אברהם ויקח בן בקר רך וטוב ויתן אל הנער וימהר לעש<mark></mark>ו<mark></mark>תו <br><b>MT:</b> ואל הבקר רץ אברהם ויקח בן בקר רך וטוב ויתן אל הנער וימהר לעש<mark>ׂ</mark>ו<mark>ת א</mark>תו </p>"
      ],
      "text/plain": [
       "<IPython.core.display.Markdown object>"
      ]
     },
     "metadata": {},
     "output_type": "display_data"
    },
    {
     "data": {
      "text/markdown": [
       "<h4>Genesis 18:8</h4><p><b>SP:</b> ויקח חמאה וחלב ו<mark>את </mark>בן הבקר אש<mark></mark>ר עש<mark></mark>ה ויתן לפניהם והוא עמד עליהם תחת העץ ויאכלו <br><b>MT:</b> ויקח חמאה וחלב ו<mark></mark>בן הבקר אש<mark>ׁ</mark>ר עש<mark>ׂ</mark>ה ויתן לפניהם והוא עמד עליהם תחת העץ ויאכלו </p>"
      ],
      "text/plain": [
       "<IPython.core.display.Markdown object>"
      ]
     },
     "metadata": {},
     "output_type": "display_data"
    },
    {
     "data": {
      "text/markdown": [
       "<h4>Genesis 18:10</h4><p><b>SP:</b> ויאמר ש<mark></mark>וב אש<mark></mark>וב אליך כעת חיה והנה בן לש<mark></mark>רה אש<mark></mark>תך וש<mark></mark>רה ש<mark></mark>מעת פתח האהל וה<mark>י</mark>א אחריו <br><b>MT:</b> ויאמר ש<mark>ׁ</mark>וב אש<mark>ׁ</mark>וב אליך כעת חיה והנה בן לש<mark>ׂ</mark>רה אש<mark>ׁ</mark>תך וש<mark>ׂ</mark>רה ש<mark>ׁ</mark>מעת פתח האהל וה<mark>ו</mark>א אחריו </p>"
      ],
      "text/plain": [
       "<IPython.core.display.Markdown object>"
      ]
     },
     "metadata": {},
     "output_type": "display_data"
    },
    {
     "data": {
      "text/markdown": [
       "<h4>Genesis 18:15</h4><p><b>SP:</b> ותכחש<mark></mark> ש<mark></mark>רה<mark></mark> לאמר לא צחקתי כי<mark></mark> יראה ויאמר<mark></mark> ל<mark>ה</mark> כי צחקת <br><b>MT:</b> ותכחש<mark>ׁ</mark> ש<mark>ׂ</mark>רה<mark>׀</mark> לאמר לא צחקתי כי<mark>׀</mark> יראה ויאמר<mark>׀</mark> ל<mark>א</mark> כי צחקת </p>"
      ],
      "text/plain": [
       "<IPython.core.display.Markdown object>"
      ]
     },
     "metadata": {},
     "output_type": "display_data"
    },
    {
     "data": {
      "text/markdown": [
       "<h4>Genesis 18:16</h4><p><b>SP:</b> ויקמו מש<mark></mark>ם האנ<mark>ו</mark>ש<mark></mark>ים ויש<mark></mark>קפו על פני סדם ואברהם הלך עמם לש<mark></mark>לחם <br><b>MT:</b> ויקמו מש<mark>ׁ</mark>ם האנ<mark></mark>ש<mark>ׁ</mark>ים ויש<mark>ׁ</mark>קפו על פני סדם ואברהם הלך עמם לש<mark>ׁ</mark>לחם </p>"
      ],
      "text/plain": [
       "<IPython.core.display.Markdown object>"
      ]
     },
     "metadata": {},
     "output_type": "display_data"
    },
    {
     "data": {
      "text/markdown": [
       "<h4>Genesis 18:17</h4><p><b>SP:</b> ויהוה אמר המכסה אני מאברהם א<mark>ת א</mark>ש<mark></mark>ר אני עש<mark></mark>ה <br><b>MT:</b> ויהוה אמר המכסה אני מאברהם א<mark></mark>ש<mark>ׁ</mark>ר אני עש<mark>ׂ</mark>ה </p>"
      ],
      "text/plain": [
       "<IPython.core.display.Markdown object>"
      ]
     },
     "metadata": {},
     "output_type": "display_data"
    },
    {
     "data": {
      "text/markdown": [
       "<h4>Genesis 18:18</h4><p><b>SP:</b> ואברהם היו יהיה לגוי גדול ועצום ונברכו בו כל גוי<mark></mark> הארץ <br><b>MT:</b> ואברהם היו יהיה לגוי גדול ועצום ונברכו בו כל גוי<mark>י</mark> הארץ </p>"
      ],
      "text/plain": [
       "<IPython.core.display.Markdown object>"
      ]
     },
     "metadata": {},
     "output_type": "display_data"
    },
    {
     "data": {
      "text/markdown": [
       "<h4>Genesis 18:19</h4><p><b>SP:</b> כי ידעתי<mark></mark> למען אש<mark></mark>ר יצוה<mark> אברהם</mark> את בניו ואת ביתו אחריו וש<mark></mark>מרו דרך יהוה לעש<mark></mark>ות צדקה ומש<mark></mark>פט למען הביא יהוה על אברהם את אש<mark></mark>ר דבר עליו <br><b>MT:</b> כי ידעתי<mark>ו</mark> למען אש<mark>ׁ</mark>ר יצוה<mark></mark> את בניו ואת ביתו אחריו וש<mark>ׁ</mark>מרו דרך יהוה לעש<mark>ׂ</mark>ות צדקה ומש<mark>ׁ</mark>פט למען הביא יהוה על אברהם את אש<mark>ׁ</mark>ר דבר עליו </p>"
      ],
      "text/plain": [
       "<IPython.core.display.Markdown object>"
      ]
     },
     "metadata": {},
     "output_type": "display_data"
    },
    {
     "data": {
      "text/markdown": [
       "<h4>Genesis 18:20</h4><p><b>SP:</b> ויאמר יהוה <mark>צ</mark>עקת סדם ועמרה כי רבה וחטאתם כי כבדה מאד <br><b>MT:</b> ויאמר יהוה <mark>ז</mark>עקת סדם ועמרה כי רבה וחטאתם כי כבדה מאד </p>"
      ],
      "text/plain": [
       "<IPython.core.display.Markdown object>"
      ]
     },
     "metadata": {},
     "output_type": "display_data"
    },
    {
     "data": {
      "text/markdown": [
       "<h4>Genesis 18:21</h4><p><b>SP:</b> ארדה נא ואראה ה<mark>ך </mark>צעקתה הבאה אלי עש<mark></mark>ו<mark></mark> כלה ואם לא אדעה <br><b>MT:</b> ארדה נא ואראה ה<mark>כ</mark>צעקתה הבאה אלי עש<mark>ׂ</mark>ו<mark>׀</mark> כלה ואם לא אדעה </p>"
      ],
      "text/plain": [
       "<IPython.core.display.Markdown object>"
      ]
     },
     "metadata": {},
     "output_type": "display_data"
    },
    {
     "data": {
      "text/markdown": [
       "<h4>Genesis 18:22</h4><p><b>SP:</b> ויפנו מש<mark></mark>ם האנ<mark>ו</mark>ש<mark></mark>ים וילכו סדמה ואברהם עודנו עמד לפני יהוה <br><b>MT:</b> ויפנו מש<mark>ׁ</mark>ם האנ<mark></mark>ש<mark>ׁ</mark>ים וילכו סדמה ואברהם עודנו עמד לפני יהוה </p>"
      ],
      "text/plain": [
       "<IPython.core.display.Markdown object>"
      ]
     },
     "metadata": {},
     "output_type": "display_data"
    },
    {
     "data": {
      "text/markdown": [
       "<h4>Genesis 18:24</h4><p><b>SP:</b> אולי יש<mark></mark> חמש<mark></mark>ים צדיק<mark>י</mark>ם בתוך העיר האף תספה ולא תש<mark></mark>א למקום למען חמש<mark></mark>ים הצד<mark>ק</mark>י<mark></mark>ם אש<mark></mark>ר בקרבה <br><b>MT:</b> אולי יש<mark>ׁ</mark> חמש<mark>ׁ</mark>ים צדיק<mark></mark>ם בתוך העיר האף תספה ולא תש<mark>ׂ</mark>א למקום למען חמש<mark>ׁ</mark>ים הצד<mark>י</mark>ק<mark></mark>ם אש<mark>ׁ</mark>ר בקרבה </p>"
      ],
      "text/plain": [
       "<IPython.core.display.Markdown object>"
      ]
     },
     "metadata": {},
     "output_type": "display_data"
    },
    {
     "data": {
      "text/markdown": [
       "<h4>Genesis 18:25</h4><p><b>SP:</b> חל<mark>י</mark>לה לך מעש<mark>ו</mark>ת<mark></mark> כדבר הזה להמית צדיק עם רש<mark></mark>ע והיה כצדיק כרש<mark></mark>ע חל<mark>י</mark>לה לך הש<mark></mark>פט כל הארץ לא יעש<mark></mark>ה מש<mark></mark>פט <br><b>MT:</b> חל<mark></mark>לה לך מעש<mark>ׂ</mark>ת<mark>׀</mark> כדבר הזה להמית צדיק עם רש<mark>ׁ</mark>ע והיה כצדיק כרש<mark>ׁ</mark>ע חל<mark></mark>לה לך הש<mark>ׁ</mark>פט כל הארץ לא יעש<mark>ׂ</mark>ה מש<mark>ׁ</mark>פט </p>"
      ],
      "text/plain": [
       "<IPython.core.display.Markdown object>"
      ]
     },
     "metadata": {},
     "output_type": "display_data"
    },
    {
     "data": {
      "text/markdown": [
       "<h4>Genesis 18:26</h4><p><b>SP:</b> ויאמר יהוה אם אמצא בסדם חמש<mark></mark>ים צד<mark>ק</mark>י<mark></mark>ם בתוך העיר ונש<mark></mark>אתי לכל המקום בעבורם <br><b>MT:</b> ויאמר יהוה אם אמצא בסדם חמש<mark>ׁ</mark>ים צד<mark>י</mark>ק<mark></mark>ם בתוך העיר ונש<mark>ׂ</mark>אתי לכל המקום בעבורם </p>"
      ],
      "text/plain": [
       "<IPython.core.display.Markdown object>"
      ]
     },
     "metadata": {},
     "output_type": "display_data"
    },
    {
     "data": {
      "text/markdown": [
       "<h4>Genesis 18:28</h4><p><b>SP:</b> אולי יחסרון חמש<mark></mark>ים הצד<mark>ק</mark>י<mark></mark>ם חמש<mark></mark>ה התש<mark></mark>חית בחמש<mark></mark>ה את כל העיר ויאמר לא אש<mark></mark>חית אם אמצא ש<mark></mark>ם ארבעים וחמש<mark></mark>ה <br><b>MT:</b> אולי יחסרון חמש<mark>ׁ</mark>ים הצד<mark>י</mark>ק<mark></mark>ם חמש<mark>ׁ</mark>ה התש<mark>ׁ</mark>חית בחמש<mark>ׁ</mark>ה את כל העיר ויאמר לא אש<mark>ׁ</mark>חית אם אמצא ש<mark>ׁ</mark>ם ארבעים וחמש<mark>ׁ</mark>ה </p>"
      ],
      "text/plain": [
       "<IPython.core.display.Markdown object>"
      ]
     },
     "metadata": {},
     "output_type": "display_data"
    },
    {
     "data": {
      "text/markdown": [
       "<h4>Genesis 18:29</h4><p><b>SP:</b> ויסף עוד לדבר אליו ויאמר א<mark>ליו א</mark>ולי ימצאון ש<mark></mark>ם ארבעים ויאמר לא א<mark></mark>ש<mark>חית</mark> בעבור הארבעים <br><b>MT:</b> ויסף עוד לדבר אליו ויאמר א<mark></mark>ולי ימצאון ש<mark>ׁ</mark>ם ארבעים ויאמר לא א<mark>ע</mark>ש<mark>ׂה</mark> בעבור הארבעים </p>"
      ],
      "text/plain": [
       "<IPython.core.display.Markdown object>"
      ]
     },
     "metadata": {},
     "output_type": "display_data"
    },
    {
     "data": {
      "text/markdown": [
       "<h4>Genesis 18:30</h4><p><b>SP:</b> ויאמר אל נא יחר לאדני ואדברה אולי ימצאון ש<mark></mark>ם ש<mark></mark>לש<mark></mark>ים ויאמר לא א<mark></mark>ש<mark>חית</mark> אם אמצא ש<mark></mark>ם ש<mark></mark>לש<mark></mark>ים <br><b>MT:</b> ויאמר אל נא יחר לאדני ואדברה אולי ימצאון ש<mark>ׁ</mark>ם ש<mark>ׁ</mark>לש<mark>ׁ</mark>ים ויאמר לא א<mark>ע</mark>ש<mark>ׂה</mark> אם אמצא ש<mark>ׁ</mark>ם ש<mark>ׁ</mark>לש<mark>ׁ</mark>ים </p>"
      ],
      "text/plain": [
       "<IPython.core.display.Markdown object>"
      ]
     },
     "metadata": {},
     "output_type": "display_data"
    },
    {
     "data": {
      "text/markdown": [
       "<h4>Genesis 18:33</h4><p><b>SP:</b> וילך יהוה כאש<mark></mark>ר כלה לדבר אל אברהם ואברהם ש<mark></mark>ב למק<mark>ו</mark>מו <br><b>MT:</b> וילך יהוה כאש<mark>ׁ</mark>ר כלה לדבר אל אברהם ואברהם ש<mark>ׁ</mark>ב למק<mark></mark>מו </p>"
      ],
      "text/plain": [
       "<IPython.core.display.Markdown object>"
      ]
     },
     "metadata": {},
     "output_type": "display_data"
    },
    {
     "data": {
      "text/markdown": [
       "<h4>Genesis 19:1</h4><p><b>SP:</b> ויבאו ש<mark></mark>ני המלאכים סדמה בערב ולוט יש<mark></mark>ב בש<mark></mark>ער סדם וירא לוט ויקם לקראתם ויש<mark></mark>תחו<mark>י</mark> אפים ארצה <br><b>MT:</b> ויבאו ש<mark>ׁ</mark>ני המלאכים סדמה בערב ולוט יש<mark>ׁ</mark>ב בש<mark>ׁ</mark>ער סדם וירא לוט ויקם לקראתם ויש<mark>ׁ</mark>תחו<mark></mark> אפים ארצה </p>"
      ],
      "text/plain": [
       "<IPython.core.display.Markdown object>"
      ]
     },
     "metadata": {},
     "output_type": "display_data"
    },
    {
     "data": {
      "text/markdown": [
       "<h4>Genesis 19:2</h4><p><b>SP:</b> ויאמר הנה נא אדני סורו נא אל בית עבדכם ולינו ורחצו רגליכם והש<mark></mark>כמתם והלכתם לדרככם ויאמרו לא כי ברח<mark></mark>ב נלין <br><b>MT:</b> ויאמר הנה נא אדני סורו נא אל בית עבדכם ולינו ורחצו רגליכם והש<mark>ׁ</mark>כמתם והלכתם לדרככם ויאמרו לא כי ברח<mark>ו</mark>ב נלין </p>"
      ],
      "text/plain": [
       "<IPython.core.display.Markdown object>"
      ]
     },
     "metadata": {},
     "output_type": "display_data"
    },
    {
     "data": {
      "text/markdown": [
       "<h4>Genesis 19:4</h4><p><b>SP:</b> טרם יש<mark></mark>כבו <mark></mark>אנש<mark></mark>י העיר אנש<mark></mark>י סדם נסבו על הבית מנער ועד זקן כל העם מקצה <br><b>MT:</b> טרם יש<mark>ׁ</mark>כבו <mark>ו</mark>אנש<mark>ׁ</mark>י העיר אנש<mark>ׁ</mark>י סדם נסבו על הבית מנער ועד זקן כל העם מקצה </p>"
      ],
      "text/plain": [
       "<IPython.core.display.Markdown object>"
      ]
     },
     "metadata": {},
     "output_type": "display_data"
    },
    {
     "data": {
      "text/markdown": [
       "<h4>Genesis 19:5</h4><p><b>SP:</b> ויקראו אל לוט ויאמרו <mark>א</mark>ל<mark>י</mark>ו איה האנ<mark>ו</mark>ש<mark></mark>ים אש<mark></mark>ר באו אליך הלילה הוציאם אלינו ונדע<mark></mark> אתם <br><b>MT:</b> ויקראו אל לוט ויאמרו <mark></mark>ל<mark></mark>ו איה האנ<mark></mark>ש<mark>ׁ</mark>ים אש<mark>ׁ</mark>ר באו אליך הלילה הוציאם אלינו ונדע<mark>ה</mark> אתם </p>"
      ],
      "text/plain": [
       "<IPython.core.display.Markdown object>"
      ]
     },
     "metadata": {},
     "output_type": "display_data"
    },
    {
     "data": {
      "text/markdown": [
       "<h4>Genesis 19:6</h4><p><b>SP:</b> ויצא אל<mark>י</mark>הם לוט הפתח<mark></mark> והדלת סגר<mark>ו</mark> אחריו <br><b>MT:</b> ויצא אל<mark></mark>הם לוט הפתח<mark>ה</mark> והדלת סגר<mark></mark> אחריו </p>"
      ],
      "text/plain": [
       "<IPython.core.display.Markdown object>"
      ]
     },
     "metadata": {},
     "output_type": "display_data"
    },
    {
     "data": {
      "text/markdown": [
       "<h4>Genesis 19:7</h4><p><b>SP:</b> ויאמר אל נא אחי תר<mark>י</mark>עו <br><b>MT:</b> ויאמר אל נא אחי תר<mark></mark>עו </p>"
      ],
      "text/plain": [
       "<IPython.core.display.Markdown object>"
      ]
     },
     "metadata": {},
     "output_type": "display_data"
    },
    {
     "data": {
      "text/markdown": [
       "<h4>Genesis 19:8</h4><p><b>SP:</b> הנה נא לי ש<mark></mark>תי בנות אש<mark></mark>ר לא ידעו איש<mark></mark> <mark>ה</mark>וציא<mark></mark> נא אתהן אליכם ועש<mark></mark>ו להן כטוב בעיניכם רק לאנש<mark></mark>ים האל<mark>ה</mark> אל תעש<mark></mark>ו דבר כי על כן באו בצל ק<mark>ו</mark>רתי <br><b>MT:</b> הנה נא לי ש<mark>ׁ</mark>תי בנות אש<mark>ׁ</mark>ר לא ידעו איש<mark>ׁ</mark> <mark>א</mark>וציא<mark>ה</mark> נא אתהן אליכם ועש<mark>ׂ</mark>ו להן כטוב בעיניכם רק לאנש<mark>ׁ</mark>ים האל<mark></mark> אל תעש<mark>ׂ</mark>ו דבר כי על כן באו בצל ק<mark></mark>רתי </p>"
      ],
      "text/plain": [
       "<IPython.core.display.Markdown object>"
      ]
     },
     "metadata": {},
     "output_type": "display_data"
    },
    {
     "data": {
      "text/markdown": [
       "<h4>Genesis 19:9</h4><p><b>SP:</b> ויאמרו<mark></mark> גש<mark>ה</mark> הלאה ויאמרו <mark></mark>אחד בא לגור ויש<mark></mark>פט <mark>גם </mark>ש<mark></mark>פ<mark></mark>ט עתה נר<mark>י</mark>ע לך מהם ויפצרו באיש<mark></mark> בלוט מאד ויגש<mark></mark>ו לש<mark></mark>בר הדלת <br><b>MT:</b> ויאמרו<mark>׀</mark> גש<mark>ׁ</mark> הלאה ויאמרו <mark>ה</mark>אחד בא לגור ויש<mark>ׁ</mark>פט <mark></mark>ש<mark>ׁ</mark>פ<mark>ו</mark>ט עתה נר<mark></mark>ע לך מהם ויפצרו באיש<mark>ׁ</mark> בלוט מאד ויגש<mark>ׁ</mark>ו לש<mark>ׁ</mark>בר הדלת </p>"
      ],
      "text/plain": [
       "<IPython.core.display.Markdown object>"
      ]
     },
     "metadata": {},
     "output_type": "display_data"
    },
    {
     "data": {
      "text/markdown": [
       "<h4>Genesis 19:10</h4><p><b>SP:</b> ויש<mark></mark>לחו האנ<mark>ו</mark>ש<mark></mark>ים את ידם ויביאו את לוט אליהם הביתה ואת הדלת סגרו <br><b>MT:</b> ויש<mark>ׁ</mark>לחו האנ<mark></mark>ש<mark>ׁ</mark>ים את ידם ויביאו את לוט אליהם הביתה ואת הדלת סגרו </p>"
      ],
      "text/plain": [
       "<IPython.core.display.Markdown object>"
      ]
     },
     "metadata": {},
     "output_type": "display_data"
    },
    {
     "data": {
      "text/markdown": [
       "<h4>Genesis 19:12</h4><p><b>SP:</b> ויאמרו ה<mark>מל</mark>א<mark>כ</mark>ים אל לוט ע<mark>ו</mark>ד מי לך פה חתן <mark></mark>בניך ובנתיך וכל אש<mark></mark>ר לך בעיר הוצ<mark>י</mark>א מן המקום <mark>הזה </mark><br><b>MT:</b> ויאמרו ה<mark></mark>א<mark>נשׁ</mark>ים אל לוט ע<mark></mark>ד מי לך פה חתן <mark>ו</mark>בניך ובנתיך וכל אש<mark>ׁ</mark>ר לך בעיר הוצ<mark></mark>א מן המקום <mark></mark></p>"
      ],
      "text/plain": [
       "<IPython.core.display.Markdown object>"
      ]
     },
     "metadata": {},
     "output_type": "display_data"
    },
    {
     "data": {
      "text/markdown": [
       "<h4>Genesis 19:13</h4><p><b>SP:</b> כי מש<mark></mark>ח<mark>י</mark>תים אנחנו את המקום הזה כי גדלה צעקתם את פני יהוה ויש<mark></mark>לחנו יהוה ל<mark>ה</mark>ש<mark></mark>ח<mark>י</mark>תה <br><b>MT:</b> כי מש<mark>ׁ</mark>ח<mark></mark>תים אנחנו את המקום הזה כי גדלה צעקתם את פני יהוה ויש<mark>ׁ</mark>לחנו יהוה ל<mark></mark>ש<mark>ׁ</mark>ח<mark></mark>תה </p>"
      ],
      "text/plain": [
       "<IPython.core.display.Markdown object>"
      ]
     },
     "metadata": {},
     "output_type": "display_data"
    },
    {
     "data": {
      "text/markdown": [
       "<h4>Genesis 19:14</h4><p><b>SP:</b> ויצא לוט וידבר<mark></mark> אל חתניו<mark></mark> לקחי בנתיו ויאמר קומו צאו מן המקום הזה כי מש<mark></mark>חית יהוה את העיר ויהי כמצחק בעיני חתניו <br><b>MT:</b> ויצא לוט וידבר<mark>׀</mark> אל חתניו<mark>׀</mark> לקחי בנתיו ויאמר קומו צאו מן המקום הזה כי מש<mark>ׁ</mark>חית יהוה את העיר ויהי כמצחק בעיני חתניו </p>"
      ],
      "text/plain": [
       "<IPython.core.display.Markdown object>"
      ]
     },
     "metadata": {},
     "output_type": "display_data"
    },
    {
     "data": {
      "text/markdown": [
       "<h4>Genesis 19:15</h4><p><b>SP:</b> וכמו הש<mark></mark>חר עלה ויאיצו המלאכים בלוט לאמר קום קח את אש<mark></mark>תך ואת ש<mark></mark>תי בנתיך הנמצא<mark>ו</mark>ת פן תספה בעון העיר <br><b>MT:</b> וכמו הש<mark>ׁ</mark>חר עלה ויאיצו המלאכים בלוט לאמר קום קח את אש<mark>ׁ</mark>תך ואת ש<mark>ׁ</mark>תי בנתיך הנמצא<mark></mark>ת פן תספה בעון העיר </p>"
      ],
      "text/plain": [
       "<IPython.core.display.Markdown object>"
      ]
     },
     "metadata": {},
     "output_type": "display_data"
    },
    {
     "data": {
      "text/markdown": [
       "<h4>Genesis 19:16</h4><p><b>SP:</b> ויתמהמה<mark></mark> ויחזקו האנ<mark>ו</mark>ש<mark></mark>ים בידו וביד אש<mark></mark>תו וביד ש<mark></mark>תי בנתיו בחמלת יהוה עליו וי<mark>ו</mark>צ<mark>י</mark>אהו וינ<mark>י</mark>חהו מחוץ לעיר <br><b>MT:</b> ויתמהמה<mark>׀</mark> ויחזקו האנ<mark></mark>ש<mark>ׁ</mark>ים בידו וביד אש<mark>ׁ</mark>תו וביד ש<mark>ׁ</mark>תי בנתיו בחמלת יהוה עליו וי<mark></mark>צ<mark></mark>אהו וינ<mark></mark>חהו מחוץ לעיר </p>"
      ],
      "text/plain": [
       "<IPython.core.display.Markdown object>"
      ]
     },
     "metadata": {},
     "output_type": "display_data"
    },
    {
     "data": {
      "text/markdown": [
       "<h4>Genesis 19:17</h4><p><b>SP:</b> ויהי כהוציאם אתם החוצה ויאמר המלט על נפש<mark></mark>ך אל תב<mark></mark>ט אחריך ואל תעמד בכל הככר ההרה המלט פן תספה <br><b>MT:</b> ויהי כהוציאם אתם החוצה ויאמר המלט על נפש<mark>ׁ</mark>ך אל תב<mark>י</mark>ט אחריך ואל תעמד בכל הככר ההרה המלט פן תספה </p>"
      ],
      "text/plain": [
       "<IPython.core.display.Markdown object>"
      ]
     },
     "metadata": {},
     "output_type": "display_data"
    },
    {
     "data": {
      "text/markdown": [
       "<h4>Genesis 19:18</h4><p><b>SP:</b> ויאמר לוט אל<mark>י</mark>הם אל נא אדני <br><b>MT:</b> ויאמר לוט אל<mark></mark>הם אל נא אדני </p>"
      ],
      "text/plain": [
       "<IPython.core.display.Markdown object>"
      ]
     },
     "metadata": {},
     "output_type": "display_data"
    },
    {
     "data": {
      "text/markdown": [
       "<h4>Genesis 19:20</h4><p><b>SP:</b> הנה נא העיר הזאת קר<mark>ו</mark>בה לנו<mark>ס </mark>ש<mark></mark>מה והיא מצער אמלט<mark></mark> נא ש<mark></mark>מה הל<mark>ו</mark>א מצער ה<mark>י</mark>א ותחי<mark>ה</mark> נפש<mark></mark>י <br><b>MT:</b> הנה נא העיר הזאת קר<mark></mark>בה לנו<mark></mark>ש<mark>ׁ</mark>מה והיא מצער אמלט<mark>ה</mark> נא ש<mark>ׁ</mark>מה הל<mark></mark>א מצער ה<mark>ו</mark>א ותחי<mark></mark> נפש<mark>ׁ</mark>י </p>"
      ],
      "text/plain": [
       "<IPython.core.display.Markdown object>"
      ]
     },
     "metadata": {},
     "output_type": "display_data"
    },
    {
     "data": {
      "text/markdown": [
       "<h4>Genesis 19:22</h4><p><b>SP:</b> מהר המלט ש<mark></mark>מה כי לא אוכל לעש<mark></mark>ות דבר עד בא<mark>כה</mark> ש<mark></mark>מה על כן קרא ש<mark></mark>ם העיר צ<mark></mark>ער <br><b>MT:</b> מהר המלט ש<mark>ׁ</mark>מה כי לא אוכל לעש<mark>ׂ</mark>ות דבר עד בא<mark>ך</mark> ש<mark>ׁ</mark>מה על כן קרא ש<mark>ׁ</mark>ם העיר צ<mark>ו</mark>ער </p>"
      ],
      "text/plain": [
       "<IPython.core.display.Markdown object>"
      ]
     },
     "metadata": {},
     "output_type": "display_data"
    },
    {
     "data": {
      "text/markdown": [
       "<h4>Genesis 19:25</h4><p><b>SP:</b> ויהפך את הערים האל<mark>ה</mark> ואת כל הככר ואת כל יש<mark></mark>בי הערים וצמח האדמה <br><b>MT:</b> ויהפך את הערים האל<mark></mark> ואת כל הככר ואת כל יש<mark>ׁ</mark>בי הערים וצמח האדמה </p>"
      ],
      "text/plain": [
       "<IPython.core.display.Markdown object>"
      ]
     },
     "metadata": {},
     "output_type": "display_data"
    },
    {
     "data": {
      "text/markdown": [
       "<h4>Genesis 19:26</h4><p><b>SP:</b> ותבט אש<mark></mark>תו מאחריו ותהי נצ<mark></mark>ב מלח <br><b>MT:</b> ותבט אש<mark>ׁ</mark>תו מאחריו ותהי נצ<mark>י</mark>ב מלח </p>"
      ],
      "text/plain": [
       "<IPython.core.display.Markdown object>"
      ]
     },
     "metadata": {},
     "output_type": "display_data"
    },
    {
     "data": {
      "text/markdown": [
       "<h4>Genesis 19:28</h4><p><b>SP:</b> ויש<mark></mark>קף על פני סדם ועמרה ועל <mark></mark>פני <mark>כל ה</mark>ארץ הככר וירא והנה עלה קיט<mark>ו</mark>ר הארץ כקיט<mark>ו</mark>ר הכבש<mark></mark>ן <br><b>MT:</b> ויש<mark>ׁ</mark>קף על פני סדם ועמרה ועל <mark>כל </mark>פני <mark></mark>ארץ הככר וירא והנה עלה קיט<mark></mark>ר הארץ כקיט<mark></mark>ר הכבש<mark>ׁ</mark>ן </p>"
      ],
      "text/plain": [
       "<IPython.core.display.Markdown object>"
      ]
     },
     "metadata": {},
     "output_type": "display_data"
    },
    {
     "data": {
      "text/markdown": [
       "<h4>Genesis 19:29</h4><p><b>SP:</b> ויהי ב<mark>ה</mark>ש<mark></mark>ח<mark>י</mark>ת אלהים את ערי הככר ויזכר אלהים את אברהם ויש<mark></mark>לח את לוט מתוך ה<mark>א</mark>פכה בהפ<mark>כו</mark> את הערים אש<mark></mark>ר יש<mark></mark>ב בהן לוט <br><b>MT:</b> ויהי ב<mark></mark>ש<mark>ׁ</mark>ח<mark></mark>ת אלהים את ערי הככר ויזכר אלהים את אברהם ויש<mark>ׁ</mark>לח את לוט מתוך ה<mark>ה</mark>פכה בהפ<mark>ך</mark> את הערים אש<mark>ׁ</mark>ר יש<mark>ׁ</mark>ב בהן לוט </p>"
      ],
      "text/plain": [
       "<IPython.core.display.Markdown object>"
      ]
     },
     "metadata": {},
     "output_type": "display_data"
    },
    {
     "data": {
      "text/markdown": [
       "<h4>Genesis 19:30</h4><p><b>SP:</b> ויעל לוט מצ<mark></mark>ער ויש<mark></mark>ב בהר וש<mark></mark>תי בנתיו עמו כי ירא לש<mark></mark>בת בצ<mark></mark>ער ויש<mark></mark>ב במערה הוא וש<mark></mark>תי בנתיו <mark>עמו </mark><br><b>MT:</b> ויעל לוט מצ<mark>ו</mark>ער ויש<mark>ׁ</mark>ב בהר וש<mark>ׁ</mark>תי בנתיו עמו כי ירא לש<mark>ׁ</mark>בת בצ<mark>ו</mark>ער ויש<mark>ׁ</mark>ב במערה הוא וש<mark>ׁ</mark>תי בנתיו <mark></mark></p>"
      ],
      "text/plain": [
       "<IPython.core.display.Markdown object>"
      ]
     },
     "metadata": {},
     "output_type": "display_data"
    },
    {
     "data": {
      "text/markdown": [
       "<h4>Genesis 19:32</h4><p><b>SP:</b> לכ<mark>י</mark> נש<mark></mark>קה את אבינו יין ונש<mark></mark>כבה עמו ונחיה מאבינו זרע <br><b>MT:</b> לכ<mark>ה</mark> נש<mark>ׁ</mark>קה את אבינו יין ונש<mark>ׁ</mark>כבה עמו ונחיה מאבינו זרע </p>"
      ],
      "text/plain": [
       "<IPython.core.display.Markdown object>"
      ]
     },
     "metadata": {},
     "output_type": "display_data"
    },
    {
     "data": {
      "text/markdown": [
       "<h4>Genesis 19:33</h4><p><b>SP:</b> ותש<mark></mark>קי<mark>ה</mark>ן את אביהן יין בלילה ה<mark>ה</mark>וא ותבא הבכירה ותש<mark></mark>כב את אביה ולא ידע בש<mark></mark>כבה ובקומה <br><b>MT:</b> ותש<mark>ׁ</mark>קי<mark></mark>ן את אביהן יין בלילה ה<mark></mark>וא ותבא הבכירה ותש<mark>ׁ</mark>כב את אביה ולא ידע בש<mark>ׁ</mark>כבה ובקומה </p>"
      ],
      "text/plain": [
       "<IPython.core.display.Markdown object>"
      ]
     },
     "metadata": {},
     "output_type": "display_data"
    },
    {
     "data": {
      "text/markdown": [
       "<h4>Genesis 19:34</h4><p><b>SP:</b> ויהי ממחרת ותאמר הבכירה אל הצעירה ה<mark>נה</mark> ש<mark></mark>כבתי אמש<mark></mark> את אבי נש<mark></mark>ק<mark>י</mark>נו יין גם הלילה ובאי ש<mark></mark>כבי עמו ונחיה מאבינו זרע <br><b>MT:</b> ויהי ממחרת ותאמר הבכירה אל הצעירה ה<mark>ן</mark> ש<mark>ׁ</mark>כבתי אמש<mark>ׁ</mark> את אבי נש<mark>ׁ</mark>ק<mark></mark>נו יין גם הלילה ובאי ש<mark>ׁ</mark>כבי עמו ונחיה מאבינו זרע </p>"
      ],
      "text/plain": [
       "<IPython.core.display.Markdown object>"
      ]
     },
     "metadata": {},
     "output_type": "display_data"
    },
    {
     "data": {
      "text/markdown": [
       "<h4>Genesis 19:35</h4><p><b>SP:</b> ותש<mark></mark>קי<mark>ה</mark>ן גם בלילה ההוא את אביהן יין ותקם הצעירה ותש<mark></mark>כב עמו ולא ידע בש<mark></mark>כבה ובק<mark>ו</mark>מה <br><b>MT:</b> ותש<mark>ׁ</mark>קי<mark></mark>ן גם בלילה ההוא את אביהן יין ותקם הצעירה ותש<mark>ׁ</mark>כב עמו ולא ידע בש<mark>ׁ</mark>כבה ובק<mark></mark>מה </p>"
      ],
      "text/plain": [
       "<IPython.core.display.Markdown object>"
      ]
     },
     "metadata": {},
     "output_type": "display_data"
    },
    {
     "data": {
      "text/markdown": [
       "<h4>Genesis 19:36</h4><p><b>SP:</b> ותהר<mark>נה</mark> ש<mark></mark>תי בנות לוט מאביהן <br><b>MT:</b> ותהר<mark>ין</mark> ש<mark>ׁ</mark>תי בנות לוט מאביהן </p>"
      ],
      "text/plain": [
       "<IPython.core.display.Markdown object>"
      ]
     },
     "metadata": {},
     "output_type": "display_data"
    },
    {
     "data": {
      "text/markdown": [
       "<h4>Genesis 19:37</h4><p><b>SP:</b> ותלד הבכירה בן ותקרא <mark>את </mark>ש<mark></mark>מו מואב הוא אבי מואב עד היום <br><b>MT:</b> ותלד הבכירה בן ותקרא <mark></mark>ש<mark>ׁ</mark>מו מואב הוא אבי מואב עד היום </p>"
      ],
      "text/plain": [
       "<IPython.core.display.Markdown object>"
      ]
     },
     "metadata": {},
     "output_type": "display_data"
    },
    {
     "data": {
      "text/markdown": [
       "<h4>Genesis 19:38</h4><p><b>SP:</b> והצעירה גם ה<mark>י</mark>א ילדה בן ותקרא <mark>את </mark>ש<mark></mark>מו ב<mark>נ</mark> עמי הוא אבי בני עמון עד היום <br><b>MT:</b> והצעירה גם ה<mark>ו</mark>א ילדה בן ותקרא <mark></mark>ש<mark>ׁ</mark>מו ב<mark>ן</mark> עמי הוא אבי בני עמון עד היום </p>"
      ],
      "text/plain": [
       "<IPython.core.display.Markdown object>"
      ]
     },
     "metadata": {},
     "output_type": "display_data"
    },
    {
     "data": {
      "text/markdown": [
       "<h4>Genesis 20:1</h4><p><b>SP:</b> ויסע מש<mark></mark>ם אברהם אר<mark>ץ</mark> הנגב ויש<mark></mark>ב בין קדש<mark></mark> ובין ש<mark></mark>ור ויגר בגרר <br><b>MT:</b> ויסע מש<mark>ׁ</mark>ם אברהם אר<mark>צה</mark> הנגב ויש<mark>ׁ</mark>ב בין קדש<mark>ׁ</mark> ובין ש<mark>ׁ</mark>ור ויגר בגרר </p>"
      ],
      "text/plain": [
       "<IPython.core.display.Markdown object>"
      ]
     },
     "metadata": {},
     "output_type": "display_data"
    },
    {
     "data": {
      "text/markdown": [
       "<h4>Genesis 20:2</h4><p><b>SP:</b> ויאמר אברהם אל ש<mark></mark>רה אש<mark></mark>תו אח<mark>ו</mark>תי ה<mark>י</mark>א ויש<mark></mark>לח אבימלך מלך גרר ויקח את ש<mark></mark>רה <br><b>MT:</b> ויאמר אברהם אל ש<mark>ׂ</mark>רה אש<mark>ׁ</mark>תו אח<mark></mark>תי ה<mark>ו</mark>א ויש<mark>ׁ</mark>לח אבימלך מלך גרר ויקח את ש<mark>ׂ</mark>רה </p>"
      ],
      "text/plain": [
       "<IPython.core.display.Markdown object>"
      ]
     },
     "metadata": {},
     "output_type": "display_data"
    },
    {
     "data": {
      "text/markdown": [
       "<h4>Genesis 20:3</h4><p><b>SP:</b> ויבא אלהים אל אבימלך בחלום הלילה ויאמר לו הנך מת על <mark>אדות </mark>האש<mark></mark>ה אש<mark></mark>ר לקחת וה<mark>י</mark>א בע<mark>י</mark>לת בעל <br><b>MT:</b> ויבא אלהים אל אבימלך בחלום הלילה ויאמר לו הנך מת על <mark></mark>האש<mark>ׁ</mark>ה אש<mark>ׁ</mark>ר לקחת וה<mark>ו</mark>א בע<mark></mark>לת בעל </p>"
      ],
      "text/plain": [
       "<IPython.core.display.Markdown object>"
      ]
     },
     "metadata": {},
     "output_type": "display_data"
    },
    {
     "data": {
      "text/markdown": [
       "<h4>Genesis 20:5</h4><p><b>SP:</b> הל<mark>ו</mark>א הוא אמר לי אח<mark>ו</mark>תי ה<mark>י</mark>א והיא גם<mark></mark> אמרה אחי הוא בתם לבבי ובנקי<mark>ו</mark>ן כפי עש<mark></mark>יתי זאת <br><b>MT:</b> הל<mark></mark>א הוא אמר לי אח<mark></mark>תי ה<mark>ו</mark>א והיא גם<mark> הוא</mark> אמרה אחי הוא בתם לבבי ובנקי<mark></mark>ן כפי עש<mark>ׂ</mark>יתי זאת </p>"
      ],
      "text/plain": [
       "<IPython.core.display.Markdown object>"
      ]
     },
     "metadata": {},
     "output_type": "display_data"
    },
    {
     "data": {
      "text/markdown": [
       "<h4>Genesis 20:6</h4><p><b>SP:</b> ויאמר אליו האלהים בחל<mark>ו</mark>ם גם אנכי ידעתי כי בתם לבבך עש<mark></mark>ית זאת ואחש<mark></mark>ך גם אנכי א<mark></mark>תך מחט<mark>אה</mark> לי על כן לא נתתיך לנגע אליה <br><b>MT:</b> ויאמר אליו האלהים בחל<mark></mark>ם גם אנכי ידעתי כי בתם לבבך עש<mark>ׂ</mark>ית זאת ואחש<mark>ׂ</mark>ך גם אנכי א<mark>ו</mark>תך מחט<mark>ו</mark> לי על כן לא נתתיך לנגע אליה </p>"
      ],
      "text/plain": [
       "<IPython.core.display.Markdown object>"
      ]
     },
     "metadata": {},
     "output_type": "display_data"
    },
    {
     "data": {
      "text/markdown": [
       "<h4>Genesis 20:7</h4><p><b>SP:</b> ועתה הש<mark></mark>ב א<mark>ת א</mark>ש<mark></mark>ת האיש<mark></mark> כי נביא הוא ויתפלל בעדך וחיה ואם אינך מש<mark></mark>יב דע כי מות תמות אתה וכל אש<mark></mark>ר לך <br><b>MT:</b> ועתה הש<mark>ׁ</mark>ב א<mark></mark>ש<mark>ׁ</mark>ת האיש<mark>ׁ</mark> כי נביא הוא ויתפלל בעדך וחיה ואם אינך מש<mark>ׁ</mark>יב דע כי מות תמות אתה וכל אש<mark>ׁ</mark>ר לך </p>"
      ],
      "text/plain": [
       "<IPython.core.display.Markdown object>"
      ]
     },
     "metadata": {},
     "output_type": "display_data"
    },
    {
     "data": {
      "text/markdown": [
       "<h4>Genesis 20:8</h4><p><b>SP:</b> ויש<mark></mark>כם אבימלך בבקר ויקרא לכל עבדיו וידבר את כל הדברים האלה באזניהם וייראו <mark>כל </mark>האנש<mark></mark>ים מאד <br><b>MT:</b> ויש<mark>ׁ</mark>כם אבימלך בבקר ויקרא לכל עבדיו וידבר את כל הדברים האלה באזניהם וייראו <mark></mark>האנש<mark>ׁ</mark>ים מאד </p>"
      ],
      "text/plain": [
       "<IPython.core.display.Markdown object>"
      ]
     },
     "metadata": {},
     "output_type": "display_data"
    },
    {
     "data": {
      "text/markdown": [
       "<h4>Genesis 20:9</h4><p><b>SP:</b> ויקרא אבימלך לאברהם ויאמר לו מה עש<mark></mark>ית לנו ומה חטאתי לך כי הבאת עלי ועל ממלכתי חטאה גדלה מעש<mark></mark>ים אש<mark></mark>ר לא יעש<mark></mark>ו<mark>ן</mark> עש<mark></mark>ית עמדי <br><b>MT:</b> ויקרא אבימלך לאברהם ויאמר לו מה עש<mark>ׂ</mark>ית לנו ומה חטאתי לך כי הבאת עלי ועל ממלכתי חטאה גדלה מעש<mark>ׂ</mark>ים אש<mark>ׁ</mark>ר לא יעש<mark>ׂ</mark>ו<mark></mark> עש<mark>ׂ</mark>ית עמדי </p>"
      ],
      "text/plain": [
       "<IPython.core.display.Markdown object>"
      ]
     },
     "metadata": {},
     "output_type": "display_data"
    },
    {
     "data": {
      "text/markdown": [
       "<h4>Genesis 20:11</h4><p><b>SP:</b> ויאמר אברהם<mark> כי יראתי</mark> כי אמרתי רק אין יראת אלהים במקום הזה והרגוני על דבר אש<mark></mark>תי <br><b>MT:</b> ויאמר אברהם<mark></mark> כי אמרתי רק אין יראת אלהים במקום הזה והרגוני על דבר אש<mark>ׁ</mark>תי </p>"
      ],
      "text/plain": [
       "<IPython.core.display.Markdown object>"
      ]
     },
     "metadata": {},
     "output_type": "display_data"
    },
    {
     "data": {
      "text/markdown": [
       "<h4>Genesis 20:12</h4><p><b>SP:</b> וגם <mark>ה</mark>אמנ<mark>ם</mark> אח<mark>ו</mark>תי<mark> היא</mark> בת אבי<mark></mark> אך לא בת אמי ותהי לי לאש<mark></mark>ה <br><b>MT:</b> וגם <mark></mark>אמנ<mark>ה</mark> אח<mark></mark>תי<mark></mark> בת אבי<mark> הוא</mark> אך לא בת אמי ותהי לי לאש<mark>ׁ</mark>ה </p>"
      ],
      "text/plain": [
       "<IPython.core.display.Markdown object>"
      ]
     },
     "metadata": {},
     "output_type": "display_data"
    },
    {
     "data": {
      "text/markdown": [
       "<h4>Genesis 20:13</h4><p><b>SP:</b> ויהי כאש<mark></mark>ר התע<mark>ה</mark> אתי אלהים מבית אבי ו<mark>מארץ מולדתי ו</mark>אמר לה זה חסד<mark>י</mark>ך אש<mark></mark>ר תעש<mark></mark>י<mark>ן</mark> עמדי אל כל המקום אש<mark></mark>ר נבוא ש<mark></mark>מה אמרי לי אחי הוא <br><b>MT:</b> ויהי כאש<mark>ׁ</mark>ר התע<mark>ו</mark> אתי אלהים מבית אבי ו<mark></mark>אמר לה זה חסד<mark></mark>ך אש<mark>ׁ</mark>ר תעש<mark>ׂ</mark>י<mark></mark> עמדי אל כל המקום אש<mark>ׁ</mark>ר נבוא ש<mark>ׁ</mark>מה אמרי לי אחי הוא </p>"
      ],
      "text/plain": [
       "<IPython.core.display.Markdown object>"
      ]
     },
     "metadata": {},
     "output_type": "display_data"
    },
    {
     "data": {
      "text/markdown": [
       "<h4>Genesis 20:14</h4><p><b>SP:</b> ויקח אבימלך <mark>אלף כסף ו</mark>צאן ובקר ועבדים וש<mark></mark>פח<mark>ו</mark>ת ויתן לאברהם ויש<mark></mark>ב לו את ש<mark></mark>רה אש<mark></mark>תו <br><b>MT:</b> ויקח אבימלך <mark></mark>צאן ובקר ועבדים וש<mark>ׁ</mark>פח<mark></mark>ת ויתן לאברהם ויש<mark>ׁ</mark>ב לו את ש<mark>ׂ</mark>רה אש<mark>ׁ</mark>תו </p>"
      ],
      "text/plain": [
       "<IPython.core.display.Markdown object>"
      ]
     },
     "metadata": {},
     "output_type": "display_data"
    },
    {
     "data": {
      "text/markdown": [
       "<h4>Genesis 20:16</h4><p><b>SP:</b> ולש<mark></mark>רה אמר הנה נתתי אלף כסף לאחיך הנה הוא ל<mark>י</mark>ך כסות עינים <mark>ו</mark>לכל אש<mark></mark>ר את<mark>י</mark>ך ואת <mark>ה</mark>כל ונ<mark>ו</mark>כחת <br><b>MT:</b> ולש<mark>ׂ</mark>רה אמר הנה נתתי אלף כסף לאחיך הנה הוא ל<mark></mark>ך כסות עינים <mark></mark>לכל אש<mark>ׁ</mark>ר את<mark></mark>ך ואת <mark></mark>כל ונ<mark></mark>כחת </p>"
      ],
      "text/plain": [
       "<IPython.core.display.Markdown object>"
      ]
     },
     "metadata": {},
     "output_type": "display_data"
    },
    {
     "data": {
      "text/markdown": [
       "<h4>Genesis 20:17</h4><p><b>SP:</b> ויתפלל אברהם אל האלהים וירפא אלהים את אבימלך ואת אש<mark></mark>תו ואמ<mark></mark>תיו וילדו <br><b>MT:</b> ויתפלל אברהם אל האלהים וירפא אלהים את אבימלך ואת אש<mark>ׁ</mark>תו ואמ<mark>ה</mark>תיו וילדו </p>"
      ],
      "text/plain": [
       "<IPython.core.display.Markdown object>"
      ]
     },
     "metadata": {},
     "output_type": "display_data"
    },
    {
     "data": {
      "text/markdown": [
       "<h4>Genesis 20:18</h4><p><b>SP:</b> כי עצר עצר <mark>אלה</mark>י<mark>ם</mark> בעד כל רחם לבית אבימלך על דבר ש<mark></mark>רה אש<mark></mark>ת אברהם <br><b>MT:</b> כי עצר עצר <mark>י</mark>ה<mark>וה</mark> בעד כל רחם לבית אבימלך על דבר ש<mark>ׂ</mark>רה אש<mark>ׁ</mark>ת אברהם </p>"
      ],
      "text/plain": [
       "<IPython.core.display.Markdown object>"
      ]
     },
     "metadata": {},
     "output_type": "display_data"
    },
    {
     "data": {
      "text/markdown": [
       "<h4>Genesis 21:7</h4><p><b>SP:</b> ותאמר מי מלל לאברהם היניקה בנים ש<mark></mark>רה כי ילדתי <mark>לו </mark>בן לזקניו <br><b>MT:</b> ותאמר מי מלל לאברהם היניקה בנים ש<mark>ׂ</mark>רה כי ילדתי <mark></mark>בן לזקניו </p>"
      ],
      "text/plain": [
       "<IPython.core.display.Markdown object>"
      ]
     },
     "metadata": {},
     "output_type": "display_data"
    },
    {
     "data": {
      "text/markdown": [
       "<h4>Genesis 21:8</h4><p><b>SP:</b> ויגדל הילד ויגמל ויעש<mark></mark> אברהם מש<mark></mark>תה גדול ביום הגמל את יצחק <mark>בנו </mark><br><b>MT:</b> ויגדל הילד ויגמל ויעש<mark>ׂ</mark> אברהם מש<mark>ׁ</mark>תה גדול ביום הגמל את יצחק <mark></mark></p>"
      ],
      "text/plain": [
       "<IPython.core.display.Markdown object>"
      ]
     },
     "metadata": {},
     "output_type": "display_data"
    },
    {
     "data": {
      "text/markdown": [
       "<h4>Genesis 21:10</h4><p><b>SP:</b> ותאמר לאברהם גרש<mark> את</mark> האמה הזאת ואת בנה כי לא יירש<mark></mark> בן האמה הזאת עם בני עם יצחק <br><b>MT:</b> ותאמר לאברהם גרש<mark>ׁ</mark> האמה הזאת ואת בנה כי לא יירש<mark>ׁ</mark> בן האמה הזאת עם בני עם יצחק </p>"
      ],
      "text/plain": [
       "<IPython.core.display.Markdown object>"
      ]
     },
     "metadata": {},
     "output_type": "display_data"
    },
    {
     "data": {
      "text/markdown": [
       "<h4>Genesis 21:11</h4><p><b>SP:</b> וירע הדבר מאד בעיני אברהם על א<mark>ד</mark>ו<mark></mark>ת בנו <br><b>MT:</b> וירע הדבר מאד בעיני אברהם על א<mark>ו</mark>ד<mark></mark>ת בנו </p>"
      ],
      "text/plain": [
       "<IPython.core.display.Markdown object>"
      ]
     },
     "metadata": {},
     "output_type": "display_data"
    },
    {
     "data": {
      "text/markdown": [
       "<h4>Genesis 21:12</h4><p><b>SP:</b> ויאמר אלהים אל אברהם אל ירע בעיניך על הנער ועל אמתך כל אש<mark></mark>ר תאמר אליך ש<mark></mark>רה ש<mark></mark>מע בק<mark>ו</mark>לה כי ביצחק יקרא לך זרע <br><b>MT:</b> ויאמר אלהים אל אברהם אל ירע בעיניך על הנער ועל אמתך כל אש<mark>ׁ</mark>ר תאמר אליך ש<mark>ׂ</mark>רה ש<mark>ׁ</mark>מע בק<mark></mark>לה כי ביצחק יקרא לך זרע </p>"
      ],
      "text/plain": [
       "<IPython.core.display.Markdown object>"
      ]
     },
     "metadata": {},
     "output_type": "display_data"
    },
    {
     "data": {
      "text/markdown": [
       "<h4>Genesis 21:13</h4><p><b>SP:</b> וגם את בן האמה <mark>הזאת </mark>לגוי <mark>גדול </mark>אש<mark></mark>ימנו כי זרעך הוא <br><b>MT:</b> וגם את בן האמה <mark></mark>לגוי <mark></mark>אש<mark>ׂ</mark>ימנו כי זרעך הוא </p>"
      ],
      "text/plain": [
       "<IPython.core.display.Markdown object>"
      ]
     },
     "metadata": {},
     "output_type": "display_data"
    },
    {
     "data": {
      "text/markdown": [
       "<h4>Genesis 21:14</h4><p><b>SP:</b> ויש<mark></mark>כם אברהם<mark></mark> בבקר ויקח לחם וחמת מים ויתן אל הגר ש<mark></mark>ם על ש<mark></mark>כמה ואת הילד ויש<mark></mark>לחה ותלך ותתע במדבר באר ש<mark></mark>בע <br><b>MT:</b> ויש<mark>ׁ</mark>כם אברהם<mark>׀</mark> בבקר ויקח לחם וחמת מים ויתן אל הגר ש<mark>ׂ</mark>ם על ש<mark>ׁ</mark>כמה ואת הילד ויש<mark>ׁ</mark>לחה ותלך ותתע במדבר באר ש<mark>ׁ</mark>בע </p>"
      ],
      "text/plain": [
       "<IPython.core.display.Markdown object>"
      ]
     },
     "metadata": {},
     "output_type": "display_data"
    },
    {
     "data": {
      "text/markdown": [
       "<h4>Genesis 21:15</h4><p><b>SP:</b> ויכלו המים מן החמת ותש<mark></mark>ל<mark>י</mark>ך את הילד תחת אחד הש<mark>ח</mark>י<mark></mark>ם <br><b>MT:</b> ויכלו המים מן החמת ותש<mark>ׁ</mark>ל<mark></mark>ך את הילד תחת אחד הש<mark>ׂי</mark>ח<mark></mark>ם </p>"
      ],
      "text/plain": [
       "<IPython.core.display.Markdown object>"
      ]
     },
     "metadata": {},
     "output_type": "display_data"
    },
    {
     "data": {
      "text/markdown": [
       "<h4>Genesis 21:16</h4><p><b>SP:</b> ותלך ותש<mark></mark>ב לה מנגד הרחק<mark>ה</mark> כמט<mark></mark>וי קש<mark></mark>ת כי אמרה אל אראה במות הילד ותש<mark></mark>ב מנגד ותש<mark></mark>א את ק<mark>ו</mark>לה ותבך <br><b>MT:</b> ותלך ותש<mark>ׁ</mark>ב לה מנגד הרחק<mark></mark> כמט<mark>ח</mark>וי קש<mark>ׁ</mark>ת כי אמרה אל אראה במות הילד ותש<mark>ׁ</mark>ב מנגד ותש<mark>ׂ</mark>א את ק<mark></mark>לה ותבך </p>"
      ],
      "text/plain": [
       "<IPython.core.display.Markdown object>"
      ]
     },
     "metadata": {},
     "output_type": "display_data"
    },
    {
     "data": {
      "text/markdown": [
       "<h4>Genesis 21:17</h4><p><b>SP:</b> ויש<mark></mark>מע אלהים את קול הנער ויקרא מלאך אלהים<mark></mark> אל הגר מן הש<mark></mark>מים ויאמר לה מ<mark></mark>ל<mark>כי</mark> הגר אל תיראי כי ש<mark></mark>מע אלהים א<mark>ת</mark> קול הנער באש<mark></mark>ר הוא ש<mark></mark>ם <br><b>MT:</b> ויש<mark>ׁ</mark>מע אלהים את קול הנער ויקרא מלאך אלהים<mark>׀</mark> אל הגר מן הש<mark>ׁ</mark>מים ויאמר לה מ<mark>ה </mark>ל<mark>ך</mark> הגר אל תיראי כי ש<mark>ׁ</mark>מע אלהים א<mark>ל</mark> קול הנער באש<mark>ׁ</mark>ר הוא ש<mark>ׁ</mark>ם </p>"
      ],
      "text/plain": [
       "<IPython.core.display.Markdown object>"
      ]
     },
     "metadata": {},
     "output_type": "display_data"
    },
    {
     "data": {
      "text/markdown": [
       "<h4>Genesis 21:18</h4><p><b>SP:</b> קומי ש<mark></mark>אי את הנער ו<mark></mark>חז<mark></mark>קי את ידך בו כי לגוי גדול אש<mark></mark>ימנו <br><b>MT:</b> קומי ש<mark>ׂ</mark>אי את הנער ו<mark>ה</mark>חז<mark>י</mark>קי את ידך בו כי לגוי גדול אש<mark>ׂ</mark>ימנו </p>"
      ],
      "text/plain": [
       "<IPython.core.display.Markdown object>"
      ]
     },
     "metadata": {},
     "output_type": "display_data"
    },
    {
     "data": {
      "text/markdown": [
       "<h4>Genesis 21:20</h4><p><b>SP:</b> ויהי אלהים את הנער ויגדל ויש<mark></mark>ב במדבר ויהי רב<mark>י</mark> קש<mark></mark>ת <br><b>MT:</b> ויהי אלהים את הנער ויגדל ויש<mark>ׁ</mark>ב במדבר ויהי רב<mark>ה</mark> קש<mark>ׁ</mark>ת </p>"
      ],
      "text/plain": [
       "<IPython.core.display.Markdown object>"
      ]
     },
     "metadata": {},
     "output_type": "display_data"
    },
    {
     "data": {
      "text/markdown": [
       "<h4>Genesis 21:21</h4><p><b>SP:</b> ויש<mark></mark>ב במדבר פ<mark>ר</mark>א<mark></mark>ן ותקח לו אמו אש<mark></mark>ה מארץ מצרים <br><b>MT:</b> ויש<mark>ׁ</mark>ב במדבר פ<mark>א</mark>ר<mark></mark>ן ותקח לו אמו אש<mark>ׁ</mark>ה מארץ מצרים </p>"
      ],
      "text/plain": [
       "<IPython.core.display.Markdown object>"
      ]
     },
     "metadata": {},
     "output_type": "display_data"
    },
    {
     "data": {
      "text/markdown": [
       "<h4>Genesis 21:22</h4><p><b>SP:</b> ויהי בעת הה<mark>י</mark>א ויאמר אבימלך ופי<mark> </mark>כל ש<mark></mark>ר צבאו אל אברהם לאמר אלהים עמך בכל אש<mark></mark>ר אתה עש<mark></mark>ה <br><b>MT:</b> ויהי בעת הה<mark>ו</mark>א ויאמר אבימלך ופי<mark></mark>כל ש<mark>ׂ</mark>ר צבאו אל אברהם לאמר אלהים עמך בכל אש<mark>ׁ</mark>ר אתה עש<mark>ׂ</mark>ה </p>"
      ],
      "text/plain": [
       "<IPython.core.display.Markdown object>"
      ]
     },
     "metadata": {},
     "output_type": "display_data"
    },
    {
     "data": {
      "text/markdown": [
       "<h4>Genesis 21:23</h4><p><b>SP:</b> ועתה הש<mark></mark>בע<mark></mark> לי באלהים הנה אם תש<mark></mark>קר לי ולניני ולנ<mark>ג</mark>די <mark>ו</mark>כחסד אש<mark></mark>ר עש<mark></mark>יתי עמך תעש<mark></mark>ה עמדי ועם הארץ אש<mark></mark>ר גרת<mark></mark> בה <br><b>MT:</b> ועתה הש<mark>ׁ</mark>בע<mark>ה</mark> לי באלהים הנה אם תש<mark>ׁ</mark>קר לי ולניני ולנ<mark>כ</mark>די <mark></mark>כחסד אש<mark>ׁ</mark>ר עש<mark>ׂ</mark>יתי עמך תעש<mark>ׂ</mark>ה עמדי ועם הארץ אש<mark>ׁ</mark>ר גרת<mark>ה</mark> בה </p>"
      ],
      "text/plain": [
       "<IPython.core.display.Markdown object>"
      ]
     },
     "metadata": {},
     "output_type": "display_data"
    },
    {
     "data": {
      "text/markdown": [
       "<h4>Genesis 21:24</h4><p><b>SP:</b> ויאמר אברהם אנכי <mark>ה</mark>ש<mark></mark>בע <br><b>MT:</b> ויאמר אברהם אנכי <mark>א</mark>ש<mark>ׁ</mark>בע </p>"
      ],
      "text/plain": [
       "<IPython.core.display.Markdown object>"
      ]
     },
     "metadata": {},
     "output_type": "display_data"
    },
    {
     "data": {
      "text/markdown": [
       "<h4>Genesis 21:25</h4><p><b>SP:</b> והוכ<mark>י</mark>ח אברהם את אבימלך על אדות באר המים אש<mark></mark>ר גזלו עבדי אבימלך <br><b>MT:</b> והוכ<mark></mark>ח אברהם את אבימלך על אדות באר המים אש<mark>ׁ</mark>ר גזלו עבדי אבימלך </p>"
      ],
      "text/plain": [
       "<IPython.core.display.Markdown object>"
      ]
     },
     "metadata": {},
     "output_type": "display_data"
    },
    {
     "data": {
      "text/markdown": [
       "<h4>Genesis 21:28</h4><p><b>SP:</b> ויצב אברהם <mark></mark>ש<mark></mark>בע כבש<mark>ו</mark>ת <mark></mark>צאן לבדהן <br><b>MT:</b> ויצב אברהם <mark>את </mark>ש<mark>ׁ</mark>בע כבש<mark>ׂ</mark>ת <mark>ה</mark>צאן לבדהן </p>"
      ],
      "text/plain": [
       "<IPython.core.display.Markdown object>"
      ]
     },
     "metadata": {},
     "output_type": "display_data"
    },
    {
     "data": {
      "text/markdown": [
       "<h4>Genesis 21:29</h4><p><b>SP:</b> ויאמר אבימלך אל אברהם מה הנה ש<mark></mark>בע <mark>ה</mark>כבש<mark>ו</mark>ת האלה אש<mark></mark>ר הצבת לבד<mark></mark>ה<mark>ן</mark> <br><b>MT:</b> ויאמר אבימלך אל אברהם מה הנה ש<mark>ׁ</mark>בע <mark></mark>כבש<mark>ׂ</mark>ת האלה אש<mark>ׁ</mark>ר הצבת לבד<mark>נ</mark>ה<mark></mark> </p>"
      ],
      "text/plain": [
       "<IPython.core.display.Markdown object>"
      ]
     },
     "metadata": {},
     "output_type": "display_data"
    },
    {
     "data": {
      "text/markdown": [
       "<h4>Genesis 21:30</h4><p><b>SP:</b> ויאמר<mark> אברהם</mark> כי את ש<mark></mark>בע <mark>ה</mark>כבש<mark>ו</mark>ת תקח מידי בעבור תהיה לי לעדה כי חפרתי את הבאר הזאת <br><b>MT:</b> ויאמר<mark></mark> כי את ש<mark>ׁ</mark>בע <mark></mark>כבש<mark>ׂ</mark>ת תקח מידי בעבור תהיה לי לעדה כי חפרתי את הבאר הזאת </p>"
      ],
      "text/plain": [
       "<IPython.core.display.Markdown object>"
      ]
     },
     "metadata": {},
     "output_type": "display_data"
    },
    {
     "data": {
      "text/markdown": [
       "<h4>Genesis 21:32</h4><p><b>SP:</b> ויכרתו ברית בבאר ש<mark></mark>בע ויקם אבימלך ופי<mark> </mark>כל ש<mark></mark>ר צבאו ויש<mark></mark>בו אל ארץ פלש<mark></mark>תים <br><b>MT:</b> ויכרתו ברית בבאר ש<mark>ׁ</mark>בע ויקם אבימלך ופי<mark></mark>כל ש<mark>ׂ</mark>ר צבאו ויש<mark>ׁ</mark>בו אל ארץ פלש<mark>ׁ</mark>תים </p>"
      ],
      "text/plain": [
       "<IPython.core.display.Markdown object>"
      ]
     },
     "metadata": {},
     "output_type": "display_data"
    },
    {
     "data": {
      "text/markdown": [
       "<h4>Genesis 21:33</h4><p><b>SP:</b> ויטע א<mark>ברהם א</mark>ש<mark></mark>ל בבאר ש<mark></mark>בע ויקרא ש<mark></mark>ם בש<mark></mark>ם יהוה אל עולם <br><b>MT:</b> ויטע א<mark></mark>ש<mark>ׁ</mark>ל בבאר ש<mark>ׁ</mark>בע ויקרא ש<mark>ׁ</mark>ם בש<mark>ׁ</mark>ם יהוה אל עולם </p>"
      ],
      "text/plain": [
       "<IPython.core.display.Markdown object>"
      ]
     },
     "metadata": {},
     "output_type": "display_data"
    },
    {
     "data": {
      "text/markdown": [
       "<h4>Genesis 22:2</h4><p><b>SP:</b> ויאמר קח נא את בנך את יחידך אש<mark></mark>ר אהבת את יצחק ולך לך אל ארץ המ<mark>ו</mark>ר<mark>א</mark>ה והעלהו ש<mark></mark>ם <mark></mark>עלה על אחד ההרים אש<mark></mark>ר אמר אליך <br><b>MT:</b> ויאמר קח נא את בנך את יחידך אש<mark>ׁ</mark>ר אהבת את יצחק ולך לך אל ארץ המ<mark></mark>ר<mark>י</mark>ה והעלהו ש<mark>ׁ</mark>ם <mark>ל</mark>עלה על אחד ההרים אש<mark>ׁ</mark>ר אמר אליך </p>"
      ],
      "text/plain": [
       "<IPython.core.display.Markdown object>"
      ]
     },
     "metadata": {},
     "output_type": "display_data"
    },
    {
     "data": {
      "text/markdown": [
       "<h4>Genesis 22:3</h4><p><b>SP:</b> ויש<mark></mark>כם אברהם בבקר ויחבש<mark></mark> את חמ<mark>ו</mark>רו ויקח את ש<mark></mark>ני נעריו אתו ואת יצחק בנו ויבקע עצי <mark>ה</mark>עלה ויקם וילך אל המקום אש<mark></mark>ר אמר לו האלהים <br><b>MT:</b> ויש<mark>ׁ</mark>כם אברהם בבקר ויחבש<mark>ׁ</mark> את חמ<mark></mark>רו ויקח את ש<mark>ׁ</mark>ני נעריו אתו ואת יצחק בנו ויבקע עצי <mark></mark>עלה ויקם וילך אל המקום אש<mark>ׁ</mark>ר אמר לו האלהים </p>"
      ],
      "text/plain": [
       "<IPython.core.display.Markdown object>"
      ]
     },
     "metadata": {},
     "output_type": "display_data"
    },
    {
     "data": {
      "text/markdown": [
       "<h4>Genesis 22:5</h4><p><b>SP:</b> ויאמר אברהם אל נעריו ש<mark></mark>בו לכם פה עם החמור ואני והנער נלכה עד כה ונש<mark></mark>תחו<mark>י</mark> ונש<mark></mark>וב<mark></mark> אליכם <br><b>MT:</b> ויאמר אברהם אל נעריו ש<mark>ׁ</mark>בו לכם פה עם החמור ואני והנער נלכה עד כה ונש<mark>ׁ</mark>תחו<mark>ה</mark> ונש<mark>ׁ</mark>וב<mark>ה</mark> אליכם </p>"
      ],
      "text/plain": [
       "<IPython.core.display.Markdown object>"
      ]
     },
     "metadata": {},
     "output_type": "display_data"
    },
    {
     "data": {
      "text/markdown": [
       "<h4>Genesis 22:8</h4><p><b>SP:</b> ויאמר אברהם אלהים יראה לו <mark></mark>ש<mark></mark>ה לעלה בני וילכו ש<mark></mark>ניהם יחדו <br><b>MT:</b> ויאמר אברהם אלהים יראה לו <mark>ה</mark>ש<mark>ׂ</mark>ה לעלה בני וילכו ש<mark>ׁ</mark>ניהם יחדו </p>"
      ],
      "text/plain": [
       "<IPython.core.display.Markdown object>"
      ]
     },
     "metadata": {},
     "output_type": "display_data"
    },
    {
     "data": {
      "text/markdown": [
       "<h4>Genesis 22:11</h4><p><b>SP:</b> ויקרא אליו מלאך יהוה מן הש<mark></mark>מים ויאמר אברהם<mark></mark> אברהם ויאמר הנני <br><b>MT:</b> ויקרא אליו מלאך יהוה מן הש<mark>ׁ</mark>מים ויאמר אברהם<mark>׀</mark> אברהם ויאמר הנני </p>"
      ],
      "text/plain": [
       "<IPython.core.display.Markdown object>"
      ]
     },
     "metadata": {},
     "output_type": "display_data"
    },
    {
     "data": {
      "text/markdown": [
       "<h4>Genesis 22:12</h4><p><b>SP:</b> ויאמר אל תש<mark></mark>לח ידך <mark>ע</mark>ל הנער ואל תעש<mark>ה</mark> לו מאומה כי<mark></mark> עתה ידעתי כי ירא אלהים אתה ולא חש<mark></mark>כת את בנך את יחידך ממני <br><b>MT:</b> ויאמר אל תש<mark>ׁ</mark>לח ידך <mark>א</mark>ל הנער ואל תעש<mark>ׂ</mark> לו מאומה כי<mark>׀</mark> עתה ידעתי כי ירא אלהים אתה ולא חש<mark>ׂ</mark>כת את בנך את יחידך ממני </p>"
      ],
      "text/plain": [
       "<IPython.core.display.Markdown object>"
      ]
     },
     "metadata": {},
     "output_type": "display_data"
    },
    {
     "data": {
      "text/markdown": [
       "<h4>Genesis 22:13</h4><p><b>SP:</b> ויש<mark></mark>א אברהם את עיניו וירא והנה איל אח<mark>ד</mark> נאחז בסבך בקרניו וילך אברהם ויקח את האיל ויעלהו <mark></mark>עלה תחת בנו <br><b>MT:</b> ויש<mark>ׂ</mark>א אברהם את עיניו וירא והנה איל אח<mark>ר</mark> נאחז בסבך בקרניו וילך אברהם ויקח את האיל ויעלהו <mark>ל</mark>עלה תחת בנו </p>"
      ],
      "text/plain": [
       "<IPython.core.display.Markdown object>"
      ]
     },
     "metadata": {},
     "output_type": "display_data"
    },
    {
     "data": {
      "text/markdown": [
       "<h4>Genesis 22:14</h4><p><b>SP:</b> ויקרא אברהם <mark>את </mark>ש<mark></mark>ם המקום ההוא יהוה<mark></mark> יראה אש<mark></mark>ר יאמר היום בהר יהוה יראה <br><b>MT:</b> ויקרא אברהם <mark></mark>ש<mark>ׁ</mark>ם המקום ההוא יהוה<mark>׀</mark> יראה אש<mark>ׁ</mark>ר יאמר היום בהר יהוה יראה </p>"
      ],
      "text/plain": [
       "<IPython.core.display.Markdown object>"
      ]
     },
     "metadata": {},
     "output_type": "display_data"
    },
    {
     "data": {
      "text/markdown": [
       "<h4>Genesis 22:16</h4><p><b>SP:</b> ויאמר בי נש<mark></mark>בעתי נאם יהוה כי יען אש<mark></mark>ר עש<mark></mark>ית את הדבר הזה ולא חש<mark></mark>כת את בנך את יחידך <mark>ממני </mark><br><b>MT:</b> ויאמר בי נש<mark>ׁ</mark>בעתי נאם יהוה כי יען אש<mark>ׁ</mark>ר עש<mark>ׂ</mark>ית את הדבר הזה ולא חש<mark>ׂ</mark>כת את בנך את יחידך <mark></mark></p>"
      ],
      "text/plain": [
       "<IPython.core.display.Markdown object>"
      ]
     },
     "metadata": {},
     "output_type": "display_data"
    },
    {
     "data": {
      "text/markdown": [
       "<h4>Genesis 22:17</h4><p><b>SP:</b> כי בר<mark>ו</mark>ך אברכך והרבה ארבה את זרעך ככוכבי הש<mark></mark>מים וכחול אש<mark></mark>ר על ש<mark></mark>פת הים וי<mark>י</mark>רש<mark></mark> זרעך את ש<mark></mark>ער איביו <br><b>MT:</b> כי בר<mark></mark>ך אברכך והרבה ארבה את זרעך ככוכבי הש<mark>ׁ</mark>מים וכחול אש<mark>ׁ</mark>ר על ש<mark>ׂ</mark>פת הים וי<mark></mark>רש<mark>ׁ</mark> זרעך את ש<mark>ׁ</mark>ער איביו </p>"
      ],
      "text/plain": [
       "<IPython.core.display.Markdown object>"
      ]
     },
     "metadata": {},
     "output_type": "display_data"
    },
    {
     "data": {
      "text/markdown": [
       "<h4>Genesis 22:18</h4><p><b>SP:</b> והתברכו בזרעך כל גוי<mark></mark> הארץ עקב אש<mark></mark>ר ש<mark></mark>מעת בק<mark>ו</mark>לי <br><b>MT:</b> והתברכו בזרעך כל גוי<mark>י</mark> הארץ עקב אש<mark>ׁ</mark>ר ש<mark>ׁ</mark>מעת בק<mark></mark>לי </p>"
      ],
      "text/plain": [
       "<IPython.core.display.Markdown object>"
      ]
     },
     "metadata": {},
     "output_type": "display_data"
    },
    {
     "data": {
      "text/markdown": [
       "<h4>Genesis 22:20</h4><p><b>SP:</b> ויהי אחר<mark></mark> הדברים האלה ויגד לאברהם לאמר הנה ילדה מלכה גם ה<mark>י</mark>א בנים לנחור אחיך <br><b>MT:</b> ויהי אחר<mark>י</mark> הדברים האלה ויגד לאברהם לאמר הנה ילדה מלכה גם ה<mark>ו</mark>א בנים לנחור אחיך </p>"
      ],
      "text/plain": [
       "<IPython.core.display.Markdown object>"
      ]
     },
     "metadata": {},
     "output_type": "display_data"
    },
    {
     "data": {
      "text/markdown": [
       "<h4>Genesis 22:21</h4><p><b>SP:</b> את עוץ בכ<mark>ו</mark>רו ואת בוז אחיו ואת קמואל אבי ארם <br><b>MT:</b> את עוץ בכ<mark></mark>רו ואת בוז אחיו ואת קמואל אבי ארם </p>"
      ],
      "text/plain": [
       "<IPython.core.display.Markdown object>"
      ]
     },
     "metadata": {},
     "output_type": "display_data"
    },
    {
     "data": {
      "text/markdown": [
       "<h4>Genesis 22:22</h4><p><b>SP:</b> ואת כש<mark></mark>ד ואת חזו ואת פ<mark>י</mark>לדש<mark></mark> ואת ידלף ואת בתואל <br><b>MT:</b> ואת כש<mark>ׂ</mark>ד ואת חזו ואת פ<mark></mark>לדש<mark>ׁ</mark> ואת ידלף ואת בתואל </p>"
      ],
      "text/plain": [
       "<IPython.core.display.Markdown object>"
      ]
     },
     "metadata": {},
     "output_type": "display_data"
    },
    {
     "data": {
      "text/markdown": [
       "<h4>Genesis 22:23</h4><p><b>SP:</b> ובתואל <mark>הול</mark>י<mark></mark>ד את רבקה ש<mark></mark>מנה אלה ילדה מלכה לנחור אחי אברהם <br><b>MT:</b> ובתואל <mark>י</mark>ל<mark></mark>ד את רבקה ש<mark>ׁ</mark>מנה אלה ילדה מלכה לנחור אחי אברהם </p>"
      ],
      "text/plain": [
       "<IPython.core.display.Markdown object>"
      ]
     },
     "metadata": {},
     "output_type": "display_data"
    },
    {
     "data": {
      "text/markdown": [
       "<h4>Genesis 22:24</h4><p><b>SP:</b> ופילגש<mark></mark>ו וש<mark></mark>מה ר<mark></mark>ומה ותלד גם ה<mark>י</mark>א את טבח ואת גחם ואת תחש<mark></mark> ואת מעכה <br><b>MT:</b> ופילגש<mark>ׁ</mark>ו וש<mark>ׁ</mark>מה ר<mark>א</mark>ומה ותלד גם ה<mark>ו</mark>א את טבח ואת גחם ואת תחש<mark>ׁ</mark> ואת מעכה </p>"
      ],
      "text/plain": [
       "<IPython.core.display.Markdown object>"
      ]
     },
     "metadata": {},
     "output_type": "display_data"
    }
   ],
   "source": [
    "from difflib import SequenceMatcher\n",
    "\n",
    "def highlightMatches(baseText, comparisonText):\n",
    "    matcher = SequenceMatcher(None, baseText, comparisonText)\n",
    "    highlightedComparisonText = \"\" \n",
    "    for tag, i1, i2, j1, j2 in matcher.get_opcodes():\n",
    "        if tag == \"equal\":  # Identical parts\n",
    "            highlightedComparisonText += comparisonText[j1:j2]\n",
    "        else:  # Non-matching parts\n",
    "            highlightedComparisonText += f'<mark>{comparisonText[j1:j2]}</mark>'  \n",
    "    return highlightedComparisonText\n",
    "\n",
    "def cleanText(text):\n",
    "    replacements = [\n",
    "         # for the transcoded strings\n",
    "         ('00_P', ''),  # Remove '00_P'\n",
    "         ('00_S', ''),  # Remove '00_S'\n",
    "         ('00', ''),    # Remove '00'\n",
    "         ('&', ' '),    # Replace '&' with a space\n",
    "         # for the Hebrew strings\n",
    "         ('ס ', ''),    # Final Samekh\n",
    "         ('פ ', ''),    # Final Pe\n",
    "         ('׃', ''),     # End of verse\n",
    "         ('־',' ')      # maqaf\n",
    "    ]\n",
    "    # Apply each replacement\n",
    "    for old, new in replacements:\n",
    "        text = text.replace(old, new)\n",
    "    return text\n",
    "\n",
    "# Function to format and highlight verse differences between MT and SP\n",
    "def formatAndHighlight(label, MTverseText, SPverseText):\n",
    "    book, chapter, verse = label\n",
    "    MTverseNode = Tmt.nodeFromSection(label)\n",
    "    MTtext = cleanText(Tmt.text(MTverseNode, \"text-orig-plain\"))\n",
    "    SPverseNode = Tsp.nodeFromSection(label)\n",
    "    SPtext = Tsp.text(SPverseNode)\n",
    "    SPmarkedText = highlightMatches(MTtext, SPtext)\n",
    "    MTmarkedText = highlightMatches(SPtext, MTtext)\n",
    "    formattedDiff = (\n",
    "        f'<h4>{book} {chapter}:{verse}</h4>'\n",
    "        f'<p><b>SP:</b> {SPmarkedText}<br><b>MT:</b> {MTmarkedText}</p>'\n",
    "    )\n",
    "    return formattedDiff\n",
    "\n",
    "# Create header\n",
    "MT.dm(f'### Differences between MT and SP for parasha {parashaNameEnglish} ({parashaStart}-{parashaEnd})')\n",
    "\n",
    "# Highlight and display differences for SP and MT verses\n",
    "for label, MTverseText in MTverses.items():\n",
    "    SPverseText = SPverses.get(label, '')\n",
    "    MTverseText=cleanText(MTverseText)\n",
    "    if MTverseText != SPverseText:  # Check for differences\n",
    "        difference = formatAndHighlight(label, MTverseText, SPverseText)\n",
    "        MT.dm(difference)"
   ]
  },
  {
   "cell_type": "markdown",
   "id": "da916301",
   "metadata": {},
   "source": [
    "# 4 - Compare texts using minimum Levenshtein distance<a class=\"anchor\" id=\"bullet4\"></a>\n",
    "##### [Back to ToC](#TOC)"
   ]
  },
  {
   "cell_type": "markdown",
   "id": "f516dc36-754b-4b37-b2d7-7f07b18310ac",
   "metadata": {},
   "source": [
    "The Levenshtein distance measures the minimum number of single-character edits (insertions, deletions, or substitutions) needed to transform one text into another, providing a quantitative way to compare textual differences. For comparing the Masoretic Text and Samaritan Pentateuch, it highlights variations in spelling, word order, or minor textual changes. \n",
    "In the context of the Levenshtein distance (in the script below `threshold`), a higher number indicates greater dissimilarity between two texts, meaning more edits (insertions, deletions, or substitutions) are needed to transform one text into the other."
   ]
  },
  {
   "cell_type": "code",
   "execution_count": 6,
   "id": "659bfe18",
   "metadata": {},
   "outputs": [
    {
     "data": {
      "text/markdown": [
       "### Levenshtein distance 20 between MT and SP for parasha Vayera (Genesis 18:1-22:24)"
      ],
      "text/plain": [
       "<IPython.core.display.Markdown object>"
      ]
     },
     "metadata": {},
     "output_type": "display_data"
    },
    {
     "data": {
      "text/markdown": [
       "<h4>Genesis 20:13</h4><p><b>SP:</b> ויהי כאש<mark></mark>ר התע<mark>ה</mark> אתי אלהים מבית אבי ו<mark>מארץ מולדתי ו</mark>אמר לה זה חסד<mark>י</mark>ך אש<mark></mark>ר תעש<mark></mark>י<mark>ן</mark> עמדי אל כל המקום אש<mark></mark>ר נבוא ש<mark></mark>מה אמרי לי אחי הוא <br><b>MT:</b> ויהי כאש<mark>ׁ</mark>ר התע<mark>ו</mark> אתי אלהים מבית אבי ו<mark></mark>אמר לה זה חסד<mark></mark>ך אש<mark>ׁ</mark>ר תעש<mark>ׂ</mark>י<mark></mark> עמדי אל כל המקום אש<mark>ׁ</mark>ר נבוא ש<mark>ׁ</mark>מה אמרי לי אחי הוא </p>"
      ],
      "text/plain": [
       "<IPython.core.display.Markdown object>"
      ]
     },
     "metadata": {},
     "output_type": "display_data"
    }
   ],
   "source": [
    "# Compare verses based on Levenshtein distance\n",
    "from Levenshtein import distance\n",
    "threshold = 20\n",
    "\n",
    "# Create header\n",
    "MT.dm(f'### Levenshtein distance {threshold} between MT and SP for parasha {parashaNameEnglish} ({parashaStart}-{parashaEnd})')\n",
    "\n",
    "for label, MTverseText in MTverses.items():\n",
    "    SPverseText = SPverses.get(label, '')\n",
    "    if distance(MTverseText, SPverseText) > threshold:\n",
    "        formattedDiff = formatAndHighlight(label, MTverseText, SPverseText)\n",
    "        MT.dm(formattedDiff)"
   ]
  },
  {
   "cell_type": "markdown",
   "id": "63886933",
   "metadata": {},
   "source": [
    "# 5 - Comparison of spelling of proper nouns between SP and MT<a class=\"anchor\" id=\"bullet5\"></a>\n",
    "##### [Back to ToC](#TOC)\n",
    "\n",
    "This section focuses on comparing the spelling of proper nouns between the Samaritan Pentateuch (SP) and the Masoretic Text (MT). Proper nouns, including names of people, places, and unique terms, often exhibit variations in spelling"
   ]
  },
  {
   "cell_type": "code",
   "execution_count": 7,
   "id": "a4011f7c",
   "metadata": {},
   "outputs": [],
   "source": [
    "import collections\n",
    "\n",
    "def collectProperNounSpellings(F, L, T, inputList):\n",
    "    \"\"\"\n",
    "    Collect proper noun spellings and their associated word node numbers.\n",
    "    Ensures only one tuple is stored for each lexeme-to-spelling mapping.\n",
    "    \"\"\"\n",
    "    properNounsSpellings = {}\n",
    "    for bookChapterVerse in inputList:\n",
    "        verseNode = T.nodeFromSection(bookChapterVerse)\n",
    "        wordNodes = L.d(verseNode, 'word')\n",
    "        for wordNode in wordNodes:\n",
    "            if F.sp.v(wordNode) == 'nmpr':  # Check if the word is a proper noun\n",
    "                lex = F.lex.v(wordNode)    # Lexical form\n",
    "                spelling = F.g_cons.v(wordNode)  # Spelling\n",
    "                # Store only the first occurrence for each lex-to-cons mapping\n",
    "                if lex not in properNounsSpellings or spelling not in {item[0] for item in properNounsSpellings[lex]}:\n",
    "                    properNounsSpellings.setdefault(lex, []).append((spelling, wordNode))\n",
    "    return properNounsSpellings\n",
    "        \n",
    "SPspellingDict = collectProperNounSpellings(Fsp, Lsp, Tsp, bookChapterVerseList) \n",
    "MTspellingDict = collectProperNounSpellings(Fmt, Lmt, Tmt, bookChapterVerseList)"
   ]
  },
  {
   "cell_type": "code",
   "execution_count": 8,
   "id": "cd6ce780-6acd-4744-9809-dcfa30a448f0",
   "metadata": {},
   "outputs": [
    {
     "data": {
      "text/markdown": [
       "### Spelling differences proper nouns in SP and MT for parasha Vayera (Genesis 18:1-22:24)"
      ],
      "text/plain": [
       "<IPython.core.display.Markdown object>"
      ]
     },
     "metadata": {},
     "output_type": "display_data"
    },
    {
     "data": {
      "text/markdown": [
       "#### Word: **Zoar** (Genesis 19:22)\n",
       "- **MT Spelling:** `צוער`\n",
       "- **SP Spelling:** `צער`\n"
      ],
      "text/plain": [
       "<IPython.core.display.Markdown object>"
      ]
     },
     "metadata": {},
     "output_type": "display_data"
    },
    {
     "data": {
      "text/markdown": [
       "#### Word: **Paran** (Genesis 21:21)\n",
       "- **MT Spelling:** `פארן`\n",
       "- **SP Spelling:** `פראן`\n"
      ],
      "text/plain": [
       "<IPython.core.display.Markdown object>"
      ]
     },
     "metadata": {},
     "output_type": "display_data"
    },
    {
     "data": {
      "text/markdown": [
       "#### Word: **Phicol** (Genesis 21:22)\n",
       "- **MT Spelling:** `פיכל`\n",
       "- **SP Spelling:** None\n"
      ],
      "text/plain": [
       "<IPython.core.display.Markdown object>"
      ]
     },
     "metadata": {},
     "output_type": "display_data"
    },
    {
     "data": {
      "text/markdown": [
       "#### Word: **Moriah** (Genesis 22:2)\n",
       "- **MT Spelling:** `מריה`\n",
       "- **SP Spelling:** None\n"
      ],
      "text/plain": [
       "<IPython.core.display.Markdown object>"
      ]
     },
     "metadata": {},
     "output_type": "display_data"
    },
    {
     "data": {
      "text/markdown": [
       "#### Word: **Pildash** (Genesis 22:22)\n",
       "- **MT Spelling:** `פלדשׁ`\n",
       "- **SP Spelling:** `פילדשׁ`\n"
      ],
      "text/plain": [
       "<IPython.core.display.Markdown object>"
      ]
     },
     "metadata": {},
     "output_type": "display_data"
    },
    {
     "data": {
      "text/markdown": [
       "#### Word: **Reumah** (Genesis 22:24)\n",
       "- **MT Spelling:** `ראומה`\n",
       "- **SP Spelling:** `רומה`\n"
      ],
      "text/plain": [
       "<IPython.core.display.Markdown object>"
      ]
     },
     "metadata": {},
     "output_type": "display_data"
    }
   ],
   "source": [
    "# Create header\n",
    "MT.dm(f'### Spelling differences proper nouns in SP and MT for parasha {parashaNameEnglish} ({parashaStart}-{parashaEnd})')\n",
    "    \n",
    "for lex, MTspellings in MTspellingDict.items():\n",
    "    # Retrieve SP spellings, defaulting to an empty set if lex is not found\n",
    "    SPspellings = SPspellingDict.get(lex, set())\n",
    "\n",
    "    # Extract only the spellings (ignoring node numbers) for comparison\n",
    "    MTspellingSet = {spelling for spelling, _ in MTspellings}\n",
    "    SPspellingSet = {spelling for spelling, _ in SPspellings}\n",
    "\n",
    "    # Compare the sets of spellings\n",
    "    if MTspellingSet != SPspellingSet:\n",
    "        # Print MT spelling with reference\n",
    "        MTnode = list(MTspellings)[0][1]  # Get first tuple's node number\n",
    "        book, chapter, verse = Tmt.sectionFromNode(MTnode)\n",
    "        MTgloss = Fmt.gloss.v(MTnode)\n",
    "        MTspelling = Fmt.g_cons_utf8.v(MTnode)\n",
    "\n",
    "        # Build Markdown output\n",
    "        output = f\"#### Word: **{MTgloss}** ({book} {chapter}:{verse})\\n\"\n",
    "        output += f\"- **MT Spelling:** `{MTspelling}`\\n\"\n",
    "\n",
    "        # Print SP spellings with reference\n",
    "        if SPspellings:\n",
    "            SPnode = list(SPspellings)[0][1]  # Get first tuple's node number\n",
    "            SPspelling = Fsp.g_cons_utf8.v(SPnode)\n",
    "            output += f\"- **SP Spelling:** `{SPspelling}`\\n\"\n",
    "        else:\n",
    "            output += \"- **SP Spelling:** None\\n\"\n",
    "\n",
    "        # Print the formatted output\n",
    "        MT.dm(output)"
   ]
  },
  {
   "cell_type": "markdown",
   "id": "0fbcc828-2880-4d36-bd66-5a9f085b616d",
   "metadata": {},
   "source": [
    "# 6 - References and acknowledgement <a class=\"anchor\" id=\"bullet6\"></a>\n",
    "##### [Back to ToC](#TOC)\n",
    "\n",
    "<a class=\"anchor\" id=\"bullet1\"><sup>1</sup></a> Christian Canu Højgaard, Martijn Naaijer, & Stefan Schorch. (2023). Text-Fabric Dataset of the Samaritan Pentateuch. Zenodo. https://doi.org/10.5281/zenodo.7734632\n",
    "\n",
    "<a class=\"anchor\" id=\"bullet2\"><sup>2</sup> [Notebook created by Martijn Naaijer](https://github.com/DT-UCPH/sp/blob/main/notebooks/combine_sp_with_mt_data.ipynb)"
   ]
  },
  {
   "cell_type": "markdown",
   "id": "4e319feb-814e-4903-922a-58bae953224c",
   "metadata": {
    "tags": []
   },
   "source": [
    "# 7 - Required libraries <a class=\"anchor\" id=\"bullet7\"></a>\n",
    "##### [Back to ToC](#TOC)\n",
    "\n",
    "The scripts in this notebook require (beside `text-fabric`) the following Python libraries to be installed in the environment:\n",
    "\n",
    "    collections\n",
    "    difflib\n",
    "    Levenshtein\n",
    "\n",
    "You can install any missing library from within Jupyter Notebook using either`pip` or `pip3`."
   ]
  },
  {
   "cell_type": "markdown",
   "id": "68f75bc4-7bc2-42f1-af91-fe6e5b83a277",
   "metadata": {},
   "source": [
    "# 8 - Notebook version details<a class=\"anchor\" id=\"bullet8\"></a>\n",
    "##### [Back to ToC](#TOC)\n",
    "\n",
    "<div style=\"float: left;\">\n",
    "  <table>\n",
    "    <tr>\n",
    "      <td><strong>Author</strong></td>\n",
    "      <td>Tony Jurg</td>\n",
    "    </tr>\n",
    "    <tr>\n",
    "      <td><strong>Version</strong></td>\n",
    "      <td>1.0</td>\n",
    "    </tr>\n",
    "    <tr>\n",
    "      <td><strong>Date</strong></td>\n",
    "      <td>17 November 2024</td>\n",
    "    </tr>\n",
    "  </table>\n",
    "</div>"
   ]
  }
 ],
 "metadata": {
  "kernelspec": {
   "display_name": "Python 3 (ipykernel)",
   "language": "python",
   "name": "python3"
  },
  "language_info": {
   "codemirror_mode": {
    "name": "ipython",
    "version": 3
   },
   "file_extension": ".py",
   "mimetype": "text/x-python",
   "name": "python",
   "nbconvert_exporter": "python",
   "pygments_lexer": "ipython3",
   "version": "3.12.7"
  }
 },
 "nbformat": 4,
 "nbformat_minor": 5
}
