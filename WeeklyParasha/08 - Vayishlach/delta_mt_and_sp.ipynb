{
 "cells": [
  {
   "cell_type": "markdown",
   "id": "ef1d222e-9996-4c9f-bddd-173624840ebc",
   "metadata": {},
   "source": [
    "# Differences in MT and SP in parasha #8: Vayishlach (Genesis 32:4-36:43)"
   ]
  },
  {
   "cell_type": "markdown",
   "id": "00169c3b-05ee-417b-8bc4-950a9914cda7",
   "metadata": {},
   "source": [
    "## Table of Content <a class=\"anchor\" id=\"TOC\"></a> (ToC)\n",
    "\n",
    "* <a href=\"#bullet1\">1 - Introduction</a>\n",
    "* <a href=\"#bullet2\">2 - Load Text-Fabric app and data</a>\n",
    "* <a href=\"#bullet3\">3 - Compare surface texts of SP and MT</a>\n",
    "* <a href=\"#bullet4\">4 - Compare texts using minimum Levenshtein distance</a>\n",
    "* <a href=\"#bullet5\">5 - Comparison of spelling of proper nouns between SP and MT</a>\n",
    "* <a href=\"#bullet6\">6 - References and acknowledgement</a>\n",
    "* <a href=\"#bullet7\">7 - Required libraries</a>\n",
    "* <a href=\"#bullet8\">8 - Notebook version details</a>"
   ]
  },
  {
   "cell_type": "markdown",
   "id": "b9d778e2-a5f4-4f48-acfc-ab657714729c",
   "metadata": {
    "tags": []
   },
   "source": [
    "# 1 - Introduction <a class=\"anchor\" id=\"bullet1\"></a>\n",
    "##### [Back to ToC](#TOC)\n",
    "\n",
    "The Samaritan Pentateuch (SP) is a version of the Torah preserved by the Samaritan community, differing from the Masoretic Text (MT) in several aspects, including language, orthography, and occasionally theological emphasis. This notebook compares the text of the Masoretic Text, based on the BHSA dataset in Text-Fabric, with the Samaritan Pentateuch, also available as a Text-Fabric dataset.<a href=\"#ref1\"><sup>1</sup></a>\n",
    "\n",
    "In this analysis, we focus on comparing the text of the verses in a specific parasha, highlighting differences in wording and orthography. Additionally, special attention is given to spelling variations of proper nouns between the two traditions. This notebook draws inspiration from the notebook provided by Martijn Naaijer<a href=\"#ref2\"><sup>2</sup></a> and aims to explore the textual nuances between these two important versions of the Torah."
   ]
  },
  {
   "cell_type": "markdown",
   "id": "52843ad7-dd3b-4e06-a232-96e8919e8335",
   "metadata": {},
   "source": [
    "# 2 - Load Text-Fabric app and data <a class=\"anchor\" id=\"bullet2\"></a>\n",
    "##### [Back to ToC](#TOC)\n",
    "\n",
    "The following code will load the Text-Fabric version of the [Samaritan Pentatuch](https://github.com/DT-UCPH/sp), the [Biblia Hebraica Stuttgartensia (Amstelodamensis)](https://etcbc.github.io/bhsa/) together with the additonal parasha related features from [tonyjurg/BHSaddons](https://github.com/tonyjurg/BHSaddons)."
   ]
  },
  {
   "cell_type": "code",
   "execution_count": 1,
   "id": "18ee17d5",
   "metadata": {
    "scrolled": true
   },
   "outputs": [
    {
     "data": {
      "text/markdown": [
       "**Locating corpus resources ...**"
      ],
      "text/plain": [
       "<IPython.core.display.Markdown object>"
      ]
     },
     "metadata": {},
     "output_type": "display_data"
    },
    {
     "data": {
      "text/html": [
       "<b title=\"local release\">app:</b> <span title=\"rv3.4=#g0c9b2fff6448228af93ed6c466ba95e6c0bb3547 offline under C:/Users/tonyj/text-fabric-data/github\">~/text-fabric-data/github/DT-UCPH/sp/app</span>"
      ],
      "text/plain": [
       "<IPython.core.display.HTML object>"
      ]
     },
     "metadata": {},
     "output_type": "display_data"
    },
    {
     "data": {
      "text/html": [
       "<b title=\"local release\">data:</b> <span title=\"rv3.4.1=#893bec3898e2e07adfe7eb8806485fe62039c468 offline under C:/Users/tonyj/text-fabric-data/github\">~/text-fabric-data/github/DT-UCPH/sp/tf/3.4</span>"
      ],
      "text/plain": [
       "<IPython.core.display.HTML object>"
      ]
     },
     "metadata": {},
     "output_type": "display_data"
    },
    {
     "data": {
      "text/html": [
       "\n",
       "            <b>TF:</b> <a target=\"_blank\" href=\"https://annotation.github.io/text-fabric/tf/cheatsheet.html\" title=\"text-fabric api\">TF API 12.6.2</a>, <a target=\"_blank\" href=\"https://github.com/DT-UCPH/sp/blob/master/app\" title=\"DT-UCPH/sp app\">DT-UCPH/sp/app  v3</a>, <a target=\"_blank\" href=\"https://annotation.github.io/text-fabric/tf/about/searchusage.html\" title=\"Search Templates Introduction and Reference\">Search Reference</a><br>\n",
       "            <b>Data:</b> <a target=\"_blank\" href=\"https://etcbc.github.io/bhsa/\" title=\"provenance of The Samaritan Pentateuch\">DT-UCPH - sp 3.4</a>, <a target=\"_blank\" href=\"https://annotation.github.io/text-fabric/tf/writing/hebrew.html\" title=\"How TF features represent text\">Character table</a>, <a target=\"_blank\" href=\"https://etcbc.github.io/bhsa/features/0_home\" title=\"DT-UCPH - sp feature documentation\">Feature docs</a><br>\n",
       "            <details class=\"nodeinfo\"><summary><b>Node types</b></summary>\n",
       "<table class=\"nodeinfo\">\n",
       "    <tr>\n",
       "        <th>Name</th>\n",
       "        <th># of nodes</th>\n",
       "        <th># slots / node</th>\n",
       "        <th>% coverage</th>\n",
       "    </tr>\n",
       "\n",
       "<tr>\n",
       "    <th>book</th>\n",
       "    <td>5</td>\n",
       "    <td>79878.40</td>\n",
       "    <td><b>100</b></td>\n",
       "</tr>\n",
       "\n",
       "<tr>\n",
       "    <th>chapter</th>\n",
       "    <td>187</td>\n",
       "    <td>2135.79</td>\n",
       "    <td><b>100</b></td>\n",
       "</tr>\n",
       "\n",
       "<tr>\n",
       "    <th>verse</th>\n",
       "    <td>5841</td>\n",
       "    <td>68.38</td>\n",
       "    <td><b>100</b></td>\n",
       "</tr>\n",
       "\n",
       "<tr>\n",
       "    <th>word</th>\n",
       "    <td>114890</td>\n",
       "    <td>3.48</td>\n",
       "    <td><b>100</b></td>\n",
       "</tr>\n",
       "\n",
       "<tr>\n",
       "    <th><i>sign</i></th>\n",
       "    <td>399392</td>\n",
       "    <td>1.00</td>\n",
       "    <td><b>100</b></td>\n",
       "</tr>\n",
       "</table></details>\n",
       "            <b>Sets:</b> no custom sets<br>\n",
       "            <b>Features:</b><br>\n",
       "<details><summary><b>The Samaritan Pentateuch</b></summary>\n",
       "    <div class=\"fcorpus\">\n",
       "\n",
       "<div class=\"frow\">\n",
       "    <div class=\"fnamecat \">\n",
       "<a target=\"_blank\" href=\"https://etcbc.github.io/bhsa/features/book\" title=\"~/text-fabric-data/github/DT-UCPH/sp/tf/3.4/book.tf\">book</a>\n",
       "</div>\n",
       "<div class=\"fmono\">str</div>\n",
       "\n",
       "<span> book title</span>\n",
       "\n",
       "</div>\n",
       "\n",
       "<div class=\"frow\">\n",
       "    <div class=\"fnamecat \">\n",
       "<a target=\"_blank\" href=\"https://etcbc.github.io/bhsa/features/chapter\" title=\"~/text-fabric-data/github/DT-UCPH/sp/tf/3.4/chapter.tf\">chapter</a>\n",
       "</div>\n",
       "<div class=\"fmono\">int</div>\n",
       "\n",
       "<span> chapter number</span>\n",
       "\n",
       "</div>\n",
       "\n",
       "<div class=\"frow\">\n",
       "    <div class=\"fnamecat \">\n",
       "<a target=\"_blank\" href=\"https://etcbc.github.io/bhsa/features/g_cons\" title=\"~/text-fabric-data/github/DT-UCPH/sp/tf/3.4/g_cons.tf\">g_cons</a>\n",
       "</div>\n",
       "<div class=\"fmono\">str</div>\n",
       "\n",
       "<span> word consonantal-transliterated</span>\n",
       "\n",
       "</div>\n",
       "\n",
       "<div class=\"frow\">\n",
       "    <div class=\"fnamecat \">\n",
       "<a target=\"_blank\" href=\"https://etcbc.github.io/bhsa/features/g_cons_raw\" title=\"~/text-fabric-data/github/DT-UCPH/sp/tf/3.4/g_cons_raw.tf\">g_cons_raw</a>\n",
       "</div>\n",
       "<div class=\"fmono\">str</div>\n",
       "\n",
       "<span> word consonantal-transliterated (without disambiguation of Shin (C) and Sin (F))</span>\n",
       "\n",
       "</div>\n",
       "\n",
       "<div class=\"frow\">\n",
       "    <div class=\"fnamecat \">\n",
       "<a target=\"_blank\" href=\"https://etcbc.github.io/bhsa/features/g_cons_utf8\" title=\"~/text-fabric-data/github/DT-UCPH/sp/tf/3.4/g_cons_utf8.tf\">g_cons_utf8</a>\n",
       "</div>\n",
       "<div class=\"fmono\">str</div>\n",
       "\n",
       "<span> word in Hebrew script</span>\n",
       "\n",
       "</div>\n",
       "\n",
       "<div class=\"frow\">\n",
       "    <div class=\"fnamecat \">\n",
       "<a target=\"_blank\" href=\"https://etcbc.github.io/bhsa/features/g_lex\" title=\"~/text-fabric-data/github/DT-UCPH/sp/tf/3.4/g_lex.tf\">g_lex</a>\n",
       "</div>\n",
       "<div class=\"fmono\">str</div>\n",
       "\n",
       "<span> realized lexeme</span>\n",
       "\n",
       "</div>\n",
       "\n",
       "<div class=\"frow\">\n",
       "    <div class=\"fnamecat \">\n",
       "<a target=\"_blank\" href=\"https://etcbc.github.io/bhsa/features/g_lex_utf8\" title=\"~/text-fabric-data/github/DT-UCPH/sp/tf/3.4/g_lex_utf8.tf\">g_lex_utf8</a>\n",
       "</div>\n",
       "<div class=\"fmono\">str</div>\n",
       "\n",
       "<span> realized lexeme in Hebrew script</span>\n",
       "\n",
       "</div>\n",
       "\n",
       "<div class=\"frow\">\n",
       "    <div class=\"fnamecat \">\n",
       "<a target=\"_blank\" href=\"https://etcbc.github.io/bhsa/features/g_nme\" title=\"~/text-fabric-data/github/DT-UCPH/sp/tf/3.4/g_nme.tf\">g_nme</a>\n",
       "</div>\n",
       "<div class=\"fmono\">str</div>\n",
       "\n",
       "<span> realized nominal ending consonantal</span>\n",
       "\n",
       "</div>\n",
       "\n",
       "<div class=\"frow\">\n",
       "    <div class=\"fnamecat \">\n",
       "<a target=\"_blank\" href=\"https://etcbc.github.io/bhsa/features/g_nme_utf8\" title=\"~/text-fabric-data/github/DT-UCPH/sp/tf/3.4/g_nme_utf8.tf\">g_nme_utf8</a>\n",
       "</div>\n",
       "<div class=\"fmono\">str</div>\n",
       "\n",
       "<span> realized nominal ending consonantal in Hebrew script</span>\n",
       "\n",
       "</div>\n",
       "\n",
       "<div class=\"frow\">\n",
       "    <div class=\"fnamecat \">\n",
       "<a target=\"_blank\" href=\"https://etcbc.github.io/bhsa/features/g_pfm\" title=\"~/text-fabric-data/github/DT-UCPH/sp/tf/3.4/g_pfm.tf\">g_pfm</a>\n",
       "</div>\n",
       "<div class=\"fmono\">str</div>\n",
       "\n",
       "<span> realized verbal preformative consonantal</span>\n",
       "\n",
       "</div>\n",
       "\n",
       "<div class=\"frow\">\n",
       "    <div class=\"fnamecat \">\n",
       "<a target=\"_blank\" href=\"https://etcbc.github.io/bhsa/features/g_pfm_utf8\" title=\"~/text-fabric-data/github/DT-UCPH/sp/tf/3.4/g_pfm_utf8.tf\">g_pfm_utf8</a>\n",
       "</div>\n",
       "<div class=\"fmono\">str</div>\n",
       "\n",
       "<span> realized verbal preformative consonantal in Hebrew script</span>\n",
       "\n",
       "</div>\n",
       "\n",
       "<div class=\"frow\">\n",
       "    <div class=\"fnamecat \">\n",
       "<a target=\"_blank\" href=\"https://etcbc.github.io/bhsa/features/g_prs\" title=\"~/text-fabric-data/github/DT-UCPH/sp/tf/3.4/g_prs.tf\">g_prs</a>\n",
       "</div>\n",
       "<div class=\"fmono\">str</div>\n",
       "\n",
       "<span> realized pronominal suffix consonantal</span>\n",
       "\n",
       "</div>\n",
       "\n",
       "<div class=\"frow\">\n",
       "    <div class=\"fnamecat \">\n",
       "<a target=\"_blank\" href=\"https://etcbc.github.io/bhsa/features/g_prs_utf8\" title=\"~/text-fabric-data/github/DT-UCPH/sp/tf/3.4/g_prs_utf8.tf\">g_prs_utf8</a>\n",
       "</div>\n",
       "<div class=\"fmono\">str</div>\n",
       "\n",
       "<span> realized pronominal suffix consonantal in Hebrew script</span>\n",
       "\n",
       "</div>\n",
       "\n",
       "<div class=\"frow\">\n",
       "    <div class=\"fnamecat \">\n",
       "<a target=\"_blank\" href=\"https://etcbc.github.io/bhsa/features/g_uvf\" title=\"~/text-fabric-data/github/DT-UCPH/sp/tf/3.4/g_uvf.tf\">g_uvf</a>\n",
       "</div>\n",
       "<div class=\"fmono\">str</div>\n",
       "\n",
       "<span> realized univalent final</span>\n",
       "\n",
       "</div>\n",
       "\n",
       "<div class=\"frow\">\n",
       "    <div class=\"fnamecat \">\n",
       "<a target=\"_blank\" href=\"https://etcbc.github.io/bhsa/features/g_uvf_utf8\" title=\"~/text-fabric-data/github/DT-UCPH/sp/tf/3.4/g_uvf_utf8.tf\">g_uvf_utf8</a>\n",
       "</div>\n",
       "<div class=\"fmono\">str</div>\n",
       "\n",
       "<span> realized univalent final in Hebrew script</span>\n",
       "\n",
       "</div>\n",
       "\n",
       "<div class=\"frow\">\n",
       "    <div class=\"fnamecat \">\n",
       "<a target=\"_blank\" href=\"https://etcbc.github.io/bhsa/features/g_vbe\" title=\"~/text-fabric-data/github/DT-UCPH/sp/tf/3.4/g_vbe.tf\">g_vbe</a>\n",
       "</div>\n",
       "<div class=\"fmono\">str</div>\n",
       "\n",
       "<span> realized verbal ending consonantal</span>\n",
       "\n",
       "</div>\n",
       "\n",
       "<div class=\"frow\">\n",
       "    <div class=\"fnamecat \">\n",
       "<a target=\"_blank\" href=\"https://etcbc.github.io/bhsa/features/g_vbe_utf8\" title=\"~/text-fabric-data/github/DT-UCPH/sp/tf/3.4/g_vbe_utf8.tf\">g_vbe_utf8</a>\n",
       "</div>\n",
       "<div class=\"fmono\">str</div>\n",
       "\n",
       "<span> realized verbal ending consonantal in Hebrew script</span>\n",
       "\n",
       "</div>\n",
       "\n",
       "<div class=\"frow\">\n",
       "    <div class=\"fnamecat \">\n",
       "<a target=\"_blank\" href=\"https://etcbc.github.io/bhsa/features/g_vbs\" title=\"~/text-fabric-data/github/DT-UCPH/sp/tf/3.4/g_vbs.tf\">g_vbs</a>\n",
       "</div>\n",
       "<div class=\"fmono\">str</div>\n",
       "\n",
       "<span> realized verbal stem consonantal</span>\n",
       "\n",
       "</div>\n",
       "\n",
       "<div class=\"frow\">\n",
       "    <div class=\"fnamecat \">\n",
       "<a target=\"_blank\" href=\"https://etcbc.github.io/bhsa/features/g_vbs_utf8\" title=\"~/text-fabric-data/github/DT-UCPH/sp/tf/3.4/g_vbs_utf8.tf\">g_vbs_utf8</a>\n",
       "</div>\n",
       "<div class=\"fmono\">str</div>\n",
       "\n",
       "<span> realized verbal stem consonantal in Hebrew script</span>\n",
       "\n",
       "</div>\n",
       "\n",
       "<div class=\"frow\">\n",
       "    <div class=\"fnamecat \">\n",
       "<a target=\"_blank\" href=\"https://etcbc.github.io/bhsa/features/gn\" title=\"~/text-fabric-data/github/DT-UCPH/sp/tf/3.4/gn.tf\">gn</a>\n",
       "</div>\n",
       "<div class=\"fmono\">str</div>\n",
       "\n",
       "<span> gender</span>\n",
       "\n",
       "</div>\n",
       "\n",
       "<div class=\"frow\">\n",
       "    <div class=\"fnamecat \">\n",
       "<a target=\"_blank\" href=\"https://etcbc.github.io/bhsa/features/language\" title=\"~/text-fabric-data/github/DT-UCPH/sp/tf/3.4/language.tf\">language</a>\n",
       "</div>\n",
       "<div class=\"fmono\">str</div>\n",
       "\n",
       "<span> language</span>\n",
       "\n",
       "</div>\n",
       "\n",
       "<div class=\"frow\">\n",
       "    <div class=\"fnamecat \">\n",
       "<a target=\"_blank\" href=\"https://etcbc.github.io/bhsa/features/lex\" title=\"~/text-fabric-data/github/DT-UCPH/sp/tf/3.4/lex.tf\">lex</a>\n",
       "</div>\n",
       "<div class=\"fmono\">str</div>\n",
       "\n",
       "<span> lexeme consonantal-transliterated</span>\n",
       "\n",
       "</div>\n",
       "\n",
       "<div class=\"frow\">\n",
       "    <div class=\"fnamecat \">\n",
       "<a target=\"_blank\" href=\"https://etcbc.github.io/bhsa/features/lex_utf8\" title=\"~/text-fabric-data/github/DT-UCPH/sp/tf/3.4/lex_utf8.tf\">lex_utf8</a>\n",
       "</div>\n",
       "<div class=\"fmono\">str</div>\n",
       "\n",
       "<span> lexeme in Hebrew script</span>\n",
       "\n",
       "</div>\n",
       "\n",
       "<div class=\"frow\">\n",
       "    <div class=\"fnamecat \">\n",
       "<a target=\"_blank\" href=\"https://etcbc.github.io/bhsa/features/mt_feat\" title=\"~/text-fabric-data/github/DT-UCPH/sp/tf/3.4/mt_feat.tf\">mt_feat</a>\n",
       "</div>\n",
       "<div class=\"fmono\">str</div>\n",
       "\n",
       "<span> features imposed from MT</span>\n",
       "\n",
       "</div>\n",
       "\n",
       "<div class=\"frow\">\n",
       "    <div class=\"fnamecat \">\n",
       "<a target=\"_blank\" href=\"https://etcbc.github.io/bhsa/features/nu\" title=\"~/text-fabric-data/github/DT-UCPH/sp/tf/3.4/nu.tf\">nu</a>\n",
       "</div>\n",
       "<div class=\"fmono\">str</div>\n",
       "\n",
       "<span> grammatical number</span>\n",
       "\n",
       "</div>\n",
       "\n",
       "<div class=\"frow\">\n",
       "    <div class=\"fnamecat \">\n",
       "<a target=\"_blank\" href=\"https://etcbc.github.io/bhsa/features/otype\" title=\"~/text-fabric-data/github/DT-UCPH/sp/tf/3.4/otype.tf\">otype</a>\n",
       "</div>\n",
       "<div class=\"fmono\">str</div>\n",
       "\n",
       "<span> </span>\n",
       "\n",
       "</div>\n",
       "\n",
       "<div class=\"frow\">\n",
       "    <div class=\"fnamecat \">\n",
       "<a target=\"_blank\" href=\"https://etcbc.github.io/bhsa/features/prediction\" title=\"~/text-fabric-data/github/DT-UCPH/sp/tf/3.4/prediction.tf\">prediction</a>\n",
       "</div>\n",
       "<div class=\"fmono\">str</div>\n",
       "\n",
       "<span> neural network prediction</span>\n",
       "\n",
       "</div>\n",
       "\n",
       "<div class=\"frow\">\n",
       "    <div class=\"fnamecat \">\n",
       "<a target=\"_blank\" href=\"https://etcbc.github.io/bhsa/features/prs_gn\" title=\"~/text-fabric-data/github/DT-UCPH/sp/tf/3.4/prs_gn.tf\">prs_gn</a>\n",
       "</div>\n",
       "<div class=\"fmono\">str</div>\n",
       "\n",
       "<span> pronominal suffix gender</span>\n",
       "\n",
       "</div>\n",
       "\n",
       "<div class=\"frow\">\n",
       "    <div class=\"fnamecat \">\n",
       "<a target=\"_blank\" href=\"https://etcbc.github.io/bhsa/features/prs_nu\" title=\"~/text-fabric-data/github/DT-UCPH/sp/tf/3.4/prs_nu.tf\">prs_nu</a>\n",
       "</div>\n",
       "<div class=\"fmono\">str</div>\n",
       "\n",
       "<span> pronominal suffix number</span>\n",
       "\n",
       "</div>\n",
       "\n",
       "<div class=\"frow\">\n",
       "    <div class=\"fnamecat \">\n",
       "<a target=\"_blank\" href=\"https://etcbc.github.io/bhsa/features/prs_ps\" title=\"~/text-fabric-data/github/DT-UCPH/sp/tf/3.4/prs_ps.tf\">prs_ps</a>\n",
       "</div>\n",
       "<div class=\"fmono\">str</div>\n",
       "\n",
       "<span> pronominal suffix person</span>\n",
       "\n",
       "</div>\n",
       "\n",
       "<div class=\"frow\">\n",
       "    <div class=\"fnamecat \">\n",
       "<a target=\"_blank\" href=\"https://etcbc.github.io/bhsa/features/ps\" title=\"~/text-fabric-data/github/DT-UCPH/sp/tf/3.4/ps.tf\">ps</a>\n",
       "</div>\n",
       "<div class=\"fmono\">str</div>\n",
       "\n",
       "<span> grammatical person</span>\n",
       "\n",
       "</div>\n",
       "\n",
       "<div class=\"frow\">\n",
       "    <div class=\"fnamecat \">\n",
       "<a target=\"_blank\" href=\"https://etcbc.github.io/bhsa/features/sign\" title=\"~/text-fabric-data/github/DT-UCPH/sp/tf/3.4/sign.tf\">sign</a>\n",
       "</div>\n",
       "<div class=\"fmono\">str</div>\n",
       "\n",
       "<span> consonantal letter</span>\n",
       "\n",
       "</div>\n",
       "\n",
       "<div class=\"frow\">\n",
       "    <div class=\"fnamecat \">\n",
       "<a target=\"_blank\" href=\"https://etcbc.github.io/bhsa/features/sp\" title=\"~/text-fabric-data/github/DT-UCPH/sp/tf/3.4/sp.tf\">sp</a>\n",
       "</div>\n",
       "<div class=\"fmono\">str</div>\n",
       "\n",
       "<span> part of speech</span>\n",
       "\n",
       "</div>\n",
       "\n",
       "<div class=\"frow\">\n",
       "    <div class=\"fnamecat \">\n",
       "<a target=\"_blank\" href=\"https://etcbc.github.io/bhsa/features/trailer\" title=\"~/text-fabric-data/github/DT-UCPH/sp/tf/3.4/trailer.tf\">trailer</a>\n",
       "</div>\n",
       "<div class=\"fmono\">str</div>\n",
       "\n",
       "<span> interword material</span>\n",
       "\n",
       "</div>\n",
       "\n",
       "<div class=\"frow\">\n",
       "    <div class=\"fnamecat \">\n",
       "<a target=\"_blank\" href=\"https://etcbc.github.io/bhsa/features/verse\" title=\"~/text-fabric-data/github/DT-UCPH/sp/tf/3.4/verse.tf\">verse</a>\n",
       "</div>\n",
       "<div class=\"fmono\">int</div>\n",
       "\n",
       "<span> verse number</span>\n",
       "\n",
       "</div>\n",
       "\n",
       "<div class=\"frow\">\n",
       "    <div class=\"fnamecat \">\n",
       "<a target=\"_blank\" href=\"https://etcbc.github.io/bhsa/features/vt\" title=\"~/text-fabric-data/github/DT-UCPH/sp/tf/3.4/vt.tf\">vt</a>\n",
       "</div>\n",
       "<div class=\"fmono\">str</div>\n",
       "\n",
       "<span> verbal tense</span>\n",
       "\n",
       "</div>\n",
       "\n",
       "<div class=\"frow\">\n",
       "    <div class=\"fnamecat edge\">\n",
       "<a target=\"_blank\" href=\"https://etcbc.github.io/bhsa/features/oslots\" title=\"~/text-fabric-data/github/DT-UCPH/sp/tf/3.4/oslots.tf\">oslots</a>\n",
       "</div>\n",
       "<div class=\"fmono\">none</div>\n",
       "\n",
       "<span> </span>\n",
       "\n",
       "</div>\n",
       "\n",
       "    </div>\n",
       "</details>\n",
       "\n",
       "            <b>Settings:</b><br><details ><summary><b>specified</b></summary><ol><li><b>apiVersion</b>: <code>3</code></li><li><b>appName</b>: <code>DT-UCPH/sp</code></li><li><b>appPath</b>: <code>C:/Users/tonyj/text-fabric-data/github/DT-UCPH/sp/app</code></li><li><b>commit</b>: <code>g0c9b2fff6448228af93ed6c466ba95e6c0bb3547</code></li><li><b>css</b>: <code>''</code></li><li><details><summary><b>dataDisplay</b>:</summary><li><details open>\n",
       "                <summary><b>textFormats</b>:</summary>\n",
       "                <li><details open>\n",
       "                <summary><b>layout-orig-full</b>:</summary>\n",
       "                <ul><li><b>method</b>: <code>layoutRich</code></li><li><b>style</b>: <code>orig</code></li></ul>\n",
       "                </details></li>\n",
       "                </details></li></details></li><li><details><summary><b>docs</b>:</summary><ul><li><b>docBase</b>: <code>{docRoot}/bhsa</code></li><li><b>docExt</b>: <code>''</code></li><li><b>docPage</b>: <code>''</code></li><li><b>docRoot</b>: <code>https://etcbc.github.io</code></li><li><b>featurePage</b>: <code>0_home</code></li></ul></details></li><li><b>interfaceDefaults</b>: <code>{}</code></li><li><b>isCompatible</b>: <code>True</code></li><li><b>local</b>: <code>local</code></li><li><b>localDir</b>: <code>C:/Users/tonyj/text-fabric-data/github/DT-UCPH/sp/_temp</code></li><li><details><summary><b>provenanceSpec</b>:</summary><ul><li><b>corpus</b>: <code>The Samaritan Pentateuch</code></li><li><b>org</b>: <code>DT-UCPH</code></li><li><b>relative</b>: <code>/tf</code></li><li><b>repo</b>: <code>sp</code></li><li><b>version</b>: <code>3.4</code></li></ul></details></li><li><b>release</b>: <code>v3.4</code></li><li><details><summary><b>typeDisplay</b>:</summary><ul><li><details><summary><b>verse</b>:</summary><ul><li><b>label</b>: <code>{verse}</code></li><li><b>template</b>: <code>{verse}</code></li><li><b>verselike</b>: <code>True</code></li></ul></details></li><li><b>word</b>: {<b>features</b>: <code>lex</code>}</li></ul></details></li><li><b>writing</b>: <code>hbo</code></li></ol></details>\n"
      ],
      "text/plain": [
       "<IPython.core.display.HTML object>"
      ]
     },
     "metadata": {},
     "output_type": "display_data"
    },
    {
     "data": {
      "text/html": [
       "<style>tr.tf.ltr, td.tf.ltr, th.tf.ltr { text-align: left ! important;}\n",
       "tr.tf.rtl, td.tf.rtl, th.tf.rtl { text-align: right ! important;}\n",
       "@font-face {\n",
       "  font-family: \"Gentium Plus\";\n",
       "  src: local('Gentium Plus'), local('GentiumPlus'),\n",
       "    url('/browser/static/fonts/GentiumPlus-R.woff') format('woff'),\n",
       "    url('https://github.com/annotation/text-fabric/blob/master/tf/browser/static/fonts/GentiumPlus-R.woff?raw=true') format('woff');\n",
       "}\n",
       "\n",
       "@font-face {\n",
       "  font-family: \"Ezra SIL\";\n",
       "  src: local('Ezra SIL'), local('EzraSIL'),\n",
       "    url('/browser/static/fonts/SILEOT.woff') format('woff'),\n",
       "    url('https://github.com/annotation/text-fabric/blob/master/tf/browser/static/fonts/SILEOT.woff?raw=true') format('woff');\n",
       "}\n",
       "\n",
       "@font-face {\n",
       "  font-family: \"SBL Hebrew\";\n",
       "  src: local('SBL Hebrew'), local('SBLHebrew'),\n",
       "    url('/browser/static/fonts/SBL_Hbrw.woff') format('woff'),\n",
       "    url('https://github.com/annotation/text-fabric/blob/master/tf/browser/static/fonts/SBL_Hbrw.woff?raw=true') format('woff');\n",
       "}\n",
       "\n",
       "@font-face {\n",
       "  font-family: \"Estrangelo Edessa\";\n",
       "  src: local('Estrangelo Edessa'), local('EstrangeloEdessa');\n",
       "    url('/browser/static/fonts/SyrCOMEdessa.woff') format('woff'),\n",
       "    url('https://github.com/annotation/text-fabric/blob/master/tf/browser/static/fonts/SyrCOMEdessa.woff?raw=true') format('woff');\n",
       "}\n",
       "\n",
       "@font-face {\n",
       "  font-family: AmiriQuran;\n",
       "  font-style: normal;\n",
       "  font-weight: 400;\n",
       "  src: local('Amiri Quran'), local('AmiriQuran'),\n",
       "    url('/browser/static/fonts/AmiriQuran.woff') format('woff'),\n",
       "    url('https://github.com/annotation/text-fabric/blob/master/tf/browser/static/fonts/AmiriQuran.woff?raw=true') format('woff');\n",
       "}\n",
       "\n",
       "@font-face {\n",
       "  font-family: AmiriQuranColored;\n",
       "  font-style: normal;\n",
       "  font-weight: 400;\n",
       "  src: local('Amiri Quran Colored'), local('AmiriQuranColored'),\n",
       "    url('/browser/static/fonts/AmiriQuranColored.woff') format('woff'),\n",
       "    url('https://github.com/annotation/text-fabric/blob/master/tf/browser/static/fonts/AmiriQuranColored.woff?raw=true') format('woff');\n",
       "}\n",
       "\n",
       "@font-face {\n",
       "  font-family: \"Santakku\";\n",
       "  src: local('Santakku'),\n",
       "    url('/browser/static/fonts/Santakku.woff') format('woff'),\n",
       "    url('https://github.com/annotation/text-fabric/blob/master/tf/browser/static/fonts/Santakku.woff?raw=true') format('woff');\n",
       "}\n",
       "\n",
       "@font-face {\n",
       "  font-family: \"SantakkuM\";\n",
       "  src: local('SantakkuM'),\n",
       "    url('/browser/static/fonts/SantakkuM.woff') format('woff'),\n",
       "    url('https://github.com/annotation/text-fabric/blob/master/tf/browser/static/fonts/SantakkuM.woff?raw=true') format('woff');\n",
       "}\n",
       "\n",
       "/* bypassing some classical notebook settings */\n",
       "div#notebook {\n",
       "  line-height: unset;\n",
       "}\n",
       "/* neutral text */\n",
       ".txtn,.txtn a:visited,.txtn a:link {\n",
       "    font-family: sans-serif;\n",
       "    font-size: medium;\n",
       "    direction: ltr;\n",
       "    unicode-bidi: embed;\n",
       "    text-decoration: none;\n",
       "    color: var(--text-color);\n",
       "}\n",
       "/* transcription text */\n",
       ".txtt,.txtt a:visited,.txtt a:link {\n",
       "    font-family: monospace;\n",
       "    font-size: medium;\n",
       "    direction: ltr;\n",
       "    unicode-bidi: embed;\n",
       "    text-decoration: none;\n",
       "    color: var(--text-color);\n",
       "}\n",
       "/* source text */\n",
       ".txto,.txto a:visited,.txto a:link {\n",
       "    font-family: serif;\n",
       "    font-size: medium;\n",
       "    direction: ltr;\n",
       "    unicode-bidi: embed;\n",
       "    text-decoration: none;\n",
       "    color: var(--text-color);\n",
       "}\n",
       "/* phonetic text */\n",
       ".txtp,.txtp a:visited,.txtp a:link {\n",
       "    font-family: Gentium, sans-serif;\n",
       "    font-size: medium;\n",
       "    direction: ltr;\n",
       "    unicode-bidi: embed;\n",
       "    text-decoration: none;\n",
       "    color: var(--text-color);\n",
       "}\n",
       "/* original script text */\n",
       ".txtu,.txtu a:visited,.txtu a:link {\n",
       "    font-family: Gentium, sans-serif;\n",
       "    font-size: medium;\n",
       "    text-decoration: none;\n",
       "    color: var(--text-color);\n",
       "}\n",
       "/* hebrew */\n",
       ".txtu.hbo,.lex.hbo {\n",
       "    font-family: \"Ezra SIL\", \"SBL Hebrew\", sans-serif;\n",
       "    font-size: large;\n",
       "    direction: rtl ! important;\n",
       "    unicode-bidi: embed;\n",
       "}\n",
       "/* syriac */\n",
       ".txtu.syc,.lex.syc {\n",
       "    font-family: \"Estrangelo Edessa\", sans-serif;\n",
       "    font-size: medium;\n",
       "    direction: rtl ! important;\n",
       "    unicode-bidi: embed;\n",
       "}\n",
       "/* neo aramaic */\n",
       ".txtu.cld,.lex.cld {\n",
       "    font-family: \"CharisSIL-R\", sans-serif;\n",
       "    font-size: medium;\n",
       "    direction: ltr ! important;\n",
       "    unicode-bidi: embed;\n",
       "}\n",
       "/* standard arabic */\n",
       ".txtu.ara,.lex.ara {\n",
       "    font-family: \"AmiriQuran\", sans-serif;\n",
       "    font-size: large;\n",
       "    direction: rtl ! important;\n",
       "    unicode-bidi: embed;\n",
       "}\n",
       "/* cuneiform */\n",
       ".txtu.akk,.lex.akk {\n",
       "    font-family: Santakku, sans-serif;\n",
       "    font-size: large;\n",
       "    direction: ltr ! important;\n",
       "    unicode-bidi: embed;\n",
       "}\n",
       ".txtu.uga,.lex.uga {\n",
       "    font-family: sans-serif;\n",
       "    /*font-family: Noto Sans Ugaritic, sans-serif;*/\n",
       "    font-size: large;\n",
       "    direction: ltr ! important;\n",
       "    unicode-bidi: embed;\n",
       "}\n",
       "/* greek */\n",
       ".txtu.grc,.lex.grc a:link {\n",
       "    font-family: Gentium, sans-serif;\n",
       "    font-size: medium;\n",
       "    direction: ltr ! important;\n",
       "    unicode-bidi: embed;\n",
       "}\n",
       "a:hover {\n",
       "    text-decoration: underline | important;\n",
       "    color: #0000ff | important;\n",
       "}\n",
       ".ltr {\n",
       "    direction: ltr ! important;\n",
       "    unicode-bidi: embed;\n",
       "}\n",
       ".rtl {\n",
       "    direction: rtl ! important;\n",
       "    unicode-bidi: embed;\n",
       "}\n",
       ".ubd {\n",
       "    unicode-bidi: embed;\n",
       "}\n",
       ".col {\n",
       "   display: inline-block;\n",
       "}\n",
       ".features {\n",
       "    font-family: monospace;\n",
       "    font-size: medium;\n",
       "    font-weight: bold;\n",
       "    color: var(--features);\n",
       "    display: flex;\n",
       "    flex-flow: column nowrap;\n",
       "    justify-content: flex-start;\n",
       "    align-items: flex-start;\n",
       "    align-content: flex-start;\n",
       "    padding: 2px;\n",
       "    margin: 2px;\n",
       "    direction: ltr;\n",
       "    unicode-bidi: embed;\n",
       "    border: var(--meta-width) solid var(--meta-color);\n",
       "    border-radius: var(--meta-width);\n",
       "}\n",
       ".features div,.features span {\n",
       "    padding: 0;\n",
       "    margin: -2px 0;\n",
       "}\n",
       ".features .f {\n",
       "    font-family: sans-serif;\n",
       "    font-size: small;\n",
       "    font-weight: normal;\n",
       "    color: #5555bb;\n",
       "}\n",
       ".features .xft {\n",
       "  color: #000000;\n",
       "  background-color: #eeeeee;\n",
       "  font-size: medium;\n",
       "  margin: 2px 0px;\n",
       "}\n",
       ".features .xft .f {\n",
       "  color: #000000;\n",
       "  background-color: #eeeeee;\n",
       "  font-size: small;\n",
       "  font-weight: normal;\n",
       "}\n",
       ".tfsechead {\n",
       "    font-family: sans-serif;\n",
       "    font-size: small;\n",
       "    font-weight: bold;\n",
       "    color: var(--tfsechead);\n",
       "    unicode-bidi: embed;\n",
       "    text-align: start;\n",
       "}\n",
       ".structure {\n",
       "    font-family: sans-serif;\n",
       "    font-size: small;\n",
       "    font-weight: bold;\n",
       "    color: var(--structure);\n",
       "    unicode-bidi: embed;\n",
       "    text-align: start;\n",
       "}\n",
       ".comments {\n",
       "    display: flex;\n",
       "    justify-content: flex-start;\n",
       "    align-items: flex-start;\n",
       "    align-content: flex-start;\n",
       "    flex-flow: column nowrap;\n",
       "}\n",
       ".nd, a:link.nd {\n",
       "    font-family: sans-serif;\n",
       "    font-size: small;\n",
       "    color: var(--node);\n",
       "    vertical-align: super;\n",
       "    direction: ltr ! important;\n",
       "    unicode-bidi: embed;\n",
       "}\n",
       ".nde, a:link.nde {\n",
       "    font-family: sans-serif;\n",
       "    font-size: small;\n",
       "    color: var(--node);\n",
       "    direction: ltr ! important;\n",
       "    unicode-bidi: embed;\n",
       "}\n",
       ".etf {\n",
       "    font-size: normal;\n",
       "    border-radius: 0.2rem;\n",
       "    border: 1pt solid white;\n",
       "    padding: 0 0.2rem ! important;\n",
       "    margin: 0 0.2rem ! important;\n",
       "}\n",
       ".etfx {\n",
       "    font-size: x-large;\n",
       "}\n",
       ".lex {\n",
       "  color: var(--lex-color);;\n",
       "}\n",
       "#colormapplus, #colormapmin, .ecolormapmin {\n",
       "  font-weight: bold;\n",
       "  border-radius: 0.1rem;\n",
       "  background-color: #eeeeff;\n",
       "  padding: 0 1rem;\n",
       "  margin: 0 1rem;\n",
       "}\n",
       ".clr {\n",
       "  font-style: italic;\n",
       "  font-size: small;\n",
       "}\n",
       ".clmap,.eclmap {\n",
       "  padding: 0;\n",
       "}\n",
       ".children,.children.ltr {\n",
       "    display: flex;\n",
       "    border: 0;\n",
       "    background-color: #ffffff;\n",
       "    justify-content: flex-start;\n",
       "    align-items: flex-start;\n",
       "    align-content: flex-start;\n",
       "}\n",
       ".children.stretch {\n",
       "    align-items: stretch;\n",
       "}\n",
       ".children.hor {\n",
       "    flex-flow: row nowrap;\n",
       "}\n",
       ".children.hor.wrap {\n",
       "    flex-flow: row wrap;\n",
       "}\n",
       ".children.ver {\n",
       "    flex-flow: column nowrap;\n",
       "}\n",
       ".children.ver.wrap {\n",
       "    flex-flow: column wrap;\n",
       "}\n",
       ".contnr {\n",
       "    width: fit-content;\n",
       "    display: flex;\n",
       "    justify-content: flex-start;\n",
       "    align-items: flex-start;\n",
       "    align-content: flex-start;\n",
       "    flex-flow: column nowrap;\n",
       "    background: #ffffff none repeat scroll 0 0;\n",
       "    padding:  10px 2px 2px 2px;\n",
       "    margin: 16px 2px 2px 2px;\n",
       "    border-style: solid;\n",
       "    font-size: small;\n",
       "}\n",
       ".contnr.trm {\n",
       "    background-attachment: local;\n",
       "}\n",
       ".contnr.cnul {\n",
       "    padding:  0;\n",
       "    margin: 0;\n",
       "    border-style: solid;\n",
       "    font-size: xx-small;\n",
       "}\n",
       ".contnr.cnul,.lbl.cnul {\n",
       "    border-color: var(--border-color-nul);\n",
       "    border-width: var(--border-width-nul);\n",
       "    border-radius: var(--border-width-nul);\n",
       "}\n",
       ".contnr.c0,.lbl.c0 {\n",
       "    border-color: var(--border-color0);\n",
       "    border-width: var(--border-width0);\n",
       "    border-radius: var(--border-width0);\n",
       "}\n",
       ".contnr.c1,.lbl.c1 {\n",
       "    border-color: var(--border-color1);\n",
       "    border-width: var(--border-width1);\n",
       "    border-radius: var(--border-width1);\n",
       "}\n",
       ".contnr.c2,.lbl.c2 {\n",
       "    border-color: var(--border-color2);\n",
       "    border-width: var(--border-width2);\n",
       "    border-radius: var(--border-width2);\n",
       "}\n",
       ".contnr.c3,.lbl.c3 {\n",
       "    border-color: var(--border-color3);\n",
       "    border-width: var(--border-width3);\n",
       "    border-radius: var(--border-width3);\n",
       "}\n",
       ".contnr.c4,.lbl.c4 {\n",
       "    border-color: var(--border-color4);\n",
       "    border-width: var(--border-width4);\n",
       "    border-radius: var(--border-width4);\n",
       "}\n",
       "span.plain {\n",
       "    /*display: inline-block;*/\n",
       "    display: inline-flex;\n",
       "    flex-flow: row wrap;\n",
       "    white-space: pre-wrap;\n",
       "}\n",
       "span.break {\n",
       "  flex-basis: 100%;\n",
       "  height: 0;\n",
       "}\n",
       ".plain {\n",
       "    background-color: #ffffff;\n",
       "}\n",
       ".plain.l,.contnr.l,.contnr.l>.lbl {\n",
       "    border-left-style: dotted\n",
       "}\n",
       ".plain.r,.contnr.r,.contnr.r>.lbl {\n",
       "    border-right-style: dotted\n",
       "}\n",
       ".plain.lno,.contnr.lno,.contnr.lno>.lbl {\n",
       "    border-left-style: none\n",
       "}\n",
       ".plain.rno,.contnr.rno,.contnr.rno>.lbl {\n",
       "    border-right-style: none\n",
       "}\n",
       ".plain.l {\n",
       "    padding-left: 4px;\n",
       "    margin-left: 2px;\n",
       "    border-width: var(--border-width-plain);\n",
       "}\n",
       ".plain.r {\n",
       "    padding-right: 4px;\n",
       "    margin-right: 2px;\n",
       "    border-width: var(--border-width-plain);\n",
       "}\n",
       ".lbl {\n",
       "    font-family: monospace;\n",
       "    margin-top: -24px;\n",
       "    margin-left: 20px;\n",
       "    background: #ffffff none repeat scroll 0 0;\n",
       "    padding: 0 6px;\n",
       "    border-style: solid;\n",
       "    display: block;\n",
       "    color: var(--label)\n",
       "}\n",
       ".lbl.trm {\n",
       "    background-attachment: local;\n",
       "    margin-top: 2px;\n",
       "    margin-left: 2px;\n",
       "    padding: 2px 2px;\n",
       "    border-style: none;\n",
       "}\n",
       ".lbl.cnul {\n",
       "    font-size: xx-small;\n",
       "}\n",
       ".lbl.c0 {\n",
       "    font-size: small;\n",
       "}\n",
       ".lbl.c1 {\n",
       "    font-size: small;\n",
       "}\n",
       ".lbl.c2 {\n",
       "    font-size: medium;\n",
       "}\n",
       ".lbl.c3 {\n",
       "    font-size: medium;\n",
       "}\n",
       ".lbl.c4 {\n",
       "    font-size: large;\n",
       "}\n",
       ".occs, a:link.occs {\n",
       "    font-size: small;\n",
       "}\n",
       "\n",
       "/* PROVENANCE */\n",
       "\n",
       "div.prov {\n",
       "\tmargin: 40px;\n",
       "\tpadding: 20px;\n",
       "\tborder: 2px solid var(--fog-rim);\n",
       "}\n",
       "div.pline {\n",
       "\tdisplay: flex;\n",
       "\tflex-flow: row nowrap;\n",
       "\tjustify-content: stretch;\n",
       "\talign-items: baseline;\n",
       "}\n",
       "div.p2line {\n",
       "\tmargin-left: 2em;\n",
       "\tdisplay: flex;\n",
       "\tflex-flow: row nowrap;\n",
       "\tjustify-content: stretch;\n",
       "\talign-items: baseline;\n",
       "}\n",
       "div.psline {\n",
       "\tdisplay: flex;\n",
       "\tflex-flow: row nowrap;\n",
       "\tjustify-content: stretch;\n",
       "\talign-items: baseline;\n",
       "\tbackground-color: var(--gold-mist-back);\n",
       "}\n",
       "div.pname {\n",
       "\tflex: 0 0 5rem;\n",
       "\tfont-weight: bold;\n",
       "}\n",
       "div.pval {\n",
       "    flex: 1 1 auto;\n",
       "}\n",
       "\n",
       "/* KEYBOARD */\n",
       ".ccoff {\n",
       "  background-color: inherit;\n",
       "}\n",
       ".ccon {\n",
       "  background-color: yellow ! important;\n",
       "}\n",
       ".ccon,.ccoff {\n",
       "  padding: 0.2rem;\n",
       "  margin: 0.2rem;\n",
       "  border: 0.1rem solid var(--letter-box-border);\n",
       "  border-radius: 0.1rem;\n",
       "}\n",
       ".ccline {\n",
       "  font-size: xx-large ! important;\n",
       "  font-weight: bold;\n",
       "  line-height: 2em ! important;\n",
       "}\n",
       "/* TF header */\n",
       "\n",
       "summary {\n",
       "  /* needed to override the normalize.less\n",
       "   * in the classical Jupyter Notebook\n",
       "   */\n",
       "  display: list-item ! important;\n",
       "}\n",
       "\n",
       ".fcorpus {\n",
       "  display: flex;\n",
       "  flex-flow: column nowrap;\n",
       "  justify-content: flex-start;\n",
       "  align-items: flex-start;\n",
       "  align-content: flex-start;\n",
       "  overflow: auto;\n",
       "}\n",
       ".frow {\n",
       "  display: flex;\n",
       "  flex-flow: row nowrap;\n",
       "  justify-content: flex-start;\n",
       "  align-items: flex-start;\n",
       "  align-content: flex-start;\n",
       "}\n",
       ".fmeta {\n",
       "  display: flex;\n",
       "  flex-flow: column nowrap;\n",
       "  justify-content: flex-start;\n",
       "  align-items: flex-start;\n",
       "  align-content: flex-start;\n",
       "}\n",
       ".fmetarow {\n",
       "  display: flex;\n",
       "  flex-flow: row nowrap;\n",
       "  justify-content: flex-start;\n",
       "  align-items: flex-start;\n",
       "  align-content: flex-start;\n",
       "}\n",
       ".fmetakey {\n",
       "  min-width: 8em;\n",
       "  font-family: monospace;\n",
       "}\n",
       ".fnamecat {\n",
       "  min-width: 8em;\n",
       "}\n",
       ".fnamecat.edge {\n",
       "  font-weight: bold;\n",
       "  font-style: italic;\n",
       "}\n",
       ".fmono {\n",
       "    font-family: monospace;\n",
       "}\n",
       "\n",
       ":root {\n",
       "\t--node:               hsla(120, 100%,  20%, 1.0  );\n",
       "\t--label:              hsla(  0, 100%,  20%, 1.0  );\n",
       "\t--tfsechead:          hsla(  0, 100%,  25%, 1.0  );\n",
       "\t--structure:          hsla(120, 100%,  25%, 1.0  );\n",
       "\t--features:           hsla(  0,   0%,  30%, 1.0  );\n",
       "  --text-color:         hsla( 60,  80%,  10%, 1.0  );\n",
       "  --lex-color:          hsla(220,  90%,  60%, 1.0  );\n",
       "  --meta-color:         hsla(  0,   0%,  90%, 0.7  );\n",
       "  --meta-width:         3px;\n",
       "  --border-color-nul:   hsla(  0,   0%,  90%, 0.5  );\n",
       "  --border-color0:      hsla(  0,   0%,  90%, 0.9  );\n",
       "  --border-color1:      hsla(  0,   0%,  80%, 0.9  );\n",
       "  --border-color2:      hsla(  0,   0%,  70%, 0.9  );\n",
       "  --border-color3:      hsla(  0,   0%,  80%, 0.8  );\n",
       "  --border-color4:      hsla(  0,   0%,  60%, 0.9  );\n",
       "\t--letter-box-border:  hsla(  0,   0%,  80%, 0.5  );\n",
       "  --border-width-nul:   2px;\n",
       "  --border-width0:      2px;\n",
       "  --border-width1:      3px;\n",
       "  --border-width2:      4px;\n",
       "  --border-width3:      6px;\n",
       "  --border-width4:      5px;\n",
       "  --border-width-plain: 2px;\n",
       "}\n",
       ".hl {\n",
       "  background-color: var(--hl-strong);\n",
       "}\n",
       "span.hl {\n",
       "\tbackground-color: var(--hl-strong);\n",
       "\tborder-width: 0;\n",
       "\tborder-radius: 2px;\n",
       "\tborder-style: solid;\n",
       "}\n",
       "div.contnr.hl,div.lbl.hl {\n",
       "  background-color: var(--hl-strong);\n",
       "}\n",
       "div.contnr.hl {\n",
       "  border-color: var(--hl-rim) ! important;\n",
       "\tborder-width: 4px ! important;\n",
       "}\n",
       "\n",
       "span.hlbx {\n",
       "\tborder-color: var(--hl-rim);\n",
       "\tborder-width: 4px ! important;\n",
       "\tborder-style: solid;\n",
       "\tborder-radius: 6px;\n",
       "  padding: 4px;\n",
       "  margin: 4px;\n",
       "}\n",
       ".ehl {\n",
       "  background-color: var(--ehl-strong);\n",
       "}\n",
       "\n",
       ":root {\n",
       "\t--hl-strong:        hsla( 60, 100%,  70%, 0.9  );\n",
       "\t--hl-rim:           hsla( 55,  80%,  50%, 1.0  );\n",
       "\t--ehl-strong:       hsla(240, 100%,  70%, 0.9  );\n",
       "}\n",
       "</style>"
      ],
      "text/plain": [
       "<IPython.core.display.HTML object>"
      ]
     },
     "metadata": {},
     "output_type": "display_data"
    },
    {
     "data": {
      "text/html": [
       "\n",
       "<script>\n",
       "globalThis.copyChar = (el, c) => {\n",
       "    for (const el of document.getElementsByClassName('ccon')) {\n",
       "        el.className = 'ccoff'\n",
       "    }\n",
       "    el.className = 'ccon'\n",
       "    navigator.clipboard.writeText(String.fromCharCode(c))\n",
       "}\n",
       "</script>\n"
      ],
      "text/plain": [
       "<IPython.core.display.HTML object>"
      ]
     },
     "metadata": {},
     "output_type": "display_data"
    },
    {
     "data": {
      "text/markdown": [
       "**Locating corpus resources ...**"
      ],
      "text/plain": [
       "<IPython.core.display.Markdown object>"
      ]
     },
     "metadata": {},
     "output_type": "display_data"
    },
    {
     "data": {
      "text/html": [
       "<b title=\"local release\">app:</b> <span title=\"rv1.8=#gd905e3fb6e80d0fa537600337614adc2af157309 offline under C:/Users/tonyj/text-fabric-data/github\">~/text-fabric-data/github/etcbc/bhsa/app</span>"
      ],
      "text/plain": [
       "<IPython.core.display.HTML object>"
      ]
     },
     "metadata": {},
     "output_type": "display_data"
    },
    {
     "data": {
      "text/html": [
       "<b title=\"local release\">data:</b> <span title=\"rv1.8=#gd905e3fb6e80d0fa537600337614adc2af157309 offline under C:/Users/tonyj/text-fabric-data/github\">~/text-fabric-data/github/etcbc/bhsa/tf/2021</span>"
      ],
      "text/plain": [
       "<IPython.core.display.HTML object>"
      ]
     },
     "metadata": {},
     "output_type": "display_data"
    },
    {
     "data": {
      "text/html": [
       "<b title=\"local commit\">data:</b> <span title=\"#79c84ec8b922c7d9632449b2d3a41324294cea03 offline under C:/Users/tonyj/text-fabric-data/github\">~/text-fabric-data/github/tonyjurg/BHSaddons/tf/2021</span>"
      ],
      "text/plain": [
       "<IPython.core.display.HTML object>"
      ]
     },
     "metadata": {},
     "output_type": "display_data"
    },
    {
     "data": {
      "text/html": [
       "<b title=\"local release\">data:</b> <span title=\"rv2.1=#gaba4367b49750089e4e4122415a77cac43bd97bc offline under C:/Users/tonyj/text-fabric-data/github\">~/text-fabric-data/github/etcbc/phono/tf/2021</span>"
      ],
      "text/plain": [
       "<IPython.core.display.HTML object>"
      ]
     },
     "metadata": {},
     "output_type": "display_data"
    },
    {
     "data": {
      "text/html": [
       "<b title=\"local release\">data:</b> <span title=\"rv2.1=#f45f6cc3c4f933dba6e649f49cdb14a40dcf333f offline under C:/Users/tonyj/text-fabric-data/github\">~/text-fabric-data/github/etcbc/parallels/tf/2021</span>"
      ],
      "text/plain": [
       "<IPython.core.display.HTML object>"
      ]
     },
     "metadata": {},
     "output_type": "display_data"
    },
    {
     "data": {
      "text/html": [
       "\n",
       "            <b>TF:</b> <a target=\"_blank\" href=\"https://annotation.github.io/text-fabric/tf/cheatsheet.html\" title=\"text-fabric api\">TF API 12.6.2</a>, <a target=\"_blank\" href=\"https://github.com/etcbc/bhsa/blob/master/app\" title=\"etcbc/bhsa app\">etcbc/bhsa/app  v3</a>, <a target=\"_blank\" href=\"https://annotation.github.io/text-fabric/tf/about/searchusage.html\" title=\"Search Templates Introduction and Reference\">Search Reference</a><br>\n",
       "            <b>Data:</b> <a target=\"_blank\" href=\"https://etcbc.github.io/bhsa/\" title=\"provenance of BHSA = Biblia Hebraica Stuttgartensia Amstelodamensis\">etcbc - bhsa 2021</a>, <a target=\"_blank\" href=\"https://annotation.github.io/text-fabric/tf/writing/hebrew.html\" title=\"How TF features represent text\">Character table</a>, <a target=\"_blank\" href=\"https://etcbc.github.io/bhsa/features/0_home\" title=\"etcbc - bhsa feature documentation\">Feature docs</a><br>\n",
       "            <details class=\"nodeinfo\"><summary><b>Node types</b></summary>\n",
       "<table class=\"nodeinfo\">\n",
       "    <tr>\n",
       "        <th>Name</th>\n",
       "        <th># of nodes</th>\n",
       "        <th># slots / node</th>\n",
       "        <th>% coverage</th>\n",
       "    </tr>\n",
       "\n",
       "<tr>\n",
       "    <th>book</th>\n",
       "    <td>39</td>\n",
       "    <td>10938.21</td>\n",
       "    <td><b>100</b></td>\n",
       "</tr>\n",
       "\n",
       "<tr>\n",
       "    <th>chapter</th>\n",
       "    <td>929</td>\n",
       "    <td>459.19</td>\n",
       "    <td><b>100</b></td>\n",
       "</tr>\n",
       "\n",
       "<tr>\n",
       "    <th>lex</th>\n",
       "    <td>9230</td>\n",
       "    <td>46.22</td>\n",
       "    <td><b>100</b></td>\n",
       "</tr>\n",
       "\n",
       "<tr>\n",
       "    <th>verse</th>\n",
       "    <td>23213</td>\n",
       "    <td>18.38</td>\n",
       "    <td><b>100</b></td>\n",
       "</tr>\n",
       "\n",
       "<tr>\n",
       "    <th>half_verse</th>\n",
       "    <td>45179</td>\n",
       "    <td>9.44</td>\n",
       "    <td><b>100</b></td>\n",
       "</tr>\n",
       "\n",
       "<tr>\n",
       "    <th>sentence</th>\n",
       "    <td>63717</td>\n",
       "    <td>6.70</td>\n",
       "    <td><b>100</b></td>\n",
       "</tr>\n",
       "\n",
       "<tr>\n",
       "    <th>sentence_atom</th>\n",
       "    <td>64514</td>\n",
       "    <td>6.61</td>\n",
       "    <td><b>100</b></td>\n",
       "</tr>\n",
       "\n",
       "<tr>\n",
       "    <th>clause</th>\n",
       "    <td>88131</td>\n",
       "    <td>4.84</td>\n",
       "    <td><b>100</b></td>\n",
       "</tr>\n",
       "\n",
       "<tr>\n",
       "    <th>clause_atom</th>\n",
       "    <td>90704</td>\n",
       "    <td>4.70</td>\n",
       "    <td><b>100</b></td>\n",
       "</tr>\n",
       "\n",
       "<tr>\n",
       "    <th>phrase</th>\n",
       "    <td>253203</td>\n",
       "    <td>1.68</td>\n",
       "    <td><b>100</b></td>\n",
       "</tr>\n",
       "\n",
       "<tr>\n",
       "    <th>phrase_atom</th>\n",
       "    <td>267532</td>\n",
       "    <td>1.59</td>\n",
       "    <td><b>100</b></td>\n",
       "</tr>\n",
       "\n",
       "<tr>\n",
       "    <th>subphrase</th>\n",
       "    <td>113850</td>\n",
       "    <td>1.42</td>\n",
       "    <td>38</td>\n",
       "</tr>\n",
       "\n",
       "<tr>\n",
       "    <th><i>word</i></th>\n",
       "    <td>426590</td>\n",
       "    <td>1.00</td>\n",
       "    <td><b>100</b></td>\n",
       "</tr>\n",
       "</table></details>\n",
       "            <b>Sets:</b> no custom sets<br>\n",
       "            <b>Features:</b><br>\n",
       "<details><summary><b>Parallel Passages</b></summary>\n",
       "    <div class=\"fcorpus\">\n",
       "\n",
       "<div class=\"frow\">\n",
       "    <div class=\"fnamecat edge\">\n",
       "<a target=\"_blank\" href=\"https://nbviewer.jupyter.org/github/etcbc/parallels/blob/master/programs/parallels.ipynb\" title=\"~/text-fabric-data/github/etcbc/parallels/tf/2021/crossref.tf\">crossref</a>\n",
       "</div>\n",
       "<div class=\"fmono\">int</div>\n",
       "\n",
       "<span> 🆗 links between similar passages</span>\n",
       "\n",
       "</div>\n",
       "\n",
       "    </div>\n",
       "</details>\n",
       "\n",
       "<details><summary><b>BHSA = Biblia Hebraica Stuttgartensia Amstelodamensis</b></summary>\n",
       "    <div class=\"fcorpus\">\n",
       "\n",
       "<div class=\"frow\">\n",
       "    <div class=\"fnamecat \">\n",
       "<a target=\"_blank\" href=\"https://etcbc.github.io/bhsa/features/book\" title=\"~/text-fabric-data/github/etcbc/bhsa/tf/2021/book.tf\">book</a>\n",
       "</div>\n",
       "<div class=\"fmono\">str</div>\n",
       "\n",
       "<span> ✅ book name in Latin (Genesis; Numeri; Reges1; ...)</span>\n",
       "\n",
       "</div>\n",
       "\n",
       "<div class=\"frow\">\n",
       "    <div class=\"fnamecat \">\n",
       "<a target=\"_blank\" href=\"https://etcbc.github.io/bhsa/features/book@ll\" title=\"~/text-fabric-data/github/etcbc/bhsa/tf/2021/book@am.tf\">book@ll</a>\n",
       "</div>\n",
       "<div class=\"fmono\">str</div>\n",
       "\n",
       "<span> ✅ book name in amharic (ኣማርኛ)</span>\n",
       "\n",
       "</div>\n",
       "\n",
       "<div class=\"frow\">\n",
       "    <div class=\"fnamecat \">\n",
       "<a target=\"_blank\" href=\"https://etcbc.github.io/bhsa/features/chapter\" title=\"~/text-fabric-data/github/etcbc/bhsa/tf/2021/chapter.tf\">chapter</a>\n",
       "</div>\n",
       "<div class=\"fmono\">int</div>\n",
       "\n",
       "<span> ✅ chapter number (1; 2; 3; ...)</span>\n",
       "\n",
       "</div>\n",
       "\n",
       "<div class=\"frow\">\n",
       "    <div class=\"fnamecat \">\n",
       "<a target=\"_blank\" href=\"https://etcbc.github.io/bhsa/features/code\" title=\"~/text-fabric-data/github/etcbc/bhsa/tf/2021/code.tf\">code</a>\n",
       "</div>\n",
       "<div class=\"fmono\">int</div>\n",
       "\n",
       "<span> ✅ identifier of a clause atom relationship (0; 74; 367; ...)</span>\n",
       "\n",
       "</div>\n",
       "\n",
       "<div class=\"frow\">\n",
       "    <div class=\"fnamecat \">\n",
       "<a target=\"_blank\" href=\"https://etcbc.github.io/bhsa/features/det\" title=\"~/text-fabric-data/github/etcbc/bhsa/tf/2021/det.tf\">det</a>\n",
       "</div>\n",
       "<div class=\"fmono\">str</div>\n",
       "\n",
       "<span> ✅ determinedness of phrase(atom) (det; und; NA.)</span>\n",
       "\n",
       "</div>\n",
       "\n",
       "<div class=\"frow\">\n",
       "    <div class=\"fnamecat \">\n",
       "<a target=\"_blank\" href=\"https://etcbc.github.io/bhsa/features/domain\" title=\"~/text-fabric-data/github/etcbc/bhsa/tf/2021/domain.tf\">domain</a>\n",
       "</div>\n",
       "<div class=\"fmono\">str</div>\n",
       "\n",
       "<span> ✅ text type of clause (? (Unknown); N (narrative); D (discursive); Q (Quotation).)</span>\n",
       "\n",
       "</div>\n",
       "\n",
       "<div class=\"frow\">\n",
       "    <div class=\"fnamecat \">\n",
       "<a target=\"_blank\" href=\"https://etcbc.github.io/bhsa/features/freq_lex\" title=\"~/text-fabric-data/github/etcbc/bhsa/tf/2021/freq_lex.tf\">freq_lex</a>\n",
       "</div>\n",
       "<div class=\"fmono\">int</div>\n",
       "\n",
       "<span> ✅ frequency of lexemes</span>\n",
       "\n",
       "</div>\n",
       "\n",
       "<div class=\"frow\">\n",
       "    <div class=\"fnamecat \">\n",
       "<a target=\"_blank\" href=\"https://etcbc.github.io/bhsa/features/function\" title=\"~/text-fabric-data/github/etcbc/bhsa/tf/2021/function.tf\">function</a>\n",
       "</div>\n",
       "<div class=\"fmono\">str</div>\n",
       "\n",
       "<span> ✅ syntactic function of phrase (Cmpl; Objc; Pred; ...)</span>\n",
       "\n",
       "</div>\n",
       "\n",
       "<div class=\"frow\">\n",
       "    <div class=\"fnamecat \">\n",
       "<a target=\"_blank\" href=\"https://etcbc.github.io/bhsa/features/g_cons\" title=\"~/text-fabric-data/github/etcbc/bhsa/tf/2021/g_cons.tf\">g_cons</a>\n",
       "</div>\n",
       "<div class=\"fmono\">str</div>\n",
       "\n",
       "<span> ✅ word consonantal-transliterated (B R>CJT BR> >LHJM ...)</span>\n",
       "\n",
       "</div>\n",
       "\n",
       "<div class=\"frow\">\n",
       "    <div class=\"fnamecat \">\n",
       "<a target=\"_blank\" href=\"https://etcbc.github.io/bhsa/features/g_cons_utf8\" title=\"~/text-fabric-data/github/etcbc/bhsa/tf/2021/g_cons_utf8.tf\">g_cons_utf8</a>\n",
       "</div>\n",
       "<div class=\"fmono\">str</div>\n",
       "\n",
       "<span> ✅ word consonantal-Hebrew (ב ראשׁית ברא אלהים)</span>\n",
       "\n",
       "</div>\n",
       "\n",
       "<div class=\"frow\">\n",
       "    <div class=\"fnamecat \">\n",
       "<a target=\"_blank\" href=\"https://etcbc.github.io/bhsa/features/g_lex\" title=\"~/text-fabric-data/github/etcbc/bhsa/tf/2021/g_lex.tf\">g_lex</a>\n",
       "</div>\n",
       "<div class=\"fmono\">str</div>\n",
       "\n",
       "<span> ✅ lexeme pointed-transliterated (B.:- R;>CIJT B.@R@> >:ELOH ...)</span>\n",
       "\n",
       "</div>\n",
       "\n",
       "<div class=\"frow\">\n",
       "    <div class=\"fnamecat \">\n",
       "<a target=\"_blank\" href=\"https://etcbc.github.io/bhsa/features/g_lex_utf8\" title=\"~/text-fabric-data/github/etcbc/bhsa/tf/2021/g_lex_utf8.tf\">g_lex_utf8</a>\n",
       "</div>\n",
       "<div class=\"fmono\">str</div>\n",
       "\n",
       "<span> ✅ lexeme pointed-Hebrew (בְּ רֵאשִׁית בָּרָא אֱלֹה)</span>\n",
       "\n",
       "</div>\n",
       "\n",
       "<div class=\"frow\">\n",
       "    <div class=\"fnamecat \">\n",
       "<a target=\"_blank\" href=\"https://etcbc.github.io/bhsa/features/g_word\" title=\"~/text-fabric-data/github/etcbc/bhsa/tf/2021/g_word.tf\">g_word</a>\n",
       "</div>\n",
       "<div class=\"fmono\">str</div>\n",
       "\n",
       "<span> ✅ word pointed-transliterated (B.:- R;>CI73JT B.@R@74> >:ELOHI92JM)</span>\n",
       "\n",
       "</div>\n",
       "\n",
       "<div class=\"frow\">\n",
       "    <div class=\"fnamecat \">\n",
       "<a target=\"_blank\" href=\"https://etcbc.github.io/bhsa/features/g_word_utf8\" title=\"~/text-fabric-data/github/etcbc/bhsa/tf/2021/g_word_utf8.tf\">g_word_utf8</a>\n",
       "</div>\n",
       "<div class=\"fmono\">str</div>\n",
       "\n",
       "<span> ✅ word pointed-Hebrew (בְּ רֵאשִׁ֖ית בָּרָ֣א אֱלֹהִ֑ים)</span>\n",
       "\n",
       "</div>\n",
       "\n",
       "<div class=\"frow\">\n",
       "    <div class=\"fnamecat \">\n",
       "<a target=\"_blank\" href=\"https://etcbc.github.io/bhsa/features/gloss\" title=\"~/text-fabric-data/github/etcbc/bhsa/tf/2021/gloss.tf\">gloss</a>\n",
       "</div>\n",
       "<div class=\"fmono\">str</div>\n",
       "\n",
       "<span> 🆗 english translation of lexeme (beginning create god(s))</span>\n",
       "\n",
       "</div>\n",
       "\n",
       "<div class=\"frow\">\n",
       "    <div class=\"fnamecat \">\n",
       "<a target=\"_blank\" href=\"https://etcbc.github.io/bhsa/features/gn\" title=\"~/text-fabric-data/github/etcbc/bhsa/tf/2021/gn.tf\">gn</a>\n",
       "</div>\n",
       "<div class=\"fmono\">str</div>\n",
       "\n",
       "<span> ✅ grammatical gender (m; f; NA; unknown.)</span>\n",
       "\n",
       "</div>\n",
       "\n",
       "<div class=\"frow\">\n",
       "    <div class=\"fnamecat \">\n",
       "<a target=\"_blank\" href=\"https://etcbc.github.io/bhsa/features/label\" title=\"~/text-fabric-data/github/etcbc/bhsa/tf/2021/label.tf\">label</a>\n",
       "</div>\n",
       "<div class=\"fmono\">str</div>\n",
       "\n",
       "<span> ✅ (half-)verse label (half verses: A; B; C; verses:  GEN 01,02)</span>\n",
       "\n",
       "</div>\n",
       "\n",
       "<div class=\"frow\">\n",
       "    <div class=\"fnamecat \">\n",
       "<a target=\"_blank\" href=\"https://etcbc.github.io/bhsa/features/language\" title=\"~/text-fabric-data/github/etcbc/bhsa/tf/2021/language.tf\">language</a>\n",
       "</div>\n",
       "<div class=\"fmono\">str</div>\n",
       "\n",
       "<span> ✅ of word or lexeme (Hebrew; Aramaic.)</span>\n",
       "\n",
       "</div>\n",
       "\n",
       "<div class=\"frow\">\n",
       "    <div class=\"fnamecat \">\n",
       "<a target=\"_blank\" href=\"https://etcbc.github.io/bhsa/features/lex\" title=\"~/text-fabric-data/github/etcbc/bhsa/tf/2021/lex.tf\">lex</a>\n",
       "</div>\n",
       "<div class=\"fmono\">str</div>\n",
       "\n",
       "<span> ✅ lexeme consonantal-transliterated (B R>CJT/ BR>[ >LHJM/)</span>\n",
       "\n",
       "</div>\n",
       "\n",
       "<div class=\"frow\">\n",
       "    <div class=\"fnamecat \">\n",
       "<a target=\"_blank\" href=\"https://etcbc.github.io/bhsa/features/lex_utf8\" title=\"~/text-fabric-data/github/etcbc/bhsa/tf/2021/lex_utf8.tf\">lex_utf8</a>\n",
       "</div>\n",
       "<div class=\"fmono\">str</div>\n",
       "\n",
       "<span> ✅ lexeme consonantal-Hebrew (ב ראשׁית֜ ברא אלהים֜)</span>\n",
       "\n",
       "</div>\n",
       "\n",
       "<div class=\"frow\">\n",
       "    <div class=\"fnamecat \">\n",
       "<a target=\"_blank\" href=\"https://etcbc.github.io/bhsa/features/ls\" title=\"~/text-fabric-data/github/etcbc/bhsa/tf/2021/ls.tf\">ls</a>\n",
       "</div>\n",
       "<div class=\"fmono\">str</div>\n",
       "\n",
       "<span> ✅ lexical set, subclassification of part-of-speech (card; ques; mult)</span>\n",
       "\n",
       "</div>\n",
       "\n",
       "<div class=\"frow\">\n",
       "    <div class=\"fnamecat \">\n",
       "<a target=\"_blank\" href=\"https://etcbc.github.io/bhsa/features/nametype\" title=\"~/text-fabric-data/github/etcbc/bhsa/tf/2021/nametype.tf\">nametype</a>\n",
       "</div>\n",
       "<div class=\"fmono\">str</div>\n",
       "\n",
       "<span> ⚠️ named entity type (pers; mens; gens; topo; ppde.)</span>\n",
       "\n",
       "</div>\n",
       "\n",
       "<div class=\"frow\">\n",
       "    <div class=\"fnamecat \">\n",
       "<a target=\"_blank\" href=\"https://etcbc.github.io/bhsa/features/nme\" title=\"~/text-fabric-data/github/etcbc/bhsa/tf/2021/nme.tf\">nme</a>\n",
       "</div>\n",
       "<div class=\"fmono\">str</div>\n",
       "\n",
       "<span> ✅ nominal ending consonantal-transliterated (absent; n/a; JM, ...)</span>\n",
       "\n",
       "</div>\n",
       "\n",
       "<div class=\"frow\">\n",
       "    <div class=\"fnamecat \">\n",
       "<a target=\"_blank\" href=\"https://etcbc.github.io/bhsa/features/nu\" title=\"~/text-fabric-data/github/etcbc/bhsa/tf/2021/nu.tf\">nu</a>\n",
       "</div>\n",
       "<div class=\"fmono\">str</div>\n",
       "\n",
       "<span> ✅ grammatical number (sg; du; pl; NA; unknown.)</span>\n",
       "\n",
       "</div>\n",
       "\n",
       "<div class=\"frow\">\n",
       "    <div class=\"fnamecat \">\n",
       "<a target=\"_blank\" href=\"https://etcbc.github.io/bhsa/features/number\" title=\"~/text-fabric-data/github/etcbc/bhsa/tf/2021/number.tf\">number</a>\n",
       "</div>\n",
       "<div class=\"fmono\">int</div>\n",
       "\n",
       "<span> ✅ sequence number of an object within its context</span>\n",
       "\n",
       "</div>\n",
       "\n",
       "<div class=\"frow\">\n",
       "    <div class=\"fnamecat \">\n",
       "<a target=\"_blank\" href=\"https://etcbc.github.io/bhsa/features/otype\" title=\"~/text-fabric-data/github/etcbc/bhsa/tf/2021/otype.tf\">otype</a>\n",
       "</div>\n",
       "<div class=\"fmono\">str</div>\n",
       "\n",
       "<span> </span>\n",
       "\n",
       "</div>\n",
       "\n",
       "<div class=\"frow\">\n",
       "    <div class=\"fnamecat \">\n",
       "<a target=\"_blank\" href=\"https://etcbc.github.io/bhsa/features/pargr\" title=\"~/text-fabric-data/github/etcbc/bhsa/tf/2021/pargr.tf\">pargr</a>\n",
       "</div>\n",
       "<div class=\"fmono\">str</div>\n",
       "\n",
       "<span> 🆗 hierarchical paragraph number (1; 1.2; 1.2.3.4; ...)</span>\n",
       "\n",
       "</div>\n",
       "\n",
       "<div class=\"frow\">\n",
       "    <div class=\"fnamecat \">\n",
       "<a target=\"_blank\" href=\"https://etcbc.github.io/bhsa/features/pdp\" title=\"~/text-fabric-data/github/etcbc/bhsa/tf/2021/pdp.tf\">pdp</a>\n",
       "</div>\n",
       "<div class=\"fmono\">str</div>\n",
       "\n",
       "<span> ✅ phrase dependent part-of-speech (art; verb; subs; nmpr, ...)</span>\n",
       "\n",
       "</div>\n",
       "\n",
       "<div class=\"frow\">\n",
       "    <div class=\"fnamecat \">\n",
       "<a target=\"_blank\" href=\"https://etcbc.github.io/bhsa/features/pfm\" title=\"~/text-fabric-data/github/etcbc/bhsa/tf/2021/pfm.tf\">pfm</a>\n",
       "</div>\n",
       "<div class=\"fmono\">str</div>\n",
       "\n",
       "<span> ✅ preformative consonantal-transliterated (absent; n/a; J, ...)</span>\n",
       "\n",
       "</div>\n",
       "\n",
       "<div class=\"frow\">\n",
       "    <div class=\"fnamecat \">\n",
       "<a target=\"_blank\" href=\"https://etcbc.github.io/bhsa/features/prs\" title=\"~/text-fabric-data/github/etcbc/bhsa/tf/2021/prs.tf\">prs</a>\n",
       "</div>\n",
       "<div class=\"fmono\">str</div>\n",
       "\n",
       "<span> ✅ pronominal suffix consonantal-transliterated (absent; n/a; W; ...)</span>\n",
       "\n",
       "</div>\n",
       "\n",
       "<div class=\"frow\">\n",
       "    <div class=\"fnamecat \">\n",
       "<a target=\"_blank\" href=\"https://etcbc.github.io/bhsa/features/prs_gn\" title=\"~/text-fabric-data/github/etcbc/bhsa/tf/2021/prs_gn.tf\">prs_gn</a>\n",
       "</div>\n",
       "<div class=\"fmono\">str</div>\n",
       "\n",
       "<span> ✅ pronominal suffix gender (m; f; NA; unknown.)</span>\n",
       "\n",
       "</div>\n",
       "\n",
       "<div class=\"frow\">\n",
       "    <div class=\"fnamecat \">\n",
       "<a target=\"_blank\" href=\"https://etcbc.github.io/bhsa/features/prs_nu\" title=\"~/text-fabric-data/github/etcbc/bhsa/tf/2021/prs_nu.tf\">prs_nu</a>\n",
       "</div>\n",
       "<div class=\"fmono\">str</div>\n",
       "\n",
       "<span> ✅ pronominal suffix number (sg; du; pl; NA; unknown.)</span>\n",
       "\n",
       "</div>\n",
       "\n",
       "<div class=\"frow\">\n",
       "    <div class=\"fnamecat \">\n",
       "<a target=\"_blank\" href=\"https://etcbc.github.io/bhsa/features/prs_ps\" title=\"~/text-fabric-data/github/etcbc/bhsa/tf/2021/prs_ps.tf\">prs_ps</a>\n",
       "</div>\n",
       "<div class=\"fmono\">str</div>\n",
       "\n",
       "<span> ✅ pronominal suffix person (p1; p2; p3; NA; unknown.)</span>\n",
       "\n",
       "</div>\n",
       "\n",
       "<div class=\"frow\">\n",
       "    <div class=\"fnamecat \">\n",
       "<a target=\"_blank\" href=\"https://etcbc.github.io/bhsa/features/ps\" title=\"~/text-fabric-data/github/etcbc/bhsa/tf/2021/ps.tf\">ps</a>\n",
       "</div>\n",
       "<div class=\"fmono\">str</div>\n",
       "\n",
       "<span> ✅ grammatical person (p1; p2; p3; NA; unknown.)</span>\n",
       "\n",
       "</div>\n",
       "\n",
       "<div class=\"frow\">\n",
       "    <div class=\"fnamecat \">\n",
       "<a target=\"_blank\" href=\"https://etcbc.github.io/bhsa/features/qere\" title=\"~/text-fabric-data/github/etcbc/bhsa/tf/2021/qere.tf\">qere</a>\n",
       "</div>\n",
       "<div class=\"fmono\">str</div>\n",
       "\n",
       "<span> ✅ word pointed-transliterated masoretic reading correction</span>\n",
       "\n",
       "</div>\n",
       "\n",
       "<div class=\"frow\">\n",
       "    <div class=\"fnamecat \">\n",
       "<a target=\"_blank\" href=\"https://etcbc.github.io/bhsa/features/qere_trailer\" title=\"~/text-fabric-data/github/etcbc/bhsa/tf/2021/qere_trailer.tf\">qere_trailer</a>\n",
       "</div>\n",
       "<div class=\"fmono\">str</div>\n",
       "\n",
       "<span> ✅ interword material -pointed-transliterated (Masoretic correction)</span>\n",
       "\n",
       "</div>\n",
       "\n",
       "<div class=\"frow\">\n",
       "    <div class=\"fnamecat \">\n",
       "<a target=\"_blank\" href=\"https://etcbc.github.io/bhsa/features/qere_trailer_utf8\" title=\"~/text-fabric-data/github/etcbc/bhsa/tf/2021/qere_trailer_utf8.tf\">qere_trailer_utf8</a>\n",
       "</div>\n",
       "<div class=\"fmono\">str</div>\n",
       "\n",
       "<span> ✅ interword material -pointed-transliterated (Masoretic correction)</span>\n",
       "\n",
       "</div>\n",
       "\n",
       "<div class=\"frow\">\n",
       "    <div class=\"fnamecat \">\n",
       "<a target=\"_blank\" href=\"https://etcbc.github.io/bhsa/features/qere_utf8\" title=\"~/text-fabric-data/github/etcbc/bhsa/tf/2021/qere_utf8.tf\">qere_utf8</a>\n",
       "</div>\n",
       "<div class=\"fmono\">str</div>\n",
       "\n",
       "<span> ✅ word pointed-Hebrew masoretic reading correction</span>\n",
       "\n",
       "</div>\n",
       "\n",
       "<div class=\"frow\">\n",
       "    <div class=\"fnamecat \">\n",
       "<a target=\"_blank\" href=\"https://etcbc.github.io/bhsa/features/rank_lex\" title=\"~/text-fabric-data/github/etcbc/bhsa/tf/2021/rank_lex.tf\">rank_lex</a>\n",
       "</div>\n",
       "<div class=\"fmono\">int</div>\n",
       "\n",
       "<span> ✅ ranking of lexemes based on freqnuecy</span>\n",
       "\n",
       "</div>\n",
       "\n",
       "<div class=\"frow\">\n",
       "    <div class=\"fnamecat \">\n",
       "<a target=\"_blank\" href=\"https://etcbc.github.io/bhsa/features/rela\" title=\"~/text-fabric-data/github/etcbc/bhsa/tf/2021/rela.tf\">rela</a>\n",
       "</div>\n",
       "<div class=\"fmono\">str</div>\n",
       "\n",
       "<span> ✅ linguistic relation between clause/(sub)phrase(atom) (ADJ; MOD; ATR; ...)</span>\n",
       "\n",
       "</div>\n",
       "\n",
       "<div class=\"frow\">\n",
       "    <div class=\"fnamecat \">\n",
       "<a target=\"_blank\" href=\"https://etcbc.github.io/bhsa/features/sp\" title=\"~/text-fabric-data/github/etcbc/bhsa/tf/2021/sp.tf\">sp</a>\n",
       "</div>\n",
       "<div class=\"fmono\">str</div>\n",
       "\n",
       "<span> ✅ part-of-speech (art; verb; subs; nmpr, ...)</span>\n",
       "\n",
       "</div>\n",
       "\n",
       "<div class=\"frow\">\n",
       "    <div class=\"fnamecat \">\n",
       "<a target=\"_blank\" href=\"https://etcbc.github.io/bhsa/features/st\" title=\"~/text-fabric-data/github/etcbc/bhsa/tf/2021/st.tf\">st</a>\n",
       "</div>\n",
       "<div class=\"fmono\">str</div>\n",
       "\n",
       "<span> ✅ state of a noun (a (absolute); c (construct); e (emphatic).)</span>\n",
       "\n",
       "</div>\n",
       "\n",
       "<div class=\"frow\">\n",
       "    <div class=\"fnamecat \">\n",
       "<a target=\"_blank\" href=\"https://etcbc.github.io/bhsa/features/tab\" title=\"~/text-fabric-data/github/etcbc/bhsa/tf/2021/tab.tf\">tab</a>\n",
       "</div>\n",
       "<div class=\"fmono\">int</div>\n",
       "\n",
       "<span> ✅ clause atom: its level in the linguistic embedding</span>\n",
       "\n",
       "</div>\n",
       "\n",
       "<div class=\"frow\">\n",
       "    <div class=\"fnamecat \">\n",
       "<a target=\"_blank\" href=\"https://etcbc.github.io/bhsa/features/trailer\" title=\"~/text-fabric-data/github/etcbc/bhsa/tf/2021/trailer.tf\">trailer</a>\n",
       "</div>\n",
       "<div class=\"fmono\">str</div>\n",
       "\n",
       "<span> ✅ interword material pointed-transliterated (& 00 05 00_P ...)</span>\n",
       "\n",
       "</div>\n",
       "\n",
       "<div class=\"frow\">\n",
       "    <div class=\"fnamecat \">\n",
       "<a target=\"_blank\" href=\"https://etcbc.github.io/bhsa/features/trailer_utf8\" title=\"~/text-fabric-data/github/etcbc/bhsa/tf/2021/trailer_utf8.tf\">trailer_utf8</a>\n",
       "</div>\n",
       "<div class=\"fmono\">str</div>\n",
       "\n",
       "<span> ✅ interword material pointed-Hebrew (־ ׃)</span>\n",
       "\n",
       "</div>\n",
       "\n",
       "<div class=\"frow\">\n",
       "    <div class=\"fnamecat \">\n",
       "<a target=\"_blank\" href=\"https://etcbc.github.io/bhsa/features/txt\" title=\"~/text-fabric-data/github/etcbc/bhsa/tf/2021/txt.tf\">txt</a>\n",
       "</div>\n",
       "<div class=\"fmono\">str</div>\n",
       "\n",
       "<span> ✅ text type of clause and surrounding (repetion of ? N D Q as in feature domain)</span>\n",
       "\n",
       "</div>\n",
       "\n",
       "<div class=\"frow\">\n",
       "    <div class=\"fnamecat \">\n",
       "<a target=\"_blank\" href=\"https://etcbc.github.io/bhsa/features/typ\" title=\"~/text-fabric-data/github/etcbc/bhsa/tf/2021/typ.tf\">typ</a>\n",
       "</div>\n",
       "<div class=\"fmono\">str</div>\n",
       "\n",
       "<span> ✅ clause/phrase(atom) type (VP; NP; Ellp; Ptcp; WayX)</span>\n",
       "\n",
       "</div>\n",
       "\n",
       "<div class=\"frow\">\n",
       "    <div class=\"fnamecat \">\n",
       "<a target=\"_blank\" href=\"https://etcbc.github.io/bhsa/features/uvf\" title=\"~/text-fabric-data/github/etcbc/bhsa/tf/2021/uvf.tf\">uvf</a>\n",
       "</div>\n",
       "<div class=\"fmono\">str</div>\n",
       "\n",
       "<span> ✅ univalent final consonant consonantal-transliterated (absent; N; J; ...)</span>\n",
       "\n",
       "</div>\n",
       "\n",
       "<div class=\"frow\">\n",
       "    <div class=\"fnamecat \">\n",
       "<a target=\"_blank\" href=\"https://etcbc.github.io/bhsa/features/vbe\" title=\"~/text-fabric-data/github/etcbc/bhsa/tf/2021/vbe.tf\">vbe</a>\n",
       "</div>\n",
       "<div class=\"fmono\">str</div>\n",
       "\n",
       "<span> ✅ verbal ending consonantal-transliterated (n/a; W; ...)</span>\n",
       "\n",
       "</div>\n",
       "\n",
       "<div class=\"frow\">\n",
       "    <div class=\"fnamecat \">\n",
       "<a target=\"_blank\" href=\"https://etcbc.github.io/bhsa/features/vbs\" title=\"~/text-fabric-data/github/etcbc/bhsa/tf/2021/vbs.tf\">vbs</a>\n",
       "</div>\n",
       "<div class=\"fmono\">str</div>\n",
       "\n",
       "<span> ✅ root formation consonantal-transliterated (absent; n/a; H; ...)</span>\n",
       "\n",
       "</div>\n",
       "\n",
       "<div class=\"frow\">\n",
       "    <div class=\"fnamecat \">\n",
       "<a target=\"_blank\" href=\"https://etcbc.github.io/bhsa/features/verse\" title=\"~/text-fabric-data/github/etcbc/bhsa/tf/2021/verse.tf\">verse</a>\n",
       "</div>\n",
       "<div class=\"fmono\">int</div>\n",
       "\n",
       "<span> ✅ verse number</span>\n",
       "\n",
       "</div>\n",
       "\n",
       "<div class=\"frow\">\n",
       "    <div class=\"fnamecat \">\n",
       "<a target=\"_blank\" href=\"https://etcbc.github.io/bhsa/features/voc_lex\" title=\"~/text-fabric-data/github/etcbc/bhsa/tf/2021/voc_lex.tf\">voc_lex</a>\n",
       "</div>\n",
       "<div class=\"fmono\">str</div>\n",
       "\n",
       "<span> ✅ vocalized lexeme pointed-transliterated (B.: R;>CIJT BR> >:ELOHIJM)</span>\n",
       "\n",
       "</div>\n",
       "\n",
       "<div class=\"frow\">\n",
       "    <div class=\"fnamecat \">\n",
       "<a target=\"_blank\" href=\"https://etcbc.github.io/bhsa/features/voc_lex_utf8\" title=\"~/text-fabric-data/github/etcbc/bhsa/tf/2021/voc_lex_utf8.tf\">voc_lex_utf8</a>\n",
       "</div>\n",
       "<div class=\"fmono\">str</div>\n",
       "\n",
       "<span> ✅ vocalized lexeme pointed-Hebrew (בְּ רֵאשִׁית ברא אֱלֹהִים)</span>\n",
       "\n",
       "</div>\n",
       "\n",
       "<div class=\"frow\">\n",
       "    <div class=\"fnamecat \">\n",
       "<a target=\"_blank\" href=\"https://etcbc.github.io/bhsa/features/vs\" title=\"~/text-fabric-data/github/etcbc/bhsa/tf/2021/vs.tf\">vs</a>\n",
       "</div>\n",
       "<div class=\"fmono\">str</div>\n",
       "\n",
       "<span> ✅ verbal stem (qal; piel; hif; apel; pael)</span>\n",
       "\n",
       "</div>\n",
       "\n",
       "<div class=\"frow\">\n",
       "    <div class=\"fnamecat \">\n",
       "<a target=\"_blank\" href=\"https://etcbc.github.io/bhsa/features/vt\" title=\"~/text-fabric-data/github/etcbc/bhsa/tf/2021/vt.tf\">vt</a>\n",
       "</div>\n",
       "<div class=\"fmono\">str</div>\n",
       "\n",
       "<span> ✅ verbal tense (perf; impv; wayq; infc)</span>\n",
       "\n",
       "</div>\n",
       "\n",
       "<div class=\"frow\">\n",
       "    <div class=\"fnamecat edge\">\n",
       "<a target=\"_blank\" href=\"https://etcbc.github.io/bhsa/features/mother\" title=\"~/text-fabric-data/github/etcbc/bhsa/tf/2021/mother.tf\">mother</a>\n",
       "</div>\n",
       "<div class=\"fmono\">none</div>\n",
       "\n",
       "<span> ✅ linguistic dependency between textual objects</span>\n",
       "\n",
       "</div>\n",
       "\n",
       "<div class=\"frow\">\n",
       "    <div class=\"fnamecat edge\">\n",
       "<a target=\"_blank\" href=\"https://etcbc.github.io/bhsa/features/oslots\" title=\"~/text-fabric-data/github/etcbc/bhsa/tf/2021/oslots.tf\">oslots</a>\n",
       "</div>\n",
       "<div class=\"fmono\">none</div>\n",
       "\n",
       "<span> </span>\n",
       "\n",
       "</div>\n",
       "\n",
       "    </div>\n",
       "</details>\n",
       "\n",
       "<details><summary><b>Phonetic Transcriptions</b></summary>\n",
       "    <div class=\"fcorpus\">\n",
       "\n",
       "<div class=\"frow\">\n",
       "    <div class=\"fnamecat \">\n",
       "<a target=\"_blank\" href=\"https://nbviewer.jupyter.org/github/etcbc/phono/blob/master/programs/phono.ipynb\" title=\"~/text-fabric-data/github/etcbc/phono/tf/2021/phono.tf\">phono</a>\n",
       "</div>\n",
       "<div class=\"fmono\">str</div>\n",
       "\n",
       "<span> 🆗 phonological transcription (bᵊ rēšˌîṯ bārˈā ʔᵉlōhˈîm)</span>\n",
       "\n",
       "</div>\n",
       "\n",
       "<div class=\"frow\">\n",
       "    <div class=\"fnamecat \">\n",
       "<a target=\"_blank\" href=\"https://nbviewer.jupyter.org/github/etcbc/phono/blob/master/programs/phono.ipynb\" title=\"~/text-fabric-data/github/etcbc/phono/tf/2021/phono_trailer.tf\">phono_trailer</a>\n",
       "</div>\n",
       "<div class=\"fmono\">str</div>\n",
       "\n",
       "<span> 🆗 interword material in phonological transcription</span>\n",
       "\n",
       "</div>\n",
       "\n",
       "    </div>\n",
       "</details>\n",
       "\n",
       "<details><summary><b><github>tonyjurg/BHSaddons/tf</b></summary>\n",
       "    <div class=\"fcorpus\">\n",
       "\n",
       "<div class=\"frow\">\n",
       "    <div class=\"fnamecat \">\n",
       "<a target=\"_blank\" href=\"https://github.com/tonyjurg/BHSaddons/tree/master/tf\" title=\"~/text-fabric-data/github/tonyjurg/BHSaddons/tf/2021/aliyotnum.tf\">aliyotnum</a>\n",
       "</div>\n",
       "<div class=\"fmono\">str</div>\n",
       "\n",
       "<span> The sequence number of the aliyot within the parasha</span>\n",
       "\n",
       "</div>\n",
       "\n",
       "<div class=\"frow\">\n",
       "    <div class=\"fnamecat \">\n",
       "<a target=\"_blank\" href=\"https://github.com/tonyjurg/BHSaddons/tree/master/tf\" title=\"~/text-fabric-data/github/tonyjurg/BHSaddons/tf/2021/maftir.tf\">maftir</a>\n",
       "</div>\n",
       "<div class=\"fmono\">str</div>\n",
       "\n",
       "<span> Set to 1 if this verse is part of a maftir</span>\n",
       "\n",
       "</div>\n",
       "\n",
       "<div class=\"frow\">\n",
       "    <div class=\"fnamecat \">\n",
       "<a target=\"_blank\" href=\"https://github.com/tonyjurg/BHSaddons/tree/master/tf\" title=\"~/text-fabric-data/github/tonyjurg/BHSaddons/tf/2021/parashahebr.tf\">parashahebr</a>\n",
       "</div>\n",
       "<div class=\"fmono\">str</div>\n",
       "\n",
       "<span> The name of the parasha in Hebrew</span>\n",
       "\n",
       "</div>\n",
       "\n",
       "<div class=\"frow\">\n",
       "    <div class=\"fnamecat \">\n",
       "<a target=\"_blank\" href=\"https://github.com/tonyjurg/BHSaddons/tree/master/tf\" title=\"~/text-fabric-data/github/tonyjurg/BHSaddons/tf/2021/parashanum.tf\">parashanum</a>\n",
       "</div>\n",
       "<div class=\"fmono\">int</div>\n",
       "\n",
       "<span> The sequence number of the parasha</span>\n",
       "\n",
       "</div>\n",
       "\n",
       "<div class=\"frow\">\n",
       "    <div class=\"fnamecat \">\n",
       "<a target=\"_blank\" href=\"https://github.com/tonyjurg/BHSaddons/tree/master/tf\" title=\"~/text-fabric-data/github/tonyjurg/BHSaddons/tf/2021/parashatrans.tf\">parashatrans</a>\n",
       "</div>\n",
       "<div class=\"fmono\">str</div>\n",
       "\n",
       "<span> Transliteration of the Hebrew parasha name</span>\n",
       "\n",
       "</div>\n",
       "\n",
       "<div class=\"frow\">\n",
       "    <div class=\"fnamecat \">\n",
       "<a target=\"_blank\" href=\"https://github.com/tonyjurg/BHSaddons/tree/master/tf\" title=\"~/text-fabric-data/github/tonyjurg/BHSaddons/tf/2021/parashaverse.tf\">parashaverse</a>\n",
       "</div>\n",
       "<div class=\"fmono\">str</div>\n",
       "\n",
       "<span> The sequence number of the verse within the parasha</span>\n",
       "\n",
       "</div>\n",
       "\n",
       "<div class=\"frow\">\n",
       "    <div class=\"fnamecat \">\n",
       "<a target=\"_blank\" href=\"https://github.com/tonyjurg/BHSaddons/tree/master/tf\" title=\"~/text-fabric-data/github/tonyjurg/BHSaddons/tf/2021/wordboundary.tf\">wordboundary</a>\n",
       "</div>\n",
       "<div class=\"fmono\">str</div>\n",
       "\n",
       "<span> indicates wordboudaries (spaces OR maqaf)</span>\n",
       "\n",
       "</div>\n",
       "\n",
       "    </div>\n",
       "</details>\n",
       "\n",
       "            <b>Settings:</b><br><details ><summary><b>specified</b></summary><ol><li><b>apiVersion</b>: <code>3</code></li><li><b>appName</b>: <code>etcbc/bhsa</code></li><li><b>appPath</b>: <code>C:/Users/tonyj/text-fabric-data/github/etcbc/bhsa/app</code></li><li><b>commit</b>: <code>gd905e3fb6e80d0fa537600337614adc2af157309</code></li><li><b>css</b>: <code>''</code></li><li><details><summary><b>dataDisplay</b>:</summary><ul><li><details><summary><b>exampleSectionHtml</b>:</summary><code>&lt;code&gt;Genesis 1:1&lt;/code&gt; (use &lt;a href=\"https://github.com/{org}/{repo}/blob/master/tf/{version}/book%40en.tf\" target=\"_blank\"&gt;English book names&lt;/a&gt;)</code></details></li><li><details><summary><b>excludedFeatures</b>:</summary><ul><li><code>g_uvf_utf8</code></li><li><code>g_vbs</code></li><li><code>kq_hybrid</code></li><li><code>languageISO</code></li><li><code>g_nme</code></li><li><code>lex0</code></li><li><code>is_root</code></li><li><code>g_vbs_utf8</code></li><li><code>g_uvf</code></li><li><code>dist</code></li><li><code>root</code></li><li><code>suffix_person</code></li><li><code>g_vbe</code></li><li><code>dist_unit</code></li><li><code>suffix_number</code></li><li><code>distributional_parent</code></li><li><code>kq_hybrid_utf8</code></li><li><code>crossrefSET</code></li><li><code>instruction</code></li><li><code>g_prs</code></li><li><code>lexeme_count</code></li><li><code>rank_occ</code></li><li><code>g_pfm_utf8</code></li><li><code>freq_occ</code></li><li><code>crossrefLCS</code></li><li><code>functional_parent</code></li><li><code>g_pfm</code></li><li><code>g_nme_utf8</code></li><li><code>g_vbe_utf8</code></li><li><code>kind</code></li><li><code>g_prs_utf8</code></li><li><code>suffix_gender</code></li><li><code>mother_object_type</code></li></ul></details></li><li><details><summary><b>noneValues</b>:</summary><ul><li><code>none</code></li><li><code>unknown</code></li><li><i>no value</i></li><li><code>NA</code></li></ul></details></li></ul></details></li><li><details><summary><b>docs</b>:</summary><ul><li><b>docBase</b>: <code>{docRoot}/{repo}</code></li><li><b>docExt</b>: <code>''</code></li><li><b>docPage</b>: <code>''</code></li><li><b>docRoot</b>: <code>https://{org}.github.io</code></li><li><b>featurePage</b>: <code>0_home</code></li></ul></details></li><li><b>interfaceDefaults</b>: <code>{}</code></li><li><b>isCompatible</b>: <code>True</code></li><li><b>local</b>: <code>local</code></li><li><b>localDir</b>: <code>C:/Users/tonyj/text-fabric-data/github/etcbc/bhsa/_temp</code></li><li><details><summary><b>provenanceSpec</b>:</summary><ul><li><b>corpus</b>: <code>BHSA = Biblia Hebraica Stuttgartensia Amstelodamensis</code></li><li><b>doi</b>: <code>10.5281/zenodo.1007624</code></li><li><details><summary><b>moduleSpecs</b>:</summary><ul><li><details><summary>:</summary><ul><li><b>backend</b>: <i>no value</i></li><li><b>corpus</b>: <code>Phonetic Transcriptions</code></li><li><details><summary><b>docUrl</b>:</summary><code>https://nbviewer.jupyter.org/github/etcbc/phono/blob/master/programs/phono.ipynb</code></details></li><li><b>doi</b>: <code>10.5281/zenodo.1007636</code></li><li><b>org</b>: <code>etcbc</code></li><li><b>relative</b>: <code>/tf</code></li><li><b>repo</b>: <code>phono</code></li></ul></details></li><li><details><summary>:</summary><ul><li><b>backend</b>: <i>no value</i></li><li><b>corpus</b>: <code>Parallel Passages</code></li><li><details><summary><b>docUrl</b>:</summary><code>https://nbviewer.jupyter.org/github/etcbc/parallels/blob/master/programs/parallels.ipynb</code></details></li><li><b>doi</b>: <code>10.5281/zenodo.1007642</code></li><li><b>org</b>: <code>etcbc</code></li><li><b>relative</b>: <code>/tf</code></li><li><b>repo</b>: <code>parallels</code></li></ul></details></li></ul></details></li><li><b>org</b>: <code>etcbc</code></li><li><b>relative</b>: <code>/tf</code></li><li><b>repo</b>: <code>bhsa</code></li><li><b>version</b>: <code>2021</code></li><li><b>webBase</b>: <code>https://shebanq.ancient-data.org/hebrew</code></li><li><b>webHint</b>: <code>Show this on SHEBANQ</code></li><li><b>webLang</b>: <code>la</code></li><li><b>webLexId</b>: <code>True</code></li><li><details><summary><b>webUrl</b>:</summary><code>{webBase}/text?book=&lt;1&gt;&amp;chapter=&lt;2&gt;&amp;verse=&lt;3&gt;&amp;version={version}&amp;mr=m&amp;qw=q&amp;tp=txt_p&amp;tr=hb&amp;wget=v&amp;qget=v&amp;nget=vt</code></details></li><li><b>webUrlLex</b>: <code>{webBase}/word?version={version}&amp;id=&lt;lid&gt;</code></li></ul></details></li><li><b>release</b>: <code>v1.8</code></li><li><details><summary><b>typeDisplay</b>:</summary><ul><li><details><summary><b>clause</b>:</summary><ul><li><b>label</b>: <code>{typ} {rela}</code></li><li><b>style</b>: <code>''</code></li></ul></details></li><li><details><summary><b>clause_atom</b>:</summary><ul><li><b>hidden</b>: <code>True</code></li><li><b>label</b>: <code>{code}</code></li><li><b>level</b>: <code>1</code></li><li><b>style</b>: <code>''</code></li></ul></details></li><li><details><summary><b>half_verse</b>:</summary><ul><li><b>hidden</b>: <code>True</code></li><li><b>label</b>: <code>{label}</code></li><li><b>style</b>: <code>''</code></li><li><b>verselike</b>: <code>True</code></li></ul></details></li><li><details><summary><b>lex</b>:</summary><ul><li><b>featuresBare</b>: <code>gloss</code></li><li><b>label</b>: <code>{voc_lex_utf8}</code></li><li><b>lexOcc</b>: <code>word</code></li><li><b>style</b>: <code>orig</code></li><li><b>template</b>: <code>{voc_lex_utf8}</code></li></ul></details></li><li><details><summary><b>phrase</b>:</summary><ul><li><b>label</b>: <code>{typ} {function}</code></li><li><b>style</b>: <code>''</code></li></ul></details></li><li><details><summary><b>phrase_atom</b>:</summary><ul><li><b>hidden</b>: <code>True</code></li><li><b>label</b>: <code>{typ} {rela}</code></li><li><b>level</b>: <code>1</code></li><li><b>style</b>: <code>''</code></li></ul></details></li><li><details><summary><b>sentence</b>:</summary><ul><li><b>label</b>: <code>{number}</code></li><li><b>style</b>: <code>''</code></li></ul></details></li><li><details><summary><b>sentence_atom</b>:</summary><ul><li><b>hidden</b>: <code>True</code></li><li><b>label</b>: <code>{number}</code></li><li><b>level</b>: <code>1</code></li><li><b>style</b>: <code>''</code></li></ul></details></li><li><details><summary><b>subphrase</b>:</summary><ul><li><b>hidden</b>: <code>True</code></li><li><b>label</b>: <code>{number}</code></li><li><b>style</b>: <code>''</code></li></ul></details></li><li><details><summary><b>word</b>:</summary><ul><li><b>features</b>: <code>pdp vs vt</code></li><li><b>featuresBare</b>: <code>lex:gloss</code></li></ul></details></li></ul></details></li><li><b>writing</b>: <code>hbo</code></li></ol></details>\n"
      ],
      "text/plain": [
       "<IPython.core.display.HTML object>"
      ]
     },
     "metadata": {},
     "output_type": "display_data"
    },
    {
     "data": {
      "text/html": [
       "<style>tr.tf.ltr, td.tf.ltr, th.tf.ltr { text-align: left ! important;}\n",
       "tr.tf.rtl, td.tf.rtl, th.tf.rtl { text-align: right ! important;}\n",
       "@font-face {\n",
       "  font-family: \"Gentium Plus\";\n",
       "  src: local('Gentium Plus'), local('GentiumPlus'),\n",
       "    url('/browser/static/fonts/GentiumPlus-R.woff') format('woff'),\n",
       "    url('https://github.com/annotation/text-fabric/blob/master/tf/browser/static/fonts/GentiumPlus-R.woff?raw=true') format('woff');\n",
       "}\n",
       "\n",
       "@font-face {\n",
       "  font-family: \"Ezra SIL\";\n",
       "  src: local('Ezra SIL'), local('EzraSIL'),\n",
       "    url('/browser/static/fonts/SILEOT.woff') format('woff'),\n",
       "    url('https://github.com/annotation/text-fabric/blob/master/tf/browser/static/fonts/SILEOT.woff?raw=true') format('woff');\n",
       "}\n",
       "\n",
       "@font-face {\n",
       "  font-family: \"SBL Hebrew\";\n",
       "  src: local('SBL Hebrew'), local('SBLHebrew'),\n",
       "    url('/browser/static/fonts/SBL_Hbrw.woff') format('woff'),\n",
       "    url('https://github.com/annotation/text-fabric/blob/master/tf/browser/static/fonts/SBL_Hbrw.woff?raw=true') format('woff');\n",
       "}\n",
       "\n",
       "@font-face {\n",
       "  font-family: \"Estrangelo Edessa\";\n",
       "  src: local('Estrangelo Edessa'), local('EstrangeloEdessa');\n",
       "    url('/browser/static/fonts/SyrCOMEdessa.woff') format('woff'),\n",
       "    url('https://github.com/annotation/text-fabric/blob/master/tf/browser/static/fonts/SyrCOMEdessa.woff?raw=true') format('woff');\n",
       "}\n",
       "\n",
       "@font-face {\n",
       "  font-family: AmiriQuran;\n",
       "  font-style: normal;\n",
       "  font-weight: 400;\n",
       "  src: local('Amiri Quran'), local('AmiriQuran'),\n",
       "    url('/browser/static/fonts/AmiriQuran.woff') format('woff'),\n",
       "    url('https://github.com/annotation/text-fabric/blob/master/tf/browser/static/fonts/AmiriQuran.woff?raw=true') format('woff');\n",
       "}\n",
       "\n",
       "@font-face {\n",
       "  font-family: AmiriQuranColored;\n",
       "  font-style: normal;\n",
       "  font-weight: 400;\n",
       "  src: local('Amiri Quran Colored'), local('AmiriQuranColored'),\n",
       "    url('/browser/static/fonts/AmiriQuranColored.woff') format('woff'),\n",
       "    url('https://github.com/annotation/text-fabric/blob/master/tf/browser/static/fonts/AmiriQuranColored.woff?raw=true') format('woff');\n",
       "}\n",
       "\n",
       "@font-face {\n",
       "  font-family: \"Santakku\";\n",
       "  src: local('Santakku'),\n",
       "    url('/browser/static/fonts/Santakku.woff') format('woff'),\n",
       "    url('https://github.com/annotation/text-fabric/blob/master/tf/browser/static/fonts/Santakku.woff?raw=true') format('woff');\n",
       "}\n",
       "\n",
       "@font-face {\n",
       "  font-family: \"SantakkuM\";\n",
       "  src: local('SantakkuM'),\n",
       "    url('/browser/static/fonts/SantakkuM.woff') format('woff'),\n",
       "    url('https://github.com/annotation/text-fabric/blob/master/tf/browser/static/fonts/SantakkuM.woff?raw=true') format('woff');\n",
       "}\n",
       "\n",
       "/* bypassing some classical notebook settings */\n",
       "div#notebook {\n",
       "  line-height: unset;\n",
       "}\n",
       "/* neutral text */\n",
       ".txtn,.txtn a:visited,.txtn a:link {\n",
       "    font-family: sans-serif;\n",
       "    font-size: medium;\n",
       "    direction: ltr;\n",
       "    unicode-bidi: embed;\n",
       "    text-decoration: none;\n",
       "    color: var(--text-color);\n",
       "}\n",
       "/* transcription text */\n",
       ".txtt,.txtt a:visited,.txtt a:link {\n",
       "    font-family: monospace;\n",
       "    font-size: medium;\n",
       "    direction: ltr;\n",
       "    unicode-bidi: embed;\n",
       "    text-decoration: none;\n",
       "    color: var(--text-color);\n",
       "}\n",
       "/* source text */\n",
       ".txto,.txto a:visited,.txto a:link {\n",
       "    font-family: serif;\n",
       "    font-size: medium;\n",
       "    direction: ltr;\n",
       "    unicode-bidi: embed;\n",
       "    text-decoration: none;\n",
       "    color: var(--text-color);\n",
       "}\n",
       "/* phonetic text */\n",
       ".txtp,.txtp a:visited,.txtp a:link {\n",
       "    font-family: Gentium, sans-serif;\n",
       "    font-size: medium;\n",
       "    direction: ltr;\n",
       "    unicode-bidi: embed;\n",
       "    text-decoration: none;\n",
       "    color: var(--text-color);\n",
       "}\n",
       "/* original script text */\n",
       ".txtu,.txtu a:visited,.txtu a:link {\n",
       "    font-family: Gentium, sans-serif;\n",
       "    font-size: medium;\n",
       "    text-decoration: none;\n",
       "    color: var(--text-color);\n",
       "}\n",
       "/* hebrew */\n",
       ".txtu.hbo,.lex.hbo {\n",
       "    font-family: \"Ezra SIL\", \"SBL Hebrew\", sans-serif;\n",
       "    font-size: large;\n",
       "    direction: rtl ! important;\n",
       "    unicode-bidi: embed;\n",
       "}\n",
       "/* syriac */\n",
       ".txtu.syc,.lex.syc {\n",
       "    font-family: \"Estrangelo Edessa\", sans-serif;\n",
       "    font-size: medium;\n",
       "    direction: rtl ! important;\n",
       "    unicode-bidi: embed;\n",
       "}\n",
       "/* neo aramaic */\n",
       ".txtu.cld,.lex.cld {\n",
       "    font-family: \"CharisSIL-R\", sans-serif;\n",
       "    font-size: medium;\n",
       "    direction: ltr ! important;\n",
       "    unicode-bidi: embed;\n",
       "}\n",
       "/* standard arabic */\n",
       ".txtu.ara,.lex.ara {\n",
       "    font-family: \"AmiriQuran\", sans-serif;\n",
       "    font-size: large;\n",
       "    direction: rtl ! important;\n",
       "    unicode-bidi: embed;\n",
       "}\n",
       "/* cuneiform */\n",
       ".txtu.akk,.lex.akk {\n",
       "    font-family: Santakku, sans-serif;\n",
       "    font-size: large;\n",
       "    direction: ltr ! important;\n",
       "    unicode-bidi: embed;\n",
       "}\n",
       ".txtu.uga,.lex.uga {\n",
       "    font-family: sans-serif;\n",
       "    /*font-family: Noto Sans Ugaritic, sans-serif;*/\n",
       "    font-size: large;\n",
       "    direction: ltr ! important;\n",
       "    unicode-bidi: embed;\n",
       "}\n",
       "/* greek */\n",
       ".txtu.grc,.lex.grc a:link {\n",
       "    font-family: Gentium, sans-serif;\n",
       "    font-size: medium;\n",
       "    direction: ltr ! important;\n",
       "    unicode-bidi: embed;\n",
       "}\n",
       "a:hover {\n",
       "    text-decoration: underline | important;\n",
       "    color: #0000ff | important;\n",
       "}\n",
       ".ltr {\n",
       "    direction: ltr ! important;\n",
       "    unicode-bidi: embed;\n",
       "}\n",
       ".rtl {\n",
       "    direction: rtl ! important;\n",
       "    unicode-bidi: embed;\n",
       "}\n",
       ".ubd {\n",
       "    unicode-bidi: embed;\n",
       "}\n",
       ".col {\n",
       "   display: inline-block;\n",
       "}\n",
       ".features {\n",
       "    font-family: monospace;\n",
       "    font-size: medium;\n",
       "    font-weight: bold;\n",
       "    color: var(--features);\n",
       "    display: flex;\n",
       "    flex-flow: column nowrap;\n",
       "    justify-content: flex-start;\n",
       "    align-items: flex-start;\n",
       "    align-content: flex-start;\n",
       "    padding: 2px;\n",
       "    margin: 2px;\n",
       "    direction: ltr;\n",
       "    unicode-bidi: embed;\n",
       "    border: var(--meta-width) solid var(--meta-color);\n",
       "    border-radius: var(--meta-width);\n",
       "}\n",
       ".features div,.features span {\n",
       "    padding: 0;\n",
       "    margin: -2px 0;\n",
       "}\n",
       ".features .f {\n",
       "    font-family: sans-serif;\n",
       "    font-size: small;\n",
       "    font-weight: normal;\n",
       "    color: #5555bb;\n",
       "}\n",
       ".features .xft {\n",
       "  color: #000000;\n",
       "  background-color: #eeeeee;\n",
       "  font-size: medium;\n",
       "  margin: 2px 0px;\n",
       "}\n",
       ".features .xft .f {\n",
       "  color: #000000;\n",
       "  background-color: #eeeeee;\n",
       "  font-size: small;\n",
       "  font-weight: normal;\n",
       "}\n",
       ".tfsechead {\n",
       "    font-family: sans-serif;\n",
       "    font-size: small;\n",
       "    font-weight: bold;\n",
       "    color: var(--tfsechead);\n",
       "    unicode-bidi: embed;\n",
       "    text-align: start;\n",
       "}\n",
       ".structure {\n",
       "    font-family: sans-serif;\n",
       "    font-size: small;\n",
       "    font-weight: bold;\n",
       "    color: var(--structure);\n",
       "    unicode-bidi: embed;\n",
       "    text-align: start;\n",
       "}\n",
       ".comments {\n",
       "    display: flex;\n",
       "    justify-content: flex-start;\n",
       "    align-items: flex-start;\n",
       "    align-content: flex-start;\n",
       "    flex-flow: column nowrap;\n",
       "}\n",
       ".nd, a:link.nd {\n",
       "    font-family: sans-serif;\n",
       "    font-size: small;\n",
       "    color: var(--node);\n",
       "    vertical-align: super;\n",
       "    direction: ltr ! important;\n",
       "    unicode-bidi: embed;\n",
       "}\n",
       ".nde, a:link.nde {\n",
       "    font-family: sans-serif;\n",
       "    font-size: small;\n",
       "    color: var(--node);\n",
       "    direction: ltr ! important;\n",
       "    unicode-bidi: embed;\n",
       "}\n",
       ".etf {\n",
       "    font-size: normal;\n",
       "    border-radius: 0.2rem;\n",
       "    border: 1pt solid white;\n",
       "    padding: 0 0.2rem ! important;\n",
       "    margin: 0 0.2rem ! important;\n",
       "}\n",
       ".etfx {\n",
       "    font-size: x-large;\n",
       "}\n",
       ".lex {\n",
       "  color: var(--lex-color);;\n",
       "}\n",
       "#colormapplus, #colormapmin, .ecolormapmin {\n",
       "  font-weight: bold;\n",
       "  border-radius: 0.1rem;\n",
       "  background-color: #eeeeff;\n",
       "  padding: 0 1rem;\n",
       "  margin: 0 1rem;\n",
       "}\n",
       ".clr {\n",
       "  font-style: italic;\n",
       "  font-size: small;\n",
       "}\n",
       ".clmap,.eclmap {\n",
       "  padding: 0;\n",
       "}\n",
       ".children,.children.ltr {\n",
       "    display: flex;\n",
       "    border: 0;\n",
       "    background-color: #ffffff;\n",
       "    justify-content: flex-start;\n",
       "    align-items: flex-start;\n",
       "    align-content: flex-start;\n",
       "}\n",
       ".children.stretch {\n",
       "    align-items: stretch;\n",
       "}\n",
       ".children.hor {\n",
       "    flex-flow: row nowrap;\n",
       "}\n",
       ".children.hor.wrap {\n",
       "    flex-flow: row wrap;\n",
       "}\n",
       ".children.ver {\n",
       "    flex-flow: column nowrap;\n",
       "}\n",
       ".children.ver.wrap {\n",
       "    flex-flow: column wrap;\n",
       "}\n",
       ".contnr {\n",
       "    width: fit-content;\n",
       "    display: flex;\n",
       "    justify-content: flex-start;\n",
       "    align-items: flex-start;\n",
       "    align-content: flex-start;\n",
       "    flex-flow: column nowrap;\n",
       "    background: #ffffff none repeat scroll 0 0;\n",
       "    padding:  10px 2px 2px 2px;\n",
       "    margin: 16px 2px 2px 2px;\n",
       "    border-style: solid;\n",
       "    font-size: small;\n",
       "}\n",
       ".contnr.trm {\n",
       "    background-attachment: local;\n",
       "}\n",
       ".contnr.cnul {\n",
       "    padding:  0;\n",
       "    margin: 0;\n",
       "    border-style: solid;\n",
       "    font-size: xx-small;\n",
       "}\n",
       ".contnr.cnul,.lbl.cnul {\n",
       "    border-color: var(--border-color-nul);\n",
       "    border-width: var(--border-width-nul);\n",
       "    border-radius: var(--border-width-nul);\n",
       "}\n",
       ".contnr.c0,.lbl.c0 {\n",
       "    border-color: var(--border-color0);\n",
       "    border-width: var(--border-width0);\n",
       "    border-radius: var(--border-width0);\n",
       "}\n",
       ".contnr.c1,.lbl.c1 {\n",
       "    border-color: var(--border-color1);\n",
       "    border-width: var(--border-width1);\n",
       "    border-radius: var(--border-width1);\n",
       "}\n",
       ".contnr.c2,.lbl.c2 {\n",
       "    border-color: var(--border-color2);\n",
       "    border-width: var(--border-width2);\n",
       "    border-radius: var(--border-width2);\n",
       "}\n",
       ".contnr.c3,.lbl.c3 {\n",
       "    border-color: var(--border-color3);\n",
       "    border-width: var(--border-width3);\n",
       "    border-radius: var(--border-width3);\n",
       "}\n",
       ".contnr.c4,.lbl.c4 {\n",
       "    border-color: var(--border-color4);\n",
       "    border-width: var(--border-width4);\n",
       "    border-radius: var(--border-width4);\n",
       "}\n",
       "span.plain {\n",
       "    /*display: inline-block;*/\n",
       "    display: inline-flex;\n",
       "    flex-flow: row wrap;\n",
       "    white-space: pre-wrap;\n",
       "}\n",
       "span.break {\n",
       "  flex-basis: 100%;\n",
       "  height: 0;\n",
       "}\n",
       ".plain {\n",
       "    background-color: #ffffff;\n",
       "}\n",
       ".plain.l,.contnr.l,.contnr.l>.lbl {\n",
       "    border-left-style: dotted\n",
       "}\n",
       ".plain.r,.contnr.r,.contnr.r>.lbl {\n",
       "    border-right-style: dotted\n",
       "}\n",
       ".plain.lno,.contnr.lno,.contnr.lno>.lbl {\n",
       "    border-left-style: none\n",
       "}\n",
       ".plain.rno,.contnr.rno,.contnr.rno>.lbl {\n",
       "    border-right-style: none\n",
       "}\n",
       ".plain.l {\n",
       "    padding-left: 4px;\n",
       "    margin-left: 2px;\n",
       "    border-width: var(--border-width-plain);\n",
       "}\n",
       ".plain.r {\n",
       "    padding-right: 4px;\n",
       "    margin-right: 2px;\n",
       "    border-width: var(--border-width-plain);\n",
       "}\n",
       ".lbl {\n",
       "    font-family: monospace;\n",
       "    margin-top: -24px;\n",
       "    margin-left: 20px;\n",
       "    background: #ffffff none repeat scroll 0 0;\n",
       "    padding: 0 6px;\n",
       "    border-style: solid;\n",
       "    display: block;\n",
       "    color: var(--label)\n",
       "}\n",
       ".lbl.trm {\n",
       "    background-attachment: local;\n",
       "    margin-top: 2px;\n",
       "    margin-left: 2px;\n",
       "    padding: 2px 2px;\n",
       "    border-style: none;\n",
       "}\n",
       ".lbl.cnul {\n",
       "    font-size: xx-small;\n",
       "}\n",
       ".lbl.c0 {\n",
       "    font-size: small;\n",
       "}\n",
       ".lbl.c1 {\n",
       "    font-size: small;\n",
       "}\n",
       ".lbl.c2 {\n",
       "    font-size: medium;\n",
       "}\n",
       ".lbl.c3 {\n",
       "    font-size: medium;\n",
       "}\n",
       ".lbl.c4 {\n",
       "    font-size: large;\n",
       "}\n",
       ".occs, a:link.occs {\n",
       "    font-size: small;\n",
       "}\n",
       "\n",
       "/* PROVENANCE */\n",
       "\n",
       "div.prov {\n",
       "\tmargin: 40px;\n",
       "\tpadding: 20px;\n",
       "\tborder: 2px solid var(--fog-rim);\n",
       "}\n",
       "div.pline {\n",
       "\tdisplay: flex;\n",
       "\tflex-flow: row nowrap;\n",
       "\tjustify-content: stretch;\n",
       "\talign-items: baseline;\n",
       "}\n",
       "div.p2line {\n",
       "\tmargin-left: 2em;\n",
       "\tdisplay: flex;\n",
       "\tflex-flow: row nowrap;\n",
       "\tjustify-content: stretch;\n",
       "\talign-items: baseline;\n",
       "}\n",
       "div.psline {\n",
       "\tdisplay: flex;\n",
       "\tflex-flow: row nowrap;\n",
       "\tjustify-content: stretch;\n",
       "\talign-items: baseline;\n",
       "\tbackground-color: var(--gold-mist-back);\n",
       "}\n",
       "div.pname {\n",
       "\tflex: 0 0 5rem;\n",
       "\tfont-weight: bold;\n",
       "}\n",
       "div.pval {\n",
       "    flex: 1 1 auto;\n",
       "}\n",
       "\n",
       "/* KEYBOARD */\n",
       ".ccoff {\n",
       "  background-color: inherit;\n",
       "}\n",
       ".ccon {\n",
       "  background-color: yellow ! important;\n",
       "}\n",
       ".ccon,.ccoff {\n",
       "  padding: 0.2rem;\n",
       "  margin: 0.2rem;\n",
       "  border: 0.1rem solid var(--letter-box-border);\n",
       "  border-radius: 0.1rem;\n",
       "}\n",
       ".ccline {\n",
       "  font-size: xx-large ! important;\n",
       "  font-weight: bold;\n",
       "  line-height: 2em ! important;\n",
       "}\n",
       "/* TF header */\n",
       "\n",
       "summary {\n",
       "  /* needed to override the normalize.less\n",
       "   * in the classical Jupyter Notebook\n",
       "   */\n",
       "  display: list-item ! important;\n",
       "}\n",
       "\n",
       ".fcorpus {\n",
       "  display: flex;\n",
       "  flex-flow: column nowrap;\n",
       "  justify-content: flex-start;\n",
       "  align-items: flex-start;\n",
       "  align-content: flex-start;\n",
       "  overflow: auto;\n",
       "}\n",
       ".frow {\n",
       "  display: flex;\n",
       "  flex-flow: row nowrap;\n",
       "  justify-content: flex-start;\n",
       "  align-items: flex-start;\n",
       "  align-content: flex-start;\n",
       "}\n",
       ".fmeta {\n",
       "  display: flex;\n",
       "  flex-flow: column nowrap;\n",
       "  justify-content: flex-start;\n",
       "  align-items: flex-start;\n",
       "  align-content: flex-start;\n",
       "}\n",
       ".fmetarow {\n",
       "  display: flex;\n",
       "  flex-flow: row nowrap;\n",
       "  justify-content: flex-start;\n",
       "  align-items: flex-start;\n",
       "  align-content: flex-start;\n",
       "}\n",
       ".fmetakey {\n",
       "  min-width: 8em;\n",
       "  font-family: monospace;\n",
       "}\n",
       ".fnamecat {\n",
       "  min-width: 8em;\n",
       "}\n",
       ".fnamecat.edge {\n",
       "  font-weight: bold;\n",
       "  font-style: italic;\n",
       "}\n",
       ".fmono {\n",
       "    font-family: monospace;\n",
       "}\n",
       "\n",
       ":root {\n",
       "\t--node:               hsla(120, 100%,  20%, 1.0  );\n",
       "\t--label:              hsla(  0, 100%,  20%, 1.0  );\n",
       "\t--tfsechead:          hsla(  0, 100%,  25%, 1.0  );\n",
       "\t--structure:          hsla(120, 100%,  25%, 1.0  );\n",
       "\t--features:           hsla(  0,   0%,  30%, 1.0  );\n",
       "  --text-color:         hsla( 60,  80%,  10%, 1.0  );\n",
       "  --lex-color:          hsla(220,  90%,  60%, 1.0  );\n",
       "  --meta-color:         hsla(  0,   0%,  90%, 0.7  );\n",
       "  --meta-width:         3px;\n",
       "  --border-color-nul:   hsla(  0,   0%,  90%, 0.5  );\n",
       "  --border-color0:      hsla(  0,   0%,  90%, 0.9  );\n",
       "  --border-color1:      hsla(  0,   0%,  80%, 0.9  );\n",
       "  --border-color2:      hsla(  0,   0%,  70%, 0.9  );\n",
       "  --border-color3:      hsla(  0,   0%,  80%, 0.8  );\n",
       "  --border-color4:      hsla(  0,   0%,  60%, 0.9  );\n",
       "\t--letter-box-border:  hsla(  0,   0%,  80%, 0.5  );\n",
       "  --border-width-nul:   2px;\n",
       "  --border-width0:      2px;\n",
       "  --border-width1:      3px;\n",
       "  --border-width2:      4px;\n",
       "  --border-width3:      6px;\n",
       "  --border-width4:      5px;\n",
       "  --border-width-plain: 2px;\n",
       "}\n",
       ".hl {\n",
       "  background-color: var(--hl-strong);\n",
       "}\n",
       "span.hl {\n",
       "\tbackground-color: var(--hl-strong);\n",
       "\tborder-width: 0;\n",
       "\tborder-radius: 2px;\n",
       "\tborder-style: solid;\n",
       "}\n",
       "div.contnr.hl,div.lbl.hl {\n",
       "  background-color: var(--hl-strong);\n",
       "}\n",
       "div.contnr.hl {\n",
       "  border-color: var(--hl-rim) ! important;\n",
       "\tborder-width: 4px ! important;\n",
       "}\n",
       "\n",
       "span.hlbx {\n",
       "\tborder-color: var(--hl-rim);\n",
       "\tborder-width: 4px ! important;\n",
       "\tborder-style: solid;\n",
       "\tborder-radius: 6px;\n",
       "  padding: 4px;\n",
       "  margin: 4px;\n",
       "}\n",
       ".ehl {\n",
       "  background-color: var(--ehl-strong);\n",
       "}\n",
       "\n",
       ":root {\n",
       "\t--hl-strong:        hsla( 60, 100%,  70%, 0.9  );\n",
       "\t--hl-rim:           hsla( 55,  80%,  50%, 1.0  );\n",
       "\t--ehl-strong:       hsla(240, 100%,  70%, 0.9  );\n",
       "}\n",
       "</style>"
      ],
      "text/plain": [
       "<IPython.core.display.HTML object>"
      ]
     },
     "metadata": {},
     "output_type": "display_data"
    },
    {
     "data": {
      "text/html": [
       "\n",
       "<script>\n",
       "globalThis.copyChar = (el, c) => {\n",
       "    for (const el of document.getElementsByClassName('ccon')) {\n",
       "        el.className = 'ccoff'\n",
       "    }\n",
       "    el.className = 'ccon'\n",
       "    navigator.clipboard.writeText(String.fromCharCode(c))\n",
       "}\n",
       "</script>\n"
      ],
      "text/plain": [
       "<IPython.core.display.HTML object>"
      ]
     },
     "metadata": {},
     "output_type": "display_data"
    }
   ],
   "source": [
    "from tf.app import use\n",
    "\n",
    "# Load the SP data, and rename the node features class F,\n",
    "# the locality class L and the text class T, \n",
    "# then they cannot be overwritten while loading the MT.\n",
    "SP = use('DT-UCPH/sp', version='3.4')\n",
    "Fsp, Lsp, Tsp = SP.api.F, SP.api.L, SP.api.T\n",
    "\n",
    "# Do the same for the MT dataset (BHSA) together with BHSaddons \n",
    "MT = use('etcbc/bhsa', version='2021',mod=\"tonyjurg/BHSaddons/tf/\")\n",
    "Fmt, Lmt, Tmt = MT.api.F, MT.api.L, MT.api.T"
   ]
  },
  {
   "cell_type": "markdown",
   "id": "f0086270",
   "metadata": {},
   "source": [
    "# 3 - Compare surface texts of SP and MT <a class=\"anchor\" id=\"bullet3\"></a>\n",
    "##### [Back to ToC](#TOC)\n",
    "\n",
    "In this section, we compare the surface texts of the Samaritan Pentateuch (SP) and the Masoretic Text (MT) at the verse level. By analyzing the wording and structure of these texts, we aim to identify variations."
   ]
  },
  {
   "cell_type": "code",
   "execution_count": 2,
   "id": "3b399f27-1f11-4efc-94e6-db55fe87a684",
   "metadata": {},
   "outputs": [
    {
     "name": "stdout",
     "output_type": "stream",
     "text": [
      "  0.01s 153 results\n"
     ]
    }
   ],
   "source": [
    "# find all word nodes for this parasha (we can either use the transliterated name or the sequence number)\n",
    "parashaQuery = '''\n",
    "verse parashanum=8\n",
    "'''\n",
    "parashaResults = MT.search(parashaQuery)"
   ]
  },
  {
   "cell_type": "code",
   "execution_count": 3,
   "id": "e064e73f-8ca2-4d78-ac65-2b518e1dc4aa",
   "metadata": {},
   "outputs": [],
   "source": [
    "# Extract book, chapter, and verse information\n",
    "bookChapterVerseList = [\n",
    "    Tmt.sectionFromNode(verse[0]) for verse in parashaResults\n",
    "]\n",
    "\n",
    "# Store parashname, start and end verse for future use\n",
    "startNode=parashaResults[0][0]\n",
    "endNode=parashaResults[-1][0]\n",
    "parashaNameHebrew=Fmt.parashahebr.v(startNode)\n",
    "parashaNameEnglish=Fmt.parashatrans.v(startNode)\n",
    "bookStart,chapterStart,startVerse=Tmt.sectionFromNode(startNode)\n",
    "parashaStart=f'{bookStart} {chapterStart}:{startVerse}'\n",
    "bookEnd,chapterEnd,startEnd=Tmt.sectionFromNode(endNode)\n",
    "parashaEnd=f'{chapterEnd}:{startEnd}'"
   ]
  },
  {
   "cell_type": "code",
   "execution_count": 4,
   "id": "06e216e5-a5b1-47d6-994c-f4e8c6a66e90",
   "metadata": {},
   "outputs": [],
   "source": [
    "# Function to reconstruct verses\n",
    "def reconstructVerses(F, L, T, textFeature, inputList):\n",
    "    \"\"\"Reconstruct text for each verse.\"\"\"\n",
    "    verseTexts = {}\n",
    "    for verseName in inputList:\n",
    "        verseText = ''\n",
    "        verseNode = T.nodeFromSection(verseName)\n",
    "        wordNodes = L.d(verseNode, 'word')\n",
    "        for wordNode in wordNodes:\n",
    "            wordText = eval(f'F.{textFeature}.v(wordNode)')\n",
    "            trailer = F.trailer.v(wordNode)\n",
    "            if wordText:\n",
    "                verseText += wordText + (trailer if trailer else ' ')\n",
    "        verseTexts[verseName] = verseText.strip()\n",
    "    return verseTexts\n",
    "    \n",
    "SPverses = reconstructVerses(Fsp, Lsp, Tsp, 'g_cons', bookChapterVerseList)\n",
    "MTverses = reconstructVerses(Fmt, Lmt, Tmt, 'g_cons', bookChapterVerseList)"
   ]
  },
  {
   "cell_type": "code",
   "execution_count": 5,
   "id": "18b2a272",
   "metadata": {},
   "outputs": [
    {
     "data": {
      "text/markdown": [
       "### Differences between MT and SP for parasha Vayishlach (Genesis 32:4-36:43)"
      ],
      "text/plain": [
       "<IPython.core.display.Markdown object>"
      ]
     },
     "metadata": {},
     "output_type": "display_data"
    },
    {
     "data": {
      "text/markdown": [
       "<h4>Genesis 32:4</h4><p><b>SP:</b> ויש<mark></mark>לח יעקב מלאכים לפניו אל עש<mark></mark>ו אחיו אר<mark>ץ</mark> ש<mark></mark>עיר ש<mark></mark>דה אדום <br><b>MT:</b> ויש<mark>ׁ</mark>לח יעקב מלאכים לפניו אל עש<mark>ׂ</mark>ו אחיו אר<mark>צה</mark> ש<mark>ׂ</mark>עיר ש<mark>ׂ</mark>דה אדום </p>"
      ],
      "text/plain": [
       "<IPython.core.display.Markdown object>"
      ]
     },
     "metadata": {},
     "output_type": "display_data"
    },
    {
     "data": {
      "text/markdown": [
       "<h4>Genesis 32:6</h4><p><b>SP:</b> ויהי לי ש<mark></mark>ור וחמור <mark>ו</mark>צאן ועבד וש<mark></mark>פחה ואש<mark></mark>לחה להגיד לאדני למצא חן בעיניך <br><b>MT:</b> ויהי לי ש<mark>ׁ</mark>ור וחמור <mark></mark>צאן ועבד וש<mark>ׁ</mark>פחה ואש<mark>ׁ</mark>לחה להגיד לאדני למצא חן בעיניך </p>"
      ],
      "text/plain": [
       "<IPython.core.display.Markdown object>"
      ]
     },
     "metadata": {},
     "output_type": "display_data"
    },
    {
     "data": {
      "text/markdown": [
       "<h4>Genesis 32:9</h4><p><b>SP:</b> ויאמר אם יבוא עש<mark></mark>ו אל המחנה האח<mark>ד</mark> והכהו והיה המחנה הנש<mark></mark>אר לפל<mark></mark>טה <br><b>MT:</b> ויאמר אם יבוא עש<mark>ׂ</mark>ו אל המחנה האח<mark>ת</mark> והכהו והיה המחנה הנש<mark>ׁ</mark>אר לפל<mark>י</mark>טה </p>"
      ],
      "text/plain": [
       "<IPython.core.display.Markdown object>"
      ]
     },
     "metadata": {},
     "output_type": "display_data"
    },
    {
     "data": {
      "text/markdown": [
       "<h4>Genesis 32:10</h4><p><b>SP:</b> ויאמר יעקב אלהי אבי אברהם ואלהי אבי יצחק יהוה <mark></mark>אמר אלי ש<mark></mark>וב <mark>א</mark>ל<mark> </mark>ארצך ו<mark>א</mark>ל<mark> </mark>מולדתך וא<mark></mark>טיב<mark></mark> עמך <br><b>MT:</b> ויאמר יעקב אלהי אבי אברהם ואלהי אבי יצחק יהוה <mark>ה</mark>אמר אלי ש<mark>ׁ</mark>וב <mark></mark>ל<mark></mark>ארצך ו<mark></mark>ל<mark></mark>מולדתך וא<mark>י</mark>טיב<mark>ה</mark> עמך </p>"
      ],
      "text/plain": [
       "<IPython.core.display.Markdown object>"
      ]
     },
     "metadata": {},
     "output_type": "display_data"
    },
    {
     "data": {
      "text/markdown": [
       "<h4>Genesis 32:12</h4><p><b>SP:</b> הצ<mark></mark>לני נא מיד אחי מיד עש<mark></mark>ו כי ירא אנכי אתו פן יבוא והכני <mark>ה</mark>אם על <mark>ה</mark>בנים <br><b>MT:</b> הצ<mark>י</mark>לני נא מיד אחי מיד עש<mark>ׂ</mark>ו כי ירא אנכי אתו פן יבוא והכני <mark></mark>אם על <mark></mark>בנים </p>"
      ],
      "text/plain": [
       "<IPython.core.display.Markdown object>"
      ]
     },
     "metadata": {},
     "output_type": "display_data"
    },
    {
     "data": {
      "text/markdown": [
       "<h4>Genesis 32:13</h4><p><b>SP:</b> ואתה אמרת ה<mark>ט</mark>י<mark></mark>ב א<mark></mark>טיב עמך וש<mark></mark>מתי את זרעך כחול הים אש<mark></mark>ר לא יספר מרב <br><b>MT:</b> ואתה אמרת ה<mark>י</mark>ט<mark></mark>ב א<mark>י</mark>טיב עמך וש<mark>ׂ</mark>מתי את זרעך כחול הים אש<mark>ׁ</mark>ר לא יספר מרב </p>"
      ],
      "text/plain": [
       "<IPython.core.display.Markdown object>"
      ]
     },
     "metadata": {},
     "output_type": "display_data"
    },
    {
     "data": {
      "text/markdown": [
       "<h4>Genesis 32:16</h4><p><b>SP:</b> גמלים מינ<mark></mark>קות ובניהם ש<mark></mark>לש<mark></mark>ים פרות ארבעים ופרים עש<mark></mark>רה אתנ<mark>ו</mark>ת עש<mark></mark>רים ועיר<mark>י</mark>ם עש<mark></mark>רה <br><b>MT:</b> גמלים מינ<mark>י</mark>קות ובניהם ש<mark>ׁ</mark>לש<mark>ׁ</mark>ים פרות ארבעים ופרים עש<mark>ׂ</mark>רה אתנ<mark></mark>ת עש<mark>ׂ</mark>רים ועיר<mark></mark>ם עש<mark>ׂ</mark>רה </p>"
      ],
      "text/plain": [
       "<IPython.core.display.Markdown object>"
      ]
     },
     "metadata": {},
     "output_type": "display_data"
    },
    {
     "data": {
      "text/markdown": [
       "<h4>Genesis 32:18</h4><p><b>SP:</b> ויצו את הרא<mark>י</mark>ש<mark></mark>ון לאמר כי יפגש<mark></mark>ך עש<mark></mark>ו אחי וש<mark></mark>אלך לאמר למי אתה ואנה תלך ולמי אלה לפניך <br><b>MT:</b> ויצו את הרא<mark></mark>ש<mark>ׁ</mark>ון לאמר כי יפגש<mark>ׁ</mark>ך עש<mark>ׂ</mark>ו אחי וש<mark>ׁ</mark>אלך לאמר למי אתה ואנה תלך ולמי אלה לפניך </p>"
      ],
      "text/plain": [
       "<IPython.core.display.Markdown object>"
      ]
     },
     "metadata": {},
     "output_type": "display_data"
    },
    {
     "data": {
      "text/markdown": [
       "<h4>Genesis 32:19</h4><p><b>SP:</b> ואמרת לעבדך ליעקב מנחה ה<mark>י</mark>א ש<mark></mark>לוחה לאדני לעש<mark></mark>ו והנה גם הוא אחרינו <br><b>MT:</b> ואמרת לעבדך ליעקב מנחה ה<mark>ו</mark>א ש<mark>ׁ</mark>לוחה לאדני לעש<mark>ׂ</mark>ו והנה גם הוא אחרינו </p>"
      ],
      "text/plain": [
       "<IPython.core.display.Markdown object>"
      ]
     },
     "metadata": {},
     "output_type": "display_data"
    },
    {
     "data": {
      "text/markdown": [
       "<h4>Genesis 32:20</h4><p><b>SP:</b> ויצו גם את הש<mark></mark>ני <mark>ו</mark>גם את הש<mark></mark>ליש<mark></mark>י <mark>ו</mark>גם את כל ההלכים אחרי העדרים לאמר כדבר הזה תדברון אל עש<mark></mark>ו במצאכם אתו <br><b>MT:</b> ויצו גם את הש<mark>ׁ</mark>ני <mark></mark>גם את הש<mark>ׁ</mark>ליש<mark>ׁ</mark>י <mark></mark>גם את כל ההלכים אחרי העדרים לאמר כדבר הזה תדברון אל עש<mark>ׂ</mark>ו במצאכם אתו </p>"
      ],
      "text/plain": [
       "<IPython.core.display.Markdown object>"
      ]
     },
     "metadata": {},
     "output_type": "display_data"
    },
    {
     "data": {
      "text/markdown": [
       "<h4>Genesis 32:21</h4><p><b>SP:</b> ואמרתם גם הנה עבדך יעקב<mark> בא</mark> אחרינו כי אמר אכפרה פניו במנחה ההלכת לפני ואחרי כן אראה פניו אולי יש<mark></mark>א פני <br><b>MT:</b> ואמרתם גם הנה עבדך יעקב<mark></mark> אחרינו כי אמר אכפרה פניו במנחה ההלכת לפני ואחרי כן אראה פניו אולי יש<mark>ׂ</mark>א פני </p>"
      ],
      "text/plain": [
       "<IPython.core.display.Markdown object>"
      ]
     },
     "metadata": {},
     "output_type": "display_data"
    },
    {
     "data": {
      "text/markdown": [
       "<h4>Genesis 32:23</h4><p><b>SP:</b> ויקם<mark></mark> בלילה <mark>ה</mark>הוא ויקח את ש<mark></mark>תי נש<mark></mark>יו ואת ש<mark></mark>תי ש<mark></mark>פחתיו ואת אחד עש<mark></mark>ר יל<mark>י</mark>דיו ויעבר את מעבר <mark>ה</mark>יבק <br><b>MT:</b> ויקם<mark>׀</mark> בלילה <mark></mark>הוא ויקח את ש<mark>ׁ</mark>תי נש<mark>ׁ</mark>יו ואת ש<mark>ׁ</mark>תי ש<mark>ׁ</mark>פחתיו ואת אחד עש<mark>ׂ</mark>ר יל<mark></mark>דיו ויעבר את מעבר <mark></mark>יבק </p>"
      ],
      "text/plain": [
       "<IPython.core.display.Markdown object>"
      ]
     },
     "metadata": {},
     "output_type": "display_data"
    },
    {
     "data": {
      "text/markdown": [
       "<h4>Genesis 32:24</h4><p><b>SP:</b> ויקחם ויעברם את הנחל ויעבר את <mark>כל </mark>אש<mark></mark>ר לו <br><b>MT:</b> ויקחם ויעברם את הנחל ויעבר את <mark></mark>אש<mark>ׁ</mark>ר לו </p>"
      ],
      "text/plain": [
       "<IPython.core.display.Markdown object>"
      ]
     },
     "metadata": {},
     "output_type": "display_data"
    },
    {
     "data": {
      "text/markdown": [
       "<h4>Genesis 32:31</h4><p><b>SP:</b> ויקרא יעקב ש<mark></mark>ם המקום פנ<mark>ו</mark>אל כי ראיתי אלהים פנים אל פנים ותנצל נפש<mark></mark>י <br><b>MT:</b> ויקרא יעקב ש<mark>ׁ</mark>ם המקום פנ<mark>י</mark>אל כי ראיתי אלהים פנים אל פנים ותנצל נפש<mark>ׁ</mark>י </p>"
      ],
      "text/plain": [
       "<IPython.core.display.Markdown object>"
      ]
     },
     "metadata": {},
     "output_type": "display_data"
    },
    {
     "data": {
      "text/markdown": [
       "<h4>Genesis 32:32</h4><p><b>SP:</b> ויזרח לו הש<mark></mark>מש<mark></mark> כאש<mark></mark>ר עבר את פנואל והוא צל<mark>ו</mark>ע על ירכו <br><b>MT:</b> ויזרח לו הש<mark>ׁ</mark>מש<mark>ׁ</mark> כאש<mark>ׁ</mark>ר עבר את פנואל והוא צל<mark></mark>ע על ירכו </p>"
      ],
      "text/plain": [
       "<IPython.core.display.Markdown object>"
      ]
     },
     "metadata": {},
     "output_type": "display_data"
    },
    {
     "data": {
      "text/markdown": [
       "<h4>Genesis 32:33</h4><p><b>SP:</b> על כן לא יאכלו בני יש<mark></mark>ראל את גיד הנש<mark>א</mark> אש<mark></mark>ר על כף הירך עד היום הזה כי נגע בכף ירך יעקב בגיד הנש<mark>א</mark> <br><b>MT:</b> על כן לא יאכלו בני יש<mark>ׂ</mark>ראל את גיד הנש<mark>ׁה</mark> אש<mark>ׁ</mark>ר על כף הירך עד היום הזה כי נגע בכף ירך יעקב בגיד הנש<mark>ׁה</mark> </p>"
      ],
      "text/plain": [
       "<IPython.core.display.Markdown object>"
      ]
     },
     "metadata": {},
     "output_type": "display_data"
    },
    {
     "data": {
      "text/markdown": [
       "<h4>Genesis 33:2</h4><p><b>SP:</b> ויש<mark></mark>ם את הש<mark></mark>פחות ואת ילדיהן רא<mark>י</mark>ש<mark>ו</mark>נה ואת לאה וילדיה אחרנים ואת רחל ואת יוסף אחרנים <br><b>MT:</b> ויש<mark>ׂ</mark>ם את הש<mark>ׁ</mark>פחות ואת ילדיהן רא<mark></mark>ש<mark>ׁ</mark>נה ואת לאה וילדיה אחרנים ואת רחל ואת יוסף אחרנים </p>"
      ],
      "text/plain": [
       "<IPython.core.display.Markdown object>"
      ]
     },
     "metadata": {},
     "output_type": "display_data"
    },
    {
     "data": {
      "text/markdown": [
       "<h4>Genesis 33:3</h4><p><b>SP:</b> והוא עבר לפניהם ויש<mark></mark>תחו<mark>י</mark> ארצה ש<mark></mark>בע פעמים עד גש<mark></mark>תו עד אחיו <br><b>MT:</b> והוא עבר לפניהם ויש<mark>ׁ</mark>תחו<mark></mark> ארצה ש<mark>ׁ</mark>בע פעמים עד גש<mark>ׁ</mark>תו עד אחיו </p>"
      ],
      "text/plain": [
       "<IPython.core.display.Markdown object>"
      ]
     },
     "metadata": {},
     "output_type": "display_data"
    },
    {
     "data": {
      "text/markdown": [
       "<h4>Genesis 33:5</h4><p><b>SP:</b> ויש<mark></mark>א<mark></mark> עיניו וירא את הנש<mark></mark>ים ואת הילדים ויאמר מי אלה לך ויאמר הילדים אש<mark></mark>ר חנן אלהים את עבדך <br><b>MT:</b> ויש<mark>ׂ</mark>א<mark> את</mark> עיניו וירא את הנש<mark>ׁ</mark>ים ואת הילדים ויאמר מי אלה לך ויאמר הילדים אש<mark>ׁ</mark>ר חנן אלהים את עבדך </p>"
      ],
      "text/plain": [
       "<IPython.core.display.Markdown object>"
      ]
     },
     "metadata": {},
     "output_type": "display_data"
    },
    {
     "data": {
      "text/markdown": [
       "<h4>Genesis 33:6</h4><p><b>SP:</b> ותגש<mark>נה</mark> הש<mark></mark>פחות הנה וילדיהן ותש<mark></mark>תחוי<mark>נה</mark> <br><b>MT:</b> ותגש<mark>ׁן</mark> הש<mark>ׁ</mark>פחות הנה וילדיהן ותש<mark>ׁ</mark>תחוי<mark>ן</mark> </p>"
      ],
      "text/plain": [
       "<IPython.core.display.Markdown object>"
      ]
     },
     "metadata": {},
     "output_type": "display_data"
    },
    {
     "data": {
      "text/markdown": [
       "<h4>Genesis 33:9</h4><p><b>SP:</b> ויאמר עש<mark></mark>ו יש<mark></mark> לי רב אחי <mark>ו</mark>יהי לך אש<mark></mark>ר לך <br><b>MT:</b> ויאמר עש<mark>ׂ</mark>ו יש<mark>ׁ</mark> לי רב אחי <mark></mark>יהי לך אש<mark>ׁ</mark>ר לך </p>"
      ],
      "text/plain": [
       "<IPython.core.display.Markdown object>"
      ]
     },
     "metadata": {},
     "output_type": "display_data"
    },
    {
     "data": {
      "text/markdown": [
       "<h4>Genesis 33:10</h4><p><b>SP:</b> ויאמר יעקב אל נא אם נא מצאתי חן בעיניך ולקחת מנחתי מידי כי על כן ראיתי פניך כרא<mark>ו</mark>ת פני אלהים ותרצני <br><b>MT:</b> ויאמר יעקב אל נא אם נא מצאתי חן בעיניך ולקחת מנחתי מידי כי על כן ראיתי פניך כרא<mark></mark>ת פני אלהים ותרצני </p>"
      ],
      "text/plain": [
       "<IPython.core.display.Markdown object>"
      ]
     },
     "metadata": {},
     "output_type": "display_data"
    },
    {
     "data": {
      "text/markdown": [
       "<h4>Genesis 33:11</h4><p><b>SP:</b> קח נא את ברכתי אש<mark></mark>ר הבאת<mark>י</mark> לך כי חנני אלהים וכי יש<mark></mark> לי כל ויפצר בו ויקח <br><b>MT:</b> קח נא את ברכתי אש<mark>ׁ</mark>ר הבאת<mark></mark> לך כי חנני אלהים וכי יש<mark>ׁ</mark> לי כל ויפצר בו ויקח </p>"
      ],
      "text/plain": [
       "<IPython.core.display.Markdown object>"
      ]
     },
     "metadata": {},
     "output_type": "display_data"
    },
    {
     "data": {
      "text/markdown": [
       "<h4>Genesis 33:13</h4><p><b>SP:</b> ויאמר אליו אדני ידע כי הילדים רכים והצאן והבקר <mark>א</mark>על<mark></mark>ת עלי ודפק<mark>תי</mark>ם יום אחד ומתו כל הצאן <br><b>MT:</b> ויאמר אליו אדני ידע כי הילדים רכים והצאן והבקר <mark></mark>על<mark>ו</mark>ת עלי ודפק<mark>ו</mark>ם יום אחד ומתו כל הצאן </p>"
      ],
      "text/plain": [
       "<IPython.core.display.Markdown object>"
      ]
     },
     "metadata": {},
     "output_type": "display_data"
    },
    {
     "data": {
      "text/markdown": [
       "<h4>Genesis 33:14</h4><p><b>SP:</b> יעבר נא אדני לפני עבדו ואני אתנהלה לאטי לרגל המלאכה אש<mark></mark>ר לפני ולרגל הילדים עד אש<mark></mark>ר אב<mark>ו</mark>א אל אדני ש<mark></mark>עירה <br><b>MT:</b> יעבר נא אדני לפני עבדו ואני אתנהלה לאטי לרגל המלאכה אש<mark>ׁ</mark>ר לפני ולרגל הילדים עד אש<mark>ׁ</mark>ר אב<mark></mark>א אל אדני ש<mark>ׂ</mark>עירה </p>"
      ],
      "text/plain": [
       "<IPython.core.display.Markdown object>"
      ]
     },
     "metadata": {},
     "output_type": "display_data"
    },
    {
     "data": {
      "text/markdown": [
       "<h4>Genesis 33:17</h4><p><b>SP:</b> ויעקב נסע סכ<mark>ו</mark>תה ויבן לו בית ולמקנהו עש<mark></mark>ה סכ<mark>ו</mark>ת על כן קרא ש<mark></mark>ם המקום סכות <br><b>MT:</b> ויעקב נסע סכ<mark></mark>תה ויבן לו בית ולמקנהו עש<mark>ׂ</mark>ה סכ<mark></mark>ת על כן קרא ש<mark>ׁ</mark>ם המקום סכות </p>"
      ],
      "text/plain": [
       "<IPython.core.display.Markdown object>"
      ]
     },
     "metadata": {},
     "output_type": "display_data"
    },
    {
     "data": {
      "text/markdown": [
       "<h4>Genesis 33:18</h4><p><b>SP:</b> ויבא יעקב ש<mark></mark>ל<mark>ו</mark>ם עיר ש<mark></mark>כם אש<mark></mark>ר בארץ כנען בבאו מפדן ארם ויחן את פני העיר <br><b>MT:</b> ויבא יעקב ש<mark>ׁ</mark>ל<mark></mark>ם עיר ש<mark>ׁ</mark>כם אש<mark>ׁ</mark>ר בארץ כנען בבאו מפדן ארם ויחן את פני העיר </p>"
      ],
      "text/plain": [
       "<IPython.core.display.Markdown object>"
      ]
     },
     "metadata": {},
     "output_type": "display_data"
    },
    {
     "data": {
      "text/markdown": [
       "<h4>Genesis 34:1</h4><p><b>SP:</b> ותצא דינה בת לאה אש<mark></mark>ר ילדה ליעקב ל<mark>ה</mark>ראות בבנות הארץ <br><b>MT:</b> ותצא דינה בת לאה אש<mark>ׁ</mark>ר ילדה ליעקב ל<mark></mark>ראות בבנות הארץ </p>"
      ],
      "text/plain": [
       "<IPython.core.display.Markdown object>"
      ]
     },
     "metadata": {},
     "output_type": "display_data"
    },
    {
     "data": {
      "text/markdown": [
       "<h4>Genesis 34:3</h4><p><b>SP:</b> ותדבק נפש<mark></mark>ו בדינה בת יעקב ויאהב את הנער<mark>ה</mark> וידבר <mark>א</mark>ל לב הנער<mark>ה</mark> <br><b>MT:</b> ותדבק נפש<mark>ׁ</mark>ו בדינה בת יעקב ויאהב את הנער<mark></mark> וידבר <mark>ע</mark>ל לב הנער<mark></mark> </p>"
      ],
      "text/plain": [
       "<IPython.core.display.Markdown object>"
      ]
     },
     "metadata": {},
     "output_type": "display_data"
    },
    {
     "data": {
      "text/markdown": [
       "<h4>Genesis 34:4</h4><p><b>SP:</b> ויאמר ש<mark></mark>כם אל<mark></mark> אביו לאמר קח לי את הילדה הזאת לאש<mark></mark>ה <br><b>MT:</b> ויאמר ש<mark>ׁ</mark>כם אל<mark> חמור</mark> אביו לאמר קח לי את הילדה הזאת לאש<mark>ׁ</mark>ה </p>"
      ],
      "text/plain": [
       "<IPython.core.display.Markdown object>"
      ]
     },
     "metadata": {},
     "output_type": "display_data"
    },
    {
     "data": {
      "text/markdown": [
       "<h4>Genesis 34:5</h4><p><b>SP:</b> ויעקב ש<mark></mark>מע כי טמא את דינה בתו ובניו היו את מקנהו בש<mark></mark>דה ו<mark></mark>חר<mark>י</mark>ש<mark></mark> יעקב עד באם <br><b>MT:</b> ויעקב ש<mark>ׁ</mark>מע כי טמא את דינה בתו ובניו היו את מקנהו בש<mark>ׂ</mark>דה ו<mark>ה</mark>חר<mark></mark>ש<mark>ׁ</mark> יעקב עד באם </p>"
      ],
      "text/plain": [
       "<IPython.core.display.Markdown object>"
      ]
     },
     "metadata": {},
     "output_type": "display_data"
    },
    {
     "data": {
      "text/markdown": [
       "<h4>Genesis 34:10</h4><p><b>SP:</b> ואתנו תש<mark></mark>בו והארץ תהיה לפניכם ש<mark></mark>בו <mark></mark>סחרו<mark></mark> ו<mark></mark>אחזו בה <br><b>MT:</b> ואתנו תש<mark>ׁ</mark>בו והארץ תהיה לפניכם ש<mark>ׁ</mark>בו <mark>ו</mark>סחרו<mark>ה</mark> ו<mark>ה</mark>אחזו בה </p>"
      ],
      "text/plain": [
       "<IPython.core.display.Markdown object>"
      ]
     },
     "metadata": {},
     "output_type": "display_data"
    },
    {
     "data": {
      "text/markdown": [
       "<h4>Genesis 34:12</h4><p><b>SP:</b> הרבו עלי מ<mark>הר מ</mark>אד<mark></mark> ומת<mark>נה</mark> ואת<mark>ן</mark> כאש<mark></mark>ר תאמרו אלי ותנו לי את הנער<mark>ה</mark> לאש<mark></mark>ה <br><b>MT:</b> הרבו עלי מ<mark>אד מ</mark>הר<mark></mark> ומת<mark>ן</mark> ואת<mark>נה</mark> כאש<mark>ׁ</mark>ר תאמרו אלי ותנו לי את הנער<mark></mark> לאש<mark>ׁ</mark>ה </p>"
      ],
      "text/plain": [
       "<IPython.core.display.Markdown object>"
      ]
     },
     "metadata": {},
     "output_type": "display_data"
    },
    {
     "data": {
      "text/markdown": [
       "<h4>Genesis 34:13</h4><p><b>SP:</b> ויענו בני יעקב את ש<mark></mark>כם ואת חמור אביו במרמה וידברו אש<mark></mark>ר טמא<mark>ו</mark> את דינה אח<mark>ו</mark>תם <br><b>MT:</b> ויענו בני יעקב את ש<mark>ׁ</mark>כם ואת חמור אביו במרמה וידברו אש<mark>ׁ</mark>ר טמא<mark></mark> את דינה אח<mark></mark>תם </p>"
      ],
      "text/plain": [
       "<IPython.core.display.Markdown object>"
      ]
     },
     "metadata": {},
     "output_type": "display_data"
    },
    {
     "data": {
      "text/markdown": [
       "<h4>Genesis 34:14</h4><p><b>SP:</b> ויאמרו אליהם לא נוכל לעש<mark></mark>ו<mark>ת א</mark>ת הדבר הזה לתת את אח<mark>ו</mark>תנו לאיש<mark></mark> אש<mark></mark>ר לו ערלה כי חרפה ה<mark>י</mark>א לנו <br><b>MT:</b> ויאמרו אליהם לא נוכל לעש<mark>ׂ</mark>ו<mark></mark>ת הדבר הזה לתת את אח<mark></mark>תנו לאיש<mark>ׁ</mark> אש<mark>ׁ</mark>ר לו ערלה כי חרפה ה<mark>ו</mark>א לנו </p>"
      ],
      "text/plain": [
       "<IPython.core.display.Markdown object>"
      ]
     },
     "metadata": {},
     "output_type": "display_data"
    },
    {
     "data": {
      "text/markdown": [
       "<h4>Genesis 34:15</h4><p><b>SP:</b> אך בזאת נאות לכם אם תהיו כמ<mark>ו</mark>נו להמ<mark>ו</mark>ל לכם כל זכר <br><b>MT:</b> אך בזאת נאות לכם אם תהיו כמ<mark></mark>נו להמ<mark></mark>ל לכם כל זכר </p>"
      ],
      "text/plain": [
       "<IPython.core.display.Markdown object>"
      ]
     },
     "metadata": {},
     "output_type": "display_data"
    },
    {
     "data": {
      "text/markdown": [
       "<h4>Genesis 34:16</h4><p><b>SP:</b> ונתנו את בנתינו לכם ואת בנתיכם נקח לנו ויש<mark></mark>בנו אתכם והיינו <mark>כ</mark>עם אחד <br><b>MT:</b> ונתנו את בנתינו לכם ואת בנתיכם נקח לנו ויש<mark>ׁ</mark>בנו אתכם והיינו <mark>ל</mark>עם אחד </p>"
      ],
      "text/plain": [
       "<IPython.core.display.Markdown object>"
      ]
     },
     "metadata": {},
     "output_type": "display_data"
    },
    {
     "data": {
      "text/markdown": [
       "<h4>Genesis 34:18</h4><p><b>SP:</b> וייטבו דבריהם בעיני חמור ובעיני ש<mark></mark>כם ב<mark>נו</mark> <mark></mark><br><b>MT:</b> וייטבו דבריהם בעיני חמור ובעיני ש<mark>ׁ</mark>כם ב<mark>ן חמ</mark>ו<mark>ר</mark> </p>"
      ],
      "text/plain": [
       "<IPython.core.display.Markdown object>"
      ]
     },
     "metadata": {},
     "output_type": "display_data"
    },
    {
     "data": {
      "text/markdown": [
       "<h4>Genesis 34:21</h4><p><b>SP:</b> האנש<mark></mark>ים האלה ש<mark></mark>למים הם אתנו <mark></mark>יש<mark></mark>בו בארץ ויסחרו אתה והארץ הנה רחב<mark>ו</mark>ת ידים לפניהם את בנ<mark>ו</mark>תם נקח לנו לנש<mark></mark>ים ואת בנתינו נתן להם <br><b>MT:</b> האנש<mark>ׁ</mark>ים האלה ש<mark>ׁ</mark>למים הם אתנו <mark>ו</mark>יש<mark>ׁ</mark>בו בארץ ויסחרו אתה והארץ הנה רחב<mark></mark>ת ידים לפניהם את בנ<mark></mark>תם נקח לנו לנש<mark>ׁ</mark>ים ואת בנתינו נתן להם </p>"
      ],
      "text/plain": [
       "<IPython.core.display.Markdown object>"
      ]
     },
     "metadata": {},
     "output_type": "display_data"
    },
    {
     "data": {
      "text/markdown": [
       "<h4>Genesis 34:22</h4><p><b>SP:</b> אך בזאת יא<mark>ו</mark>תו לנו האנש<mark></mark>ים לש<mark></mark>בת אתנו להיות לעם אחד בהמול לנו כל זכר כאש<mark></mark>ר הם נמלים <br><b>MT:</b> אך בזאת יא<mark></mark>תו לנו האנש<mark>ׁ</mark>ים לש<mark>ׁ</mark>בת אתנו להיות לעם אחד בהמול לנו כל זכר כאש<mark>ׁ</mark>ר הם נמלים </p>"
      ],
      "text/plain": [
       "<IPython.core.display.Markdown object>"
      ]
     },
     "metadata": {},
     "output_type": "display_data"
    },
    {
     "data": {
      "text/markdown": [
       "<h4>Genesis 34:23</h4><p><b>SP:</b> מקנ<mark>י</mark>הם וקנינם וכל בהמתם הלוא לנו הם אך נאות<mark></mark> להם ויש<mark></mark>בו אתנו <br><b>MT:</b> מקנ<mark></mark>הם וקנינם וכל בהמתם הלוא לנו הם אך נאות<mark>ה</mark> להם ויש<mark>ׁ</mark>בו אתנו </p>"
      ],
      "text/plain": [
       "<IPython.core.display.Markdown object>"
      ]
     },
     "metadata": {},
     "output_type": "display_data"
    },
    {
     "data": {
      "text/markdown": [
       "<h4>Genesis 34:27</h4><p><b>SP:</b> <mark>ו</mark>בני יעקב באו על החללים ויבזו העיר אש<mark></mark>ר טמאו אחותם <br><b>MT:</b> <mark></mark>בני יעקב באו על החללים ויבזו העיר אש<mark>ׁ</mark>ר טמאו אחותם </p>"
      ],
      "text/plain": [
       "<IPython.core.display.Markdown object>"
      ]
     },
     "metadata": {},
     "output_type": "display_data"
    },
    {
     "data": {
      "text/markdown": [
       "<h4>Genesis 34:29</h4><p><b>SP:</b> ואת כל חילם ואת <mark></mark>טפם ואת נש<mark></mark>יהם ש<mark></mark>בו ויבזו <mark></mark>את כל אש<mark></mark>ר בבית <br><b>MT:</b> ואת כל חילם ואת <mark>כל </mark>טפם ואת נש<mark>ׁ</mark>יהם ש<mark>ׁ</mark>בו ויבזו <mark>ו</mark>את כל אש<mark>ׁ</mark>ר בבית </p>"
      ],
      "text/plain": [
       "<IPython.core.display.Markdown object>"
      ]
     },
     "metadata": {},
     "output_type": "display_data"
    },
    {
     "data": {
      "text/markdown": [
       "<h4>Genesis 34:30</h4><p><b>SP:</b> ויאמר יעקב אל ש<mark></mark>מעון ואל לוי עכרתם אתי להבא<mark></mark>ש<mark></mark>ני בי<mark>ו</mark>ש<mark></mark>ב הארץ בכנעני ובפרזי ואני מתי מספר ונאספו עלי והכוני ונש<mark></mark>מדתי אני וביתי <br><b>MT:</b> ויאמר יעקב אל ש<mark>ׁ</mark>מעון ואל לוי עכרתם אתי להבא<mark>י</mark>ש<mark>ׁ</mark>ני בי<mark></mark>ש<mark>ׁ</mark>ב הארץ בכנעני ובפרזי ואני מתי מספר ונאספו עלי והכוני ונש<mark>ׁ</mark>מדתי אני וביתי </p>"
      ],
      "text/plain": [
       "<IPython.core.display.Markdown object>"
      ]
     },
     "metadata": {},
     "output_type": "display_data"
    },
    {
     "data": {
      "text/markdown": [
       "<h4>Genesis 34:31</h4><p><b>SP:</b> ויאמרו ה<mark>ך </mark>זונה יעש<mark>ו</mark> את אחותנו <br><b>MT:</b> ויאמרו ה<mark>כ</mark>זונה יעש<mark>ׂה</mark> את אחותנו </p>"
      ],
      "text/plain": [
       "<IPython.core.display.Markdown object>"
      ]
     },
     "metadata": {},
     "output_type": "display_data"
    },
    {
     "data": {
      "text/markdown": [
       "<h4>Genesis 35:2</h4><p><b>SP:</b> ויאמר יעקב אל ביתו ואל כל אש<mark></mark>ר עמו הס<mark>י</mark>רו את אלהי הנכר אש<mark></mark>ר בת<mark>ו</mark>ככם והטהרו והחליפו ש<mark></mark>מלתיכם <br><b>MT:</b> ויאמר יעקב אל ביתו ואל כל אש<mark>ׁ</mark>ר עמו הס<mark></mark>רו את אלהי הנכר אש<mark>ׁ</mark>ר בת<mark></mark>ככם והטהרו והחליפו ש<mark>ׂ</mark>מלתיכם </p>"
      ],
      "text/plain": [
       "<IPython.core.display.Markdown object>"
      ]
     },
     "metadata": {},
     "output_type": "display_data"
    },
    {
     "data": {
      "text/markdown": [
       "<h4>Genesis 35:4</h4><p><b>SP:</b> ויתנו אל יעקב את כל אלהי הנכר אש<mark></mark>ר בידם ואת הנזמים אש<mark></mark>ר באזניהם ויטמן אתם יעקב תחת הא<mark>י</mark>לה אש<mark></mark>ר עם ש<mark></mark>כם <br><b>MT:</b> ויתנו אל יעקב את כל אלהי הנכר אש<mark>ׁ</mark>ר בידם ואת הנזמים אש<mark>ׁ</mark>ר באזניהם ויטמן אתם יעקב תחת הא<mark></mark>לה אש<mark>ׁ</mark>ר עם ש<mark>ׁ</mark>כם </p>"
      ],
      "text/plain": [
       "<IPython.core.display.Markdown object>"
      ]
     },
     "metadata": {},
     "output_type": "display_data"
    },
    {
     "data": {
      "text/markdown": [
       "<h4>Genesis 35:5</h4><p><b>SP:</b> ויסעו ויהי<mark></mark> חתת אלהים על הערים אש<mark></mark>ר סביבתיהם ולא רדפו אחרי בני יעקב <br><b>MT:</b> ויסעו ויהי<mark>׀</mark> חתת אלהים על הערים אש<mark>ׁ</mark>ר סביבתיהם ולא רדפו אחרי בני יעקב </p>"
      ],
      "text/plain": [
       "<IPython.core.display.Markdown object>"
      ]
     },
     "metadata": {},
     "output_type": "display_data"
    },
    {
     "data": {
      "text/markdown": [
       "<h4>Genesis 35:6</h4><p><b>SP:</b> ויבא יעקב לוזה אש<mark></mark>ר בארץ כנען הוא בית אל הוא וכל העם אש<mark></mark>ר עמו <br><b>MT:</b> ויבא יעקב לוזה אש<mark>ׁ</mark>ר בארץ כנען הוא בית אל הוא וכל העם אש<mark>ׁ</mark>ר עמו </p>"
      ],
      "text/plain": [
       "<IPython.core.display.Markdown object>"
      ]
     },
     "metadata": {},
     "output_type": "display_data"
    },
    {
     "data": {
      "text/markdown": [
       "<h4>Genesis 35:7</h4><p><b>SP:</b> ויבן ש<mark></mark>ם מזבח ויקרא למקום אל בית אל כי ש<mark></mark>ם נגל<mark>ה</mark> אליו האלהים בברחו מפני אחיו <br><b>MT:</b> ויבן ש<mark>ׁ</mark>ם מזבח ויקרא למקום אל בית אל כי ש<mark>ׁ</mark>ם נגל<mark>ו</mark> אליו האלהים בברחו מפני אחיו </p>"
      ],
      "text/plain": [
       "<IPython.core.display.Markdown object>"
      ]
     },
     "metadata": {},
     "output_type": "display_data"
    },
    {
     "data": {
      "text/markdown": [
       "<h4>Genesis 35:8</h4><p><b>SP:</b> ותמת דב<mark>ו</mark>רה מינקת רבקה ותקבר מתחת לבית אל תחת האלון ויקרא ש<mark></mark>מו אלון בכ<mark>י</mark>ת <br><b>MT:</b> ותמת דב<mark></mark>רה מינקת רבקה ותקבר מתחת לבית אל תחת האלון ויקרא ש<mark>ׁ</mark>מו אלון בכ<mark>ו</mark>ת </p>"
      ],
      "text/plain": [
       "<IPython.core.display.Markdown object>"
      ]
     },
     "metadata": {},
     "output_type": "display_data"
    },
    {
     "data": {
      "text/markdown": [
       "<h4>Genesis 35:9</h4><p><b>SP:</b> וירא אלהים אל יעקב עוד בבאו מפדן ארם ויברך אתו <mark>אלהים </mark><br><b>MT:</b> וירא אלהים אל יעקב עוד בבאו מפדן ארם ויברך אתו <mark></mark></p>"
      ],
      "text/plain": [
       "<IPython.core.display.Markdown object>"
      ]
     },
     "metadata": {},
     "output_type": "display_data"
    },
    {
     "data": {
      "text/markdown": [
       "<h4>Genesis 35:10</h4><p><b>SP:</b> ויאמר לו אלהים ש<mark></mark>מך יעקב לא יקרא <mark></mark>עוד<mark> שמך</mark> יעקב כי אם יש<mark></mark>ראל יהיה ש<mark></mark>מך ויקרא את ש<mark></mark>מו יש<mark></mark>ראל <br><b>MT:</b> ויאמר לו אלהים ש<mark>ׁ</mark>מך יעקב לא יקרא <mark>שׁמך </mark>עוד<mark></mark> יעקב כי אם יש<mark>ׂ</mark>ראל יהיה ש<mark>ׁ</mark>מך ויקרא את ש<mark>ׁ</mark>מו יש<mark>ׂ</mark>ראל </p>"
      ],
      "text/plain": [
       "<IPython.core.display.Markdown object>"
      ]
     },
     "metadata": {},
     "output_type": "display_data"
    },
    {
     "data": {
      "text/markdown": [
       "<h4>Genesis 35:15</h4><p><b>SP:</b> ויקרא יעקב את ש<mark></mark>ם המקום אש<mark></mark>ר דבר אתו ש<mark></mark>ם אלהים בית אל <br><b>MT:</b> ויקרא יעקב את ש<mark>ׁ</mark>ם המקום אש<mark>ׁ</mark>ר דבר אתו ש<mark>ׁ</mark>ם אלהים בית אל </p>"
      ],
      "text/plain": [
       "<IPython.core.display.Markdown object>"
      ]
     },
     "metadata": {},
     "output_type": "display_data"
    },
    {
     "data": {
      "text/markdown": [
       "<h4>Genesis 35:16</h4><p><b>SP:</b> ויסעו מבית אל ויהי עוד כברת הארץ לבוא אפרתה ותלד רחל ותקש<mark></mark> בלדתה <br><b>MT:</b> ויסעו מבית אל ויהי עוד כברת הארץ לבוא אפרתה ותלד רחל ותקש<mark>ׁ</mark> בלדתה </p>"
      ],
      "text/plain": [
       "<IPython.core.display.Markdown object>"
      ]
     },
     "metadata": {},
     "output_type": "display_data"
    },
    {
     "data": {
      "text/markdown": [
       "<h4>Genesis 35:17</h4><p><b>SP:</b> ויהי בהקש<mark>ו</mark>תה בלדתה ותאמר לה המילדת אל תיראי כי גם זה ל<mark>י</mark>ך בן <br><b>MT:</b> ויהי בהקש<mark>ׁ</mark>תה בלדתה ותאמר לה המילדת אל תיראי כי גם זה ל<mark></mark>ך בן </p>"
      ],
      "text/plain": [
       "<IPython.core.display.Markdown object>"
      ]
     },
     "metadata": {},
     "output_type": "display_data"
    },
    {
     "data": {
      "text/markdown": [
       "<h4>Genesis 35:18</h4><p><b>SP:</b> ויהי בצאת נפש<mark></mark>ה כי מתה ותקרא <mark>את </mark>ש<mark></mark>מו ב<mark>נ</mark> אוני ואביו קרא לו בנימי<mark>ם</mark> <br><b>MT:</b> ויהי בצאת נפש<mark>ׁ</mark>ה כי מתה ותקרא <mark></mark>ש<mark>ׁ</mark>מו ב<mark>ן</mark> אוני ואביו קרא לו בנימי<mark>ן</mark> </p>"
      ],
      "text/plain": [
       "<IPython.core.display.Markdown object>"
      ]
     },
     "metadata": {},
     "output_type": "display_data"
    },
    {
     "data": {
      "text/markdown": [
       "<h4>Genesis 35:19</h4><p><b>SP:</b> ותמת רחל ותקבר בדרך אפרתה ה<mark>י</mark>א בית לחם <br><b>MT:</b> ותמת רחל ותקבר בדרך אפרתה ה<mark>ו</mark>א בית לחם </p>"
      ],
      "text/plain": [
       "<IPython.core.display.Markdown object>"
      ]
     },
     "metadata": {},
     "output_type": "display_data"
    },
    {
     "data": {
      "text/markdown": [
       "<h4>Genesis 35:20</h4><p><b>SP:</b> ויצב יעקב מצבה על קברתה ה<mark>י</mark>א מצבת קברת רחל עד היום <br><b>MT:</b> ויצב יעקב מצבה על קברתה ה<mark>ו</mark>א מצבת קברת רחל עד היום </p>"
      ],
      "text/plain": [
       "<IPython.core.display.Markdown object>"
      ]
     },
     "metadata": {},
     "output_type": "display_data"
    },
    {
     "data": {
      "text/markdown": [
       "<h4>Genesis 35:21</h4><p><b>SP:</b> ויסע יש<mark></mark>ראל ויט אהל<mark>ו</mark> מהלאה למגדל עדר <br><b>MT:</b> ויסע יש<mark>ׂ</mark>ראל ויט אהל<mark>ה</mark> מהלאה למגדל עדר </p>"
      ],
      "text/plain": [
       "<IPython.core.display.Markdown object>"
      ]
     },
     "metadata": {},
     "output_type": "display_data"
    },
    {
     "data": {
      "text/markdown": [
       "<h4>Genesis 35:22</h4><p><b>SP:</b> ויהי בש<mark></mark>כן יש<mark></mark>ראל בארץ הה<mark>י</mark>א וילך ראובן ויש<mark></mark>כב את בלהה פילגש<mark></mark> אביו ויש<mark></mark>מע יש<mark></mark>ראל ויהיו בני יעקב ש<mark></mark>נים עש<mark></mark>ר <br><b>MT:</b> ויהי בש<mark>ׁ</mark>כן יש<mark>ׂ</mark>ראל בארץ הה<mark>ו</mark>א וילך ראובן ויש<mark>ׁ</mark>כב את בלהה פילגש<mark>ׁ</mark> אביו ויש<mark>ׁ</mark>מע יש<mark>ׂ</mark>ראל ויהיו בני יעקב ש<mark>ׁ</mark>נים עש<mark>ׂ</mark>ר </p>"
      ],
      "text/plain": [
       "<IPython.core.display.Markdown object>"
      ]
     },
     "metadata": {},
     "output_type": "display_data"
    },
    {
     "data": {
      "text/markdown": [
       "<h4>Genesis 35:24</h4><p><b>SP:</b> <mark>ו</mark>בני רחל יוסף ובנימ<mark>ים</mark> <br><b>MT:</b> <mark></mark>בני רחל יוסף ובנימ<mark>ן</mark> </p>"
      ],
      "text/plain": [
       "<IPython.core.display.Markdown object>"
      ]
     },
     "metadata": {},
     "output_type": "display_data"
    },
    {
     "data": {
      "text/markdown": [
       "<h4>Genesis 35:26</h4><p><b>SP:</b> ובני זלפה ש<mark></mark>פחת לאה גד ואש<mark></mark>ר אלה בני יעקב אש<mark></mark>ר ילד<mark>ו</mark> לו בפדן ארם <br><b>MT:</b> ובני זלפה ש<mark>ׁ</mark>פחת לאה גד ואש<mark>ׁ</mark>ר אלה בני יעקב אש<mark>ׁ</mark>ר ילד<mark></mark> לו בפדן ארם </p>"
      ],
      "text/plain": [
       "<IPython.core.display.Markdown object>"
      ]
     },
     "metadata": {},
     "output_type": "display_data"
    },
    {
     "data": {
      "text/markdown": [
       "<h4>Genesis 35:27</h4><p><b>SP:</b> ויבא יעקב אל יצחק אביו ממרא קרית הארבע ה<mark>י</mark>א חברון אש<mark></mark>ר גר ש<mark></mark>ם אברהם ויצחק <br><b>MT:</b> ויבא יעקב אל יצחק אביו ממרא קרית הארבע ה<mark>ו</mark>א חברון אש<mark>ׁ</mark>ר גר ש<mark>ׁ</mark>ם אברהם ויצחק </p>"
      ],
      "text/plain": [
       "<IPython.core.display.Markdown object>"
      ]
     },
     "metadata": {},
     "output_type": "display_data"
    },
    {
     "data": {
      "text/markdown": [
       "<h4>Genesis 35:28</h4><p><b>SP:</b> ויהיו ימי יצחק מאת ש<mark></mark>נה וש<mark></mark>מנים ש<mark></mark>נה <br><b>MT:</b> ויהיו ימי יצחק מאת ש<mark>ׁ</mark>נה וש<mark>ׁ</mark>מנים ש<mark>ׁ</mark>נה </p>"
      ],
      "text/plain": [
       "<IPython.core.display.Markdown object>"
      ]
     },
     "metadata": {},
     "output_type": "display_data"
    },
    {
     "data": {
      "text/markdown": [
       "<h4>Genesis 35:29</h4><p><b>SP:</b> ויגוע יצחק וימת ויאסף אל עמ<mark></mark>ו זקן וש<mark></mark>בע ימים ויקברו אתו עש<mark></mark>ו ויעקב בניו <br><b>MT:</b> ויגוע יצחק וימת ויאסף אל עמ<mark>י</mark>ו זקן וש<mark>ׂ</mark>בע ימים ויקברו אתו עש<mark>ׂ</mark>ו ויעקב בניו </p>"
      ],
      "text/plain": [
       "<IPython.core.display.Markdown object>"
      ]
     },
     "metadata": {},
     "output_type": "display_data"
    },
    {
     "data": {
      "text/markdown": [
       "<h4>Genesis 36:1</h4><p><b>SP:</b> ואלה ת<mark>ו</mark>לד<mark></mark>ת עש<mark></mark>ו הוא אדום <br><b>MT:</b> ואלה ת<mark></mark>לד<mark>ו</mark>ת עש<mark>ׂ</mark>ו הוא אדום </p>"
      ],
      "text/plain": [
       "<IPython.core.display.Markdown object>"
      ]
     },
     "metadata": {},
     "output_type": "display_data"
    },
    {
     "data": {
      "text/markdown": [
       "<h4>Genesis 36:2</h4><p><b>SP:</b> עש<mark></mark>ו לקח את נש<mark></mark>יו מבנות כנען את עדה בת אילון החתי ואת אהליבמה בת ענה ב<mark>ן</mark> צבעון החוי <br><b>MT:</b> עש<mark>ׂ</mark>ו לקח את נש<mark>ׁ</mark>יו מבנות כנען את עדה בת אילון החתי ואת אהליבמה בת ענה ב<mark>ת</mark> צבעון החוי </p>"
      ],
      "text/plain": [
       "<IPython.core.display.Markdown object>"
      ]
     },
     "metadata": {},
     "output_type": "display_data"
    },
    {
     "data": {
      "text/markdown": [
       "<h4>Genesis 36:3</h4><p><b>SP:</b> ואת <mark></mark>מ<mark>חל</mark>ת בת יש<mark></mark>מעאל אחות נב<mark>א</mark>ות <br><b>MT:</b> ואת <mark>בשׂ</mark>מ<mark></mark>ת בת יש<mark>ׁ</mark>מעאל אחות נב<mark>י</mark>ות </p>"
      ],
      "text/plain": [
       "<IPython.core.display.Markdown object>"
      ]
     },
     "metadata": {},
     "output_type": "display_data"
    },
    {
     "data": {
      "text/markdown": [
       "<h4>Genesis 36:4</h4><p><b>SP:</b> ותלד עדה לעש<mark></mark>ו את אליפז ו<mark></mark>מ<mark>חל</mark>ת ילדה את רעואל <br><b>MT:</b> ותלד עדה לעש<mark>ׂ</mark>ו את אליפז ו<mark>בשׂ</mark>מ<mark></mark>ת ילדה את רעואל </p>"
      ],
      "text/plain": [
       "<IPython.core.display.Markdown object>"
      ]
     },
     "metadata": {},
     "output_type": "display_data"
    },
    {
     "data": {
      "text/markdown": [
       "<h4>Genesis 36:5</h4><p><b>SP:</b> ואהליבמה ילדה את יע<mark>ו</mark>ש<mark></mark> ואת יעלם ואת קרח אלה בני עש<mark></mark>ו אש<mark></mark>ר ילדו לו בארץ כנען <br><b>MT:</b> ואהליבמה ילדה את יע<mark>י</mark>ש<mark>ׁ</mark> ואת יעלם ואת קרח אלה בני עש<mark>ׂ</mark>ו אש<mark>ׁ</mark>ר ילדו לו בארץ כנען </p>"
      ],
      "text/plain": [
       "<IPython.core.display.Markdown object>"
      ]
     },
     "metadata": {},
     "output_type": "display_data"
    },
    {
     "data": {
      "text/markdown": [
       "<h4>Genesis 36:6</h4><p><b>SP:</b> ויקח עש<mark></mark>ו את נש<mark></mark>יו ואת בניו ואת בנתיו ואת כל נפש<mark></mark>ות ביתו ואת מקנהו ואת כל בהמתו ואת כל קנינו אש<mark></mark>ר רכש<mark></mark> בארץ כנען וילך <mark>מ</mark>ארץ<mark> כנען</mark> מפני יעקב אחיו <br><b>MT:</b> ויקח עש<mark>ׂ</mark>ו את נש<mark>ׁ</mark>יו ואת בניו ואת בנתיו ואת כל נפש<mark>ׁ</mark>ות ביתו ואת מקנהו ואת כל בהמתו ואת כל קנינו אש<mark>ׁ</mark>ר רכש<mark>ׁ</mark> בארץ כנען וילך <mark>אל </mark>ארץ<mark></mark> מפני יעקב אחיו </p>"
      ],
      "text/plain": [
       "<IPython.core.display.Markdown object>"
      ]
     },
     "metadata": {},
     "output_type": "display_data"
    },
    {
     "data": {
      "text/markdown": [
       "<h4>Genesis 36:7</h4><p><b>SP:</b> כי היה רכוש<mark></mark>ם רב מש<mark></mark>בת יחדו ולא יכלה ארץ מג<mark></mark>ריהם לש<mark></mark>את אתם מפני מקניהם <br><b>MT:</b> כי היה רכוש<mark>ׁ</mark>ם רב מש<mark>ׁ</mark>בת יחדו ולא יכלה ארץ מג<mark>ו</mark>ריהם לש<mark>ׂ</mark>את אתם מפני מקניהם </p>"
      ],
      "text/plain": [
       "<IPython.core.display.Markdown object>"
      ]
     },
     "metadata": {},
     "output_type": "display_data"
    },
    {
     "data": {
      "text/markdown": [
       "<h4>Genesis 36:9</h4><p><b>SP:</b> ואלה ת<mark>ו</mark>לד<mark></mark>ת עש<mark></mark>ו אבי אדום בהר ש<mark></mark>עיר <br><b>MT:</b> ואלה ת<mark></mark>לד<mark>ו</mark>ת עש<mark>ׂ</mark>ו אבי אדום בהר ש<mark>ׂ</mark>עיר </p>"
      ],
      "text/plain": [
       "<IPython.core.display.Markdown object>"
      ]
     },
     "metadata": {},
     "output_type": "display_data"
    },
    {
     "data": {
      "text/markdown": [
       "<h4>Genesis 36:10</h4><p><b>SP:</b> <mark>ו</mark>אלה ש<mark></mark>מות בני עש<mark></mark>ו אליפז בן עדה אש<mark></mark>ת עש<mark></mark>ו רעואל בן <mark></mark>מ<mark>חל</mark>ת אש<mark></mark>ת עש<mark></mark>ו <br><b>MT:</b> <mark></mark>אלה ש<mark>ׁ</mark>מות בני עש<mark>ׂ</mark>ו אליפז בן עדה אש<mark>ׁ</mark>ת עש<mark>ׂ</mark>ו רעואל בן <mark>בשׂ</mark>מ<mark></mark>ת אש<mark>ׁ</mark>ת עש<mark>ׂ</mark>ו </p>"
      ],
      "text/plain": [
       "<IPython.core.display.Markdown object>"
      ]
     },
     "metadata": {},
     "output_type": "display_data"
    },
    {
     "data": {
      "text/markdown": [
       "<h4>Genesis 36:11</h4><p><b>SP:</b> ויהיו בני אליפז תימן <mark>ו</mark>א<mark></mark>מר <mark>ו</mark>צפו וגעתם וקנז <br><b>MT:</b> ויהיו בני אליפז תימן <mark>א</mark>ו<mark></mark>מר <mark></mark>צפו וגעתם וקנז </p>"
      ],
      "text/plain": [
       "<IPython.core.display.Markdown object>"
      ]
     },
     "metadata": {},
     "output_type": "display_data"
    },
    {
     "data": {
      "text/markdown": [
       "<h4>Genesis 36:12</h4><p><b>SP:</b> ותמנע<mark></mark> היתה פילגש<mark></mark> לאליפז בן עש<mark></mark>ו ותלד לאליפז את עמלק אלה בני עדה אש<mark></mark>ת עש<mark></mark>ו <br><b>MT:</b> ותמנע<mark>׀</mark> היתה פילגש<mark>ׁ</mark> לאליפז בן עש<mark>ׂ</mark>ו ותלד לאליפז את עמלק אלה בני עדה אש<mark>ׁ</mark>ת עש<mark>ׂ</mark>ו </p>"
      ],
      "text/plain": [
       "<IPython.core.display.Markdown object>"
      ]
     },
     "metadata": {},
     "output_type": "display_data"
    },
    {
     "data": {
      "text/markdown": [
       "<h4>Genesis 36:13</h4><p><b>SP:</b> ואלה בני רעואל נחת וזרח ש<mark></mark>מ<mark>ח</mark> ומזה אלה היו בני <mark></mark>מ<mark>חל</mark>ת אש<mark></mark>ת עש<mark></mark>ו <br><b>MT:</b> ואלה בני רעואל נחת וזרח ש<mark>ׁ</mark>מ<mark>ה</mark> ומזה אלה היו בני <mark>בשׂ</mark>מ<mark></mark>ת אש<mark>ׁ</mark>ת עש<mark>ׂ</mark>ו </p>"
      ],
      "text/plain": [
       "<IPython.core.display.Markdown object>"
      ]
     },
     "metadata": {},
     "output_type": "display_data"
    },
    {
     "data": {
      "text/markdown": [
       "<h4>Genesis 36:14</h4><p><b>SP:</b> ואלה היו בני אהליבמה בת ענה ב<mark>ן</mark> צבעון אש<mark></mark>ת עש<mark></mark>ו ותלד לעש<mark></mark>ו את יע<mark>ו</mark>ש<mark></mark> ואת יעלם ואת קרח <br><b>MT:</b> ואלה היו בני אהליבמה בת ענה ב<mark>ת</mark> צבעון אש<mark>ׁ</mark>ת עש<mark>ׂ</mark>ו ותלד לעש<mark>ׂ</mark>ו את יע<mark>י</mark>ש<mark>ׁ</mark> ואת יעלם ואת קרח </p>"
      ],
      "text/plain": [
       "<IPython.core.display.Markdown object>"
      ]
     },
     "metadata": {},
     "output_type": "display_data"
    },
    {
     "data": {
      "text/markdown": [
       "<h4>Genesis 36:15</h4><p><b>SP:</b> אלה אלופי בני עש<mark></mark>ו בני אליפז בכור עש<mark></mark>ו אלוף תימן אלוף א<mark></mark>מר אלוף צפו אלוף קנז <br><b>MT:</b> אלה אלופי בני עש<mark>ׂ</mark>ו בני אליפז בכור עש<mark>ׂ</mark>ו אלוף תימן אלוף א<mark>ו</mark>מר אלוף צפו אלוף קנז </p>"
      ],
      "text/plain": [
       "<IPython.core.display.Markdown object>"
      ]
     },
     "metadata": {},
     "output_type": "display_data"
    },
    {
     "data": {
      "text/markdown": [
       "<h4>Genesis 36:16</h4><p><b>SP:</b> <mark></mark>אלוף געתם אלוף עמלק אלה אלופי אליפז בארץ אדום אלה בני עדה <br><b>MT:</b> <mark>אלוף קרח </mark>אלוף געתם אלוף עמלק אלה אלופי אליפז בארץ אדום אלה בני עדה </p>"
      ],
      "text/plain": [
       "<IPython.core.display.Markdown object>"
      ]
     },
     "metadata": {},
     "output_type": "display_data"
    },
    {
     "data": {
      "text/markdown": [
       "<h4>Genesis 36:17</h4><p><b>SP:</b> ואלה בני רעואל בן עש<mark></mark>ו אלוף נחת אלוף זרח אלוף ש<mark></mark>מ<mark>ח</mark> אלוף מזה אלה אלופי רעואל בארץ אדום אלה בני <mark></mark>מ<mark>חל</mark>ת אש<mark></mark>ת עש<mark></mark>ו <br><b>MT:</b> ואלה בני רעואל בן עש<mark>ׂ</mark>ו אלוף נחת אלוף זרח אלוף ש<mark>ׁ</mark>מ<mark>ה</mark> אלוף מזה אלה אלופי רעואל בארץ אדום אלה בני <mark>בשׂ</mark>מ<mark></mark>ת אש<mark>ׁ</mark>ת עש<mark>ׂ</mark>ו </p>"
      ],
      "text/plain": [
       "<IPython.core.display.Markdown object>"
      ]
     },
     "metadata": {},
     "output_type": "display_data"
    },
    {
     "data": {
      "text/markdown": [
       "<h4>Genesis 36:19</h4><p><b>SP:</b> אלה בני עש<mark></mark>ו ואלה אלופיהם <mark>עשו </mark>הוא אדום <br><b>MT:</b> אלה בני עש<mark>ׂ</mark>ו ואלה אלופיהם <mark></mark>הוא אדום </p>"
      ],
      "text/plain": [
       "<IPython.core.display.Markdown object>"
      ]
     },
     "metadata": {},
     "output_type": "display_data"
    },
    {
     "data": {
      "text/markdown": [
       "<h4>Genesis 36:20</h4><p><b>SP:</b> <mark>ו</mark>אלה בני ש<mark></mark>עיר החרי יש<mark></mark>בי הארץ לוטן וש<mark></mark>ובל וצבעון וענה <br><b>MT:</b> <mark></mark>אלה בני ש<mark>ׂ</mark>עיר החרי יש<mark>ׁ</mark>בי הארץ לוטן וש<mark>ׁ</mark>ובל וצבעון וענה </p>"
      ],
      "text/plain": [
       "<IPython.core.display.Markdown object>"
      ]
     },
     "metadata": {},
     "output_type": "display_data"
    },
    {
     "data": {
      "text/markdown": [
       "<h4>Genesis 36:21</h4><p><b>SP:</b> וד<mark>י</mark>ש<mark></mark>ון ואצר ודיש<mark></mark>ן אלה אלופי החרי בני ש<mark></mark>עיר בארץ אדום <br><b>MT:</b> וד<mark></mark>ש<mark>ׁ</mark>ון ואצר ודיש<mark>ׁ</mark>ן אלה אלופי החרי בני ש<mark>ׂ</mark>עיר בארץ אדום </p>"
      ],
      "text/plain": [
       "<IPython.core.display.Markdown object>"
      ]
     },
     "metadata": {},
     "output_type": "display_data"
    },
    {
     "data": {
      "text/markdown": [
       "<h4>Genesis 36:22</h4><p><b>SP:</b> ויהיו בני לוטן חרי ו<mark>א</mark>ימם ואחות לוטן תמנע <br><b>MT:</b> ויהיו בני לוטן חרי ו<mark>ה</mark>ימם ואחות לוטן תמנע </p>"
      ],
      "text/plain": [
       "<IPython.core.display.Markdown object>"
      ]
     },
     "metadata": {},
     "output_type": "display_data"
    },
    {
     "data": {
      "text/markdown": [
       "<h4>Genesis 36:24</h4><p><b>SP:</b> ואלה בני צבעון <mark></mark>איה וענה הוא ענה אש<mark></mark>ר מצא את ה<mark>א</mark>ימ<mark>י</mark>ם במדבר ברעתו את החמרים לצבעון אביו <br><b>MT:</b> ואלה בני צבעון <mark>ו</mark>איה וענה הוא ענה אש<mark>ׁ</mark>ר מצא את ה<mark></mark>ימ<mark></mark>ם במדבר ברעתו את החמרים לצבעון אביו </p>"
      ],
      "text/plain": [
       "<IPython.core.display.Markdown object>"
      ]
     },
     "metadata": {},
     "output_type": "display_data"
    },
    {
     "data": {
      "text/markdown": [
       "<h4>Genesis 36:25</h4><p><b>SP:</b> ואלה בני ענה ד<mark>י</mark>ש<mark>ו</mark>ן ואהליבמה בת ענה <br><b>MT:</b> ואלה בני ענה ד<mark></mark>ש<mark>ׁ</mark>ן ואהליבמה בת ענה </p>"
      ],
      "text/plain": [
       "<IPython.core.display.Markdown object>"
      ]
     },
     "metadata": {},
     "output_type": "display_data"
    },
    {
     "data": {
      "text/markdown": [
       "<h4>Genesis 36:26</h4><p><b>SP:</b> ואלה בני דיש<mark>ו</mark>ן חמדן ואש<mark></mark>בן <mark></mark>יתרן וכרן <br><b>MT:</b> ואלה בני דיש<mark>ׁ</mark>ן חמדן ואש<mark>ׁ</mark>בן <mark>ו</mark>יתרן וכרן </p>"
      ],
      "text/plain": [
       "<IPython.core.display.Markdown object>"
      ]
     },
     "metadata": {},
     "output_type": "display_data"
    },
    {
     "data": {
      "text/markdown": [
       "<h4>Genesis 36:27</h4><p><b>SP:</b> <mark>ו</mark>אלה בני אצר בלהן וז<mark>ו</mark>ע<mark></mark>ן ועקן <br><b>MT:</b> <mark></mark>אלה בני אצר בלהן וז<mark>ע</mark>ו<mark></mark>ן ועקן </p>"
      ],
      "text/plain": [
       "<IPython.core.display.Markdown object>"
      ]
     },
     "metadata": {},
     "output_type": "display_data"
    },
    {
     "data": {
      "text/markdown": [
       "<h4>Genesis 36:28</h4><p><b>SP:</b> <mark>ו</mark>אלה בני דיש<mark></mark>ן עוץ וא<mark>ד</mark>ן <br><b>MT:</b> <mark></mark>אלה בני דיש<mark>ׁ</mark>ן עוץ וא<mark>ר</mark>ן </p>"
      ],
      "text/plain": [
       "<IPython.core.display.Markdown object>"
      ]
     },
     "metadata": {},
     "output_type": "display_data"
    },
    {
     "data": {
      "text/markdown": [
       "<h4>Genesis 36:30</h4><p><b>SP:</b> אלוף ד<mark>י</mark>ש<mark>ו</mark>ן אלוף אצר אלוף דיש<mark></mark>ן אלה אלופי החרי לאל<mark>ו</mark>פיהם בארץ ש<mark></mark>עיר <br><b>MT:</b> אלוף ד<mark></mark>ש<mark>ׁ</mark>ן אלוף אצר אלוף דיש<mark>ׁ</mark>ן אלה אלופי החרי לאל<mark></mark>פיהם בארץ ש<mark>ׂ</mark>עיר </p>"
      ],
      "text/plain": [
       "<IPython.core.display.Markdown object>"
      ]
     },
     "metadata": {},
     "output_type": "display_data"
    },
    {
     "data": {
      "text/markdown": [
       "<h4>Genesis 36:35</h4><p><b>SP:</b> וימת חש<mark></mark>ם וימלך תחתיו הדד בן בדד המכה את <mark>ה</mark>מדי<mark>ני</mark> בש<mark></mark>דה מואב וש<mark></mark>ם עירו עוית <br><b>MT:</b> וימת חש<mark>ׁ</mark>ם וימלך תחתיו הדד בן בדד המכה את <mark></mark>מדי<mark>ן</mark> בש<mark>ׂ</mark>דה מואב וש<mark>ׁ</mark>ם עירו עוית </p>"
      ],
      "text/plain": [
       "<IPython.core.display.Markdown object>"
      ]
     },
     "metadata": {},
     "output_type": "display_data"
    },
    {
     "data": {
      "text/markdown": [
       "<h4>Genesis 36:39</h4><p><b>SP:</b> וימת בעל חנן<mark></mark> וימלך תחתיו הד<mark>ד</mark> וש<mark></mark>ם עירו פעו וש<mark></mark>ם אש<mark></mark>תו מה<mark></mark>טבאל בת מטרד בת מי זהב <br><b>MT:</b> וימת בעל חנן<mark> בן עכבור</mark> וימלך תחתיו הד<mark>ר</mark> וש<mark>ׁ</mark>ם עירו פעו וש<mark>ׁ</mark>ם אש<mark>ׁ</mark>תו מה<mark>י</mark>טבאל בת מטרד בת מי זהב </p>"
      ],
      "text/plain": [
       "<IPython.core.display.Markdown object>"
      ]
     },
     "metadata": {},
     "output_type": "display_data"
    },
    {
     "data": {
      "text/markdown": [
       "<h4>Genesis 36:40</h4><p><b>SP:</b> ואלה ש<mark></mark>מות אלופי עש<mark></mark>ו למש<mark></mark>פח<mark>ו</mark>תם למק<mark>ו</mark>מ<mark>ו</mark>תם בש<mark></mark>מ<mark>ו</mark>תם אלוף תמנע אלוף עלוה אלוף יתת <br><b>MT:</b> ואלה ש<mark>ׁ</mark>מות אלופי עש<mark>ׂ</mark>ו למש<mark>ׁ</mark>פח<mark></mark>תם למק<mark></mark>מ<mark></mark>תם בש<mark>ׁ</mark>מ<mark></mark>תם אלוף תמנע אלוף עלוה אלוף יתת </p>"
      ],
      "text/plain": [
       "<IPython.core.display.Markdown object>"
      ]
     },
     "metadata": {},
     "output_type": "display_data"
    },
    {
     "data": {
      "text/markdown": [
       "<h4>Genesis 36:43</h4><p><b>SP:</b> אלוף מגד<mark></mark>אל אלוף עירם אלה<mark></mark> אלופי אדום למש<mark>פחו</mark>תם בארץ אחזתם הוא עש<mark></mark>ו אבי אדום <br><b>MT:</b> אלוף מגד<mark>י</mark>אל אלוף עירם אלה<mark>׀</mark> אלופי אדום למש<mark>ׁב</mark>תם בארץ אחזתם הוא עש<mark>ׂ</mark>ו אבי אדום </p>"
      ],
      "text/plain": [
       "<IPython.core.display.Markdown object>"
      ]
     },
     "metadata": {},
     "output_type": "display_data"
    }
   ],
   "source": [
    "from difflib import SequenceMatcher\n",
    "\n",
    "def highlightMatches(baseText, comparisonText):\n",
    "    matcher = SequenceMatcher(None, baseText, comparisonText)\n",
    "    highlightedComparisonText = \"\" \n",
    "    for tag, i1, i2, j1, j2 in matcher.get_opcodes():\n",
    "        if tag == \"equal\":  # Identical parts\n",
    "            highlightedComparisonText += comparisonText[j1:j2]\n",
    "        else:  # Non-matching parts\n",
    "            highlightedComparisonText += f'<mark>{comparisonText[j1:j2]}</mark>'  \n",
    "    return highlightedComparisonText\n",
    "\n",
    "def cleanText(text):\n",
    "    replacements = [\n",
    "         # for the transcoded strings\n",
    "         ('00_P', ''),  # Remove '00_P'\n",
    "         ('00_S', ''),  # Remove '00_S'\n",
    "         ('00', ''),    # Remove '00'\n",
    "         ('&', ' '),    # Replace '&' with a space\n",
    "         # for the Hebrew strings\n",
    "         ('ס ', ''),    # Final Samekh\n",
    "         ('פ ', ''),    # Final Pe\n",
    "         ('׃', ''),     # End of verse\n",
    "         ('־',' ')      # maqaf\n",
    "    ]\n",
    "    # Apply each replacement\n",
    "    for old, new in replacements:\n",
    "        text = text.replace(old, new)\n",
    "    return text\n",
    "\n",
    "# Function to format and highlight verse differences between MT and SP\n",
    "def formatAndHighlight(label, MTverseText, SPverseText):\n",
    "    book, chapter, verse = label\n",
    "    MTverseNode = Tmt.nodeFromSection(label)\n",
    "    MTtext = cleanText(Tmt.text(MTverseNode, \"text-orig-plain\"))\n",
    "    SPverseNode = Tsp.nodeFromSection(label)\n",
    "    SPtext = Tsp.text(SPverseNode)\n",
    "    SPmarkedText = highlightMatches(MTtext, SPtext)\n",
    "    MTmarkedText = highlightMatches(SPtext, MTtext)\n",
    "    formattedDiff = (\n",
    "        f'<h4>{book} {chapter}:{verse}</h4>'\n",
    "        f'<p><b>SP:</b> {SPmarkedText}<br><b>MT:</b> {MTmarkedText}</p>'\n",
    "    )\n",
    "    return formattedDiff\n",
    "\n",
    "# Create header\n",
    "MT.dm(f'### Differences between MT and SP for parasha {parashaNameEnglish} ({parashaStart}-{parashaEnd})')\n",
    "\n",
    "# Highlight and display differences for SP and MT verses\n",
    "for label, MTverseText in MTverses.items():\n",
    "    SPverseText = SPverses.get(label, '')\n",
    "    MTverseText=cleanText(MTverseText)\n",
    "    if MTverseText != SPverseText:  # Check for differences\n",
    "        difference = formatAndHighlight(label, MTverseText, SPverseText)\n",
    "        MT.dm(difference)"
   ]
  },
  {
   "cell_type": "markdown",
   "id": "da916301",
   "metadata": {},
   "source": [
    "# 4 - Compare texts using minimum Levenshtein distance<a class=\"anchor\" id=\"bullet4\"></a>\n",
    "##### [Back to ToC](#TOC)"
   ]
  },
  {
   "cell_type": "markdown",
   "id": "f516dc36-754b-4b37-b2d7-7f07b18310ac",
   "metadata": {},
   "source": [
    "The Levenshtein distance measures the minimum number of single-character edits (insertions, deletions, or substitutions) needed to transform one text into another, providing a quantitative way to compare textual differences. For comparing the Masoretic Text and Samaritan Pentateuch, it highlights variations in spelling, word order, or minor textual changes. \n",
    "In the context of the Levenshtein distance (in the script below `threshold`), a higher number indicates greater dissimilarity between two texts, meaning more edits (insertions, deletions, or substitutions) are needed to transform one text into the other."
   ]
  },
  {
   "cell_type": "code",
   "execution_count": 6,
   "id": "659bfe18",
   "metadata": {},
   "outputs": [
    {
     "data": {
      "text/markdown": [
       "### Levenshtein distance 20 between MT and SP for parasha Vayishlach (Genesis 32:4-36:43)"
      ],
      "text/plain": [
       "<IPython.core.display.Markdown object>"
      ]
     },
     "metadata": {},
     "output_type": "display_data"
    }
   ],
   "source": [
    "# Compare verses based on Levenshtein distance\n",
    "from Levenshtein import distance\n",
    "threshold = 20\n",
    "\n",
    "# Create header\n",
    "MT.dm(f'### Levenshtein distance {threshold} between MT and SP for parasha {parashaNameEnglish} ({parashaStart}-{parashaEnd})')\n",
    "\n",
    "for label, MTverseText in MTverses.items():\n",
    "    SPverseText = SPverses.get(label, '')\n",
    "    if distance(MTverseText, SPverseText) > threshold:\n",
    "        formattedDiff = formatAndHighlight(label, MTverseText, SPverseText)\n",
    "        MT.dm(formattedDiff)"
   ]
  },
  {
   "cell_type": "markdown",
   "id": "63886933",
   "metadata": {},
   "source": [
    "# 5 - Comparison of spelling of proper nouns between SP and MT<a class=\"anchor\" id=\"bullet5\"></a>\n",
    "##### [Back to ToC](#TOC)\n",
    "\n",
    "This section focuses on comparing the spelling of proper nouns between the Samaritan Pentateuch (SP) and the Masoretic Text (MT). Proper nouns, including names of people, places, and unique terms, often exhibit variations in spelling"
   ]
  },
  {
   "cell_type": "code",
   "execution_count": 7,
   "id": "a4011f7c",
   "metadata": {},
   "outputs": [],
   "source": [
    "import collections\n",
    "\n",
    "def collectProperNounSpellings(F, L, T, inputList):\n",
    "    \"\"\"\n",
    "    Collect proper noun spellings and their associated word node numbers.\n",
    "    Ensures only one tuple is stored for each lexeme-to-spelling mapping.\n",
    "    \"\"\"\n",
    "    properNounsSpellings = {}\n",
    "    for bookChapterVerse in inputList:\n",
    "        verseNode = T.nodeFromSection(bookChapterVerse)\n",
    "        wordNodes = L.d(verseNode, 'word')\n",
    "        for wordNode in wordNodes:\n",
    "            if F.sp.v(wordNode) == 'nmpr':  # Check if the word is a proper noun\n",
    "                lex = F.lex.v(wordNode)    # Lexical form\n",
    "                spelling = F.g_cons.v(wordNode)  # Spelling\n",
    "                # Store only the first occurrence for each lex-to-cons mapping\n",
    "                if lex not in properNounsSpellings or spelling not in {item[0] for item in properNounsSpellings[lex]}:\n",
    "                    properNounsSpellings.setdefault(lex, []).append((spelling, wordNode))\n",
    "    return properNounsSpellings\n",
    "        \n",
    "SPspellingDict = collectProperNounSpellings(Fsp, Lsp, Tsp, bookChapterVerseList) \n",
    "MTspellingDict = collectProperNounSpellings(Fmt, Lmt, Tmt, bookChapterVerseList)"
   ]
  },
  {
   "cell_type": "code",
   "execution_count": 8,
   "id": "cd6ce780-6acd-4744-9809-dcfa30a448f0",
   "metadata": {},
   "outputs": [
    {
     "data": {
      "text/markdown": [
       "### Spelling differences proper nouns in SP and MT for parasha Vayishlach (Genesis 32:4-36:43)"
      ],
      "text/plain": [
       "<IPython.core.display.Markdown object>"
      ]
     },
     "metadata": {},
     "output_type": "display_data"
    },
    {
     "data": {
      "text/markdown": [
       "#### Word: **Peniel** (Genesis 32:31)\n",
       "- **MT Spelling:** `פניאל`\n",
       "- **SP Spelling:** `פנואל`\n"
      ],
      "text/plain": [
       "<IPython.core.display.Markdown object>"
      ]
     },
     "metadata": {},
     "output_type": "display_data"
    },
    {
     "data": {
      "text/markdown": [
       "#### Word: **Succoth** (Genesis 33:17)\n",
       "- **MT Spelling:** `סכתה`\n",
       "- **SP Spelling:** `סכותה`\n"
      ],
      "text/plain": [
       "<IPython.core.display.Markdown object>"
      ]
     },
     "metadata": {},
     "output_type": "display_data"
    },
    {
     "data": {
      "text/markdown": [
       "#### Word: **Deborah** (Genesis 35:8)\n",
       "- **MT Spelling:** `דברה`\n",
       "- **SP Spelling:** `דבורה`\n"
      ],
      "text/plain": [
       "<IPython.core.display.Markdown object>"
      ]
     },
     "metadata": {},
     "output_type": "display_data"
    },
    {
     "data": {
      "text/markdown": [
       "#### Word: **Benjamin** (Genesis 35:18)\n",
       "- **MT Spelling:** `בנימין`\n",
       "- **SP Spelling:** `בנימים`\n"
      ],
      "text/plain": [
       "<IPython.core.display.Markdown object>"
      ]
     },
     "metadata": {},
     "output_type": "display_data"
    },
    {
     "data": {
      "text/markdown": [
       "#### Word: **Basemath** (Genesis 36:3)\n",
       "- **MT Spelling:** `בשׂמת`\n",
       "- **SP Spelling:** None\n"
      ],
      "text/plain": [
       "<IPython.core.display.Markdown object>"
      ]
     },
     "metadata": {},
     "output_type": "display_data"
    },
    {
     "data": {
      "text/markdown": [
       "#### Word: **Nebaioth** (Genesis 36:3)\n",
       "- **MT Spelling:** `נביות`\n",
       "- **SP Spelling:** `נבאות`\n"
      ],
      "text/plain": [
       "<IPython.core.display.Markdown object>"
      ]
     },
     "metadata": {},
     "output_type": "display_data"
    },
    {
     "data": {
      "text/markdown": [
       "#### Word: **Jeush** (Genesis 36:5)\n",
       "- **MT Spelling:** `יעישׁ`\n",
       "- **SP Spelling:** `יעושׁ`\n"
      ],
      "text/plain": [
       "<IPython.core.display.Markdown object>"
      ]
     },
     "metadata": {},
     "output_type": "display_data"
    },
    {
     "data": {
      "text/markdown": [
       "#### Word: **Omar** (Genesis 36:11)\n",
       "- **MT Spelling:** `אומר`\n",
       "- **SP Spelling:** `אמר`\n"
      ],
      "text/plain": [
       "<IPython.core.display.Markdown object>"
      ]
     },
     "metadata": {},
     "output_type": "display_data"
    },
    {
     "data": {
      "text/markdown": [
       "#### Word: **Shammah** (Genesis 36:13)\n",
       "- **MT Spelling:** `שׁמה`\n",
       "- **SP Spelling:** `שׁמח`\n"
      ],
      "text/plain": [
       "<IPython.core.display.Markdown object>"
      ]
     },
     "metadata": {},
     "output_type": "display_data"
    },
    {
     "data": {
      "text/markdown": [
       "#### Word: **Dishon** (Genesis 36:21)\n",
       "- **MT Spelling:** `דשׁון`\n",
       "- **SP Spelling:** `דישׁון`\n"
      ],
      "text/plain": [
       "<IPython.core.display.Markdown object>"
      ]
     },
     "metadata": {},
     "output_type": "display_data"
    },
    {
     "data": {
      "text/markdown": [
       "#### Word: **Homam** (Genesis 36:22)\n",
       "- **MT Spelling:** `הימם`\n",
       "- **SP Spelling:** `אימם`\n"
      ],
      "text/plain": [
       "<IPython.core.display.Markdown object>"
      ]
     },
     "metadata": {},
     "output_type": "display_data"
    },
    {
     "data": {
      "text/markdown": [
       "#### Word: **Zaavan** (Genesis 36:27)\n",
       "- **MT Spelling:** `זעון`\n",
       "- **SP Spelling:** `זוען`\n"
      ],
      "text/plain": [
       "<IPython.core.display.Markdown object>"
      ]
     },
     "metadata": {},
     "output_type": "display_data"
    },
    {
     "data": {
      "text/markdown": [
       "#### Word: **Aran** (Genesis 36:28)\n",
       "- **MT Spelling:** `ארן`\n",
       "- **SP Spelling:** `אדן`\n"
      ],
      "text/plain": [
       "<IPython.core.display.Markdown object>"
      ]
     },
     "metadata": {},
     "output_type": "display_data"
    },
    {
     "data": {
      "text/markdown": [
       "#### Word: **Midian** (Genesis 36:35)\n",
       "- **MT Spelling:** `מדין`\n",
       "- **SP Spelling:** None\n"
      ],
      "text/plain": [
       "<IPython.core.display.Markdown object>"
      ]
     },
     "metadata": {},
     "output_type": "display_data"
    },
    {
     "data": {
      "text/markdown": [
       "#### Word: **Hadad** (Genesis 36:39)\n",
       "- **MT Spelling:** `הדר`\n",
       "- **SP Spelling:** `הדד`\n"
      ],
      "text/plain": [
       "<IPython.core.display.Markdown object>"
      ]
     },
     "metadata": {},
     "output_type": "display_data"
    },
    {
     "data": {
      "text/markdown": [
       "#### Word: **Mehetabel** (Genesis 36:39)\n",
       "- **MT Spelling:** `מהיטבאל`\n",
       "- **SP Spelling:** `מהטבאל`\n"
      ],
      "text/plain": [
       "<IPython.core.display.Markdown object>"
      ]
     },
     "metadata": {},
     "output_type": "display_data"
    },
    {
     "data": {
      "text/markdown": [
       "#### Word: **Magdiel** (Genesis 36:43)\n",
       "- **MT Spelling:** `מגדיאל`\n",
       "- **SP Spelling:** `מגדאל`\n"
      ],
      "text/plain": [
       "<IPython.core.display.Markdown object>"
      ]
     },
     "metadata": {},
     "output_type": "display_data"
    }
   ],
   "source": [
    "# Create header\n",
    "MT.dm(f'### Spelling differences proper nouns in SP and MT for parasha {parashaNameEnglish} ({parashaStart}-{parashaEnd})')\n",
    "    \n",
    "for lex, MTspellings in MTspellingDict.items():\n",
    "    # Retrieve SP spellings, defaulting to an empty set if lex is not found\n",
    "    SPspellings = SPspellingDict.get(lex, set())\n",
    "\n",
    "    # Extract only the spellings (ignoring node numbers) for comparison\n",
    "    MTspellingSet = {spelling for spelling, _ in MTspellings}\n",
    "    SPspellingSet = {spelling for spelling, _ in SPspellings}\n",
    "\n",
    "    # Compare the sets of spellings\n",
    "    if MTspellingSet != SPspellingSet:\n",
    "        # Print MT spelling with reference\n",
    "        MTnode = list(MTspellings)[0][1]  # Get first tuple's node number\n",
    "        book, chapter, verse = Tmt.sectionFromNode(MTnode)\n",
    "        MTgloss = Fmt.gloss.v(MTnode)\n",
    "        MTspelling = Fmt.g_cons_utf8.v(MTnode)\n",
    "\n",
    "        # Build Markdown output\n",
    "        output = f\"#### Word: **{MTgloss}** ({book} {chapter}:{verse})\\n\"\n",
    "        output += f\"- **MT Spelling:** `{MTspelling}`\\n\"\n",
    "\n",
    "        # Print SP spellings with reference\n",
    "        if SPspellings:\n",
    "            SPnode = list(SPspellings)[0][1]  # Get first tuple's node number\n",
    "            SPspelling = Fsp.g_cons_utf8.v(SPnode)\n",
    "            output += f\"- **SP Spelling:** `{SPspelling}`\\n\"\n",
    "        else:\n",
    "            output += \"- **SP Spelling:** None\\n\"\n",
    "\n",
    "        # Print the formatted output\n",
    "        MT.dm(output)"
   ]
  },
  {
   "cell_type": "markdown",
   "id": "0fbcc828-2880-4d36-bd66-5a9f085b616d",
   "metadata": {},
   "source": [
    "# 6 - References and acknowledgement <a class=\"anchor\" id=\"bullet6\"></a>\n",
    "##### [Back to ToC](#TOC)\n",
    "\n",
    "<a class=\"anchor\" id=\"bullet1\"><sup>1</sup></a> Christian Canu Højgaard, Martijn Naaijer, & Stefan Schorch. (2023). Text-Fabric Dataset of the Samaritan Pentateuch. Zenodo. https://doi.org/10.5281/zenodo.7734632\n",
    "\n",
    "<a class=\"anchor\" id=\"bullet2\"><sup>2</sup> [Notebook created by Martijn Naaijer](https://github.com/DT-UCPH/sp/blob/main/notebooks/combine_sp_with_mt_data.ipynb)"
   ]
  },
  {
   "cell_type": "markdown",
   "id": "4e319feb-814e-4903-922a-58bae953224c",
   "metadata": {
    "tags": []
   },
   "source": [
    "# 7 - Required libraries <a class=\"anchor\" id=\"bullet7\"></a>\n",
    "##### [Back to ToC](#TOC)\n",
    "\n",
    "The scripts in this notebook require (beside `text-fabric`) the following Python libraries to be installed in the environment:\n",
    "\n",
    "    collections\n",
    "    difflib\n",
    "    Levenshtein\n",
    "\n",
    "You can install any missing library from within Jupyter Notebook using either`pip` or `pip3`."
   ]
  },
  {
   "cell_type": "markdown",
   "id": "68f75bc4-7bc2-42f1-af91-fe6e5b83a277",
   "metadata": {},
   "source": [
    "# 8 - Notebook version details<a class=\"anchor\" id=\"bullet8\"></a>\n",
    "##### [Back to ToC](#TOC)\n",
    "\n",
    "<div style=\"float: left;\">\n",
    "  <table>\n",
    "    <tr>\n",
    "      <td><strong>Author</strong></td>\n",
    "      <td>Tony Jurg</td>\n",
    "    </tr>\n",
    "    <tr>\n",
    "      <td><strong>Version</strong></td>\n",
    "      <td>1.0</td>\n",
    "    </tr>\n",
    "    <tr>\n",
    "      <td><strong>Date</strong></td>\n",
    "      <td>17 November 2024</td>\n",
    "    </tr>\n",
    "  </table>\n",
    "</div>"
   ]
  }
 ],
 "metadata": {
  "kernelspec": {
   "display_name": "Python 3 (ipykernel)",
   "language": "python",
   "name": "python3"
  },
  "language_info": {
   "codemirror_mode": {
    "name": "ipython",
    "version": 3
   },
   "file_extension": ".py",
   "mimetype": "text/x-python",
   "name": "python",
   "nbconvert_exporter": "python",
   "pygments_lexer": "ipython3",
   "version": "3.12.7"
  }
 },
 "nbformat": 4,
 "nbformat_minor": 5
}
