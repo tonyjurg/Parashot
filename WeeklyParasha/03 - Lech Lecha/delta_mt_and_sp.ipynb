{
 "cells": [
  {
   "cell_type": "markdown",
   "id": "ef1d222e-9996-4c9f-bddd-173624840ebc",
   "metadata": {},
   "source": [
    "# Differences in MT and SP in Parasha #3: Lech Lecha (Genesis 12:1-17:27)"
   ]
  },
  {
   "cell_type": "markdown",
   "id": "00169c3b-05ee-417b-8bc4-950a9914cda7",
   "metadata": {},
   "source": [
    "## Table of Content <a class=\"anchor\" id=\"TOC\"></a> (ToC)\n",
    "\n",
    "* <a href=\"#bullet1\">1 - Introduction</a>\n",
    "* <a href=\"#bullet2\">2 - Load Text-Fabric app and data</a>\n",
    "* <a href=\"#bullet3\">3 - Compare surface texts of SP and MT</a>\n",
    "* <a href=\"#bullet4\">4 - Compare texts using minimum Levenshtein distance</a>\n",
    "* <a href=\"#bullet5\">5 - Comparison of spelling of proper nouns between SP and MT</a>\n",
    "* <a href=\"#bullet6\">6 - References and acknowledgement</a>\n",
    "* <a href=\"#bullet7\">7 - Required libraries</a>\n",
    "* <a href=\"#bullet8\">8 - Notebook version details</a>"
   ]
  },
  {
   "cell_type": "markdown",
   "id": "b9d778e2-a5f4-4f48-acfc-ab657714729c",
   "metadata": {
    "tags": []
   },
   "source": [
    "# 1 - Introduction <a class=\"anchor\" id=\"bullet1\"></a>\n",
    "##### [Back to ToC](#TOC)\n",
    "\n",
    "The Samaritan Pentateuch (SP) is a version of the Torah preserved by the Samaritan community, differing from the Masoretic Text (MT) in several aspects, including language, orthography, and occasionally theological emphasis. This notebook compares the text of the Masoretic Text, based on the BHSA dataset in Text-Fabric, with the Samaritan Pentateuch, also available as a Text-Fabric dataset.<a href=\"#ref1\"><sup>1</sup></a>\n",
    "\n",
    "In this analysis, we focus on comparing the text of the verses in a specific parasha, highlighting differences in wording and orthography. Additionally, special attention is given to spelling variations of proper nouns between the two traditions. This notebook draws inspiration from the notebook provided by Martijn Naaijer<a href=\"#ref2\"><sup>2</sup></a> and aims to explore the textual nuances between these two important versions of the Torah."
   ]
  },
  {
   "cell_type": "markdown",
   "id": "52843ad7-dd3b-4e06-a232-96e8919e8335",
   "metadata": {},
   "source": [
    "# 2 - Load Text-Fabric app and data <a class=\"anchor\" id=\"bullet2\"></a>\n",
    "##### [Back to ToC](#TOC)\n",
    "\n",
    "The following code will load the Text-Fabric version of the [Samaritan Pentatuch](https://github.com/DT-UCPH/sp), the [Biblia Hebraica Stuttgartensia (Amstelodamensis)](https://etcbc.github.io/bhsa/) together with the additonal parasha related features from [tonyjurg/BHSaddons](https://github.com/tonyjurg/BHSaddons)."
   ]
  },
  {
   "cell_type": "code",
   "execution_count": 1,
   "id": "18ee17d5",
   "metadata": {
    "scrolled": true
   },
   "outputs": [
    {
     "data": {
      "text/markdown": [
       "**Locating corpus resources ...**"
      ],
      "text/plain": [
       "<IPython.core.display.Markdown object>"
      ]
     },
     "metadata": {},
     "output_type": "display_data"
    },
    {
     "data": {
      "text/html": [
       "<b title=\"local release\">app:</b> <span title=\"rv3.4=#g0c9b2fff6448228af93ed6c466ba95e6c0bb3547 offline under C:/Users/tonyj/text-fabric-data/github\">~/text-fabric-data/github/DT-UCPH/sp/app</span>"
      ],
      "text/plain": [
       "<IPython.core.display.HTML object>"
      ]
     },
     "metadata": {},
     "output_type": "display_data"
    },
    {
     "data": {
      "text/html": [
       "<b title=\"local release\">data:</b> <span title=\"rv3.4.1=#893bec3898e2e07adfe7eb8806485fe62039c468 offline under C:/Users/tonyj/text-fabric-data/github\">~/text-fabric-data/github/DT-UCPH/sp/tf/3.4</span>"
      ],
      "text/plain": [
       "<IPython.core.display.HTML object>"
      ]
     },
     "metadata": {},
     "output_type": "display_data"
    },
    {
     "data": {
      "text/html": [
       "\n",
       "            <b>TF:</b> <a target=\"_blank\" href=\"https://annotation.github.io/text-fabric/tf/cheatsheet.html\" title=\"text-fabric api\">TF API 12.6.2</a>, <a target=\"_blank\" href=\"https://github.com/DT-UCPH/sp/blob/master/app\" title=\"DT-UCPH/sp app\">DT-UCPH/sp/app  v3</a>, <a target=\"_blank\" href=\"https://annotation.github.io/text-fabric/tf/about/searchusage.html\" title=\"Search Templates Introduction and Reference\">Search Reference</a><br>\n",
       "            <b>Data:</b> <a target=\"_blank\" href=\"https://etcbc.github.io/bhsa/\" title=\"provenance of The Samaritan Pentateuch\">DT-UCPH - sp 3.4</a>, <a target=\"_blank\" href=\"https://annotation.github.io/text-fabric/tf/writing/hebrew.html\" title=\"How TF features represent text\">Character table</a>, <a target=\"_blank\" href=\"https://etcbc.github.io/bhsa/features/0_home\" title=\"DT-UCPH - sp feature documentation\">Feature docs</a><br>\n",
       "            <details class=\"nodeinfo\"><summary><b>Node types</b></summary>\n",
       "<table class=\"nodeinfo\">\n",
       "    <tr>\n",
       "        <th>Name</th>\n",
       "        <th># of nodes</th>\n",
       "        <th># slots / node</th>\n",
       "        <th>% coverage</th>\n",
       "    </tr>\n",
       "\n",
       "<tr>\n",
       "    <th>book</th>\n",
       "    <td>5</td>\n",
       "    <td>79878.40</td>\n",
       "    <td><b>100</b></td>\n",
       "</tr>\n",
       "\n",
       "<tr>\n",
       "    <th>chapter</th>\n",
       "    <td>187</td>\n",
       "    <td>2135.79</td>\n",
       "    <td><b>100</b></td>\n",
       "</tr>\n",
       "\n",
       "<tr>\n",
       "    <th>verse</th>\n",
       "    <td>5841</td>\n",
       "    <td>68.38</td>\n",
       "    <td><b>100</b></td>\n",
       "</tr>\n",
       "\n",
       "<tr>\n",
       "    <th>word</th>\n",
       "    <td>114890</td>\n",
       "    <td>3.48</td>\n",
       "    <td><b>100</b></td>\n",
       "</tr>\n",
       "\n",
       "<tr>\n",
       "    <th><i>sign</i></th>\n",
       "    <td>399392</td>\n",
       "    <td>1.00</td>\n",
       "    <td><b>100</b></td>\n",
       "</tr>\n",
       "</table></details>\n",
       "            <b>Sets:</b> no custom sets<br>\n",
       "            <b>Features:</b><br>\n",
       "<details><summary><b>The Samaritan Pentateuch</b></summary>\n",
       "    <div class=\"fcorpus\">\n",
       "\n",
       "<div class=\"frow\">\n",
       "    <div class=\"fnamecat \">\n",
       "<a target=\"_blank\" href=\"https://etcbc.github.io/bhsa/features/book\" title=\"~/text-fabric-data/github/DT-UCPH/sp/tf/3.4/book.tf\">book</a>\n",
       "</div>\n",
       "<div class=\"fmono\">str</div>\n",
       "\n",
       "<span> book title</span>\n",
       "\n",
       "</div>\n",
       "\n",
       "<div class=\"frow\">\n",
       "    <div class=\"fnamecat \">\n",
       "<a target=\"_blank\" href=\"https://etcbc.github.io/bhsa/features/chapter\" title=\"~/text-fabric-data/github/DT-UCPH/sp/tf/3.4/chapter.tf\">chapter</a>\n",
       "</div>\n",
       "<div class=\"fmono\">int</div>\n",
       "\n",
       "<span> chapter number</span>\n",
       "\n",
       "</div>\n",
       "\n",
       "<div class=\"frow\">\n",
       "    <div class=\"fnamecat \">\n",
       "<a target=\"_blank\" href=\"https://etcbc.github.io/bhsa/features/g_cons\" title=\"~/text-fabric-data/github/DT-UCPH/sp/tf/3.4/g_cons.tf\">g_cons</a>\n",
       "</div>\n",
       "<div class=\"fmono\">str</div>\n",
       "\n",
       "<span> word consonantal-transliterated</span>\n",
       "\n",
       "</div>\n",
       "\n",
       "<div class=\"frow\">\n",
       "    <div class=\"fnamecat \">\n",
       "<a target=\"_blank\" href=\"https://etcbc.github.io/bhsa/features/g_cons_raw\" title=\"~/text-fabric-data/github/DT-UCPH/sp/tf/3.4/g_cons_raw.tf\">g_cons_raw</a>\n",
       "</div>\n",
       "<div class=\"fmono\">str</div>\n",
       "\n",
       "<span> word consonantal-transliterated (without disambiguation of Shin (C) and Sin (F))</span>\n",
       "\n",
       "</div>\n",
       "\n",
       "<div class=\"frow\">\n",
       "    <div class=\"fnamecat \">\n",
       "<a target=\"_blank\" href=\"https://etcbc.github.io/bhsa/features/g_cons_utf8\" title=\"~/text-fabric-data/github/DT-UCPH/sp/tf/3.4/g_cons_utf8.tf\">g_cons_utf8</a>\n",
       "</div>\n",
       "<div class=\"fmono\">str</div>\n",
       "\n",
       "<span> word in Hebrew script</span>\n",
       "\n",
       "</div>\n",
       "\n",
       "<div class=\"frow\">\n",
       "    <div class=\"fnamecat \">\n",
       "<a target=\"_blank\" href=\"https://etcbc.github.io/bhsa/features/g_lex\" title=\"~/text-fabric-data/github/DT-UCPH/sp/tf/3.4/g_lex.tf\">g_lex</a>\n",
       "</div>\n",
       "<div class=\"fmono\">str</div>\n",
       "\n",
       "<span> realized lexeme</span>\n",
       "\n",
       "</div>\n",
       "\n",
       "<div class=\"frow\">\n",
       "    <div class=\"fnamecat \">\n",
       "<a target=\"_blank\" href=\"https://etcbc.github.io/bhsa/features/g_lex_utf8\" title=\"~/text-fabric-data/github/DT-UCPH/sp/tf/3.4/g_lex_utf8.tf\">g_lex_utf8</a>\n",
       "</div>\n",
       "<div class=\"fmono\">str</div>\n",
       "\n",
       "<span> realized lexeme in Hebrew script</span>\n",
       "\n",
       "</div>\n",
       "\n",
       "<div class=\"frow\">\n",
       "    <div class=\"fnamecat \">\n",
       "<a target=\"_blank\" href=\"https://etcbc.github.io/bhsa/features/g_nme\" title=\"~/text-fabric-data/github/DT-UCPH/sp/tf/3.4/g_nme.tf\">g_nme</a>\n",
       "</div>\n",
       "<div class=\"fmono\">str</div>\n",
       "\n",
       "<span> realized nominal ending consonantal</span>\n",
       "\n",
       "</div>\n",
       "\n",
       "<div class=\"frow\">\n",
       "    <div class=\"fnamecat \">\n",
       "<a target=\"_blank\" href=\"https://etcbc.github.io/bhsa/features/g_nme_utf8\" title=\"~/text-fabric-data/github/DT-UCPH/sp/tf/3.4/g_nme_utf8.tf\">g_nme_utf8</a>\n",
       "</div>\n",
       "<div class=\"fmono\">str</div>\n",
       "\n",
       "<span> realized nominal ending consonantal in Hebrew script</span>\n",
       "\n",
       "</div>\n",
       "\n",
       "<div class=\"frow\">\n",
       "    <div class=\"fnamecat \">\n",
       "<a target=\"_blank\" href=\"https://etcbc.github.io/bhsa/features/g_pfm\" title=\"~/text-fabric-data/github/DT-UCPH/sp/tf/3.4/g_pfm.tf\">g_pfm</a>\n",
       "</div>\n",
       "<div class=\"fmono\">str</div>\n",
       "\n",
       "<span> realized verbal preformative consonantal</span>\n",
       "\n",
       "</div>\n",
       "\n",
       "<div class=\"frow\">\n",
       "    <div class=\"fnamecat \">\n",
       "<a target=\"_blank\" href=\"https://etcbc.github.io/bhsa/features/g_pfm_utf8\" title=\"~/text-fabric-data/github/DT-UCPH/sp/tf/3.4/g_pfm_utf8.tf\">g_pfm_utf8</a>\n",
       "</div>\n",
       "<div class=\"fmono\">str</div>\n",
       "\n",
       "<span> realized verbal preformative consonantal in Hebrew script</span>\n",
       "\n",
       "</div>\n",
       "\n",
       "<div class=\"frow\">\n",
       "    <div class=\"fnamecat \">\n",
       "<a target=\"_blank\" href=\"https://etcbc.github.io/bhsa/features/g_prs\" title=\"~/text-fabric-data/github/DT-UCPH/sp/tf/3.4/g_prs.tf\">g_prs</a>\n",
       "</div>\n",
       "<div class=\"fmono\">str</div>\n",
       "\n",
       "<span> realized pronominal suffix consonantal</span>\n",
       "\n",
       "</div>\n",
       "\n",
       "<div class=\"frow\">\n",
       "    <div class=\"fnamecat \">\n",
       "<a target=\"_blank\" href=\"https://etcbc.github.io/bhsa/features/g_prs_utf8\" title=\"~/text-fabric-data/github/DT-UCPH/sp/tf/3.4/g_prs_utf8.tf\">g_prs_utf8</a>\n",
       "</div>\n",
       "<div class=\"fmono\">str</div>\n",
       "\n",
       "<span> realized pronominal suffix consonantal in Hebrew script</span>\n",
       "\n",
       "</div>\n",
       "\n",
       "<div class=\"frow\">\n",
       "    <div class=\"fnamecat \">\n",
       "<a target=\"_blank\" href=\"https://etcbc.github.io/bhsa/features/g_uvf\" title=\"~/text-fabric-data/github/DT-UCPH/sp/tf/3.4/g_uvf.tf\">g_uvf</a>\n",
       "</div>\n",
       "<div class=\"fmono\">str</div>\n",
       "\n",
       "<span> realized univalent final</span>\n",
       "\n",
       "</div>\n",
       "\n",
       "<div class=\"frow\">\n",
       "    <div class=\"fnamecat \">\n",
       "<a target=\"_blank\" href=\"https://etcbc.github.io/bhsa/features/g_uvf_utf8\" title=\"~/text-fabric-data/github/DT-UCPH/sp/tf/3.4/g_uvf_utf8.tf\">g_uvf_utf8</a>\n",
       "</div>\n",
       "<div class=\"fmono\">str</div>\n",
       "\n",
       "<span> realized univalent final in Hebrew script</span>\n",
       "\n",
       "</div>\n",
       "\n",
       "<div class=\"frow\">\n",
       "    <div class=\"fnamecat \">\n",
       "<a target=\"_blank\" href=\"https://etcbc.github.io/bhsa/features/g_vbe\" title=\"~/text-fabric-data/github/DT-UCPH/sp/tf/3.4/g_vbe.tf\">g_vbe</a>\n",
       "</div>\n",
       "<div class=\"fmono\">str</div>\n",
       "\n",
       "<span> realized verbal ending consonantal</span>\n",
       "\n",
       "</div>\n",
       "\n",
       "<div class=\"frow\">\n",
       "    <div class=\"fnamecat \">\n",
       "<a target=\"_blank\" href=\"https://etcbc.github.io/bhsa/features/g_vbe_utf8\" title=\"~/text-fabric-data/github/DT-UCPH/sp/tf/3.4/g_vbe_utf8.tf\">g_vbe_utf8</a>\n",
       "</div>\n",
       "<div class=\"fmono\">str</div>\n",
       "\n",
       "<span> realized verbal ending consonantal in Hebrew script</span>\n",
       "\n",
       "</div>\n",
       "\n",
       "<div class=\"frow\">\n",
       "    <div class=\"fnamecat \">\n",
       "<a target=\"_blank\" href=\"https://etcbc.github.io/bhsa/features/g_vbs\" title=\"~/text-fabric-data/github/DT-UCPH/sp/tf/3.4/g_vbs.tf\">g_vbs</a>\n",
       "</div>\n",
       "<div class=\"fmono\">str</div>\n",
       "\n",
       "<span> realized verbal stem consonantal</span>\n",
       "\n",
       "</div>\n",
       "\n",
       "<div class=\"frow\">\n",
       "    <div class=\"fnamecat \">\n",
       "<a target=\"_blank\" href=\"https://etcbc.github.io/bhsa/features/g_vbs_utf8\" title=\"~/text-fabric-data/github/DT-UCPH/sp/tf/3.4/g_vbs_utf8.tf\">g_vbs_utf8</a>\n",
       "</div>\n",
       "<div class=\"fmono\">str</div>\n",
       "\n",
       "<span> realized verbal stem consonantal in Hebrew script</span>\n",
       "\n",
       "</div>\n",
       "\n",
       "<div class=\"frow\">\n",
       "    <div class=\"fnamecat \">\n",
       "<a target=\"_blank\" href=\"https://etcbc.github.io/bhsa/features/gn\" title=\"~/text-fabric-data/github/DT-UCPH/sp/tf/3.4/gn.tf\">gn</a>\n",
       "</div>\n",
       "<div class=\"fmono\">str</div>\n",
       "\n",
       "<span> gender</span>\n",
       "\n",
       "</div>\n",
       "\n",
       "<div class=\"frow\">\n",
       "    <div class=\"fnamecat \">\n",
       "<a target=\"_blank\" href=\"https://etcbc.github.io/bhsa/features/language\" title=\"~/text-fabric-data/github/DT-UCPH/sp/tf/3.4/language.tf\">language</a>\n",
       "</div>\n",
       "<div class=\"fmono\">str</div>\n",
       "\n",
       "<span> language</span>\n",
       "\n",
       "</div>\n",
       "\n",
       "<div class=\"frow\">\n",
       "    <div class=\"fnamecat \">\n",
       "<a target=\"_blank\" href=\"https://etcbc.github.io/bhsa/features/lex\" title=\"~/text-fabric-data/github/DT-UCPH/sp/tf/3.4/lex.tf\">lex</a>\n",
       "</div>\n",
       "<div class=\"fmono\">str</div>\n",
       "\n",
       "<span> lexeme consonantal-transliterated</span>\n",
       "\n",
       "</div>\n",
       "\n",
       "<div class=\"frow\">\n",
       "    <div class=\"fnamecat \">\n",
       "<a target=\"_blank\" href=\"https://etcbc.github.io/bhsa/features/lex_utf8\" title=\"~/text-fabric-data/github/DT-UCPH/sp/tf/3.4/lex_utf8.tf\">lex_utf8</a>\n",
       "</div>\n",
       "<div class=\"fmono\">str</div>\n",
       "\n",
       "<span> lexeme in Hebrew script</span>\n",
       "\n",
       "</div>\n",
       "\n",
       "<div class=\"frow\">\n",
       "    <div class=\"fnamecat \">\n",
       "<a target=\"_blank\" href=\"https://etcbc.github.io/bhsa/features/mt_feat\" title=\"~/text-fabric-data/github/DT-UCPH/sp/tf/3.4/mt_feat.tf\">mt_feat</a>\n",
       "</div>\n",
       "<div class=\"fmono\">str</div>\n",
       "\n",
       "<span> features imposed from MT</span>\n",
       "\n",
       "</div>\n",
       "\n",
       "<div class=\"frow\">\n",
       "    <div class=\"fnamecat \">\n",
       "<a target=\"_blank\" href=\"https://etcbc.github.io/bhsa/features/nu\" title=\"~/text-fabric-data/github/DT-UCPH/sp/tf/3.4/nu.tf\">nu</a>\n",
       "</div>\n",
       "<div class=\"fmono\">str</div>\n",
       "\n",
       "<span> grammatical number</span>\n",
       "\n",
       "</div>\n",
       "\n",
       "<div class=\"frow\">\n",
       "    <div class=\"fnamecat \">\n",
       "<a target=\"_blank\" href=\"https://etcbc.github.io/bhsa/features/otype\" title=\"~/text-fabric-data/github/DT-UCPH/sp/tf/3.4/otype.tf\">otype</a>\n",
       "</div>\n",
       "<div class=\"fmono\">str</div>\n",
       "\n",
       "<span> </span>\n",
       "\n",
       "</div>\n",
       "\n",
       "<div class=\"frow\">\n",
       "    <div class=\"fnamecat \">\n",
       "<a target=\"_blank\" href=\"https://etcbc.github.io/bhsa/features/prediction\" title=\"~/text-fabric-data/github/DT-UCPH/sp/tf/3.4/prediction.tf\">prediction</a>\n",
       "</div>\n",
       "<div class=\"fmono\">str</div>\n",
       "\n",
       "<span> neural network prediction</span>\n",
       "\n",
       "</div>\n",
       "\n",
       "<div class=\"frow\">\n",
       "    <div class=\"fnamecat \">\n",
       "<a target=\"_blank\" href=\"https://etcbc.github.io/bhsa/features/prs_gn\" title=\"~/text-fabric-data/github/DT-UCPH/sp/tf/3.4/prs_gn.tf\">prs_gn</a>\n",
       "</div>\n",
       "<div class=\"fmono\">str</div>\n",
       "\n",
       "<span> pronominal suffix gender</span>\n",
       "\n",
       "</div>\n",
       "\n",
       "<div class=\"frow\">\n",
       "    <div class=\"fnamecat \">\n",
       "<a target=\"_blank\" href=\"https://etcbc.github.io/bhsa/features/prs_nu\" title=\"~/text-fabric-data/github/DT-UCPH/sp/tf/3.4/prs_nu.tf\">prs_nu</a>\n",
       "</div>\n",
       "<div class=\"fmono\">str</div>\n",
       "\n",
       "<span> pronominal suffix number</span>\n",
       "\n",
       "</div>\n",
       "\n",
       "<div class=\"frow\">\n",
       "    <div class=\"fnamecat \">\n",
       "<a target=\"_blank\" href=\"https://etcbc.github.io/bhsa/features/prs_ps\" title=\"~/text-fabric-data/github/DT-UCPH/sp/tf/3.4/prs_ps.tf\">prs_ps</a>\n",
       "</div>\n",
       "<div class=\"fmono\">str</div>\n",
       "\n",
       "<span> pronominal suffix person</span>\n",
       "\n",
       "</div>\n",
       "\n",
       "<div class=\"frow\">\n",
       "    <div class=\"fnamecat \">\n",
       "<a target=\"_blank\" href=\"https://etcbc.github.io/bhsa/features/ps\" title=\"~/text-fabric-data/github/DT-UCPH/sp/tf/3.4/ps.tf\">ps</a>\n",
       "</div>\n",
       "<div class=\"fmono\">str</div>\n",
       "\n",
       "<span> grammatical person</span>\n",
       "\n",
       "</div>\n",
       "\n",
       "<div class=\"frow\">\n",
       "    <div class=\"fnamecat \">\n",
       "<a target=\"_blank\" href=\"https://etcbc.github.io/bhsa/features/sign\" title=\"~/text-fabric-data/github/DT-UCPH/sp/tf/3.4/sign.tf\">sign</a>\n",
       "</div>\n",
       "<div class=\"fmono\">str</div>\n",
       "\n",
       "<span> consonantal letter</span>\n",
       "\n",
       "</div>\n",
       "\n",
       "<div class=\"frow\">\n",
       "    <div class=\"fnamecat \">\n",
       "<a target=\"_blank\" href=\"https://etcbc.github.io/bhsa/features/sp\" title=\"~/text-fabric-data/github/DT-UCPH/sp/tf/3.4/sp.tf\">sp</a>\n",
       "</div>\n",
       "<div class=\"fmono\">str</div>\n",
       "\n",
       "<span> part of speech</span>\n",
       "\n",
       "</div>\n",
       "\n",
       "<div class=\"frow\">\n",
       "    <div class=\"fnamecat \">\n",
       "<a target=\"_blank\" href=\"https://etcbc.github.io/bhsa/features/trailer\" title=\"~/text-fabric-data/github/DT-UCPH/sp/tf/3.4/trailer.tf\">trailer</a>\n",
       "</div>\n",
       "<div class=\"fmono\">str</div>\n",
       "\n",
       "<span> interword material</span>\n",
       "\n",
       "</div>\n",
       "\n",
       "<div class=\"frow\">\n",
       "    <div class=\"fnamecat \">\n",
       "<a target=\"_blank\" href=\"https://etcbc.github.io/bhsa/features/verse\" title=\"~/text-fabric-data/github/DT-UCPH/sp/tf/3.4/verse.tf\">verse</a>\n",
       "</div>\n",
       "<div class=\"fmono\">int</div>\n",
       "\n",
       "<span> verse number</span>\n",
       "\n",
       "</div>\n",
       "\n",
       "<div class=\"frow\">\n",
       "    <div class=\"fnamecat \">\n",
       "<a target=\"_blank\" href=\"https://etcbc.github.io/bhsa/features/vt\" title=\"~/text-fabric-data/github/DT-UCPH/sp/tf/3.4/vt.tf\">vt</a>\n",
       "</div>\n",
       "<div class=\"fmono\">str</div>\n",
       "\n",
       "<span> verbal tense</span>\n",
       "\n",
       "</div>\n",
       "\n",
       "<div class=\"frow\">\n",
       "    <div class=\"fnamecat edge\">\n",
       "<a target=\"_blank\" href=\"https://etcbc.github.io/bhsa/features/oslots\" title=\"~/text-fabric-data/github/DT-UCPH/sp/tf/3.4/oslots.tf\">oslots</a>\n",
       "</div>\n",
       "<div class=\"fmono\">none</div>\n",
       "\n",
       "<span> </span>\n",
       "\n",
       "</div>\n",
       "\n",
       "    </div>\n",
       "</details>\n",
       "\n",
       "            <b>Settings:</b><br><details ><summary><b>specified</b></summary><ol><li><b>apiVersion</b>: <code>3</code></li><li><b>appName</b>: <code>DT-UCPH/sp</code></li><li><b>appPath</b>: <code>C:/Users/tonyj/text-fabric-data/github/DT-UCPH/sp/app</code></li><li><b>commit</b>: <code>g0c9b2fff6448228af93ed6c466ba95e6c0bb3547</code></li><li><b>css</b>: <code>''</code></li><li><details><summary><b>dataDisplay</b>:</summary><li><details open>\n",
       "                <summary><b>textFormats</b>:</summary>\n",
       "                <li><details open>\n",
       "                <summary><b>layout-orig-full</b>:</summary>\n",
       "                <ul><li><b>method</b>: <code>layoutRich</code></li><li><b>style</b>: <code>orig</code></li></ul>\n",
       "                </details></li>\n",
       "                </details></li></details></li><li><details><summary><b>docs</b>:</summary><ul><li><b>docBase</b>: <code>{docRoot}/bhsa</code></li><li><b>docExt</b>: <code>''</code></li><li><b>docPage</b>: <code>''</code></li><li><b>docRoot</b>: <code>https://etcbc.github.io</code></li><li><b>featurePage</b>: <code>0_home</code></li></ul></details></li><li><b>interfaceDefaults</b>: <code>{}</code></li><li><b>isCompatible</b>: <code>True</code></li><li><b>local</b>: <code>local</code></li><li><b>localDir</b>: <code>C:/Users/tonyj/text-fabric-data/github/DT-UCPH/sp/_temp</code></li><li><details><summary><b>provenanceSpec</b>:</summary><ul><li><b>corpus</b>: <code>The Samaritan Pentateuch</code></li><li><b>org</b>: <code>DT-UCPH</code></li><li><b>relative</b>: <code>/tf</code></li><li><b>repo</b>: <code>sp</code></li><li><b>version</b>: <code>3.4</code></li></ul></details></li><li><b>release</b>: <code>v3.4</code></li><li><details><summary><b>typeDisplay</b>:</summary><ul><li><details><summary><b>verse</b>:</summary><ul><li><b>label</b>: <code>{verse}</code></li><li><b>template</b>: <code>{verse}</code></li><li><b>verselike</b>: <code>True</code></li></ul></details></li><li><b>word</b>: {<b>features</b>: <code>lex</code>}</li></ul></details></li><li><b>writing</b>: <code>hbo</code></li></ol></details>\n"
      ],
      "text/plain": [
       "<IPython.core.display.HTML object>"
      ]
     },
     "metadata": {},
     "output_type": "display_data"
    },
    {
     "data": {
      "text/html": [
       "<style>tr.tf.ltr, td.tf.ltr, th.tf.ltr { text-align: left ! important;}\n",
       "tr.tf.rtl, td.tf.rtl, th.tf.rtl { text-align: right ! important;}\n",
       "@font-face {\n",
       "  font-family: \"Gentium Plus\";\n",
       "  src: local('Gentium Plus'), local('GentiumPlus'),\n",
       "    url('/browser/static/fonts/GentiumPlus-R.woff') format('woff'),\n",
       "    url('https://github.com/annotation/text-fabric/blob/master/tf/browser/static/fonts/GentiumPlus-R.woff?raw=true') format('woff');\n",
       "}\n",
       "\n",
       "@font-face {\n",
       "  font-family: \"Ezra SIL\";\n",
       "  src: local('Ezra SIL'), local('EzraSIL'),\n",
       "    url('/browser/static/fonts/SILEOT.woff') format('woff'),\n",
       "    url('https://github.com/annotation/text-fabric/blob/master/tf/browser/static/fonts/SILEOT.woff?raw=true') format('woff');\n",
       "}\n",
       "\n",
       "@font-face {\n",
       "  font-family: \"SBL Hebrew\";\n",
       "  src: local('SBL Hebrew'), local('SBLHebrew'),\n",
       "    url('/browser/static/fonts/SBL_Hbrw.woff') format('woff'),\n",
       "    url('https://github.com/annotation/text-fabric/blob/master/tf/browser/static/fonts/SBL_Hbrw.woff?raw=true') format('woff');\n",
       "}\n",
       "\n",
       "@font-face {\n",
       "  font-family: \"Estrangelo Edessa\";\n",
       "  src: local('Estrangelo Edessa'), local('EstrangeloEdessa');\n",
       "    url('/browser/static/fonts/SyrCOMEdessa.woff') format('woff'),\n",
       "    url('https://github.com/annotation/text-fabric/blob/master/tf/browser/static/fonts/SyrCOMEdessa.woff?raw=true') format('woff');\n",
       "}\n",
       "\n",
       "@font-face {\n",
       "  font-family: AmiriQuran;\n",
       "  font-style: normal;\n",
       "  font-weight: 400;\n",
       "  src: local('Amiri Quran'), local('AmiriQuran'),\n",
       "    url('/browser/static/fonts/AmiriQuran.woff') format('woff'),\n",
       "    url('https://github.com/annotation/text-fabric/blob/master/tf/browser/static/fonts/AmiriQuran.woff?raw=true') format('woff');\n",
       "}\n",
       "\n",
       "@font-face {\n",
       "  font-family: AmiriQuranColored;\n",
       "  font-style: normal;\n",
       "  font-weight: 400;\n",
       "  src: local('Amiri Quran Colored'), local('AmiriQuranColored'),\n",
       "    url('/browser/static/fonts/AmiriQuranColored.woff') format('woff'),\n",
       "    url('https://github.com/annotation/text-fabric/blob/master/tf/browser/static/fonts/AmiriQuranColored.woff?raw=true') format('woff');\n",
       "}\n",
       "\n",
       "@font-face {\n",
       "  font-family: \"Santakku\";\n",
       "  src: local('Santakku'),\n",
       "    url('/browser/static/fonts/Santakku.woff') format('woff'),\n",
       "    url('https://github.com/annotation/text-fabric/blob/master/tf/browser/static/fonts/Santakku.woff?raw=true') format('woff');\n",
       "}\n",
       "\n",
       "@font-face {\n",
       "  font-family: \"SantakkuM\";\n",
       "  src: local('SantakkuM'),\n",
       "    url('/browser/static/fonts/SantakkuM.woff') format('woff'),\n",
       "    url('https://github.com/annotation/text-fabric/blob/master/tf/browser/static/fonts/SantakkuM.woff?raw=true') format('woff');\n",
       "}\n",
       "\n",
       "/* bypassing some classical notebook settings */\n",
       "div#notebook {\n",
       "  line-height: unset;\n",
       "}\n",
       "/* neutral text */\n",
       ".txtn,.txtn a:visited,.txtn a:link {\n",
       "    font-family: sans-serif;\n",
       "    font-size: medium;\n",
       "    direction: ltr;\n",
       "    unicode-bidi: embed;\n",
       "    text-decoration: none;\n",
       "    color: var(--text-color);\n",
       "}\n",
       "/* transcription text */\n",
       ".txtt,.txtt a:visited,.txtt a:link {\n",
       "    font-family: monospace;\n",
       "    font-size: medium;\n",
       "    direction: ltr;\n",
       "    unicode-bidi: embed;\n",
       "    text-decoration: none;\n",
       "    color: var(--text-color);\n",
       "}\n",
       "/* source text */\n",
       ".txto,.txto a:visited,.txto a:link {\n",
       "    font-family: serif;\n",
       "    font-size: medium;\n",
       "    direction: ltr;\n",
       "    unicode-bidi: embed;\n",
       "    text-decoration: none;\n",
       "    color: var(--text-color);\n",
       "}\n",
       "/* phonetic text */\n",
       ".txtp,.txtp a:visited,.txtp a:link {\n",
       "    font-family: Gentium, sans-serif;\n",
       "    font-size: medium;\n",
       "    direction: ltr;\n",
       "    unicode-bidi: embed;\n",
       "    text-decoration: none;\n",
       "    color: var(--text-color);\n",
       "}\n",
       "/* original script text */\n",
       ".txtu,.txtu a:visited,.txtu a:link {\n",
       "    font-family: Gentium, sans-serif;\n",
       "    font-size: medium;\n",
       "    text-decoration: none;\n",
       "    color: var(--text-color);\n",
       "}\n",
       "/* hebrew */\n",
       ".txtu.hbo,.lex.hbo {\n",
       "    font-family: \"Ezra SIL\", \"SBL Hebrew\", sans-serif;\n",
       "    font-size: large;\n",
       "    direction: rtl ! important;\n",
       "    unicode-bidi: embed;\n",
       "}\n",
       "/* syriac */\n",
       ".txtu.syc,.lex.syc {\n",
       "    font-family: \"Estrangelo Edessa\", sans-serif;\n",
       "    font-size: medium;\n",
       "    direction: rtl ! important;\n",
       "    unicode-bidi: embed;\n",
       "}\n",
       "/* neo aramaic */\n",
       ".txtu.cld,.lex.cld {\n",
       "    font-family: \"CharisSIL-R\", sans-serif;\n",
       "    font-size: medium;\n",
       "    direction: ltr ! important;\n",
       "    unicode-bidi: embed;\n",
       "}\n",
       "/* standard arabic */\n",
       ".txtu.ara,.lex.ara {\n",
       "    font-family: \"AmiriQuran\", sans-serif;\n",
       "    font-size: large;\n",
       "    direction: rtl ! important;\n",
       "    unicode-bidi: embed;\n",
       "}\n",
       "/* cuneiform */\n",
       ".txtu.akk,.lex.akk {\n",
       "    font-family: Santakku, sans-serif;\n",
       "    font-size: large;\n",
       "    direction: ltr ! important;\n",
       "    unicode-bidi: embed;\n",
       "}\n",
       ".txtu.uga,.lex.uga {\n",
       "    font-family: sans-serif;\n",
       "    /*font-family: Noto Sans Ugaritic, sans-serif;*/\n",
       "    font-size: large;\n",
       "    direction: ltr ! important;\n",
       "    unicode-bidi: embed;\n",
       "}\n",
       "/* greek */\n",
       ".txtu.grc,.lex.grc a:link {\n",
       "    font-family: Gentium, sans-serif;\n",
       "    font-size: medium;\n",
       "    direction: ltr ! important;\n",
       "    unicode-bidi: embed;\n",
       "}\n",
       "a:hover {\n",
       "    text-decoration: underline | important;\n",
       "    color: #0000ff | important;\n",
       "}\n",
       ".ltr {\n",
       "    direction: ltr ! important;\n",
       "    unicode-bidi: embed;\n",
       "}\n",
       ".rtl {\n",
       "    direction: rtl ! important;\n",
       "    unicode-bidi: embed;\n",
       "}\n",
       ".ubd {\n",
       "    unicode-bidi: embed;\n",
       "}\n",
       ".col {\n",
       "   display: inline-block;\n",
       "}\n",
       ".features {\n",
       "    font-family: monospace;\n",
       "    font-size: medium;\n",
       "    font-weight: bold;\n",
       "    color: var(--features);\n",
       "    display: flex;\n",
       "    flex-flow: column nowrap;\n",
       "    justify-content: flex-start;\n",
       "    align-items: flex-start;\n",
       "    align-content: flex-start;\n",
       "    padding: 2px;\n",
       "    margin: 2px;\n",
       "    direction: ltr;\n",
       "    unicode-bidi: embed;\n",
       "    border: var(--meta-width) solid var(--meta-color);\n",
       "    border-radius: var(--meta-width);\n",
       "}\n",
       ".features div,.features span {\n",
       "    padding: 0;\n",
       "    margin: -2px 0;\n",
       "}\n",
       ".features .f {\n",
       "    font-family: sans-serif;\n",
       "    font-size: small;\n",
       "    font-weight: normal;\n",
       "    color: #5555bb;\n",
       "}\n",
       ".features .xft {\n",
       "  color: #000000;\n",
       "  background-color: #eeeeee;\n",
       "  font-size: medium;\n",
       "  margin: 2px 0px;\n",
       "}\n",
       ".features .xft .f {\n",
       "  color: #000000;\n",
       "  background-color: #eeeeee;\n",
       "  font-size: small;\n",
       "  font-weight: normal;\n",
       "}\n",
       ".tfsechead {\n",
       "    font-family: sans-serif;\n",
       "    font-size: small;\n",
       "    font-weight: bold;\n",
       "    color: var(--tfsechead);\n",
       "    unicode-bidi: embed;\n",
       "    text-align: start;\n",
       "}\n",
       ".structure {\n",
       "    font-family: sans-serif;\n",
       "    font-size: small;\n",
       "    font-weight: bold;\n",
       "    color: var(--structure);\n",
       "    unicode-bidi: embed;\n",
       "    text-align: start;\n",
       "}\n",
       ".comments {\n",
       "    display: flex;\n",
       "    justify-content: flex-start;\n",
       "    align-items: flex-start;\n",
       "    align-content: flex-start;\n",
       "    flex-flow: column nowrap;\n",
       "}\n",
       ".nd, a:link.nd {\n",
       "    font-family: sans-serif;\n",
       "    font-size: small;\n",
       "    color: var(--node);\n",
       "    vertical-align: super;\n",
       "    direction: ltr ! important;\n",
       "    unicode-bidi: embed;\n",
       "}\n",
       ".nde, a:link.nde {\n",
       "    font-family: sans-serif;\n",
       "    font-size: small;\n",
       "    color: var(--node);\n",
       "    direction: ltr ! important;\n",
       "    unicode-bidi: embed;\n",
       "}\n",
       ".etf {\n",
       "    font-size: normal;\n",
       "    border-radius: 0.2rem;\n",
       "    border: 1pt solid white;\n",
       "    padding: 0 0.2rem ! important;\n",
       "    margin: 0 0.2rem ! important;\n",
       "}\n",
       ".etfx {\n",
       "    font-size: x-large;\n",
       "}\n",
       ".lex {\n",
       "  color: var(--lex-color);;\n",
       "}\n",
       "#colormapplus, #colormapmin, .ecolormapmin {\n",
       "  font-weight: bold;\n",
       "  border-radius: 0.1rem;\n",
       "  background-color: #eeeeff;\n",
       "  padding: 0 1rem;\n",
       "  margin: 0 1rem;\n",
       "}\n",
       ".clr {\n",
       "  font-style: italic;\n",
       "  font-size: small;\n",
       "}\n",
       ".clmap,.eclmap {\n",
       "  padding: 0;\n",
       "}\n",
       ".children,.children.ltr {\n",
       "    display: flex;\n",
       "    border: 0;\n",
       "    background-color: #ffffff;\n",
       "    justify-content: flex-start;\n",
       "    align-items: flex-start;\n",
       "    align-content: flex-start;\n",
       "}\n",
       ".children.stretch {\n",
       "    align-items: stretch;\n",
       "}\n",
       ".children.hor {\n",
       "    flex-flow: row nowrap;\n",
       "}\n",
       ".children.hor.wrap {\n",
       "    flex-flow: row wrap;\n",
       "}\n",
       ".children.ver {\n",
       "    flex-flow: column nowrap;\n",
       "}\n",
       ".children.ver.wrap {\n",
       "    flex-flow: column wrap;\n",
       "}\n",
       ".contnr {\n",
       "    width: fit-content;\n",
       "    display: flex;\n",
       "    justify-content: flex-start;\n",
       "    align-items: flex-start;\n",
       "    align-content: flex-start;\n",
       "    flex-flow: column nowrap;\n",
       "    background: #ffffff none repeat scroll 0 0;\n",
       "    padding:  10px 2px 2px 2px;\n",
       "    margin: 16px 2px 2px 2px;\n",
       "    border-style: solid;\n",
       "    font-size: small;\n",
       "}\n",
       ".contnr.trm {\n",
       "    background-attachment: local;\n",
       "}\n",
       ".contnr.cnul {\n",
       "    padding:  0;\n",
       "    margin: 0;\n",
       "    border-style: solid;\n",
       "    font-size: xx-small;\n",
       "}\n",
       ".contnr.cnul,.lbl.cnul {\n",
       "    border-color: var(--border-color-nul);\n",
       "    border-width: var(--border-width-nul);\n",
       "    border-radius: var(--border-width-nul);\n",
       "}\n",
       ".contnr.c0,.lbl.c0 {\n",
       "    border-color: var(--border-color0);\n",
       "    border-width: var(--border-width0);\n",
       "    border-radius: var(--border-width0);\n",
       "}\n",
       ".contnr.c1,.lbl.c1 {\n",
       "    border-color: var(--border-color1);\n",
       "    border-width: var(--border-width1);\n",
       "    border-radius: var(--border-width1);\n",
       "}\n",
       ".contnr.c2,.lbl.c2 {\n",
       "    border-color: var(--border-color2);\n",
       "    border-width: var(--border-width2);\n",
       "    border-radius: var(--border-width2);\n",
       "}\n",
       ".contnr.c3,.lbl.c3 {\n",
       "    border-color: var(--border-color3);\n",
       "    border-width: var(--border-width3);\n",
       "    border-radius: var(--border-width3);\n",
       "}\n",
       ".contnr.c4,.lbl.c4 {\n",
       "    border-color: var(--border-color4);\n",
       "    border-width: var(--border-width4);\n",
       "    border-radius: var(--border-width4);\n",
       "}\n",
       "span.plain {\n",
       "    /*display: inline-block;*/\n",
       "    display: inline-flex;\n",
       "    flex-flow: row wrap;\n",
       "    white-space: pre-wrap;\n",
       "}\n",
       "span.break {\n",
       "  flex-basis: 100%;\n",
       "  height: 0;\n",
       "}\n",
       ".plain {\n",
       "    background-color: #ffffff;\n",
       "}\n",
       ".plain.l,.contnr.l,.contnr.l>.lbl {\n",
       "    border-left-style: dotted\n",
       "}\n",
       ".plain.r,.contnr.r,.contnr.r>.lbl {\n",
       "    border-right-style: dotted\n",
       "}\n",
       ".plain.lno,.contnr.lno,.contnr.lno>.lbl {\n",
       "    border-left-style: none\n",
       "}\n",
       ".plain.rno,.contnr.rno,.contnr.rno>.lbl {\n",
       "    border-right-style: none\n",
       "}\n",
       ".plain.l {\n",
       "    padding-left: 4px;\n",
       "    margin-left: 2px;\n",
       "    border-width: var(--border-width-plain);\n",
       "}\n",
       ".plain.r {\n",
       "    padding-right: 4px;\n",
       "    margin-right: 2px;\n",
       "    border-width: var(--border-width-plain);\n",
       "}\n",
       ".lbl {\n",
       "    font-family: monospace;\n",
       "    margin-top: -24px;\n",
       "    margin-left: 20px;\n",
       "    background: #ffffff none repeat scroll 0 0;\n",
       "    padding: 0 6px;\n",
       "    border-style: solid;\n",
       "    display: block;\n",
       "    color: var(--label)\n",
       "}\n",
       ".lbl.trm {\n",
       "    background-attachment: local;\n",
       "    margin-top: 2px;\n",
       "    margin-left: 2px;\n",
       "    padding: 2px 2px;\n",
       "    border-style: none;\n",
       "}\n",
       ".lbl.cnul {\n",
       "    font-size: xx-small;\n",
       "}\n",
       ".lbl.c0 {\n",
       "    font-size: small;\n",
       "}\n",
       ".lbl.c1 {\n",
       "    font-size: small;\n",
       "}\n",
       ".lbl.c2 {\n",
       "    font-size: medium;\n",
       "}\n",
       ".lbl.c3 {\n",
       "    font-size: medium;\n",
       "}\n",
       ".lbl.c4 {\n",
       "    font-size: large;\n",
       "}\n",
       ".occs, a:link.occs {\n",
       "    font-size: small;\n",
       "}\n",
       "\n",
       "/* PROVENANCE */\n",
       "\n",
       "div.prov {\n",
       "\tmargin: 40px;\n",
       "\tpadding: 20px;\n",
       "\tborder: 2px solid var(--fog-rim);\n",
       "}\n",
       "div.pline {\n",
       "\tdisplay: flex;\n",
       "\tflex-flow: row nowrap;\n",
       "\tjustify-content: stretch;\n",
       "\talign-items: baseline;\n",
       "}\n",
       "div.p2line {\n",
       "\tmargin-left: 2em;\n",
       "\tdisplay: flex;\n",
       "\tflex-flow: row nowrap;\n",
       "\tjustify-content: stretch;\n",
       "\talign-items: baseline;\n",
       "}\n",
       "div.psline {\n",
       "\tdisplay: flex;\n",
       "\tflex-flow: row nowrap;\n",
       "\tjustify-content: stretch;\n",
       "\talign-items: baseline;\n",
       "\tbackground-color: var(--gold-mist-back);\n",
       "}\n",
       "div.pname {\n",
       "\tflex: 0 0 5rem;\n",
       "\tfont-weight: bold;\n",
       "}\n",
       "div.pval {\n",
       "    flex: 1 1 auto;\n",
       "}\n",
       "\n",
       "/* KEYBOARD */\n",
       ".ccoff {\n",
       "  background-color: inherit;\n",
       "}\n",
       ".ccon {\n",
       "  background-color: yellow ! important;\n",
       "}\n",
       ".ccon,.ccoff {\n",
       "  padding: 0.2rem;\n",
       "  margin: 0.2rem;\n",
       "  border: 0.1rem solid var(--letter-box-border);\n",
       "  border-radius: 0.1rem;\n",
       "}\n",
       ".ccline {\n",
       "  font-size: xx-large ! important;\n",
       "  font-weight: bold;\n",
       "  line-height: 2em ! important;\n",
       "}\n",
       "/* TF header */\n",
       "\n",
       "summary {\n",
       "  /* needed to override the normalize.less\n",
       "   * in the classical Jupyter Notebook\n",
       "   */\n",
       "  display: list-item ! important;\n",
       "}\n",
       "\n",
       ".fcorpus {\n",
       "  display: flex;\n",
       "  flex-flow: column nowrap;\n",
       "  justify-content: flex-start;\n",
       "  align-items: flex-start;\n",
       "  align-content: flex-start;\n",
       "  overflow: auto;\n",
       "}\n",
       ".frow {\n",
       "  display: flex;\n",
       "  flex-flow: row nowrap;\n",
       "  justify-content: flex-start;\n",
       "  align-items: flex-start;\n",
       "  align-content: flex-start;\n",
       "}\n",
       ".fmeta {\n",
       "  display: flex;\n",
       "  flex-flow: column nowrap;\n",
       "  justify-content: flex-start;\n",
       "  align-items: flex-start;\n",
       "  align-content: flex-start;\n",
       "}\n",
       ".fmetarow {\n",
       "  display: flex;\n",
       "  flex-flow: row nowrap;\n",
       "  justify-content: flex-start;\n",
       "  align-items: flex-start;\n",
       "  align-content: flex-start;\n",
       "}\n",
       ".fmetakey {\n",
       "  min-width: 8em;\n",
       "  font-family: monospace;\n",
       "}\n",
       ".fnamecat {\n",
       "  min-width: 8em;\n",
       "}\n",
       ".fnamecat.edge {\n",
       "  font-weight: bold;\n",
       "  font-style: italic;\n",
       "}\n",
       ".fmono {\n",
       "    font-family: monospace;\n",
       "}\n",
       "\n",
       ":root {\n",
       "\t--node:               hsla(120, 100%,  20%, 1.0  );\n",
       "\t--label:              hsla(  0, 100%,  20%, 1.0  );\n",
       "\t--tfsechead:          hsla(  0, 100%,  25%, 1.0  );\n",
       "\t--structure:          hsla(120, 100%,  25%, 1.0  );\n",
       "\t--features:           hsla(  0,   0%,  30%, 1.0  );\n",
       "  --text-color:         hsla( 60,  80%,  10%, 1.0  );\n",
       "  --lex-color:          hsla(220,  90%,  60%, 1.0  );\n",
       "  --meta-color:         hsla(  0,   0%,  90%, 0.7  );\n",
       "  --meta-width:         3px;\n",
       "  --border-color-nul:   hsla(  0,   0%,  90%, 0.5  );\n",
       "  --border-color0:      hsla(  0,   0%,  90%, 0.9  );\n",
       "  --border-color1:      hsla(  0,   0%,  80%, 0.9  );\n",
       "  --border-color2:      hsla(  0,   0%,  70%, 0.9  );\n",
       "  --border-color3:      hsla(  0,   0%,  80%, 0.8  );\n",
       "  --border-color4:      hsla(  0,   0%,  60%, 0.9  );\n",
       "\t--letter-box-border:  hsla(  0,   0%,  80%, 0.5  );\n",
       "  --border-width-nul:   2px;\n",
       "  --border-width0:      2px;\n",
       "  --border-width1:      3px;\n",
       "  --border-width2:      4px;\n",
       "  --border-width3:      6px;\n",
       "  --border-width4:      5px;\n",
       "  --border-width-plain: 2px;\n",
       "}\n",
       ".hl {\n",
       "  background-color: var(--hl-strong);\n",
       "}\n",
       "span.hl {\n",
       "\tbackground-color: var(--hl-strong);\n",
       "\tborder-width: 0;\n",
       "\tborder-radius: 2px;\n",
       "\tborder-style: solid;\n",
       "}\n",
       "div.contnr.hl,div.lbl.hl {\n",
       "  background-color: var(--hl-strong);\n",
       "}\n",
       "div.contnr.hl {\n",
       "  border-color: var(--hl-rim) ! important;\n",
       "\tborder-width: 4px ! important;\n",
       "}\n",
       "\n",
       "span.hlbx {\n",
       "\tborder-color: var(--hl-rim);\n",
       "\tborder-width: 4px ! important;\n",
       "\tborder-style: solid;\n",
       "\tborder-radius: 6px;\n",
       "  padding: 4px;\n",
       "  margin: 4px;\n",
       "}\n",
       ".ehl {\n",
       "  background-color: var(--ehl-strong);\n",
       "}\n",
       "\n",
       ":root {\n",
       "\t--hl-strong:        hsla( 60, 100%,  70%, 0.9  );\n",
       "\t--hl-rim:           hsla( 55,  80%,  50%, 1.0  );\n",
       "\t--ehl-strong:       hsla(240, 100%,  70%, 0.9  );\n",
       "}\n",
       "</style>"
      ],
      "text/plain": [
       "<IPython.core.display.HTML object>"
      ]
     },
     "metadata": {},
     "output_type": "display_data"
    },
    {
     "data": {
      "text/html": [
       "\n",
       "<script>\n",
       "globalThis.copyChar = (el, c) => {\n",
       "    for (const el of document.getElementsByClassName('ccon')) {\n",
       "        el.className = 'ccoff'\n",
       "    }\n",
       "    el.className = 'ccon'\n",
       "    navigator.clipboard.writeText(String.fromCharCode(c))\n",
       "}\n",
       "</script>\n"
      ],
      "text/plain": [
       "<IPython.core.display.HTML object>"
      ]
     },
     "metadata": {},
     "output_type": "display_data"
    },
    {
     "data": {
      "text/markdown": [
       "**Locating corpus resources ...**"
      ],
      "text/plain": [
       "<IPython.core.display.Markdown object>"
      ]
     },
     "metadata": {},
     "output_type": "display_data"
    },
    {
     "data": {
      "text/html": [
       "<b title=\"local release\">app:</b> <span title=\"rv1.8=#gd905e3fb6e80d0fa537600337614adc2af157309 offline under C:/Users/tonyj/text-fabric-data/github\">~/text-fabric-data/github/etcbc/bhsa/app</span>"
      ],
      "text/plain": [
       "<IPython.core.display.HTML object>"
      ]
     },
     "metadata": {},
     "output_type": "display_data"
    },
    {
     "data": {
      "text/html": [
       "<b title=\"local release\">data:</b> <span title=\"rv1.8=#gd905e3fb6e80d0fa537600337614adc2af157309 offline under C:/Users/tonyj/text-fabric-data/github\">~/text-fabric-data/github/etcbc/bhsa/tf/2021</span>"
      ],
      "text/plain": [
       "<IPython.core.display.HTML object>"
      ]
     },
     "metadata": {},
     "output_type": "display_data"
    },
    {
     "data": {
      "text/html": [
       "<b title=\"local commit\">data:</b> <span title=\"#79c84ec8b922c7d9632449b2d3a41324294cea03 offline under C:/Users/tonyj/text-fabric-data/github\">~/text-fabric-data/github/tonyjurg/BHSaddons/tf/2021</span>"
      ],
      "text/plain": [
       "<IPython.core.display.HTML object>"
      ]
     },
     "metadata": {},
     "output_type": "display_data"
    },
    {
     "data": {
      "text/html": [
       "<b title=\"local release\">data:</b> <span title=\"rv2.1=#gaba4367b49750089e4e4122415a77cac43bd97bc offline under C:/Users/tonyj/text-fabric-data/github\">~/text-fabric-data/github/etcbc/phono/tf/2021</span>"
      ],
      "text/plain": [
       "<IPython.core.display.HTML object>"
      ]
     },
     "metadata": {},
     "output_type": "display_data"
    },
    {
     "data": {
      "text/html": [
       "<b title=\"local release\">data:</b> <span title=\"rv2.1=#f45f6cc3c4f933dba6e649f49cdb14a40dcf333f offline under C:/Users/tonyj/text-fabric-data/github\">~/text-fabric-data/github/etcbc/parallels/tf/2021</span>"
      ],
      "text/plain": [
       "<IPython.core.display.HTML object>"
      ]
     },
     "metadata": {},
     "output_type": "display_data"
    },
    {
     "data": {
      "text/html": [
       "\n",
       "            <b>TF:</b> <a target=\"_blank\" href=\"https://annotation.github.io/text-fabric/tf/cheatsheet.html\" title=\"text-fabric api\">TF API 12.6.2</a>, <a target=\"_blank\" href=\"https://github.com/etcbc/bhsa/blob/master/app\" title=\"etcbc/bhsa app\">etcbc/bhsa/app  v3</a>, <a target=\"_blank\" href=\"https://annotation.github.io/text-fabric/tf/about/searchusage.html\" title=\"Search Templates Introduction and Reference\">Search Reference</a><br>\n",
       "            <b>Data:</b> <a target=\"_blank\" href=\"https://etcbc.github.io/bhsa/\" title=\"provenance of BHSA = Biblia Hebraica Stuttgartensia Amstelodamensis\">etcbc - bhsa 2021</a>, <a target=\"_blank\" href=\"https://annotation.github.io/text-fabric/tf/writing/hebrew.html\" title=\"How TF features represent text\">Character table</a>, <a target=\"_blank\" href=\"https://etcbc.github.io/bhsa/features/0_home\" title=\"etcbc - bhsa feature documentation\">Feature docs</a><br>\n",
       "            <details class=\"nodeinfo\"><summary><b>Node types</b></summary>\n",
       "<table class=\"nodeinfo\">\n",
       "    <tr>\n",
       "        <th>Name</th>\n",
       "        <th># of nodes</th>\n",
       "        <th># slots / node</th>\n",
       "        <th>% coverage</th>\n",
       "    </tr>\n",
       "\n",
       "<tr>\n",
       "    <th>book</th>\n",
       "    <td>39</td>\n",
       "    <td>10938.21</td>\n",
       "    <td><b>100</b></td>\n",
       "</tr>\n",
       "\n",
       "<tr>\n",
       "    <th>chapter</th>\n",
       "    <td>929</td>\n",
       "    <td>459.19</td>\n",
       "    <td><b>100</b></td>\n",
       "</tr>\n",
       "\n",
       "<tr>\n",
       "    <th>lex</th>\n",
       "    <td>9230</td>\n",
       "    <td>46.22</td>\n",
       "    <td><b>100</b></td>\n",
       "</tr>\n",
       "\n",
       "<tr>\n",
       "    <th>verse</th>\n",
       "    <td>23213</td>\n",
       "    <td>18.38</td>\n",
       "    <td><b>100</b></td>\n",
       "</tr>\n",
       "\n",
       "<tr>\n",
       "    <th>half_verse</th>\n",
       "    <td>45179</td>\n",
       "    <td>9.44</td>\n",
       "    <td><b>100</b></td>\n",
       "</tr>\n",
       "\n",
       "<tr>\n",
       "    <th>sentence</th>\n",
       "    <td>63717</td>\n",
       "    <td>6.70</td>\n",
       "    <td><b>100</b></td>\n",
       "</tr>\n",
       "\n",
       "<tr>\n",
       "    <th>sentence_atom</th>\n",
       "    <td>64514</td>\n",
       "    <td>6.61</td>\n",
       "    <td><b>100</b></td>\n",
       "</tr>\n",
       "\n",
       "<tr>\n",
       "    <th>clause</th>\n",
       "    <td>88131</td>\n",
       "    <td>4.84</td>\n",
       "    <td><b>100</b></td>\n",
       "</tr>\n",
       "\n",
       "<tr>\n",
       "    <th>clause_atom</th>\n",
       "    <td>90704</td>\n",
       "    <td>4.70</td>\n",
       "    <td><b>100</b></td>\n",
       "</tr>\n",
       "\n",
       "<tr>\n",
       "    <th>phrase</th>\n",
       "    <td>253203</td>\n",
       "    <td>1.68</td>\n",
       "    <td><b>100</b></td>\n",
       "</tr>\n",
       "\n",
       "<tr>\n",
       "    <th>phrase_atom</th>\n",
       "    <td>267532</td>\n",
       "    <td>1.59</td>\n",
       "    <td><b>100</b></td>\n",
       "</tr>\n",
       "\n",
       "<tr>\n",
       "    <th>subphrase</th>\n",
       "    <td>113850</td>\n",
       "    <td>1.42</td>\n",
       "    <td>38</td>\n",
       "</tr>\n",
       "\n",
       "<tr>\n",
       "    <th><i>word</i></th>\n",
       "    <td>426590</td>\n",
       "    <td>1.00</td>\n",
       "    <td><b>100</b></td>\n",
       "</tr>\n",
       "</table></details>\n",
       "            <b>Sets:</b> no custom sets<br>\n",
       "            <b>Features:</b><br>\n",
       "<details><summary><b>Parallel Passages</b></summary>\n",
       "    <div class=\"fcorpus\">\n",
       "\n",
       "<div class=\"frow\">\n",
       "    <div class=\"fnamecat edge\">\n",
       "<a target=\"_blank\" href=\"https://nbviewer.jupyter.org/github/etcbc/parallels/blob/master/programs/parallels.ipynb\" title=\"~/text-fabric-data/github/etcbc/parallels/tf/2021/crossref.tf\">crossref</a>\n",
       "</div>\n",
       "<div class=\"fmono\">int</div>\n",
       "\n",
       "<span> 🆗 links between similar passages</span>\n",
       "\n",
       "</div>\n",
       "\n",
       "    </div>\n",
       "</details>\n",
       "\n",
       "<details><summary><b>BHSA = Biblia Hebraica Stuttgartensia Amstelodamensis</b></summary>\n",
       "    <div class=\"fcorpus\">\n",
       "\n",
       "<div class=\"frow\">\n",
       "    <div class=\"fnamecat \">\n",
       "<a target=\"_blank\" href=\"https://etcbc.github.io/bhsa/features/book\" title=\"~/text-fabric-data/github/etcbc/bhsa/tf/2021/book.tf\">book</a>\n",
       "</div>\n",
       "<div class=\"fmono\">str</div>\n",
       "\n",
       "<span> ✅ book name in Latin (Genesis; Numeri; Reges1; ...)</span>\n",
       "\n",
       "</div>\n",
       "\n",
       "<div class=\"frow\">\n",
       "    <div class=\"fnamecat \">\n",
       "<a target=\"_blank\" href=\"https://etcbc.github.io/bhsa/features/book@ll\" title=\"~/text-fabric-data/github/etcbc/bhsa/tf/2021/book@am.tf\">book@ll</a>\n",
       "</div>\n",
       "<div class=\"fmono\">str</div>\n",
       "\n",
       "<span> ✅ book name in amharic (ኣማርኛ)</span>\n",
       "\n",
       "</div>\n",
       "\n",
       "<div class=\"frow\">\n",
       "    <div class=\"fnamecat \">\n",
       "<a target=\"_blank\" href=\"https://etcbc.github.io/bhsa/features/chapter\" title=\"~/text-fabric-data/github/etcbc/bhsa/tf/2021/chapter.tf\">chapter</a>\n",
       "</div>\n",
       "<div class=\"fmono\">int</div>\n",
       "\n",
       "<span> ✅ chapter number (1; 2; 3; ...)</span>\n",
       "\n",
       "</div>\n",
       "\n",
       "<div class=\"frow\">\n",
       "    <div class=\"fnamecat \">\n",
       "<a target=\"_blank\" href=\"https://etcbc.github.io/bhsa/features/code\" title=\"~/text-fabric-data/github/etcbc/bhsa/tf/2021/code.tf\">code</a>\n",
       "</div>\n",
       "<div class=\"fmono\">int</div>\n",
       "\n",
       "<span> ✅ identifier of a clause atom relationship (0; 74; 367; ...)</span>\n",
       "\n",
       "</div>\n",
       "\n",
       "<div class=\"frow\">\n",
       "    <div class=\"fnamecat \">\n",
       "<a target=\"_blank\" href=\"https://etcbc.github.io/bhsa/features/det\" title=\"~/text-fabric-data/github/etcbc/bhsa/tf/2021/det.tf\">det</a>\n",
       "</div>\n",
       "<div class=\"fmono\">str</div>\n",
       "\n",
       "<span> ✅ determinedness of phrase(atom) (det; und; NA.)</span>\n",
       "\n",
       "</div>\n",
       "\n",
       "<div class=\"frow\">\n",
       "    <div class=\"fnamecat \">\n",
       "<a target=\"_blank\" href=\"https://etcbc.github.io/bhsa/features/domain\" title=\"~/text-fabric-data/github/etcbc/bhsa/tf/2021/domain.tf\">domain</a>\n",
       "</div>\n",
       "<div class=\"fmono\">str</div>\n",
       "\n",
       "<span> ✅ text type of clause (? (Unknown); N (narrative); D (discursive); Q (Quotation).)</span>\n",
       "\n",
       "</div>\n",
       "\n",
       "<div class=\"frow\">\n",
       "    <div class=\"fnamecat \">\n",
       "<a target=\"_blank\" href=\"https://etcbc.github.io/bhsa/features/freq_lex\" title=\"~/text-fabric-data/github/etcbc/bhsa/tf/2021/freq_lex.tf\">freq_lex</a>\n",
       "</div>\n",
       "<div class=\"fmono\">int</div>\n",
       "\n",
       "<span> ✅ frequency of lexemes</span>\n",
       "\n",
       "</div>\n",
       "\n",
       "<div class=\"frow\">\n",
       "    <div class=\"fnamecat \">\n",
       "<a target=\"_blank\" href=\"https://etcbc.github.io/bhsa/features/function\" title=\"~/text-fabric-data/github/etcbc/bhsa/tf/2021/function.tf\">function</a>\n",
       "</div>\n",
       "<div class=\"fmono\">str</div>\n",
       "\n",
       "<span> ✅ syntactic function of phrase (Cmpl; Objc; Pred; ...)</span>\n",
       "\n",
       "</div>\n",
       "\n",
       "<div class=\"frow\">\n",
       "    <div class=\"fnamecat \">\n",
       "<a target=\"_blank\" href=\"https://etcbc.github.io/bhsa/features/g_cons\" title=\"~/text-fabric-data/github/etcbc/bhsa/tf/2021/g_cons.tf\">g_cons</a>\n",
       "</div>\n",
       "<div class=\"fmono\">str</div>\n",
       "\n",
       "<span> ✅ word consonantal-transliterated (B R>CJT BR> >LHJM ...)</span>\n",
       "\n",
       "</div>\n",
       "\n",
       "<div class=\"frow\">\n",
       "    <div class=\"fnamecat \">\n",
       "<a target=\"_blank\" href=\"https://etcbc.github.io/bhsa/features/g_cons_utf8\" title=\"~/text-fabric-data/github/etcbc/bhsa/tf/2021/g_cons_utf8.tf\">g_cons_utf8</a>\n",
       "</div>\n",
       "<div class=\"fmono\">str</div>\n",
       "\n",
       "<span> ✅ word consonantal-Hebrew (ב ראשׁית ברא אלהים)</span>\n",
       "\n",
       "</div>\n",
       "\n",
       "<div class=\"frow\">\n",
       "    <div class=\"fnamecat \">\n",
       "<a target=\"_blank\" href=\"https://etcbc.github.io/bhsa/features/g_lex\" title=\"~/text-fabric-data/github/etcbc/bhsa/tf/2021/g_lex.tf\">g_lex</a>\n",
       "</div>\n",
       "<div class=\"fmono\">str</div>\n",
       "\n",
       "<span> ✅ lexeme pointed-transliterated (B.:- R;>CIJT B.@R@> >:ELOH ...)</span>\n",
       "\n",
       "</div>\n",
       "\n",
       "<div class=\"frow\">\n",
       "    <div class=\"fnamecat \">\n",
       "<a target=\"_blank\" href=\"https://etcbc.github.io/bhsa/features/g_lex_utf8\" title=\"~/text-fabric-data/github/etcbc/bhsa/tf/2021/g_lex_utf8.tf\">g_lex_utf8</a>\n",
       "</div>\n",
       "<div class=\"fmono\">str</div>\n",
       "\n",
       "<span> ✅ lexeme pointed-Hebrew (בְּ רֵאשִׁית בָּרָא אֱלֹה)</span>\n",
       "\n",
       "</div>\n",
       "\n",
       "<div class=\"frow\">\n",
       "    <div class=\"fnamecat \">\n",
       "<a target=\"_blank\" href=\"https://etcbc.github.io/bhsa/features/g_word\" title=\"~/text-fabric-data/github/etcbc/bhsa/tf/2021/g_word.tf\">g_word</a>\n",
       "</div>\n",
       "<div class=\"fmono\">str</div>\n",
       "\n",
       "<span> ✅ word pointed-transliterated (B.:- R;>CI73JT B.@R@74> >:ELOHI92JM)</span>\n",
       "\n",
       "</div>\n",
       "\n",
       "<div class=\"frow\">\n",
       "    <div class=\"fnamecat \">\n",
       "<a target=\"_blank\" href=\"https://etcbc.github.io/bhsa/features/g_word_utf8\" title=\"~/text-fabric-data/github/etcbc/bhsa/tf/2021/g_word_utf8.tf\">g_word_utf8</a>\n",
       "</div>\n",
       "<div class=\"fmono\">str</div>\n",
       "\n",
       "<span> ✅ word pointed-Hebrew (בְּ רֵאשִׁ֖ית בָּרָ֣א אֱלֹהִ֑ים)</span>\n",
       "\n",
       "</div>\n",
       "\n",
       "<div class=\"frow\">\n",
       "    <div class=\"fnamecat \">\n",
       "<a target=\"_blank\" href=\"https://etcbc.github.io/bhsa/features/gloss\" title=\"~/text-fabric-data/github/etcbc/bhsa/tf/2021/gloss.tf\">gloss</a>\n",
       "</div>\n",
       "<div class=\"fmono\">str</div>\n",
       "\n",
       "<span> 🆗 english translation of lexeme (beginning create god(s))</span>\n",
       "\n",
       "</div>\n",
       "\n",
       "<div class=\"frow\">\n",
       "    <div class=\"fnamecat \">\n",
       "<a target=\"_blank\" href=\"https://etcbc.github.io/bhsa/features/gn\" title=\"~/text-fabric-data/github/etcbc/bhsa/tf/2021/gn.tf\">gn</a>\n",
       "</div>\n",
       "<div class=\"fmono\">str</div>\n",
       "\n",
       "<span> ✅ grammatical gender (m; f; NA; unknown.)</span>\n",
       "\n",
       "</div>\n",
       "\n",
       "<div class=\"frow\">\n",
       "    <div class=\"fnamecat \">\n",
       "<a target=\"_blank\" href=\"https://etcbc.github.io/bhsa/features/label\" title=\"~/text-fabric-data/github/etcbc/bhsa/tf/2021/label.tf\">label</a>\n",
       "</div>\n",
       "<div class=\"fmono\">str</div>\n",
       "\n",
       "<span> ✅ (half-)verse label (half verses: A; B; C; verses:  GEN 01,02)</span>\n",
       "\n",
       "</div>\n",
       "\n",
       "<div class=\"frow\">\n",
       "    <div class=\"fnamecat \">\n",
       "<a target=\"_blank\" href=\"https://etcbc.github.io/bhsa/features/language\" title=\"~/text-fabric-data/github/etcbc/bhsa/tf/2021/language.tf\">language</a>\n",
       "</div>\n",
       "<div class=\"fmono\">str</div>\n",
       "\n",
       "<span> ✅ of word or lexeme (Hebrew; Aramaic.)</span>\n",
       "\n",
       "</div>\n",
       "\n",
       "<div class=\"frow\">\n",
       "    <div class=\"fnamecat \">\n",
       "<a target=\"_blank\" href=\"https://etcbc.github.io/bhsa/features/lex\" title=\"~/text-fabric-data/github/etcbc/bhsa/tf/2021/lex.tf\">lex</a>\n",
       "</div>\n",
       "<div class=\"fmono\">str</div>\n",
       "\n",
       "<span> ✅ lexeme consonantal-transliterated (B R>CJT/ BR>[ >LHJM/)</span>\n",
       "\n",
       "</div>\n",
       "\n",
       "<div class=\"frow\">\n",
       "    <div class=\"fnamecat \">\n",
       "<a target=\"_blank\" href=\"https://etcbc.github.io/bhsa/features/lex_utf8\" title=\"~/text-fabric-data/github/etcbc/bhsa/tf/2021/lex_utf8.tf\">lex_utf8</a>\n",
       "</div>\n",
       "<div class=\"fmono\">str</div>\n",
       "\n",
       "<span> ✅ lexeme consonantal-Hebrew (ב ראשׁית֜ ברא אלהים֜)</span>\n",
       "\n",
       "</div>\n",
       "\n",
       "<div class=\"frow\">\n",
       "    <div class=\"fnamecat \">\n",
       "<a target=\"_blank\" href=\"https://etcbc.github.io/bhsa/features/ls\" title=\"~/text-fabric-data/github/etcbc/bhsa/tf/2021/ls.tf\">ls</a>\n",
       "</div>\n",
       "<div class=\"fmono\">str</div>\n",
       "\n",
       "<span> ✅ lexical set, subclassification of part-of-speech (card; ques; mult)</span>\n",
       "\n",
       "</div>\n",
       "\n",
       "<div class=\"frow\">\n",
       "    <div class=\"fnamecat \">\n",
       "<a target=\"_blank\" href=\"https://etcbc.github.io/bhsa/features/nametype\" title=\"~/text-fabric-data/github/etcbc/bhsa/tf/2021/nametype.tf\">nametype</a>\n",
       "</div>\n",
       "<div class=\"fmono\">str</div>\n",
       "\n",
       "<span> ⚠️ named entity type (pers; mens; gens; topo; ppde.)</span>\n",
       "\n",
       "</div>\n",
       "\n",
       "<div class=\"frow\">\n",
       "    <div class=\"fnamecat \">\n",
       "<a target=\"_blank\" href=\"https://etcbc.github.io/bhsa/features/nme\" title=\"~/text-fabric-data/github/etcbc/bhsa/tf/2021/nme.tf\">nme</a>\n",
       "</div>\n",
       "<div class=\"fmono\">str</div>\n",
       "\n",
       "<span> ✅ nominal ending consonantal-transliterated (absent; n/a; JM, ...)</span>\n",
       "\n",
       "</div>\n",
       "\n",
       "<div class=\"frow\">\n",
       "    <div class=\"fnamecat \">\n",
       "<a target=\"_blank\" href=\"https://etcbc.github.io/bhsa/features/nu\" title=\"~/text-fabric-data/github/etcbc/bhsa/tf/2021/nu.tf\">nu</a>\n",
       "</div>\n",
       "<div class=\"fmono\">str</div>\n",
       "\n",
       "<span> ✅ grammatical number (sg; du; pl; NA; unknown.)</span>\n",
       "\n",
       "</div>\n",
       "\n",
       "<div class=\"frow\">\n",
       "    <div class=\"fnamecat \">\n",
       "<a target=\"_blank\" href=\"https://etcbc.github.io/bhsa/features/number\" title=\"~/text-fabric-data/github/etcbc/bhsa/tf/2021/number.tf\">number</a>\n",
       "</div>\n",
       "<div class=\"fmono\">int</div>\n",
       "\n",
       "<span> ✅ sequence number of an object within its context</span>\n",
       "\n",
       "</div>\n",
       "\n",
       "<div class=\"frow\">\n",
       "    <div class=\"fnamecat \">\n",
       "<a target=\"_blank\" href=\"https://etcbc.github.io/bhsa/features/otype\" title=\"~/text-fabric-data/github/etcbc/bhsa/tf/2021/otype.tf\">otype</a>\n",
       "</div>\n",
       "<div class=\"fmono\">str</div>\n",
       "\n",
       "<span> </span>\n",
       "\n",
       "</div>\n",
       "\n",
       "<div class=\"frow\">\n",
       "    <div class=\"fnamecat \">\n",
       "<a target=\"_blank\" href=\"https://etcbc.github.io/bhsa/features/pargr\" title=\"~/text-fabric-data/github/etcbc/bhsa/tf/2021/pargr.tf\">pargr</a>\n",
       "</div>\n",
       "<div class=\"fmono\">str</div>\n",
       "\n",
       "<span> 🆗 hierarchical paragraph number (1; 1.2; 1.2.3.4; ...)</span>\n",
       "\n",
       "</div>\n",
       "\n",
       "<div class=\"frow\">\n",
       "    <div class=\"fnamecat \">\n",
       "<a target=\"_blank\" href=\"https://etcbc.github.io/bhsa/features/pdp\" title=\"~/text-fabric-data/github/etcbc/bhsa/tf/2021/pdp.tf\">pdp</a>\n",
       "</div>\n",
       "<div class=\"fmono\">str</div>\n",
       "\n",
       "<span> ✅ phrase dependent part-of-speech (art; verb; subs; nmpr, ...)</span>\n",
       "\n",
       "</div>\n",
       "\n",
       "<div class=\"frow\">\n",
       "    <div class=\"fnamecat \">\n",
       "<a target=\"_blank\" href=\"https://etcbc.github.io/bhsa/features/pfm\" title=\"~/text-fabric-data/github/etcbc/bhsa/tf/2021/pfm.tf\">pfm</a>\n",
       "</div>\n",
       "<div class=\"fmono\">str</div>\n",
       "\n",
       "<span> ✅ preformative consonantal-transliterated (absent; n/a; J, ...)</span>\n",
       "\n",
       "</div>\n",
       "\n",
       "<div class=\"frow\">\n",
       "    <div class=\"fnamecat \">\n",
       "<a target=\"_blank\" href=\"https://etcbc.github.io/bhsa/features/prs\" title=\"~/text-fabric-data/github/etcbc/bhsa/tf/2021/prs.tf\">prs</a>\n",
       "</div>\n",
       "<div class=\"fmono\">str</div>\n",
       "\n",
       "<span> ✅ pronominal suffix consonantal-transliterated (absent; n/a; W; ...)</span>\n",
       "\n",
       "</div>\n",
       "\n",
       "<div class=\"frow\">\n",
       "    <div class=\"fnamecat \">\n",
       "<a target=\"_blank\" href=\"https://etcbc.github.io/bhsa/features/prs_gn\" title=\"~/text-fabric-data/github/etcbc/bhsa/tf/2021/prs_gn.tf\">prs_gn</a>\n",
       "</div>\n",
       "<div class=\"fmono\">str</div>\n",
       "\n",
       "<span> ✅ pronominal suffix gender (m; f; NA; unknown.)</span>\n",
       "\n",
       "</div>\n",
       "\n",
       "<div class=\"frow\">\n",
       "    <div class=\"fnamecat \">\n",
       "<a target=\"_blank\" href=\"https://etcbc.github.io/bhsa/features/prs_nu\" title=\"~/text-fabric-data/github/etcbc/bhsa/tf/2021/prs_nu.tf\">prs_nu</a>\n",
       "</div>\n",
       "<div class=\"fmono\">str</div>\n",
       "\n",
       "<span> ✅ pronominal suffix number (sg; du; pl; NA; unknown.)</span>\n",
       "\n",
       "</div>\n",
       "\n",
       "<div class=\"frow\">\n",
       "    <div class=\"fnamecat \">\n",
       "<a target=\"_blank\" href=\"https://etcbc.github.io/bhsa/features/prs_ps\" title=\"~/text-fabric-data/github/etcbc/bhsa/tf/2021/prs_ps.tf\">prs_ps</a>\n",
       "</div>\n",
       "<div class=\"fmono\">str</div>\n",
       "\n",
       "<span> ✅ pronominal suffix person (p1; p2; p3; NA; unknown.)</span>\n",
       "\n",
       "</div>\n",
       "\n",
       "<div class=\"frow\">\n",
       "    <div class=\"fnamecat \">\n",
       "<a target=\"_blank\" href=\"https://etcbc.github.io/bhsa/features/ps\" title=\"~/text-fabric-data/github/etcbc/bhsa/tf/2021/ps.tf\">ps</a>\n",
       "</div>\n",
       "<div class=\"fmono\">str</div>\n",
       "\n",
       "<span> ✅ grammatical person (p1; p2; p3; NA; unknown.)</span>\n",
       "\n",
       "</div>\n",
       "\n",
       "<div class=\"frow\">\n",
       "    <div class=\"fnamecat \">\n",
       "<a target=\"_blank\" href=\"https://etcbc.github.io/bhsa/features/qere\" title=\"~/text-fabric-data/github/etcbc/bhsa/tf/2021/qere.tf\">qere</a>\n",
       "</div>\n",
       "<div class=\"fmono\">str</div>\n",
       "\n",
       "<span> ✅ word pointed-transliterated masoretic reading correction</span>\n",
       "\n",
       "</div>\n",
       "\n",
       "<div class=\"frow\">\n",
       "    <div class=\"fnamecat \">\n",
       "<a target=\"_blank\" href=\"https://etcbc.github.io/bhsa/features/qere_trailer\" title=\"~/text-fabric-data/github/etcbc/bhsa/tf/2021/qere_trailer.tf\">qere_trailer</a>\n",
       "</div>\n",
       "<div class=\"fmono\">str</div>\n",
       "\n",
       "<span> ✅ interword material -pointed-transliterated (Masoretic correction)</span>\n",
       "\n",
       "</div>\n",
       "\n",
       "<div class=\"frow\">\n",
       "    <div class=\"fnamecat \">\n",
       "<a target=\"_blank\" href=\"https://etcbc.github.io/bhsa/features/qere_trailer_utf8\" title=\"~/text-fabric-data/github/etcbc/bhsa/tf/2021/qere_trailer_utf8.tf\">qere_trailer_utf8</a>\n",
       "</div>\n",
       "<div class=\"fmono\">str</div>\n",
       "\n",
       "<span> ✅ interword material -pointed-transliterated (Masoretic correction)</span>\n",
       "\n",
       "</div>\n",
       "\n",
       "<div class=\"frow\">\n",
       "    <div class=\"fnamecat \">\n",
       "<a target=\"_blank\" href=\"https://etcbc.github.io/bhsa/features/qere_utf8\" title=\"~/text-fabric-data/github/etcbc/bhsa/tf/2021/qere_utf8.tf\">qere_utf8</a>\n",
       "</div>\n",
       "<div class=\"fmono\">str</div>\n",
       "\n",
       "<span> ✅ word pointed-Hebrew masoretic reading correction</span>\n",
       "\n",
       "</div>\n",
       "\n",
       "<div class=\"frow\">\n",
       "    <div class=\"fnamecat \">\n",
       "<a target=\"_blank\" href=\"https://etcbc.github.io/bhsa/features/rank_lex\" title=\"~/text-fabric-data/github/etcbc/bhsa/tf/2021/rank_lex.tf\">rank_lex</a>\n",
       "</div>\n",
       "<div class=\"fmono\">int</div>\n",
       "\n",
       "<span> ✅ ranking of lexemes based on freqnuecy</span>\n",
       "\n",
       "</div>\n",
       "\n",
       "<div class=\"frow\">\n",
       "    <div class=\"fnamecat \">\n",
       "<a target=\"_blank\" href=\"https://etcbc.github.io/bhsa/features/rela\" title=\"~/text-fabric-data/github/etcbc/bhsa/tf/2021/rela.tf\">rela</a>\n",
       "</div>\n",
       "<div class=\"fmono\">str</div>\n",
       "\n",
       "<span> ✅ linguistic relation between clause/(sub)phrase(atom) (ADJ; MOD; ATR; ...)</span>\n",
       "\n",
       "</div>\n",
       "\n",
       "<div class=\"frow\">\n",
       "    <div class=\"fnamecat \">\n",
       "<a target=\"_blank\" href=\"https://etcbc.github.io/bhsa/features/sp\" title=\"~/text-fabric-data/github/etcbc/bhsa/tf/2021/sp.tf\">sp</a>\n",
       "</div>\n",
       "<div class=\"fmono\">str</div>\n",
       "\n",
       "<span> ✅ part-of-speech (art; verb; subs; nmpr, ...)</span>\n",
       "\n",
       "</div>\n",
       "\n",
       "<div class=\"frow\">\n",
       "    <div class=\"fnamecat \">\n",
       "<a target=\"_blank\" href=\"https://etcbc.github.io/bhsa/features/st\" title=\"~/text-fabric-data/github/etcbc/bhsa/tf/2021/st.tf\">st</a>\n",
       "</div>\n",
       "<div class=\"fmono\">str</div>\n",
       "\n",
       "<span> ✅ state of a noun (a (absolute); c (construct); e (emphatic).)</span>\n",
       "\n",
       "</div>\n",
       "\n",
       "<div class=\"frow\">\n",
       "    <div class=\"fnamecat \">\n",
       "<a target=\"_blank\" href=\"https://etcbc.github.io/bhsa/features/tab\" title=\"~/text-fabric-data/github/etcbc/bhsa/tf/2021/tab.tf\">tab</a>\n",
       "</div>\n",
       "<div class=\"fmono\">int</div>\n",
       "\n",
       "<span> ✅ clause atom: its level in the linguistic embedding</span>\n",
       "\n",
       "</div>\n",
       "\n",
       "<div class=\"frow\">\n",
       "    <div class=\"fnamecat \">\n",
       "<a target=\"_blank\" href=\"https://etcbc.github.io/bhsa/features/trailer\" title=\"~/text-fabric-data/github/etcbc/bhsa/tf/2021/trailer.tf\">trailer</a>\n",
       "</div>\n",
       "<div class=\"fmono\">str</div>\n",
       "\n",
       "<span> ✅ interword material pointed-transliterated (& 00 05 00_P ...)</span>\n",
       "\n",
       "</div>\n",
       "\n",
       "<div class=\"frow\">\n",
       "    <div class=\"fnamecat \">\n",
       "<a target=\"_blank\" href=\"https://etcbc.github.io/bhsa/features/trailer_utf8\" title=\"~/text-fabric-data/github/etcbc/bhsa/tf/2021/trailer_utf8.tf\">trailer_utf8</a>\n",
       "</div>\n",
       "<div class=\"fmono\">str</div>\n",
       "\n",
       "<span> ✅ interword material pointed-Hebrew (־ ׃)</span>\n",
       "\n",
       "</div>\n",
       "\n",
       "<div class=\"frow\">\n",
       "    <div class=\"fnamecat \">\n",
       "<a target=\"_blank\" href=\"https://etcbc.github.io/bhsa/features/txt\" title=\"~/text-fabric-data/github/etcbc/bhsa/tf/2021/txt.tf\">txt</a>\n",
       "</div>\n",
       "<div class=\"fmono\">str</div>\n",
       "\n",
       "<span> ✅ text type of clause and surrounding (repetion of ? N D Q as in feature domain)</span>\n",
       "\n",
       "</div>\n",
       "\n",
       "<div class=\"frow\">\n",
       "    <div class=\"fnamecat \">\n",
       "<a target=\"_blank\" href=\"https://etcbc.github.io/bhsa/features/typ\" title=\"~/text-fabric-data/github/etcbc/bhsa/tf/2021/typ.tf\">typ</a>\n",
       "</div>\n",
       "<div class=\"fmono\">str</div>\n",
       "\n",
       "<span> ✅ clause/phrase(atom) type (VP; NP; Ellp; Ptcp; WayX)</span>\n",
       "\n",
       "</div>\n",
       "\n",
       "<div class=\"frow\">\n",
       "    <div class=\"fnamecat \">\n",
       "<a target=\"_blank\" href=\"https://etcbc.github.io/bhsa/features/uvf\" title=\"~/text-fabric-data/github/etcbc/bhsa/tf/2021/uvf.tf\">uvf</a>\n",
       "</div>\n",
       "<div class=\"fmono\">str</div>\n",
       "\n",
       "<span> ✅ univalent final consonant consonantal-transliterated (absent; N; J; ...)</span>\n",
       "\n",
       "</div>\n",
       "\n",
       "<div class=\"frow\">\n",
       "    <div class=\"fnamecat \">\n",
       "<a target=\"_blank\" href=\"https://etcbc.github.io/bhsa/features/vbe\" title=\"~/text-fabric-data/github/etcbc/bhsa/tf/2021/vbe.tf\">vbe</a>\n",
       "</div>\n",
       "<div class=\"fmono\">str</div>\n",
       "\n",
       "<span> ✅ verbal ending consonantal-transliterated (n/a; W; ...)</span>\n",
       "\n",
       "</div>\n",
       "\n",
       "<div class=\"frow\">\n",
       "    <div class=\"fnamecat \">\n",
       "<a target=\"_blank\" href=\"https://etcbc.github.io/bhsa/features/vbs\" title=\"~/text-fabric-data/github/etcbc/bhsa/tf/2021/vbs.tf\">vbs</a>\n",
       "</div>\n",
       "<div class=\"fmono\">str</div>\n",
       "\n",
       "<span> ✅ root formation consonantal-transliterated (absent; n/a; H; ...)</span>\n",
       "\n",
       "</div>\n",
       "\n",
       "<div class=\"frow\">\n",
       "    <div class=\"fnamecat \">\n",
       "<a target=\"_blank\" href=\"https://etcbc.github.io/bhsa/features/verse\" title=\"~/text-fabric-data/github/etcbc/bhsa/tf/2021/verse.tf\">verse</a>\n",
       "</div>\n",
       "<div class=\"fmono\">int</div>\n",
       "\n",
       "<span> ✅ verse number</span>\n",
       "\n",
       "</div>\n",
       "\n",
       "<div class=\"frow\">\n",
       "    <div class=\"fnamecat \">\n",
       "<a target=\"_blank\" href=\"https://etcbc.github.io/bhsa/features/voc_lex\" title=\"~/text-fabric-data/github/etcbc/bhsa/tf/2021/voc_lex.tf\">voc_lex</a>\n",
       "</div>\n",
       "<div class=\"fmono\">str</div>\n",
       "\n",
       "<span> ✅ vocalized lexeme pointed-transliterated (B.: R;>CIJT BR> >:ELOHIJM)</span>\n",
       "\n",
       "</div>\n",
       "\n",
       "<div class=\"frow\">\n",
       "    <div class=\"fnamecat \">\n",
       "<a target=\"_blank\" href=\"https://etcbc.github.io/bhsa/features/voc_lex_utf8\" title=\"~/text-fabric-data/github/etcbc/bhsa/tf/2021/voc_lex_utf8.tf\">voc_lex_utf8</a>\n",
       "</div>\n",
       "<div class=\"fmono\">str</div>\n",
       "\n",
       "<span> ✅ vocalized lexeme pointed-Hebrew (בְּ רֵאשִׁית ברא אֱלֹהִים)</span>\n",
       "\n",
       "</div>\n",
       "\n",
       "<div class=\"frow\">\n",
       "    <div class=\"fnamecat \">\n",
       "<a target=\"_blank\" href=\"https://etcbc.github.io/bhsa/features/vs\" title=\"~/text-fabric-data/github/etcbc/bhsa/tf/2021/vs.tf\">vs</a>\n",
       "</div>\n",
       "<div class=\"fmono\">str</div>\n",
       "\n",
       "<span> ✅ verbal stem (qal; piel; hif; apel; pael)</span>\n",
       "\n",
       "</div>\n",
       "\n",
       "<div class=\"frow\">\n",
       "    <div class=\"fnamecat \">\n",
       "<a target=\"_blank\" href=\"https://etcbc.github.io/bhsa/features/vt\" title=\"~/text-fabric-data/github/etcbc/bhsa/tf/2021/vt.tf\">vt</a>\n",
       "</div>\n",
       "<div class=\"fmono\">str</div>\n",
       "\n",
       "<span> ✅ verbal tense (perf; impv; wayq; infc)</span>\n",
       "\n",
       "</div>\n",
       "\n",
       "<div class=\"frow\">\n",
       "    <div class=\"fnamecat edge\">\n",
       "<a target=\"_blank\" href=\"https://etcbc.github.io/bhsa/features/mother\" title=\"~/text-fabric-data/github/etcbc/bhsa/tf/2021/mother.tf\">mother</a>\n",
       "</div>\n",
       "<div class=\"fmono\">none</div>\n",
       "\n",
       "<span> ✅ linguistic dependency between textual objects</span>\n",
       "\n",
       "</div>\n",
       "\n",
       "<div class=\"frow\">\n",
       "    <div class=\"fnamecat edge\">\n",
       "<a target=\"_blank\" href=\"https://etcbc.github.io/bhsa/features/oslots\" title=\"~/text-fabric-data/github/etcbc/bhsa/tf/2021/oslots.tf\">oslots</a>\n",
       "</div>\n",
       "<div class=\"fmono\">none</div>\n",
       "\n",
       "<span> </span>\n",
       "\n",
       "</div>\n",
       "\n",
       "    </div>\n",
       "</details>\n",
       "\n",
       "<details><summary><b>Phonetic Transcriptions</b></summary>\n",
       "    <div class=\"fcorpus\">\n",
       "\n",
       "<div class=\"frow\">\n",
       "    <div class=\"fnamecat \">\n",
       "<a target=\"_blank\" href=\"https://nbviewer.jupyter.org/github/etcbc/phono/blob/master/programs/phono.ipynb\" title=\"~/text-fabric-data/github/etcbc/phono/tf/2021/phono.tf\">phono</a>\n",
       "</div>\n",
       "<div class=\"fmono\">str</div>\n",
       "\n",
       "<span> 🆗 phonological transcription (bᵊ rēšˌîṯ bārˈā ʔᵉlōhˈîm)</span>\n",
       "\n",
       "</div>\n",
       "\n",
       "<div class=\"frow\">\n",
       "    <div class=\"fnamecat \">\n",
       "<a target=\"_blank\" href=\"https://nbviewer.jupyter.org/github/etcbc/phono/blob/master/programs/phono.ipynb\" title=\"~/text-fabric-data/github/etcbc/phono/tf/2021/phono_trailer.tf\">phono_trailer</a>\n",
       "</div>\n",
       "<div class=\"fmono\">str</div>\n",
       "\n",
       "<span> 🆗 interword material in phonological transcription</span>\n",
       "\n",
       "</div>\n",
       "\n",
       "    </div>\n",
       "</details>\n",
       "\n",
       "<details><summary><b><github>tonyjurg/BHSaddons/tf</b></summary>\n",
       "    <div class=\"fcorpus\">\n",
       "\n",
       "<div class=\"frow\">\n",
       "    <div class=\"fnamecat \">\n",
       "<a target=\"_blank\" href=\"https://github.com/tonyjurg/BHSaddons/tree/master/tf\" title=\"~/text-fabric-data/github/tonyjurg/BHSaddons/tf/2021/aliyotnum.tf\">aliyotnum</a>\n",
       "</div>\n",
       "<div class=\"fmono\">str</div>\n",
       "\n",
       "<span> The sequence number of the aliyot within the parasha</span>\n",
       "\n",
       "</div>\n",
       "\n",
       "<div class=\"frow\">\n",
       "    <div class=\"fnamecat \">\n",
       "<a target=\"_blank\" href=\"https://github.com/tonyjurg/BHSaddons/tree/master/tf\" title=\"~/text-fabric-data/github/tonyjurg/BHSaddons/tf/2021/maftir.tf\">maftir</a>\n",
       "</div>\n",
       "<div class=\"fmono\">str</div>\n",
       "\n",
       "<span> Set to 1 if this verse is part of a maftir</span>\n",
       "\n",
       "</div>\n",
       "\n",
       "<div class=\"frow\">\n",
       "    <div class=\"fnamecat \">\n",
       "<a target=\"_blank\" href=\"https://github.com/tonyjurg/BHSaddons/tree/master/tf\" title=\"~/text-fabric-data/github/tonyjurg/BHSaddons/tf/2021/parashahebr.tf\">parashahebr</a>\n",
       "</div>\n",
       "<div class=\"fmono\">str</div>\n",
       "\n",
       "<span> The name of the parasha in Hebrew</span>\n",
       "\n",
       "</div>\n",
       "\n",
       "<div class=\"frow\">\n",
       "    <div class=\"fnamecat \">\n",
       "<a target=\"_blank\" href=\"https://github.com/tonyjurg/BHSaddons/tree/master/tf\" title=\"~/text-fabric-data/github/tonyjurg/BHSaddons/tf/2021/parashanum.tf\">parashanum</a>\n",
       "</div>\n",
       "<div class=\"fmono\">int</div>\n",
       "\n",
       "<span> The sequence number of the parasha</span>\n",
       "\n",
       "</div>\n",
       "\n",
       "<div class=\"frow\">\n",
       "    <div class=\"fnamecat \">\n",
       "<a target=\"_blank\" href=\"https://github.com/tonyjurg/BHSaddons/tree/master/tf\" title=\"~/text-fabric-data/github/tonyjurg/BHSaddons/tf/2021/parashatrans.tf\">parashatrans</a>\n",
       "</div>\n",
       "<div class=\"fmono\">str</div>\n",
       "\n",
       "<span> Transliteration of the Hebrew parasha name</span>\n",
       "\n",
       "</div>\n",
       "\n",
       "<div class=\"frow\">\n",
       "    <div class=\"fnamecat \">\n",
       "<a target=\"_blank\" href=\"https://github.com/tonyjurg/BHSaddons/tree/master/tf\" title=\"~/text-fabric-data/github/tonyjurg/BHSaddons/tf/2021/parashaverse.tf\">parashaverse</a>\n",
       "</div>\n",
       "<div class=\"fmono\">str</div>\n",
       "\n",
       "<span> The sequence number of the verse within the parasha</span>\n",
       "\n",
       "</div>\n",
       "\n",
       "<div class=\"frow\">\n",
       "    <div class=\"fnamecat \">\n",
       "<a target=\"_blank\" href=\"https://github.com/tonyjurg/BHSaddons/tree/master/tf\" title=\"~/text-fabric-data/github/tonyjurg/BHSaddons/tf/2021/wordboundary.tf\">wordboundary</a>\n",
       "</div>\n",
       "<div class=\"fmono\">str</div>\n",
       "\n",
       "<span> indicates wordboudaries (spaces OR maqaf)</span>\n",
       "\n",
       "</div>\n",
       "\n",
       "    </div>\n",
       "</details>\n",
       "\n",
       "            <b>Settings:</b><br><details ><summary><b>specified</b></summary><ol><li><b>apiVersion</b>: <code>3</code></li><li><b>appName</b>: <code>etcbc/bhsa</code></li><li><b>appPath</b>: <code>C:/Users/tonyj/text-fabric-data/github/etcbc/bhsa/app</code></li><li><b>commit</b>: <code>gd905e3fb6e80d0fa537600337614adc2af157309</code></li><li><b>css</b>: <code>''</code></li><li><details><summary><b>dataDisplay</b>:</summary><ul><li><details><summary><b>exampleSectionHtml</b>:</summary><code>&lt;code&gt;Genesis 1:1&lt;/code&gt; (use &lt;a href=\"https://github.com/{org}/{repo}/blob/master/tf/{version}/book%40en.tf\" target=\"_blank\"&gt;English book names&lt;/a&gt;)</code></details></li><li><details><summary><b>excludedFeatures</b>:</summary><ul><li><code>g_uvf_utf8</code></li><li><code>g_vbs</code></li><li><code>kq_hybrid</code></li><li><code>languageISO</code></li><li><code>g_nme</code></li><li><code>lex0</code></li><li><code>is_root</code></li><li><code>g_vbs_utf8</code></li><li><code>g_uvf</code></li><li><code>dist</code></li><li><code>root</code></li><li><code>suffix_person</code></li><li><code>g_vbe</code></li><li><code>dist_unit</code></li><li><code>suffix_number</code></li><li><code>distributional_parent</code></li><li><code>kq_hybrid_utf8</code></li><li><code>crossrefSET</code></li><li><code>instruction</code></li><li><code>g_prs</code></li><li><code>lexeme_count</code></li><li><code>rank_occ</code></li><li><code>g_pfm_utf8</code></li><li><code>freq_occ</code></li><li><code>crossrefLCS</code></li><li><code>functional_parent</code></li><li><code>g_pfm</code></li><li><code>g_nme_utf8</code></li><li><code>g_vbe_utf8</code></li><li><code>kind</code></li><li><code>g_prs_utf8</code></li><li><code>suffix_gender</code></li><li><code>mother_object_type</code></li></ul></details></li><li><details><summary><b>noneValues</b>:</summary><ul><li><code>none</code></li><li><code>unknown</code></li><li><i>no value</i></li><li><code>NA</code></li></ul></details></li></ul></details></li><li><details><summary><b>docs</b>:</summary><ul><li><b>docBase</b>: <code>{docRoot}/{repo}</code></li><li><b>docExt</b>: <code>''</code></li><li><b>docPage</b>: <code>''</code></li><li><b>docRoot</b>: <code>https://{org}.github.io</code></li><li><b>featurePage</b>: <code>0_home</code></li></ul></details></li><li><b>interfaceDefaults</b>: <code>{}</code></li><li><b>isCompatible</b>: <code>True</code></li><li><b>local</b>: <code>local</code></li><li><b>localDir</b>: <code>C:/Users/tonyj/text-fabric-data/github/etcbc/bhsa/_temp</code></li><li><details><summary><b>provenanceSpec</b>:</summary><ul><li><b>corpus</b>: <code>BHSA = Biblia Hebraica Stuttgartensia Amstelodamensis</code></li><li><b>doi</b>: <code>10.5281/zenodo.1007624</code></li><li><details><summary><b>moduleSpecs</b>:</summary><ul><li><details><summary>:</summary><ul><li><b>backend</b>: <i>no value</i></li><li><b>corpus</b>: <code>Phonetic Transcriptions</code></li><li><details><summary><b>docUrl</b>:</summary><code>https://nbviewer.jupyter.org/github/etcbc/phono/blob/master/programs/phono.ipynb</code></details></li><li><b>doi</b>: <code>10.5281/zenodo.1007636</code></li><li><b>org</b>: <code>etcbc</code></li><li><b>relative</b>: <code>/tf</code></li><li><b>repo</b>: <code>phono</code></li></ul></details></li><li><details><summary>:</summary><ul><li><b>backend</b>: <i>no value</i></li><li><b>corpus</b>: <code>Parallel Passages</code></li><li><details><summary><b>docUrl</b>:</summary><code>https://nbviewer.jupyter.org/github/etcbc/parallels/blob/master/programs/parallels.ipynb</code></details></li><li><b>doi</b>: <code>10.5281/zenodo.1007642</code></li><li><b>org</b>: <code>etcbc</code></li><li><b>relative</b>: <code>/tf</code></li><li><b>repo</b>: <code>parallels</code></li></ul></details></li></ul></details></li><li><b>org</b>: <code>etcbc</code></li><li><b>relative</b>: <code>/tf</code></li><li><b>repo</b>: <code>bhsa</code></li><li><b>version</b>: <code>2021</code></li><li><b>webBase</b>: <code>https://shebanq.ancient-data.org/hebrew</code></li><li><b>webHint</b>: <code>Show this on SHEBANQ</code></li><li><b>webLang</b>: <code>la</code></li><li><b>webLexId</b>: <code>True</code></li><li><details><summary><b>webUrl</b>:</summary><code>{webBase}/text?book=&lt;1&gt;&amp;chapter=&lt;2&gt;&amp;verse=&lt;3&gt;&amp;version={version}&amp;mr=m&amp;qw=q&amp;tp=txt_p&amp;tr=hb&amp;wget=v&amp;qget=v&amp;nget=vt</code></details></li><li><b>webUrlLex</b>: <code>{webBase}/word?version={version}&amp;id=&lt;lid&gt;</code></li></ul></details></li><li><b>release</b>: <code>v1.8</code></li><li><details><summary><b>typeDisplay</b>:</summary><ul><li><details><summary><b>clause</b>:</summary><ul><li><b>label</b>: <code>{typ} {rela}</code></li><li><b>style</b>: <code>''</code></li></ul></details></li><li><details><summary><b>clause_atom</b>:</summary><ul><li><b>hidden</b>: <code>True</code></li><li><b>label</b>: <code>{code}</code></li><li><b>level</b>: <code>1</code></li><li><b>style</b>: <code>''</code></li></ul></details></li><li><details><summary><b>half_verse</b>:</summary><ul><li><b>hidden</b>: <code>True</code></li><li><b>label</b>: <code>{label}</code></li><li><b>style</b>: <code>''</code></li><li><b>verselike</b>: <code>True</code></li></ul></details></li><li><details><summary><b>lex</b>:</summary><ul><li><b>featuresBare</b>: <code>gloss</code></li><li><b>label</b>: <code>{voc_lex_utf8}</code></li><li><b>lexOcc</b>: <code>word</code></li><li><b>style</b>: <code>orig</code></li><li><b>template</b>: <code>{voc_lex_utf8}</code></li></ul></details></li><li><details><summary><b>phrase</b>:</summary><ul><li><b>label</b>: <code>{typ} {function}</code></li><li><b>style</b>: <code>''</code></li></ul></details></li><li><details><summary><b>phrase_atom</b>:</summary><ul><li><b>hidden</b>: <code>True</code></li><li><b>label</b>: <code>{typ} {rela}</code></li><li><b>level</b>: <code>1</code></li><li><b>style</b>: <code>''</code></li></ul></details></li><li><details><summary><b>sentence</b>:</summary><ul><li><b>label</b>: <code>{number}</code></li><li><b>style</b>: <code>''</code></li></ul></details></li><li><details><summary><b>sentence_atom</b>:</summary><ul><li><b>hidden</b>: <code>True</code></li><li><b>label</b>: <code>{number}</code></li><li><b>level</b>: <code>1</code></li><li><b>style</b>: <code>''</code></li></ul></details></li><li><details><summary><b>subphrase</b>:</summary><ul><li><b>hidden</b>: <code>True</code></li><li><b>label</b>: <code>{number}</code></li><li><b>style</b>: <code>''</code></li></ul></details></li><li><details><summary><b>word</b>:</summary><ul><li><b>features</b>: <code>pdp vs vt</code></li><li><b>featuresBare</b>: <code>lex:gloss</code></li></ul></details></li></ul></details></li><li><b>writing</b>: <code>hbo</code></li></ol></details>\n"
      ],
      "text/plain": [
       "<IPython.core.display.HTML object>"
      ]
     },
     "metadata": {},
     "output_type": "display_data"
    },
    {
     "data": {
      "text/html": [
       "<style>tr.tf.ltr, td.tf.ltr, th.tf.ltr { text-align: left ! important;}\n",
       "tr.tf.rtl, td.tf.rtl, th.tf.rtl { text-align: right ! important;}\n",
       "@font-face {\n",
       "  font-family: \"Gentium Plus\";\n",
       "  src: local('Gentium Plus'), local('GentiumPlus'),\n",
       "    url('/browser/static/fonts/GentiumPlus-R.woff') format('woff'),\n",
       "    url('https://github.com/annotation/text-fabric/blob/master/tf/browser/static/fonts/GentiumPlus-R.woff?raw=true') format('woff');\n",
       "}\n",
       "\n",
       "@font-face {\n",
       "  font-family: \"Ezra SIL\";\n",
       "  src: local('Ezra SIL'), local('EzraSIL'),\n",
       "    url('/browser/static/fonts/SILEOT.woff') format('woff'),\n",
       "    url('https://github.com/annotation/text-fabric/blob/master/tf/browser/static/fonts/SILEOT.woff?raw=true') format('woff');\n",
       "}\n",
       "\n",
       "@font-face {\n",
       "  font-family: \"SBL Hebrew\";\n",
       "  src: local('SBL Hebrew'), local('SBLHebrew'),\n",
       "    url('/browser/static/fonts/SBL_Hbrw.woff') format('woff'),\n",
       "    url('https://github.com/annotation/text-fabric/blob/master/tf/browser/static/fonts/SBL_Hbrw.woff?raw=true') format('woff');\n",
       "}\n",
       "\n",
       "@font-face {\n",
       "  font-family: \"Estrangelo Edessa\";\n",
       "  src: local('Estrangelo Edessa'), local('EstrangeloEdessa');\n",
       "    url('/browser/static/fonts/SyrCOMEdessa.woff') format('woff'),\n",
       "    url('https://github.com/annotation/text-fabric/blob/master/tf/browser/static/fonts/SyrCOMEdessa.woff?raw=true') format('woff');\n",
       "}\n",
       "\n",
       "@font-face {\n",
       "  font-family: AmiriQuran;\n",
       "  font-style: normal;\n",
       "  font-weight: 400;\n",
       "  src: local('Amiri Quran'), local('AmiriQuran'),\n",
       "    url('/browser/static/fonts/AmiriQuran.woff') format('woff'),\n",
       "    url('https://github.com/annotation/text-fabric/blob/master/tf/browser/static/fonts/AmiriQuran.woff?raw=true') format('woff');\n",
       "}\n",
       "\n",
       "@font-face {\n",
       "  font-family: AmiriQuranColored;\n",
       "  font-style: normal;\n",
       "  font-weight: 400;\n",
       "  src: local('Amiri Quran Colored'), local('AmiriQuranColored'),\n",
       "    url('/browser/static/fonts/AmiriQuranColored.woff') format('woff'),\n",
       "    url('https://github.com/annotation/text-fabric/blob/master/tf/browser/static/fonts/AmiriQuranColored.woff?raw=true') format('woff');\n",
       "}\n",
       "\n",
       "@font-face {\n",
       "  font-family: \"Santakku\";\n",
       "  src: local('Santakku'),\n",
       "    url('/browser/static/fonts/Santakku.woff') format('woff'),\n",
       "    url('https://github.com/annotation/text-fabric/blob/master/tf/browser/static/fonts/Santakku.woff?raw=true') format('woff');\n",
       "}\n",
       "\n",
       "@font-face {\n",
       "  font-family: \"SantakkuM\";\n",
       "  src: local('SantakkuM'),\n",
       "    url('/browser/static/fonts/SantakkuM.woff') format('woff'),\n",
       "    url('https://github.com/annotation/text-fabric/blob/master/tf/browser/static/fonts/SantakkuM.woff?raw=true') format('woff');\n",
       "}\n",
       "\n",
       "/* bypassing some classical notebook settings */\n",
       "div#notebook {\n",
       "  line-height: unset;\n",
       "}\n",
       "/* neutral text */\n",
       ".txtn,.txtn a:visited,.txtn a:link {\n",
       "    font-family: sans-serif;\n",
       "    font-size: medium;\n",
       "    direction: ltr;\n",
       "    unicode-bidi: embed;\n",
       "    text-decoration: none;\n",
       "    color: var(--text-color);\n",
       "}\n",
       "/* transcription text */\n",
       ".txtt,.txtt a:visited,.txtt a:link {\n",
       "    font-family: monospace;\n",
       "    font-size: medium;\n",
       "    direction: ltr;\n",
       "    unicode-bidi: embed;\n",
       "    text-decoration: none;\n",
       "    color: var(--text-color);\n",
       "}\n",
       "/* source text */\n",
       ".txto,.txto a:visited,.txto a:link {\n",
       "    font-family: serif;\n",
       "    font-size: medium;\n",
       "    direction: ltr;\n",
       "    unicode-bidi: embed;\n",
       "    text-decoration: none;\n",
       "    color: var(--text-color);\n",
       "}\n",
       "/* phonetic text */\n",
       ".txtp,.txtp a:visited,.txtp a:link {\n",
       "    font-family: Gentium, sans-serif;\n",
       "    font-size: medium;\n",
       "    direction: ltr;\n",
       "    unicode-bidi: embed;\n",
       "    text-decoration: none;\n",
       "    color: var(--text-color);\n",
       "}\n",
       "/* original script text */\n",
       ".txtu,.txtu a:visited,.txtu a:link {\n",
       "    font-family: Gentium, sans-serif;\n",
       "    font-size: medium;\n",
       "    text-decoration: none;\n",
       "    color: var(--text-color);\n",
       "}\n",
       "/* hebrew */\n",
       ".txtu.hbo,.lex.hbo {\n",
       "    font-family: \"Ezra SIL\", \"SBL Hebrew\", sans-serif;\n",
       "    font-size: large;\n",
       "    direction: rtl ! important;\n",
       "    unicode-bidi: embed;\n",
       "}\n",
       "/* syriac */\n",
       ".txtu.syc,.lex.syc {\n",
       "    font-family: \"Estrangelo Edessa\", sans-serif;\n",
       "    font-size: medium;\n",
       "    direction: rtl ! important;\n",
       "    unicode-bidi: embed;\n",
       "}\n",
       "/* neo aramaic */\n",
       ".txtu.cld,.lex.cld {\n",
       "    font-family: \"CharisSIL-R\", sans-serif;\n",
       "    font-size: medium;\n",
       "    direction: ltr ! important;\n",
       "    unicode-bidi: embed;\n",
       "}\n",
       "/* standard arabic */\n",
       ".txtu.ara,.lex.ara {\n",
       "    font-family: \"AmiriQuran\", sans-serif;\n",
       "    font-size: large;\n",
       "    direction: rtl ! important;\n",
       "    unicode-bidi: embed;\n",
       "}\n",
       "/* cuneiform */\n",
       ".txtu.akk,.lex.akk {\n",
       "    font-family: Santakku, sans-serif;\n",
       "    font-size: large;\n",
       "    direction: ltr ! important;\n",
       "    unicode-bidi: embed;\n",
       "}\n",
       ".txtu.uga,.lex.uga {\n",
       "    font-family: sans-serif;\n",
       "    /*font-family: Noto Sans Ugaritic, sans-serif;*/\n",
       "    font-size: large;\n",
       "    direction: ltr ! important;\n",
       "    unicode-bidi: embed;\n",
       "}\n",
       "/* greek */\n",
       ".txtu.grc,.lex.grc a:link {\n",
       "    font-family: Gentium, sans-serif;\n",
       "    font-size: medium;\n",
       "    direction: ltr ! important;\n",
       "    unicode-bidi: embed;\n",
       "}\n",
       "a:hover {\n",
       "    text-decoration: underline | important;\n",
       "    color: #0000ff | important;\n",
       "}\n",
       ".ltr {\n",
       "    direction: ltr ! important;\n",
       "    unicode-bidi: embed;\n",
       "}\n",
       ".rtl {\n",
       "    direction: rtl ! important;\n",
       "    unicode-bidi: embed;\n",
       "}\n",
       ".ubd {\n",
       "    unicode-bidi: embed;\n",
       "}\n",
       ".col {\n",
       "   display: inline-block;\n",
       "}\n",
       ".features {\n",
       "    font-family: monospace;\n",
       "    font-size: medium;\n",
       "    font-weight: bold;\n",
       "    color: var(--features);\n",
       "    display: flex;\n",
       "    flex-flow: column nowrap;\n",
       "    justify-content: flex-start;\n",
       "    align-items: flex-start;\n",
       "    align-content: flex-start;\n",
       "    padding: 2px;\n",
       "    margin: 2px;\n",
       "    direction: ltr;\n",
       "    unicode-bidi: embed;\n",
       "    border: var(--meta-width) solid var(--meta-color);\n",
       "    border-radius: var(--meta-width);\n",
       "}\n",
       ".features div,.features span {\n",
       "    padding: 0;\n",
       "    margin: -2px 0;\n",
       "}\n",
       ".features .f {\n",
       "    font-family: sans-serif;\n",
       "    font-size: small;\n",
       "    font-weight: normal;\n",
       "    color: #5555bb;\n",
       "}\n",
       ".features .xft {\n",
       "  color: #000000;\n",
       "  background-color: #eeeeee;\n",
       "  font-size: medium;\n",
       "  margin: 2px 0px;\n",
       "}\n",
       ".features .xft .f {\n",
       "  color: #000000;\n",
       "  background-color: #eeeeee;\n",
       "  font-size: small;\n",
       "  font-weight: normal;\n",
       "}\n",
       ".tfsechead {\n",
       "    font-family: sans-serif;\n",
       "    font-size: small;\n",
       "    font-weight: bold;\n",
       "    color: var(--tfsechead);\n",
       "    unicode-bidi: embed;\n",
       "    text-align: start;\n",
       "}\n",
       ".structure {\n",
       "    font-family: sans-serif;\n",
       "    font-size: small;\n",
       "    font-weight: bold;\n",
       "    color: var(--structure);\n",
       "    unicode-bidi: embed;\n",
       "    text-align: start;\n",
       "}\n",
       ".comments {\n",
       "    display: flex;\n",
       "    justify-content: flex-start;\n",
       "    align-items: flex-start;\n",
       "    align-content: flex-start;\n",
       "    flex-flow: column nowrap;\n",
       "}\n",
       ".nd, a:link.nd {\n",
       "    font-family: sans-serif;\n",
       "    font-size: small;\n",
       "    color: var(--node);\n",
       "    vertical-align: super;\n",
       "    direction: ltr ! important;\n",
       "    unicode-bidi: embed;\n",
       "}\n",
       ".nde, a:link.nde {\n",
       "    font-family: sans-serif;\n",
       "    font-size: small;\n",
       "    color: var(--node);\n",
       "    direction: ltr ! important;\n",
       "    unicode-bidi: embed;\n",
       "}\n",
       ".etf {\n",
       "    font-size: normal;\n",
       "    border-radius: 0.2rem;\n",
       "    border: 1pt solid white;\n",
       "    padding: 0 0.2rem ! important;\n",
       "    margin: 0 0.2rem ! important;\n",
       "}\n",
       ".etfx {\n",
       "    font-size: x-large;\n",
       "}\n",
       ".lex {\n",
       "  color: var(--lex-color);;\n",
       "}\n",
       "#colormapplus, #colormapmin, .ecolormapmin {\n",
       "  font-weight: bold;\n",
       "  border-radius: 0.1rem;\n",
       "  background-color: #eeeeff;\n",
       "  padding: 0 1rem;\n",
       "  margin: 0 1rem;\n",
       "}\n",
       ".clr {\n",
       "  font-style: italic;\n",
       "  font-size: small;\n",
       "}\n",
       ".clmap,.eclmap {\n",
       "  padding: 0;\n",
       "}\n",
       ".children,.children.ltr {\n",
       "    display: flex;\n",
       "    border: 0;\n",
       "    background-color: #ffffff;\n",
       "    justify-content: flex-start;\n",
       "    align-items: flex-start;\n",
       "    align-content: flex-start;\n",
       "}\n",
       ".children.stretch {\n",
       "    align-items: stretch;\n",
       "}\n",
       ".children.hor {\n",
       "    flex-flow: row nowrap;\n",
       "}\n",
       ".children.hor.wrap {\n",
       "    flex-flow: row wrap;\n",
       "}\n",
       ".children.ver {\n",
       "    flex-flow: column nowrap;\n",
       "}\n",
       ".children.ver.wrap {\n",
       "    flex-flow: column wrap;\n",
       "}\n",
       ".contnr {\n",
       "    width: fit-content;\n",
       "    display: flex;\n",
       "    justify-content: flex-start;\n",
       "    align-items: flex-start;\n",
       "    align-content: flex-start;\n",
       "    flex-flow: column nowrap;\n",
       "    background: #ffffff none repeat scroll 0 0;\n",
       "    padding:  10px 2px 2px 2px;\n",
       "    margin: 16px 2px 2px 2px;\n",
       "    border-style: solid;\n",
       "    font-size: small;\n",
       "}\n",
       ".contnr.trm {\n",
       "    background-attachment: local;\n",
       "}\n",
       ".contnr.cnul {\n",
       "    padding:  0;\n",
       "    margin: 0;\n",
       "    border-style: solid;\n",
       "    font-size: xx-small;\n",
       "}\n",
       ".contnr.cnul,.lbl.cnul {\n",
       "    border-color: var(--border-color-nul);\n",
       "    border-width: var(--border-width-nul);\n",
       "    border-radius: var(--border-width-nul);\n",
       "}\n",
       ".contnr.c0,.lbl.c0 {\n",
       "    border-color: var(--border-color0);\n",
       "    border-width: var(--border-width0);\n",
       "    border-radius: var(--border-width0);\n",
       "}\n",
       ".contnr.c1,.lbl.c1 {\n",
       "    border-color: var(--border-color1);\n",
       "    border-width: var(--border-width1);\n",
       "    border-radius: var(--border-width1);\n",
       "}\n",
       ".contnr.c2,.lbl.c2 {\n",
       "    border-color: var(--border-color2);\n",
       "    border-width: var(--border-width2);\n",
       "    border-radius: var(--border-width2);\n",
       "}\n",
       ".contnr.c3,.lbl.c3 {\n",
       "    border-color: var(--border-color3);\n",
       "    border-width: var(--border-width3);\n",
       "    border-radius: var(--border-width3);\n",
       "}\n",
       ".contnr.c4,.lbl.c4 {\n",
       "    border-color: var(--border-color4);\n",
       "    border-width: var(--border-width4);\n",
       "    border-radius: var(--border-width4);\n",
       "}\n",
       "span.plain {\n",
       "    /*display: inline-block;*/\n",
       "    display: inline-flex;\n",
       "    flex-flow: row wrap;\n",
       "    white-space: pre-wrap;\n",
       "}\n",
       "span.break {\n",
       "  flex-basis: 100%;\n",
       "  height: 0;\n",
       "}\n",
       ".plain {\n",
       "    background-color: #ffffff;\n",
       "}\n",
       ".plain.l,.contnr.l,.contnr.l>.lbl {\n",
       "    border-left-style: dotted\n",
       "}\n",
       ".plain.r,.contnr.r,.contnr.r>.lbl {\n",
       "    border-right-style: dotted\n",
       "}\n",
       ".plain.lno,.contnr.lno,.contnr.lno>.lbl {\n",
       "    border-left-style: none\n",
       "}\n",
       ".plain.rno,.contnr.rno,.contnr.rno>.lbl {\n",
       "    border-right-style: none\n",
       "}\n",
       ".plain.l {\n",
       "    padding-left: 4px;\n",
       "    margin-left: 2px;\n",
       "    border-width: var(--border-width-plain);\n",
       "}\n",
       ".plain.r {\n",
       "    padding-right: 4px;\n",
       "    margin-right: 2px;\n",
       "    border-width: var(--border-width-plain);\n",
       "}\n",
       ".lbl {\n",
       "    font-family: monospace;\n",
       "    margin-top: -24px;\n",
       "    margin-left: 20px;\n",
       "    background: #ffffff none repeat scroll 0 0;\n",
       "    padding: 0 6px;\n",
       "    border-style: solid;\n",
       "    display: block;\n",
       "    color: var(--label)\n",
       "}\n",
       ".lbl.trm {\n",
       "    background-attachment: local;\n",
       "    margin-top: 2px;\n",
       "    margin-left: 2px;\n",
       "    padding: 2px 2px;\n",
       "    border-style: none;\n",
       "}\n",
       ".lbl.cnul {\n",
       "    font-size: xx-small;\n",
       "}\n",
       ".lbl.c0 {\n",
       "    font-size: small;\n",
       "}\n",
       ".lbl.c1 {\n",
       "    font-size: small;\n",
       "}\n",
       ".lbl.c2 {\n",
       "    font-size: medium;\n",
       "}\n",
       ".lbl.c3 {\n",
       "    font-size: medium;\n",
       "}\n",
       ".lbl.c4 {\n",
       "    font-size: large;\n",
       "}\n",
       ".occs, a:link.occs {\n",
       "    font-size: small;\n",
       "}\n",
       "\n",
       "/* PROVENANCE */\n",
       "\n",
       "div.prov {\n",
       "\tmargin: 40px;\n",
       "\tpadding: 20px;\n",
       "\tborder: 2px solid var(--fog-rim);\n",
       "}\n",
       "div.pline {\n",
       "\tdisplay: flex;\n",
       "\tflex-flow: row nowrap;\n",
       "\tjustify-content: stretch;\n",
       "\talign-items: baseline;\n",
       "}\n",
       "div.p2line {\n",
       "\tmargin-left: 2em;\n",
       "\tdisplay: flex;\n",
       "\tflex-flow: row nowrap;\n",
       "\tjustify-content: stretch;\n",
       "\talign-items: baseline;\n",
       "}\n",
       "div.psline {\n",
       "\tdisplay: flex;\n",
       "\tflex-flow: row nowrap;\n",
       "\tjustify-content: stretch;\n",
       "\talign-items: baseline;\n",
       "\tbackground-color: var(--gold-mist-back);\n",
       "}\n",
       "div.pname {\n",
       "\tflex: 0 0 5rem;\n",
       "\tfont-weight: bold;\n",
       "}\n",
       "div.pval {\n",
       "    flex: 1 1 auto;\n",
       "}\n",
       "\n",
       "/* KEYBOARD */\n",
       ".ccoff {\n",
       "  background-color: inherit;\n",
       "}\n",
       ".ccon {\n",
       "  background-color: yellow ! important;\n",
       "}\n",
       ".ccon,.ccoff {\n",
       "  padding: 0.2rem;\n",
       "  margin: 0.2rem;\n",
       "  border: 0.1rem solid var(--letter-box-border);\n",
       "  border-radius: 0.1rem;\n",
       "}\n",
       ".ccline {\n",
       "  font-size: xx-large ! important;\n",
       "  font-weight: bold;\n",
       "  line-height: 2em ! important;\n",
       "}\n",
       "/* TF header */\n",
       "\n",
       "summary {\n",
       "  /* needed to override the normalize.less\n",
       "   * in the classical Jupyter Notebook\n",
       "   */\n",
       "  display: list-item ! important;\n",
       "}\n",
       "\n",
       ".fcorpus {\n",
       "  display: flex;\n",
       "  flex-flow: column nowrap;\n",
       "  justify-content: flex-start;\n",
       "  align-items: flex-start;\n",
       "  align-content: flex-start;\n",
       "  overflow: auto;\n",
       "}\n",
       ".frow {\n",
       "  display: flex;\n",
       "  flex-flow: row nowrap;\n",
       "  justify-content: flex-start;\n",
       "  align-items: flex-start;\n",
       "  align-content: flex-start;\n",
       "}\n",
       ".fmeta {\n",
       "  display: flex;\n",
       "  flex-flow: column nowrap;\n",
       "  justify-content: flex-start;\n",
       "  align-items: flex-start;\n",
       "  align-content: flex-start;\n",
       "}\n",
       ".fmetarow {\n",
       "  display: flex;\n",
       "  flex-flow: row nowrap;\n",
       "  justify-content: flex-start;\n",
       "  align-items: flex-start;\n",
       "  align-content: flex-start;\n",
       "}\n",
       ".fmetakey {\n",
       "  min-width: 8em;\n",
       "  font-family: monospace;\n",
       "}\n",
       ".fnamecat {\n",
       "  min-width: 8em;\n",
       "}\n",
       ".fnamecat.edge {\n",
       "  font-weight: bold;\n",
       "  font-style: italic;\n",
       "}\n",
       ".fmono {\n",
       "    font-family: monospace;\n",
       "}\n",
       "\n",
       ":root {\n",
       "\t--node:               hsla(120, 100%,  20%, 1.0  );\n",
       "\t--label:              hsla(  0, 100%,  20%, 1.0  );\n",
       "\t--tfsechead:          hsla(  0, 100%,  25%, 1.0  );\n",
       "\t--structure:          hsla(120, 100%,  25%, 1.0  );\n",
       "\t--features:           hsla(  0,   0%,  30%, 1.0  );\n",
       "  --text-color:         hsla( 60,  80%,  10%, 1.0  );\n",
       "  --lex-color:          hsla(220,  90%,  60%, 1.0  );\n",
       "  --meta-color:         hsla(  0,   0%,  90%, 0.7  );\n",
       "  --meta-width:         3px;\n",
       "  --border-color-nul:   hsla(  0,   0%,  90%, 0.5  );\n",
       "  --border-color0:      hsla(  0,   0%,  90%, 0.9  );\n",
       "  --border-color1:      hsla(  0,   0%,  80%, 0.9  );\n",
       "  --border-color2:      hsla(  0,   0%,  70%, 0.9  );\n",
       "  --border-color3:      hsla(  0,   0%,  80%, 0.8  );\n",
       "  --border-color4:      hsla(  0,   0%,  60%, 0.9  );\n",
       "\t--letter-box-border:  hsla(  0,   0%,  80%, 0.5  );\n",
       "  --border-width-nul:   2px;\n",
       "  --border-width0:      2px;\n",
       "  --border-width1:      3px;\n",
       "  --border-width2:      4px;\n",
       "  --border-width3:      6px;\n",
       "  --border-width4:      5px;\n",
       "  --border-width-plain: 2px;\n",
       "}\n",
       ".hl {\n",
       "  background-color: var(--hl-strong);\n",
       "}\n",
       "span.hl {\n",
       "\tbackground-color: var(--hl-strong);\n",
       "\tborder-width: 0;\n",
       "\tborder-radius: 2px;\n",
       "\tborder-style: solid;\n",
       "}\n",
       "div.contnr.hl,div.lbl.hl {\n",
       "  background-color: var(--hl-strong);\n",
       "}\n",
       "div.contnr.hl {\n",
       "  border-color: var(--hl-rim) ! important;\n",
       "\tborder-width: 4px ! important;\n",
       "}\n",
       "\n",
       "span.hlbx {\n",
       "\tborder-color: var(--hl-rim);\n",
       "\tborder-width: 4px ! important;\n",
       "\tborder-style: solid;\n",
       "\tborder-radius: 6px;\n",
       "  padding: 4px;\n",
       "  margin: 4px;\n",
       "}\n",
       ".ehl {\n",
       "  background-color: var(--ehl-strong);\n",
       "}\n",
       "\n",
       ":root {\n",
       "\t--hl-strong:        hsla( 60, 100%,  70%, 0.9  );\n",
       "\t--hl-rim:           hsla( 55,  80%,  50%, 1.0  );\n",
       "\t--ehl-strong:       hsla(240, 100%,  70%, 0.9  );\n",
       "}\n",
       "</style>"
      ],
      "text/plain": [
       "<IPython.core.display.HTML object>"
      ]
     },
     "metadata": {},
     "output_type": "display_data"
    },
    {
     "data": {
      "text/html": [
       "\n",
       "<script>\n",
       "globalThis.copyChar = (el, c) => {\n",
       "    for (const el of document.getElementsByClassName('ccon')) {\n",
       "        el.className = 'ccoff'\n",
       "    }\n",
       "    el.className = 'ccon'\n",
       "    navigator.clipboard.writeText(String.fromCharCode(c))\n",
       "}\n",
       "</script>\n"
      ],
      "text/plain": [
       "<IPython.core.display.HTML object>"
      ]
     },
     "metadata": {},
     "output_type": "display_data"
    }
   ],
   "source": [
    "from tf.app import use\n",
    "\n",
    "# Load the SP data, and rename the node features class F,\n",
    "# the locality class L and the text class T, \n",
    "# then they cannot be overwritten while loading the MT.\n",
    "SP = use('DT-UCPH/sp', version='3.4')\n",
    "Fsp, Lsp, Tsp = SP.api.F, SP.api.L, SP.api.T\n",
    "\n",
    "# Do the same for the MT dataset (BHSA) together with BHSaddons \n",
    "MT = use('etcbc/bhsa', version='2021',mod=\"tonyjurg/BHSaddons/tf/\")\n",
    "Fmt, Lmt, Tmt = MT.api.F, MT.api.L, MT.api.T"
   ]
  },
  {
   "cell_type": "markdown",
   "id": "f0086270",
   "metadata": {},
   "source": [
    "# 3 - Compare surface texts of SP and MT <a class=\"anchor\" id=\"bullet3\"></a>\n",
    "##### [Back to ToC](#TOC)\n",
    "\n",
    "In this section, we compare the surface texts of the Samaritan Pentateuch (SP) and the Masoretic Text (MT) at the verse level. By analyzing the wording and structure of these texts, we aim to identify variations."
   ]
  },
  {
   "cell_type": "code",
   "execution_count": 2,
   "id": "3b399f27-1f11-4efc-94e6-db55fe87a684",
   "metadata": {},
   "outputs": [
    {
     "name": "stdout",
     "output_type": "stream",
     "text": [
      "  0.01s 126 results\n"
     ]
    }
   ],
   "source": [
    "# find all word nodes for this parasha (we can either use the transliterated name or the sequence number)\n",
    "parashaQuery = '''\n",
    "verse parashanum=3\n",
    "'''\n",
    "parashaResults = MT.search(parashaQuery)"
   ]
  },
  {
   "cell_type": "code",
   "execution_count": 3,
   "id": "e064e73f-8ca2-4d78-ac65-2b518e1dc4aa",
   "metadata": {},
   "outputs": [],
   "source": [
    "# Extract book, chapter, and verse information\n",
    "bookChapterVerseList = [\n",
    "    Tmt.sectionFromNode(verse[0]) for verse in parashaResults\n",
    "]\n",
    "\n",
    "# Store parashname, start and end verse for future use\n",
    "startNode=parashaResults[0][0]\n",
    "endNode=parashaResults[-1][0]\n",
    "parashaNameHebrew=Fmt.parashahebr.v(startNode)\n",
    "parashaNameEnglish=Fmt.parashatrans.v(startNode)\n",
    "bookStart,chapterStart,startVerse=Tmt.sectionFromNode(startNode)\n",
    "parashaStart=f'{bookStart} {chapterStart}:{startVerse}'\n",
    "bookEnd,chapterEnd,startEnd=Tmt.sectionFromNode(endNode)\n",
    "parashaEnd=f'{chapterEnd}:{startEnd}'"
   ]
  },
  {
   "cell_type": "code",
   "execution_count": 4,
   "id": "06e216e5-a5b1-47d6-994c-f4e8c6a66e90",
   "metadata": {},
   "outputs": [],
   "source": [
    "# Function to reconstruct verses\n",
    "def reconstructVerses(F, L, T, textFeature, inputList):\n",
    "    \"\"\"Reconstruct text for each verse.\"\"\"\n",
    "    verseTexts = {}\n",
    "    for verseName in inputList:\n",
    "        verseText = ''\n",
    "        verseNode = T.nodeFromSection(verseName)\n",
    "        wordNodes = L.d(verseNode, 'word')\n",
    "        for wordNode in wordNodes:\n",
    "            wordText = eval(f'F.{textFeature}.v(wordNode)')\n",
    "            trailer = F.trailer.v(wordNode)\n",
    "            if wordText:\n",
    "                verseText += wordText + (trailer if trailer else ' ')\n",
    "        verseTexts[verseName] = verseText.strip()\n",
    "    return verseTexts\n",
    "    \n",
    "SPverses = reconstructVerses(Fsp, Lsp, Tsp, 'g_cons', bookChapterVerseList)\n",
    "MTverses = reconstructVerses(Fmt, Lmt, Tmt, 'g_cons', bookChapterVerseList)"
   ]
  },
  {
   "cell_type": "code",
   "execution_count": 5,
   "id": "18b2a272",
   "metadata": {},
   "outputs": [
    {
     "data": {
      "text/markdown": [
       "### Differences between MT and SP for parasha Lech Lecha (Genesis 12:1-17:27)"
      ],
      "text/plain": [
       "<IPython.core.display.Markdown object>"
      ]
     },
     "metadata": {},
     "output_type": "display_data"
    },
    {
     "data": {
      "text/markdown": [
       "<h4>Genesis 12:2</h4><p><b>SP:</b> ואעש<mark></mark>ך לגוי גדול ואברכך ואגדלה ש<mark></mark>מך וה<mark>ו</mark>י<mark></mark> ברכה <br><b>MT:</b> ואעש<mark>ׂ</mark>ך לגוי גדול ואברכך ואגדלה ש<mark>ׁ</mark>מך וה<mark></mark>י<mark>ה</mark> ברכה </p>"
      ],
      "text/plain": [
       "<IPython.core.display.Markdown object>"
      ]
     },
     "metadata": {},
     "output_type": "display_data"
    },
    {
     "data": {
      "text/markdown": [
       "<h4>Genesis 12:3</h4><p><b>SP:</b> ואבר<mark>ך</mark> מברכיך ומקלל<mark>י</mark>ך אאר ונברכו בך כל מש<mark></mark>פח<mark>ו</mark>ת האדמה <br><b>MT:</b> ואבר<mark>כה</mark> מברכיך ומקלל<mark></mark>ך אאר ונברכו בך כל מש<mark>ׁ</mark>פח<mark></mark>ת האדמה </p>"
      ],
      "text/plain": [
       "<IPython.core.display.Markdown object>"
      ]
     },
     "metadata": {},
     "output_type": "display_data"
    },
    {
     "data": {
      "text/markdown": [
       "<h4>Genesis 12:6</h4><p><b>SP:</b> ויעבר אברם בארץ עד מקום ש<mark></mark>כם עד אלון מור<mark>א</mark> והכנעני אז בארץ <br><b>MT:</b> ויעבר אברם בארץ עד מקום ש<mark>ׁ</mark>כם עד אלון מור<mark>ה</mark> והכנעני אז בארץ </p>"
      ],
      "text/plain": [
       "<IPython.core.display.Markdown object>"
      ]
     },
     "metadata": {},
     "output_type": "display_data"
    },
    {
     "data": {
      "text/markdown": [
       "<h4>Genesis 12:7</h4><p><b>SP:</b> וירא יהוה אל אברם ויאמר<mark> לו</mark> לזרעך אתן את הארץ הזאת ויבן ש<mark></mark>ם מזבח ליהוה הנראה אליו <br><b>MT:</b> וירא יהוה אל אברם ויאמר<mark></mark> לזרעך אתן את הארץ הזאת ויבן ש<mark>ׁ</mark>ם מזבח ליהוה הנראה אליו </p>"
      ],
      "text/plain": [
       "<IPython.core.display.Markdown object>"
      ]
     },
     "metadata": {},
     "output_type": "display_data"
    },
    {
     "data": {
      "text/markdown": [
       "<h4>Genesis 12:8</h4><p><b>SP:</b> ויעתק מש<mark></mark>ם ההרה מקדם לבית אל ויט אהל<mark>ו</mark> בית אל מים והעי מקדם ויבן ש<mark></mark>ם מזבח ליהוה ויקרא בש<mark></mark>ם יהוה <br><b>MT:</b> ויעתק מש<mark>ׁ</mark>ם ההרה מקדם לבית אל ויט אהל<mark>ה</mark> בית אל מים והעי מקדם ויבן ש<mark>ׁ</mark>ם מזבח ליהוה ויקרא בש<mark>ׁ</mark>ם יהוה </p>"
      ],
      "text/plain": [
       "<IPython.core.display.Markdown object>"
      ]
     },
     "metadata": {},
     "output_type": "display_data"
    },
    {
     "data": {
      "text/markdown": [
       "<h4>Genesis 12:9</h4><p><b>SP:</b> ויסע אברם הלוך ונס<mark></mark>ע הנגבה <br><b>MT:</b> ויסע אברם הלוך ונס<mark>ו</mark>ע הנגבה </p>"
      ],
      "text/plain": [
       "<IPython.core.display.Markdown object>"
      ]
     },
     "metadata": {},
     "output_type": "display_data"
    },
    {
     "data": {
      "text/markdown": [
       "<h4>Genesis 12:11</h4><p><b>SP:</b> ויהי כאש<mark></mark>ר הקריב לבוא מצרימה ויאמר אל ש<mark></mark>רי אש<mark></mark>תו הנה נא ידעתי כי אש<mark></mark>ה יפת מראה את<mark>י</mark> <br><b>MT:</b> ויהי כאש<mark>ׁ</mark>ר הקריב לבוא מצרימה ויאמר אל ש<mark>ׂ</mark>רי אש<mark>ׁ</mark>תו הנה נא ידעתי כי אש<mark>ׁ</mark>ה יפת מראה את<mark></mark> </p>"
      ],
      "text/plain": [
       "<IPython.core.display.Markdown object>"
      ]
     },
     "metadata": {},
     "output_type": "display_data"
    },
    {
     "data": {
      "text/markdown": [
       "<h4>Genesis 12:12</h4><p><b>SP:</b> והיה כי יראו את<mark>י</mark>ך המצרים ואמרו אש<mark></mark>תו זאת והרגו אתי ואת<mark>י</mark>ך יחיו <br><b>MT:</b> והיה כי יראו את<mark></mark>ך המצרים ואמרו אש<mark>ׁ</mark>תו זאת והרגו אתי ואת<mark></mark>ך יחיו </p>"
      ],
      "text/plain": [
       "<IPython.core.display.Markdown object>"
      ]
     },
     "metadata": {},
     "output_type": "display_data"
    },
    {
     "data": {
      "text/markdown": [
       "<h4>Genesis 12:13</h4><p><b>SP:</b> אמרי נא אח<mark>ו</mark>תי את<mark>י</mark> למען ייטב לי בעבור<mark>י</mark>ך וחיתה נפש<mark></mark>י בגלל<mark>י</mark>ך <br><b>MT:</b> אמרי נא אח<mark></mark>תי את<mark></mark> למען ייטב לי בעבור<mark></mark>ך וחיתה נפש<mark>ׁ</mark>י בגלל<mark></mark>ך </p>"
      ],
      "text/plain": [
       "<IPython.core.display.Markdown object>"
      ]
     },
     "metadata": {},
     "output_type": "display_data"
    },
    {
     "data": {
      "text/markdown": [
       "<h4>Genesis 12:14</h4><p><b>SP:</b> ויהי כבוא אברם מצרימה ויראו המצרים את האש<mark></mark>ה כי יפה ה<mark>י</mark>א מאד <br><b>MT:</b> ויהי כבוא אברם מצרימה ויראו המצרים את האש<mark>ׁ</mark>ה כי יפה ה<mark>ו</mark>א מאד </p>"
      ],
      "text/plain": [
       "<IPython.core.display.Markdown object>"
      ]
     },
     "metadata": {},
     "output_type": "display_data"
    },
    {
     "data": {
      "text/markdown": [
       "<h4>Genesis 12:15</h4><p><b>SP:</b> ויראו אתה ש<mark></mark>רי פרעה ויהללו אתה אל פרעה ותקח האש<mark></mark>ה בית<mark>ה</mark> פרעה <br><b>MT:</b> ויראו אתה ש<mark>ׂ</mark>רי פרעה ויהללו אתה אל פרעה ותקח האש<mark>ׁ</mark>ה בית<mark></mark> פרעה </p>"
      ],
      "text/plain": [
       "<IPython.core.display.Markdown object>"
      ]
     },
     "metadata": {},
     "output_type": "display_data"
    },
    {
     "data": {
      "text/markdown": [
       "<h4>Genesis 12:16</h4><p><b>SP:</b> ולאברם הי<mark>י</mark>ט<mark></mark>ב בעבורה ויהי לו צאן ובקר <mark>מקנה כבד מאד עבדים ושפחות </mark>וחמרים ו<mark></mark>אתנ<mark>ו</mark>ת וגמלים <br><b>MT:</b> ולאברם הי<mark>ט</mark>י<mark></mark>ב בעבורה ויהי לו צאן ובקר <mark>וח</mark>מ<mark>רים</mark> <mark>ו</mark>עבדים וש<mark>ׁ</mark>פח<mark></mark>ת<mark></mark> ואתנ<mark></mark>ת וגמלים </p>"
      ],
      "text/plain": [
       "<IPython.core.display.Markdown object>"
      ]
     },
     "metadata": {},
     "output_type": "display_data"
    },
    {
     "data": {
      "text/markdown": [
       "<h4>Genesis 12:17</h4><p><b>SP:</b> וינגע יהוה<mark></mark> את פרעה נגעים גדלים ואת ביתו על דבר ש<mark></mark>רי אש<mark></mark>ת אברם <br><b>MT:</b> וינגע יהוה<mark>׀</mark> את פרעה נגעים גדלים ואת ביתו על דבר ש<mark>ׂ</mark>רי אש<mark>ׁ</mark>ת אברם </p>"
      ],
      "text/plain": [
       "<IPython.core.display.Markdown object>"
      ]
     },
     "metadata": {},
     "output_type": "display_data"
    },
    {
     "data": {
      "text/markdown": [
       "<h4>Genesis 12:18</h4><p><b>SP:</b> ויקרא פרעה לאברם ויאמר מה זאת עש<mark></mark>ית לי למה לא הגדת לי כי אש<mark></mark>תך ה<mark>י</mark>א <br><b>MT:</b> ויקרא פרעה לאברם ויאמר מה זאת עש<mark>ׂ</mark>ית לי למה לא הגדת לי כי אש<mark>ׁ</mark>תך ה<mark>ו</mark>א </p>"
      ],
      "text/plain": [
       "<IPython.core.display.Markdown object>"
      ]
     },
     "metadata": {},
     "output_type": "display_data"
    },
    {
     "data": {
      "text/markdown": [
       "<h4>Genesis 12:19</h4><p><b>SP:</b> <mark>ו</mark>למה אמרת אח<mark>ו</mark>תי ה<mark>י</mark>א ואקח אתה לי לאש<mark></mark>ה ועתה הנה אש<mark></mark>תך קח ולך <br><b>MT:</b> <mark></mark>למה אמרת אח<mark></mark>תי ה<mark>ו</mark>א ואקח אתה לי לאש<mark>ׁ</mark>ה ועתה הנה אש<mark>ׁ</mark>תך קח ולך </p>"
      ],
      "text/plain": [
       "<IPython.core.display.Markdown object>"
      ]
     },
     "metadata": {},
     "output_type": "display_data"
    },
    {
     "data": {
      "text/markdown": [
       "<h4>Genesis 12:20</h4><p><b>SP:</b> ויצו עליו פרעה אנש<mark></mark>ים ויש<mark></mark>לחו אתו ואת אש<mark></mark>תו ואת כל אש<mark></mark>ר לו <mark>ולוט עמו </mark><br><b>MT:</b> ויצו עליו פרעה אנש<mark>ׁ</mark>ים ויש<mark>ׁ</mark>לחו אתו ואת אש<mark>ׁ</mark>תו ואת כל אש<mark>ׁ</mark>ר לו <mark></mark></p>"
      ],
      "text/plain": [
       "<IPython.core.display.Markdown object>"
      ]
     },
     "metadata": {},
     "output_type": "display_data"
    },
    {
     "data": {
      "text/markdown": [
       "<h4>Genesis 13:3</h4><p><b>SP:</b> וילך למסעיו מנגב ועד בית אל עד המקום אש<mark></mark>ר היה ש<mark></mark>ם אהל<mark>ו</mark> בתחלה בין בית אל ובין העי <br><b>MT:</b> וילך למסעיו מנגב ועד בית אל עד המקום אש<mark>ׁ</mark>ר היה ש<mark>ׁ</mark>ם אהל<mark>ה</mark> בתחלה בין בית אל ובין העי </p>"
      ],
      "text/plain": [
       "<IPython.core.display.Markdown object>"
      ]
     },
     "metadata": {},
     "output_type": "display_data"
    },
    {
     "data": {
      "text/markdown": [
       "<h4>Genesis 13:4</h4><p><b>SP:</b> אל מקום המזבח אש<mark></mark>ר עש<mark></mark>ה ש<mark></mark>ם ברא<mark>י</mark>ש<mark>ו</mark>נה ויקרא ש<mark></mark>ם אברם בש<mark></mark>ם יהוה <br><b>MT:</b> אל מקום המזבח אש<mark>ׁ</mark>ר עש<mark>ׂ</mark>ה ש<mark>ׁ</mark>ם ברא<mark></mark>ש<mark>ׁ</mark>נה ויקרא ש<mark>ׁ</mark>ם אברם בש<mark>ׁ</mark>ם יהוה </p>"
      ],
      "text/plain": [
       "<IPython.core.display.Markdown object>"
      ]
     },
     "metadata": {},
     "output_type": "display_data"
    },
    {
     "data": {
      "text/markdown": [
       "<h4>Genesis 13:6</h4><p><b>SP:</b> ולא נש<mark></mark>א<mark>ה</mark> אתם הארץ לש<mark></mark>בת יחדו כי היה רכוש<mark></mark>ם רב ולא יכלו לש<mark></mark>בת יחדו <br><b>MT:</b> ולא נש<mark>ׂ</mark>א<mark></mark> אתם הארץ לש<mark>ׁ</mark>בת יחדו כי היה רכוש<mark>ׁ</mark>ם רב ולא יכלו לש<mark>ׁ</mark>בת יחדו </p>"
      ],
      "text/plain": [
       "<IPython.core.display.Markdown object>"
      ]
     },
     "metadata": {},
     "output_type": "display_data"
    },
    {
     "data": {
      "text/markdown": [
       "<h4>Genesis 13:7</h4><p><b>SP:</b> ויהי ריב בין רעי מקנה אברם ובין רעי מקנה לוט והכנעני והפרזי אז יש<mark></mark>ב<mark>ים</mark> בארץ <br><b>MT:</b> ויהי ריב בין רעי מקנה אברם ובין רעי מקנה לוט והכנעני והפרזי אז יש<mark>ׁ</mark>ב<mark></mark> בארץ </p>"
      ],
      "text/plain": [
       "<IPython.core.display.Markdown object>"
      ]
     },
     "metadata": {},
     "output_type": "display_data"
    },
    {
     "data": {
      "text/markdown": [
       "<h4>Genesis 13:8</h4><p><b>SP:</b> ויאמר אברם אל לוט אל נא תהי<mark>ה</mark> מריבה ביני ובינ<mark></mark>ך ובין רעי ובין רעיך כי אנש<mark></mark>ים אחים אנחנו <br><b>MT:</b> ויאמר אברם אל לוט אל נא תהי<mark></mark> מריבה ביני ובינ<mark>י</mark>ך ובין רעי ובין רעיך כי אנש<mark>ׁ</mark>ים אחים אנחנו </p>"
      ],
      "text/plain": [
       "<IPython.core.display.Markdown object>"
      ]
     },
     "metadata": {},
     "output_type": "display_data"
    },
    {
     "data": {
      "text/markdown": [
       "<h4>Genesis 13:9</h4><p><b>SP:</b> הל<mark>ו</mark>א כל הארץ לפניך הפרד נא מעלי אם הש<mark></mark>מאל<mark>ה</mark> ו<mark>ה</mark>ימ<mark>י</mark>נה ואם הימי<mark>נה</mark> ו<mark>ה</mark>ש<mark></mark>מא<mark></mark>לה <br><b>MT:</b> הל<mark></mark>א כל הארץ לפניך הפרד נא מעלי אם הש<mark>ׂ</mark>מאל<mark></mark> ו<mark>א</mark>ימ<mark></mark>נה ואם הימי<mark>ן</mark> ו<mark>א</mark>ש<mark>ׂ</mark>מא<mark>י</mark>לה </p>"
      ],
      "text/plain": [
       "<IPython.core.display.Markdown object>"
      ]
     },
     "metadata": {},
     "output_type": "display_data"
    },
    {
     "data": {
      "text/markdown": [
       "<h4>Genesis 13:10</h4><p><b>SP:</b> ויש<mark></mark>א לוט את עיניו וירא את כל ככר הירדן כי כל<mark>ו</mark> מש<mark></mark>קה לפני<mark></mark> ש<mark></mark>חת יהוה את סדם ואת עמרה כגן יהוה כארץ מצרים באכה צער<mark>ה</mark> <br><b>MT:</b> ויש<mark>ׂ</mark>א לוט את עיניו וירא את כל ככר הירדן כי כל<mark>ה</mark> מש<mark>ׁ</mark>קה לפני<mark>׀</mark> ש<mark>ׁ</mark>חת יהוה את סדם ואת עמרה כגן יהוה כארץ מצרים באכה צער<mark></mark> </p>"
      ],
      "text/plain": [
       "<IPython.core.display.Markdown object>"
      ]
     },
     "metadata": {},
     "output_type": "display_data"
    },
    {
     "data": {
      "text/markdown": [
       "<h4>Genesis 13:14</h4><p><b>SP:</b> ויהוה אמר אל אברם אחרי הפרד לוט מעמו ש<mark></mark>א נא עיניך וראה מן המקום אש<mark></mark>ר אתה ש<mark></mark>ם צפ<mark>ו</mark>נה ונגבה וקדמה וימה <br><b>MT:</b> ויהוה אמר אל אברם אחרי הפרד לוט מעמו ש<mark>ׂ</mark>א נא עיניך וראה מן המקום אש<mark>ׁ</mark>ר אתה ש<mark>ׁ</mark>ם צפ<mark></mark>נה ונגבה וקדמה וימה </p>"
      ],
      "text/plain": [
       "<IPython.core.display.Markdown object>"
      ]
     },
     "metadata": {},
     "output_type": "display_data"
    },
    {
     "data": {
      "text/markdown": [
       "<h4>Genesis 13:16</h4><p><b>SP:</b> וש<mark></mark>מתי את זרעך כעפר הארץ אש<mark></mark>ר<mark></mark> אם יוכל איש<mark></mark> למנות את עפר הארץ גם זרעך ימנה <br><b>MT:</b> וש<mark>ׂ</mark>מתי את זרעך כעפר הארץ אש<mark>ׁ</mark>ר<mark>׀</mark> אם יוכל איש<mark>ׁ</mark> למנות את עפר הארץ גם זרעך ימנה </p>"
      ],
      "text/plain": [
       "<IPython.core.display.Markdown object>"
      ]
     },
     "metadata": {},
     "output_type": "display_data"
    },
    {
     "data": {
      "text/markdown": [
       "<h4>Genesis 13:18</h4><p><b>SP:</b> ויא<mark></mark>ל אברם ויבא ויש<mark></mark>ב באל<mark>ו</mark>ני ממרא אש<mark></mark>ר בחברון ויבן ש<mark></mark>ם מזבח ליהוה <br><b>MT:</b> ויא<mark>ה</mark>ל אברם ויבא ויש<mark>ׁ</mark>ב באל<mark></mark>ני ממרא אש<mark>ׁ</mark>ר בחברון ויבן ש<mark>ׁ</mark>ם מזבח ליהוה </p>"
      ],
      "text/plain": [
       "<IPython.core.display.Markdown object>"
      ]
     },
     "metadata": {},
     "output_type": "display_data"
    },
    {
     "data": {
      "text/markdown": [
       "<h4>Genesis 14:1</h4><p><b>SP:</b> ויהי בימי אמרפל מלך ש<mark></mark>נער <mark>ו</mark>אריוך מלך אלסר כדר<mark> </mark>לעמר מלך עילם ותדעל מלך גוים <br><b>MT:</b> ויהי בימי אמרפל מלך ש<mark>ׁ</mark>נער <mark></mark>אריוך מלך אלסר כדר<mark></mark>לעמר מלך עילם ותדעל מלך גוים </p>"
      ],
      "text/plain": [
       "<IPython.core.display.Markdown object>"
      ]
     },
     "metadata": {},
     "output_type": "display_data"
    },
    {
     "data": {
      "text/markdown": [
       "<h4>Genesis 14:2</h4><p><b>SP:</b> עש<mark></mark>ו מלחמה את ברע מלך סדם ואת ברש<mark></mark>ע מלך עמרה <mark>ו</mark>ש<mark></mark>נאב<mark></mark> מלך אדמה וש<mark></mark>מ<mark> </mark>אב<mark>ד</mark> מלך צב<mark>וא</mark>ים ומלך בלע היא צער <br><b>MT:</b> עש<mark>ׂ</mark>ו מלחמה את ברע מלך סדם ואת ברש<mark>ׁ</mark>ע מלך עמרה <mark></mark>ש<mark>ׁ</mark>נאב<mark>׀</mark> מלך אדמה וש<mark>ׁ</mark>מ<mark></mark>אב<mark>ר</mark> מלך צב<mark>י</mark>ים ומלך בלע היא צער </p>"
      ],
      "text/plain": [
       "<IPython.core.display.Markdown object>"
      ]
     },
     "metadata": {},
     "output_type": "display_data"
    },
    {
     "data": {
      "text/markdown": [
       "<h4>Genesis 14:4</h4><p><b>SP:</b> ש<mark></mark>תים עש<mark></mark>רה ש<mark></mark>נה עבדו את כדר<mark> </mark>לעמר ו<mark>ב</mark>ש<mark></mark>לש<mark></mark> עש<mark></mark>רה ש<mark></mark>נה מרדו <br><b>MT:</b> ש<mark>ׁ</mark>תים עש<mark>ׂ</mark>רה ש<mark>ׁ</mark>נה עבדו את כדר<mark></mark>לעמר ו<mark></mark>ש<mark>ׁ</mark>לש<mark>ׁ</mark> עש<mark>ׂ</mark>רה ש<mark>ׁ</mark>נה מרדו </p>"
      ],
      "text/plain": [
       "<IPython.core.display.Markdown object>"
      ]
     },
     "metadata": {},
     "output_type": "display_data"
    },
    {
     "data": {
      "text/markdown": [
       "<h4>Genesis 14:5</h4><p><b>SP:</b> ובארבע עש<mark></mark>רה ש<mark></mark>נה בא כדר<mark> </mark>לעמר והמלכים אש<mark></mark>ר אתו ויכו את <mark>ה</mark>רפאים בעש<mark></mark>תר<mark>ו</mark>ת קרנים ואת הזוזים ב<mark>ח</mark>ם ואת האימים בש<mark>בי</mark> קריתים <br><b>MT:</b> ובארבע עש<mark>ׂ</mark>רה ש<mark>ׁ</mark>נה בא כדר<mark></mark>לעמר והמלכים אש<mark>ׁ</mark>ר אתו ויכו את <mark></mark>רפאים בעש<mark>ׁ</mark>תר<mark></mark>ת קרנים ואת הזוזים ב<mark>ה</mark>ם ואת האימים בש<mark>ׁוה</mark> קריתים </p>"
      ],
      "text/plain": [
       "<IPython.core.display.Markdown object>"
      ]
     },
     "metadata": {},
     "output_type": "display_data"
    },
    {
     "data": {
      "text/markdown": [
       "<h4>Genesis 14:6</h4><p><b>SP:</b> ואת החרי בהרר<mark>י</mark> ש<mark></mark>עיר עד איל פ<mark>ר</mark>א<mark></mark>ן אש<mark></mark>ר על המדבר <br><b>MT:</b> ואת החרי בהרר<mark>ם</mark> ש<mark>ׂ</mark>עיר עד איל פ<mark>א</mark>ר<mark></mark>ן אש<mark>ׁ</mark>ר על המדבר </p>"
      ],
      "text/plain": [
       "<IPython.core.display.Markdown object>"
      ]
     },
     "metadata": {},
     "output_type": "display_data"
    },
    {
     "data": {
      "text/markdown": [
       "<h4>Genesis 14:7</h4><p><b>SP:</b> ויש<mark></mark>בו ויבאו אל עי<mark>נ</mark> מש<mark></mark>פט ה<mark>י</mark>א קדש<mark></mark> ויכו את כל ש<mark></mark>דה העמלקי וגם את האמרי היש<mark></mark>ב בחצצ<mark>ונ</mark> תמר <br><b>MT:</b> ויש<mark>ׁ</mark>בו ויבאו אל עי<mark>ן</mark> מש<mark>ׁ</mark>פט ה<mark>ו</mark>א קדש<mark>ׁ</mark> ויכו את כל ש<mark>ׂ</mark>דה העמלקי וגם את האמרי היש<mark>ׁ</mark>ב בחצצ<mark>ן</mark> תמר </p>"
      ],
      "text/plain": [
       "<IPython.core.display.Markdown object>"
      ]
     },
     "metadata": {},
     "output_type": "display_data"
    },
    {
     "data": {
      "text/markdown": [
       "<h4>Genesis 14:8</h4><p><b>SP:</b> ויצא מלך סדם ומלך עמרה ומלך אדמה ומלך צב<mark>וא</mark>ים ומלך בלע הוא צער ויערכו אתם מלחמה בעמק הש<mark></mark>דים <br><b>MT:</b> ויצא מלך סדם ומלך עמרה ומלך אדמה ומלך צב<mark>י</mark>ים ומלך בלע הוא צער ויערכו אתם מלחמה בעמק הש<mark>ׂ</mark>דים </p>"
      ],
      "text/plain": [
       "<IPython.core.display.Markdown object>"
      ]
     },
     "metadata": {},
     "output_type": "display_data"
    },
    {
     "data": {
      "text/markdown": [
       "<h4>Genesis 14:9</h4><p><b>SP:</b> את כדר<mark> </mark>לעמר מלך עילם ותדעל מלך גוים <mark></mark>אמרפל מלך ש<mark></mark>נער ואריוך מלך אלסר ארבעה מלכים את החמש<mark></mark>ה <br><b>MT:</b> את כדר<mark></mark>לעמר מלך עילם ותדעל מלך גוים <mark>ו</mark>אמרפל מלך ש<mark>ׁ</mark>נער ואריוך מלך אלסר ארבעה מלכים את החמש<mark>ׁ</mark>ה </p>"
      ],
      "text/plain": [
       "<IPython.core.display.Markdown object>"
      ]
     },
     "metadata": {},
     "output_type": "display_data"
    },
    {
     "data": {
      "text/markdown": [
       "<h4>Genesis 14:10</h4><p><b>SP:</b> ועמק הש<mark></mark>דים באר<mark>ו</mark>ת באר<mark>ו</mark>ת ח<mark>י</mark>מר וינסו מלך סדם ו<mark>מלך </mark>עמרה ויפלו ש<mark>ם</mark> והנש<mark></mark>ארים <mark>ה</mark>הרה נסו <br><b>MT:</b> ועמק הש<mark>ׂ</mark>דים באר<mark></mark>ת באר<mark></mark>ת ח<mark></mark>מר וינסו מלך סדם ו<mark></mark>עמרה ויפלו ש<mark>ׁמה</mark> והנש<mark>ׁ</mark>ארים <mark></mark>הרה נסו </p>"
      ],
      "text/plain": [
       "<IPython.core.display.Markdown object>"
      ]
     },
     "metadata": {},
     "output_type": "display_data"
    },
    {
     "data": {
      "text/markdown": [
       "<h4>Genesis 14:11</h4><p><b>SP:</b> ויקחו את כל רכ<mark>ו</mark>ש<mark></mark> סדם ועמרה ואת כל אכלם וילכו <br><b>MT:</b> ויקחו את כל רכ<mark></mark>ש<mark>ׁ</mark> סדם ועמרה ואת כל אכלם וילכו </p>"
      ],
      "text/plain": [
       "<IPython.core.display.Markdown object>"
      ]
     },
     "metadata": {},
     "output_type": "display_data"
    },
    {
     "data": {
      "text/markdown": [
       "<h4>Genesis 14:12</h4><p><b>SP:</b> ויקחו את לוט ואת <mark>כל </mark>רכ<mark>ו</mark>ש<mark></mark>ו בן אחי אברם ויל<mark>ך</mark> והוא יש<mark></mark>ב בסדם <br><b>MT:</b> ויקחו את לוט ואת <mark></mark>רכ<mark></mark>ש<mark>ׁ</mark>ו בן אחי אברם ויל<mark>כו</mark> והוא יש<mark>ׁ</mark>ב בסדם </p>"
      ],
      "text/plain": [
       "<IPython.core.display.Markdown object>"
      ]
     },
     "metadata": {},
     "output_type": "display_data"
    },
    {
     "data": {
      "text/markdown": [
       "<h4>Genesis 14:13</h4><p><b>SP:</b> ויבא הפליט ויגד לאברם העברי והוא ש<mark></mark>כן באל<mark>ו</mark>ני ממרא האמרי אחי אש<mark></mark>כ<mark>ו</mark>ל ואחי ענר<mark>ם</mark> והם בעלי ברית אברם <br><b>MT:</b> ויבא הפליט ויגד לאברם העברי והוא ש<mark>ׁ</mark>כן באל<mark></mark>ני ממרא האמרי אחי אש<mark>ׁ</mark>כ<mark></mark>ל ואחי ענר<mark></mark> והם בעלי ברית אברם </p>"
      ],
      "text/plain": [
       "<IPython.core.display.Markdown object>"
      ]
     },
     "metadata": {},
     "output_type": "display_data"
    },
    {
     "data": {
      "text/markdown": [
       "<h4>Genesis 14:14</h4><p><b>SP:</b> ויש<mark></mark>מע אברם כי נש<mark></mark>ב<mark>א</mark> אחיו וי<mark>ד</mark>ק את חניכיו ילידי ביתו ש<mark></mark>מנה עש<mark></mark>ר וש<mark></mark>לש<mark></mark> מאות וירדף עד דן <br><b>MT:</b> ויש<mark>ׁ</mark>מע אברם כי נש<mark>ׁ</mark>ב<mark>ה</mark> אחיו וי<mark>ר</mark>ק את חניכיו ילידי ביתו ש<mark>ׁ</mark>מנה עש<mark>ׂ</mark>ר וש<mark>ׁ</mark>לש<mark>ׁ</mark> מאות וירדף עד דן </p>"
      ],
      "text/plain": [
       "<IPython.core.display.Markdown object>"
      ]
     },
     "metadata": {},
     "output_type": "display_data"
    },
    {
     "data": {
      "text/markdown": [
       "<h4>Genesis 14:15</h4><p><b>SP:</b> ויחלק עליהם<mark></mark> לילה הוא ועבדיו ויכם וירדפם עד חובה אש<mark></mark>ר מש<mark></mark>מאל לדמש<mark></mark>ק <br><b>MT:</b> ויחלק עליהם<mark>׀</mark> לילה הוא ועבדיו ויכם וירדפם עד חובה אש<mark>ׁ</mark>ר מש<mark>ׂ</mark>מאל לדמש<mark>ׂ</mark>ק </p>"
      ],
      "text/plain": [
       "<IPython.core.display.Markdown object>"
      ]
     },
     "metadata": {},
     "output_type": "display_data"
    },
    {
     "data": {
      "text/markdown": [
       "<h4>Genesis 14:16</h4><p><b>SP:</b> ויש<mark></mark>ב את כל הרכ<mark>ו</mark>ש<mark></mark> וגם את לוט אחיו ורכ<mark>ו</mark>ש<mark></mark>ו הש<mark></mark>יב וגם את הנש<mark></mark>ים ואת העם <br><b>MT:</b> ויש<mark>ׁ</mark>ב את כל הרכ<mark></mark>ש<mark>ׁ</mark> וגם את לוט אחיו ורכ<mark></mark>ש<mark>ׁ</mark>ו הש<mark>ׁ</mark>יב וגם את הנש<mark>ׁ</mark>ים ואת העם </p>"
      ],
      "text/plain": [
       "<IPython.core.display.Markdown object>"
      ]
     },
     "metadata": {},
     "output_type": "display_data"
    },
    {
     "data": {
      "text/markdown": [
       "<h4>Genesis 14:17</h4><p><b>SP:</b> ויצא מלך סדם לקראתו אחרי ש<mark></mark>ובו מהכות את כדר לעמר ואת המלכים אש<mark></mark>ר אתו אל עמק <mark>ה</mark>ש<mark></mark>ו<mark>י</mark> הוא עמק המלך <br><b>MT:</b> ויצא מלך סדם לקראתו אחרי ש<mark>ׁ</mark>ובו מהכות את כדר לעמר ואת המלכים אש<mark>ׁ</mark>ר אתו אל עמק <mark>שׁו</mark>ה<mark></mark> הוא עמק המלך </p>"
      ],
      "text/plain": [
       "<IPython.core.display.Markdown object>"
      ]
     },
     "metadata": {},
     "output_type": "display_data"
    },
    {
     "data": {
      "text/markdown": [
       "<h4>Genesis 14:19</h4><p><b>SP:</b> ויבר<mark>ך את אברם</mark> ויאמר ברוך אברם לאל עליון קנה ש<mark></mark>מים וארץ <br><b>MT:</b> ויבר<mark>כהו</mark> ויאמר ברוך אברם לאל עליון קנה ש<mark>ׁ</mark>מים וארץ </p>"
      ],
      "text/plain": [
       "<IPython.core.display.Markdown object>"
      ]
     },
     "metadata": {},
     "output_type": "display_data"
    },
    {
     "data": {
      "text/markdown": [
       "<h4>Genesis 14:21</h4><p><b>SP:</b> ויאמר מלך סדם אל אברם ת<mark>נה</mark> לי הנפש<mark></mark> והרכ<mark>ו</mark>ש<mark></mark> קח לך <br><b>MT:</b> ויאמר מלך סדם אל אברם ת<mark>ן</mark> לי הנפש<mark>ׁ</mark> והרכ<mark></mark>ש<mark>ׁ</mark> קח לך </p>"
      ],
      "text/plain": [
       "<IPython.core.display.Markdown object>"
      ]
     },
     "metadata": {},
     "output_type": "display_data"
    },
    {
     "data": {
      "text/markdown": [
       "<h4>Genesis 14:22</h4><p><b>SP:</b> ויאמר אברם אל מלך סדם הר<mark></mark>מתי<mark> את</mark> ידי אל <mark>האלה</mark>י<mark>ם</mark> אל עליון קנה ש<mark></mark>מים וארץ <br><b>MT:</b> ויאמר אברם אל מלך סדם הר<mark>י</mark>מתי<mark></mark> ידי אל <mark>י</mark>ה<mark>ו</mark>ה<mark></mark> אל עליון קנה ש<mark>ׁ</mark>מים וארץ </p>"
      ],
      "text/plain": [
       "<IPython.core.display.Markdown object>"
      ]
     },
     "metadata": {},
     "output_type": "display_data"
    },
    {
     "data": {
      "text/markdown": [
       "<h4>Genesis 14:23</h4><p><b>SP:</b> אם מחוט ועד ש<mark></mark>רו<mark>ג</mark> נעל <mark></mark>אם אקח מכל אש<mark></mark>ר לך ולא תאמר אנ<mark>כ</mark>י <mark>א</mark>עש<mark></mark>רתי את אברם <br><b>MT:</b> אם מחוט ועד ש<mark>ׂ</mark>רו<mark>ך</mark> נעל <mark>ו</mark>אם אקח מכל אש<mark>ׁ</mark>ר לך ולא תאמר אנ<mark></mark>י <mark>ה</mark>עש<mark>ׁ</mark>רתי את אברם </p>"
      ],
      "text/plain": [
       "<IPython.core.display.Markdown object>"
      ]
     },
     "metadata": {},
     "output_type": "display_data"
    },
    {
     "data": {
      "text/markdown": [
       "<h4>Genesis 14:24</h4><p><b>SP:</b> בלעדי רק אש<mark></mark>ר אכלו הנערים וחלק האנש<mark></mark>ים אש<mark></mark>ר הלכו אתי ענר<mark>ם</mark> <mark>ו</mark>אש<mark></mark>כ<mark>ו</mark>ל וממרא הם יקחו חלקם <br><b>MT:</b> בלעדי רק אש<mark>ׁ</mark>ר אכלו הנערים וחלק האנש<mark>ׁ</mark>ים אש<mark>ׁ</mark>ר הלכו אתי ענר<mark></mark> <mark></mark>אש<mark>ׁ</mark>כ<mark></mark>ל וממרא הם יקחו חלקם </p>"
      ],
      "text/plain": [
       "<IPython.core.display.Markdown object>"
      ]
     },
     "metadata": {},
     "output_type": "display_data"
    },
    {
     "data": {
      "text/markdown": [
       "<h4>Genesis 15:1</h4><p><b>SP:</b> אחר<mark></mark> הדברים האלה היה דבר יהוה אל אברם במחזה לאמר אל תירא אברם אנכי מגן לך <mark>ו</mark>ש<mark></mark>כרך <mark>א</mark>רבה מאד <br><b>MT:</b> אחר<mark>׀</mark> הדברים האלה היה דבר יהוה אל אברם במחזה לאמר אל תירא אברם אנכי מגן לך <mark></mark>ש<mark>ׂ</mark>כרך <mark>ה</mark>רבה מאד </p>"
      ],
      "text/plain": [
       "<IPython.core.display.Markdown object>"
      ]
     },
     "metadata": {},
     "output_type": "display_data"
    },
    {
     "data": {
      "text/markdown": [
       "<h4>Genesis 15:2</h4><p><b>SP:</b> ויאמר אברם אדני יהוה מה תתן לי ואנכי ה<mark></mark>לך ער<mark></mark>רי ובן מש<mark></mark>ק ביתי הוא דמש<mark></mark>ק אליעזר <br><b>MT:</b> ויאמר אברם אדני יהוה מה תתן לי ואנכי ה<mark>ו</mark>לך ער<mark>י</mark>רי ובן מש<mark>ׁ</mark>ק ביתי הוא דמש<mark>ׂ</mark>ק אליעזר </p>"
      ],
      "text/plain": [
       "<IPython.core.display.Markdown object>"
      ]
     },
     "metadata": {},
     "output_type": "display_data"
    },
    {
     "data": {
      "text/markdown": [
       "<h4>Genesis 15:3</h4><p><b>SP:</b> ויאמר אברם הן לי לא נתתה זרע והנה בן ביתי י<mark>י</mark>רש<mark></mark> אתי <br><b>MT:</b> ויאמר אברם הן לי לא נתתה זרע והנה בן ביתי י<mark>ו</mark>רש<mark>ׁ</mark> אתי </p>"
      ],
      "text/plain": [
       "<IPython.core.display.Markdown object>"
      ]
     },
     "metadata": {},
     "output_type": "display_data"
    },
    {
     "data": {
      "text/markdown": [
       "<h4>Genesis 15:5</h4><p><b>SP:</b> ויוצא אתו החוצה ויאמר הבט נא הש<mark></mark>מי<mark>ם</mark> וספר הכוכבים אם תוכל לספר אתם ויאמר לו כה יהיה זרעך <br><b>MT:</b> ויוצא אתו החוצה ויאמר הבט נא הש<mark>ׁ</mark>מי<mark>מה</mark> וספר הכוכבים אם תוכל לספר אתם ויאמר לו כה יהיה זרעך </p>"
      ],
      "text/plain": [
       "<IPython.core.display.Markdown object>"
      ]
     },
     "metadata": {},
     "output_type": "display_data"
    },
    {
     "data": {
      "text/markdown": [
       "<h4>Genesis 15:8</h4><p><b>SP:</b> ויאמר אדני יהוה במה אדע כי אי<mark>י</mark>רש<mark></mark>נה <br><b>MT:</b> ויאמר אדני יהוה במה אדע כי אי<mark></mark>רש<mark>ׁ</mark>נה </p>"
      ],
      "text/plain": [
       "<IPython.core.display.Markdown object>"
      ]
     },
     "metadata": {},
     "output_type": "display_data"
    },
    {
     "data": {
      "text/markdown": [
       "<h4>Genesis 15:9</h4><p><b>SP:</b> ויאמר אליו קח<mark></mark> לי עגלה מש<mark></mark>לש<mark></mark>ת ועז מש<mark></mark>לש<mark></mark>ת ואיל מש<mark></mark>לש<mark></mark> ותר וגוזל <br><b>MT:</b> ויאמר אליו קח<mark>ה</mark> לי עגלה מש<mark>ׁ</mark>לש<mark>ׁ</mark>ת ועז מש<mark>ׁ</mark>לש<mark>ׁ</mark>ת ואיל מש<mark>ׁ</mark>לש<mark>ׁ</mark> ותר וגוזל </p>"
      ],
      "text/plain": [
       "<IPython.core.display.Markdown object>"
      ]
     },
     "metadata": {},
     "output_type": "display_data"
    },
    {
     "data": {
      "text/markdown": [
       "<h4>Genesis 15:10</h4><p><b>SP:</b> ויקח לו את כל אלה ויבתר אתם בתו<mark>ר</mark> ויתן איש<mark> את</mark> בתרו לקראת רעהו ואת הצפ<mark>ו</mark>ר<mark>ים</mark> לא בתר <br><b>MT:</b> ויקח לו את כל אלה ויבתר אתם בתו<mark>ך</mark> ויתן איש<mark>ׁ</mark> בתרו לקראת רעהו ואת הצפ<mark></mark>ר<mark></mark> לא בתר </p>"
      ],
      "text/plain": [
       "<IPython.core.display.Markdown object>"
      ]
     },
     "metadata": {},
     "output_type": "display_data"
    },
    {
     "data": {
      "text/markdown": [
       "<h4>Genesis 15:13</h4><p><b>SP:</b> ויאמר לאברם ידע תדע כי גר<mark></mark> יהיה זרעך בארץ לא להם ועבדום וענו אתם ארבע מאות ש<mark></mark>נה <br><b>MT:</b> ויאמר לאברם ידע תדע כי גר<mark>׀</mark> יהיה זרעך בארץ לא להם ועבדום וענו אתם ארבע מאות ש<mark>ׁ</mark>נה </p>"
      ],
      "text/plain": [
       "<IPython.core.display.Markdown object>"
      ]
     },
     "metadata": {},
     "output_type": "display_data"
    },
    {
     "data": {
      "text/markdown": [
       "<h4>Genesis 15:14</h4><p><b>SP:</b> וגם את הגוי אש<mark></mark>ר יעבדו דן אנכי ואחרי כן יצאו ברכ<mark>ו</mark>ש<mark></mark> גדול <br><b>MT:</b> וגם את הגוי אש<mark>ׁ</mark>ר יעבדו דן אנכי ואחרי כן יצאו ברכ<mark></mark>ש<mark>ׁ</mark> גדול </p>"
      ],
      "text/plain": [
       "<IPython.core.display.Markdown object>"
      ]
     },
     "metadata": {},
     "output_type": "display_data"
    },
    {
     "data": {
      "text/markdown": [
       "<h4>Genesis 15:16</h4><p><b>SP:</b> ודור <mark>ה</mark>רביעי יש<mark></mark>וב<mark></mark> הנה כי לא ש<mark></mark>לם עון האמרי עד הנה <br><b>MT:</b> ודור <mark></mark>רביעי יש<mark>ׁ</mark>וב<mark>ו</mark> הנה כי לא ש<mark>ׁ</mark>לם עון האמרי עד הנה </p>"
      ],
      "text/plain": [
       "<IPython.core.display.Markdown object>"
      ]
     },
     "metadata": {},
     "output_type": "display_data"
    },
    {
     "data": {
      "text/markdown": [
       "<h4>Genesis 15:18</h4><p><b>SP:</b> ביום ההוא כרת יהוה את אברם ברית לאמר לזרעך נתתי את הארץ הזאת מנהר מצרים עד הנהר הגד<mark>ו</mark>ל נהר פרת <br><b>MT:</b> ביום ההוא כרת יהוה את אברם ברית לאמר לזרעך נתתי את הארץ הזאת מנהר מצרים עד הנהר הגד<mark></mark>ל נהר פרת </p>"
      ],
      "text/plain": [
       "<IPython.core.display.Markdown object>"
      ]
     },
     "metadata": {},
     "output_type": "display_data"
    },
    {
     "data": {
      "text/markdown": [
       "<h4>Genesis 15:19</h4><p><b>SP:</b> את הקיני ואת הקנזי ואת הקדמ<mark>ו</mark>ני <br><b>MT:</b> את הקיני ואת הקנזי ואת הקדמ<mark></mark>ני </p>"
      ],
      "text/plain": [
       "<IPython.core.display.Markdown object>"
      ]
     },
     "metadata": {},
     "output_type": "display_data"
    },
    {
     "data": {
      "text/markdown": [
       "<h4>Genesis 15:21</h4><p><b>SP:</b> ואת האמרי ואת הכנעני ואת הגרגש<mark>י ואת החו</mark>י ואת היבוסי <br><b>MT:</b> ואת האמרי ואת הכנעני ואת הגרגש<mark>ׁ</mark>י ואת היבוסי </p>"
      ],
      "text/plain": [
       "<IPython.core.display.Markdown object>"
      ]
     },
     "metadata": {},
     "output_type": "display_data"
    },
    {
     "data": {
      "text/markdown": [
       "<h4>Genesis 16:5</h4><p><b>SP:</b> ותאמר ש<mark></mark>רי אל אברם חמסי עליך אנכי נתתי ש<mark></mark>פחתי בחיקך ותרא כי הרתה ואקל בעיניה יש<mark></mark>פט יהוה ביני ובינ<mark></mark>ך <br><b>MT:</b> ותאמר ש<mark>ׂ</mark>רי אל אברם חמסי עליך אנכי נתתי ש<mark>ׁ</mark>פחתי בחיקך ותרא כי הרתה ואקל בעיניה יש<mark>ׁ</mark>פט יהוה ביני ובינ<mark>י</mark>ך </p>"
      ],
      "text/plain": [
       "<IPython.core.display.Markdown object>"
      ]
     },
     "metadata": {},
     "output_type": "display_data"
    },
    {
     "data": {
      "text/markdown": [
       "<h4>Genesis 16:6</h4><p><b>SP:</b> ויאמר אברם אל ש<mark></mark>רי הנה ש<mark></mark>פחת<mark>י</mark>ך ביד<mark>י</mark>ך עש<mark>ה</mark> לה הטוב בעיניך ותענה ש<mark></mark>רי ותברח מפניה <br><b>MT:</b> ויאמר אברם אל ש<mark>ׂ</mark>רי הנה ש<mark>ׁ</mark>פחת<mark></mark>ך ביד<mark></mark>ך עש<mark>ׂי</mark> לה הטוב בעיניך ותענה ש<mark>ׂ</mark>רי ותברח מפניה </p>"
      ],
      "text/plain": [
       "<IPython.core.display.Markdown object>"
      ]
     },
     "metadata": {},
     "output_type": "display_data"
    },
    {
     "data": {
      "text/markdown": [
       "<h4>Genesis 16:8</h4><p><b>SP:</b> ויאמר הגר ש<mark></mark>פחת ש<mark></mark>רי א<mark>ו</mark>י מזה באת<mark>י</mark> ואנה תלכי ותאמר מפני ש<mark></mark>רי גברתי אנכי ברחת <br><b>MT:</b> ויאמר הגר ש<mark>ׁ</mark>פחת ש<mark>ׂ</mark>רי א<mark></mark>י מזה באת<mark></mark> ואנה תלכי ותאמר מפני ש<mark>ׂ</mark>רי גברתי אנכי ברחת </p>"
      ],
      "text/plain": [
       "<IPython.core.display.Markdown object>"
      ]
     },
     "metadata": {},
     "output_type": "display_data"
    },
    {
     "data": {
      "text/markdown": [
       "<h4>Genesis 16:9</h4><p><b>SP:</b> ויאמר לה מלאך יהוה ש<mark></mark>ובי אל גברת<mark>י</mark>ך והתעני תחת יד<mark></mark>ה <br><b>MT:</b> ויאמר לה מלאך יהוה ש<mark>ׁ</mark>ובי אל גברת<mark></mark>ך והתעני תחת יד<mark>י</mark>ה </p>"
      ],
      "text/plain": [
       "<IPython.core.display.Markdown object>"
      ]
     },
     "metadata": {},
     "output_type": "display_data"
    },
    {
     "data": {
      "text/markdown": [
       "<h4>Genesis 16:10</h4><p><b>SP:</b> ויאמר לה מלאך יהוה הרבה ארבה את זרע<mark>י</mark>ך ולא יספר מרב <br><b>MT:</b> ויאמר לה מלאך יהוה הרבה ארבה את זרע<mark></mark>ך ולא יספר מרב </p>"
      ],
      "text/plain": [
       "<IPython.core.display.Markdown object>"
      ]
     },
     "metadata": {},
     "output_type": "display_data"
    },
    {
     "data": {
      "text/markdown": [
       "<h4>Genesis 16:11</h4><p><b>SP:</b> ויאמר לה מלאך יהוה הנך הרה וילדת בן וקראת <mark>את </mark>ש<mark></mark>מו יש<mark></mark>מעאל כי ש<mark></mark>מע יהוה אל עניך <br><b>MT:</b> ויאמר לה מלאך יהוה הנך הרה וילדת בן וקראת <mark></mark>ש<mark>ׁ</mark>מו יש<mark>ׁ</mark>מעאל כי ש<mark>ׁ</mark>מע יהוה אל עניך </p>"
      ],
      "text/plain": [
       "<IPython.core.display.Markdown object>"
      ]
     },
     "metadata": {},
     "output_type": "display_data"
    },
    {
     "data": {
      "text/markdown": [
       "<h4>Genesis 16:12</h4><p><b>SP:</b> והוא יהיה פר<mark>ה</mark> אדם ידו בכל ויד כל בו ועל פני כל אחיו יש<mark></mark>כן <br><b>MT:</b> והוא יהיה פר<mark>א</mark> אדם ידו בכל ויד כל בו ועל פני כל אחיו יש<mark>ׁ</mark>כן </p>"
      ],
      "text/plain": [
       "<IPython.core.display.Markdown object>"
      ]
     },
     "metadata": {},
     "output_type": "display_data"
    },
    {
     "data": {
      "text/markdown": [
       "<h4>Genesis 16:13</h4><p><b>SP:</b> ותקרא ש<mark></mark>ם יהוה הדבר אליה אתה אל רא<mark>ה</mark> כי אמרה הגם הלם ראיתי אחרי רא<mark>ה</mark> <br><b>MT:</b> ותקרא ש<mark>ׁ</mark>ם יהוה הדבר אליה אתה אל רא<mark>י</mark> כי אמרה הגם הלם ראיתי אחרי רא<mark>י</mark> </p>"
      ],
      "text/plain": [
       "<IPython.core.display.Markdown object>"
      ]
     },
     "metadata": {},
     "output_type": "display_data"
    },
    {
     "data": {
      "text/markdown": [
       "<h4>Genesis 16:14</h4><p><b>SP:</b> על כן קרא<mark>ה</mark> לבאר באר לחי רא<mark>ה</mark> הנה בין קדש<mark></mark> ובין ברד <br><b>MT:</b> על כן קרא<mark></mark> לבאר באר לחי רא<mark>י</mark> הנה בין קדש<mark>ׁ</mark> ובין ברד </p>"
      ],
      "text/plain": [
       "<IPython.core.display.Markdown object>"
      ]
     },
     "metadata": {},
     "output_type": "display_data"
    },
    {
     "data": {
      "text/markdown": [
       "<h4>Genesis 16:15</h4><p><b>SP:</b> ותלד הגר לאברם בן ויקרא אברם <mark>את </mark>ש<mark></mark>ם בנו אש<mark></mark>ר ילדה הגר יש<mark></mark>מעאל <br><b>MT:</b> ותלד הגר לאברם בן ויקרא אברם <mark></mark>ש<mark>ׁ</mark>ם בנו אש<mark>ׁ</mark>ר ילדה הגר יש<mark>ׁ</mark>מעאל </p>"
      ],
      "text/plain": [
       "<IPython.core.display.Markdown object>"
      ]
     },
     "metadata": {},
     "output_type": "display_data"
    },
    {
     "data": {
      "text/markdown": [
       "<h4>Genesis 17:1</h4><p><b>SP:</b> ויהי אברם בן תש<mark></mark>עים <mark></mark>ותש<mark></mark>ע ש<mark></mark>נים וירא יהוה אל אברם ויאמר אליו אני אל ש<mark></mark>די התהלך לפני וה<mark>ו</mark>י<mark></mark> תמים <br><b>MT:</b> ויהי אברם בן תש<mark>ׁ</mark>עים <mark>שׁנה </mark>ותש<mark>ׁ</mark>ע ש<mark>ׁ</mark>נים וירא יהוה אל אברם ויאמר אליו אני אל ש<mark>ׁ</mark>די התהלך לפני וה<mark></mark>י<mark>ה</mark> תמים </p>"
      ],
      "text/plain": [
       "<IPython.core.display.Markdown object>"
      ]
     },
     "metadata": {},
     "output_type": "display_data"
    },
    {
     "data": {
      "text/markdown": [
       "<h4>Genesis 17:2</h4><p><b>SP:</b> ואתנה בריתי ביני ובינך וארבה א<mark></mark>תך במאד מאד <br><b>MT:</b> ואתנה בריתי ביני ובינך וארבה א<mark>ו</mark>תך במאד מאד </p>"
      ],
      "text/plain": [
       "<IPython.core.display.Markdown object>"
      ]
     },
     "metadata": {},
     "output_type": "display_data"
    },
    {
     "data": {
      "text/markdown": [
       "<h4>Genesis 17:4</h4><p><b>SP:</b> <mark>ו</mark>אני הנה בריתי אתך והיית לאב המון גוים <br><b>MT:</b> <mark></mark>אני הנה בריתי אתך והיית לאב המון גוים </p>"
      ],
      "text/plain": [
       "<IPython.core.display.Markdown object>"
      ]
     },
     "metadata": {},
     "output_type": "display_data"
    },
    {
     "data": {
      "text/markdown": [
       "<h4>Genesis 17:5</h4><p><b>SP:</b> ולא יקרא עוד <mark></mark>ש<mark></mark>מך אברם והיה ש<mark></mark>מך אברהם כי אב המון גוים נתתיך <br><b>MT:</b> ולא יקרא עוד <mark>את </mark>ש<mark>ׁ</mark>מך אברם והיה ש<mark>ׁ</mark>מך אברהם כי אב המון גוים נתתיך </p>"
      ],
      "text/plain": [
       "<IPython.core.display.Markdown object>"
      ]
     },
     "metadata": {},
     "output_type": "display_data"
    },
    {
     "data": {
      "text/markdown": [
       "<h4>Genesis 17:6</h4><p><b>SP:</b> והפר<mark>י</mark>תי אתך במאד מאד ונתתיך לגוים ומלכים ממך יצאו <br><b>MT:</b> והפר<mark></mark>תי אתך במאד מאד ונתתיך לגוים ומלכים ממך יצאו </p>"
      ],
      "text/plain": [
       "<IPython.core.display.Markdown object>"
      ]
     },
     "metadata": {},
     "output_type": "display_data"
    },
    {
     "data": {
      "text/markdown": [
       "<h4>Genesis 17:8</h4><p><b>SP:</b> ונתתי לך ולזרעך אחריך את<mark></mark> ארץ מגריך את כל ארץ כנען לאחזת עולם והייתי להם לאלהים <br><b>MT:</b> ונתתי לך ולזרעך אחריך את<mark>׀</mark> ארץ מגריך את כל ארץ כנען לאחזת עולם והייתי להם לאלהים </p>"
      ],
      "text/plain": [
       "<IPython.core.display.Markdown object>"
      ]
     },
     "metadata": {},
     "output_type": "display_data"
    },
    {
     "data": {
      "text/markdown": [
       "<h4>Genesis 17:9</h4><p><b>SP:</b> ויאמר אלהים אל אברהם ואתה את בריתי תש<mark></mark>מר אתה וזרעך אחריך לדר<mark>ו</mark>תם <br><b>MT:</b> ויאמר אלהים אל אברהם ואתה את בריתי תש<mark>ׁ</mark>מר אתה וזרעך אחריך לדר<mark></mark>תם </p>"
      ],
      "text/plain": [
       "<IPython.core.display.Markdown object>"
      ]
     },
     "metadata": {},
     "output_type": "display_data"
    },
    {
     "data": {
      "text/markdown": [
       "<h4>Genesis 17:10</h4><p><b>SP:</b> זאת בריתי אש<mark></mark>ר תש<mark></mark>מרו ביני ובינ<mark></mark>כם ובין זרעך אחריך המול לכם כל זכר <br><b>MT:</b> זאת בריתי אש<mark>ׁ</mark>ר תש<mark>ׁ</mark>מרו ביני ובינ<mark>י</mark>כם ובין זרעך אחריך המול לכם כל זכר </p>"
      ],
      "text/plain": [
       "<IPython.core.display.Markdown object>"
      ]
     },
     "metadata": {},
     "output_type": "display_data"
    },
    {
     "data": {
      "text/markdown": [
       "<h4>Genesis 17:11</h4><p><b>SP:</b> ונמלתם את בש<mark></mark>ר ערלתכם והי<mark>ת</mark>ה לאות ברית ביני ובינ<mark></mark>כם <br><b>MT:</b> ונמלתם את בש<mark>ׂ</mark>ר ערלתכם והי<mark></mark>ה לאות ברית ביני ובינ<mark>י</mark>כם </p>"
      ],
      "text/plain": [
       "<IPython.core.display.Markdown object>"
      ]
     },
     "metadata": {},
     "output_type": "display_data"
    },
    {
     "data": {
      "text/markdown": [
       "<h4>Genesis 17:13</h4><p><b>SP:</b> המול<mark></mark> ימול יליד<mark>י</mark> ביתך ומקנת כספך והיתה בריתי בבש<mark></mark>רכם לברית עולם <br><b>MT:</b> המול<mark>׀</mark> ימול יליד<mark></mark> ביתך ומקנת כספך והיתה בריתי בבש<mark>ׂ</mark>רכם לברית עולם </p>"
      ],
      "text/plain": [
       "<IPython.core.display.Markdown object>"
      ]
     },
     "metadata": {},
     "output_type": "display_data"
    },
    {
     "data": {
      "text/markdown": [
       "<h4>Genesis 17:14</h4><p><b>SP:</b> וערל<mark></mark> זכר אש<mark></mark>ר לא ימול את בש<mark></mark>ר ערלתו<mark> ביום השמיני</mark> ונכרתה הנפש<mark></mark> הה<mark>י</mark>א מעמיה את בריתי הפר <br><b>MT:</b> וערל<mark>׀</mark> זכר אש<mark>ׁ</mark>ר לא ימול את בש<mark>ׂ</mark>ר ערלתו<mark></mark> ונכרתה הנפש<mark>ׁ</mark> הה<mark>ו</mark>א מעמיה את בריתי הפר </p>"
      ],
      "text/plain": [
       "<IPython.core.display.Markdown object>"
      ]
     },
     "metadata": {},
     "output_type": "display_data"
    },
    {
     "data": {
      "text/markdown": [
       "<h4>Genesis 17:16</h4><p><b>SP:</b> וברכתי אתה וגם נתתי ממנה לך בן וברכתי<mark>ו</mark> והיתה לגוים <mark>ו</mark>מלכי עמים ממנה יהיו <br><b>MT:</b> וברכתי אתה וגם נתתי ממנה לך בן וברכתי<mark>ה</mark> והיתה לגוים <mark></mark>מלכי עמים ממנה יהיו </p>"
      ],
      "text/plain": [
       "<IPython.core.display.Markdown object>"
      ]
     },
     "metadata": {},
     "output_type": "display_data"
    },
    {
     "data": {
      "text/markdown": [
       "<h4>Genesis 17:17</h4><p><b>SP:</b> ויפל אברהם על פניו ויצחק ויאמר בלבו הלבן מא<mark>ת</mark> ש<mark></mark>נה <mark>א</mark>ול<mark>י</mark>ד ואם ש<mark></mark>רה הבת תש<mark></mark>עים ש<mark></mark>נה תלד <br><b>MT:</b> ויפל אברהם על פניו ויצחק ויאמר בלבו הלבן מא<mark>ה</mark> ש<mark>ׁ</mark>נה <mark>י</mark>ול<mark></mark>ד ואם ש<mark>ׂ</mark>רה הבת תש<mark>ׁ</mark>עים ש<mark>ׁ</mark>נה תלד </p>"
      ],
      "text/plain": [
       "<IPython.core.display.Markdown object>"
      ]
     },
     "metadata": {},
     "output_type": "display_data"
    },
    {
     "data": {
      "text/markdown": [
       "<h4>Genesis 17:18</h4><p><b>SP:</b> ויאמר אברהם אל האלהים לו<mark>י</mark> יש<mark></mark>מעאל יחיה לפניך <br><b>MT:</b> ויאמר אברהם אל האלהים לו<mark></mark> יש<mark>ׁ</mark>מעאל יחיה לפניך </p>"
      ],
      "text/plain": [
       "<IPython.core.display.Markdown object>"
      ]
     },
     "metadata": {},
     "output_type": "display_data"
    },
    {
     "data": {
      "text/markdown": [
       "<h4>Genesis 17:19</h4><p><b>SP:</b> ויאמר אלהים אבל <mark>הנה </mark>ש<mark></mark>רה אש<mark></mark>תך ילדת לך בן וקראת את ש<mark></mark>מו יצחק והקמתי את בריתי אתו לברית עולם <mark>ו</mark>לזרעו אחריו <br><b>MT:</b> ויאמר אלהים אבל <mark></mark>ש<mark>ׂ</mark>רה אש<mark>ׁ</mark>תך ילדת לך בן וקראת את ש<mark>ׁ</mark>מו יצחק והקמתי את בריתי אתו לברית עולם <mark></mark>לזרעו אחריו </p>"
      ],
      "text/plain": [
       "<IPython.core.display.Markdown object>"
      ]
     },
     "metadata": {},
     "output_type": "display_data"
    },
    {
     "data": {
      "text/markdown": [
       "<h4>Genesis 17:20</h4><p><b>SP:</b> וליש<mark></mark>מעאל ש<mark></mark>מעתיך הנה<mark></mark> ברכתי אתו והפריתי אתו והרביתי אתו במאד מאד ש<mark></mark>נים עש<mark></mark>ר נש<mark></mark>יא<mark>י</mark>ם יוליד ונתתיו לגוי גדול <br><b>MT:</b> וליש<mark>ׁ</mark>מעאל ש<mark>ׁ</mark>מעתיך הנה<mark>׀</mark> ברכתי אתו והפריתי אתו והרביתי אתו במאד מאד ש<mark>ׁ</mark>נים עש<mark>ׂ</mark>ר נש<mark>ׂ</mark>יא<mark></mark>ם יוליד ונתתיו לגוי גדול </p>"
      ],
      "text/plain": [
       "<IPython.core.display.Markdown object>"
      ]
     },
     "metadata": {},
     "output_type": "display_data"
    },
    {
     "data": {
      "text/markdown": [
       "<h4>Genesis 17:24</h4><p><b>SP:</b> ואברהם בן תש<mark></mark>עים ותש<mark></mark>ע ש<mark></mark>נ<mark>ים</mark> בהמלו <mark>את </mark>בש<mark></mark>ר ערלתו <br><b>MT:</b> ואברהם בן תש<mark>ׁ</mark>עים ותש<mark>ׁ</mark>ע ש<mark>ׁ</mark>נ<mark>ה</mark> בהמלו <mark></mark>בש<mark>ׂ</mark>ר ערלתו </p>"
      ],
      "text/plain": [
       "<IPython.core.display.Markdown object>"
      ]
     },
     "metadata": {},
     "output_type": "display_data"
    },
    {
     "data": {
      "text/markdown": [
       "<h4>Genesis 17:26</h4><p><b>SP:</b> בעצם היום הזה נמ<mark></mark>ל אברהם ויש<mark></mark>מעאל בנו <br><b>MT:</b> בעצם היום הזה נמ<mark>ו</mark>ל אברהם ויש<mark>ׁ</mark>מעאל בנו </p>"
      ],
      "text/plain": [
       "<IPython.core.display.Markdown object>"
      ]
     },
     "metadata": {},
     "output_type": "display_data"
    },
    {
     "data": {
      "text/markdown": [
       "<h4>Genesis 17:27</h4><p><b>SP:</b> וכל אנש<mark></mark>י ביתו יליד בית ומקנת כסף מאת בן נכר נמלו אתו <br><b>MT:</b> וכל אנש<mark>ׁ</mark>י ביתו יליד בית ומקנת כסף מאת בן נכר נמלו אתו </p>"
      ],
      "text/plain": [
       "<IPython.core.display.Markdown object>"
      ]
     },
     "metadata": {},
     "output_type": "display_data"
    }
   ],
   "source": [
    "from difflib import SequenceMatcher\n",
    "\n",
    "def highlightMatches(baseText, comparisonText):\n",
    "    matcher = SequenceMatcher(None, baseText, comparisonText)\n",
    "    highlightedComparisonText = \"\" \n",
    "    for tag, i1, i2, j1, j2 in matcher.get_opcodes():\n",
    "        if tag == \"equal\":  # Identical parts\n",
    "            highlightedComparisonText += comparisonText[j1:j2]\n",
    "        else:  # Non-matching parts\n",
    "            highlightedComparisonText += f'<mark>{comparisonText[j1:j2]}</mark>'  \n",
    "    return highlightedComparisonText\n",
    "\n",
    "def cleanText(text):\n",
    "    replacements = [\n",
    "         # for the transcoded strings\n",
    "         ('00_P', ''),  # Remove '00_P'\n",
    "         ('00_S', ''),  # Remove '00_S'\n",
    "         ('00', ''),    # Remove '00'\n",
    "         ('&', ' '),    # Replace '&' with a space\n",
    "         # for the Hebrew strings\n",
    "         ('ס ', ''),    # Final Samekh\n",
    "         ('פ ', ''),    # Final Pe\n",
    "         ('׃', ''),     # End of verse\n",
    "         ('־',' ')      # maqaf\n",
    "    ]\n",
    "    # Apply each replacement\n",
    "    for old, new in replacements:\n",
    "        text = text.replace(old, new)\n",
    "    return text\n",
    "\n",
    "# Function to format and highlight verse differences between MT and SP\n",
    "def formatAndHighlight(label, MTverseText, SPverseText):\n",
    "    book, chapter, verse = label\n",
    "    MTverseNode = Tmt.nodeFromSection(label)\n",
    "    MTtext = cleanText(Tmt.text(MTverseNode, \"text-orig-plain\"))\n",
    "    SPverseNode = Tsp.nodeFromSection(label)\n",
    "    SPtext = Tsp.text(SPverseNode)\n",
    "    SPmarkedText = highlightMatches(MTtext, SPtext)\n",
    "    MTmarkedText = highlightMatches(SPtext, MTtext)\n",
    "    formattedDiff = (\n",
    "        f'<h4>{book} {chapter}:{verse}</h4>'\n",
    "        f'<p><b>SP:</b> {SPmarkedText}<br><b>MT:</b> {MTmarkedText}</p>'\n",
    "    )\n",
    "    return formattedDiff\n",
    "\n",
    "# Create header\n",
    "MT.dm(f'### Differences between MT and SP for parasha {parashaNameEnglish} ({parashaStart}-{parashaEnd})')\n",
    "\n",
    "# Highlight and display differences for SP and MT verses\n",
    "for label, MTverseText in MTverses.items():\n",
    "    SPverseText = SPverses.get(label, '')\n",
    "    MTverseText=cleanText(MTverseText)\n",
    "    if MTverseText != SPverseText:  # Check for differences\n",
    "        difference = formatAndHighlight(label, MTverseText, SPverseText)\n",
    "        MT.dm(difference)"
   ]
  },
  {
   "cell_type": "markdown",
   "id": "da916301",
   "metadata": {},
   "source": [
    "# 4 - Compare texts using minimum Levenshtein distance<a class=\"anchor\" id=\"bullet4\"></a>\n",
    "##### [Back to ToC](#TOC)"
   ]
  },
  {
   "cell_type": "markdown",
   "id": "f516dc36-754b-4b37-b2d7-7f07b18310ac",
   "metadata": {},
   "source": [
    "The Levenshtein distance measures the minimum number of single-character edits (insertions, deletions, or substitutions) needed to transform one text into another, providing a quantitative way to compare textual differences. For comparing the Masoretic Text and Samaritan Pentateuch, it highlights variations in spelling, word order, or minor textual changes. \n",
    "In the context of the Levenshtein distance (in the script below `threshold`), a higher number indicates greater dissimilarity between two texts, meaning more edits (insertions, deletions, or substitutions) are needed to transform one text into the other."
   ]
  },
  {
   "cell_type": "code",
   "execution_count": 6,
   "id": "659bfe18",
   "metadata": {},
   "outputs": [
    {
     "data": {
      "text/markdown": [
       "### Levenshtein distance 20 between MT and SP for parasha Lech Lecha (Genesis 12:1-17:27)"
      ],
      "text/plain": [
       "<IPython.core.display.Markdown object>"
      ]
     },
     "metadata": {},
     "output_type": "display_data"
    },
    {
     "data": {
      "text/markdown": [
       "<h4>Genesis 12:16</h4><p><b>SP:</b> ולאברם הי<mark>י</mark>ט<mark></mark>ב בעבורה ויהי לו צאן ובקר <mark>מקנה כבד מאד עבדים ושפחות </mark>וחמרים ו<mark></mark>אתנ<mark>ו</mark>ת וגמלים <br><b>MT:</b> ולאברם הי<mark>ט</mark>י<mark></mark>ב בעבורה ויהי לו צאן ובקר <mark>וח</mark>מ<mark>רים</mark> <mark>ו</mark>עבדים וש<mark>ׁ</mark>פח<mark></mark>ת<mark></mark> ואתנ<mark></mark>ת וגמלים </p>"
      ],
      "text/plain": [
       "<IPython.core.display.Markdown object>"
      ]
     },
     "metadata": {},
     "output_type": "display_data"
    },
    {
     "data": {
      "text/markdown": [
       "<h4>Genesis 17:14</h4><p><b>SP:</b> וערל<mark></mark> זכר אש<mark></mark>ר לא ימול את בש<mark></mark>ר ערלתו<mark> ביום השמיני</mark> ונכרתה הנפש<mark></mark> הה<mark>י</mark>א מעמיה את בריתי הפר <br><b>MT:</b> וערל<mark>׀</mark> זכר אש<mark>ׁ</mark>ר לא ימול את בש<mark>ׂ</mark>ר ערלתו<mark></mark> ונכרתה הנפש<mark>ׁ</mark> הה<mark>ו</mark>א מעמיה את בריתי הפר </p>"
      ],
      "text/plain": [
       "<IPython.core.display.Markdown object>"
      ]
     },
     "metadata": {},
     "output_type": "display_data"
    }
   ],
   "source": [
    "# Compare verses based on Levenshtein distance\n",
    "from Levenshtein import distance\n",
    "threshold = 20\n",
    "\n",
    "# Create header\n",
    "MT.dm(f'### Levenshtein distance {threshold} between MT and SP for parasha {parashaNameEnglish} ({parashaStart}-{parashaEnd})')\n",
    "\n",
    "for label, MTverseText in MTverses.items():\n",
    "    SPverseText = SPverses.get(label, '')\n",
    "    if distance(MTverseText, SPverseText) > threshold:\n",
    "        formattedDiff = formatAndHighlight(label, MTverseText, SPverseText)\n",
    "        MT.dm(formattedDiff)"
   ]
  },
  {
   "cell_type": "markdown",
   "id": "63886933",
   "metadata": {},
   "source": [
    "# 5 - Comparison of spelling of proper nouns between SP and MT<a class=\"anchor\" id=\"bullet5\"></a>\n",
    "##### [Back to ToC](#TOC)\n",
    "\n",
    "This section focuses on comparing the spelling of proper nouns between the Samaritan Pentateuch (SP) and the Masoretic Text (MT). Proper nouns, including names of people, places, and unique terms, often exhibit variations in spelling"
   ]
  },
  {
   "cell_type": "code",
   "execution_count": 7,
   "id": "a4011f7c",
   "metadata": {},
   "outputs": [],
   "source": [
    "import collections\n",
    "\n",
    "def collectProperNounSpellings(F, L, T, inputList):\n",
    "    \"\"\"\n",
    "    Collect proper noun spellings and their associated word node numbers.\n",
    "    Ensures only one tuple is stored for each lexeme-to-spelling mapping.\n",
    "    \"\"\"\n",
    "    properNounsSpellings = {}\n",
    "    for bookChapterVerse in inputList:\n",
    "        verseNode = T.nodeFromSection(bookChapterVerse)\n",
    "        wordNodes = L.d(verseNode, 'word')\n",
    "        for wordNode in wordNodes:\n",
    "            if F.sp.v(wordNode) == 'nmpr':  # Check if the word is a proper noun\n",
    "                lex = F.lex.v(wordNode)    # Lexical form\n",
    "                spelling = F.g_cons.v(wordNode)  # Spelling\n",
    "                # Store only the first occurrence for each lex-to-cons mapping\n",
    "                if lex not in properNounsSpellings or spelling not in {item[0] for item in properNounsSpellings[lex]}:\n",
    "                    properNounsSpellings.setdefault(lex, []).append((spelling, wordNode))\n",
    "    return properNounsSpellings\n",
    "        \n",
    "SPspellingDict = collectProperNounSpellings(Fsp, Lsp, Tsp, bookChapterVerseList) \n",
    "MTspellingDict = collectProperNounSpellings(Fmt, Lmt, Tmt, bookChapterVerseList)"
   ]
  },
  {
   "cell_type": "code",
   "execution_count": 8,
   "id": "cd6ce780-6acd-4744-9809-dcfa30a448f0",
   "metadata": {},
   "outputs": [
    {
     "data": {
      "text/markdown": [
       "### Spelling differences proper nouns in SP and MT for parasha Lech Lecha (Genesis 12:1-17:27)"
      ],
      "text/plain": [
       "<IPython.core.display.Markdown object>"
      ]
     },
     "metadata": {},
     "output_type": "display_data"
    },
    {
     "data": {
      "text/markdown": [
       "#### Word: **Moreh** (Genesis 12:6)\n",
       "- **MT Spelling:** `מורה`\n",
       "- **SP Spelling:** `מורא`\n"
      ],
      "text/plain": [
       "<IPython.core.display.Markdown object>"
      ]
     },
     "metadata": {},
     "output_type": "display_data"
    },
    {
     "data": {
      "text/markdown": [
       "#### Word: **Zoar** (Genesis 13:10)\n",
       "- **MT Spelling:** `צער`\n",
       "- **SP Spelling:** `צערה`\n"
      ],
      "text/plain": [
       "<IPython.core.display.Markdown object>"
      ]
     },
     "metadata": {},
     "output_type": "display_data"
    },
    {
     "data": {
      "text/markdown": [
       "#### Word: **Kedorlaomer** (Genesis 14:1)\n",
       "- **MT Spelling:** `כדרלעמר`\n",
       "- **SP Spelling:** `כדר לעמר`\n"
      ],
      "text/plain": [
       "<IPython.core.display.Markdown object>"
      ]
     },
     "metadata": {},
     "output_type": "display_data"
    },
    {
     "data": {
      "text/markdown": [
       "#### Word: **Shemeber** (Genesis 14:2)\n",
       "- **MT Spelling:** `שׁמאבר`\n",
       "- **SP Spelling:** `שׁמ אבד`\n"
      ],
      "text/plain": [
       "<IPython.core.display.Markdown object>"
      ]
     },
     "metadata": {},
     "output_type": "display_data"
    },
    {
     "data": {
      "text/markdown": [
       "#### Word: **Zeboiim** (Genesis 14:2)\n",
       "- **MT Spelling:** `צביים`\n",
       "- **SP Spelling:** `צבואים`\n"
      ],
      "text/plain": [
       "<IPython.core.display.Markdown object>"
      ]
     },
     "metadata": {},
     "output_type": "display_data"
    },
    {
     "data": {
      "text/markdown": [
       "#### Word: **Ashteroth Karnaim** (Genesis 14:5)\n",
       "- **MT Spelling:** `עשׁתרת קרנים`\n",
       "- **SP Spelling:** `עשׁתרות קרנים`\n"
      ],
      "text/plain": [
       "<IPython.core.display.Markdown object>"
      ]
     },
     "metadata": {},
     "output_type": "display_data"
    },
    {
     "data": {
      "text/markdown": [
       "#### Word: **Ham** (Genesis 14:5)\n",
       "- **MT Spelling:** `הם`\n",
       "- **SP Spelling:** None\n"
      ],
      "text/plain": [
       "<IPython.core.display.Markdown object>"
      ]
     },
     "metadata": {},
     "output_type": "display_data"
    },
    {
     "data": {
      "text/markdown": [
       "#### Word: **El Paran** (Genesis 14:6)\n",
       "- **MT Spelling:** `איל פארן`\n",
       "- **SP Spelling:** `איל פראן`\n"
      ],
      "text/plain": [
       "<IPython.core.display.Markdown object>"
      ]
     },
     "metadata": {},
     "output_type": "display_data"
    },
    {
     "data": {
      "text/markdown": [
       "#### Word: **Hazazon Tamar** (Genesis 14:7)\n",
       "- **MT Spelling:** `חצצן תמר`\n",
       "- **SP Spelling:** `חצצונ תמר`\n"
      ],
      "text/plain": [
       "<IPython.core.display.Markdown object>"
      ]
     },
     "metadata": {},
     "output_type": "display_data"
    },
    {
     "data": {
      "text/markdown": [
       "#### Word: **Eshcol** (Genesis 14:13)\n",
       "- **MT Spelling:** `אשׁכל`\n",
       "- **SP Spelling:** `אשׁכול`\n"
      ],
      "text/plain": [
       "<IPython.core.display.Markdown object>"
      ]
     },
     "metadata": {},
     "output_type": "display_data"
    },
    {
     "data": {
      "text/markdown": [
       "#### Word: **Aner** (Genesis 14:13)\n",
       "- **MT Spelling:** `ענר`\n",
       "- **SP Spelling:** `ענרם`\n"
      ],
      "text/plain": [
       "<IPython.core.display.Markdown object>"
      ]
     },
     "metadata": {},
     "output_type": "display_data"
    },
    {
     "data": {
      "text/markdown": [
       "#### Word: **Shaveh** (Genesis 14:17)\n",
       "- **MT Spelling:** `שׁוה`\n",
       "- **SP Spelling:** `שׁוי`\n"
      ],
      "text/plain": [
       "<IPython.core.display.Markdown object>"
      ]
     },
     "metadata": {},
     "output_type": "display_data"
    },
    {
     "data": {
      "text/markdown": [
       "#### Word: **Beer Lahai Roi** (Genesis 16:14)\n",
       "- **MT Spelling:** `לחי ראי`\n",
       "- **SP Spelling:** `לחי ראה`\n"
      ],
      "text/plain": [
       "<IPython.core.display.Markdown object>"
      ]
     },
     "metadata": {},
     "output_type": "display_data"
    }
   ],
   "source": [
    "# Create header\n",
    "MT.dm(f'### Spelling differences proper nouns in SP and MT for parasha {parashaNameEnglish} ({parashaStart}-{parashaEnd})')\n",
    "    \n",
    "for lex, MTspellings in MTspellingDict.items():\n",
    "    # Retrieve SP spellings, defaulting to an empty set if lex is not found\n",
    "    SPspellings = SPspellingDict.get(lex, set())\n",
    "\n",
    "    # Extract only the spellings (ignoring node numbers) for comparison\n",
    "    MTspellingSet = {spelling for spelling, _ in MTspellings}\n",
    "    SPspellingSet = {spelling for spelling, _ in SPspellings}\n",
    "\n",
    "    # Compare the sets of spellings\n",
    "    if MTspellingSet != SPspellingSet:\n",
    "        # Print MT spelling with reference\n",
    "        MTnode = list(MTspellings)[0][1]  # Get first tuple's node number\n",
    "        book, chapter, verse = Tmt.sectionFromNode(MTnode)\n",
    "        MTgloss = Fmt.gloss.v(MTnode)\n",
    "        MTspelling = Fmt.g_cons_utf8.v(MTnode)\n",
    "\n",
    "        # Build Markdown output\n",
    "        output = f\"#### Word: **{MTgloss}** ({book} {chapter}:{verse})\\n\"\n",
    "        output += f\"- **MT Spelling:** `{MTspelling}`\\n\"\n",
    "\n",
    "        # Print SP spellings with reference\n",
    "        if SPspellings:\n",
    "            SPnode = list(SPspellings)[0][1]  # Get first tuple's node number\n",
    "            SPspelling = Fsp.g_cons_utf8.v(SPnode)\n",
    "            output += f\"- **SP Spelling:** `{SPspelling}`\\n\"\n",
    "        else:\n",
    "            output += \"- **SP Spelling:** None\\n\"\n",
    "\n",
    "        # Print the formatted output\n",
    "        MT.dm(output)"
   ]
  },
  {
   "cell_type": "markdown",
   "id": "0fbcc828-2880-4d36-bd66-5a9f085b616d",
   "metadata": {},
   "source": [
    "# 6 - References and acknowledgement <a class=\"anchor\" id=\"bullet6\"></a>\n",
    "##### [Back to ToC](#TOC)\n",
    "\n",
    "<a class=\"anchor\" id=\"bullet1\"><sup>1</sup></a> Christian Canu Højgaard, Martijn Naaijer, & Stefan Schorch. (2023). Text-Fabric Dataset of the Samaritan Pentateuch. Zenodo. https://doi.org/10.5281/zenodo.7734632\n",
    "\n",
    "<a class=\"anchor\" id=\"bullet2\"><sup>2</sup> [Notebook created by Martijn Naaijer](https://github.com/DT-UCPH/sp/blob/main/notebooks/combine_sp_with_mt_data.ipynb)"
   ]
  },
  {
   "cell_type": "markdown",
   "id": "4e319feb-814e-4903-922a-58bae953224c",
   "metadata": {
    "tags": []
   },
   "source": [
    "# 7 - Required libraries <a class=\"anchor\" id=\"bullet7\"></a>\n",
    "##### [Back to ToC](#TOC)\n",
    "\n",
    "The scripts in this notebook require (beside `text-fabric`) the following Python libraries to be installed in the environment:\n",
    "\n",
    "    collections\n",
    "    difflib\n",
    "    Levenshtein\n",
    "\n",
    "You can install any missing library from within Jupyter Notebook using either`pip` or `pip3`."
   ]
  },
  {
   "cell_type": "markdown",
   "id": "68f75bc4-7bc2-42f1-af91-fe6e5b83a277",
   "metadata": {},
   "source": [
    "# 8 - Notebook version details<a class=\"anchor\" id=\"bullet8\"></a>\n",
    "##### [Back to ToC](#TOC)\n",
    "\n",
    "<div style=\"float: left;\">\n",
    "  <table>\n",
    "    <tr>\n",
    "      <td><strong>Author</strong></td>\n",
    "      <td>Tony Jurg</td>\n",
    "    </tr>\n",
    "    <tr>\n",
    "      <td><strong>Version</strong></td>\n",
    "      <td>1.0</td>\n",
    "    </tr>\n",
    "    <tr>\n",
    "      <td><strong>Date</strong></td>\n",
    "      <td>17 November 2024</td>\n",
    "    </tr>\n",
    "  </table>\n",
    "</div>"
   ]
  }
 ],
 "metadata": {
  "kernelspec": {
   "display_name": "Python 3 (ipykernel)",
   "language": "python",
   "name": "python3"
  },
  "language_info": {
   "codemirror_mode": {
    "name": "ipython",
    "version": 3
   },
   "file_extension": ".py",
   "mimetype": "text/x-python",
   "name": "python",
   "nbconvert_exporter": "python",
   "pygments_lexer": "ipython3",
   "version": "3.12.7"
  }
 },
 "nbformat": 4,
 "nbformat_minor": 5
}
