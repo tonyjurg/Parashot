{
 "cells": [
  {
   "cell_type": "markdown",
   "id": "d824a2cc-56ba-443c-90a4-7ded0d791353",
   "metadata": {},
   "source": [
    "# Lexical parallels in parasha #19: Terumah (Exodus 25:1-27:19)"
   ]
  },
  {
   "cell_type": "markdown",
   "id": "60af701a-2af8-4297-b840-545749d9a1f1",
   "metadata": {},
   "source": [
    "## Table of Content<a class=\"anchor\" id=\"TOC\"></a> (ToC)\n",
    "\n",
    "* <a href=\"#bullet1\">1 - Introduction</a>\n",
    "* <a href=\"#bullet2\">2 - Load Text-Fabric app and data</a>\n",
    "* <a href=\"#bullet3\">3 - Performing the queries</a>\n",
    "    * <a href=\"#bullet3x1\">3.1 - Locate the parallels</a>\n",
    "* <a href=\"#bullet4\">4 - Required libraries</a>\n",
    "* <a href=\"#bullet5\">5 - Further reading</a>\n",
    "* <a href=\"#bullet6\">6 - Notebook version details</a>"
   ]
  },
  {
   "cell_type": "markdown",
   "id": "b17560e5-9e90-4008-ae35-04a34624a43a",
   "metadata": {
    "tags": []
   },
   "source": [
    "# 1 - Introduction <a class=\"anchor\" id=\"bullet1\"></a>\n",
    "##### [Back to ToC](#TOC)\n",
    "\n",
    "In this notebook we search for lexical parallels between verses in this parasha with other verses in the Tenach."
   ]
  },
  {
   "cell_type": "markdown",
   "id": "0ad449f1-c3bf-4e45-95e0-6eefac4bc1dc",
   "metadata": {},
   "source": [
    "# 2 - Load Text-Fabric app and data <a class=\"anchor\" id=\"bullet2\"></a>\n",
    "##### [Back to ToC](#TOC)\n",
    "\n",
    "The following code will load the Text-Fabric version of the [Biblia Hebraica Stuttgartensia (Amstelodamensis)](https://etcbc.github.io/bhsa/)."
   ]
  },
  {
   "cell_type": "code",
   "execution_count": 1,
   "id": "21fbcf7c-98da-4319-a344-d644da5cfec5",
   "metadata": {
    "tags": []
   },
   "outputs": [],
   "source": [
    "%load_ext autoreload\n",
    "%autoreload 2"
   ]
  },
  {
   "cell_type": "code",
   "execution_count": 2,
   "id": "a290709d-978e-4d29-918c-fddd7d8041e4",
   "metadata": {},
   "outputs": [],
   "source": [
    "# Loading the Text-Fabric code\n",
    "# Note: it is assumed Text-Fabric is installed in your environment.\n",
    "from tf.fabric import Fabric\n",
    "from tf.app import use"
   ]
  },
  {
   "cell_type": "code",
   "execution_count": null,
   "id": "14e1cb4c-554a-4785-a4dd-6a89778d5cd3",
   "metadata": {
    "scrolled": true,
    "tags": []
   },
   "outputs": [
    {
     "data": {
      "text/markdown": [
       "**Locating corpus resources ...**"
      ],
      "text/plain": [
       "<IPython.core.display.Markdown object>"
      ]
     },
     "metadata": {},
     "output_type": "display_data"
    },
    {
     "data": {
      "text/html": [
       "<b title=\"local release\">app:</b> <span title=\"rv1.8=#gd905e3fb6e80d0fa537600337614adc2af157309 offline under C:/Users/tonyj/text-fabric-data/github\">~/text-fabric-data/github/etcbc/BHSA/app</span>"
      ],
      "text/plain": [
       "<IPython.core.display.HTML object>"
      ]
     },
     "metadata": {},
     "output_type": "display_data"
    },
    {
     "data": {
      "text/html": [
       "<b title=\"local release\">data:</b> <span title=\"rv1.8=#gd905e3fb6e80d0fa537600337614adc2af157309 offline under C:/Users/tonyj/text-fabric-data/github\">~/text-fabric-data/github/etcbc/BHSA/tf/2021</span>"
      ],
      "text/plain": [
       "<IPython.core.display.HTML object>"
      ]
     },
     "metadata": {},
     "output_type": "display_data"
    },
    {
     "data": {
      "text/html": [
       "<b title=\"local commit\">data:</b> <span title=\"#79c84ec8b922c7d9632449b2d3a41324294cea03 offline under C:/Users/tonyj/text-fabric-data/github\">~/text-fabric-data/github/tonyjurg/BHSaddons/tf/2021</span>"
      ],
      "text/plain": [
       "<IPython.core.display.HTML object>"
      ]
     },
     "metadata": {},
     "output_type": "display_data"
    },
    {
     "data": {
      "text/html": [
       "<b title=\"local release\">data:</b> <span title=\"rv2.1=#gaba4367b49750089e4e4122415a77cac43bd97bc offline under C:/Users/tonyj/text-fabric-data/github\">~/text-fabric-data/github/etcbc/phono/tf/2021</span>"
      ],
      "text/plain": [
       "<IPython.core.display.HTML object>"
      ]
     },
     "metadata": {},
     "output_type": "display_data"
    },
    {
     "data": {
      "text/html": [
       "<b title=\"local release\">data:</b> <span title=\"rv2.1=#f45f6cc3c4f933dba6e649f49cdb14a40dcf333f offline under C:/Users/tonyj/text-fabric-data/github\">~/text-fabric-data/github/etcbc/parallels/tf/2021</span>"
      ],
      "text/plain": [
       "<IPython.core.display.HTML object>"
      ]
     },
     "metadata": {},
     "output_type": "display_data"
    }
   ],
   "source": [
    "# load the app and data\n",
    "BHSA = use (\"etcbc/BHSA\", mod=\"tonyjurg/BHSaddons/tf/\", hoist=globals())"
   ]
  },
  {
   "cell_type": "markdown",
   "id": "bd939a75-8253-4119-b64d-3d5c403ed096",
   "metadata": {},
   "source": [
    "# 3 - Performing the queries <a class=\"anchor\" id=\"bullet3\"></a>\n",
    "##### [Back to ToC](#TOC)\n",
    "\n",
    "The main engine of our queries is the use of Text-Fabric feature `crossref`, part of `Parallel Passages` module. See also [this notebook](https://nbviewer.org/github/etcbc/parallels/blob/master/programs/parallels.ipynb) explaing the concepts and how this feature was created."
   ]
  },
  {
   "cell_type": "markdown",
   "id": "98d90b55-8aed-4691-8a7d-e110c48d4857",
   "metadata": {},
   "source": [
    "## 3.1 - Locate the parallels <a class=\"anchor\" id=\"bullet3x1\"></a>"
   ]
  },
  {
   "cell_type": "code",
   "execution_count": null,
   "id": "9f2d4e15-43e8-4ab6-946b-52e2178e0f21",
   "metadata": {},
   "outputs": [],
   "source": [
    "# find all verse nodes for this parasha using its sequence number\n",
    "parashaQuery = '''\n",
    "verse parashanum=19\n",
    "'''\n",
    "parashaResults = BHSA.search(parashaQuery)"
   ]
  },
  {
   "cell_type": "code",
   "execution_count": null,
   "id": "c26a2bf5-bb27-4bed-a562-3c786bd3835a",
   "metadata": {},
   "outputs": [],
   "source": [
    "# Store parashname, start and end verse for future use\n",
    "startNode=parashaResults[0][0]\n",
    "endNode=parashaResults[-1][0]\n",
    "parashaNameHebrew=F.parashahebr.v(startNode)\n",
    "parashaNameEnglish=F.parashatrans.v(startNode)\n",
    "bookStart,chapterStart,startVerse=T.sectionFromNode(startNode)\n",
    "parashaStart=f'{bookStart} {chapterStart}:{startVerse}'\n",
    "bookEnd,chapterEnd,startEnd=T.sectionFromNode(endNode)\n",
    "parashaEnd=f'{chapterEnd}:{startEnd}'\n",
    "htmlStart='<html><body>'\n",
    "htmlFooter=f'<p>Data generated by `hapax.ipynb` at `<a href=\\\"https://github.com/tonyjurg/Parashot\\\" target=\\\"_blank\\\">github.com/tonyjurg/Parashot</a>`</p></body></html>'"
   ]
  },
  {
   "cell_type": "code",
   "execution_count": null,
   "id": "62c96550-4ca8-458c-8fce-3296bd733bd1",
   "metadata": {},
   "outputs": [],
   "source": [
    "from difflib import SequenceMatcher\n",
    "from IPython.display import HTML, display\n",
    "\n",
    "# Function to find and highlight matching parts between two strings\n",
    "def highlightMatches(baseText, comparisonText):\n",
    "    matcher = SequenceMatcher(None, baseText, comparisonText)\n",
    "    highlightedComparisonText = \"\"\n",
    "    \n",
    "    for tag, i1, i2, j1, j2 in matcher.get_opcodes():\n",
    "        if tag == \"equal\":  # Identical parts\n",
    "            highlightedComparisonText += f\"<mark>{comparisonText[j1:j2]}</mark>\"\n",
    "        else:  # Non-matching parts\n",
    "            highlightedComparisonText += comparisonText[j1:j2]\n",
    "    \n",
    "    return highlightedComparisonText\n",
    "\n",
    "# Function to process cross-references and format them into an HTML table\n",
    "def generateCrossReferencesTable(verseNode):\n",
    "    \"\"\"\n",
    "    Generates an HTML table with cross-references for a single verse node, highlighting identical parts.\n",
    "    The main verse text will be right-aligned.\n",
    "    \"\"\"\n",
    "    # Get cross-references for the specified verseNode\n",
    "    crossRefs = Es(\"crossref\").f(verseNode)\n",
    "    tableContent = \"\"\n",
    "    \n",
    "    # Check if there are any cross-references for this verse\n",
    "    if crossRefs:\n",
    "        verseSection = T.sectionFromNode(verseNode)\n",
    "        mainVerseText = T.text(verseNode)\n",
    "        linkStepBible = (\n",
    "            f\"<a href=\\\"https://www.stepbible.org/?q=version=NASB2020%7Creference={verseSection[0]}.{verseSection[1]}:{verseSection[2]}&options=HNVUG\\\" target=\\\"_blank\\\">\"\n",
    "            f\"{verseSection[0]} {verseSection[1]}:{verseSection[2]}</a>\"\n",
    "        ) \n",
    "        # Right-align the main verse text\n",
    "        tableContent += f\"<h4>Cross-references for {linkStepBible}</h4>\"\n",
    "        tableContent += f\"<div style='text-align: right; font-weight: bold;'>{mainVerseText}</div>\"\n",
    "        # Create table header\n",
    "        tableContent += f\"<table border='1' style='border-collapse: collapse; width: 100%;'><tr><th>Reference</th><th>Match</th><th>Text</th></tr>\"\n",
    "        \n",
    "        # Process each cross-reference and add a row to the table\n",
    "        for target, confidence in crossRefs:\n",
    "            targetSection = T.sectionFromNode(target)\n",
    "            targetText = T.text(target)\n",
    "            \n",
    "            targetStepBible = (\n",
    "                f\"<a href=\\\"https://www.stepbible.org/?q=version=NASB2020%7Creference={targetSection[0]}.{targetSection[1]}:{targetSection[2]}&options=HNVUG\\\" target=\\\"_blank\\\">\"\n",
    "                f\"{targetSection[0]} {targetSection[1]}:{targetSection[2]}</a>\"\n",
    "            )     \n",
    "            # Highlight identical parts in target verse\n",
    "            highlightedText = highlightMatches(mainVerseText, targetText)\n",
    "            \n",
    "            # Add the row for the cross-reference\n",
    "            tableContent += f\"<tr><td>{targetStepBible}</td><td>{confidence}%</td><td>{highlightedText}</td></tr>\"\n",
    "        \n",
    "        # Close the table\n",
    "        tableContent += \"</table><br>\"\n",
    "\n",
    "    return tableContent\n",
    "\n",
    "# Initialize HTML content\n",
    "htmlContent = f\"<h2>Lexical parallels for parasha {parashaNameEnglish} ({parashaStart}-{parashaEnd})</h2>\"\n",
    "\n",
    "# Process each verse and generate cross-reference tables\n",
    "for verse in parashaResults:\n",
    "    htmlContent += generateCrossReferencesTable(verse[0])\n",
    "\n",
    "# Save the content to an HTML file\n",
    "fileName = f\"lexical_parallels({parashaNameEnglish.replace(' ','%20')}).html\"\n",
    "with open(fileName, \"w\", encoding=\"utf-8\") as file:\n",
    "    file.write(htmlContent)\n",
    "\n",
    "# Display the HTML content in the notebook\n",
    "display(HTML(htmlContent))\n",
    "\n",
    "# wrap html header and footer and display a download button\n",
    "htmlContentFull = f'{htmlStart}{htmlContent}{htmlFooter}'\n",
    "downloadButton = f\"\"\"\n",
    "<a download=\"{fileName}\" href=\"data:text/html;charset=utf-8,{htmlContent.replace('&', '&amp;').replace('<', '&lt;').replace('>', '&gt;').replace('\"', '&quot;').replace(\"'\", '&#39;')}\" target=\"_blank\">\n",
    "    <button>Download Lexical Parallels as HTML</button>\n",
    "</a>\n",
    "\"\"\"\n",
    "display(HTML(downloadButton))"
   ]
  },
  {
   "cell_type": "markdown",
   "id": "93852912-fa5c-420a-88ed-8be3b090eb3a",
   "metadata": {
    "tags": []
   },
   "source": [
    "# 4 - Required libraries <a class=\"anchor\" id=\"bullet4\"></a>\n",
    "##### [Back to ToC](#TOC)\n",
    "\n",
    "The scripts in this notebook require (beside `text-fabric`) the following Python libraries to be installed in the environment:\n",
    "\n",
    "    difflib\n",
    "\n",
    "You can install any missing library from within Jupyter Notebook using either`pip` or `pip3`."
   ]
  },
  {
   "cell_type": "markdown",
   "id": "bc5b6c04-4855-4d2d-aa9a-a1dac0256074",
   "metadata": {},
   "source": [
    "# 5 - Further reading <a class=\"anchor\" id=\"bullet5\"></a>\n",
    "##### [Back to ToC](#TOC)\n",
    "\n",
    "For an elaborate treatment of parallel passages, see:\n",
    "\n",
    "> Willem Th. van Peursen and Eep Talstra. \"Computer-Assisted Analysis of Parallel Texts in the Bible - The Case of 2 Kings xviii-xix and its Parallels in Isaiah and Chronicles\" in *Vetus Testamentum* 57, pp. 45-72. 2007, Brill, Leiden."
   ]
  },
  {
   "cell_type": "markdown",
   "id": "68573424-b71f-4596-95e7-468cf9ef9c1e",
   "metadata": {},
   "source": [
    "# 6 - Notebook version details<a class=\"anchor\" id=\"bullet6\"></a>\n",
    "##### [Back to ToC](#TOC)\n",
    "\n",
    "<div style=\"float: left;\">\n",
    "  <table>\n",
    "    <tr>\n",
    "      <td><strong>Author</strong></td>\n",
    "      <td>Tony Jurg</td>\n",
    "    </tr>\n",
    "    <tr>\n",
    "      <td><strong>Version</strong></td>\n",
    "      <td>1.1</td>\n",
    "    </tr>\n",
    "    <tr>\n",
    "      <td><strong>Date</strong></td>\n",
    "      <td>5 March 2025</td>\n",
    "    </tr>\n",
    "  </table>\n",
    "</div>"
   ]
  }
 ],
 "metadata": {
  "kernelspec": {
   "display_name": "Python 3 (ipykernel)",
   "language": "python",
   "name": "python3"
  },
  "language_info": {
   "codemirror_mode": {
    "name": "ipython",
    "version": 3
   },
   "file_extension": ".py",
   "mimetype": "text/x-python",
   "name": "python",
   "nbconvert_exporter": "python",
   "pygments_lexer": "ipython3",
   "version": "3.12.7"
  }
 },
 "nbformat": 4,
 "nbformat_minor": 5
}
