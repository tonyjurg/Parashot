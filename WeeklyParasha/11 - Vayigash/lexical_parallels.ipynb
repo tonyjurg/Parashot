{
 "cells": [
  {
   "cell_type": "markdown",
   "id": "d824a2cc-56ba-443c-90a4-7ded0d791353",
   "metadata": {},
   "source": [
    "# Lexical parallels in parasha #11: Vayigash (Genesis 44:18-47:27)"
   ]
  },
  {
   "cell_type": "markdown",
   "id": "60af701a-2af8-4297-b840-545749d9a1f1",
   "metadata": {},
   "source": [
    "## Table of Content<a class=\"anchor\" id=\"TOC\"></a> (ToC)\n",
    "\n",
    "* <a href=\"#bullet1\">1 - Introduction</a>\n",
    "* <a href=\"#bullet2\">2 - Load Text-Fabric app and data</a>\n",
    "* <a href=\"#bullet3\">3 - Performing the queries</a>\n",
    "    * <a href=\"#bullet3x1\">3.1 Locate the parallels</a>\n",
    "* <a href=\"#bullet4\">4 - Required libraries</a>\n",
    "* <a href=\"#bullet5\">5 - Further reading</a>\n",
    "* <a href=\"#bullet6\">6 - Notebook version details</a>"
   ]
  },
  {
   "cell_type": "markdown",
   "id": "b17560e5-9e90-4008-ae35-04a34624a43a",
   "metadata": {
    "tags": []
   },
   "source": [
    "# 1 - Introduction <a class=\"anchor\" id=\"bullet1\"></a>\n",
    "##### [Back to ToC](#TOC)\n",
    "\n",
    "In this notebook we search for lexical parallels between verses in this parasha with other verses in the Tenach."
   ]
  },
  {
   "cell_type": "markdown",
   "id": "0ad449f1-c3bf-4e45-95e0-6eefac4bc1dc",
   "metadata": {},
   "source": [
    "# 2 - Load Text-Fabric app and data <a class=\"anchor\" id=\"bullet2\"></a>\n",
    "##### [Back to ToC](#TOC)\n",
    "\n",
    "The following code will load the Text-Fabric version of the [Biblia Hebraica Stuttgartensia (Amstelodamensis)](https://etcbc.github.io/bhsa/)."
   ]
  },
  {
   "cell_type": "code",
   "execution_count": 1,
   "id": "21fbcf7c-98da-4319-a344-d644da5cfec5",
   "metadata": {
    "tags": []
   },
   "outputs": [],
   "source": [
    "%load_ext autoreload\n",
    "%autoreload 2"
   ]
  },
  {
   "cell_type": "code",
   "execution_count": 2,
   "id": "a290709d-978e-4d29-918c-fddd7d8041e4",
   "metadata": {},
   "outputs": [],
   "source": [
    "# Loading the Text-Fabric code\n",
    "# Note: it is assumed Text-Fabric is installed in your environment.\n",
    "from tf.fabric import Fabric\n",
    "from tf.app import use"
   ]
  },
  {
   "cell_type": "code",
   "execution_count": 3,
   "id": "14e1cb4c-554a-4785-a4dd-6a89778d5cd3",
   "metadata": {
    "scrolled": true,
    "tags": []
   },
   "outputs": [
    {
     "data": {
      "text/markdown": [
       "**Locating corpus resources ...**"
      ],
      "text/plain": [
       "<IPython.core.display.Markdown object>"
      ]
     },
     "metadata": {},
     "output_type": "display_data"
    },
    {
     "data": {
      "text/html": [
       "<b title=\"local release\">app:</b> <span title=\"rv1.8=#gd905e3fb6e80d0fa537600337614adc2af157309 offline under C:/Users/tonyj/text-fabric-data/github\">~/text-fabric-data/github/etcbc/BHSA/app</span>"
      ],
      "text/plain": [
       "<IPython.core.display.HTML object>"
      ]
     },
     "metadata": {},
     "output_type": "display_data"
    },
    {
     "data": {
      "text/html": [
       "<b title=\"local release\">data:</b> <span title=\"rv1.8=#gd905e3fb6e80d0fa537600337614adc2af157309 offline under C:/Users/tonyj/text-fabric-data/github\">~/text-fabric-data/github/etcbc/BHSA/tf/2021</span>"
      ],
      "text/plain": [
       "<IPython.core.display.HTML object>"
      ]
     },
     "metadata": {},
     "output_type": "display_data"
    },
    {
     "data": {
      "text/html": [
       "<b title=\"local commit\">data:</b> <span title=\"#79c84ec8b922c7d9632449b2d3a41324294cea03 offline under C:/Users/tonyj/text-fabric-data/github\">~/text-fabric-data/github/tonyjurg/BHSaddons/tf/2021</span>"
      ],
      "text/plain": [
       "<IPython.core.display.HTML object>"
      ]
     },
     "metadata": {},
     "output_type": "display_data"
    },
    {
     "data": {
      "text/html": [
       "<b title=\"local release\">data:</b> <span title=\"rv2.1=#gaba4367b49750089e4e4122415a77cac43bd97bc offline under C:/Users/tonyj/text-fabric-data/github\">~/text-fabric-data/github/etcbc/phono/tf/2021</span>"
      ],
      "text/plain": [
       "<IPython.core.display.HTML object>"
      ]
     },
     "metadata": {},
     "output_type": "display_data"
    },
    {
     "data": {
      "text/html": [
       "<b title=\"local release\">data:</b> <span title=\"rv2.1=#f45f6cc3c4f933dba6e649f49cdb14a40dcf333f offline under C:/Users/tonyj/text-fabric-data/github\">~/text-fabric-data/github/etcbc/parallels/tf/2021</span>"
      ],
      "text/plain": [
       "<IPython.core.display.HTML object>"
      ]
     },
     "metadata": {},
     "output_type": "display_data"
    },
    {
     "data": {
      "text/html": [
       "\n",
       "            <b>TF:</b> <a target=\"_blank\" href=\"https://annotation.github.io/text-fabric/tf/cheatsheet.html\" title=\"text-fabric api\">TF API 12.6.1</a>, <a target=\"_blank\" href=\"https://github.com/etcbc/BHSA/blob/master/app\" title=\"etcbc/BHSA app\">etcbc/BHSA/app  v3</a>, <a target=\"_blank\" href=\"https://annotation.github.io/text-fabric/tf/about/searchusage.html\" title=\"Search Templates Introduction and Reference\">Search Reference</a><br>\n",
       "            <b>Data:</b> <a target=\"_blank\" href=\"https://etcbc.github.io/BHSA/\" title=\"provenance of BHSA = Biblia Hebraica Stuttgartensia Amstelodamensis\">etcbc - BHSA 2021</a>, <a target=\"_blank\" href=\"https://annotation.github.io/text-fabric/tf/writing/hebrew.html\" title=\"How TF features represent text\">Character table</a>, <a target=\"_blank\" href=\"https://etcbc.github.io/BHSA/features/0_home\" title=\"etcbc - BHSA feature documentation\">Feature docs</a><br>\n",
       "            <details class=\"nodeinfo\"><summary><b>Node types</b></summary>\n",
       "<table class=\"nodeinfo\">\n",
       "    <tr>\n",
       "        <th>Name</th>\n",
       "        <th># of nodes</th>\n",
       "        <th># slots / node</th>\n",
       "        <th>% coverage</th>\n",
       "    </tr>\n",
       "\n",
       "<tr>\n",
       "    <th>book</th>\n",
       "    <td>39</td>\n",
       "    <td>10938.21</td>\n",
       "    <td><b>100</b></td>\n",
       "</tr>\n",
       "\n",
       "<tr>\n",
       "    <th>chapter</th>\n",
       "    <td>929</td>\n",
       "    <td>459.19</td>\n",
       "    <td><b>100</b></td>\n",
       "</tr>\n",
       "\n",
       "<tr>\n",
       "    <th>lex</th>\n",
       "    <td>9230</td>\n",
       "    <td>46.22</td>\n",
       "    <td><b>100</b></td>\n",
       "</tr>\n",
       "\n",
       "<tr>\n",
       "    <th>verse</th>\n",
       "    <td>23213</td>\n",
       "    <td>18.38</td>\n",
       "    <td><b>100</b></td>\n",
       "</tr>\n",
       "\n",
       "<tr>\n",
       "    <th>half_verse</th>\n",
       "    <td>45179</td>\n",
       "    <td>9.44</td>\n",
       "    <td><b>100</b></td>\n",
       "</tr>\n",
       "\n",
       "<tr>\n",
       "    <th>sentence</th>\n",
       "    <td>63717</td>\n",
       "    <td>6.70</td>\n",
       "    <td><b>100</b></td>\n",
       "</tr>\n",
       "\n",
       "<tr>\n",
       "    <th>sentence_atom</th>\n",
       "    <td>64514</td>\n",
       "    <td>6.61</td>\n",
       "    <td><b>100</b></td>\n",
       "</tr>\n",
       "\n",
       "<tr>\n",
       "    <th>clause</th>\n",
       "    <td>88131</td>\n",
       "    <td>4.84</td>\n",
       "    <td><b>100</b></td>\n",
       "</tr>\n",
       "\n",
       "<tr>\n",
       "    <th>clause_atom</th>\n",
       "    <td>90704</td>\n",
       "    <td>4.70</td>\n",
       "    <td><b>100</b></td>\n",
       "</tr>\n",
       "\n",
       "<tr>\n",
       "    <th>phrase</th>\n",
       "    <td>253203</td>\n",
       "    <td>1.68</td>\n",
       "    <td><b>100</b></td>\n",
       "</tr>\n",
       "\n",
       "<tr>\n",
       "    <th>phrase_atom</th>\n",
       "    <td>267532</td>\n",
       "    <td>1.59</td>\n",
       "    <td><b>100</b></td>\n",
       "</tr>\n",
       "\n",
       "<tr>\n",
       "    <th>subphrase</th>\n",
       "    <td>113850</td>\n",
       "    <td>1.42</td>\n",
       "    <td>38</td>\n",
       "</tr>\n",
       "\n",
       "<tr>\n",
       "    <th><i>word</i></th>\n",
       "    <td>426590</td>\n",
       "    <td>1.00</td>\n",
       "    <td><b>100</b></td>\n",
       "</tr>\n",
       "</table></details>\n",
       "            <b>Sets:</b> no custom sets<br>\n",
       "            <b>Features:</b><br>\n",
       "<details><summary><b>Parallel Passages</b></summary>\n",
       "    <div class=\"fcorpus\">\n",
       "\n",
       "<div class=\"frow\">\n",
       "    <div class=\"fnamecat edge\">\n",
       "<a target=\"_blank\" href=\"https://nbviewer.jupyter.org/github/etcbc/parallels/blob/master/programs/parallels.ipynb\" title=\"~/text-fabric-data/github/etcbc/parallels/tf/2021/crossref.tf\">crossref</a>\n",
       "</div>\n",
       "<div class=\"fmono\">int</div>\n",
       "\n",
       "<span> 🆗 links between similar passages</span>\n",
       "\n",
       "</div>\n",
       "\n",
       "    </div>\n",
       "</details>\n",
       "\n",
       "<details><summary><b>BHSA = Biblia Hebraica Stuttgartensia Amstelodamensis</b></summary>\n",
       "    <div class=\"fcorpus\">\n",
       "\n",
       "<div class=\"frow\">\n",
       "    <div class=\"fnamecat \">\n",
       "<a target=\"_blank\" href=\"https://etcbc.github.io/BHSA/features/book\" title=\"~/text-fabric-data/github/etcbc/BHSA/tf/2021/book.tf\">book</a>\n",
       "</div>\n",
       "<div class=\"fmono\">str</div>\n",
       "\n",
       "<span> ✅ book name in Latin (Genesis; Numeri; Reges1; ...)</span>\n",
       "\n",
       "</div>\n",
       "\n",
       "<div class=\"frow\">\n",
       "    <div class=\"fnamecat \">\n",
       "<a target=\"_blank\" href=\"https://etcbc.github.io/BHSA/features/book@ll\" title=\"~/text-fabric-data/github/etcbc/BHSA/tf/2021/book@am.tf\">book@ll</a>\n",
       "</div>\n",
       "<div class=\"fmono\">str</div>\n",
       "\n",
       "<span> ✅ book name in amharic (ኣማርኛ)</span>\n",
       "\n",
       "</div>\n",
       "\n",
       "<div class=\"frow\">\n",
       "    <div class=\"fnamecat \">\n",
       "<a target=\"_blank\" href=\"https://etcbc.github.io/BHSA/features/chapter\" title=\"~/text-fabric-data/github/etcbc/BHSA/tf/2021/chapter.tf\">chapter</a>\n",
       "</div>\n",
       "<div class=\"fmono\">int</div>\n",
       "\n",
       "<span> ✅ chapter number (1; 2; 3; ...)</span>\n",
       "\n",
       "</div>\n",
       "\n",
       "<div class=\"frow\">\n",
       "    <div class=\"fnamecat \">\n",
       "<a target=\"_blank\" href=\"https://etcbc.github.io/BHSA/features/code\" title=\"~/text-fabric-data/github/etcbc/BHSA/tf/2021/code.tf\">code</a>\n",
       "</div>\n",
       "<div class=\"fmono\">int</div>\n",
       "\n",
       "<span> ✅ identifier of a clause atom relationship (0; 74; 367; ...)</span>\n",
       "\n",
       "</div>\n",
       "\n",
       "<div class=\"frow\">\n",
       "    <div class=\"fnamecat \">\n",
       "<a target=\"_blank\" href=\"https://etcbc.github.io/BHSA/features/det\" title=\"~/text-fabric-data/github/etcbc/BHSA/tf/2021/det.tf\">det</a>\n",
       "</div>\n",
       "<div class=\"fmono\">str</div>\n",
       "\n",
       "<span> ✅ determinedness of phrase(atom) (det; und; NA.)</span>\n",
       "\n",
       "</div>\n",
       "\n",
       "<div class=\"frow\">\n",
       "    <div class=\"fnamecat \">\n",
       "<a target=\"_blank\" href=\"https://etcbc.github.io/BHSA/features/domain\" title=\"~/text-fabric-data/github/etcbc/BHSA/tf/2021/domain.tf\">domain</a>\n",
       "</div>\n",
       "<div class=\"fmono\">str</div>\n",
       "\n",
       "<span> ✅ text type of clause (? (Unknown); N (narrative); D (discursive); Q (Quotation).)</span>\n",
       "\n",
       "</div>\n",
       "\n",
       "<div class=\"frow\">\n",
       "    <div class=\"fnamecat \">\n",
       "<a target=\"_blank\" href=\"https://etcbc.github.io/BHSA/features/freq_lex\" title=\"~/text-fabric-data/github/etcbc/BHSA/tf/2021/freq_lex.tf\">freq_lex</a>\n",
       "</div>\n",
       "<div class=\"fmono\">int</div>\n",
       "\n",
       "<span> ✅ frequency of lexemes</span>\n",
       "\n",
       "</div>\n",
       "\n",
       "<div class=\"frow\">\n",
       "    <div class=\"fnamecat \">\n",
       "<a target=\"_blank\" href=\"https://etcbc.github.io/BHSA/features/function\" title=\"~/text-fabric-data/github/etcbc/BHSA/tf/2021/function.tf\">function</a>\n",
       "</div>\n",
       "<div class=\"fmono\">str</div>\n",
       "\n",
       "<span> ✅ syntactic function of phrase (Cmpl; Objc; Pred; ...)</span>\n",
       "\n",
       "</div>\n",
       "\n",
       "<div class=\"frow\">\n",
       "    <div class=\"fnamecat \">\n",
       "<a target=\"_blank\" href=\"https://etcbc.github.io/BHSA/features/g_cons\" title=\"~/text-fabric-data/github/etcbc/BHSA/tf/2021/g_cons.tf\">g_cons</a>\n",
       "</div>\n",
       "<div class=\"fmono\">str</div>\n",
       "\n",
       "<span> ✅ word consonantal-transliterated (B R>CJT BR> >LHJM ...)</span>\n",
       "\n",
       "</div>\n",
       "\n",
       "<div class=\"frow\">\n",
       "    <div class=\"fnamecat \">\n",
       "<a target=\"_blank\" href=\"https://etcbc.github.io/BHSA/features/g_cons_utf8\" title=\"~/text-fabric-data/github/etcbc/BHSA/tf/2021/g_cons_utf8.tf\">g_cons_utf8</a>\n",
       "</div>\n",
       "<div class=\"fmono\">str</div>\n",
       "\n",
       "<span> ✅ word consonantal-Hebrew (ב ראשׁית ברא אלהים)</span>\n",
       "\n",
       "</div>\n",
       "\n",
       "<div class=\"frow\">\n",
       "    <div class=\"fnamecat \">\n",
       "<a target=\"_blank\" href=\"https://etcbc.github.io/BHSA/features/g_lex\" title=\"~/text-fabric-data/github/etcbc/BHSA/tf/2021/g_lex.tf\">g_lex</a>\n",
       "</div>\n",
       "<div class=\"fmono\">str</div>\n",
       "\n",
       "<span> ✅ lexeme pointed-transliterated (B.:- R;>CIJT B.@R@> >:ELOH ...)</span>\n",
       "\n",
       "</div>\n",
       "\n",
       "<div class=\"frow\">\n",
       "    <div class=\"fnamecat \">\n",
       "<a target=\"_blank\" href=\"https://etcbc.github.io/BHSA/features/g_lex_utf8\" title=\"~/text-fabric-data/github/etcbc/BHSA/tf/2021/g_lex_utf8.tf\">g_lex_utf8</a>\n",
       "</div>\n",
       "<div class=\"fmono\">str</div>\n",
       "\n",
       "<span> ✅ lexeme pointed-Hebrew (בְּ רֵאשִׁית בָּרָא אֱלֹה)</span>\n",
       "\n",
       "</div>\n",
       "\n",
       "<div class=\"frow\">\n",
       "    <div class=\"fnamecat \">\n",
       "<a target=\"_blank\" href=\"https://etcbc.github.io/BHSA/features/g_word\" title=\"~/text-fabric-data/github/etcbc/BHSA/tf/2021/g_word.tf\">g_word</a>\n",
       "</div>\n",
       "<div class=\"fmono\">str</div>\n",
       "\n",
       "<span> ✅ word pointed-transliterated (B.:- R;>CI73JT B.@R@74> >:ELOHI92JM)</span>\n",
       "\n",
       "</div>\n",
       "\n",
       "<div class=\"frow\">\n",
       "    <div class=\"fnamecat \">\n",
       "<a target=\"_blank\" href=\"https://etcbc.github.io/BHSA/features/g_word_utf8\" title=\"~/text-fabric-data/github/etcbc/BHSA/tf/2021/g_word_utf8.tf\">g_word_utf8</a>\n",
       "</div>\n",
       "<div class=\"fmono\">str</div>\n",
       "\n",
       "<span> ✅ word pointed-Hebrew (בְּ רֵאשִׁ֖ית בָּרָ֣א אֱלֹהִ֑ים)</span>\n",
       "\n",
       "</div>\n",
       "\n",
       "<div class=\"frow\">\n",
       "    <div class=\"fnamecat \">\n",
       "<a target=\"_blank\" href=\"https://etcbc.github.io/BHSA/features/gloss\" title=\"~/text-fabric-data/github/etcbc/BHSA/tf/2021/gloss.tf\">gloss</a>\n",
       "</div>\n",
       "<div class=\"fmono\">str</div>\n",
       "\n",
       "<span> 🆗 english translation of lexeme (beginning create god(s))</span>\n",
       "\n",
       "</div>\n",
       "\n",
       "<div class=\"frow\">\n",
       "    <div class=\"fnamecat \">\n",
       "<a target=\"_blank\" href=\"https://etcbc.github.io/BHSA/features/gn\" title=\"~/text-fabric-data/github/etcbc/BHSA/tf/2021/gn.tf\">gn</a>\n",
       "</div>\n",
       "<div class=\"fmono\">str</div>\n",
       "\n",
       "<span> ✅ grammatical gender (m; f; NA; unknown.)</span>\n",
       "\n",
       "</div>\n",
       "\n",
       "<div class=\"frow\">\n",
       "    <div class=\"fnamecat \">\n",
       "<a target=\"_blank\" href=\"https://etcbc.github.io/BHSA/features/label\" title=\"~/text-fabric-data/github/etcbc/BHSA/tf/2021/label.tf\">label</a>\n",
       "</div>\n",
       "<div class=\"fmono\">str</div>\n",
       "\n",
       "<span> ✅ (half-)verse label (half verses: A; B; C; verses:  GEN 01,02)</span>\n",
       "\n",
       "</div>\n",
       "\n",
       "<div class=\"frow\">\n",
       "    <div class=\"fnamecat \">\n",
       "<a target=\"_blank\" href=\"https://etcbc.github.io/BHSA/features/language\" title=\"~/text-fabric-data/github/etcbc/BHSA/tf/2021/language.tf\">language</a>\n",
       "</div>\n",
       "<div class=\"fmono\">str</div>\n",
       "\n",
       "<span> ✅ of word or lexeme (Hebrew; Aramaic.)</span>\n",
       "\n",
       "</div>\n",
       "\n",
       "<div class=\"frow\">\n",
       "    <div class=\"fnamecat \">\n",
       "<a target=\"_blank\" href=\"https://etcbc.github.io/BHSA/features/lex\" title=\"~/text-fabric-data/github/etcbc/BHSA/tf/2021/lex.tf\">lex</a>\n",
       "</div>\n",
       "<div class=\"fmono\">str</div>\n",
       "\n",
       "<span> ✅ lexeme consonantal-transliterated (B R>CJT/ BR>[ >LHJM/)</span>\n",
       "\n",
       "</div>\n",
       "\n",
       "<div class=\"frow\">\n",
       "    <div class=\"fnamecat \">\n",
       "<a target=\"_blank\" href=\"https://etcbc.github.io/BHSA/features/lex_utf8\" title=\"~/text-fabric-data/github/etcbc/BHSA/tf/2021/lex_utf8.tf\">lex_utf8</a>\n",
       "</div>\n",
       "<div class=\"fmono\">str</div>\n",
       "\n",
       "<span> ✅ lexeme consonantal-Hebrew (ב ראשׁית֜ ברא אלהים֜)</span>\n",
       "\n",
       "</div>\n",
       "\n",
       "<div class=\"frow\">\n",
       "    <div class=\"fnamecat \">\n",
       "<a target=\"_blank\" href=\"https://etcbc.github.io/BHSA/features/ls\" title=\"~/text-fabric-data/github/etcbc/BHSA/tf/2021/ls.tf\">ls</a>\n",
       "</div>\n",
       "<div class=\"fmono\">str</div>\n",
       "\n",
       "<span> ✅ lexical set, subclassification of part-of-speech (card; ques; mult)</span>\n",
       "\n",
       "</div>\n",
       "\n",
       "<div class=\"frow\">\n",
       "    <div class=\"fnamecat \">\n",
       "<a target=\"_blank\" href=\"https://etcbc.github.io/BHSA/features/nametype\" title=\"~/text-fabric-data/github/etcbc/BHSA/tf/2021/nametype.tf\">nametype</a>\n",
       "</div>\n",
       "<div class=\"fmono\">str</div>\n",
       "\n",
       "<span> ⚠️ named entity type (pers; mens; gens; topo; ppde.)</span>\n",
       "\n",
       "</div>\n",
       "\n",
       "<div class=\"frow\">\n",
       "    <div class=\"fnamecat \">\n",
       "<a target=\"_blank\" href=\"https://etcbc.github.io/BHSA/features/nme\" title=\"~/text-fabric-data/github/etcbc/BHSA/tf/2021/nme.tf\">nme</a>\n",
       "</div>\n",
       "<div class=\"fmono\">str</div>\n",
       "\n",
       "<span> ✅ nominal ending consonantal-transliterated (absent; n/a; JM, ...)</span>\n",
       "\n",
       "</div>\n",
       "\n",
       "<div class=\"frow\">\n",
       "    <div class=\"fnamecat \">\n",
       "<a target=\"_blank\" href=\"https://etcbc.github.io/BHSA/features/nu\" title=\"~/text-fabric-data/github/etcbc/BHSA/tf/2021/nu.tf\">nu</a>\n",
       "</div>\n",
       "<div class=\"fmono\">str</div>\n",
       "\n",
       "<span> ✅ grammatical number (sg; du; pl; NA; unknown.)</span>\n",
       "\n",
       "</div>\n",
       "\n",
       "<div class=\"frow\">\n",
       "    <div class=\"fnamecat \">\n",
       "<a target=\"_blank\" href=\"https://etcbc.github.io/BHSA/features/number\" title=\"~/text-fabric-data/github/etcbc/BHSA/tf/2021/number.tf\">number</a>\n",
       "</div>\n",
       "<div class=\"fmono\">int</div>\n",
       "\n",
       "<span> ✅ sequence number of an object within its context</span>\n",
       "\n",
       "</div>\n",
       "\n",
       "<div class=\"frow\">\n",
       "    <div class=\"fnamecat \">\n",
       "<a target=\"_blank\" href=\"https://etcbc.github.io/BHSA/features/otype\" title=\"~/text-fabric-data/github/etcbc/BHSA/tf/2021/otype.tf\">otype</a>\n",
       "</div>\n",
       "<div class=\"fmono\">str</div>\n",
       "\n",
       "<span> </span>\n",
       "\n",
       "</div>\n",
       "\n",
       "<div class=\"frow\">\n",
       "    <div class=\"fnamecat \">\n",
       "<a target=\"_blank\" href=\"https://etcbc.github.io/BHSA/features/pargr\" title=\"~/text-fabric-data/github/etcbc/BHSA/tf/2021/pargr.tf\">pargr</a>\n",
       "</div>\n",
       "<div class=\"fmono\">str</div>\n",
       "\n",
       "<span> 🆗 hierarchical paragraph number (1; 1.2; 1.2.3.4; ...)</span>\n",
       "\n",
       "</div>\n",
       "\n",
       "<div class=\"frow\">\n",
       "    <div class=\"fnamecat \">\n",
       "<a target=\"_blank\" href=\"https://etcbc.github.io/BHSA/features/pdp\" title=\"~/text-fabric-data/github/etcbc/BHSA/tf/2021/pdp.tf\">pdp</a>\n",
       "</div>\n",
       "<div class=\"fmono\">str</div>\n",
       "\n",
       "<span> ✅ phrase dependent part-of-speech (art; verb; subs; nmpr, ...)</span>\n",
       "\n",
       "</div>\n",
       "\n",
       "<div class=\"frow\">\n",
       "    <div class=\"fnamecat \">\n",
       "<a target=\"_blank\" href=\"https://etcbc.github.io/BHSA/features/pfm\" title=\"~/text-fabric-data/github/etcbc/BHSA/tf/2021/pfm.tf\">pfm</a>\n",
       "</div>\n",
       "<div class=\"fmono\">str</div>\n",
       "\n",
       "<span> ✅ preformative consonantal-transliterated (absent; n/a; J, ...)</span>\n",
       "\n",
       "</div>\n",
       "\n",
       "<div class=\"frow\">\n",
       "    <div class=\"fnamecat \">\n",
       "<a target=\"_blank\" href=\"https://etcbc.github.io/BHSA/features/prs\" title=\"~/text-fabric-data/github/etcbc/BHSA/tf/2021/prs.tf\">prs</a>\n",
       "</div>\n",
       "<div class=\"fmono\">str</div>\n",
       "\n",
       "<span> ✅ pronominal suffix consonantal-transliterated (absent; n/a; W; ...)</span>\n",
       "\n",
       "</div>\n",
       "\n",
       "<div class=\"frow\">\n",
       "    <div class=\"fnamecat \">\n",
       "<a target=\"_blank\" href=\"https://etcbc.github.io/BHSA/features/prs_gn\" title=\"~/text-fabric-data/github/etcbc/BHSA/tf/2021/prs_gn.tf\">prs_gn</a>\n",
       "</div>\n",
       "<div class=\"fmono\">str</div>\n",
       "\n",
       "<span> ✅ pronominal suffix gender (m; f; NA; unknown.)</span>\n",
       "\n",
       "</div>\n",
       "\n",
       "<div class=\"frow\">\n",
       "    <div class=\"fnamecat \">\n",
       "<a target=\"_blank\" href=\"https://etcbc.github.io/BHSA/features/prs_nu\" title=\"~/text-fabric-data/github/etcbc/BHSA/tf/2021/prs_nu.tf\">prs_nu</a>\n",
       "</div>\n",
       "<div class=\"fmono\">str</div>\n",
       "\n",
       "<span> ✅ pronominal suffix number (sg; du; pl; NA; unknown.)</span>\n",
       "\n",
       "</div>\n",
       "\n",
       "<div class=\"frow\">\n",
       "    <div class=\"fnamecat \">\n",
       "<a target=\"_blank\" href=\"https://etcbc.github.io/BHSA/features/prs_ps\" title=\"~/text-fabric-data/github/etcbc/BHSA/tf/2021/prs_ps.tf\">prs_ps</a>\n",
       "</div>\n",
       "<div class=\"fmono\">str</div>\n",
       "\n",
       "<span> ✅ pronominal suffix person (p1; p2; p3; NA; unknown.)</span>\n",
       "\n",
       "</div>\n",
       "\n",
       "<div class=\"frow\">\n",
       "    <div class=\"fnamecat \">\n",
       "<a target=\"_blank\" href=\"https://etcbc.github.io/BHSA/features/ps\" title=\"~/text-fabric-data/github/etcbc/BHSA/tf/2021/ps.tf\">ps</a>\n",
       "</div>\n",
       "<div class=\"fmono\">str</div>\n",
       "\n",
       "<span> ✅ grammatical person (p1; p2; p3; NA; unknown.)</span>\n",
       "\n",
       "</div>\n",
       "\n",
       "<div class=\"frow\">\n",
       "    <div class=\"fnamecat \">\n",
       "<a target=\"_blank\" href=\"https://etcbc.github.io/BHSA/features/qere\" title=\"~/text-fabric-data/github/etcbc/BHSA/tf/2021/qere.tf\">qere</a>\n",
       "</div>\n",
       "<div class=\"fmono\">str</div>\n",
       "\n",
       "<span> ✅ word pointed-transliterated masoretic reading correction</span>\n",
       "\n",
       "</div>\n",
       "\n",
       "<div class=\"frow\">\n",
       "    <div class=\"fnamecat \">\n",
       "<a target=\"_blank\" href=\"https://etcbc.github.io/BHSA/features/qere_trailer\" title=\"~/text-fabric-data/github/etcbc/BHSA/tf/2021/qere_trailer.tf\">qere_trailer</a>\n",
       "</div>\n",
       "<div class=\"fmono\">str</div>\n",
       "\n",
       "<span> ✅ interword material -pointed-transliterated (Masoretic correction)</span>\n",
       "\n",
       "</div>\n",
       "\n",
       "<div class=\"frow\">\n",
       "    <div class=\"fnamecat \">\n",
       "<a target=\"_blank\" href=\"https://etcbc.github.io/BHSA/features/qere_trailer_utf8\" title=\"~/text-fabric-data/github/etcbc/BHSA/tf/2021/qere_trailer_utf8.tf\">qere_trailer_utf8</a>\n",
       "</div>\n",
       "<div class=\"fmono\">str</div>\n",
       "\n",
       "<span> ✅ interword material -pointed-transliterated (Masoretic correction)</span>\n",
       "\n",
       "</div>\n",
       "\n",
       "<div class=\"frow\">\n",
       "    <div class=\"fnamecat \">\n",
       "<a target=\"_blank\" href=\"https://etcbc.github.io/BHSA/features/qere_utf8\" title=\"~/text-fabric-data/github/etcbc/BHSA/tf/2021/qere_utf8.tf\">qere_utf8</a>\n",
       "</div>\n",
       "<div class=\"fmono\">str</div>\n",
       "\n",
       "<span> ✅ word pointed-Hebrew masoretic reading correction</span>\n",
       "\n",
       "</div>\n",
       "\n",
       "<div class=\"frow\">\n",
       "    <div class=\"fnamecat \">\n",
       "<a target=\"_blank\" href=\"https://etcbc.github.io/BHSA/features/rank_lex\" title=\"~/text-fabric-data/github/etcbc/BHSA/tf/2021/rank_lex.tf\">rank_lex</a>\n",
       "</div>\n",
       "<div class=\"fmono\">int</div>\n",
       "\n",
       "<span> ✅ ranking of lexemes based on freqnuecy</span>\n",
       "\n",
       "</div>\n",
       "\n",
       "<div class=\"frow\">\n",
       "    <div class=\"fnamecat \">\n",
       "<a target=\"_blank\" href=\"https://etcbc.github.io/BHSA/features/rela\" title=\"~/text-fabric-data/github/etcbc/BHSA/tf/2021/rela.tf\">rela</a>\n",
       "</div>\n",
       "<div class=\"fmono\">str</div>\n",
       "\n",
       "<span> ✅ linguistic relation between clause/(sub)phrase(atom) (ADJ; MOD; ATR; ...)</span>\n",
       "\n",
       "</div>\n",
       "\n",
       "<div class=\"frow\">\n",
       "    <div class=\"fnamecat \">\n",
       "<a target=\"_blank\" href=\"https://etcbc.github.io/BHSA/features/sp\" title=\"~/text-fabric-data/github/etcbc/BHSA/tf/2021/sp.tf\">sp</a>\n",
       "</div>\n",
       "<div class=\"fmono\">str</div>\n",
       "\n",
       "<span> ✅ part-of-speech (art; verb; subs; nmpr, ...)</span>\n",
       "\n",
       "</div>\n",
       "\n",
       "<div class=\"frow\">\n",
       "    <div class=\"fnamecat \">\n",
       "<a target=\"_blank\" href=\"https://etcbc.github.io/BHSA/features/st\" title=\"~/text-fabric-data/github/etcbc/BHSA/tf/2021/st.tf\">st</a>\n",
       "</div>\n",
       "<div class=\"fmono\">str</div>\n",
       "\n",
       "<span> ✅ state of a noun (a (absolute); c (construct); e (emphatic).)</span>\n",
       "\n",
       "</div>\n",
       "\n",
       "<div class=\"frow\">\n",
       "    <div class=\"fnamecat \">\n",
       "<a target=\"_blank\" href=\"https://etcbc.github.io/BHSA/features/tab\" title=\"~/text-fabric-data/github/etcbc/BHSA/tf/2021/tab.tf\">tab</a>\n",
       "</div>\n",
       "<div class=\"fmono\">int</div>\n",
       "\n",
       "<span> ✅ clause atom: its level in the linguistic embedding</span>\n",
       "\n",
       "</div>\n",
       "\n",
       "<div class=\"frow\">\n",
       "    <div class=\"fnamecat \">\n",
       "<a target=\"_blank\" href=\"https://etcbc.github.io/BHSA/features/trailer\" title=\"~/text-fabric-data/github/etcbc/BHSA/tf/2021/trailer.tf\">trailer</a>\n",
       "</div>\n",
       "<div class=\"fmono\">str</div>\n",
       "\n",
       "<span> ✅ interword material pointed-transliterated (& 00 05 00_P ...)</span>\n",
       "\n",
       "</div>\n",
       "\n",
       "<div class=\"frow\">\n",
       "    <div class=\"fnamecat \">\n",
       "<a target=\"_blank\" href=\"https://etcbc.github.io/BHSA/features/trailer_utf8\" title=\"~/text-fabric-data/github/etcbc/BHSA/tf/2021/trailer_utf8.tf\">trailer_utf8</a>\n",
       "</div>\n",
       "<div class=\"fmono\">str</div>\n",
       "\n",
       "<span> ✅ interword material pointed-Hebrew (־ ׃)</span>\n",
       "\n",
       "</div>\n",
       "\n",
       "<div class=\"frow\">\n",
       "    <div class=\"fnamecat \">\n",
       "<a target=\"_blank\" href=\"https://etcbc.github.io/BHSA/features/txt\" title=\"~/text-fabric-data/github/etcbc/BHSA/tf/2021/txt.tf\">txt</a>\n",
       "</div>\n",
       "<div class=\"fmono\">str</div>\n",
       "\n",
       "<span> ✅ text type of clause and surrounding (repetion of ? N D Q as in feature domain)</span>\n",
       "\n",
       "</div>\n",
       "\n",
       "<div class=\"frow\">\n",
       "    <div class=\"fnamecat \">\n",
       "<a target=\"_blank\" href=\"https://etcbc.github.io/BHSA/features/typ\" title=\"~/text-fabric-data/github/etcbc/BHSA/tf/2021/typ.tf\">typ</a>\n",
       "</div>\n",
       "<div class=\"fmono\">str</div>\n",
       "\n",
       "<span> ✅ clause/phrase(atom) type (VP; NP; Ellp; Ptcp; WayX)</span>\n",
       "\n",
       "</div>\n",
       "\n",
       "<div class=\"frow\">\n",
       "    <div class=\"fnamecat \">\n",
       "<a target=\"_blank\" href=\"https://etcbc.github.io/BHSA/features/uvf\" title=\"~/text-fabric-data/github/etcbc/BHSA/tf/2021/uvf.tf\">uvf</a>\n",
       "</div>\n",
       "<div class=\"fmono\">str</div>\n",
       "\n",
       "<span> ✅ univalent final consonant consonantal-transliterated (absent; N; J; ...)</span>\n",
       "\n",
       "</div>\n",
       "\n",
       "<div class=\"frow\">\n",
       "    <div class=\"fnamecat \">\n",
       "<a target=\"_blank\" href=\"https://etcbc.github.io/BHSA/features/vbe\" title=\"~/text-fabric-data/github/etcbc/BHSA/tf/2021/vbe.tf\">vbe</a>\n",
       "</div>\n",
       "<div class=\"fmono\">str</div>\n",
       "\n",
       "<span> ✅ verbal ending consonantal-transliterated (n/a; W; ...)</span>\n",
       "\n",
       "</div>\n",
       "\n",
       "<div class=\"frow\">\n",
       "    <div class=\"fnamecat \">\n",
       "<a target=\"_blank\" href=\"https://etcbc.github.io/BHSA/features/vbs\" title=\"~/text-fabric-data/github/etcbc/BHSA/tf/2021/vbs.tf\">vbs</a>\n",
       "</div>\n",
       "<div class=\"fmono\">str</div>\n",
       "\n",
       "<span> ✅ root formation consonantal-transliterated (absent; n/a; H; ...)</span>\n",
       "\n",
       "</div>\n",
       "\n",
       "<div class=\"frow\">\n",
       "    <div class=\"fnamecat \">\n",
       "<a target=\"_blank\" href=\"https://etcbc.github.io/BHSA/features/verse\" title=\"~/text-fabric-data/github/etcbc/BHSA/tf/2021/verse.tf\">verse</a>\n",
       "</div>\n",
       "<div class=\"fmono\">int</div>\n",
       "\n",
       "<span> ✅ verse number</span>\n",
       "\n",
       "</div>\n",
       "\n",
       "<div class=\"frow\">\n",
       "    <div class=\"fnamecat \">\n",
       "<a target=\"_blank\" href=\"https://etcbc.github.io/BHSA/features/voc_lex\" title=\"~/text-fabric-data/github/etcbc/BHSA/tf/2021/voc_lex.tf\">voc_lex</a>\n",
       "</div>\n",
       "<div class=\"fmono\">str</div>\n",
       "\n",
       "<span> ✅ vocalized lexeme pointed-transliterated (B.: R;>CIJT BR> >:ELOHIJM)</span>\n",
       "\n",
       "</div>\n",
       "\n",
       "<div class=\"frow\">\n",
       "    <div class=\"fnamecat \">\n",
       "<a target=\"_blank\" href=\"https://etcbc.github.io/BHSA/features/voc_lex_utf8\" title=\"~/text-fabric-data/github/etcbc/BHSA/tf/2021/voc_lex_utf8.tf\">voc_lex_utf8</a>\n",
       "</div>\n",
       "<div class=\"fmono\">str</div>\n",
       "\n",
       "<span> ✅ vocalized lexeme pointed-Hebrew (בְּ רֵאשִׁית ברא אֱלֹהִים)</span>\n",
       "\n",
       "</div>\n",
       "\n",
       "<div class=\"frow\">\n",
       "    <div class=\"fnamecat \">\n",
       "<a target=\"_blank\" href=\"https://etcbc.github.io/BHSA/features/vs\" title=\"~/text-fabric-data/github/etcbc/BHSA/tf/2021/vs.tf\">vs</a>\n",
       "</div>\n",
       "<div class=\"fmono\">str</div>\n",
       "\n",
       "<span> ✅ verbal stem (qal; piel; hif; apel; pael)</span>\n",
       "\n",
       "</div>\n",
       "\n",
       "<div class=\"frow\">\n",
       "    <div class=\"fnamecat \">\n",
       "<a target=\"_blank\" href=\"https://etcbc.github.io/BHSA/features/vt\" title=\"~/text-fabric-data/github/etcbc/BHSA/tf/2021/vt.tf\">vt</a>\n",
       "</div>\n",
       "<div class=\"fmono\">str</div>\n",
       "\n",
       "<span> ✅ verbal tense (perf; impv; wayq; infc)</span>\n",
       "\n",
       "</div>\n",
       "\n",
       "<div class=\"frow\">\n",
       "    <div class=\"fnamecat edge\">\n",
       "<a target=\"_blank\" href=\"https://etcbc.github.io/BHSA/features/mother\" title=\"~/text-fabric-data/github/etcbc/BHSA/tf/2021/mother.tf\">mother</a>\n",
       "</div>\n",
       "<div class=\"fmono\">none</div>\n",
       "\n",
       "<span> ✅ linguistic dependency between textual objects</span>\n",
       "\n",
       "</div>\n",
       "\n",
       "<div class=\"frow\">\n",
       "    <div class=\"fnamecat edge\">\n",
       "<a target=\"_blank\" href=\"https://etcbc.github.io/BHSA/features/oslots\" title=\"~/text-fabric-data/github/etcbc/BHSA/tf/2021/oslots.tf\">oslots</a>\n",
       "</div>\n",
       "<div class=\"fmono\">none</div>\n",
       "\n",
       "<span> </span>\n",
       "\n",
       "</div>\n",
       "\n",
       "    </div>\n",
       "</details>\n",
       "\n",
       "<details><summary><b>Phonetic Transcriptions</b></summary>\n",
       "    <div class=\"fcorpus\">\n",
       "\n",
       "<div class=\"frow\">\n",
       "    <div class=\"fnamecat \">\n",
       "<a target=\"_blank\" href=\"https://nbviewer.jupyter.org/github/etcbc/phono/blob/master/programs/phono.ipynb\" title=\"~/text-fabric-data/github/etcbc/phono/tf/2021/phono.tf\">phono</a>\n",
       "</div>\n",
       "<div class=\"fmono\">str</div>\n",
       "\n",
       "<span> 🆗 phonological transcription (bᵊ rēšˌîṯ bārˈā ʔᵉlōhˈîm)</span>\n",
       "\n",
       "</div>\n",
       "\n",
       "<div class=\"frow\">\n",
       "    <div class=\"fnamecat \">\n",
       "<a target=\"_blank\" href=\"https://nbviewer.jupyter.org/github/etcbc/phono/blob/master/programs/phono.ipynb\" title=\"~/text-fabric-data/github/etcbc/phono/tf/2021/phono_trailer.tf\">phono_trailer</a>\n",
       "</div>\n",
       "<div class=\"fmono\">str</div>\n",
       "\n",
       "<span> 🆗 interword material in phonological transcription</span>\n",
       "\n",
       "</div>\n",
       "\n",
       "    </div>\n",
       "</details>\n",
       "\n",
       "<details><summary><b><github>tonyjurg/BHSaddons/tf</b></summary>\n",
       "    <div class=\"fcorpus\">\n",
       "\n",
       "<div class=\"frow\">\n",
       "    <div class=\"fnamecat \">\n",
       "<a target=\"_blank\" href=\"https://github.com/tonyjurg/BHSaddons/tree/master/tf\" title=\"~/text-fabric-data/github/tonyjurg/BHSaddons/tf/2021/aliyotnum.tf\">aliyotnum</a>\n",
       "</div>\n",
       "<div class=\"fmono\">str</div>\n",
       "\n",
       "<span> The sequence number of the aliyot within the parasha</span>\n",
       "\n",
       "</div>\n",
       "\n",
       "<div class=\"frow\">\n",
       "    <div class=\"fnamecat \">\n",
       "<a target=\"_blank\" href=\"https://github.com/tonyjurg/BHSaddons/tree/master/tf\" title=\"~/text-fabric-data/github/tonyjurg/BHSaddons/tf/2021/maftir.tf\">maftir</a>\n",
       "</div>\n",
       "<div class=\"fmono\">str</div>\n",
       "\n",
       "<span> Set to 1 if this verse is part of a maftir</span>\n",
       "\n",
       "</div>\n",
       "\n",
       "<div class=\"frow\">\n",
       "    <div class=\"fnamecat \">\n",
       "<a target=\"_blank\" href=\"https://github.com/tonyjurg/BHSaddons/tree/master/tf\" title=\"~/text-fabric-data/github/tonyjurg/BHSaddons/tf/2021/parashahebr.tf\">parashahebr</a>\n",
       "</div>\n",
       "<div class=\"fmono\">str</div>\n",
       "\n",
       "<span> The name of the parasha in Hebrew</span>\n",
       "\n",
       "</div>\n",
       "\n",
       "<div class=\"frow\">\n",
       "    <div class=\"fnamecat \">\n",
       "<a target=\"_blank\" href=\"https://github.com/tonyjurg/BHSaddons/tree/master/tf\" title=\"~/text-fabric-data/github/tonyjurg/BHSaddons/tf/2021/parashanum.tf\">parashanum</a>\n",
       "</div>\n",
       "<div class=\"fmono\">int</div>\n",
       "\n",
       "<span> The sequence number of the parasha</span>\n",
       "\n",
       "</div>\n",
       "\n",
       "<div class=\"frow\">\n",
       "    <div class=\"fnamecat \">\n",
       "<a target=\"_blank\" href=\"https://github.com/tonyjurg/BHSaddons/tree/master/tf\" title=\"~/text-fabric-data/github/tonyjurg/BHSaddons/tf/2021/parashatrans.tf\">parashatrans</a>\n",
       "</div>\n",
       "<div class=\"fmono\">str</div>\n",
       "\n",
       "<span> Transliteration of the Hebrew parasha name</span>\n",
       "\n",
       "</div>\n",
       "\n",
       "<div class=\"frow\">\n",
       "    <div class=\"fnamecat \">\n",
       "<a target=\"_blank\" href=\"https://github.com/tonyjurg/BHSaddons/tree/master/tf\" title=\"~/text-fabric-data/github/tonyjurg/BHSaddons/tf/2021/parashaverse.tf\">parashaverse</a>\n",
       "</div>\n",
       "<div class=\"fmono\">str</div>\n",
       "\n",
       "<span> The sequence number of the verse within the parasha</span>\n",
       "\n",
       "</div>\n",
       "\n",
       "<div class=\"frow\">\n",
       "    <div class=\"fnamecat \">\n",
       "<a target=\"_blank\" href=\"https://github.com/tonyjurg/BHSaddons/tree/master/tf\" title=\"~/text-fabric-data/github/tonyjurg/BHSaddons/tf/2021/wordboundary.tf\">wordboundary</a>\n",
       "</div>\n",
       "<div class=\"fmono\">str</div>\n",
       "\n",
       "<span> indicates wordboudaries (spaces OR maqaf)</span>\n",
       "\n",
       "</div>\n",
       "\n",
       "    </div>\n",
       "</details>\n",
       "\n",
       "            <b>Settings:</b><br><details ><summary><b>specified</b></summary><ol><li><b>apiVersion</b>: <code>3</code></li><li><b>appName</b>: <code>etcbc/BHSA</code></li><li><b>appPath</b>: <code>C:/Users/tonyj/text-fabric-data/github/etcbc/BHSA/app</code></li><li><b>commit</b>: <code>gd905e3fb6e80d0fa537600337614adc2af157309</code></li><li><b>css</b>: <code>''</code></li><li><details><summary><b>dataDisplay</b>:</summary><ul><li><details><summary><b>exampleSectionHtml</b>:</summary><code>&lt;code&gt;Genesis 1:1&lt;/code&gt; (use &lt;a href=\"https://github.com/{org}/{repo}/blob/master/tf/{version}/book%40en.tf\" target=\"_blank\"&gt;English book names&lt;/a&gt;)</code></details></li><li><details><summary><b>excludedFeatures</b>:</summary><ul><li><code>g_uvf_utf8</code></li><li><code>g_vbs</code></li><li><code>kq_hybrid</code></li><li><code>languageISO</code></li><li><code>g_nme</code></li><li><code>lex0</code></li><li><code>is_root</code></li><li><code>g_vbs_utf8</code></li><li><code>g_uvf</code></li><li><code>dist</code></li><li><code>root</code></li><li><code>suffix_person</code></li><li><code>g_vbe</code></li><li><code>dist_unit</code></li><li><code>suffix_number</code></li><li><code>distributional_parent</code></li><li><code>kq_hybrid_utf8</code></li><li><code>crossrefSET</code></li><li><code>instruction</code></li><li><code>g_prs</code></li><li><code>lexeme_count</code></li><li><code>rank_occ</code></li><li><code>g_pfm_utf8</code></li><li><code>freq_occ</code></li><li><code>crossrefLCS</code></li><li><code>functional_parent</code></li><li><code>g_pfm</code></li><li><code>g_nme_utf8</code></li><li><code>g_vbe_utf8</code></li><li><code>kind</code></li><li><code>g_prs_utf8</code></li><li><code>suffix_gender</code></li><li><code>mother_object_type</code></li></ul></details></li><li><details><summary><b>noneValues</b>:</summary><ul><li><code>none</code></li><li><code>unknown</code></li><li><i>no value</i></li><li><code>NA</code></li></ul></details></li></ul></details></li><li><details><summary><b>docs</b>:</summary><ul><li><b>docBase</b>: <code>{docRoot}/{repo}</code></li><li><b>docExt</b>: <code>''</code></li><li><b>docPage</b>: <code>''</code></li><li><b>docRoot</b>: <code>https://{org}.github.io</code></li><li><b>featurePage</b>: <code>0_home</code></li></ul></details></li><li><b>interfaceDefaults</b>: <code>{}</code></li><li><b>isCompatible</b>: <code>True</code></li><li><b>local</b>: <code>local</code></li><li><b>localDir</b>: <code>C:/Users/tonyj/text-fabric-data/github/etcbc/BHSA/_temp</code></li><li><details><summary><b>provenanceSpec</b>:</summary><ul><li><b>corpus</b>: <code>BHSA = Biblia Hebraica Stuttgartensia Amstelodamensis</code></li><li><b>doi</b>: <code>10.5281/zenodo.1007624</code></li><li><details><summary><b>moduleSpecs</b>:</summary><ul><li><details><summary>:</summary><ul><li><b>backend</b>: <i>no value</i></li><li><b>corpus</b>: <code>Phonetic Transcriptions</code></li><li><details><summary><b>docUrl</b>:</summary><code>https://nbviewer.jupyter.org/github/etcbc/phono/blob/master/programs/phono.ipynb</code></details></li><li><b>doi</b>: <code>10.5281/zenodo.1007636</code></li><li><b>org</b>: <code>etcbc</code></li><li><b>relative</b>: <code>/tf</code></li><li><b>repo</b>: <code>phono</code></li></ul></details></li><li><details><summary>:</summary><ul><li><b>backend</b>: <i>no value</i></li><li><b>corpus</b>: <code>Parallel Passages</code></li><li><details><summary><b>docUrl</b>:</summary><code>https://nbviewer.jupyter.org/github/etcbc/parallels/blob/master/programs/parallels.ipynb</code></details></li><li><b>doi</b>: <code>10.5281/zenodo.1007642</code></li><li><b>org</b>: <code>etcbc</code></li><li><b>relative</b>: <code>/tf</code></li><li><b>repo</b>: <code>parallels</code></li></ul></details></li></ul></details></li><li><b>org</b>: <code>etcbc</code></li><li><b>relative</b>: <code>/tf</code></li><li><b>repo</b>: <code>BHSA</code></li><li><b>version</b>: <code>2021</code></li><li><b>webBase</b>: <code>https://shebanq.ancient-data.org/hebrew</code></li><li><b>webHint</b>: <code>Show this on SHEBANQ</code></li><li><b>webLang</b>: <code>la</code></li><li><b>webLexId</b>: <code>True</code></li><li><details><summary><b>webUrl</b>:</summary><code>{webBase}/text?book=&lt;1&gt;&amp;chapter=&lt;2&gt;&amp;verse=&lt;3&gt;&amp;version={version}&amp;mr=m&amp;qw=q&amp;tp=txt_p&amp;tr=hb&amp;wget=v&amp;qget=v&amp;nget=vt</code></details></li><li><b>webUrlLex</b>: <code>{webBase}/word?version={version}&amp;id=&lt;lid&gt;</code></li></ul></details></li><li><b>release</b>: <code>v1.8</code></li><li><details><summary><b>typeDisplay</b>:</summary><ul><li><details><summary><b>clause</b>:</summary><ul><li><b>label</b>: <code>{typ} {rela}</code></li><li><b>style</b>: <code>''</code></li></ul></details></li><li><details><summary><b>clause_atom</b>:</summary><ul><li><b>hidden</b>: <code>True</code></li><li><b>label</b>: <code>{code}</code></li><li><b>level</b>: <code>1</code></li><li><b>style</b>: <code>''</code></li></ul></details></li><li><details><summary><b>half_verse</b>:</summary><ul><li><b>hidden</b>: <code>True</code></li><li><b>label</b>: <code>{label}</code></li><li><b>style</b>: <code>''</code></li><li><b>verselike</b>: <code>True</code></li></ul></details></li><li><details><summary><b>lex</b>:</summary><ul><li><b>featuresBare</b>: <code>gloss</code></li><li><b>label</b>: <code>{voc_lex_utf8}</code></li><li><b>lexOcc</b>: <code>word</code></li><li><b>style</b>: <code>orig</code></li><li><b>template</b>: <code>{voc_lex_utf8}</code></li></ul></details></li><li><details><summary><b>phrase</b>:</summary><ul><li><b>label</b>: <code>{typ} {function}</code></li><li><b>style</b>: <code>''</code></li></ul></details></li><li><details><summary><b>phrase_atom</b>:</summary><ul><li><b>hidden</b>: <code>True</code></li><li><b>label</b>: <code>{typ} {rela}</code></li><li><b>level</b>: <code>1</code></li><li><b>style</b>: <code>''</code></li></ul></details></li><li><details><summary><b>sentence</b>:</summary><ul><li><b>label</b>: <code>{number}</code></li><li><b>style</b>: <code>''</code></li></ul></details></li><li><details><summary><b>sentence_atom</b>:</summary><ul><li><b>hidden</b>: <code>True</code></li><li><b>label</b>: <code>{number}</code></li><li><b>level</b>: <code>1</code></li><li><b>style</b>: <code>''</code></li></ul></details></li><li><details><summary><b>subphrase</b>:</summary><ul><li><b>hidden</b>: <code>True</code></li><li><b>label</b>: <code>{number}</code></li><li><b>style</b>: <code>''</code></li></ul></details></li><li><details><summary><b>word</b>:</summary><ul><li><b>features</b>: <code>pdp vs vt</code></li><li><b>featuresBare</b>: <code>lex:gloss</code></li></ul></details></li></ul></details></li><li><b>writing</b>: <code>hbo</code></li></ol></details>\n"
      ],
      "text/plain": [
       "<IPython.core.display.HTML object>"
      ]
     },
     "metadata": {},
     "output_type": "display_data"
    },
    {
     "data": {
      "text/html": [
       "<style>tr.tf.ltr, td.tf.ltr, th.tf.ltr { text-align: left ! important;}\n",
       "tr.tf.rtl, td.tf.rtl, th.tf.rtl { text-align: right ! important;}\n",
       "@font-face {\n",
       "  font-family: \"Gentium Plus\";\n",
       "  src: local('Gentium Plus'), local('GentiumPlus'),\n",
       "    url('/browser/static/fonts/GentiumPlus-R.woff') format('woff'),\n",
       "    url('https://github.com/annotation/text-fabric/blob/master/tf/browser/static/fonts/GentiumPlus-R.woff?raw=true') format('woff');\n",
       "}\n",
       "\n",
       "@font-face {\n",
       "  font-family: \"Ezra SIL\";\n",
       "  src: local('Ezra SIL'), local('EzraSIL'),\n",
       "    url('/browser/static/fonts/SILEOT.woff') format('woff'),\n",
       "    url('https://github.com/annotation/text-fabric/blob/master/tf/browser/static/fonts/SILEOT.woff?raw=true') format('woff');\n",
       "}\n",
       "\n",
       "@font-face {\n",
       "  font-family: \"SBL Hebrew\";\n",
       "  src: local('SBL Hebrew'), local('SBLHebrew'),\n",
       "    url('/browser/static/fonts/SBL_Hbrw.woff') format('woff'),\n",
       "    url('https://github.com/annotation/text-fabric/blob/master/tf/browser/static/fonts/SBL_Hbrw.woff?raw=true') format('woff');\n",
       "}\n",
       "\n",
       "@font-face {\n",
       "  font-family: \"Estrangelo Edessa\";\n",
       "  src: local('Estrangelo Edessa'), local('EstrangeloEdessa');\n",
       "    url('/browser/static/fonts/SyrCOMEdessa.woff') format('woff'),\n",
       "    url('https://github.com/annotation/text-fabric/blob/master/tf/browser/static/fonts/SyrCOMEdessa.woff?raw=true') format('woff');\n",
       "}\n",
       "\n",
       "@font-face {\n",
       "  font-family: AmiriQuran;\n",
       "  font-style: normal;\n",
       "  font-weight: 400;\n",
       "  src: local('Amiri Quran'), local('AmiriQuran'),\n",
       "    url('/browser/static/fonts/AmiriQuran.woff') format('woff'),\n",
       "    url('https://github.com/annotation/text-fabric/blob/master/tf/browser/static/fonts/AmiriQuran.woff?raw=true') format('woff');\n",
       "}\n",
       "\n",
       "@font-face {\n",
       "  font-family: AmiriQuranColored;\n",
       "  font-style: normal;\n",
       "  font-weight: 400;\n",
       "  src: local('Amiri Quran Colored'), local('AmiriQuranColored'),\n",
       "    url('/browser/static/fonts/AmiriQuranColored.woff') format('woff'),\n",
       "    url('https://github.com/annotation/text-fabric/blob/master/tf/browser/static/fonts/AmiriQuranColored.woff?raw=true') format('woff');\n",
       "}\n",
       "\n",
       "@font-face {\n",
       "  font-family: \"Santakku\";\n",
       "  src: local('Santakku'),\n",
       "    url('/browser/static/fonts/Santakku.woff') format('woff'),\n",
       "    url('https://github.com/annotation/text-fabric/blob/master/tf/browser/static/fonts/Santakku.woff?raw=true') format('woff');\n",
       "}\n",
       "\n",
       "@font-face {\n",
       "  font-family: \"SantakkuM\";\n",
       "  src: local('SantakkuM'),\n",
       "    url('/browser/static/fonts/SantakkuM.woff') format('woff'),\n",
       "    url('https://github.com/annotation/text-fabric/blob/master/tf/browser/static/fonts/SantakkuM.woff?raw=true') format('woff');\n",
       "}\n",
       "\n",
       "/* bypassing some classical notebook settings */\n",
       "div#notebook {\n",
       "  line-height: unset;\n",
       "}\n",
       "/* neutral text */\n",
       ".txtn,.txtn a:visited,.txtn a:link {\n",
       "    font-family: sans-serif;\n",
       "    font-size: medium;\n",
       "    direction: ltr;\n",
       "    unicode-bidi: embed;\n",
       "    text-decoration: none;\n",
       "    color: var(--text-color);\n",
       "}\n",
       "/* transcription text */\n",
       ".txtt,.txtt a:visited,.txtt a:link {\n",
       "    font-family: monospace;\n",
       "    font-size: medium;\n",
       "    direction: ltr;\n",
       "    unicode-bidi: embed;\n",
       "    text-decoration: none;\n",
       "    color: var(--text-color);\n",
       "}\n",
       "/* source text */\n",
       ".txto,.txto a:visited,.txto a:link {\n",
       "    font-family: serif;\n",
       "    font-size: medium;\n",
       "    direction: ltr;\n",
       "    unicode-bidi: embed;\n",
       "    text-decoration: none;\n",
       "    color: var(--text-color);\n",
       "}\n",
       "/* phonetic text */\n",
       ".txtp,.txtp a:visited,.txtp a:link {\n",
       "    font-family: Gentium, sans-serif;\n",
       "    font-size: medium;\n",
       "    direction: ltr;\n",
       "    unicode-bidi: embed;\n",
       "    text-decoration: none;\n",
       "    color: var(--text-color);\n",
       "}\n",
       "/* original script text */\n",
       ".txtu,.txtu a:visited,.txtu a:link {\n",
       "    font-family: Gentium, sans-serif;\n",
       "    font-size: medium;\n",
       "    text-decoration: none;\n",
       "    color: var(--text-color);\n",
       "}\n",
       "/* hebrew */\n",
       ".txtu.hbo,.lex.hbo {\n",
       "    font-family: \"Ezra SIL\", \"SBL Hebrew\", sans-serif;\n",
       "    font-size: large;\n",
       "    direction: rtl ! important;\n",
       "    unicode-bidi: embed;\n",
       "}\n",
       "/* syriac */\n",
       ".txtu.syc,.lex.syc {\n",
       "    font-family: \"Estrangelo Edessa\", sans-serif;\n",
       "    font-size: medium;\n",
       "    direction: rtl ! important;\n",
       "    unicode-bidi: embed;\n",
       "}\n",
       "/* neo aramaic */\n",
       ".txtu.cld,.lex.cld {\n",
       "    font-family: \"CharisSIL-R\", sans-serif;\n",
       "    font-size: medium;\n",
       "    direction: ltr ! important;\n",
       "    unicode-bidi: embed;\n",
       "}\n",
       "/* standard arabic */\n",
       ".txtu.ara,.lex.ara {\n",
       "    font-family: \"AmiriQuran\", sans-serif;\n",
       "    font-size: large;\n",
       "    direction: rtl ! important;\n",
       "    unicode-bidi: embed;\n",
       "}\n",
       "/* cuneiform */\n",
       ".txtu.akk,.lex.akk {\n",
       "    font-family: Santakku, sans-serif;\n",
       "    font-size: large;\n",
       "    direction: ltr ! important;\n",
       "    unicode-bidi: embed;\n",
       "}\n",
       ".txtu.uga,.lex.uga {\n",
       "    font-family: sans-serif;\n",
       "    /*font-family: Noto Sans Ugaritic, sans-serif;*/\n",
       "    font-size: large;\n",
       "    direction: ltr ! important;\n",
       "    unicode-bidi: embed;\n",
       "}\n",
       "/* greek */\n",
       ".txtu.grc,.lex.grc a:link {\n",
       "    font-family: Gentium, sans-serif;\n",
       "    font-size: medium;\n",
       "    direction: ltr ! important;\n",
       "    unicode-bidi: embed;\n",
       "}\n",
       "a:hover {\n",
       "    text-decoration: underline | important;\n",
       "    color: #0000ff | important;\n",
       "}\n",
       ".ltr {\n",
       "    direction: ltr ! important;\n",
       "    unicode-bidi: embed;\n",
       "}\n",
       ".rtl {\n",
       "    direction: rtl ! important;\n",
       "    unicode-bidi: embed;\n",
       "}\n",
       ".ubd {\n",
       "    unicode-bidi: embed;\n",
       "}\n",
       ".col {\n",
       "   display: inline-block;\n",
       "}\n",
       ".features {\n",
       "    font-family: monospace;\n",
       "    font-size: medium;\n",
       "    font-weight: bold;\n",
       "    color: var(--features);\n",
       "    display: flex;\n",
       "    flex-flow: column nowrap;\n",
       "    justify-content: flex-start;\n",
       "    align-items: flex-start;\n",
       "    align-content: flex-start;\n",
       "    padding: 2px;\n",
       "    margin: 2px;\n",
       "    direction: ltr;\n",
       "    unicode-bidi: embed;\n",
       "    border: var(--meta-width) solid var(--meta-color);\n",
       "    border-radius: var(--meta-width);\n",
       "}\n",
       ".features div,.features span {\n",
       "    padding: 0;\n",
       "    margin: -2px 0;\n",
       "}\n",
       ".features .f {\n",
       "    font-family: sans-serif;\n",
       "    font-size: small;\n",
       "    font-weight: normal;\n",
       "    color: #5555bb;\n",
       "}\n",
       ".features .xft {\n",
       "  color: #000000;\n",
       "  background-color: #eeeeee;\n",
       "  font-size: medium;\n",
       "  margin: 2px 0px;\n",
       "}\n",
       ".features .xft .f {\n",
       "  color: #000000;\n",
       "  background-color: #eeeeee;\n",
       "  font-size: small;\n",
       "  font-weight: normal;\n",
       "}\n",
       ".tfsechead {\n",
       "    font-family: sans-serif;\n",
       "    font-size: small;\n",
       "    font-weight: bold;\n",
       "    color: var(--tfsechead);\n",
       "    unicode-bidi: embed;\n",
       "    text-align: start;\n",
       "}\n",
       ".structure {\n",
       "    font-family: sans-serif;\n",
       "    font-size: small;\n",
       "    font-weight: bold;\n",
       "    color: var(--structure);\n",
       "    unicode-bidi: embed;\n",
       "    text-align: start;\n",
       "}\n",
       ".comments {\n",
       "    display: flex;\n",
       "    justify-content: flex-start;\n",
       "    align-items: flex-start;\n",
       "    align-content: flex-start;\n",
       "    flex-flow: column nowrap;\n",
       "}\n",
       ".nd, a:link.nd {\n",
       "    font-family: sans-serif;\n",
       "    font-size: small;\n",
       "    color: var(--node);\n",
       "    vertical-align: super;\n",
       "    direction: ltr ! important;\n",
       "    unicode-bidi: embed;\n",
       "}\n",
       ".nde, a:link.nde {\n",
       "    font-family: sans-serif;\n",
       "    font-size: small;\n",
       "    color: var(--node);\n",
       "    direction: ltr ! important;\n",
       "    unicode-bidi: embed;\n",
       "}\n",
       ".etf {\n",
       "    font-size: normal;\n",
       "    border-radius: 0.2rem;\n",
       "    border: 1pt solid white;\n",
       "    padding: 0 0.2rem ! important;\n",
       "    margin: 0 0.2rem ! important;\n",
       "}\n",
       ".etfx {\n",
       "    font-size: x-large;\n",
       "}\n",
       ".lex {\n",
       "  color: var(--lex-color);;\n",
       "}\n",
       "#colormapplus, #colormapmin, .ecolormapmin {\n",
       "  font-weight: bold;\n",
       "  border-radius: 0.1rem;\n",
       "  background-color: #eeeeff;\n",
       "  padding: 0 1rem;\n",
       "  margin: 0 1rem;\n",
       "}\n",
       ".clr {\n",
       "  font-style: italic;\n",
       "  font-size: small;\n",
       "}\n",
       ".clmap,.eclmap {\n",
       "  padding: 0;\n",
       "}\n",
       ".children,.children.ltr {\n",
       "    display: flex;\n",
       "    border: 0;\n",
       "    background-color: #ffffff;\n",
       "    justify-content: flex-start;\n",
       "    align-items: flex-start;\n",
       "    align-content: flex-start;\n",
       "}\n",
       ".children.stretch {\n",
       "    align-items: stretch;\n",
       "}\n",
       ".children.hor {\n",
       "    flex-flow: row nowrap;\n",
       "}\n",
       ".children.hor.wrap {\n",
       "    flex-flow: row wrap;\n",
       "}\n",
       ".children.ver {\n",
       "    flex-flow: column nowrap;\n",
       "}\n",
       ".children.ver.wrap {\n",
       "    flex-flow: column wrap;\n",
       "}\n",
       ".contnr {\n",
       "    width: fit-content;\n",
       "    display: flex;\n",
       "    justify-content: flex-start;\n",
       "    align-items: flex-start;\n",
       "    align-content: flex-start;\n",
       "    flex-flow: column nowrap;\n",
       "    background: #ffffff none repeat scroll 0 0;\n",
       "    padding:  10px 2px 2px 2px;\n",
       "    margin: 16px 2px 2px 2px;\n",
       "    border-style: solid;\n",
       "    font-size: small;\n",
       "}\n",
       ".contnr.trm {\n",
       "    background-attachment: local;\n",
       "}\n",
       ".contnr.cnul {\n",
       "    padding:  0;\n",
       "    margin: 0;\n",
       "    border-style: solid;\n",
       "    font-size: xx-small;\n",
       "}\n",
       ".contnr.cnul,.lbl.cnul {\n",
       "    border-color: var(--border-color-nul);\n",
       "    border-width: var(--border-width-nul);\n",
       "    border-radius: var(--border-width-nul);\n",
       "}\n",
       ".contnr.c0,.lbl.c0 {\n",
       "    border-color: var(--border-color0);\n",
       "    border-width: var(--border-width0);\n",
       "    border-radius: var(--border-width0);\n",
       "}\n",
       ".contnr.c1,.lbl.c1 {\n",
       "    border-color: var(--border-color1);\n",
       "    border-width: var(--border-width1);\n",
       "    border-radius: var(--border-width1);\n",
       "}\n",
       ".contnr.c2,.lbl.c2 {\n",
       "    border-color: var(--border-color2);\n",
       "    border-width: var(--border-width2);\n",
       "    border-radius: var(--border-width2);\n",
       "}\n",
       ".contnr.c3,.lbl.c3 {\n",
       "    border-color: var(--border-color3);\n",
       "    border-width: var(--border-width3);\n",
       "    border-radius: var(--border-width3);\n",
       "}\n",
       ".contnr.c4,.lbl.c4 {\n",
       "    border-color: var(--border-color4);\n",
       "    border-width: var(--border-width4);\n",
       "    border-radius: var(--border-width4);\n",
       "}\n",
       "span.plain {\n",
       "    /*display: inline-block;*/\n",
       "    display: inline-flex;\n",
       "    flex-flow: row wrap;\n",
       "    white-space: pre-wrap;\n",
       "}\n",
       "span.break {\n",
       "  flex-basis: 100%;\n",
       "  height: 0;\n",
       "}\n",
       ".plain {\n",
       "    background-color: #ffffff;\n",
       "}\n",
       ".plain.l,.contnr.l,.contnr.l>.lbl {\n",
       "    border-left-style: dotted\n",
       "}\n",
       ".plain.r,.contnr.r,.contnr.r>.lbl {\n",
       "    border-right-style: dotted\n",
       "}\n",
       ".plain.lno,.contnr.lno,.contnr.lno>.lbl {\n",
       "    border-left-style: none\n",
       "}\n",
       ".plain.rno,.contnr.rno,.contnr.rno>.lbl {\n",
       "    border-right-style: none\n",
       "}\n",
       ".plain.l {\n",
       "    padding-left: 4px;\n",
       "    margin-left: 2px;\n",
       "    border-width: var(--border-width-plain);\n",
       "}\n",
       ".plain.r {\n",
       "    padding-right: 4px;\n",
       "    margin-right: 2px;\n",
       "    border-width: var(--border-width-plain);\n",
       "}\n",
       ".lbl {\n",
       "    font-family: monospace;\n",
       "    margin-top: -24px;\n",
       "    margin-left: 20px;\n",
       "    background: #ffffff none repeat scroll 0 0;\n",
       "    padding: 0 6px;\n",
       "    border-style: solid;\n",
       "    display: block;\n",
       "    color: var(--label)\n",
       "}\n",
       ".lbl.trm {\n",
       "    background-attachment: local;\n",
       "    margin-top: 2px;\n",
       "    margin-left: 2px;\n",
       "    padding: 2px 2px;\n",
       "    border-style: none;\n",
       "}\n",
       ".lbl.cnul {\n",
       "    font-size: xx-small;\n",
       "}\n",
       ".lbl.c0 {\n",
       "    font-size: small;\n",
       "}\n",
       ".lbl.c1 {\n",
       "    font-size: small;\n",
       "}\n",
       ".lbl.c2 {\n",
       "    font-size: medium;\n",
       "}\n",
       ".lbl.c3 {\n",
       "    font-size: medium;\n",
       "}\n",
       ".lbl.c4 {\n",
       "    font-size: large;\n",
       "}\n",
       ".occs, a:link.occs {\n",
       "    font-size: small;\n",
       "}\n",
       "\n",
       "/* PROVENANCE */\n",
       "\n",
       "div.prov {\n",
       "\tmargin: 40px;\n",
       "\tpadding: 20px;\n",
       "\tborder: 2px solid var(--fog-rim);\n",
       "}\n",
       "div.pline {\n",
       "\tdisplay: flex;\n",
       "\tflex-flow: row nowrap;\n",
       "\tjustify-content: stretch;\n",
       "\talign-items: baseline;\n",
       "}\n",
       "div.p2line {\n",
       "\tmargin-left: 2em;\n",
       "\tdisplay: flex;\n",
       "\tflex-flow: row nowrap;\n",
       "\tjustify-content: stretch;\n",
       "\talign-items: baseline;\n",
       "}\n",
       "div.psline {\n",
       "\tdisplay: flex;\n",
       "\tflex-flow: row nowrap;\n",
       "\tjustify-content: stretch;\n",
       "\talign-items: baseline;\n",
       "\tbackground-color: var(--gold-mist-back);\n",
       "}\n",
       "div.pname {\n",
       "\tflex: 0 0 5rem;\n",
       "\tfont-weight: bold;\n",
       "}\n",
       "div.pval {\n",
       "    flex: 1 1 auto;\n",
       "}\n",
       "\n",
       "/* KEYBOARD */\n",
       ".ccoff {\n",
       "  background-color: inherit;\n",
       "}\n",
       ".ccon {\n",
       "  background-color: yellow ! important;\n",
       "}\n",
       ".ccon,.ccoff {\n",
       "  padding: 0.2rem;\n",
       "  margin: 0.2rem;\n",
       "  border: 0.1rem solid var(--letter-box-border);\n",
       "  border-radius: 0.1rem;\n",
       "}\n",
       ".ccline {\n",
       "  font-size: xx-large ! important;\n",
       "  font-weight: bold;\n",
       "  line-height: 2em ! important;\n",
       "}\n",
       "/* TF header */\n",
       "\n",
       "summary {\n",
       "  /* needed to override the normalize.less\n",
       "   * in the classical Jupyter Notebook\n",
       "   */\n",
       "  display: list-item ! important;\n",
       "}\n",
       "\n",
       ".fcorpus {\n",
       "  display: flex;\n",
       "  flex-flow: column nowrap;\n",
       "  justify-content: flex-start;\n",
       "  align-items: flex-start;\n",
       "  align-content: flex-start;\n",
       "  overflow: auto;\n",
       "}\n",
       ".frow {\n",
       "  display: flex;\n",
       "  flex-flow: row nowrap;\n",
       "  justify-content: flex-start;\n",
       "  align-items: flex-start;\n",
       "  align-content: flex-start;\n",
       "}\n",
       ".fmeta {\n",
       "  display: flex;\n",
       "  flex-flow: column nowrap;\n",
       "  justify-content: flex-start;\n",
       "  align-items: flex-start;\n",
       "  align-content: flex-start;\n",
       "}\n",
       ".fmetarow {\n",
       "  display: flex;\n",
       "  flex-flow: row nowrap;\n",
       "  justify-content: flex-start;\n",
       "  align-items: flex-start;\n",
       "  align-content: flex-start;\n",
       "}\n",
       ".fmetakey {\n",
       "  min-width: 8em;\n",
       "  font-family: monospace;\n",
       "}\n",
       ".fnamecat {\n",
       "  min-width: 8em;\n",
       "}\n",
       ".fnamecat.edge {\n",
       "  font-weight: bold;\n",
       "  font-style: italic;\n",
       "}\n",
       ".fmono {\n",
       "    font-family: monospace;\n",
       "}\n",
       "\n",
       ":root {\n",
       "\t--node:               hsla(120, 100%,  20%, 1.0  );\n",
       "\t--label:              hsla(  0, 100%,  20%, 1.0  );\n",
       "\t--tfsechead:          hsla(  0, 100%,  25%, 1.0  );\n",
       "\t--structure:          hsla(120, 100%,  25%, 1.0  );\n",
       "\t--features:           hsla(  0,   0%,  30%, 1.0  );\n",
       "  --text-color:         hsla( 60,  80%,  10%, 1.0  );\n",
       "  --lex-color:          hsla(220,  90%,  60%, 1.0  );\n",
       "  --meta-color:         hsla(  0,   0%,  90%, 0.7  );\n",
       "  --meta-width:         3px;\n",
       "  --border-color-nul:   hsla(  0,   0%,  90%, 0.5  );\n",
       "  --border-color0:      hsla(  0,   0%,  90%, 0.9  );\n",
       "  --border-color1:      hsla(  0,   0%,  80%, 0.9  );\n",
       "  --border-color2:      hsla(  0,   0%,  70%, 0.9  );\n",
       "  --border-color3:      hsla(  0,   0%,  80%, 0.8  );\n",
       "  --border-color4:      hsla(  0,   0%,  60%, 0.9  );\n",
       "\t--letter-box-border:  hsla(  0,   0%,  80%, 0.5  );\n",
       "  --border-width-nul:   2px;\n",
       "  --border-width0:      2px;\n",
       "  --border-width1:      3px;\n",
       "  --border-width2:      4px;\n",
       "  --border-width3:      6px;\n",
       "  --border-width4:      5px;\n",
       "  --border-width-plain: 2px;\n",
       "}\n",
       ".hl {\n",
       "  background-color: var(--hl-strong);\n",
       "}\n",
       "span.hl {\n",
       "\tbackground-color: var(--hl-strong);\n",
       "\tborder-width: 0;\n",
       "\tborder-radius: 2px;\n",
       "\tborder-style: solid;\n",
       "}\n",
       "div.contnr.hl,div.lbl.hl {\n",
       "  background-color: var(--hl-strong);\n",
       "}\n",
       "div.contnr.hl {\n",
       "  border-color: var(--hl-rim) ! important;\n",
       "\tborder-width: 4px ! important;\n",
       "}\n",
       "\n",
       "span.hlbx {\n",
       "\tborder-color: var(--hl-rim);\n",
       "\tborder-width: 4px ! important;\n",
       "\tborder-style: solid;\n",
       "\tborder-radius: 6px;\n",
       "  padding: 4px;\n",
       "  margin: 4px;\n",
       "}\n",
       ".ehl {\n",
       "  background-color: var(--ehl-strong);\n",
       "}\n",
       "\n",
       ":root {\n",
       "\t--hl-strong:        hsla( 60, 100%,  70%, 0.9  );\n",
       "\t--hl-rim:           hsla( 55,  80%,  50%, 1.0  );\n",
       "\t--ehl-strong:       hsla(240, 100%,  70%, 0.9  );\n",
       "}\n",
       "</style>"
      ],
      "text/plain": [
       "<IPython.core.display.HTML object>"
      ]
     },
     "metadata": {},
     "output_type": "display_data"
    },
    {
     "data": {
      "text/html": [
       "\n",
       "<script>\n",
       "globalThis.copyChar = (el, c) => {\n",
       "    for (const el of document.getElementsByClassName('ccon')) {\n",
       "        el.className = 'ccoff'\n",
       "    }\n",
       "    el.className = 'ccon'\n",
       "    navigator.clipboard.writeText(String.fromCharCode(c))\n",
       "}\n",
       "</script>\n"
      ],
      "text/plain": [
       "<IPython.core.display.HTML object>"
      ]
     },
     "metadata": {},
     "output_type": "display_data"
    },
    {
     "data": {
      "text/html": [
       "<div><b>TF API:</b> names <a target=\"_blank\" href=\"https://annotation.github.io/text-fabric/tf/cheatsheet.html\" title=\"doc\">N F E L T S C TF Fs Fall Es Eall Cs Call</a> directly usable</div><hr>"
      ],
      "text/plain": [
       "<IPython.core.display.HTML object>"
      ]
     },
     "metadata": {},
     "output_type": "display_data"
    }
   ],
   "source": [
    "# load the app and data\n",
    "BHSA = use (\"etcbc/BHSA\", mod=\"tonyjurg/BHSaddons/tf/\", hoist=globals())"
   ]
  },
  {
   "cell_type": "markdown",
   "id": "bd939a75-8253-4119-b64d-3d5c403ed096",
   "metadata": {},
   "source": [
    "# 3 - Performing the queries <a class=\"anchor\" id=\"bullet3\"></a>\n",
    "##### [Back to ToC](#TOC)\n",
    "\n",
    "The main engine of our queries is the use of Text-Fabric feature `crossref`, part of `Parallel Passages` module. See also [this notebook](https://nbviewer.org/github/etcbc/parallels/blob/master/programs/parallels.ipynb) explaing the concepts and how this feature was created."
   ]
  },
  {
   "cell_type": "markdown",
   "id": "98d90b55-8aed-4691-8a7d-e110c48d4857",
   "metadata": {},
   "source": [
    "## 3.1 Locate the parallels <a class=\"anchor\" id=\"bullet3x1\"></a>"
   ]
  },
  {
   "cell_type": "code",
   "execution_count": 4,
   "id": "9f2d4e15-43e8-4ab6-946b-52e2178e0f21",
   "metadata": {},
   "outputs": [
    {
     "name": "stdout",
     "output_type": "stream",
     "text": [
      "  0.01s 146 results\n"
     ]
    }
   ],
   "source": [
    "# find all verse nodes for this parasha using its sequence number\n",
    "parashaQuery = '''\n",
    "verse parashanum=1\n",
    "'''\n",
    "parashaResults = BHSA.search(parashaQuery)"
   ]
  },
  {
   "cell_type": "code",
   "execution_count": 5,
   "id": "c26a2bf5-bb27-4bed-a562-3c786bd3835a",
   "metadata": {},
   "outputs": [],
   "source": [
    "# Store parashname, start and end verse for future use\n",
    "startNode=parashaResults[0][0]\n",
    "endNode=parashaResults[-1][0]\n",
    "parashaNameHebrew=F.parashahebr.v(startNode)\n",
    "parashaNameEnglish=F.parashatrans.v(startNode)\n",
    "bookStart,chapterStart,startVerse=T.sectionFromNode(startNode)\n",
    "parashaStart=f'{bookStart} {chapterStart}:{startVerse}'\n",
    "bookEnd,chapterEnd,startEnd=T.sectionFromNode(endNode)\n",
    "parashaEnd=f'{chapterEnd}:{startEnd}'"
   ]
  },
  {
   "cell_type": "code",
   "execution_count": 6,
   "id": "6b3e6e9d-fc2a-43a7-8ea9-a376f65dc2ac",
   "metadata": {},
   "outputs": [
    {
     "data": {
      "text/markdown": [
       "### Lexical parallels for parasha Bereshit (Genesis 1:1-6:8)"
      ],
      "text/plain": [
       "<IPython.core.display.Markdown object>"
      ]
     },
     "metadata": {},
     "output_type": "display_data"
    },
    {
     "data": {
      "text/markdown": [],
      "text/plain": [
       "<IPython.core.display.Markdown object>"
      ]
     },
     "metadata": {},
     "output_type": "display_data"
    },
    {
     "data": {
      "text/markdown": [],
      "text/plain": [
       "<IPython.core.display.Markdown object>"
      ]
     },
     "metadata": {},
     "output_type": "display_data"
    },
    {
     "data": {
      "text/markdown": [],
      "text/plain": [
       "<IPython.core.display.Markdown object>"
      ]
     },
     "metadata": {},
     "output_type": "display_data"
    },
    {
     "data": {
      "text/markdown": [],
      "text/plain": [
       "<IPython.core.display.Markdown object>"
      ]
     },
     "metadata": {},
     "output_type": "display_data"
    },
    {
     "data": {
      "text/markdown": [],
      "text/plain": [
       "<IPython.core.display.Markdown object>"
      ]
     },
     "metadata": {},
     "output_type": "display_data"
    },
    {
     "data": {
      "text/markdown": [],
      "text/plain": [
       "<IPython.core.display.Markdown object>"
      ]
     },
     "metadata": {},
     "output_type": "display_data"
    },
    {
     "data": {
      "text/markdown": [],
      "text/plain": [
       "<IPython.core.display.Markdown object>"
      ]
     },
     "metadata": {},
     "output_type": "display_data"
    },
    {
     "data": {
      "text/markdown": [],
      "text/plain": [
       "<IPython.core.display.Markdown object>"
      ]
     },
     "metadata": {},
     "output_type": "display_data"
    },
    {
     "data": {
      "text/markdown": [],
      "text/plain": [
       "<IPython.core.display.Markdown object>"
      ]
     },
     "metadata": {},
     "output_type": "display_data"
    },
    {
     "data": {
      "text/markdown": [],
      "text/plain": [
       "<IPython.core.display.Markdown object>"
      ]
     },
     "metadata": {},
     "output_type": "display_data"
    },
    {
     "data": {
      "text/markdown": [],
      "text/plain": [
       "<IPython.core.display.Markdown object>"
      ]
     },
     "metadata": {},
     "output_type": "display_data"
    },
    {
     "data": {
      "text/markdown": [],
      "text/plain": [
       "<IPython.core.display.Markdown object>"
      ]
     },
     "metadata": {},
     "output_type": "display_data"
    },
    {
     "data": {
      "text/markdown": [
       "#### Cross-references for <a href=\"https://www.stepbible.org/?q=version=NASB2020%7Creference=Genesis.1:13&options=HNVUG\" target=\"_blank\">Genesis 1:13</a>\n",
       " ##### וַֽיְהִי־עֶ֥רֶב וַֽיְהִי־בֹ֖קֶר יֹ֥ום שְׁלִישִֽׁי׃ פ \n",
       "| Reference | Match | Text |\n",
       "| --- | --- | --- |\n",
       "| <a href=\"https://www.stepbible.org/?q=version=NASB2020%7Creference=Genesis.1:19&options=HNVUG\" target=\"_blank\">Genesis 1:19</a> | 84% | <mark>וַֽיְהִי־עֶ֥רֶב וַֽיְהִי־בֹ֖קֶר יֹ֥ום </mark>ר<mark>ְ</mark>ב<mark>ִי</mark>ע<mark>ִֽי׃ פ </mark> |\n",
       "| <a href=\"https://www.stepbible.org/?q=version=NASB2020%7Creference=Genesis.1:23&options=HNVUG\" target=\"_blank\">Genesis 1:23</a> | 89% | <mark>וַֽיְהִי־עֶ֥רֶב וַֽיְהִי־בֹ֖קֶר יֹ֥ום </mark>חֲמ<mark>ִישִֽׁי׃ פ </mark> |\n"
      ],
      "text/plain": [
       "<IPython.core.display.Markdown object>"
      ]
     },
     "metadata": {},
     "output_type": "display_data"
    },
    {
     "data": {
      "text/markdown": [],
      "text/plain": [
       "<IPython.core.display.Markdown object>"
      ]
     },
     "metadata": {},
     "output_type": "display_data"
    },
    {
     "data": {
      "text/markdown": [
       "#### Cross-references for <a href=\"https://www.stepbible.org/?q=version=NASB2020%7Creference=Genesis.1:15&options=HNVUG\" target=\"_blank\">Genesis 1:15</a>\n",
       " ##### וְהָי֤וּ לִמְאֹורֹת֙ בִּרְקִ֣יעַ הַשָּׁמַ֔יִם לְהָאִ֖יר עַל־הָאָ֑רֶץ וַֽיְהִי־כֵֽן׃ \n",
       "| Reference | Match | Text |\n",
       "| --- | --- | --- |\n",
       "| <a href=\"https://www.stepbible.org/?q=version=NASB2020%7Creference=Genesis.1:17&options=HNVUG\" target=\"_blank\">Genesis 1:17</a> | 77% | <mark>ו</mark>ַ<mark>י</mark><mark>ּ</mark>ִתֵּ֥ן<mark> </mark><mark>אֹ</mark>תָ֛ם אֱל<mark>ֹ</mark>הִ֖ים<mark> בִּרְקִ֣יעַ הַשָּׁמ</mark>ָ֑<mark>יִם לְהָאִ֖יר עַל־הָאָ</mark>ֽ<mark>רֶץ</mark><mark>׃ </mark> |\n"
      ],
      "text/plain": [
       "<IPython.core.display.Markdown object>"
      ]
     },
     "metadata": {},
     "output_type": "display_data"
    },
    {
     "data": {
      "text/markdown": [],
      "text/plain": [
       "<IPython.core.display.Markdown object>"
      ]
     },
     "metadata": {},
     "output_type": "display_data"
    },
    {
     "data": {
      "text/markdown": [
       "#### Cross-references for <a href=\"https://www.stepbible.org/?q=version=NASB2020%7Creference=Genesis.1:17&options=HNVUG\" target=\"_blank\">Genesis 1:17</a>\n",
       " ##### וַיִּתֵּ֥ן אֹתָ֛ם אֱלֹהִ֖ים בִּרְקִ֣יעַ הַשָּׁמָ֑יִם לְהָאִ֖יר עַל־הָאָֽרֶץ׃ \n",
       "| Reference | Match | Text |\n",
       "| --- | --- | --- |\n",
       "| <a href=\"https://www.stepbible.org/?q=version=NASB2020%7Creference=Genesis.1:15&options=HNVUG\" target=\"_blank\">Genesis 1:15</a> | 77% | <mark>ו</mark>ְהָ<mark>י</mark>֤ו<mark>ּ</mark> ל<mark>ִ</mark>מְ<mark>אֹ</mark>ורֹ<mark>ת</mark>֙<mark> בִּרְקִ֣יעַ הַשָּׁמ</mark>ַ֔<mark>יִם לְהָאִ֖יר עַל־הָאָ</mark>֑<mark>רֶץ</mark> וַֽיְהִי־כֵֽן<mark>׃ </mark> |\n"
      ],
      "text/plain": [
       "<IPython.core.display.Markdown object>"
      ]
     },
     "metadata": {},
     "output_type": "display_data"
    },
    {
     "data": {
      "text/markdown": [],
      "text/plain": [
       "<IPython.core.display.Markdown object>"
      ]
     },
     "metadata": {},
     "output_type": "display_data"
    },
    {
     "data": {
      "text/markdown": [
       "#### Cross-references for <a href=\"https://www.stepbible.org/?q=version=NASB2020%7Creference=Genesis.1:19&options=HNVUG\" target=\"_blank\">Genesis 1:19</a>\n",
       " ##### וַֽיְהִי־עֶ֥רֶב וַֽיְהִי־בֹ֖קֶר יֹ֥ום רְבִיעִֽי׃ פ \n",
       "| Reference | Match | Text |\n",
       "| --- | --- | --- |\n",
       "| <a href=\"https://www.stepbible.org/?q=version=NASB2020%7Creference=Genesis.1:13&options=HNVUG\" target=\"_blank\">Genesis 1:13</a> | 84% | <mark>וַֽיְהִי־עֶ֥רֶב וַֽיְהִי־בֹ֖קֶר יֹ֥ום </mark>שׁ<mark>ְ</mark>ל<mark>ִי</mark>שׁ<mark>ִֽי׃ פ </mark> |\n",
       "| <a href=\"https://www.stepbible.org/?q=version=NASB2020%7Creference=Genesis.1:23&options=HNVUG\" target=\"_blank\">Genesis 1:23</a> | 84% | <mark>וַֽיְהִי־עֶ֥רֶב וַֽיְהִי־בֹ֖קֶר יֹ֥ום </mark>חֲמ<mark>ִי</mark>שׁ<mark>ִֽי׃ פ </mark> |\n"
      ],
      "text/plain": [
       "<IPython.core.display.Markdown object>"
      ]
     },
     "metadata": {},
     "output_type": "display_data"
    },
    {
     "data": {
      "text/markdown": [],
      "text/plain": [
       "<IPython.core.display.Markdown object>"
      ]
     },
     "metadata": {},
     "output_type": "display_data"
    },
    {
     "data": {
      "text/markdown": [],
      "text/plain": [
       "<IPython.core.display.Markdown object>"
      ]
     },
     "metadata": {},
     "output_type": "display_data"
    },
    {
     "data": {
      "text/markdown": [],
      "text/plain": [
       "<IPython.core.display.Markdown object>"
      ]
     },
     "metadata": {},
     "output_type": "display_data"
    },
    {
     "data": {
      "text/markdown": [
       "#### Cross-references for <a href=\"https://www.stepbible.org/?q=version=NASB2020%7Creference=Genesis.1:23&options=HNVUG\" target=\"_blank\">Genesis 1:23</a>\n",
       " ##### וַֽיְהִי־עֶ֥רֶב וַֽיְהִי־בֹ֖קֶר יֹ֥ום חֲמִישִֽׁי׃ פ \n",
       "| Reference | Match | Text |\n",
       "| --- | --- | --- |\n",
       "| <a href=\"https://www.stepbible.org/?q=version=NASB2020%7Creference=Genesis.1:13&options=HNVUG\" target=\"_blank\">Genesis 1:13</a> | 89% | <mark>וַֽיְהִי־עֶ֥רֶב וַֽיְהִי־בֹ֖קֶר יֹ֥ום </mark>שְׁל<mark>ִישִֽׁי׃ פ </mark> |\n",
       "| <a href=\"https://www.stepbible.org/?q=version=NASB2020%7Creference=Genesis.1:19&options=HNVUG\" target=\"_blank\">Genesis 1:19</a> | 84% | <mark>וַֽיְהִי־עֶ֥רֶב וַֽיְהִי־בֹ֖קֶר יֹ֥ום </mark>רְב<mark>ִי</mark>ע<mark>ִֽי׃ פ </mark> |\n"
      ],
      "text/plain": [
       "<IPython.core.display.Markdown object>"
      ]
     },
     "metadata": {},
     "output_type": "display_data"
    },
    {
     "data": {
      "text/markdown": [],
      "text/plain": [
       "<IPython.core.display.Markdown object>"
      ]
     },
     "metadata": {},
     "output_type": "display_data"
    },
    {
     "data": {
      "text/markdown": [],
      "text/plain": [
       "<IPython.core.display.Markdown object>"
      ]
     },
     "metadata": {},
     "output_type": "display_data"
    },
    {
     "data": {
      "text/markdown": [],
      "text/plain": [
       "<IPython.core.display.Markdown object>"
      ]
     },
     "metadata": {},
     "output_type": "display_data"
    },
    {
     "data": {
      "text/markdown": [],
      "text/plain": [
       "<IPython.core.display.Markdown object>"
      ]
     },
     "metadata": {},
     "output_type": "display_data"
    },
    {
     "data": {
      "text/markdown": [],
      "text/plain": [
       "<IPython.core.display.Markdown object>"
      ]
     },
     "metadata": {},
     "output_type": "display_data"
    },
    {
     "data": {
      "text/markdown": [],
      "text/plain": [
       "<IPython.core.display.Markdown object>"
      ]
     },
     "metadata": {},
     "output_type": "display_data"
    },
    {
     "data": {
      "text/markdown": [],
      "text/plain": [
       "<IPython.core.display.Markdown object>"
      ]
     },
     "metadata": {},
     "output_type": "display_data"
    },
    {
     "data": {
      "text/markdown": [],
      "text/plain": [
       "<IPython.core.display.Markdown object>"
      ]
     },
     "metadata": {},
     "output_type": "display_data"
    },
    {
     "data": {
      "text/markdown": [],
      "text/plain": [
       "<IPython.core.display.Markdown object>"
      ]
     },
     "metadata": {},
     "output_type": "display_data"
    },
    {
     "data": {
      "text/markdown": [],
      "text/plain": [
       "<IPython.core.display.Markdown object>"
      ]
     },
     "metadata": {},
     "output_type": "display_data"
    },
    {
     "data": {
      "text/markdown": [],
      "text/plain": [
       "<IPython.core.display.Markdown object>"
      ]
     },
     "metadata": {},
     "output_type": "display_data"
    },
    {
     "data": {
      "text/markdown": [],
      "text/plain": [
       "<IPython.core.display.Markdown object>"
      ]
     },
     "metadata": {},
     "output_type": "display_data"
    },
    {
     "data": {
      "text/markdown": [],
      "text/plain": [
       "<IPython.core.display.Markdown object>"
      ]
     },
     "metadata": {},
     "output_type": "display_data"
    },
    {
     "data": {
      "text/markdown": [],
      "text/plain": [
       "<IPython.core.display.Markdown object>"
      ]
     },
     "metadata": {},
     "output_type": "display_data"
    },
    {
     "data": {
      "text/markdown": [],
      "text/plain": [
       "<IPython.core.display.Markdown object>"
      ]
     },
     "metadata": {},
     "output_type": "display_data"
    },
    {
     "data": {
      "text/markdown": [],
      "text/plain": [
       "<IPython.core.display.Markdown object>"
      ]
     },
     "metadata": {},
     "output_type": "display_data"
    },
    {
     "data": {
      "text/markdown": [],
      "text/plain": [
       "<IPython.core.display.Markdown object>"
      ]
     },
     "metadata": {},
     "output_type": "display_data"
    },
    {
     "data": {
      "text/markdown": [],
      "text/plain": [
       "<IPython.core.display.Markdown object>"
      ]
     },
     "metadata": {},
     "output_type": "display_data"
    },
    {
     "data": {
      "text/markdown": [],
      "text/plain": [
       "<IPython.core.display.Markdown object>"
      ]
     },
     "metadata": {},
     "output_type": "display_data"
    },
    {
     "data": {
      "text/markdown": [],
      "text/plain": [
       "<IPython.core.display.Markdown object>"
      ]
     },
     "metadata": {},
     "output_type": "display_data"
    },
    {
     "data": {
      "text/markdown": [],
      "text/plain": [
       "<IPython.core.display.Markdown object>"
      ]
     },
     "metadata": {},
     "output_type": "display_data"
    },
    {
     "data": {
      "text/markdown": [],
      "text/plain": [
       "<IPython.core.display.Markdown object>"
      ]
     },
     "metadata": {},
     "output_type": "display_data"
    },
    {
     "data": {
      "text/markdown": [],
      "text/plain": [
       "<IPython.core.display.Markdown object>"
      ]
     },
     "metadata": {},
     "output_type": "display_data"
    },
    {
     "data": {
      "text/markdown": [],
      "text/plain": [
       "<IPython.core.display.Markdown object>"
      ]
     },
     "metadata": {},
     "output_type": "display_data"
    },
    {
     "data": {
      "text/markdown": [],
      "text/plain": [
       "<IPython.core.display.Markdown object>"
      ]
     },
     "metadata": {},
     "output_type": "display_data"
    },
    {
     "data": {
      "text/markdown": [],
      "text/plain": [
       "<IPython.core.display.Markdown object>"
      ]
     },
     "metadata": {},
     "output_type": "display_data"
    },
    {
     "data": {
      "text/markdown": [],
      "text/plain": [
       "<IPython.core.display.Markdown object>"
      ]
     },
     "metadata": {},
     "output_type": "display_data"
    },
    {
     "data": {
      "text/markdown": [],
      "text/plain": [
       "<IPython.core.display.Markdown object>"
      ]
     },
     "metadata": {},
     "output_type": "display_data"
    },
    {
     "data": {
      "text/markdown": [],
      "text/plain": [
       "<IPython.core.display.Markdown object>"
      ]
     },
     "metadata": {},
     "output_type": "display_data"
    },
    {
     "data": {
      "text/markdown": [],
      "text/plain": [
       "<IPython.core.display.Markdown object>"
      ]
     },
     "metadata": {},
     "output_type": "display_data"
    },
    {
     "data": {
      "text/markdown": [],
      "text/plain": [
       "<IPython.core.display.Markdown object>"
      ]
     },
     "metadata": {},
     "output_type": "display_data"
    },
    {
     "data": {
      "text/markdown": [],
      "text/plain": [
       "<IPython.core.display.Markdown object>"
      ]
     },
     "metadata": {},
     "output_type": "display_data"
    },
    {
     "data": {
      "text/markdown": [],
      "text/plain": [
       "<IPython.core.display.Markdown object>"
      ]
     },
     "metadata": {},
     "output_type": "display_data"
    },
    {
     "data": {
      "text/markdown": [],
      "text/plain": [
       "<IPython.core.display.Markdown object>"
      ]
     },
     "metadata": {},
     "output_type": "display_data"
    },
    {
     "data": {
      "text/markdown": [],
      "text/plain": [
       "<IPython.core.display.Markdown object>"
      ]
     },
     "metadata": {},
     "output_type": "display_data"
    },
    {
     "data": {
      "text/markdown": [],
      "text/plain": [
       "<IPython.core.display.Markdown object>"
      ]
     },
     "metadata": {},
     "output_type": "display_data"
    },
    {
     "data": {
      "text/markdown": [],
      "text/plain": [
       "<IPython.core.display.Markdown object>"
      ]
     },
     "metadata": {},
     "output_type": "display_data"
    },
    {
     "data": {
      "text/markdown": [],
      "text/plain": [
       "<IPython.core.display.Markdown object>"
      ]
     },
     "metadata": {},
     "output_type": "display_data"
    },
    {
     "data": {
      "text/markdown": [],
      "text/plain": [
       "<IPython.core.display.Markdown object>"
      ]
     },
     "metadata": {},
     "output_type": "display_data"
    },
    {
     "data": {
      "text/markdown": [],
      "text/plain": [
       "<IPython.core.display.Markdown object>"
      ]
     },
     "metadata": {},
     "output_type": "display_data"
    },
    {
     "data": {
      "text/markdown": [],
      "text/plain": [
       "<IPython.core.display.Markdown object>"
      ]
     },
     "metadata": {},
     "output_type": "display_data"
    },
    {
     "data": {
      "text/markdown": [],
      "text/plain": [
       "<IPython.core.display.Markdown object>"
      ]
     },
     "metadata": {},
     "output_type": "display_data"
    },
    {
     "data": {
      "text/markdown": [],
      "text/plain": [
       "<IPython.core.display.Markdown object>"
      ]
     },
     "metadata": {},
     "output_type": "display_data"
    },
    {
     "data": {
      "text/markdown": [],
      "text/plain": [
       "<IPython.core.display.Markdown object>"
      ]
     },
     "metadata": {},
     "output_type": "display_data"
    },
    {
     "data": {
      "text/markdown": [],
      "text/plain": [
       "<IPython.core.display.Markdown object>"
      ]
     },
     "metadata": {},
     "output_type": "display_data"
    },
    {
     "data": {
      "text/markdown": [],
      "text/plain": [
       "<IPython.core.display.Markdown object>"
      ]
     },
     "metadata": {},
     "output_type": "display_data"
    },
    {
     "data": {
      "text/markdown": [],
      "text/plain": [
       "<IPython.core.display.Markdown object>"
      ]
     },
     "metadata": {},
     "output_type": "display_data"
    },
    {
     "data": {
      "text/markdown": [],
      "text/plain": [
       "<IPython.core.display.Markdown object>"
      ]
     },
     "metadata": {},
     "output_type": "display_data"
    },
    {
     "data": {
      "text/markdown": [],
      "text/plain": [
       "<IPython.core.display.Markdown object>"
      ]
     },
     "metadata": {},
     "output_type": "display_data"
    },
    {
     "data": {
      "text/markdown": [],
      "text/plain": [
       "<IPython.core.display.Markdown object>"
      ]
     },
     "metadata": {},
     "output_type": "display_data"
    },
    {
     "data": {
      "text/markdown": [],
      "text/plain": [
       "<IPython.core.display.Markdown object>"
      ]
     },
     "metadata": {},
     "output_type": "display_data"
    },
    {
     "data": {
      "text/markdown": [],
      "text/plain": [
       "<IPython.core.display.Markdown object>"
      ]
     },
     "metadata": {},
     "output_type": "display_data"
    },
    {
     "data": {
      "text/markdown": [],
      "text/plain": [
       "<IPython.core.display.Markdown object>"
      ]
     },
     "metadata": {},
     "output_type": "display_data"
    },
    {
     "data": {
      "text/markdown": [],
      "text/plain": [
       "<IPython.core.display.Markdown object>"
      ]
     },
     "metadata": {},
     "output_type": "display_data"
    },
    {
     "data": {
      "text/markdown": [],
      "text/plain": [
       "<IPython.core.display.Markdown object>"
      ]
     },
     "metadata": {},
     "output_type": "display_data"
    },
    {
     "data": {
      "text/markdown": [],
      "text/plain": [
       "<IPython.core.display.Markdown object>"
      ]
     },
     "metadata": {},
     "output_type": "display_data"
    },
    {
     "data": {
      "text/markdown": [],
      "text/plain": [
       "<IPython.core.display.Markdown object>"
      ]
     },
     "metadata": {},
     "output_type": "display_data"
    },
    {
     "data": {
      "text/markdown": [],
      "text/plain": [
       "<IPython.core.display.Markdown object>"
      ]
     },
     "metadata": {},
     "output_type": "display_data"
    },
    {
     "data": {
      "text/markdown": [],
      "text/plain": [
       "<IPython.core.display.Markdown object>"
      ]
     },
     "metadata": {},
     "output_type": "display_data"
    },
    {
     "data": {
      "text/markdown": [],
      "text/plain": [
       "<IPython.core.display.Markdown object>"
      ]
     },
     "metadata": {},
     "output_type": "display_data"
    },
    {
     "data": {
      "text/markdown": [],
      "text/plain": [
       "<IPython.core.display.Markdown object>"
      ]
     },
     "metadata": {},
     "output_type": "display_data"
    },
    {
     "data": {
      "text/markdown": [],
      "text/plain": [
       "<IPython.core.display.Markdown object>"
      ]
     },
     "metadata": {},
     "output_type": "display_data"
    },
    {
     "data": {
      "text/markdown": [],
      "text/plain": [
       "<IPython.core.display.Markdown object>"
      ]
     },
     "metadata": {},
     "output_type": "display_data"
    },
    {
     "data": {
      "text/markdown": [],
      "text/plain": [
       "<IPython.core.display.Markdown object>"
      ]
     },
     "metadata": {},
     "output_type": "display_data"
    },
    {
     "data": {
      "text/markdown": [],
      "text/plain": [
       "<IPython.core.display.Markdown object>"
      ]
     },
     "metadata": {},
     "output_type": "display_data"
    },
    {
     "data": {
      "text/markdown": [],
      "text/plain": [
       "<IPython.core.display.Markdown object>"
      ]
     },
     "metadata": {},
     "output_type": "display_data"
    },
    {
     "data": {
      "text/markdown": [],
      "text/plain": [
       "<IPython.core.display.Markdown object>"
      ]
     },
     "metadata": {},
     "output_type": "display_data"
    },
    {
     "data": {
      "text/markdown": [],
      "text/plain": [
       "<IPython.core.display.Markdown object>"
      ]
     },
     "metadata": {},
     "output_type": "display_data"
    },
    {
     "data": {
      "text/markdown": [],
      "text/plain": [
       "<IPython.core.display.Markdown object>"
      ]
     },
     "metadata": {},
     "output_type": "display_data"
    },
    {
     "data": {
      "text/markdown": [],
      "text/plain": [
       "<IPython.core.display.Markdown object>"
      ]
     },
     "metadata": {},
     "output_type": "display_data"
    },
    {
     "data": {
      "text/markdown": [],
      "text/plain": [
       "<IPython.core.display.Markdown object>"
      ]
     },
     "metadata": {},
     "output_type": "display_data"
    },
    {
     "data": {
      "text/markdown": [],
      "text/plain": [
       "<IPython.core.display.Markdown object>"
      ]
     },
     "metadata": {},
     "output_type": "display_data"
    },
    {
     "data": {
      "text/markdown": [],
      "text/plain": [
       "<IPython.core.display.Markdown object>"
      ]
     },
     "metadata": {},
     "output_type": "display_data"
    },
    {
     "data": {
      "text/markdown": [],
      "text/plain": [
       "<IPython.core.display.Markdown object>"
      ]
     },
     "metadata": {},
     "output_type": "display_data"
    },
    {
     "data": {
      "text/markdown": [],
      "text/plain": [
       "<IPython.core.display.Markdown object>"
      ]
     },
     "metadata": {},
     "output_type": "display_data"
    },
    {
     "data": {
      "text/markdown": [],
      "text/plain": [
       "<IPython.core.display.Markdown object>"
      ]
     },
     "metadata": {},
     "output_type": "display_data"
    },
    {
     "data": {
      "text/markdown": [],
      "text/plain": [
       "<IPython.core.display.Markdown object>"
      ]
     },
     "metadata": {},
     "output_type": "display_data"
    },
    {
     "data": {
      "text/markdown": [],
      "text/plain": [
       "<IPython.core.display.Markdown object>"
      ]
     },
     "metadata": {},
     "output_type": "display_data"
    },
    {
     "data": {
      "text/markdown": [],
      "text/plain": [
       "<IPython.core.display.Markdown object>"
      ]
     },
     "metadata": {},
     "output_type": "display_data"
    },
    {
     "data": {
      "text/markdown": [],
      "text/plain": [
       "<IPython.core.display.Markdown object>"
      ]
     },
     "metadata": {},
     "output_type": "display_data"
    },
    {
     "data": {
      "text/markdown": [],
      "text/plain": [
       "<IPython.core.display.Markdown object>"
      ]
     },
     "metadata": {},
     "output_type": "display_data"
    },
    {
     "data": {
      "text/markdown": [],
      "text/plain": [
       "<IPython.core.display.Markdown object>"
      ]
     },
     "metadata": {},
     "output_type": "display_data"
    },
    {
     "data": {
      "text/markdown": [],
      "text/plain": [
       "<IPython.core.display.Markdown object>"
      ]
     },
     "metadata": {},
     "output_type": "display_data"
    },
    {
     "data": {
      "text/markdown": [],
      "text/plain": [
       "<IPython.core.display.Markdown object>"
      ]
     },
     "metadata": {},
     "output_type": "display_data"
    },
    {
     "data": {
      "text/markdown": [],
      "text/plain": [
       "<IPython.core.display.Markdown object>"
      ]
     },
     "metadata": {},
     "output_type": "display_data"
    },
    {
     "data": {
      "text/markdown": [],
      "text/plain": [
       "<IPython.core.display.Markdown object>"
      ]
     },
     "metadata": {},
     "output_type": "display_data"
    },
    {
     "data": {
      "text/markdown": [
       "#### Cross-references for <a href=\"https://www.stepbible.org/?q=version=NASB2020%7Creference=Genesis.5:4&options=HNVUG\" target=\"_blank\">Genesis 5:4</a>\n",
       " ##### וַיִּֽהְי֣וּ יְמֵי־אָדָ֗ם אַֽחֲרֵי֙ הֹולִידֹ֣ו אֶת־שֵׁ֔ת שְׁמֹנֶ֥ה מֵאֹ֖ת שָׁנָ֑ה וַיֹּ֥ולֶד בָּנִ֖ים וּבָנֹֽות׃ \n",
       "| Reference | Match | Text |\n",
       "| --- | --- | --- |\n",
       "| <a href=\"https://www.stepbible.org/?q=version=NASB2020%7Creference=Genesis.5:7&options=HNVUG\" target=\"_blank\">Genesis 5:7</a> | 79% | <mark>וַ</mark><mark>ֽ</mark><mark>יְ</mark>חִ<mark>י־</mark>שֵׁ<mark>֗</mark>ת<mark> אַֽחֲרֵי֙ הֹולִידֹ֣ו אֶת־</mark>אֱנֹ֔ו<mark>שׁ</mark> שֶׁ֣בַע שָׁנִ<mark>֔</mark>ים<mark> </mark>וּ<mark>שְׁמֹנֶ֥ה מֵאֹ֖</mark>ו<mark>ת שָׁנָ֑ה וַיֹּ֥ולֶד בָּנִ֖ים וּבָנֹֽות׃ </mark> |\n",
       "| <a href=\"https://www.stepbible.org/?q=version=NASB2020%7Creference=Genesis.5:13&options=HNVUG\" target=\"_blank\">Genesis 5:13</a> | 75% | <mark>וַי</mark>ְח<mark>ִ</mark>֣<mark>י</mark><mark> </mark>ק<mark>ֵי</mark>נ<mark>ָ֗</mark>ן<mark> אַ</mark><mark>חֲרֵי֙ הֹולִידֹ֣ו אֶת־</mark>מַֽהֲלַלְאֵ֔ל אַרְבָּעִ֣ים <mark>שׁ</mark>ָנָ<mark>֔</mark>ה<mark> </mark>וּ<mark>שְׁמֹנֶ֥ה מֵאֹ֖</mark>ו<mark>ת שָׁנָ֑ה וַיֹּ֥ולֶד בָּנִ֖ים וּבָנֹֽות׃ </mark> |\n",
       "| <a href=\"https://www.stepbible.org/?q=version=NASB2020%7Creference=Genesis.5:16&options=HNVUG\" target=\"_blank\">Genesis 5:16</a> | 78% | <mark>וַ</mark>ֽ<mark>י</mark>ְח<mark>ִ</mark>֣י מַ<mark>ֽה</mark>ֲלַל<mark>ְ</mark>א<mark>ֵ</mark><mark>֗</mark>ל<mark> אַֽחֲרֵי֙ הֹולִידֹ֣ו אֶת־</mark>יֶ֔רֶד <mark>שׁ</mark>ְלֹשִׁ֣ים שָׁנָ<mark>֔</mark>ה<mark> </mark>וּ<mark>שְׁמֹנֶ֥ה מֵאֹ֖</mark>ו<mark>ת שָׁנָ֑ה וַיֹּ֥ולֶד בָּנִ֖ים וּבָנֹֽות׃ </mark> |\n",
       "| <a href=\"https://www.stepbible.org/?q=version=NASB2020%7Creference=Genesis.5:19&options=HNVUG\" target=\"_blank\">Genesis 5:19</a> | 86% | <mark>וַ</mark><mark>ֽ</mark><mark>יְ</mark>חִ<mark>י־</mark>יֶ֗רֶ<mark>ד</mark><mark> אַֽחֲרֵי֙ הֹולִידֹ֣ו אֶת־</mark>חֲנֹ<mark>֔</mark>וךְ<mark> שְׁמֹנֶ֥ה מֵאֹ֖</mark>ו<mark>ת שָׁנָ֑ה וַיֹּ֥ולֶד בָּנִ֖ים וּבָנֹֽות׃ </mark> |\n",
       "| <a href=\"https://www.stepbible.org/?q=version=NASB2020%7Creference=Genesis.5:30&options=HNVUG\" target=\"_blank\">Genesis 5:30</a> | 77% | <mark>וַ</mark><mark>ֽ</mark><mark>יְ</mark>חִ<mark>י־</mark>לֶ<mark>֗</mark>מֶךְ<mark> אַֽחֲרֵי֙ הֹולִידֹ֣ו אֶת־</mark>נֹ֔חַ חָמֵ֤<mark>שׁ</mark> וְ<mark>ת</mark>ִשְׁעִים֙<mark> שׁ</mark>ָנָ֔ה וַחֲ<mark>מ</mark>ֵ<mark>֥</mark>שׁ<mark> מֵאֹ֖ת שָׁנָ֑ה וַיֹּ֥ולֶד בָּנִ֖ים וּבָנֹֽות׃ </mark> |\n",
       "| <a href=\"https://www.stepbible.org/?q=version=NASB2020%7Creference=Genesis.11:11&options=HNVUG\" target=\"_blank\">Genesis 11:11</a> | 79% | <mark>וַ</mark><mark>ֽ</mark><mark>יְ</mark>חִ<mark>י־</mark>שֵׁ<mark>֗ם אַֽחֲרֵי֙ הֹולִידֹ֣ו אֶת־</mark>אַרְפַּכְ<mark>שׁ</mark>ָ֔ד חֲמ<mark>ֵ</mark>֥<mark>שׁ</mark><mark> מֵאֹ֖</mark>ו<mark>ת שָׁנָ֑ה וַיֹּ֥ולֶד בָּנִ֖ים וּבָנֹֽות׃ </mark>ס  |\n",
       "| <a href=\"https://www.stepbible.org/?q=version=NASB2020%7Creference=Genesis.11:13&options=HNVUG\" target=\"_blank\">Genesis 11:13</a> | 76% | <mark>וַ</mark><mark>ֽ</mark><mark>יְ</mark>חִ֣<mark>י</mark> <mark>א</mark>ַרְפַּכְשַׁ֗<mark>ד</mark><mark> אַֽחֲרֵי֙ הֹולִידֹ֣ו אֶת־שׁ</mark>ֶ<mark>֔</mark>לַח<mark> שׁ</mark>ָלֹ֣שׁ שָׁנִ֔ים ו<mark>ְ</mark>אַרְבַּ<mark>֥</mark>ע<mark> מֵאֹ֖</mark>ו<mark>ת שָׁנָ֑ה וַיֹּ֥ולֶד בָּנִ֖ים וּבָנֹֽות׃ </mark>ס  |\n",
       "| <a href=\"https://www.stepbible.org/?q=version=NASB2020%7Creference=Genesis.11:15&options=HNVUG\" target=\"_blank\">Genesis 11:15</a> | 75% | <mark>וַ</mark><mark>ֽ</mark><mark>יְ</mark>חִ<mark>י־</mark>שֶׁ<mark>֗</mark>לַח<mark> אַ</mark><mark>חֲרֵי֙ הֹולִידֹ֣ו אֶת־</mark>ע<mark>ֵ֔</mark>בֶר<mark> שׁ</mark>ָלֹ֣שׁ שָׁנִ֔ים ו<mark>ְ</mark>אַרְבַּ<mark>֥</mark>ע<mark> מֵאֹ֖</mark>ו<mark>ת שָׁנָ֑ה וַיֹּ֥ולֶד בָּנִ֖ים וּבָנֹֽות׃ </mark>ס  |\n",
       "| <a href=\"https://www.stepbible.org/?q=version=NASB2020%7Creference=Genesis.11:17&options=HNVUG\" target=\"_blank\">Genesis 11:17</a> | 75% | <mark>וַ</mark><mark>ֽ</mark><mark>יְ</mark>חִ<mark>י־</mark>עֵ<mark>֗</mark>בֶר<mark> אַ</mark><mark>חֲרֵי֙ הֹולִידֹ֣ו אֶת־</mark>פֶּ<mark>֔</mark>לֶג<mark> שְׁ</mark>ל<mark>ֹ</mark>שִׁ֣ים שָׁ<mark>נ</mark>ָ֔ה וְאַרְבַּ<mark>֥</mark>ע<mark> מֵאֹ֖</mark>ו<mark>ת שָׁנָ֑ה וַיֹּ֥ולֶד בָּנִ֖ים וּבָנֹֽות׃ </mark>ס  |\n",
       "| <a href=\"https://www.stepbible.org/?q=version=NASB2020%7Creference=Genesis.11:19&options=HNVUG\" target=\"_blank\">Genesis 11:19</a> | 80% | <mark>וַ</mark><mark>ֽ</mark><mark>יְ</mark>חִ<mark>י־</mark>פֶ<mark>֗</mark>לֶג<mark> אַ</mark><mark>חֲרֵי֙ הֹולִידֹ֣ו אֶת־</mark>רְע֔וּ תֵּ֥<mark>שׁ</mark>ַע<mark> שׁ</mark>ָנִ֖ים וּ<mark>מ</mark>ָ<mark>א</mark><mark>ת</mark>ַ֣יִם<mark> שָׁנָ֑ה וַיֹּ֥ולֶד בָּנִ֖ים וּבָנֹֽות׃ </mark>ס  |\n",
       "| <a href=\"https://www.stepbible.org/?q=version=NASB2020%7Creference=Genesis.11:21&options=HNVUG\" target=\"_blank\">Genesis 11:21</a> | 80% | <mark>וַי</mark>ְח<mark>ִ</mark>֣י ר<mark>ְ</mark>ע֗<mark>וּ </mark><mark>אַ</mark><mark>חֲרֵי֙ הֹולִידֹ֣ו אֶת־ש</mark>ְׂר<mark>֔</mark>וּג<mark> שׁ</mark><mark>ֶ֥</mark>בַע<mark> </mark>שָׁנִ֖ים וּ<mark>מ</mark>ָ<mark>א</mark><mark>ת</mark>ַ֣יִם<mark> שָׁנָ֑ה וַיֹּ֥ולֶד בָּנִ֖ים וּבָנֹֽות׃ </mark>ס  |\n",
       "| <a href=\"https://www.stepbible.org/?q=version=NASB2020%7Creference=Genesis.11:23&options=HNVUG\" target=\"_blank\">Genesis 11:23</a> | 77% | <mark>וַי</mark>ְח<mark>ִ</mark>֣י שׂ<mark>ְ</mark>ר֗<mark>וּ</mark>ג<mark> אַ</mark><mark>חֲרֵ</mark>֛<mark>י</mark><mark> הֹולִידֹ</mark>֥<mark>ו אֶת־</mark>נָח<mark>ֹ</mark>֖ור<mark> מ</mark>ָ<mark>א</mark><mark>ת</mark>ַ֣יִם<mark> שָׁנָ֑ה וַיֹּ֥ולֶד בָּנִ֖ים וּבָנֹֽות׃ </mark>ס  |\n"
      ],
      "text/plain": [
       "<IPython.core.display.Markdown object>"
      ]
     },
     "metadata": {},
     "output_type": "display_data"
    },
    {
     "data": {
      "text/markdown": [
       "#### Cross-references for <a href=\"https://www.stepbible.org/?q=version=NASB2020%7Creference=Genesis.5:5&options=HNVUG\" target=\"_blank\">Genesis 5:5</a>\n",
       " ##### וַיִּֽהְי֞וּ כָּל־יְמֵ֤י אָדָם֙ אֲשֶׁר־חַ֔י תְּשַׁ֤ע מֵאֹות֙ שָׁנָ֔ה וּשְׁלֹשִׁ֖ים שָׁנָ֑ה וַיָּמֹֽת׃ ס \n",
       "| Reference | Match | Text |\n",
       "| --- | --- | --- |\n",
       "| <a href=\"https://www.stepbible.org/?q=version=NASB2020%7Creference=Genesis.5:20&options=HNVUG\" target=\"_blank\">Genesis 5:20</a> | 77% | <mark>וַיִּֽהְי</mark><mark>וּ</mark>֙<mark> כָּל־יְמֵ</mark>י־יֶ֔רֶד שְׁתַּ<mark>֤י</mark>ִם<mark> </mark>ו<mark>ְשׁ</mark>ִשִּׁים<mark>֙ שָׁנָ֔ה וּ</mark>תְ<mark>שׁ</mark>ַ֥ע מֵא<mark>ֹ</mark><mark>֖</mark>ות<mark> שָׁנָ֑ה וַיָּמֹֽת׃ </mark>פ<mark> </mark> |\n",
       "| <a href=\"https://www.stepbible.org/?q=version=NASB2020%7Creference=Genesis.5:27&options=HNVUG\" target=\"_blank\">Genesis 5:27</a> | 76% | <mark>וַיִּ</mark><mark>הְי</mark><mark>וּ</mark>֙<mark> כָּל־יְמֵ</mark>֣<mark>י </mark>מְתוּ<mark>שֶׁ</mark>֔לַ<mark>ח</mark><mark> תּ</mark>ֵ֤שַׁע ו<mark>ְשׁ</mark>ִשִּׁים<mark>֙ שָׁנָ֔ה וּ</mark>תְ<mark>שׁ</mark>ַ֥ע מֵא<mark>ֹ</mark><mark>֖</mark>ות<mark> שָׁנָ֑ה וַיָּמֹֽת׃ </mark>פ<mark> </mark> |\n",
       "| <a href=\"https://www.stepbible.org/?q=version=NASB2020%7Creference=Genesis.9:29&options=HNVUG\" target=\"_blank\">Genesis 9:29</a> | 83% | <mark>וַיִּֽהְי</mark><mark>וּ</mark>֙<mark> כָּל־יְמֵ</mark><mark>י</mark><mark>־</mark>נֹ֔<mark>חַ</mark><mark> תְּשַׁ֤ע מֵאֹות֙ שָׁנָ֔ה ו</mark>ַחֲמִ<mark>שׁ</mark>ּ<mark>ִ֖ים שָׁנָ֑ה וַיָּמֹֽת׃ </mark>פ<mark> </mark> |\n"
      ],
      "text/plain": [
       "<IPython.core.display.Markdown object>"
      ]
     },
     "metadata": {},
     "output_type": "display_data"
    },
    {
     "data": {
      "text/markdown": [
       "#### Cross-references for <a href=\"https://www.stepbible.org/?q=version=NASB2020%7Creference=Genesis.5:6&options=HNVUG\" target=\"_blank\">Genesis 5:6</a>\n",
       " ##### וַֽיְחִי־שֵׁ֕ת חָמֵ֥שׁ שָׁנִ֖ים וּמְאַ֣ת שָׁנָ֑ה וַיֹּ֖ולֶד אֶת־אֱנֹֽושׁ׃ \n",
       "| Reference | Match | Text |\n",
       "| --- | --- | --- |\n",
       "| <a href=\"https://www.stepbible.org/?q=version=NASB2020%7Creference=Genesis.5:18&options=HNVUG\" target=\"_blank\">Genesis 5:18</a> | 80% | <mark>וַֽיְחִי־</mark>יֶ֕רֶד <mark>שׁ</mark>ְ<mark>ת</mark>ַּ֧יִם<mark> </mark>וְ<mark>שׁ</mark>ִשִּׁ֛ים<mark> שָׁנ</mark>ָ<mark>֖</mark>ה<mark> וּמְאַ֣ת שָׁנָ֑ה וַיֹּ֖ולֶד אֶת־</mark>חֲ<mark>נֹֽו</mark>ךְ<mark>׃ </mark> |\n"
      ],
      "text/plain": [
       "<IPython.core.display.Markdown object>"
      ]
     },
     "metadata": {},
     "output_type": "display_data"
    },
    {
     "data": {
      "text/markdown": [
       "#### Cross-references for <a href=\"https://www.stepbible.org/?q=version=NASB2020%7Creference=Genesis.5:7&options=HNVUG\" target=\"_blank\">Genesis 5:7</a>\n",
       " ##### וַֽיְחִי־שֵׁ֗ת אַֽחֲרֵי֙ הֹולִידֹ֣ו אֶת־אֱנֹ֔ושׁ שֶׁ֣בַע שָׁנִ֔ים וּשְׁמֹנֶ֥ה מֵאֹ֖ות שָׁנָ֑ה וַיֹּ֥ולֶד בָּנִ֖ים וּבָנֹֽות׃ \n",
       "| Reference | Match | Text |\n",
       "| --- | --- | --- |\n",
       "| <a href=\"https://www.stepbible.org/?q=version=NASB2020%7Creference=Genesis.5:4&options=HNVUG\" target=\"_blank\">Genesis 5:4</a> | 79% | <mark>וַ</mark>יִּ<mark>ֽ</mark>הְי֣וּ <mark>יְ</mark>מֵ<mark>י־</mark>אָדָ<mark>֗</mark>ם<mark> אַֽחֲרֵי֙ הֹולִידֹ֣ו אֶת־</mark><mark>שׁ</mark>ֵ֔ת<mark> </mark><mark>שְׁמֹנֶ֥ה מֵאֹ֖</mark><mark>ת שָׁנָ֑ה וַיֹּ֥ולֶד בָּנִ֖ים וּבָנֹֽות׃ </mark> |\n",
       "| <a href=\"https://www.stepbible.org/?q=version=NASB2020%7Creference=Genesis.5:10&options=HNVUG\" target=\"_blank\">Genesis 5:10</a> | 88% | <mark>וַֽיְחִ</mark>֣<mark>י</mark> אֱנֹ֗ו<mark>שׁ</mark><mark> אַֽחֲרֵי֙ הֹולִידֹ֣ו אֶת־</mark>קֵי<mark>נ</mark>ָ<mark>֔</mark>ן חֲמֵ֤<mark>שׁ </mark>עֶ<mark>ש</mark>ְׂרֵה֙<mark> שָׁנ</mark>ָ<mark>֔</mark>ה<mark> וּשְׁמֹנֶ֥ה מֵאֹ֖ות שָׁנָ֑ה וַיֹּ֥ולֶד בָּנִ֖ים וּבָנֹֽות׃ </mark> |\n",
       "| <a href=\"https://www.stepbible.org/?q=version=NASB2020%7Creference=Genesis.5:13&options=HNVUG\" target=\"_blank\">Genesis 5:13</a> | 85% | <mark>וַ</mark><mark>יְחִ</mark>֣<mark>י</mark> ק<mark>ֵ</mark>ינָ<mark>֗</mark>ן<mark> אַ</mark><mark>חֲרֵי֙ הֹולִידֹ֣ו אֶת־</mark>מַֽהֲלַלְ<mark>א</mark>ֵ<mark>֔</mark>ל<mark> </mark>אַרְבָּעִ<mark>֣</mark>ים<mark> שָׁנ</mark>ָ<mark>֔</mark>ה<mark> וּשְׁמֹנֶ֥ה מֵאֹ֖ות שָׁנָ֑ה וַיֹּ֥ולֶד בָּנִ֖ים וּבָנֹֽות׃ </mark> |\n",
       "| <a href=\"https://www.stepbible.org/?q=version=NASB2020%7Creference=Genesis.5:16&options=HNVUG\" target=\"_blank\">Genesis 5:16</a> | 84% | <mark>וַֽיְחִ</mark>֣<mark>י</mark> מַֽהֲלַלְא<mark>ֵ֗</mark>ל<mark> אַֽחֲרֵי֙ הֹולִידֹ֣ו אֶת־</mark>יֶ<mark>֔</mark>רֶד<mark> שׁ</mark>ְלֹשִׁ<mark>֣</mark>ים<mark> שָׁנ</mark>ָ<mark>֔</mark>ה<mark> וּשְׁמֹנֶ֥ה מֵאֹ֖ות שָׁנָ֑ה וַיֹּ֥ולֶד בָּנִ֖ים וּבָנֹֽות׃ </mark> |\n",
       "| <a href=\"https://www.stepbible.org/?q=version=NASB2020%7Creference=Genesis.5:19&options=HNVUG\" target=\"_blank\">Genesis 5:19</a> | 82% | <mark>וַֽיְחִי־</mark>יֶ<mark>֗</mark>רֶד<mark> אַֽחֲרֵי֙ הֹולִידֹ֣ו אֶת־</mark>חֲ<mark>נֹ֔ו</mark>ךְ<mark> </mark><mark>שְׁמֹנֶ֥ה מֵאֹ֖ות שָׁנָ֑ה וַיֹּ֥ולֶד בָּנִ֖ים וּבָנֹֽות׃ </mark> |\n",
       "| <a href=\"https://www.stepbible.org/?q=version=NASB2020%7Creference=Genesis.5:26&options=HNVUG\" target=\"_blank\">Genesis 5:26</a> | 80% | <mark>וַֽיְחִ</mark>֣<mark>י</mark> מְתוּ<mark>שׁ</mark>ֶ<mark>֗</mark>לַח<mark> אַֽחֲרֵי֙ הֹולִידֹ֣ו אֶת־</mark>לֶ<mark>֔</mark>מֶךְ<mark> שׁ</mark>ְתּ<mark>ַ</mark>֤י<mark>ִ</mark><mark>ם וּשְׁמֹ</mark>ו<mark>נ</mark>ִים֙ שָׁנָ֔ה וּשְׁבַ<mark>֥</mark>ע<mark> מֵאֹ֖ות שָׁנָ֑ה וַיֹּ֥ולֶד בָּנִ֖ים וּבָנֹֽות׃ </mark> |\n",
       "| <a href=\"https://www.stepbible.org/?q=version=NASB2020%7Creference=Genesis.5:30&options=HNVUG\" target=\"_blank\">Genesis 5:30</a> | 83% | <mark>וַֽיְחִי־</mark>לֶ<mark>֗</mark>מֶךְ<mark> אַֽחֲרֵי֙ הֹולִידֹ֣ו אֶת־</mark><mark>נֹ֔</mark>חַ חָמֵ֤<mark>שׁ </mark>וְתִ<mark>שׁ</mark>ְ<mark>ע</mark>ִים֙<mark> שָׁנ</mark>ָ<mark>֔</mark>ה<mark> ו</mark>ַחֲמֵ֥<mark>שׁ</mark><mark> מֵאֹ֖</mark><mark>ת שָׁנָ֑ה וַיֹּ֥ולֶד בָּנִ֖ים וּבָנֹֽות׃ </mark> |\n",
       "| <a href=\"https://www.stepbible.org/?q=version=NASB2020%7Creference=Genesis.11:11&options=HNVUG\" target=\"_blank\">Genesis 11:11</a> | 76% | <mark>וַֽיְחִי־שֵׁ֗</mark>ם<mark> אַֽחֲרֵי֙ הֹולִידֹ֣ו אֶת־א</mark><mark>ַ</mark>רְפַּכְ<mark>שָׁ</mark><mark>֔</mark>ד<mark> </mark>חֲמֵ֥<mark>שׁ</mark><mark> מֵאֹ֖ות שָׁנָ֑ה וַיֹּ֥ולֶד בָּנִ֖ים וּבָנֹֽות׃ </mark>ס  |\n",
       "| <a href=\"https://www.stepbible.org/?q=version=NASB2020%7Creference=Genesis.11:13&options=HNVUG\" target=\"_blank\">Genesis 11:13</a> | 80% | <mark>וַֽיְחִ</mark>֣<mark>י</mark> אַרְפַּכְ<mark>שׁ</mark>ַ<mark>֗</mark>ד<mark> אַֽחֲרֵי֙ הֹולִידֹ֣ו אֶת־</mark><mark>שׁ</mark>ֶ֔לַח<mark> שׁ</mark>ָלֹ<mark>֣</mark>שׁ<mark> שָׁנִ֔ים ו</mark>ְאַרְב<mark>ּ</mark>ַ<mark>֥</mark>ע<mark> מֵאֹ֖ות שָׁנָ֑ה וַיֹּ֥ולֶד בָּנִ֖ים וּבָנֹֽות׃ </mark>ס  |\n",
       "| <a href=\"https://www.stepbible.org/?q=version=NASB2020%7Creference=Genesis.11:15&options=HNVUG\" target=\"_blank\">Genesis 11:15</a> | 79% | <mark>וַֽיְחִי־שׁ</mark>ֶ<mark>֗</mark>לַח<mark> אַ</mark><mark>חֲרֵי֙ הֹולִידֹ֣ו אֶת־</mark>עֵ<mark>֔</mark>בֶר<mark> שׁ</mark>ָלֹ<mark>֣</mark>שׁ<mark> שָׁנִ֔ים ו</mark>ְאַרְב<mark>ּ</mark>ַ<mark>֥</mark>ע<mark> מֵאֹ֖ות שָׁנָ֑ה וַיֹּ֥ולֶד בָּנִ֖ים וּבָנֹֽות׃ </mark>ס  |\n",
       "| <a href=\"https://www.stepbible.org/?q=version=NASB2020%7Creference=Genesis.11:17&options=HNVUG\" target=\"_blank\">Genesis 11:17</a> | 77% | <mark>וַֽיְחִי־</mark>ע<mark>ֵ֗</mark>בֶר<mark> אַ</mark><mark>חֲרֵי֙ הֹולִידֹ֣ו אֶת־</mark>פֶּ<mark>֔</mark>לֶג<mark> שׁ</mark>ְלֹשִׁ<mark>֣</mark>ים<mark> שָׁנ</mark>ָ<mark>֔</mark>ה<mark> ו</mark>ְאַרְב<mark>ּ</mark>ַ<mark>֥</mark>ע<mark> מֵאֹ֖ות שָׁנָ֑ה וַיֹּ֥ולֶד בָּנִ֖ים וּבָנֹֽות׃ </mark>ס  |\n",
       "| <a href=\"https://www.stepbible.org/?q=version=NASB2020%7Creference=Genesis.11:19&options=HNVUG\" target=\"_blank\">Genesis 11:19</a> | 81% | <mark>וַֽיְחִי־</mark>פֶ<mark>֗</mark>לֶג<mark> אַ</mark><mark>חֲרֵי֙ הֹולִידֹ֣ו אֶת־</mark>רְע<mark>֔ו</mark>ּ תֵּ֥<mark>שׁ</mark><mark>ַע שָׁנִ</mark>֖<mark>ים וּ</mark><mark>מ</mark>ָ<mark>א</mark><mark>ת</mark>ַ֣יִם<mark> שָׁנָ֑ה וַיֹּ֥ולֶד בָּנִ֖ים וּבָנֹֽות׃ </mark>ס  |\n",
       "| <a href=\"https://www.stepbible.org/?q=version=NASB2020%7Creference=Genesis.11:21&options=HNVUG\" target=\"_blank\">Genesis 11:21</a> | 84% | <mark>וַ</mark><mark>יְחִ</mark>֣<mark>י</mark> רְע<mark>֗</mark>וּ<mark> אַ</mark><mark>חֲרֵי֙ הֹולִידֹ֣ו אֶת־</mark>שְׂר<mark>֔ו</mark>ּג<mark> שֶׁ</mark>֥<mark>בַע שָׁנִ</mark>֖<mark>ים וּ</mark><mark>מ</mark>ָ<mark>א</mark><mark>ת</mark>ַ֣יִם<mark> שָׁנָ֑ה וַיֹּ֥ולֶד בָּנִ֖ים וּבָנֹֽות׃ </mark>ס  |\n",
       "| <a href=\"https://www.stepbible.org/?q=version=NASB2020%7Creference=Genesis.11:25&options=HNVUG\" target=\"_blank\">Genesis 11:25</a> | 80% | <mark>וַ</mark><mark>יְחִ</mark>֣<mark>י</mark> נָחֹ<mark>֗</mark>ור<mark> אַ</mark><mark>חֲרֵי֙ הֹולִידֹ֣ו אֶת־</mark>תֶּ<mark>֔</mark>רַח תְּ<mark>שׁ</mark>ַֽע־עֶ<mark>ש</mark>ְׂרֵ֥ה<mark> שָׁנ</mark>ָ֖ה<mark> וּ</mark>מ<mark>ְ</mark><mark>א</mark>ַ֣<mark>ת שָׁנָ֑ה וַיֹּ֥ולֶד בָּנִ֖ים וּבָנֹֽות׃ </mark>ס  |\n"
      ],
      "text/plain": [
       "<IPython.core.display.Markdown object>"
      ]
     },
     "metadata": {},
     "output_type": "display_data"
    },
    {
     "data": {
      "text/markdown": [
       "#### Cross-references for <a href=\"https://www.stepbible.org/?q=version=NASB2020%7Creference=Genesis.5:8&options=HNVUG\" target=\"_blank\">Genesis 5:8</a>\n",
       " ##### וַיִּֽהְיוּ֙ כָּל־יְמֵי־שֵׁ֔ת שְׁתֵּ֤ים עֶשְׂרֵה֙ שָׁנָ֔ה וּתְשַׁ֥ע מֵאֹ֖ות שָׁנָ֑ה וַיָּמֹֽת׃ ס \n",
       "| Reference | Match | Text |\n",
       "| --- | --- | --- |\n",
       "| <a href=\"https://www.stepbible.org/?q=version=NASB2020%7Creference=Genesis.5:11&options=HNVUG\" target=\"_blank\">Genesis 5:11</a> | 84% | <mark>וַיִּֽהְיוּ֙ כָּל־יְמֵ</mark>֣<mark>י</mark> אֱנֹ֔ו<mark>שׁ</mark> חָמ<mark>ֵ</mark>֣<mark>שׁ</mark><mark> שָׁנ</mark>ִ<mark>֔</mark>ים<mark> וּתְשַׁ֥ע מֵאֹ֖ות שָׁנָ֑ה וַיָּמֹֽת׃ ס </mark> |\n",
       "| <a href=\"https://www.stepbible.org/?q=version=NASB2020%7Creference=Genesis.5:14&options=HNVUG\" target=\"_blank\">Genesis 5:14</a> | 89% | <mark>וַיִּֽהְיוּ֙ כָּל־יְמֵ</mark>֣<mark>י</mark> ק<mark>ֵ</mark>ינָ<mark>֔</mark>ן<mark> עֶ</mark>֣<mark>שׂ</mark>ֶ<mark>ר</mark><mark> שָׁנ</mark>ִ<mark>֔</mark>ים<mark> וּתְשַׁ֥ע מֵאֹ֖ות שָׁנָ֑ה וַיָּמֹֽת׃ ס </mark> |\n",
       "| <a href=\"https://www.stepbible.org/?q=version=NASB2020%7Creference=Genesis.5:20&options=HNVUG\" target=\"_blank\">Genesis 5:20</a> | 86% | <mark>וַיִּֽהְיוּ֙ כָּל־יְמֵי־</mark>יֶ<mark>֔</mark>רֶד<mark> שְׁתּ</mark>ַ<mark>֤י</mark>ִ<mark>ם </mark>וְ<mark>ש</mark>ִׁשִּׁים<mark>֙ שָׁנָ֔ה וּתְשַׁ֥ע מֵאֹ֖ות שָׁנָ֑ה וַיָּמֹֽת׃ </mark>פ<mark> </mark> |\n",
       "| <a href=\"https://www.stepbible.org/?q=version=NASB2020%7Creference=Genesis.5:27&options=HNVUG\" target=\"_blank\">Genesis 5:27</a> | 80% | <mark>וַיִּ</mark><mark>הְיוּ֙ כָּל־יְמֵ</mark>֣<mark>י</mark> מְתוּ<mark>שׁ</mark>ֶ<mark>֔</mark>לַח<mark> </mark><mark>תֵּ֤</mark>שַׁע וְשִׁשִּׁ<mark>ים</mark><mark>֙ שָׁנָ֔ה וּתְשַׁ֥ע מֵאֹ֖ות שָׁנָ֑ה וַיָּמֹֽת׃ </mark>פ<mark> </mark> |\n",
       "| <a href=\"https://www.stepbible.org/?q=version=NASB2020%7Creference=Genesis.5:31&options=HNVUG\" target=\"_blank\">Genesis 5:31</a> | 78% | <mark>וַ</mark>ֽ<mark>י</mark>ְה<mark>ִ</mark><mark>י</mark><mark>֙ כָּל־יְמֵי־</mark>לֶ<mark>֔</mark>מֶךְ<mark> שׁ</mark>ֶ֤בַע ו<mark>ְ</mark>שִׁבְעִ<mark>ים</mark><mark>֙ שָׁנָ֔ה וּ</mark><mark>שׁ</mark>ְב<mark>ַ֥ע מֵאֹ֖ות שָׁנָ֑ה וַיָּמֹֽת׃ ס </mark> |\n"
      ],
      "text/plain": [
       "<IPython.core.display.Markdown object>"
      ]
     },
     "metadata": {},
     "output_type": "display_data"
    },
    {
     "data": {
      "text/markdown": [],
      "text/plain": [
       "<IPython.core.display.Markdown object>"
      ]
     },
     "metadata": {},
     "output_type": "display_data"
    },
    {
     "data": {
      "text/markdown": [
       "#### Cross-references for <a href=\"https://www.stepbible.org/?q=version=NASB2020%7Creference=Genesis.5:10&options=HNVUG\" target=\"_blank\">Genesis 5:10</a>\n",
       " ##### וַֽיְחִ֣י אֱנֹ֗ושׁ אַֽחֲרֵי֙ הֹולִידֹ֣ו אֶת־קֵינָ֔ן חֲמֵ֤שׁ עֶשְׂרֵה֙ שָׁנָ֔ה וּשְׁמֹנֶ֥ה מֵאֹ֖ות שָׁנָ֑ה וַיֹּ֥ולֶד בָּנִ֖ים וּבָנֹֽות׃ \n",
       "| Reference | Match | Text |\n",
       "| --- | --- | --- |\n",
       "| <a href=\"https://www.stepbible.org/?q=version=NASB2020%7Creference=Genesis.5:7&options=HNVUG\" target=\"_blank\">Genesis 5:7</a> | 88% | <mark>וַֽיְחִ</mark><mark>י</mark>־<mark>שׁ</mark>ֵ֗ת<mark> אַֽחֲרֵי֙ הֹולִידֹ֣ו אֶת־</mark>אֱ<mark>נ</mark>ֹ<mark>֔</mark>ו<mark>שׁ </mark>שֶׁ֣בַ<mark>ע</mark><mark> שָׁנ</mark>ִ<mark>֔</mark>ים<mark> וּשְׁמֹנֶ֥ה מֵאֹ֖ות שָׁנָ֑ה וַיֹּ֥ולֶד בָּנִ֖ים וּבָנֹֽות׃ </mark> |\n",
       "| <a href=\"https://www.stepbible.org/?q=version=NASB2020%7Creference=Genesis.5:13&options=HNVUG\" target=\"_blank\">Genesis 5:13</a> | 82% | <mark>וַ</mark><mark>יְחִ֣י </mark>קֵי<mark>נ</mark>ָ<mark>֗</mark>ן<mark> אַ</mark><mark>חֲרֵי֙ הֹולִידֹ֣ו אֶת־</mark>מַֽהֲלַלְא<mark>ֵ</mark>֔ל אַרְבָּעִ֣<mark>י</mark>ם<mark> שָׁנָ֔ה וּשְׁמֹנֶ֥ה מֵאֹ֖ות שָׁנָ֑ה וַיֹּ֥ולֶד בָּנִ֖ים וּבָנֹֽות׃ </mark> |\n",
       "| <a href=\"https://www.stepbible.org/?q=version=NASB2020%7Creference=Genesis.5:16&options=HNVUG\" target=\"_blank\">Genesis 5:16</a> | 79% | <mark>וַֽיְחִ֣י </mark>מַֽהֲלַלְ<mark>א</mark>ֵ<mark>֗</mark>ל<mark> אַֽחֲרֵי֙ הֹולִידֹ֣ו אֶת־</mark><mark>י</mark>ֶ<mark>֔</mark>רֶד<mark> </mark><mark>שׁ</mark>ְלֹ<mark>ש</mark>ִׁ֣ים<mark> שָׁנָ֔ה וּשְׁמֹנֶ֥ה מֵאֹ֖ות שָׁנָ֑ה וַיֹּ֥ולֶד בָּנִ֖ים וּבָנֹֽות׃ </mark> |\n",
       "| <a href=\"https://www.stepbible.org/?q=version=NASB2020%7Creference=Genesis.5:19&options=HNVUG\" target=\"_blank\">Genesis 5:19</a> | 79% | <mark>וַֽיְחִ</mark><mark>י</mark>־יֶ<mark>֗</mark>רֶד<mark> אַֽחֲרֵי֙ הֹולִידֹ֣ו אֶת־</mark><mark>חֲ</mark>נֹ֔וךְ<mark> </mark><mark>שְׁמֹנֶ֥ה מֵאֹ֖ות שָׁנָ֑ה וַיֹּ֥ולֶד בָּנִ֖ים וּבָנֹֽות׃ </mark> |\n",
       "| <a href=\"https://www.stepbible.org/?q=version=NASB2020%7Creference=Genesis.5:26&options=HNVUG\" target=\"_blank\">Genesis 5:26</a> | 75% | <mark>וַֽיְחִ֣י </mark>מְת<mark>ו</mark>ּ<mark>שׁ</mark>ֶ֗לַח<mark> אַֽחֲרֵי֙ הֹולִידֹ֣ו אֶת־</mark>לֶ<mark>֔</mark>מֶךְ<mark> </mark><mark>שׁ</mark>ְתַּ֤יִם<mark> </mark>וּ<mark>ש</mark>ׁ<mark>ְ</mark>מֹונִים<mark>֙ שָׁנָ֔ה וּשְׁ</mark>בַ<mark>֥</mark>ע<mark> מֵאֹ֖ות שָׁנָ֑ה וַיֹּ֥ולֶד בָּנִ֖ים וּבָנֹֽות׃ </mark> |\n",
       "| <a href=\"https://www.stepbible.org/?q=version=NASB2020%7Creference=Genesis.5:30&options=HNVUG\" target=\"_blank\">Genesis 5:30</a> | 82% | <mark>וַֽיְחִ</mark><mark>י</mark>־לֶ<mark>֗</mark>מֶךְ<mark> אַֽחֲרֵי֙ הֹולִידֹ֣ו אֶת־</mark><mark>נ</mark>ֹ<mark>֔</mark>חַ<mark> ח</mark>ָ<mark>מֵ֤שׁ </mark>וְתִשְׁ<mark>ע</mark>ִים<mark>֙ שָׁנָ֔ה ו</mark>ַחֲמֵ֥<mark>שׁ</mark><mark> מֵאֹ֖</mark><mark>ת שָׁנָ֑ה וַיֹּ֥ולֶד בָּנִ֖ים וּבָנֹֽות׃ </mark> |\n",
       "| <a href=\"https://www.stepbible.org/?q=version=NASB2020%7Creference=Genesis.11:15&options=HNVUG\" target=\"_blank\">Genesis 11:15</a> | 76% | <mark>וַֽיְחִ</mark><mark>י</mark>־<mark>שׁ</mark>ֶ֗לַח<mark> אַ</mark><mark>חֲרֵי֙ הֹולִידֹ֣ו אֶת־</mark>ע<mark>ֵ</mark><mark>֔</mark>בֶר<mark> </mark><mark>שׁ</mark>ָלֹ֣<mark>ש</mark>ׁ<mark> שָׁנ</mark>ִ<mark>֔</mark>ים<mark> ו</mark>ְאַרְב<mark>ּ</mark>ַ<mark>֥</mark>ע<mark> מֵאֹ֖ות שָׁנָ֑ה וַיֹּ֥ולֶד בָּנִ֖ים וּבָנֹֽות׃ </mark>ס  |\n",
       "| <a href=\"https://www.stepbible.org/?q=version=NASB2020%7Creference=Genesis.11:19&options=HNVUG\" target=\"_blank\">Genesis 11:19</a> | 76% | <mark>וַֽיְחִ</mark><mark>י</mark>־פֶ<mark>֗</mark>לֶג<mark> אַ</mark><mark>חֲרֵי֙ הֹולִידֹ֣ו אֶת־</mark>רְע֔וּ תּ<mark>ֵ</mark>֥<mark>שׁ</mark>ַ<mark>ע</mark><mark> שָׁנ</mark>ִ֖ים<mark> וּ</mark><mark>מ</mark>ָ<mark>א</mark><mark>ת</mark>ַ֣יִם<mark> שָׁנָ֑ה וַיֹּ֥ולֶד בָּנִ֖ים וּבָנֹֽות׃ </mark>ס  |\n",
       "| <a href=\"https://www.stepbible.org/?q=version=NASB2020%7Creference=Genesis.11:21&options=HNVUG\" target=\"_blank\">Genesis 11:21</a> | 78% | <mark>וַ</mark><mark>יְחִ֣י </mark>רְע<mark>֗ו</mark>ּ<mark> אַ</mark><mark>חֲרֵי֙ הֹולִידֹ֣ו אֶת־</mark><mark>שְׂר</mark>֔וּג שֶׁ֥בַע<mark> שָׁנ</mark>ִ֖ים<mark> וּ</mark><mark>מ</mark>ָ<mark>א</mark><mark>ת</mark>ַ֣יִם<mark> שָׁנָ֑ה וַיֹּ֥ולֶד בָּנִ֖ים וּבָנֹֽות׃ </mark>ס  |\n",
       "| <a href=\"https://www.stepbible.org/?q=version=NASB2020%7Creference=Genesis.11:25&options=HNVUG\" target=\"_blank\">Genesis 11:25</a> | 82% | <mark>וַ</mark><mark>יְחִ֣י </mark><mark>נ</mark>ָח<mark>ֹ֗ו</mark>ר<mark> אַ</mark><mark>חֲרֵי֙ הֹולִידֹ֣ו אֶת־</mark>תֶּ<mark>֔</mark>רַח<mark> </mark>תְּ<mark>שׁ</mark>ַֽע־<mark>עֶשְׂרֵ</mark>֥<mark>ה</mark><mark> שָׁנָ</mark>֖<mark>ה וּ</mark>מ<mark>ְ</mark><mark>א</mark>ַ֣<mark>ת שָׁנָ֑ה וַיֹּ֥ולֶד בָּנִ֖ים וּבָנֹֽות׃ </mark>ס  |\n"
      ],
      "text/plain": [
       "<IPython.core.display.Markdown object>"
      ]
     },
     "metadata": {},
     "output_type": "display_data"
    },
    {
     "data": {
      "text/markdown": [
       "#### Cross-references for <a href=\"https://www.stepbible.org/?q=version=NASB2020%7Creference=Genesis.5:11&options=HNVUG\" target=\"_blank\">Genesis 5:11</a>\n",
       " ##### וַיִּֽהְיוּ֙ כָּל־יְמֵ֣י אֱנֹ֔ושׁ חָמֵ֣שׁ שָׁנִ֔ים וּתְשַׁ֥ע מֵאֹ֖ות שָׁנָ֑ה וַיָּמֹֽת׃ ס \n",
       "| Reference | Match | Text |\n",
       "| --- | --- | --- |\n",
       "| <a href=\"https://www.stepbible.org/?q=version=NASB2020%7Creference=Genesis.5:8&options=HNVUG\" target=\"_blank\">Genesis 5:8</a> | 84% | <mark>וַיִּֽהְיוּ֙ כָּל־יְמֵ</mark><mark>י</mark>־<mark>שׁ</mark>ֵ֔ת<mark> </mark><mark>שׁ</mark>ְתֵּ֤ים עֶשְׂרֵה֙<mark> שָׁנ</mark>ָ<mark>֔</mark>ה<mark> וּתְשַׁ֥ע מֵאֹ֖ות שָׁנָ֑ה וַיָּמֹֽת׃ ס </mark> |\n",
       "| <a href=\"https://www.stepbible.org/?q=version=NASB2020%7Creference=Genesis.5:14&options=HNVUG\" target=\"_blank\">Genesis 5:14</a> | 86% | <mark>וַיִּֽהְיוּ֙ כָּל־יְמֵ֣י </mark>קֵי<mark>נ</mark>ָ<mark>֔</mark>ן<mark> </mark>עֶ<mark>֣ש</mark>ֶׂר<mark> שָׁנִ֔ים וּתְשַׁ֥ע מֵאֹ֖ות שָׁנָ֑ה וַיָּמֹֽת׃ ס </mark> |\n",
       "| <a href=\"https://www.stepbible.org/?q=version=NASB2020%7Creference=Genesis.5:17&options=HNVUG\" target=\"_blank\">Genesis 5:17</a> | 78% | <mark>וַיִּ</mark><mark>הְיוּ֙ כָּל־יְמֵ֣י </mark>מַהֲלַלְ<mark>א</mark>ֵ<mark>֔</mark>ל<mark> חָמֵ</mark>֤<mark>שׁ</mark> וְתִשְׁעִים֙<mark> שָׁנ</mark>ָ<mark>֔</mark>ה<mark> וּ</mark><mark>שׁ</mark>ְמֹנֶ<mark>֥</mark>ה<mark> מֵאֹ֖ות שָׁנָ֑ה וַיָּמֹֽת׃ ס </mark> |\n",
       "| <a href=\"https://www.stepbible.org/?q=version=NASB2020%7Creference=Genesis.5:20&options=HNVUG\" target=\"_blank\">Genesis 5:20</a> | 87% | <mark>וַיִּֽהְיוּ֙ כָּל־יְמֵ</mark><mark>י</mark>־יֶ֔רֶד<mark> </mark><mark>שׁ</mark>ְתַּ֤יִם<mark> </mark>וְ<mark>שׁ</mark>ִשִּׁים֙<mark> שָׁנ</mark>ָ<mark>֔</mark>ה<mark> וּתְשַׁ֥ע מֵאֹ֖ות שָׁנָ֑ה וַיָּמֹֽת׃ </mark>פ<mark> </mark> |\n",
       "| <a href=\"https://www.stepbible.org/?q=version=NASB2020%7Creference=Genesis.5:23&options=HNVUG\" target=\"_blank\">Genesis 5:23</a> | 80% | <mark>וַי</mark>ְה<mark>ִ</mark>֖<mark>י</mark><mark> כָּל־יְמֵ֣י </mark>חֲ<mark>נֹ</mark>֑<mark>ו</mark>ךְ<mark> חָמֵ</mark>֤<mark>שׁ</mark> וְשִׁשִּׁים֙<mark> שָׁנ</mark>ָ<mark>֔</mark>ה<mark> וּ</mark><mark>שׁ</mark>ְלֹ<mark>֥</mark>שׁ<mark> מֵאֹ֖ות שָׁנָ</mark>ֽ<mark>ה</mark><mark>׃ </mark> |\n",
       "| <a href=\"https://www.stepbible.org/?q=version=NASB2020%7Creference=Genesis.5:27&options=HNVUG\" target=\"_blank\">Genesis 5:27</a> | 83% | <mark>וַיִּ</mark><mark>הְיוּ֙ כָּל־יְמֵ֣י </mark>מְת<mark>ו</mark>ּ<mark>שׁ</mark>ֶ֔לַח<mark> </mark>תּ<mark>ֵ</mark>֤<mark>שׁ</mark>ַע וְשִׁשִּׁים֙<mark> שָׁנ</mark>ָ<mark>֔</mark>ה<mark> וּתְשַׁ֥ע מֵאֹ֖ות שָׁנָ֑ה וַיָּמֹֽת׃ </mark>פ<mark> </mark> |\n",
       "| <a href=\"https://www.stepbible.org/?q=version=NASB2020%7Creference=Genesis.5:31&options=HNVUG\" target=\"_blank\">Genesis 5:31</a> | 81% | <mark>וַ</mark>ֽ<mark>י</mark>ְה<mark>ִ</mark><mark>י</mark><mark>֙ כָּל־יְמֵ</mark><mark>י</mark>־לֶ֔מֶךְ<mark> </mark><mark>שׁ</mark>ֶ֤בַע<mark> </mark>וְ<mark>שׁ</mark>ִבְעִים֙<mark> שָׁנ</mark>ָ<mark>֔</mark>ה<mark> וּ</mark><mark>שׁ</mark>ְב<mark>ַ֥ע מֵאֹ֖ות שָׁנָ֑ה וַיָּמֹֽת׃ ס </mark> |\n",
       "| <a href=\"https://www.stepbible.org/?q=version=NASB2020%7Creference=Genesis.9:29&options=HNVUG\" target=\"_blank\">Genesis 9:29</a> | 79% | <mark>וַיִּֽהְיוּ֙ כָּל־יְמֵ</mark><mark>י</mark>־<mark>נֹ֔</mark>חַ<mark> </mark>ת<mark>ּ</mark><mark>ְשַׁ</mark>֤<mark>ע מֵאֹ</mark><mark>ות</mark>֙ שָׁנָ֔ה וַחֲמִשִּׁ֖ים<mark> שָׁנָ֑ה וַיָּמֹֽת׃ </mark>פ<mark> </mark> |\n"
      ],
      "text/plain": [
       "<IPython.core.display.Markdown object>"
      ]
     },
     "metadata": {},
     "output_type": "display_data"
    },
    {
     "data": {
      "text/markdown": [],
      "text/plain": [
       "<IPython.core.display.Markdown object>"
      ]
     },
     "metadata": {},
     "output_type": "display_data"
    },
    {
     "data": {
      "text/markdown": [
       "#### Cross-references for <a href=\"https://www.stepbible.org/?q=version=NASB2020%7Creference=Genesis.5:13&options=HNVUG\" target=\"_blank\">Genesis 5:13</a>\n",
       " ##### וַיְחִ֣י קֵינָ֗ן אַחֲרֵי֙ הֹולִידֹ֣ו אֶת־מַֽהֲלַלְאֵ֔ל אַרְבָּעִ֣ים שָׁנָ֔ה וּשְׁמֹנֶ֥ה מֵאֹ֖ות שָׁנָ֑ה וַיֹּ֥ולֶד בָּנִ֖ים וּבָנֹֽות׃ \n",
       "| Reference | Match | Text |\n",
       "| --- | --- | --- |\n",
       "| <a href=\"https://www.stepbible.org/?q=version=NASB2020%7Creference=Genesis.5:4&options=HNVUG\" target=\"_blank\">Genesis 5:4</a> | 75% | <mark>וַי</mark>ִּֽה<mark>ְ</mark>י<mark>֣</mark>וּ <mark>י</mark>ְמ<mark>ֵי</mark>־אָד<mark>ָ֗</mark>ם<mark> אַ</mark>ֽ<mark>חֲרֵי֙ הֹולִידֹ֣ו אֶת־</mark>שׁ<mark>ֵ֔</mark>ת<mark> </mark><mark>שְׁמֹנֶ֥ה מֵאֹ֖</mark><mark>ת שָׁנָ֑ה וַיֹּ֥ולֶד בָּנִ֖ים וּבָנֹֽות׃ </mark> |\n",
       "| <a href=\"https://www.stepbible.org/?q=version=NASB2020%7Creference=Genesis.5:7&options=HNVUG\" target=\"_blank\">Genesis 5:7</a> | 85% | <mark>וַ</mark>ֽ<mark>יְחִ</mark><mark>י</mark>־שׁ<mark>ֵ</mark><mark>֗</mark>ת<mark> אַ</mark>ֽ<mark>חֲרֵי֙ הֹולִידֹ֣ו אֶת־</mark>אֱנֹ֔ושׁ שֶׁ֣ב<mark>ַ</mark><mark>ע</mark><mark> שָׁנ</mark>ִ<mark>֔</mark>ים<mark> וּשְׁמֹנֶ֥ה מֵאֹ֖ות שָׁנָ֑ה וַיֹּ֥ולֶד בָּנִ֖ים וּבָנֹֽות׃ </mark> |\n",
       "| <a href=\"https://www.stepbible.org/?q=version=NASB2020%7Creference=Genesis.5:10&options=HNVUG\" target=\"_blank\">Genesis 5:10</a> | 82% | <mark>וַ</mark>ֽ<mark>יְחִ֣י </mark>אֱ<mark>נ</mark>ֹ<mark>֗</mark>ושׁ<mark> אַ</mark>ֽ<mark>חֲרֵי֙ הֹולִידֹ֣ו אֶת־</mark>קֵינָ֔ן חֲ<mark>מ</mark>ֵ֤שׁ עֶשְׂרֵ<mark>ה</mark>֙<mark> שָׁנָ֔ה וּשְׁמֹנֶ֥ה מֵאֹ֖ות שָׁנָ֑ה וַיֹּ֥ולֶד בָּנִ֖ים וּבָנֹֽות׃ </mark> |\n",
       "| <a href=\"https://www.stepbible.org/?q=version=NASB2020%7Creference=Genesis.5:16&options=HNVUG\" target=\"_blank\">Genesis 5:16</a> | 78% | <mark>וַ</mark>ֽ<mark>יְחִ֣י </mark>מַֽהֲלַלְא<mark>ֵ</mark><mark>֗</mark>ל<mark> אַ</mark>ֽ<mark>חֲרֵי֙ הֹולִידֹ֣ו אֶת־</mark>יֶ֔רֶד שְׁ<mark>ל</mark>ֹשׁ<mark>ִ֣ים שָׁנָ֔ה וּשְׁמֹנֶ֥ה מֵאֹ֖ות שָׁנָ֑ה וַיֹּ֥ולֶד בָּנִ֖ים וּבָנֹֽות׃ </mark> |\n",
       "| <a href=\"https://www.stepbible.org/?q=version=NASB2020%7Creference=Genesis.5:19&options=HNVUG\" target=\"_blank\">Genesis 5:19</a> | 78% | <mark>וַ</mark>ֽ<mark>יְחִ</mark><mark>י</mark>־<mark>י</mark>ֶ<mark>֗</mark>רֶד<mark> אַ</mark>ֽ<mark>חֲרֵי֙ הֹולִידֹ֣ו אֶת־</mark>ח<mark>ֲ</mark>נֹ֔וך<mark>ְ</mark><mark> </mark><mark>שְׁמֹנֶ֥ה מֵאֹ֖ות שָׁנָ֑ה וַיֹּ֥ולֶד בָּנִ֖ים וּבָנֹֽות׃ </mark> |\n",
       "| <a href=\"https://www.stepbible.org/?q=version=NASB2020%7Creference=Genesis.5:30&options=HNVUG\" target=\"_blank\">Genesis 5:30</a> | 76% | <mark>וַ</mark>ֽ<mark>יְחִ</mark><mark>י</mark>־לֶ<mark>֗</mark>מֶךְ<mark> אַ</mark>ֽ<mark>חֲרֵי֙ הֹולִידֹ֣ו אֶת־</mark>נֹ֔חַ חָ<mark>מ</mark>ֵ֤שׁ ו<mark>ְ</mark>תִשׁ<mark>ְ</mark><mark>עִ</mark><mark>ים</mark>֙<mark> שָׁנָ֔ה ו</mark>ַחֲמֵ֥<mark>שׁ</mark><mark> מֵאֹ֖</mark><mark>ת שָׁנָ֑ה וַיֹּ֥ולֶד בָּנִ֖ים וּבָנֹֽות׃ </mark> |\n",
       "| <a href=\"https://www.stepbible.org/?q=version=NASB2020%7Creference=Genesis.11:19&options=HNVUG\" target=\"_blank\">Genesis 11:19</a> | 80% | <mark>וַ</mark>ֽ<mark>יְחִ</mark><mark>י</mark>־פֶ<mark>֗</mark>לֶג<mark> אַחֲרֵי֙ הֹולִידֹ֣ו אֶת־</mark><mark>רְ</mark>ע֔ו<mark>ּ</mark> תֵּ֥שַׁ<mark>ע</mark><mark> שָׁנ</mark>ִ֖ים<mark> וּ</mark><mark>מ</mark>ָ<mark>א</mark><mark>ת</mark>ַ֣יִם<mark> שָׁנָ֑ה וַיֹּ֥ולֶד בָּנִ֖ים וּבָנֹֽות׃ </mark>ס  |\n",
       "| <a href=\"https://www.stepbible.org/?q=version=NASB2020%7Creference=Genesis.11:21&options=HNVUG\" target=\"_blank\">Genesis 11:21</a> | 78% | <mark>וַיְחִ֣י </mark>רְע<mark>֗</mark>וּ<mark> אַחֲרֵי֙ הֹולִידֹ֣ו אֶת־</mark>שְׂר֔וּג שֶׁ֥ב<mark>ַ</mark><mark>ע</mark><mark> שָׁנ</mark>ִ֖ים<mark> וּ</mark><mark>מ</mark>ָ<mark>א</mark><mark>ת</mark>ַ֣יִם<mark> שָׁנָ֑ה וַיֹּ֥ולֶד בָּנִ֖ים וּבָנֹֽות׃ </mark>ס  |\n",
       "| <a href=\"https://www.stepbible.org/?q=version=NASB2020%7Creference=Genesis.11:25&options=HNVUG\" target=\"_blank\">Genesis 11:25</a> | 77% | <mark>וַיְחִ֣י </mark><mark>נָ</mark>חֹ<mark>֗</mark>ור<mark> אַחֲרֵי֙ הֹולִידֹ֣ו אֶת־</mark>תֶּ֔רַח תְּשׁ<mark>ַֽ</mark>ע־עֶשְׂרֵ֥<mark>ה</mark><mark> שָׁנָ</mark>֖<mark>ה וּ</mark>מ<mark>ְ</mark><mark>א</mark>ַ֣<mark>ת שָׁנָ֑ה וַיֹּ֥ולֶד בָּנִ֖ים וּבָנֹֽות׃ </mark>ס  |\n"
      ],
      "text/plain": [
       "<IPython.core.display.Markdown object>"
      ]
     },
     "metadata": {},
     "output_type": "display_data"
    },
    {
     "data": {
      "text/markdown": [
       "#### Cross-references for <a href=\"https://www.stepbible.org/?q=version=NASB2020%7Creference=Genesis.5:14&options=HNVUG\" target=\"_blank\">Genesis 5:14</a>\n",
       " ##### וַיִּֽהְיוּ֙ כָּל־יְמֵ֣י קֵינָ֔ן עֶ֣שֶׂר שָׁנִ֔ים וּתְשַׁ֥ע מֵאֹ֖ות שָׁנָ֑ה וַיָּמֹֽת׃ ס \n",
       "| Reference | Match | Text |\n",
       "| --- | --- | --- |\n",
       "| <a href=\"https://www.stepbible.org/?q=version=NASB2020%7Creference=Genesis.5:8&options=HNVUG\" target=\"_blank\">Genesis 5:8</a> | 89% | <mark>וַיִּֽהְיוּ֙ כָּל־יְמֵ</mark><mark>י</mark>־שֵׁ֔ת<mark> </mark>שְׁתּ<mark>ֵ</mark>֤<mark>י</mark>ם<mark> עֶ</mark><mark>שׂ</mark>ְ<mark>ר</mark>ֵה֙<mark> שָׁנ</mark>ָ<mark>֔</mark>ה<mark> וּתְשַׁ֥ע מֵאֹ֖ות שָׁנָ֑ה וַיָּמֹֽת׃ ס </mark> |\n",
       "| <a href=\"https://www.stepbible.org/?q=version=NASB2020%7Creference=Genesis.5:11&options=HNVUG\" target=\"_blank\">Genesis 5:11</a> | 86% | <mark>וַיִּֽהְיוּ֙ כָּל־יְמֵ֣י </mark>אֱנֹ֔ושׁ חָמ<mark>ֵ</mark><mark>֣ש</mark>ׁ<mark> שָׁנִ֔ים וּתְשַׁ֥ע מֵאֹ֖ות שָׁנָ֑ה וַיָּמֹֽת׃ ס </mark> |\n",
       "| <a href=\"https://www.stepbible.org/?q=version=NASB2020%7Creference=Genesis.5:20&options=HNVUG\" target=\"_blank\">Genesis 5:20</a> | 82% | <mark>וַיִּֽהְיוּ֙ כָּל־יְמֵ</mark><mark>י</mark>־יֶ֔רֶד<mark> </mark>שְׁתַּ֤<mark>י</mark>ִם<mark> </mark>וְ<mark>ש</mark>ִׁשִּׁים֙<mark> שָׁנ</mark>ָ<mark>֔</mark>ה<mark> וּתְשַׁ֥ע מֵאֹ֖ות שָׁנָ֑ה וַיָּמֹֽת׃ </mark>פ<mark> </mark> |\n",
       "| <a href=\"https://www.stepbible.org/?q=version=NASB2020%7Creference=Genesis.5:27&options=HNVUG\" target=\"_blank\">Genesis 5:27</a> | 79% | <mark>וַיִּ</mark><mark>הְיוּ֙ כָּל־יְמֵ֣י </mark>מְתוּשֶׁ֔לַח תּ<mark>ֵ</mark>֤שַׁע וְשִׁשִּׁ<mark>י</mark>ם֙<mark> שָׁנ</mark>ָ<mark>֔</mark>ה<mark> וּתְשַׁ֥ע מֵאֹ֖ות שָׁנָ֑ה וַיָּמֹֽת׃ </mark>פ<mark> </mark> |\n",
       "| <a href=\"https://www.stepbible.org/?q=version=NASB2020%7Creference=Genesis.5:31&options=HNVUG\" target=\"_blank\">Genesis 5:31</a> | 77% | <mark>וַ</mark>ֽ<mark>י</mark>ְה<mark>ִ</mark><mark>י</mark><mark>֙ כָּל־יְמֵ</mark><mark>י</mark>־לֶ֔מֶךְ<mark> </mark>שֶׁ֤בַע וְשִׁבְעִ<mark>י</mark>ם֙<mark> שָׁנ</mark>ָ<mark>֔</mark>ה<mark> וּ</mark><mark>שׁ</mark>ְב<mark>ַ֥ע מֵאֹ֖ות שָׁנָ֑ה וַיָּמֹֽת׃ ס </mark> |\n"
      ],
      "text/plain": [
       "<IPython.core.display.Markdown object>"
      ]
     },
     "metadata": {},
     "output_type": "display_data"
    },
    {
     "data": {
      "text/markdown": [],
      "text/plain": [
       "<IPython.core.display.Markdown object>"
      ]
     },
     "metadata": {},
     "output_type": "display_data"
    },
    {
     "data": {
      "text/markdown": [
       "#### Cross-references for <a href=\"https://www.stepbible.org/?q=version=NASB2020%7Creference=Genesis.5:16&options=HNVUG\" target=\"_blank\">Genesis 5:16</a>\n",
       " ##### וַֽיְחִ֣י מַֽהֲלַלְאֵ֗ל אַֽחֲרֵי֙ הֹולִידֹ֣ו אֶת־יֶ֔רֶד שְׁלֹשִׁ֣ים שָׁנָ֔ה וּשְׁמֹנֶ֥ה מֵאֹ֖ות שָׁנָ֑ה וַיֹּ֥ולֶד בָּנִ֖ים וּבָנֹֽות׃ \n",
       "| Reference | Match | Text |\n",
       "| --- | --- | --- |\n",
       "| <a href=\"https://www.stepbible.org/?q=version=NASB2020%7Creference=Genesis.5:4&options=HNVUG\" target=\"_blank\">Genesis 5:4</a> | 78% | <mark>וַ</mark>יִּ<mark>ֽ</mark>הְי֣וּ <mark>יְ</mark>מֵ<mark>י</mark>־<mark>א</mark>ָדָ<mark>֗</mark>ם<mark> אַֽחֲרֵי֙ הֹולִידֹ֣ו אֶת־</mark><mark>שׁ</mark>ֵ֔ת<mark> </mark><mark>שְׁמֹנֶ֥ה מֵאֹ֖</mark><mark>ת שָׁנָ֑ה וַיֹּ֥ולֶד בָּנִ֖ים וּבָנֹֽות׃ </mark> |\n",
       "| <a href=\"https://www.stepbible.org/?q=version=NASB2020%7Creference=Genesis.5:7&options=HNVUG\" target=\"_blank\">Genesis 5:7</a> | 84% | <mark>וַֽיְחִ</mark><mark>י</mark>־שׁ<mark>ֵ֗</mark>ת<mark> אַֽחֲרֵי֙ הֹולִידֹ֣ו אֶת־</mark>אֱנֹ<mark>֔</mark>ושׁ<mark> שׁ</mark>ֶ<mark>֣</mark>בַע<mark> שָׁנ</mark>ִ<mark>֔</mark>ים<mark> וּשְׁמֹנֶ֥ה מֵאֹ֖ות שָׁנָ֑ה וַיֹּ֥ולֶד בָּנִ֖ים וּבָנֹֽות׃ </mark> |\n",
       "| <a href=\"https://www.stepbible.org/?q=version=NASB2020%7Creference=Genesis.5:10&options=HNVUG\" target=\"_blank\">Genesis 5:10</a> | 79% | <mark>וַֽיְחִ֣י </mark><mark>א</mark>ֱנֹ<mark>֗</mark>ושׁ<mark> אַֽחֲרֵי֙ הֹולִידֹ֣ו אֶת־</mark>קֵ<mark>י</mark>נָ<mark>֔</mark>ן<mark> </mark>חֲמֵ֤<mark>שׁ</mark> עֶשׂ<mark>ְ</mark>רֵה֙<mark> שָׁנָ֔ה וּשְׁמֹנֶ֥ה מֵאֹ֖ות שָׁנָ֑ה וַיֹּ֥ולֶד בָּנִ֖ים וּבָנֹֽות׃ </mark> |\n",
       "| <a href=\"https://www.stepbible.org/?q=version=NASB2020%7Creference=Genesis.5:13&options=HNVUG\" target=\"_blank\">Genesis 5:13</a> | 78% | <mark>וַ</mark><mark>יְחִ֣י </mark>ק<mark>ֵ</mark>ינָ<mark>֗</mark>ן<mark> אַ</mark><mark>חֲרֵי֙ הֹולִידֹ֣ו אֶת־</mark>מַֽהֲלַלְאֵ<mark>֔</mark>ל אַ<mark>ר</mark><mark>ְ</mark>בָּע<mark>ִ֣ים שָׁנָ֔ה וּשְׁמֹנֶ֥ה מֵאֹ֖ות שָׁנָ֑ה וַיֹּ֥ולֶד בָּנִ֖ים וּבָנֹֽות׃ </mark> |\n",
       "| <a href=\"https://www.stepbible.org/?q=version=NASB2020%7Creference=Genesis.5:19&options=HNVUG\" target=\"_blank\">Genesis 5:19</a> | 78% | <mark>וַֽיְחִ</mark><mark>י</mark>־יֶ<mark>֗</mark>רֶד<mark> אַֽחֲרֵי֙ הֹולִידֹ֣ו אֶת־</mark>חֲנֹ<mark>֔</mark>וךְ<mark> </mark><mark>שְׁמֹנֶ֥ה מֵאֹ֖ות שָׁנָ֑ה וַיֹּ֥ולֶד בָּנִ֖ים וּבָנֹֽות׃ </mark> |\n",
       "| <a href=\"https://www.stepbible.org/?q=version=NASB2020%7Creference=Genesis.5:26&options=HNVUG\" target=\"_blank\">Genesis 5:26</a> | 79% | <mark>וַֽיְחִ֣י מ</mark>ְתוּשֶׁ֗<mark>לַ</mark>ח<mark> אַֽחֲרֵי֙ הֹולִידֹ֣ו אֶת־</mark>ל<mark>ֶ֔</mark>מ<mark>ֶ</mark>ךְ<mark> שְׁ</mark>תַּ֤יִם וּ<mark>שׁ</mark>ְמֹונ<mark>ִ</mark><mark>ים</mark>֙<mark> שָׁנָ֔ה וּשְׁ</mark>בַ<mark>֥</mark>ע<mark> מֵאֹ֖ות שָׁנָ֑ה וַיֹּ֥ולֶד בָּנִ֖ים וּבָנֹֽות׃ </mark> |\n",
       "| <a href=\"https://www.stepbible.org/?q=version=NASB2020%7Creference=Genesis.5:30&options=HNVUG\" target=\"_blank\">Genesis 5:30</a> | 78% | <mark>וַֽיְחִ</mark><mark>י</mark>־לֶ֗<mark>מ</mark>ֶך<mark>ְ</mark><mark> אַֽחֲרֵי֙ הֹולִידֹ֣ו אֶת־</mark>נֹ<mark>֔</mark>חַ<mark> </mark>חָמֵ֤שׁ וְתִ<mark>שְׁ</mark>ע<mark>ִ</mark><mark>ים</mark>֙<mark> שָׁנָ֔ה ו</mark>ַחֲמֵ֥<mark>שׁ</mark><mark> מֵאֹ֖</mark><mark>ת שָׁנָ֑ה וַיֹּ֥ולֶד בָּנִ֖ים וּבָנֹֽות׃ </mark> |\n",
       "| <a href=\"https://www.stepbible.org/?q=version=NASB2020%7Creference=Genesis.11:11&options=HNVUG\" target=\"_blank\">Genesis 11:11</a> | 76% | <mark>וַֽיְחִ</mark><mark>י</mark>־שׁ<mark>ֵ֗</mark>ם<mark> אַֽחֲרֵי֙ הֹולִידֹ֣ו אֶת־</mark>אַ<mark>ר</mark><mark>ְ</mark>פַּכְ<mark>שָׁ</mark><mark>֔</mark>ד<mark> </mark>חֲמֵ֥<mark>שׁ</mark><mark> מֵאֹ֖ות שָׁנָ֑ה וַיֹּ֥ולֶד בָּנִ֖ים וּבָנֹֽות׃ </mark>ס  |\n",
       "| <a href=\"https://www.stepbible.org/?q=version=NASB2020%7Creference=Genesis.11:13&options=HNVUG\" target=\"_blank\">Genesis 11:13</a> | 77% | <mark>וַֽיְחִ֣י </mark>א<mark>ַ</mark>רְפּ<mark>ַ</mark>כ<mark>ְ</mark>שַׁ<mark>֗</mark>ד<mark> אַֽחֲרֵי֙ הֹולִידֹ֣ו אֶת־</mark>שׁ<mark>ֶ֔</mark>לַח<mark> שׁ</mark>ָ<mark>לֹ</mark>֣<mark>שׁ</mark><mark> שָׁנ</mark>ִ<mark>֔</mark>ים<mark> ו</mark>ְאַרְב<mark>ּ</mark>ַ<mark>֥</mark>ע<mark> מֵאֹ֖ות שָׁנָ֑ה וַיֹּ֥ולֶד בָּנִ֖ים וּבָנֹֽות׃ </mark>ס  |\n",
       "| <a href=\"https://www.stepbible.org/?q=version=NASB2020%7Creference=Genesis.11:15&options=HNVUG\" target=\"_blank\">Genesis 11:15</a> | 83% | <mark>וַֽיְחִ</mark><mark>י</mark>־שֶׁ֗<mark>לַ</mark>ח<mark> אַ</mark><mark>חֲרֵי֙ הֹולִידֹ֣ו אֶת־</mark>עֵ֔ב<mark>ֶ</mark><mark>ר</mark><mark> שׁ</mark>ָ<mark>לֹ</mark>֣<mark>שׁ</mark><mark> שָׁנ</mark>ִ<mark>֔</mark>ים<mark> ו</mark>ְאַרְב<mark>ּ</mark>ַ<mark>֥</mark>ע<mark> מֵאֹ֖ות שָׁנָ֑ה וַיֹּ֥ולֶד בָּנִ֖ים וּבָנֹֽות׃ </mark>ס  |\n",
       "| <a href=\"https://www.stepbible.org/?q=version=NASB2020%7Creference=Genesis.11:17&options=HNVUG\" target=\"_blank\">Genesis 11:17</a> | 79% | <mark>וַֽיְחִ</mark><mark>י</mark>־ע<mark>ֵ֗</mark>בֶר<mark> אַ</mark><mark>חֲרֵי֙ הֹולִידֹ֣ו אֶת־</mark>פּ<mark>ֶ֔</mark>ל<mark>ֶ</mark>ג<mark> שְׁלֹשִׁ֣ים שָׁנָ֔ה ו</mark>ְאַרְב<mark>ּ</mark>ַ<mark>֥</mark>ע<mark> מֵאֹ֖ות שָׁנָ֑ה וַיֹּ֥ולֶד בָּנִ֖ים וּבָנֹֽות׃ </mark>ס  |\n",
       "| <a href=\"https://www.stepbible.org/?q=version=NASB2020%7Creference=Genesis.11:19&options=HNVUG\" target=\"_blank\">Genesis 11:19</a> | 81% | <mark>וַֽיְחִ</mark><mark>י</mark>־פֶ<mark>֗ל</mark>ֶג<mark> אַ</mark><mark>חֲרֵי֙ הֹולִידֹ֣ו אֶת־</mark>רְע<mark>֔</mark>וּ<mark> </mark>תֵּ֥<mark>שׁ</mark>ַע<mark> שָׁנ</mark>ִ֖ים<mark> וּ</mark><mark>מ</mark>ָ<mark>א</mark><mark>ת</mark>ַ֣יִם<mark> שָׁנָ֑ה וַיֹּ֥ולֶד בָּנִ֖ים וּבָנֹֽות׃ </mark>ס  |\n",
       "| <a href=\"https://www.stepbible.org/?q=version=NASB2020%7Creference=Genesis.11:21&options=HNVUG\" target=\"_blank\">Genesis 11:21</a> | 79% | <mark>וַ</mark><mark>יְחִ֣י </mark>ר<mark>ְ</mark>ע<mark>֗</mark>וּ<mark> אַ</mark><mark>חֲרֵי֙ הֹולִידֹ֣ו אֶת־</mark>שְׂר<mark>֔</mark>וּג<mark> שׁ</mark>ֶ֥בַע<mark> שָׁנ</mark>ִ֖ים<mark> וּ</mark><mark>מ</mark>ָ<mark>א</mark><mark>ת</mark>ַ֣יִם<mark> שָׁנָ֑ה וַיֹּ֥ולֶד בָּנִ֖ים וּבָנֹֽות׃ </mark>ס  |\n",
       "| <a href=\"https://www.stepbible.org/?q=version=NASB2020%7Creference=Genesis.11:25&options=HNVUG\" target=\"_blank\">Genesis 11:25</a> | 78% | <mark>וַ</mark><mark>יְחִ֣י </mark>נָחֹ<mark>֗</mark>ור<mark> אַ</mark><mark>חֲרֵי֙ הֹולִידֹ֣ו אֶת־</mark>תּ<mark>ֶ֔ר</mark>ַח<mark> </mark>תְּ<mark>שׁ</mark>ַֽע־עֶשׂ<mark>ְ</mark>רֵ֥ה<mark> שָׁנָ</mark>֖<mark>ה וּ</mark>מ<mark>ְ</mark><mark>א</mark>ַ֣<mark>ת שָׁנָ֑ה וַיֹּ֥ולֶד בָּנִ֖ים וּבָנֹֽות׃ </mark>ס  |\n"
      ],
      "text/plain": [
       "<IPython.core.display.Markdown object>"
      ]
     },
     "metadata": {},
     "output_type": "display_data"
    },
    {
     "data": {
      "text/markdown": [
       "#### Cross-references for <a href=\"https://www.stepbible.org/?q=version=NASB2020%7Creference=Genesis.5:17&options=HNVUG\" target=\"_blank\">Genesis 5:17</a>\n",
       " ##### וַיִּהְיוּ֙ כָּל־יְמֵ֣י מַהֲלַלְאֵ֔ל חָמֵ֤שׁ וְתִשְׁעִים֙ שָׁנָ֔ה וּשְׁמֹנֶ֥ה מֵאֹ֖ות שָׁנָ֑ה וַיָּמֹֽת׃ ס \n",
       "| Reference | Match | Text |\n",
       "| --- | --- | --- |\n",
       "| <a href=\"https://www.stepbible.org/?q=version=NASB2020%7Creference=Genesis.5:11&options=HNVUG\" target=\"_blank\">Genesis 5:11</a> | 78% | <mark>וַיִּ</mark>ֽ<mark>הְיוּ֙ כָּל־יְמֵ֣י </mark><mark>א</mark>ֱנֹ<mark>֔</mark>ושׁ<mark> חָמֵ</mark>֣<mark>שׁ</mark><mark> שָׁנ</mark>ִ<mark>֔</mark>ים<mark> וּ</mark>תְ<mark>שׁ</mark>ַ<mark>֥</mark>ע<mark> מֵאֹ֖ות שָׁנָ֑ה וַיָּמֹֽת׃ ס </mark> |\n",
       "| <a href=\"https://www.stepbible.org/?q=version=NASB2020%7Creference=Genesis.5:27&options=HNVUG\" target=\"_blank\">Genesis 5:27</a> | 79% | <mark>וַיִּהְיוּ֙ כָּל־יְמֵ֣י מ</mark>ְתוּשֶׁ֔<mark>לַ</mark>ח<mark> </mark>תּ<mark>ֵ֤שׁ</mark>ַע<mark> וְ</mark>שׁ<mark>ִשׁ</mark>ּ<mark>ִים֙ שָׁנָ֔ה וּ</mark>תְ<mark>שׁ</mark>ַ<mark>֥</mark>ע<mark> מֵאֹ֖ות שָׁנָ֑ה וַיָּמֹֽת׃ </mark>פ<mark> </mark> |\n",
       "| <a href=\"https://www.stepbible.org/?q=version=NASB2020%7Creference=Genesis.5:31&options=HNVUG\" target=\"_blank\">Genesis 5:31</a> | 78% | <mark>וַ</mark>ֽ<mark>י</mark>ְה<mark>ִ</mark><mark>י</mark><mark>֙ כָּל־יְמֵ</mark><mark>י</mark>־לֶ֔מֶךְ<mark> </mark><mark>שׁ</mark>ֶ֤בַע<mark> וְ</mark><mark>שׁ</mark>ִב<mark>ְעִים֙ שָׁנָ֔ה וּשְׁ</mark>בַ<mark>֥</mark>ע<mark> מֵאֹ֖ות שָׁנָ֑ה וַיָּמֹֽת׃ ס </mark> |\n",
       "| <a href=\"https://www.stepbible.org/?q=version=NASB2020%7Creference=Genesis.9:29&options=HNVUG\" target=\"_blank\">Genesis 9:29</a> | 78% | <mark>וַיִּ</mark>ֽ<mark>הְיוּ֙ כָּל־יְמֵ</mark><mark>י</mark>־נֹ֔חַ תְּשַׁ֤ע<mark> מ</mark>ֵ<mark>א</mark>ֹ<mark>ו</mark><mark>ת</mark><mark>֙ שָׁנָ֔ה ו</mark>ַחֲמִ<mark>שׁ</mark>ִּ<mark>֖</mark>ים<mark> שָׁנָ֑ה וַיָּמֹֽת׃ </mark>פ<mark> </mark> |\n"
      ],
      "text/plain": [
       "<IPython.core.display.Markdown object>"
      ]
     },
     "metadata": {},
     "output_type": "display_data"
    },
    {
     "data": {
      "text/markdown": [
       "#### Cross-references for <a href=\"https://www.stepbible.org/?q=version=NASB2020%7Creference=Genesis.5:18&options=HNVUG\" target=\"_blank\">Genesis 5:18</a>\n",
       " ##### וַֽיְחִי־יֶ֕רֶד שְׁתַּ֧יִם וְשִׁשִּׁ֛ים שָׁנָ֖ה וּמְאַ֣ת שָׁנָ֑ה וַיֹּ֖ולֶד אֶת־חֲנֹֽוךְ׃ \n",
       "| Reference | Match | Text |\n",
       "| --- | --- | --- |\n",
       "| <a href=\"https://www.stepbible.org/?q=version=NASB2020%7Creference=Genesis.5:6&options=HNVUG\" target=\"_blank\">Genesis 5:6</a> | 80% | <mark>וַֽיְחִי־</mark><mark>שׁ</mark>ֵ֕<mark>ת</mark><mark> </mark>חָמֵ֥<mark>שׁ</mark><mark> שָׁנ</mark>ִ<mark>֖</mark>ים<mark> וּמְאַ֣ת שָׁנָ֑ה וַיֹּ֖ולֶד אֶת־</mark>אֱ<mark>נֹֽו</mark>שׁ<mark>׃ </mark> |\n",
       "| <a href=\"https://www.stepbible.org/?q=version=NASB2020%7Creference=Genesis.5:28&options=HNVUG\" target=\"_blank\">Genesis 5:28</a> | 78% | <mark>וַֽיְחִי־</mark>ל<mark>ֶ֕</mark>מ<mark>ֶ</mark>ךְ<mark> שְׁתַּ֧יִם ו</mark>ּ<mark>שׁ</mark>ְמֹנ<mark>ִ֛ים שָׁנָ֖ה וּמְאַ֣ת שָׁנָ֑ה וַיֹּ֖ולֶד </mark>בֵּ<mark>ֽ</mark>ן<mark>׃ </mark> |\n"
      ],
      "text/plain": [
       "<IPython.core.display.Markdown object>"
      ]
     },
     "metadata": {},
     "output_type": "display_data"
    },
    {
     "data": {
      "text/markdown": [
       "#### Cross-references for <a href=\"https://www.stepbible.org/?q=version=NASB2020%7Creference=Genesis.5:19&options=HNVUG\" target=\"_blank\">Genesis 5:19</a>\n",
       " ##### וַֽיְחִי־יֶ֗רֶד אַֽחֲרֵי֙ הֹולִידֹ֣ו אֶת־חֲנֹ֔וךְ שְׁמֹנֶ֥ה מֵאֹ֖ות שָׁנָ֑ה וַיֹּ֥ולֶד בָּנִ֖ים וּבָנֹֽות׃ \n",
       "| Reference | Match | Text |\n",
       "| --- | --- | --- |\n",
       "| <a href=\"https://www.stepbible.org/?q=version=NASB2020%7Creference=Genesis.5:4&options=HNVUG\" target=\"_blank\">Genesis 5:4</a> | 86% | <mark>וַ</mark>יִּ<mark>ֽ</mark>הְי֣וּ <mark>יְ</mark>מֵ<mark>י־</mark>אָדָ<mark>֗</mark>ם<mark> אַֽחֲרֵי֙ הֹולִידֹ֣ו אֶת־</mark>שֵׁ<mark>֔</mark>ת<mark> שְׁמֹנֶ֥ה מֵאֹ֖</mark><mark>ת שָׁנָ֑ה וַיֹּ֥ולֶד בָּנִ֖ים וּבָנֹֽות׃ </mark> |\n",
       "| <a href=\"https://www.stepbible.org/?q=version=NASB2020%7Creference=Genesis.5:7&options=HNVUG\" target=\"_blank\">Genesis 5:7</a> | 82% | <mark>וַֽיְחִי־</mark>שֵׁ<mark>֗</mark>ת<mark> אַֽחֲרֵי֙ הֹולִידֹ֣ו אֶת־</mark>אֱ<mark>נֹ֔ו</mark>שׁ<mark> </mark>שֶׁ֣בַע שָׁנִ֔ים וּ<mark>שְׁמֹנֶ֥ה מֵאֹ֖ות שָׁנָ֑ה וַיֹּ֥ולֶד בָּנִ֖ים וּבָנֹֽות׃ </mark> |\n",
       "| <a href=\"https://www.stepbible.org/?q=version=NASB2020%7Creference=Genesis.5:10&options=HNVUG\" target=\"_blank\">Genesis 5:10</a> | 79% | <mark>וַֽיְחִ</mark>֣<mark>י</mark> אֱנֹ<mark>֗</mark>ושׁ<mark> אַֽחֲרֵי֙ הֹולִידֹ֣ו אֶת־</mark>קֵינָ֔ן <mark>חֲ</mark>מֵ֤שׁ עֶשְׂרֵה֙ שָׁ<mark>נ</mark>ָ<mark>֔</mark>ה <mark>ו</mark>ּ<mark>שְׁמֹנֶ֥ה מֵאֹ֖ות שָׁנָ֑ה וַיֹּ֥ולֶד בָּנִ֖ים וּבָנֹֽות׃ </mark> |\n",
       "| <a href=\"https://www.stepbible.org/?q=version=NASB2020%7Creference=Genesis.5:13&options=HNVUG\" target=\"_blank\">Genesis 5:13</a> | 78% | <mark>וַ</mark><mark>יְחִ</mark>֣<mark>י</mark> קֵ<mark>י</mark>נָ<mark>֗</mark>ן<mark> אַ</mark><mark>חֲרֵי֙ הֹולִידֹ֣ו אֶת־</mark>מַֽה<mark>ֲ</mark>לַלְאֵ֔ל אַרְבָּעִ֣ים שָׁ<mark>נ</mark>ָ<mark>֔</mark>ה <mark>ו</mark>ּ<mark>שְׁמֹנֶ֥ה מֵאֹ֖ות שָׁנָ֑ה וַיֹּ֥ולֶד בָּנִ֖ים וּבָנֹֽות׃ </mark> |\n",
       "| <a href=\"https://www.stepbible.org/?q=version=NASB2020%7Creference=Genesis.5:16&options=HNVUG\" target=\"_blank\">Genesis 5:16</a> | 78% | <mark>וַֽיְחִ</mark>֣<mark>י</mark> מַֽהֲלַלְאֵ<mark>֗</mark>ל<mark> אַֽחֲרֵי֙ הֹולִידֹ֣ו אֶת־</mark>יֶ֔רֶד שְׁלֹשִׁ֣ים שָׁ<mark>נ</mark>ָ<mark>֔</mark>ה <mark>ו</mark>ּ<mark>שְׁמֹנֶ֥ה מֵאֹ֖ות שָׁנָ֑ה וַיֹּ֥ולֶד בָּנִ֖ים וּבָנֹֽות׃ </mark> |\n",
       "| <a href=\"https://www.stepbible.org/?q=version=NASB2020%7Creference=Genesis.5:30&options=HNVUG\" target=\"_blank\">Genesis 5:30</a> | 76% | <mark>וַֽיְחִי־</mark>ל<mark>ֶ֗</mark>מ<mark>ֶ</mark>ךְ<mark> אַֽחֲרֵי֙ הֹולִידֹ֣ו אֶת־</mark><mark>נֹ֔</mark>חַ חָמֵ֤שׁ <mark>ו</mark><mark>ְ</mark>תִשְׁעִים֙<mark> שׁ</mark>ָנָ֔ה וַחֲ<mark>מ</mark>ֵ<mark>֥</mark>שׁ<mark> מֵאֹ֖</mark><mark>ת שָׁנָ֑ה וַיֹּ֥ולֶד בָּנִ֖ים וּבָנֹֽות׃ </mark> |\n",
       "| <a href=\"https://www.stepbible.org/?q=version=NASB2020%7Creference=Genesis.11:11&options=HNVUG\" target=\"_blank\">Genesis 11:11</a> | 81% | <mark>וַֽיְחִי־</mark>שֵׁ<mark>֗</mark>ם<mark> אַֽחֲרֵי֙ הֹולִידֹ֣ו אֶת־</mark>אַרְפַּכְשָׁ֔ד <mark>חֲ</mark>מֵ֥<mark>שׁ</mark><mark> מֵאֹ֖ות שָׁנָ֑ה וַיֹּ֥ולֶד בָּנִ֖ים וּבָנֹֽות׃ </mark>ס  |\n",
       "| <a href=\"https://www.stepbible.org/?q=version=NASB2020%7Creference=Genesis.11:13&options=HNVUG\" target=\"_blank\">Genesis 11:13</a> | 81% | <mark>וַֽיְחִ</mark>֣<mark>י</mark> אַרְפַּכְשַׁ<mark>֗</mark><mark>ד אַֽחֲרֵי֙ הֹולִידֹ֣ו אֶת־</mark>שֶׁ֔לַ<mark>ח</mark><mark> שׁ</mark>ָלֹ֣שׁ שָׁנִ֔ים ו<mark>ְ</mark>אַרְבַּ<mark>֥</mark>ע<mark> מֵאֹ֖ות שָׁנָ֑ה וַיֹּ֥ולֶד בָּנִ֖ים וּבָנֹֽות׃ </mark>ס  |\n",
       "| <a href=\"https://www.stepbible.org/?q=version=NASB2020%7Creference=Genesis.11:15&options=HNVUG\" target=\"_blank\">Genesis 11:15</a> | 76% | <mark>וַֽיְחִי־</mark>שׁ<mark>ֶ֗</mark>לַח<mark> אַ</mark><mark>חֲרֵי֙ הֹולִידֹ֣ו אֶת־</mark>עֵ<mark>֔</mark>בֶר<mark> שׁ</mark>ָלֹ֣שׁ שָׁנִ֔ים ו<mark>ְ</mark>אַרְבַּ<mark>֥</mark>ע<mark> מֵאֹ֖ות שָׁנָ֑ה וַיֹּ֥ולֶד בָּנִ֖ים וּבָנֹֽות׃ </mark>ס  |\n",
       "| <a href=\"https://www.stepbible.org/?q=version=NASB2020%7Creference=Genesis.11:17&options=HNVUG\" target=\"_blank\">Genesis 11:17</a> | 79% | <mark>וַֽיְחִי־</mark>עֵ֗ב<mark>ֶ</mark><mark>ר</mark><mark> אַ</mark><mark>חֲרֵי֙ הֹולִידֹ֣ו אֶת־</mark>פֶּ<mark>֔</mark>לֶג<mark> שְׁ</mark>ל<mark>ֹ</mark>שִׁ֣ים שָׁ<mark>נ</mark>ָ֔ה וְאַרְבַּ<mark>֥</mark>ע<mark> מֵאֹ֖ות שָׁנָ֑ה וַיֹּ֥ולֶד בָּנִ֖ים וּבָנֹֽות׃ </mark>ס  |\n",
       "| <a href=\"https://www.stepbible.org/?q=version=NASB2020%7Creference=Genesis.11:19&options=HNVUG\" target=\"_blank\">Genesis 11:19</a> | 81% | <mark>וַֽיְחִי־</mark>פ<mark>ֶ֗</mark>ל<mark>ֶ</mark>ג<mark> אַ</mark><mark>חֲרֵי֙ הֹולִידֹ֣ו אֶת־</mark>רְע<mark>֔ו</mark>ּ תֵּ֥שַׁע<mark> שׁ</mark>ָנִ֖ים וּ<mark>מ</mark>ָ<mark>א</mark><mark>ת</mark>ַ֣יִם<mark> שָׁנָ֑ה וַיֹּ֥ולֶד בָּנִ֖ים וּבָנֹֽות׃ </mark>ס  |\n",
       "| <a href=\"https://www.stepbible.org/?q=version=NASB2020%7Creference=Genesis.11:21&options=HNVUG\" target=\"_blank\">Genesis 11:21</a> | 84% | <mark>וַ</mark><mark>יְחִ</mark>֣<mark>י</mark> רְע<mark>֗</mark>וּ<mark> אַ</mark><mark>חֲרֵי֙ הֹולִידֹ֣ו אֶת־</mark>שְׂר<mark>֔ו</mark>ּג<mark> שׁ</mark><mark>ֶ֥</mark>בַע<mark> </mark>שָׁנִ֖ים וּ<mark>מ</mark>ָ<mark>א</mark><mark>ת</mark>ַ֣יִם<mark> שָׁנָ֑ה וַיֹּ֥ולֶד בָּנִ֖ים וּבָנֹֽות׃ </mark>ס  |\n",
       "| <a href=\"https://www.stepbible.org/?q=version=NASB2020%7Creference=Genesis.11:23&options=HNVUG\" target=\"_blank\">Genesis 11:23</a> | 83% | <mark>וַ</mark><mark>יְחִ</mark>֣<mark>י</mark> שְׂר<mark>֗</mark>וּג<mark> אַ</mark><mark>חֲרֵ</mark>֛<mark>י</mark><mark> הֹולִידֹ</mark>֥<mark>ו אֶת־</mark>נָ<mark>ח</mark><mark>ֹ֖ו</mark>ר מָא<mark>ת</mark>ַ֣יִם<mark> שָׁנָ֑ה וַיֹּ֥ולֶד בָּנִ֖ים וּבָנֹֽות׃ </mark>ס  |\n",
       "| <a href=\"https://www.stepbible.org/?q=version=NASB2020%7Creference=Genesis.11:25&options=HNVUG\" target=\"_blank\">Genesis 11:25</a> | 80% | <mark>וַ</mark><mark>יְחִ</mark>֣<mark>י</mark> נָחֹ<mark>֗</mark>ו<mark>ר</mark><mark> אַ</mark><mark>חֲרֵי֙ הֹולִידֹ֣ו אֶת־</mark>תֶּ֔רַ<mark>ח</mark> תּ<mark>ְ</mark>שַֽׁע־עֶשְׂרֵ֥ה<mark> שׁ</mark>ָ<mark>נ</mark>ָ֖<mark>ה </mark>וּ<mark>מ</mark>ְ<mark>א</mark>ַ֣<mark>ת שָׁנָ֑ה וַיֹּ֥ולֶד בָּנִ֖ים וּבָנֹֽות׃ </mark>ס  |\n"
      ],
      "text/plain": [
       "<IPython.core.display.Markdown object>"
      ]
     },
     "metadata": {},
     "output_type": "display_data"
    },
    {
     "data": {
      "text/markdown": [
       "#### Cross-references for <a href=\"https://www.stepbible.org/?q=version=NASB2020%7Creference=Genesis.5:20&options=HNVUG\" target=\"_blank\">Genesis 5:20</a>\n",
       " ##### וַיִּֽהְיוּ֙ כָּל־יְמֵי־יֶ֔רֶד שְׁתַּ֤יִם וְשִׁשִּׁים֙ שָׁנָ֔ה וּתְשַׁ֥ע מֵאֹ֖ות שָׁנָ֑ה וַיָּמֹֽת׃ פ \n",
       "| Reference | Match | Text |\n",
       "| --- | --- | --- |\n",
       "| <a href=\"https://www.stepbible.org/?q=version=NASB2020%7Creference=Genesis.5:5&options=HNVUG\" target=\"_blank\">Genesis 5:5</a> | 77% | <mark>וַיִּֽהְי</mark>֞<mark>וּ</mark><mark> כָּל־יְמֵ</mark>֤<mark>י</mark> אָ<mark>ד</mark>ָם֙<mark> </mark>אֲ<mark>שׁ</mark>ֶר־חַ֔י <mark>תּ</mark><mark>ְשׁ</mark>ַ֤ע מֵאֹות<mark>֙ שָׁנָ֔ה וּ</mark><mark>שׁ</mark>ְל<mark>ֹ</mark>שִׁ<mark>֖</mark>ים<mark> שָׁנָ֑ה וַיָּמֹֽת׃ </mark>ס<mark> </mark> |\n",
       "| <a href=\"https://www.stepbible.org/?q=version=NASB2020%7Creference=Genesis.5:8&options=HNVUG\" target=\"_blank\">Genesis 5:8</a> | 86% | <mark>וַיִּֽהְיוּ֙ כָּל־יְמֵי־</mark>שֵׁ<mark>֔</mark>ת<mark> שְׁתּ</mark>ֵ<mark>֤י</mark><mark>ם </mark>עֶשׂ<mark>ְ</mark>רֵה<mark>֙ שָׁנָ֔ה וּתְשַׁ֥ע מֵאֹ֖ות שָׁנָ֑ה וַיָּמֹֽת׃ </mark>ס<mark> </mark> |\n",
       "| <a href=\"https://www.stepbible.org/?q=version=NASB2020%7Creference=Genesis.5:11&options=HNVUG\" target=\"_blank\">Genesis 5:11</a> | 87% | <mark>וַיִּֽהְיוּ֙ כָּל־יְמֵ</mark>֣<mark>י</mark> אֱנֹ<mark>֔</mark>ו<mark>שׁ</mark><mark> </mark>חָמֵ֣<mark>שׁ</mark><mark> שָׁנ</mark>ִ<mark>֔</mark>ים<mark> וּתְשַׁ֥ע מֵאֹ֖ות שָׁנָ֑ה וַיָּמֹֽת׃ </mark>ס<mark> </mark> |\n",
       "| <a href=\"https://www.stepbible.org/?q=version=NASB2020%7Creference=Genesis.5:14&options=HNVUG\" target=\"_blank\">Genesis 5:14</a> | 82% | <mark>וַיִּֽהְיוּ֙ כָּל־יְמֵ</mark>֣<mark>י</mark> קֵ<mark>י</mark>נָ֔ן ע<mark>ֶ</mark>֣שֶׂ<mark>ר</mark><mark> שָׁנ</mark>ִ<mark>֔</mark>ים<mark> וּתְשַׁ֥ע מֵאֹ֖ות שָׁנָ֑ה וַיָּמֹֽת׃ </mark>ס<mark> </mark> |\n",
       "| <a href=\"https://www.stepbible.org/?q=version=NASB2020%7Creference=Genesis.5:23&options=HNVUG\" target=\"_blank\">Genesis 5:23</a> | 76% | <mark>וַי</mark>ְה<mark>ִ</mark>֖<mark>י</mark><mark> כָּל־יְמֵ</mark>֣<mark>י</mark><mark> </mark>חֲנֹ֑וךְ חָמֵ֤<mark>שׁ</mark><mark> וְשִׁשִּׁים֙ שָׁנָ֔ה וּ</mark><mark>שׁ</mark>ְלֹ<mark>֥</mark>שׁ<mark> מֵאֹ֖ות שָׁנָ</mark>ֽ<mark>ה</mark><mark>׃ </mark> |\n",
       "| <a href=\"https://www.stepbible.org/?q=version=NASB2020%7Creference=Genesis.5:27&options=HNVUG\" target=\"_blank\">Genesis 5:27</a> | 85% | <mark>וַיִּ</mark><mark>הְיוּ֙ כָּל־יְמֵ</mark>֣<mark>י</mark> מְתוּשׁ<mark>ֶ֔</mark>לַח<mark> </mark>תֵּ֤<mark>שׁ</mark><mark>ַ</mark>ע<mark> וְשִׁשִּׁים֙ שָׁנָ֔ה וּתְשַׁ֥ע מֵאֹ֖ות שָׁנָ֑ה וַיָּמֹֽת׃ פ </mark> |\n",
       "| <a href=\"https://www.stepbible.org/?q=version=NASB2020%7Creference=Genesis.5:31&options=HNVUG\" target=\"_blank\">Genesis 5:31</a> | 81% | <mark>וַ</mark>ֽ<mark>י</mark>ְה<mark>ִ</mark><mark>י</mark><mark>֙ כָּל־יְמֵי־</mark>ל<mark>ֶ֔</mark>מ<mark>ֶ</mark>ךְ<mark> שׁ</mark>ֶ֤ב<mark>ַ</mark>ע<mark> וְשִׁ</mark>בְע<mark>ִים֙ שָׁנָ֔ה וּ</mark><mark>שׁ</mark>ְב<mark>ַ֥ע מֵאֹ֖ות שָׁנָ֑ה וַיָּמֹֽת׃ </mark>ס<mark> </mark> |\n"
      ],
      "text/plain": [
       "<IPython.core.display.Markdown object>"
      ]
     },
     "metadata": {},
     "output_type": "display_data"
    },
    {
     "data": {
      "text/markdown": [
       "#### Cross-references for <a href=\"https://www.stepbible.org/?q=version=NASB2020%7Creference=Genesis.5:21&options=HNVUG\" target=\"_blank\">Genesis 5:21</a>\n",
       " ##### וַֽיְחִ֣י חֲנֹ֔וךְ חָמֵ֥שׁ וְשִׁשִּׁ֖ים שָׁנָ֑ה וַיֹּ֖ולֶד אֶת־מְתוּשָֽׁלַח׃ \n",
       "| Reference | Match | Text |\n",
       "| --- | --- | --- |\n",
       "| <a href=\"https://www.stepbible.org/?q=version=NASB2020%7Creference=Genesis.11:12&options=HNVUG\" target=\"_blank\">Genesis 11:12</a> | 77% | <mark>ו</mark>ְא<mark>ַ</mark>ר<mark>ְ</mark>פַּכְשַׁ<mark>֣</mark>ד<mark> ח</mark>ַ<mark>֔</mark>י<mark> חָמֵ֥שׁ ו</mark>ּ<mark>שׁ</mark>ְלֹ<mark>שׁ</mark><mark>ִ֖ים שָׁנָ֑ה וַיֹּ֖ולֶד אֶת־</mark><mark>שָֽׁלַח׃ </mark> |\n"
      ],
      "text/plain": [
       "<IPython.core.display.Markdown object>"
      ]
     },
     "metadata": {},
     "output_type": "display_data"
    },
    {
     "data": {
      "text/markdown": [],
      "text/plain": [
       "<IPython.core.display.Markdown object>"
      ]
     },
     "metadata": {},
     "output_type": "display_data"
    },
    {
     "data": {
      "text/markdown": [
       "#### Cross-references for <a href=\"https://www.stepbible.org/?q=version=NASB2020%7Creference=Genesis.5:23&options=HNVUG\" target=\"_blank\">Genesis 5:23</a>\n",
       " ##### וַיְהִ֖י כָּל־יְמֵ֣י חֲנֹ֑וךְ חָמֵ֤שׁ וְשִׁשִּׁים֙ שָׁנָ֔ה וּשְׁלֹ֥שׁ מֵאֹ֖ות שָׁנָֽה׃ \n",
       "| Reference | Match | Text |\n",
       "| --- | --- | --- |\n",
       "| <a href=\"https://www.stepbible.org/?q=version=NASB2020%7Creference=Genesis.5:11&options=HNVUG\" target=\"_blank\">Genesis 5:11</a> | 80% | <mark>וַי</mark>ִּֽה<mark>ְ</mark><mark>י</mark>וּ֙<mark> כָּל־יְמֵ֣י </mark>אֱ<mark>נֹ</mark>֔<mark>ו</mark>שׁ<mark> חָמֵ</mark>֣<mark>שׁ</mark><mark> שָׁנ</mark>ִ<mark>֔</mark>ים<mark> וּ</mark>תְ<mark>שׁ</mark>ַ<mark>֥</mark>ע<mark> מֵאֹ֖ות שָׁנָ</mark>֑ה וַיָּמֹ<mark>ֽ</mark>ת<mark>׃ </mark>ס  |\n",
       "| <a href=\"https://www.stepbible.org/?q=version=NASB2020%7Creference=Genesis.5:20&options=HNVUG\" target=\"_blank\">Genesis 5:20</a> | 76% | <mark>וַי</mark>ִּֽה<mark>ְ</mark><mark>י</mark>וּ֙<mark> כָּל־יְמֵ</mark><mark>י</mark>־יֶ֔רֶד<mark> </mark><mark>שׁ</mark>ְתַּ֤יִם<mark> וְשִׁשִּׁים֙ שָׁנָ֔ה וּ</mark>תְ<mark>שׁ</mark>ַ<mark>֥</mark>ע<mark> מֵאֹ֖ות שָׁנָ</mark>֑ה וַיָּמֹ<mark>ֽ</mark>ת<mark>׃ </mark>פ  |\n",
       "| <a href=\"https://www.stepbible.org/?q=version=NASB2020%7Creference=Genesis.5:27&options=HNVUG\" target=\"_blank\">Genesis 5:27</a> | 76% | <mark>וַי</mark>ִּה<mark>ְ</mark><mark>י</mark>וּ֙<mark> כָּל־יְמֵ֣י </mark>מְתוּשֶׁ֔לַ<mark>ח</mark><mark> </mark>תּ<mark>ֵ֤שׁ</mark>ַע<mark> וְשִׁשִּׁים֙ שָׁנָ֔ה וּ</mark>תְ<mark>שׁ</mark>ַ<mark>֥</mark>ע<mark> מֵאֹ֖ות שָׁנָ</mark>֑ה וַיָּמֹ<mark>ֽ</mark>ת<mark>׃ </mark>פ  |\n"
      ],
      "text/plain": [
       "<IPython.core.display.Markdown object>"
      ]
     },
     "metadata": {},
     "output_type": "display_data"
    },
    {
     "data": {
      "text/markdown": [],
      "text/plain": [
       "<IPython.core.display.Markdown object>"
      ]
     },
     "metadata": {},
     "output_type": "display_data"
    },
    {
     "data": {
      "text/markdown": [
       "#### Cross-references for <a href=\"https://www.stepbible.org/?q=version=NASB2020%7Creference=Genesis.5:25&options=HNVUG\" target=\"_blank\">Genesis 5:25</a>\n",
       " ##### וַיְחִ֣י מְתוּשֶׁ֔לַח שֶׁ֧בַע וּשְׁמֹנִ֛ים שָׁנָ֖ה וּמְאַ֣ת שָׁנָ֑ה וַיֹּ֖ולֶד אֶת־לָֽמֶךְ׃ \n",
       "| Reference | Match | Text |\n",
       "| --- | --- | --- |\n",
       "| <a href=\"https://www.stepbible.org/?q=version=NASB2020%7Creference=Genesis.5:28&options=HNVUG\" target=\"_blank\">Genesis 5:28</a> | 75% | <mark>וַ</mark>ֽ<mark>יְחִ</mark><mark>י</mark>־לֶ֕<mark>מ</mark>ֶך<mark>ְ</mark><mark> שׁ</mark>ְתַּ<mark>֧</mark>יִם<mark> וּשְׁמֹנִ֛ים שָׁנָ֖ה וּמְאַ֣ת שָׁנָ֑ה וַיֹּ֖ולֶד </mark>בֵּ<mark>ֽ</mark>ן<mark>׃ </mark> |\n"
      ],
      "text/plain": [
       "<IPython.core.display.Markdown object>"
      ]
     },
     "metadata": {},
     "output_type": "display_data"
    },
    {
     "data": {
      "text/markdown": [
       "#### Cross-references for <a href=\"https://www.stepbible.org/?q=version=NASB2020%7Creference=Genesis.5:26&options=HNVUG\" target=\"_blank\">Genesis 5:26</a>\n",
       " ##### וַֽיְחִ֣י מְתוּשֶׁ֗לַח אַֽחֲרֵי֙ הֹולִידֹ֣ו אֶת־לֶ֔מֶךְ שְׁתַּ֤יִם וּשְׁמֹונִים֙ שָׁנָ֔ה וּשְׁבַ֥ע מֵאֹ֖ות שָׁנָ֑ה וַיֹּ֥ולֶד בָּנִ֖ים וּבָנֹֽות׃ \n",
       "| Reference | Match | Text |\n",
       "| --- | --- | --- |\n",
       "| <a href=\"https://www.stepbible.org/?q=version=NASB2020%7Creference=Genesis.5:7&options=HNVUG\" target=\"_blank\">Genesis 5:7</a> | 80% | <mark>וַֽיְחִ</mark><mark>י</mark>־<mark>שׁ</mark>ֵ<mark>֗</mark>ת<mark> אַֽחֲרֵי֙ הֹולִידֹ֣ו אֶת־</mark>אֱנֹ<mark>֔</mark>ושׁ<mark> שׁ</mark>ֶ֣ב<mark>ַ</mark>ע שָׁנִ֔<mark>י</mark><mark>ם וּשְׁמֹ</mark><mark>נ</mark>ֶ֥<mark>ה</mark><mark> מֵאֹ֖ות שָׁנָ֑ה וַיֹּ֥ולֶד בָּנִ֖ים וּבָנֹֽות׃ </mark> |\n",
       "| <a href=\"https://www.stepbible.org/?q=version=NASB2020%7Creference=Genesis.5:10&options=HNVUG\" target=\"_blank\">Genesis 5:10</a> | 75% | <mark>וַֽיְחִ֣י </mark>אֱנֹ֗<mark>ו</mark><mark>שׁ</mark><mark> אַֽחֲרֵי֙ הֹולִידֹ֣ו אֶת־</mark>קֵינָ<mark>֔</mark>ן חֲ<mark>מ</mark>ֵ֤<mark>שׁ</mark> עֶשׂ<mark>ְ</mark>רֵה<mark>֙ שָׁנָ֔ה וּשְׁ</mark>מֹנֶ<mark>֥</mark>ה<mark> מֵאֹ֖ות שָׁנָ֑ה וַיֹּ֥ולֶד בָּנִ֖ים וּבָנֹֽות׃ </mark> |\n",
       "| <a href=\"https://www.stepbible.org/?q=version=NASB2020%7Creference=Genesis.5:16&options=HNVUG\" target=\"_blank\">Genesis 5:16</a> | 79% | <mark>וַֽיְחִ֣י מ</mark>ַֽהֲלַל<mark>ְ</mark>אֵ<mark>֗ל</mark><mark> אַֽחֲרֵי֙ הֹולִידֹ֣ו אֶת־</mark>י<mark>ֶ֔</mark>ר<mark>ֶ</mark>ד<mark> שְׁ</mark>לֹ<mark>שׁ</mark><mark>ִ</mark>֣<mark>ים</mark><mark> שָׁנָ֔ה וּשְׁ</mark>מֹנֶ<mark>֥</mark>ה<mark> מֵאֹ֖ות שָׁנָ֑ה וַיֹּ֥ולֶד בָּנִ֖ים וּבָנֹֽות׃ </mark> |\n",
       "| <a href=\"https://www.stepbible.org/?q=version=NASB2020%7Creference=Genesis.5:28&options=HNVUG\" target=\"_blank\">Genesis 5:28</a> | 75% | <mark>וַֽיְחִ</mark><mark>י</mark><mark>־לֶ</mark>֕<mark>מֶךְ שְׁתַּ</mark>֧<mark>יִם וּשְׁמֹ</mark><mark>נִ</mark>֛<mark>ים</mark><mark> שָׁנָ</mark>֖<mark>ה וּ</mark>מ<mark>ְ</mark>א<mark>ַ</mark>֣<mark>ת שָׁנָ֑ה וַיֹּ</mark>֖<mark>ולֶד בּ</mark>ֵ<mark>ֽ</mark>ן<mark>׃ </mark> |\n",
       "| <a href=\"https://www.stepbible.org/?q=version=NASB2020%7Creference=Genesis.5:30&options=HNVUG\" target=\"_blank\">Genesis 5:30</a> | 76% | <mark>וַֽיְחִ</mark><mark>י</mark>־ל<mark>ֶ֗</mark>מֶךְ<mark> אַֽחֲרֵי֙ הֹולִידֹ֣ו אֶת־</mark>נֹ<mark>֔</mark>חַ חָ<mark>מ</mark>ֵ֤שׁ ו<mark>ְ</mark>תִ<mark>שְׁ</mark>ע<mark>ִים֙ שָׁנָ֔ה ו</mark>ַחֲמֵ֥<mark>שׁ</mark><mark> מֵאֹ֖</mark><mark>ת שָׁנָ֑ה וַיֹּ֥ולֶד בָּנִ֖ים וּבָנֹֽות׃ </mark> |\n",
       "| <a href=\"https://www.stepbible.org/?q=version=NASB2020%7Creference=Genesis.11:13&options=HNVUG\" target=\"_blank\">Genesis 11:13</a> | 79% | <mark>וַֽיְחִ֣י </mark>אַר<mark>ְ</mark>פ<mark>ּ</mark>ַכְ<mark>שׁ</mark>ַ<mark>֗</mark>ד<mark> אַֽחֲרֵי֙ הֹולִידֹ֣ו אֶת־</mark>שׁ<mark>ֶ֔</mark>לַח<mark> שׁ</mark>ָלֹ֣<mark>שׁ</mark><mark> שָׁנ</mark>ִ<mark>֔</mark>ים<mark> ו</mark>ְאַר<mark>ְב</mark>ּ<mark>ַ֥ע מֵאֹ֖ות שָׁנָ֑ה וַיֹּ֥ולֶד בָּנִ֖ים וּבָנֹֽות׃ </mark>ס  |\n",
       "| <a href=\"https://www.stepbible.org/?q=version=NASB2020%7Creference=Genesis.11:15&options=HNVUG\" target=\"_blank\">Genesis 11:15</a> | 83% | <mark>וַֽיְחִ</mark><mark>י</mark>־<mark>שֶׁ֗לַח אַ</mark><mark>חֲרֵי֙ הֹולִידֹ֣ו אֶת־</mark>עֵ֔ב<mark>ֶ</mark>ר<mark> שׁ</mark>ָלֹ֣<mark>שׁ</mark><mark> שָׁנ</mark>ִ<mark>֔</mark>ים<mark> ו</mark>ְאַר<mark>ְב</mark>ּ<mark>ַ֥ע מֵאֹ֖ות שָׁנָ֑ה וַיֹּ֥ולֶד בָּנִ֖ים וּבָנֹֽות׃ </mark>ס  |\n",
       "| <a href=\"https://www.stepbible.org/?q=version=NASB2020%7Creference=Genesis.11:17&options=HNVUG\" target=\"_blank\">Genesis 11:17</a> | 79% | <mark>וַֽיְחִ</mark><mark>י</mark>־עֵ֗ב<mark>ֶ</mark>ר<mark> אַ</mark><mark>חֲרֵי֙ הֹולִידֹ֣ו אֶת־</mark>פֶּ֔<mark>לֶ</mark>ג<mark> שְׁ</mark>לֹ<mark>שׁ</mark><mark>ִ</mark>֣<mark>ים</mark><mark> שָׁנָ֔ה ו</mark>ְאַר<mark>ְב</mark>ּ<mark>ַ֥ע מֵאֹ֖ות שָׁנָ֑ה וַיֹּ֥ולֶד בָּנִ֖ים וּבָנֹֽות׃ </mark>ס  |\n"
      ],
      "text/plain": [
       "<IPython.core.display.Markdown object>"
      ]
     },
     "metadata": {},
     "output_type": "display_data"
    },
    {
     "data": {
      "text/markdown": [
       "#### Cross-references for <a href=\"https://www.stepbible.org/?q=version=NASB2020%7Creference=Genesis.5:27&options=HNVUG\" target=\"_blank\">Genesis 5:27</a>\n",
       " ##### וַיִּהְיוּ֙ כָּל־יְמֵ֣י מְתוּשֶׁ֔לַח תֵּ֤שַׁע וְשִׁשִּׁים֙ שָׁנָ֔ה וּתְשַׁ֥ע מֵאֹ֖ות שָׁנָ֑ה וַיָּמֹֽת׃ פ \n",
       "| Reference | Match | Text |\n",
       "| --- | --- | --- |\n",
       "| <a href=\"https://www.stepbible.org/?q=version=NASB2020%7Creference=Genesis.5:5&options=HNVUG\" target=\"_blank\">Genesis 5:5</a> | 76% | <mark>וַיִּ</mark>ֽ<mark>הְי</mark>֞<mark>וּ</mark><mark> כָּל־יְמֵ</mark>֤<mark>י </mark>אָדָם֙ אֲ<mark>שֶׁ</mark>ר־חַ<mark>֔</mark>י<mark> תּ</mark>ְ<mark>שַׁ</mark>֤<mark>ע </mark>מֵאֹ<mark>ו</mark>ת<mark>֙ שָׁנָ֔ה וּ</mark><mark>שׁ</mark>ְל<mark>ֹ</mark>שִׁ<mark>֖</mark>ים<mark> שָׁנָ֑ה וַיָּמֹֽת׃ </mark>ס<mark> </mark> |\n",
       "| <a href=\"https://www.stepbible.org/?q=version=NASB2020%7Creference=Genesis.5:8&options=HNVUG\" target=\"_blank\">Genesis 5:8</a> | 80% | <mark>וַיִּ</mark>ֽ<mark>הְיוּ֙ כָּל־יְמֵ</mark><mark>י</mark>־<mark>שׁ</mark>ֵ<mark>֔</mark>ת<mark> </mark>שְׁ<mark>תֵּ֤</mark><mark>ים</mark> עֶשְׂרֵה<mark>֙ שָׁנָ֔ה וּתְשַׁ֥ע מֵאֹ֖ות שָׁנָ֑ה וַיָּמֹֽת׃ </mark>ס<mark> </mark> |\n",
       "| <a href=\"https://www.stepbible.org/?q=version=NASB2020%7Creference=Genesis.5:11&options=HNVUG\" target=\"_blank\">Genesis 5:11</a> | 83% | <mark>וַיִּ</mark>ֽ<mark>הְיוּ֙ כָּל־יְמֵ֣י </mark>אֱנֹ֔<mark>ו</mark><mark>שׁ</mark> <mark>ח</mark>ָמ<mark>ֵ</mark>֣<mark>שׁ</mark><mark> שָׁנ</mark>ִ<mark>֔</mark>ים<mark> וּתְשַׁ֥ע מֵאֹ֖ות שָׁנָ֑ה וַיָּמֹֽת׃ </mark>ס<mark> </mark> |\n",
       "| <a href=\"https://www.stepbible.org/?q=version=NASB2020%7Creference=Genesis.5:14&options=HNVUG\" target=\"_blank\">Genesis 5:14</a> | 79% | <mark>וַיִּ</mark>ֽ<mark>הְיוּ֙ כָּל־יְמֵ֣י </mark>קֵינָ֔ן עֶ֣<mark>ש</mark>ׂ<mark>ֶ</mark>ר<mark> שָׁנ</mark>ִ<mark>֔</mark>ים<mark> וּתְשַׁ֥ע מֵאֹ֖ות שָׁנָ֑ה וַיָּמֹֽת׃ </mark>ס<mark> </mark> |\n",
       "| <a href=\"https://www.stepbible.org/?q=version=NASB2020%7Creference=Genesis.5:17&options=HNVUG\" target=\"_blank\">Genesis 5:17</a> | 79% | <mark>וַיִּהְיוּ֙ כָּל־יְמֵ֣י מ</mark>ַהֲלַל<mark>ְ</mark>אֵ<mark>֔ל</mark> <mark>ח</mark>ָמ<mark>ֵ֤שׁ</mark><mark> וְ</mark>ת<mark>ִשׁ</mark>ְע<mark>ִים֙ שָׁנָ֔ה וּ</mark><mark>שׁ</mark>ְמֹנֶ<mark>֥</mark>ה<mark> מֵאֹ֖ות שָׁנָ֑ה וַיָּמֹֽת׃ </mark>ס<mark> </mark> |\n",
       "| <a href=\"https://www.stepbible.org/?q=version=NASB2020%7Creference=Genesis.5:20&options=HNVUG\" target=\"_blank\">Genesis 5:20</a> | 85% | <mark>וַיִּ</mark>ֽ<mark>הְיוּ֙ כָּל־יְמֵ</mark><mark>י</mark>־יֶ֔רֶד<mark> </mark>שׁ<mark>ְת</mark><mark>ּ</mark><mark>ַ</mark><mark>֤</mark>יִם<mark> וְשִׁשִּׁים֙ שָׁנָ֔ה וּתְשַׁ֥ע מֵאֹ֖ות שָׁנָ֑ה וַיָּמֹֽת׃ פ </mark> |\n",
       "| <a href=\"https://www.stepbible.org/?q=version=NASB2020%7Creference=Genesis.5:23&options=HNVUG\" target=\"_blank\">Genesis 5:23</a> | 76% | <mark>וַי</mark>ְה<mark>ִ</mark>֖<mark>י</mark><mark> כָּל־יְמֵ֣י </mark>חֲנֹ֑וךְ חָ<mark>מ</mark><mark>ֵ֤שׁ</mark><mark> וְשִׁשִּׁים֙ שָׁנָ֔ה וּ</mark><mark>שׁ</mark>ְלֹ<mark>֥</mark>שׁ<mark> מֵאֹ֖ות שָׁנָ</mark>ֽ<mark>ה</mark><mark>׃ </mark> |\n",
       "| <a href=\"https://www.stepbible.org/?q=version=NASB2020%7Creference=Genesis.5:31&options=HNVUG\" target=\"_blank\">Genesis 5:31</a> | 83% | <mark>וַ</mark>ֽ<mark>י</mark>ְה<mark>ִ</mark><mark>י</mark><mark>֙ כָּל־יְמֵ</mark><mark>י</mark>־לֶ֔מֶךְ<mark> </mark><mark>שֶׁ</mark><mark>֤</mark>ב<mark>ַע וְשִׁ</mark>בְע<mark>ִים֙ שָׁנָ֔ה וּ</mark><mark>שׁ</mark>ְב<mark>ַ֥ע מֵאֹ֖ות שָׁנָ֑ה וַיָּמֹֽת׃ </mark>ס<mark> </mark> |\n",
       "| <a href=\"https://www.stepbible.org/?q=version=NASB2020%7Creference=Genesis.9:29&options=HNVUG\" target=\"_blank\">Genesis 9:29</a> | 77% | <mark>וַיִּ</mark>ֽ<mark>הְיוּ֙ כָּל־יְמֵ</mark><mark>י</mark>־נֹ<mark>֔</mark>ח<mark>ַ</mark><mark> תּ</mark>ְ<mark>שַׁ</mark>֤<mark>ע </mark>מֵאֹ<mark>ו</mark>ת<mark>֙ שָׁנָ֔ה ו</mark>ַחֲמִ<mark>שׁ</mark>ִּ<mark>֖</mark>ים<mark> שָׁנָ֑ה וַיָּמֹֽת׃ פ </mark> |\n"
      ],
      "text/plain": [
       "<IPython.core.display.Markdown object>"
      ]
     },
     "metadata": {},
     "output_type": "display_data"
    },
    {
     "data": {
      "text/markdown": [
       "#### Cross-references for <a href=\"https://www.stepbible.org/?q=version=NASB2020%7Creference=Genesis.5:28&options=HNVUG\" target=\"_blank\">Genesis 5:28</a>\n",
       " ##### וַֽיְחִי־לֶ֕מֶךְ שְׁתַּ֧יִם וּשְׁמֹנִ֛ים שָׁנָ֖ה וּמְאַ֣ת שָׁנָ֑ה וַיֹּ֖ולֶד בֵּֽן׃ \n",
       "| Reference | Match | Text |\n",
       "| --- | --- | --- |\n",
       "| <a href=\"https://www.stepbible.org/?q=version=NASB2020%7Creference=Genesis.5:18&options=HNVUG\" target=\"_blank\">Genesis 5:18</a> | 78% | <mark>וַֽיְחִי־</mark>י<mark>ֶ֕</mark>ר<mark>ֶ</mark>ד<mark> שְׁתַּ֧יִם ו</mark>ְ<mark>שׁ</mark>ִשּׁ<mark>ִ֛ים שָׁנָ֖ה וּמְאַ֣ת שָׁנָ֑ה וַיֹּ֖ולֶד </mark>אֶת־חֲנֹ<mark>ֽ</mark>וךְ<mark>׃ </mark> |\n",
       "| <a href=\"https://www.stepbible.org/?q=version=NASB2020%7Creference=Genesis.5:25&options=HNVUG\" target=\"_blank\">Genesis 5:25</a> | 75% | <mark>וַ</mark><mark>יְחִ</mark>֣<mark>י</mark> מְתוּשֶׁ֔<mark>ל</mark>ַח<mark> שׁ</mark>ֶ֧ב<mark>ַ</mark>ע<mark> וּשְׁמֹנִ֛ים שָׁנָ֖ה וּמְאַ֣ת שָׁנָ֑ה וַיֹּ֖ולֶד </mark>אֶת־לָ<mark>ֽ</mark>מֶךְ<mark>׃ </mark> |\n",
       "| <a href=\"https://www.stepbible.org/?q=version=NASB2020%7Creference=Genesis.5:26&options=HNVUG\" target=\"_blank\">Genesis 5:26</a> | 75% | <mark>וַֽיְחִ</mark>֣<mark>י</mark> מְתוּשֶׁ֗לַח אַֽחֲרֵי֙ הֹולִידֹ֣ו אֶת<mark>־לֶ</mark>֔<mark>מֶךְ שְׁתַּ</mark>֤<mark>יִם וּשְׁמֹ</mark>ו<mark>נִ</mark><mark>ים</mark>֙<mark> שָׁנָ</mark>֔<mark>ה וּ</mark>שְׁבַ֥ע <mark>מ</mark>ֵ<mark>א</mark>ֹ֖ו<mark>ת שָׁנָ֑ה וַיֹּ</mark>֥<mark>ולֶד בּ</mark>ָנִ֖ים וּבָנֹ<mark>ֽ</mark>ות<mark>׃ </mark> |\n"
      ],
      "text/plain": [
       "<IPython.core.display.Markdown object>"
      ]
     },
     "metadata": {},
     "output_type": "display_data"
    },
    {
     "data": {
      "text/markdown": [],
      "text/plain": [
       "<IPython.core.display.Markdown object>"
      ]
     },
     "metadata": {},
     "output_type": "display_data"
    },
    {
     "data": {
      "text/markdown": [
       "#### Cross-references for <a href=\"https://www.stepbible.org/?q=version=NASB2020%7Creference=Genesis.5:30&options=HNVUG\" target=\"_blank\">Genesis 5:30</a>\n",
       " ##### וַֽיְחִי־לֶ֗מֶךְ אַֽחֲרֵי֙ הֹולִידֹ֣ו אֶת־נֹ֔חַ חָמֵ֤שׁ וְתִשְׁעִים֙ שָׁנָ֔ה וַחֲמֵ֥שׁ מֵאֹ֖ת שָׁנָ֑ה וַיֹּ֥ולֶד בָּנִ֖ים וּבָנֹֽות׃ \n",
       "| Reference | Match | Text |\n",
       "| --- | --- | --- |\n",
       "| <a href=\"https://www.stepbible.org/?q=version=NASB2020%7Creference=Genesis.5:4&options=HNVUG\" target=\"_blank\">Genesis 5:4</a> | 77% | <mark>וַ</mark>יִּ<mark>ֽ</mark>הְי֣וּ <mark>יְ</mark>מֵ<mark>י־</mark>אָדָ<mark>֗</mark>ם<mark> אַֽחֲרֵי֙ הֹולִידֹ֣ו אֶת־</mark><mark>שׁ</mark>ֵ֔ת<mark> </mark><mark>שְׁ</mark>מֹ<mark>נ</mark>ֶ֥<mark>ה</mark><mark> מֵאֹ֖ת שָׁנָ֑ה וַיֹּ֥ולֶד בָּנִ֖ים וּבָנֹֽות׃ </mark> |\n",
       "| <a href=\"https://www.stepbible.org/?q=version=NASB2020%7Creference=Genesis.5:7&options=HNVUG\" target=\"_blank\">Genesis 5:7</a> | 83% | <mark>וַֽיְחִי־</mark>שֵׁ<mark>֗</mark>ת<mark> אַֽחֲרֵי֙ הֹולִידֹ֣ו אֶת־</mark>אֱ<mark>נֹ֔</mark>ו<mark>שׁ </mark><mark>שׁ</mark>ֶ֣בַ<mark>ע</mark><mark> שָׁנ</mark>ִ<mark>֔</mark>ים<mark> ו</mark>ּ<mark>שׁ</mark>ְמֹנֶ֥ה<mark> מֵאֹ֖</mark>ו<mark>ת שָׁנָ֑ה וַיֹּ֥ולֶד בָּנִ֖ים וּבָנֹֽות׃ </mark> |\n",
       "| <a href=\"https://www.stepbible.org/?q=version=NASB2020%7Creference=Genesis.5:10&options=HNVUG\" target=\"_blank\">Genesis 5:10</a> | 82% | <mark>וַֽיְחִ</mark>֣<mark>י</mark> אֱנֹ<mark>֗</mark>ושׁ<mark> אַֽחֲרֵי֙ הֹולִידֹ֣ו אֶת־</mark>קֵי<mark>נ</mark>ָ<mark>֔</mark>ן<mark> ח</mark>ֲ<mark>מֵ֤שׁ </mark>עֶשׂ<mark>ְ</mark>רֵה<mark>֙ שָׁנָ֔ה ו</mark>ּ<mark>שׁ</mark>ְמֹנֶ֥ה<mark> מֵאֹ֖</mark>ו<mark>ת שָׁנָ֑ה וַיֹּ֥ולֶד בָּנִ֖ים וּבָנֹֽות׃ </mark> |\n",
       "| <a href=\"https://www.stepbible.org/?q=version=NASB2020%7Creference=Genesis.5:13&options=HNVUG\" target=\"_blank\">Genesis 5:13</a> | 76% | <mark>וַ</mark><mark>יְחִ</mark>֣<mark>י</mark> קֵינָ<mark>֗</mark>ן<mark> אַ</mark><mark>חֲרֵי֙ הֹולִידֹ֣ו אֶת־</mark>מַֽהֲלַלְאֵ<mark>֔</mark>ל א<mark>ַ</mark>רְבּ<mark>ָ</mark><mark>עִ</mark>֣<mark>ים</mark><mark> שָׁנָ֔ה ו</mark>ּ<mark>שׁ</mark>ְמֹנֶ֥ה<mark> מֵאֹ֖</mark>ו<mark>ת שָׁנָ֑ה וַיֹּ֥ולֶד בָּנִ֖ים וּבָנֹֽות׃ </mark> |\n",
       "| <a href=\"https://www.stepbible.org/?q=version=NASB2020%7Creference=Genesis.5:16&options=HNVUG\" target=\"_blank\">Genesis 5:16</a> | 78% | <mark>וַֽיְחִ</mark>֣<mark>י</mark> מַֽהֲ<mark>ל</mark>ַלְאֵ<mark>֗</mark>ל<mark> אַֽחֲרֵי֙ הֹולִידֹ֣ו אֶת־</mark>יֶ<mark>֔</mark>רֶד<mark> </mark><mark>שְׁ</mark>לֹשׁ<mark>ִ</mark>֣<mark>ים</mark><mark> שָׁנָ֔ה ו</mark>ּ<mark>שׁ</mark>ְמֹנֶ֥ה<mark> מֵאֹ֖</mark>ו<mark>ת שָׁנָ֑ה וַיֹּ֥ולֶד בָּנִ֖ים וּבָנֹֽות׃ </mark> |\n",
       "| <a href=\"https://www.stepbible.org/?q=version=NASB2020%7Creference=Genesis.5:19&options=HNVUG\" target=\"_blank\">Genesis 5:19</a> | 76% | <mark>וַֽיְחִי־</mark>י<mark>ֶ֗</mark>ר<mark>ֶ</mark>ד<mark> אַֽחֲרֵי֙ הֹולִידֹ֣ו אֶת־</mark>חֲ<mark>נֹ֔</mark>וךְ<mark> </mark><mark>שְׁ</mark>מֹ<mark>נ</mark>ֶ֥<mark>ה</mark><mark> מֵאֹ֖</mark>ו<mark>ת שָׁנָ֑ה וַיֹּ֥ולֶד בָּנִ֖ים וּבָנֹֽות׃ </mark> |\n",
       "| <a href=\"https://www.stepbible.org/?q=version=NASB2020%7Creference=Genesis.5:26&options=HNVUG\" target=\"_blank\">Genesis 5:26</a> | 76% | <mark>וַֽיְחִ</mark>֣<mark>י</mark> מְתוּשׁ<mark>ֶ֗</mark>לַח<mark> אַֽחֲרֵי֙ הֹולִידֹ֣ו אֶת־</mark>לֶ<mark>֔</mark>מֶךְ<mark> </mark><mark>שְׁ</mark>תַּ֤יִם וּשְׁמֹונ<mark>ִים֙ שָׁנָ֔ה ו</mark>ּ<mark>שׁ</mark>ְבַ֥ע<mark> מֵאֹ֖</mark>ו<mark>ת שָׁנָ֑ה וַיֹּ֥ולֶד בָּנִ֖ים וּבָנֹֽות׃ </mark> |\n",
       "| <a href=\"https://www.stepbible.org/?q=version=NASB2020%7Creference=Genesis.11:11&options=HNVUG\" target=\"_blank\">Genesis 11:11</a> | 77% | <mark>וַֽיְחִי־</mark>שֵׁ<mark>֗</mark>ם<mark> אַֽחֲרֵי֙ הֹולִידֹ֣ו אֶת־</mark>א<mark>ַ</mark>ר<mark>ְ</mark>פַּכ<mark>ְ</mark><mark>שָׁ</mark><mark>֔</mark>ד<mark> </mark><mark>חֲמֵ֥שׁ מֵאֹ֖</mark>ו<mark>ת שָׁנָ֑ה וַיֹּ֥ולֶד בָּנִ֖ים וּבָנֹֽות׃ </mark>ס  |\n",
       "| <a href=\"https://www.stepbible.org/?q=version=NASB2020%7Creference=Genesis.11:13&options=HNVUG\" target=\"_blank\">Genesis 11:13</a> | 78% | <mark>וַֽיְחִ</mark>֣<mark>י</mark> אַרְפַּכְשַׁ<mark>֗</mark>ד<mark> אַֽחֲרֵי֙ הֹולִידֹ֣ו אֶת־</mark><mark>שׁ</mark>ֶ֔לַח<mark> </mark><mark>שׁ</mark>ָלֹ֣שׁ<mark> שָׁנ</mark>ִ<mark>֔</mark>ים<mark> ו</mark>ְא<mark>ַ</mark>רְבַּ<mark>֥</mark>ע<mark> מֵאֹ֖</mark>ו<mark>ת שָׁנָ֑ה וַיֹּ֥ולֶד בָּנִ֖ים וּבָנֹֽות׃ </mark>ס  |\n",
       "| <a href=\"https://www.stepbible.org/?q=version=NASB2020%7Creference=Genesis.11:15&options=HNVUG\" target=\"_blank\">Genesis 11:15</a> | 78% | <mark>וַֽיְחִי־</mark>שׁ<mark>ֶ֗</mark>לַח<mark> אַ</mark><mark>חֲרֵי֙ הֹולִידֹ֣ו אֶת־</mark>עֵ<mark>֔</mark>בֶר<mark> </mark><mark>שׁ</mark>ָלֹ֣<mark>שׁ</mark><mark> שָׁנ</mark>ִ<mark>֔</mark>ים<mark> ו</mark>ְא<mark>ַ</mark>רְבַּ<mark>֥</mark>ע<mark> מֵאֹ֖</mark>ו<mark>ת שָׁנָ֑ה וַיֹּ֥ולֶד בָּנִ֖ים וּבָנֹֽות׃ </mark>ס  |\n",
       "| <a href=\"https://www.stepbible.org/?q=version=NASB2020%7Creference=Genesis.11:17&options=HNVUG\" target=\"_blank\">Genesis 11:17</a> | 76% | <mark>וַֽיְחִי־</mark>עֵ֗ב<mark>ֶ</mark>ר<mark> אַ</mark><mark>חֲרֵי֙ הֹולִידֹ֣ו אֶת־</mark>פֶּ<mark>֔</mark>לֶג<mark> </mark><mark>שְׁ</mark>לֹשׁ<mark>ִ</mark>֣<mark>ים</mark><mark> שָׁנָ֔ה ו</mark>ְא<mark>ַ</mark>רְבַּ<mark>֥</mark>ע<mark> מֵאֹ֖</mark>ו<mark>ת שָׁנָ֑ה וַיֹּ֥ולֶד בָּנִ֖ים וּבָנֹֽות׃ </mark>ס  |\n",
       "| <a href=\"https://www.stepbible.org/?q=version=NASB2020%7Creference=Genesis.11:19&options=HNVUG\" target=\"_blank\">Genesis 11:19</a> | 82% | <mark>וַֽיְחִי־</mark>פֶ֗<mark>לֶ</mark>ג<mark> אַ</mark><mark>חֲרֵי֙ הֹולִידֹ֣ו אֶת־</mark>רְע<mark>֔</mark>וּ<mark> </mark>תּ<mark>ֵ</mark>֥<mark>שׁ</mark>ַ<mark>ע</mark><mark> שָׁנ</mark>ִ֖ים<mark> ו</mark>ּמָאת<mark>ַ</mark>֣יִם<mark> שָׁנָ֑ה וַיֹּ֥ולֶד בָּנִ֖ים וּבָנֹֽות׃ </mark>ס  |\n",
       "| <a href=\"https://www.stepbible.org/?q=version=NASB2020%7Creference=Genesis.11:21&options=HNVUG\" target=\"_blank\">Genesis 11:21</a> | 78% | <mark>וַ</mark><mark>יְחִ</mark>֣<mark>י</mark> רְע<mark>֗</mark>וּ<mark> אַ</mark><mark>חֲרֵי֙ הֹולִידֹ֣ו אֶת־</mark>שְׂר<mark>֔</mark>וּג<mark> </mark><mark>שׁ</mark>ֶ֥בַ<mark>ע</mark><mark> שָׁנ</mark>ִ֖ים<mark> ו</mark>ּמָאת<mark>ַ</mark>֣יִם<mark> שָׁנָ֑ה וַיֹּ֥ולֶד בָּנִ֖ים וּבָנֹֽות׃ </mark>ס  |\n",
       "| <a href=\"https://www.stepbible.org/?q=version=NASB2020%7Creference=Genesis.11:25&options=HNVUG\" target=\"_blank\">Genesis 11:25</a> | 77% | <mark>וַ</mark><mark>יְחִ</mark>֣<mark>י</mark> נָחֹ<mark>֗</mark>ור<mark> אַ</mark><mark>חֲרֵי֙ הֹולִידֹ֣ו אֶת־</mark>תֶּ<mark>֔</mark>רַ<mark>ח</mark><mark> </mark>תְּ<mark>שׁ</mark>ַֽע־עֶשׂ<mark>ְ</mark>רֵ֥ה<mark> שָׁנָ</mark>֖<mark>ה ו</mark>ּמְא<mark>ַ</mark>֣<mark>ת שָׁנָ֑ה וַיֹּ֥ולֶד בָּנִ֖ים וּבָנֹֽות׃ </mark>ס  |\n"
      ],
      "text/plain": [
       "<IPython.core.display.Markdown object>"
      ]
     },
     "metadata": {},
     "output_type": "display_data"
    },
    {
     "data": {
      "text/markdown": [
       "#### Cross-references for <a href=\"https://www.stepbible.org/?q=version=NASB2020%7Creference=Genesis.5:31&options=HNVUG\" target=\"_blank\">Genesis 5:31</a>\n",
       " ##### וַֽיְהִי֙ כָּל־יְמֵי־לֶ֔מֶךְ שֶׁ֤בַע וְשִׁבְעִים֙ שָׁנָ֔ה וּשְׁבַ֥ע מֵאֹ֖ות שָׁנָ֑ה וַיָּמֹֽת׃ ס \n",
       "| Reference | Match | Text |\n",
       "| --- | --- | --- |\n",
       "| <a href=\"https://www.stepbible.org/?q=version=NASB2020%7Creference=Genesis.5:8&options=HNVUG\" target=\"_blank\">Genesis 5:8</a> | 78% | <mark>וַ</mark>יִּ<mark>ֽ</mark>הְ<mark>י</mark>וּ<mark>֙ כָּל־יְמֵי־</mark>שֵׁ<mark>֔</mark>ת<mark> שׁ</mark>ְתֵּ<mark>֤</mark><mark>ים</mark> עֶשְׂרֵה<mark>֙ שָׁנָ֔ה וּ</mark>תְ<mark>שׁ</mark><mark>ַ֥ע מֵאֹ֖ות שָׁנָ֑ה וַיָּמֹֽת׃ ס </mark> |\n",
       "| <a href=\"https://www.stepbible.org/?q=version=NASB2020%7Creference=Genesis.5:11&options=HNVUG\" target=\"_blank\">Genesis 5:11</a> | 81% | <mark>וַ</mark>יִּ<mark>ֽ</mark>הְ<mark>י</mark>וּ<mark>֙ כָּל־יְמֵ</mark>֣<mark>י</mark> אֱנֹ<mark>֔</mark>ו<mark>שׁ</mark><mark> </mark>חָמֵ֣<mark>שׁ</mark><mark> שָׁנ</mark>ִ<mark>֔</mark>ים<mark> וּ</mark>תְ<mark>שׁ</mark><mark>ַ֥ע מֵאֹ֖ות שָׁנָ֑ה וַיָּמֹֽת׃ ס </mark> |\n",
       "| <a href=\"https://www.stepbible.org/?q=version=NASB2020%7Creference=Genesis.5:14&options=HNVUG\" target=\"_blank\">Genesis 5:14</a> | 77% | <mark>וַ</mark>יִּ<mark>ֽ</mark>הְ<mark>י</mark>וּ<mark>֙ כָּל־יְמֵ</mark>֣<mark>י</mark> קֵינָ֔ן ע<mark>ֶ</mark>֣שׂ<mark>ֶ</mark>ר<mark> שָׁנ</mark>ִ<mark>֔</mark>ים<mark> וּ</mark>תְ<mark>שׁ</mark><mark>ַ֥ע מֵאֹ֖ות שָׁנָ֑ה וַיָּמֹֽת׃ ס </mark> |\n",
       "| <a href=\"https://www.stepbible.org/?q=version=NASB2020%7Creference=Genesis.5:17&options=HNVUG\" target=\"_blank\">Genesis 5:17</a> | 78% | <mark>וַ</mark><mark>י</mark>ִּה<mark>ְ</mark><mark>י</mark>וּ<mark>֙ כָּל־יְמֵ</mark>֣<mark>י</mark> מַהֲ<mark>ל</mark>ַלְאֵ<mark>֔</mark>ל חָ<mark>מ</mark>ֵ֤<mark>שׁ</mark><mark> וְ</mark>תִ<mark>שׁ</mark><mark>ְעִים֙ שָׁנָ֔ה וּשְׁ</mark>מֹנֶ<mark>֥</mark>ה<mark> מֵאֹ֖ות שָׁנָ֑ה וַיָּמֹֽת׃ ס </mark> |\n",
       "| <a href=\"https://www.stepbible.org/?q=version=NASB2020%7Creference=Genesis.5:20&options=HNVUG\" target=\"_blank\">Genesis 5:20</a> | 81% | <mark>וַ</mark>יִּ<mark>ֽ</mark>הְ<mark>י</mark>וּ<mark>֙ כָּל־יְמֵי־</mark>י<mark>ֶ֔</mark>ר<mark>ֶ</mark>ד<mark> שׁ</mark>ְתַּ<mark>֤</mark>יִם<mark> וְשִׁ</mark>שּׁ<mark>ִים֙ שָׁנָ֔ה וּ</mark>תְ<mark>שׁ</mark><mark>ַ֥ע מֵאֹ֖ות שָׁנָ֑ה וַיָּמֹֽת׃ </mark>פ<mark> </mark> |\n",
       "| <a href=\"https://www.stepbible.org/?q=version=NASB2020%7Creference=Genesis.5:27&options=HNVUG\" target=\"_blank\">Genesis 5:27</a> | 83% | <mark>וַ</mark><mark>י</mark>ִּה<mark>ְ</mark><mark>י</mark>וּ<mark>֙ כָּל־יְמֵ</mark>֣<mark>י</mark> <mark>מ</mark><mark>ְ</mark>תוּ<mark>שֶׁ</mark>֔לַח תֵּ<mark>֤</mark>שׁ<mark>ַע וְשִׁ</mark>שּׁ<mark>ִים֙ שָׁנָ֔ה וּ</mark>תְ<mark>שׁ</mark><mark>ַ֥ע מֵאֹ֖ות שָׁנָ֑ה וַיָּמֹֽת׃ </mark>פ<mark> </mark> |\n"
      ],
      "text/plain": [
       "<IPython.core.display.Markdown object>"
      ]
     },
     "metadata": {},
     "output_type": "display_data"
    },
    {
     "data": {
      "text/markdown": [],
      "text/plain": [
       "<IPython.core.display.Markdown object>"
      ]
     },
     "metadata": {},
     "output_type": "display_data"
    },
    {
     "data": {
      "text/markdown": [],
      "text/plain": [
       "<IPython.core.display.Markdown object>"
      ]
     },
     "metadata": {},
     "output_type": "display_data"
    },
    {
     "data": {
      "text/markdown": [],
      "text/plain": [
       "<IPython.core.display.Markdown object>"
      ]
     },
     "metadata": {},
     "output_type": "display_data"
    },
    {
     "data": {
      "text/markdown": [],
      "text/plain": [
       "<IPython.core.display.Markdown object>"
      ]
     },
     "metadata": {},
     "output_type": "display_data"
    },
    {
     "data": {
      "text/markdown": [],
      "text/plain": [
       "<IPython.core.display.Markdown object>"
      ]
     },
     "metadata": {},
     "output_type": "display_data"
    },
    {
     "data": {
      "text/markdown": [],
      "text/plain": [
       "<IPython.core.display.Markdown object>"
      ]
     },
     "metadata": {},
     "output_type": "display_data"
    },
    {
     "data": {
      "text/markdown": [],
      "text/plain": [
       "<IPython.core.display.Markdown object>"
      ]
     },
     "metadata": {},
     "output_type": "display_data"
    },
    {
     "data": {
      "text/markdown": [],
      "text/plain": [
       "<IPython.core.display.Markdown object>"
      ]
     },
     "metadata": {},
     "output_type": "display_data"
    },
    {
     "data": {
      "text/markdown": [],
      "text/plain": [
       "<IPython.core.display.Markdown object>"
      ]
     },
     "metadata": {},
     "output_type": "display_data"
    }
   ],
   "source": [
    "from difflib import SequenceMatcher\n",
    "\n",
    "# Function to find and highlight matching parts between two strings\n",
    "def highlightMatches(baseText, comparisonText):\n",
    "    matcher = SequenceMatcher(None, baseText, comparisonText)\n",
    "    highlightedComparisonText = \"\"\n",
    "    \n",
    "    for tag, i1, i2, j1, j2 in matcher.get_opcodes():\n",
    "        if tag == \"equal\":  # Identical parts\n",
    "            highlightedComparisonText += f\"<mark>{comparisonText[j1:j2]}</mark>\"\n",
    "        else:  # Non-matching parts\n",
    "            highlightedComparisonText += comparisonText[j1:j2]\n",
    "    \n",
    "    return highlightedComparisonText\n",
    "\n",
    "# Function to process cross-references and format them into a Markdown table\n",
    "def generateCrossReferencesTable(verseNode):\n",
    "    \"\"\"\n",
    "    Generates a Markdown table with cross-references for a single verse node, highlighting identical parts.\n",
    "    \n",
    "    Parameters:\n",
    "    - verseNode: the node ID of the verse to retrieve cross-references for.\n",
    "    \"\"\"\n",
    "    # Get cross-references for the specified verseNode\n",
    "    crossRefs = Es(\"crossref\").f(verseNode)\n",
    "    tableContent = \"\"\n",
    "    \n",
    "    # Check if there are any cross-references for this verse\n",
    "    if crossRefs:\n",
    "        verseSection = T.sectionFromNode(verseNode)\n",
    "        mainVerseText = T.text(verseNode)\n",
    "        linkStepBible = (\n",
    "            f\"<a href=\\\"https://www.stepbible.org/?q=version=NASB2020%7Creference={verseSection[0]}.{verseSection[1]}:{verseSection[2]}&options=HNVUG\\\" target=\\\"_blank\\\">\"\n",
    "            f\"{verseSection[0]} {verseSection[1]}:{verseSection[2]}</a>\"\n",
    "        ) \n",
    "        tableContent += f\"#### Cross-references for {linkStepBible}\\n ##### {mainVerseText}\"\n",
    "        # Create table header\n",
    "        tableContent += f\"\\n| Reference | Match | Text |\\n| --- | --- | --- |\\n\"\n",
    "        \n",
    "        # Process each cross-reference and add a row to the table\n",
    "        for target, confidence in crossRefs:\n",
    "            targetSection = T.sectionFromNode(target)\n",
    "            targetText = T.text(target)\n",
    "            \n",
    "            targetStepBible = (\n",
    "                f\"<a href=\\\"https://www.stepbible.org/?q=version=NASB2020%7Creference={targetSection[0]}.{targetSection[1]}:{targetSection[2]}&options=HNVUG\\\" target=\\\"_blank\\\">\"\n",
    "                f\"{targetSection[0]} {targetSection[1]}:{targetSection[2]}</a>\"\n",
    "            )     \n",
    "            # Highlight identical parts in target verse\n",
    "            highlightedText = highlightMatches(mainVerseText, targetText)\n",
    "            \n",
    "            # Add the row for the cross-reference\n",
    "            tableContent += f\"| {targetStepBible} | {confidence}% | {highlightedText} |\\n\"\n",
    "        \n",
    "    # Display the table in the notebook using BHSA.dm\n",
    "    BHSA.dm(tableContent)\n",
    "\n",
    "# Create header\n",
    "BHSA.dm(f'### Lexical parallels for parasha {parashaNameEnglish} ({parashaStart}-{parashaEnd})')\n",
    "\n",
    "for verse in parashaResults:\n",
    "   generateCrossReferencesTable(verse[0])"
   ]
  },
  {
   "cell_type": "markdown",
   "id": "93852912-fa5c-420a-88ed-8be3b090eb3a",
   "metadata": {
    "tags": []
   },
   "source": [
    "# 4 - Required libraries <a class=\"anchor\" id=\"bullet4\"></a>\n",
    "##### [Back to ToC](#TOC)\n",
    "\n",
    "The scripts in this notebook require (beside `text-fabric`) the following Python libraries to be installed in the environment:\n",
    "\n",
    "    difflib\n",
    "\n",
    "You can install any missing library from within Jupyter Notebook using either`pip` or `pip3`."
   ]
  },
  {
   "cell_type": "markdown",
   "id": "bc5b6c04-4855-4d2d-aa9a-a1dac0256074",
   "metadata": {},
   "source": [
    "# 5 - Further reading <a class=\"anchor\" id=\"bullet5\"></a>\n",
    "##### [Back to ToC](#TOC)\n",
    "\n",
    "For an elaborate treatment of parallel passages, see:\n",
    "\n",
    "> Willem Th. van Peursen and Eep Talstra. \"Computer-Assisted Analysis of Parallel Texts in the Bible - The Case of 2 Kings xviii-xix and its Parallels in Isaiah and Chronicles\" in *Vetus Testamentum* 57, pp. 45-72. 2007, Brill, Leiden."
   ]
  },
  {
   "cell_type": "markdown",
   "id": "68573424-b71f-4596-95e7-468cf9ef9c1e",
   "metadata": {},
   "source": [
    "# 6 - Notebook version details<a class=\"anchor\" id=\"bullet6\"></a>\n",
    "##### [Back to ToC](#TOC)\n",
    "\n",
    "<div style=\"float: left;\">\n",
    "  <table>\n",
    "    <tr>\n",
    "      <td><strong>Author</strong></td>\n",
    "      <td>Tony Jurg</td>\n",
    "    </tr>\n",
    "    <tr>\n",
    "      <td><strong>Version</strong></td>\n",
    "      <td>1.0</td>\n",
    "    </tr>\n",
    "    <tr>\n",
    "      <td><strong>Date</strong></td>\n",
    "      <td>10 November 2024</td>\n",
    "    </tr>\n",
    "  </table>\n",
    "</div>"
   ]
  }
 ],
 "metadata": {
  "kernelspec": {
   "display_name": "Python 3 (ipykernel)",
   "language": "python",
   "name": "python3"
  },
  "language_info": {
   "codemirror_mode": {
    "name": "ipython",
    "version": 3
   },
   "file_extension": ".py",
   "mimetype": "text/x-python",
   "name": "python",
   "nbconvert_exporter": "python",
   "pygments_lexer": "ipython3",
   "version": "3.12.7"
  }
 },
 "nbformat": 4,
 "nbformat_minor": 5
}
