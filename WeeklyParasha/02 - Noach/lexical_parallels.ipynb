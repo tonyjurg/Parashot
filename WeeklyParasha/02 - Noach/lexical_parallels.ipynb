{
 "cells": [
  {
   "cell_type": "markdown",
   "id": "d824a2cc-56ba-443c-90a4-7ded0d791353",
   "metadata": {},
   "source": [
    "# Lexical parallels in parasha  #2: Noach (Gen. 6:9 - 11:32)"
   ]
  },
  {
   "cell_type": "markdown",
   "id": "60af701a-2af8-4297-b840-545749d9a1f1",
   "metadata": {},
   "source": [
    "## Table of Content<a class=\"anchor\" id=\"TOC\"></a> (TOC)\n",
    "\n",
    "* <a href=\"#bullet1\">1 - Introduction</a>\n",
    "* <a href=\"#bullet2\">2 - Load Text-Fabric app and data</a>\n",
    "* <a href=\"#bullet3\">3 - Performing the queries</a>\n",
    "    * <a href=\"#bullet3x1\">3.1 Locate the parallels</a>\n",
    "* <a href=\"#bullet4\">4 - Required libraries</a>\n",
    "* <a href=\"#bullet5\">5 - Further reading</a>\n",
    "* <a href=\"#bullet6\">6 - Notebook version details</a>"
   ]
  },
  {
   "cell_type": "markdown",
   "id": "b17560e5-9e90-4008-ae35-04a34624a43a",
   "metadata": {
    "tags": []
   },
   "source": [
    "# 1 - Introduction <a class=\"anchor\" id=\"bullet1\"></a>\n",
    "##### [Back to ToC](#TOC)\n",
    "\n",
    "In this notebook we search for lexical parallels between verses in this parasha with other verses in the Tenach."
   ]
  },
  {
   "cell_type": "markdown",
   "id": "0ad449f1-c3bf-4e45-95e0-6eefac4bc1dc",
   "metadata": {},
   "source": [
    "# 2 - Load Text-Fabric app and data <a class=\"anchor\" id=\"bullet2\"></a>\n",
    "##### [Back to ToC](#TOC)\n",
    "\n",
    "The following code will load the Text-Fabric version of the [Biblia Hebraica Stuttgartensia (Amstelodamensis)](https://etcbc.github.io/bhsa/)."
   ]
  },
  {
   "cell_type": "code",
   "execution_count": 1,
   "id": "21fbcf7c-98da-4319-a344-d644da5cfec5",
   "metadata": {
    "tags": []
   },
   "outputs": [],
   "source": [
    "%load_ext autoreload\n",
    "%autoreload 2"
   ]
  },
  {
   "cell_type": "code",
   "execution_count": 2,
   "id": "a290709d-978e-4d29-918c-fddd7d8041e4",
   "metadata": {},
   "outputs": [],
   "source": [
    "# Loading the Text-Fabric code\n",
    "# Note: it is assumed Text-Fabric is installed in your environment.\n",
    "from tf.fabric import Fabric\n",
    "from tf.app import use"
   ]
  },
  {
   "cell_type": "code",
   "execution_count": 3,
   "id": "14e1cb4c-554a-4785-a4dd-6a89778d5cd3",
   "metadata": {
    "scrolled": true,
    "tags": []
   },
   "outputs": [
    {
     "data": {
      "text/markdown": [
       "**Locating corpus resources ...**"
      ],
      "text/plain": [
       "<IPython.core.display.Markdown object>"
      ]
     },
     "metadata": {},
     "output_type": "display_data"
    },
    {
     "data": {
      "text/html": [
       "<b title=\"local release\">app:</b> <span title=\"rv1.8=#gd905e3fb6e80d0fa537600337614adc2af157309 offline under C:/Users/tonyj/text-fabric-data/github\">~/text-fabric-data/github/etcbc/BHSA/app</span>"
      ],
      "text/plain": [
       "<IPython.core.display.HTML object>"
      ]
     },
     "metadata": {},
     "output_type": "display_data"
    },
    {
     "data": {
      "text/html": [
       "<b title=\"local release\">data:</b> <span title=\"rv1.8=#gd905e3fb6e80d0fa537600337614adc2af157309 offline under C:/Users/tonyj/text-fabric-data/github\">~/text-fabric-data/github/etcbc/BHSA/tf/2021</span>"
      ],
      "text/plain": [
       "<IPython.core.display.HTML object>"
      ]
     },
     "metadata": {},
     "output_type": "display_data"
    },
    {
     "data": {
      "text/html": [
       "<b title=\"local commit\">data:</b> <span title=\"#c0e5f31feb5776b312be494f14a4ebf0e9913867 offline under C:/Users/tonyj/text-fabric-data/github\">~/text-fabric-data/github/tonyjurg/BHSaddons/tf/2021</span>"
      ],
      "text/plain": [
       "<IPython.core.display.HTML object>"
      ]
     },
     "metadata": {},
     "output_type": "display_data"
    },
    {
     "data": {
      "text/html": [
       "<b title=\"local release\">data:</b> <span title=\"rv2.1=#gaba4367b49750089e4e4122415a77cac43bd97bc offline under C:/Users/tonyj/text-fabric-data/github\">~/text-fabric-data/github/etcbc/phono/tf/2021</span>"
      ],
      "text/plain": [
       "<IPython.core.display.HTML object>"
      ]
     },
     "metadata": {},
     "output_type": "display_data"
    },
    {
     "data": {
      "text/html": [
       "<b title=\"local release\">data:</b> <span title=\"rv2.1=#gf45f6cc3c4f933dba6e649f49cdb14a40dcf333f offline under C:/Users/tonyj/text-fabric-data/github\">~/text-fabric-data/github/etcbc/parallels/tf/2021</span>"
      ],
      "text/plain": [
       "<IPython.core.display.HTML object>"
      ]
     },
     "metadata": {},
     "output_type": "display_data"
    },
    {
     "data": {
      "text/html": [
       "\n",
       "            <b>TF:</b> <a target=\"_blank\" href=\"https://annotation.github.io/text-fabric/tf/cheatsheet.html\" title=\"text-fabric api\">TF API 12.6.1</a>, <a target=\"_blank\" href=\"https://github.com/etcbc/BHSA/blob/master/app\" title=\"etcbc/BHSA app\">etcbc/BHSA/app  v3</a>, <a target=\"_blank\" href=\"https://annotation.github.io/text-fabric/tf/about/searchusage.html\" title=\"Search Templates Introduction and Reference\">Search Reference</a><br>\n",
       "            <b>Data:</b> <a target=\"_blank\" href=\"https://etcbc.github.io/BHSA/\" title=\"provenance of BHSA = Biblia Hebraica Stuttgartensia Amstelodamensis\">etcbc - BHSA 2021</a>, <a target=\"_blank\" href=\"https://annotation.github.io/text-fabric/tf/writing/hebrew.html\" title=\"How TF features represent text\">Character table</a>, <a target=\"_blank\" href=\"https://etcbc.github.io/BHSA/features/0_home\" title=\"etcbc - BHSA feature documentation\">Feature docs</a><br>\n",
       "            <details class=\"nodeinfo\"><summary><b>Node types</b></summary>\n",
       "<table class=\"nodeinfo\">\n",
       "    <tr>\n",
       "        <th>Name</th>\n",
       "        <th># of nodes</th>\n",
       "        <th># slots / node</th>\n",
       "        <th>% coverage</th>\n",
       "    </tr>\n",
       "\n",
       "<tr>\n",
       "    <th>book</th>\n",
       "    <td>39</td>\n",
       "    <td>10938.21</td>\n",
       "    <td><b>100</b></td>\n",
       "</tr>\n",
       "\n",
       "<tr>\n",
       "    <th>chapter</th>\n",
       "    <td>929</td>\n",
       "    <td>459.19</td>\n",
       "    <td><b>100</b></td>\n",
       "</tr>\n",
       "\n",
       "<tr>\n",
       "    <th>lex</th>\n",
       "    <td>9230</td>\n",
       "    <td>46.22</td>\n",
       "    <td><b>100</b></td>\n",
       "</tr>\n",
       "\n",
       "<tr>\n",
       "    <th>verse</th>\n",
       "    <td>23213</td>\n",
       "    <td>18.38</td>\n",
       "    <td><b>100</b></td>\n",
       "</tr>\n",
       "\n",
       "<tr>\n",
       "    <th>half_verse</th>\n",
       "    <td>45179</td>\n",
       "    <td>9.44</td>\n",
       "    <td><b>100</b></td>\n",
       "</tr>\n",
       "\n",
       "<tr>\n",
       "    <th>sentence</th>\n",
       "    <td>63717</td>\n",
       "    <td>6.70</td>\n",
       "    <td><b>100</b></td>\n",
       "</tr>\n",
       "\n",
       "<tr>\n",
       "    <th>sentence_atom</th>\n",
       "    <td>64514</td>\n",
       "    <td>6.61</td>\n",
       "    <td><b>100</b></td>\n",
       "</tr>\n",
       "\n",
       "<tr>\n",
       "    <th>clause</th>\n",
       "    <td>88131</td>\n",
       "    <td>4.84</td>\n",
       "    <td><b>100</b></td>\n",
       "</tr>\n",
       "\n",
       "<tr>\n",
       "    <th>clause_atom</th>\n",
       "    <td>90704</td>\n",
       "    <td>4.70</td>\n",
       "    <td><b>100</b></td>\n",
       "</tr>\n",
       "\n",
       "<tr>\n",
       "    <th>phrase</th>\n",
       "    <td>253203</td>\n",
       "    <td>1.68</td>\n",
       "    <td><b>100</b></td>\n",
       "</tr>\n",
       "\n",
       "<tr>\n",
       "    <th>phrase_atom</th>\n",
       "    <td>267532</td>\n",
       "    <td>1.59</td>\n",
       "    <td><b>100</b></td>\n",
       "</tr>\n",
       "\n",
       "<tr>\n",
       "    <th>subphrase</th>\n",
       "    <td>113850</td>\n",
       "    <td>1.42</td>\n",
       "    <td>38</td>\n",
       "</tr>\n",
       "\n",
       "<tr>\n",
       "    <th><i>word</i></th>\n",
       "    <td>426590</td>\n",
       "    <td>1.00</td>\n",
       "    <td><b>100</b></td>\n",
       "</tr>\n",
       "</table></details>\n",
       "            <b>Sets:</b> no custom sets<br>\n",
       "            <b>Features:</b><br>\n",
       "<details><summary><b>Parallel Passages</b></summary>\n",
       "    <div class=\"fcorpus\">\n",
       "\n",
       "<div class=\"frow\">\n",
       "    <div class=\"fnamecat edge\">\n",
       "<a target=\"_blank\" href=\"https://nbviewer.jupyter.org/github/etcbc/parallels/blob/master/programs/parallels.ipynb\" title=\"~/text-fabric-data/github/etcbc/parallels/tf/2021/crossref.tf\">crossref</a>\n",
       "</div>\n",
       "<div class=\"fmono\">int</div>\n",
       "\n",
       "<span> 🆗 links between similar passages</span>\n",
       "\n",
       "</div>\n",
       "\n",
       "    </div>\n",
       "</details>\n",
       "\n",
       "<details><summary><b>BHSA = Biblia Hebraica Stuttgartensia Amstelodamensis</b></summary>\n",
       "    <div class=\"fcorpus\">\n",
       "\n",
       "<div class=\"frow\">\n",
       "    <div class=\"fnamecat \">\n",
       "<a target=\"_blank\" href=\"https://etcbc.github.io/BHSA/features/book\" title=\"~/text-fabric-data/github/etcbc/BHSA/tf/2021/book.tf\">book</a>\n",
       "</div>\n",
       "<div class=\"fmono\">str</div>\n",
       "\n",
       "<span> ✅ book name in Latin (Genesis; Numeri; Reges1; ...)</span>\n",
       "\n",
       "</div>\n",
       "\n",
       "<div class=\"frow\">\n",
       "    <div class=\"fnamecat \">\n",
       "<a target=\"_blank\" href=\"https://etcbc.github.io/BHSA/features/book@ll\" title=\"~/text-fabric-data/github/etcbc/BHSA/tf/2021/book@am.tf\">book@ll</a>\n",
       "</div>\n",
       "<div class=\"fmono\">str</div>\n",
       "\n",
       "<span> ✅ book name in amharic (ኣማርኛ)</span>\n",
       "\n",
       "</div>\n",
       "\n",
       "<div class=\"frow\">\n",
       "    <div class=\"fnamecat \">\n",
       "<a target=\"_blank\" href=\"https://etcbc.github.io/BHSA/features/chapter\" title=\"~/text-fabric-data/github/etcbc/BHSA/tf/2021/chapter.tf\">chapter</a>\n",
       "</div>\n",
       "<div class=\"fmono\">int</div>\n",
       "\n",
       "<span> ✅ chapter number (1; 2; 3; ...)</span>\n",
       "\n",
       "</div>\n",
       "\n",
       "<div class=\"frow\">\n",
       "    <div class=\"fnamecat \">\n",
       "<a target=\"_blank\" href=\"https://etcbc.github.io/BHSA/features/code\" title=\"~/text-fabric-data/github/etcbc/BHSA/tf/2021/code.tf\">code</a>\n",
       "</div>\n",
       "<div class=\"fmono\">int</div>\n",
       "\n",
       "<span> ✅ identifier of a clause atom relationship (0; 74; 367; ...)</span>\n",
       "\n",
       "</div>\n",
       "\n",
       "<div class=\"frow\">\n",
       "    <div class=\"fnamecat \">\n",
       "<a target=\"_blank\" href=\"https://etcbc.github.io/BHSA/features/det\" title=\"~/text-fabric-data/github/etcbc/BHSA/tf/2021/det.tf\">det</a>\n",
       "</div>\n",
       "<div class=\"fmono\">str</div>\n",
       "\n",
       "<span> ✅ determinedness of phrase(atom) (det; und; NA.)</span>\n",
       "\n",
       "</div>\n",
       "\n",
       "<div class=\"frow\">\n",
       "    <div class=\"fnamecat \">\n",
       "<a target=\"_blank\" href=\"https://etcbc.github.io/BHSA/features/domain\" title=\"~/text-fabric-data/github/etcbc/BHSA/tf/2021/domain.tf\">domain</a>\n",
       "</div>\n",
       "<div class=\"fmono\">str</div>\n",
       "\n",
       "<span> ✅ text type of clause (? (Unknown); N (narrative); D (discursive); Q (Quotation).)</span>\n",
       "\n",
       "</div>\n",
       "\n",
       "<div class=\"frow\">\n",
       "    <div class=\"fnamecat \">\n",
       "<a target=\"_blank\" href=\"https://etcbc.github.io/BHSA/features/freq_lex\" title=\"~/text-fabric-data/github/etcbc/BHSA/tf/2021/freq_lex.tf\">freq_lex</a>\n",
       "</div>\n",
       "<div class=\"fmono\">int</div>\n",
       "\n",
       "<span> ✅ frequency of lexemes</span>\n",
       "\n",
       "</div>\n",
       "\n",
       "<div class=\"frow\">\n",
       "    <div class=\"fnamecat \">\n",
       "<a target=\"_blank\" href=\"https://etcbc.github.io/BHSA/features/function\" title=\"~/text-fabric-data/github/etcbc/BHSA/tf/2021/function.tf\">function</a>\n",
       "</div>\n",
       "<div class=\"fmono\">str</div>\n",
       "\n",
       "<span> ✅ syntactic function of phrase (Cmpl; Objc; Pred; ...)</span>\n",
       "\n",
       "</div>\n",
       "\n",
       "<div class=\"frow\">\n",
       "    <div class=\"fnamecat \">\n",
       "<a target=\"_blank\" href=\"https://etcbc.github.io/BHSA/features/g_cons\" title=\"~/text-fabric-data/github/etcbc/BHSA/tf/2021/g_cons.tf\">g_cons</a>\n",
       "</div>\n",
       "<div class=\"fmono\">str</div>\n",
       "\n",
       "<span> ✅ word consonantal-transliterated (B R>CJT BR> >LHJM ...)</span>\n",
       "\n",
       "</div>\n",
       "\n",
       "<div class=\"frow\">\n",
       "    <div class=\"fnamecat \">\n",
       "<a target=\"_blank\" href=\"https://etcbc.github.io/BHSA/features/g_cons_utf8\" title=\"~/text-fabric-data/github/etcbc/BHSA/tf/2021/g_cons_utf8.tf\">g_cons_utf8</a>\n",
       "</div>\n",
       "<div class=\"fmono\">str</div>\n",
       "\n",
       "<span> ✅ word consonantal-Hebrew (ב ראשׁית ברא אלהים)</span>\n",
       "\n",
       "</div>\n",
       "\n",
       "<div class=\"frow\">\n",
       "    <div class=\"fnamecat \">\n",
       "<a target=\"_blank\" href=\"https://etcbc.github.io/BHSA/features/g_lex\" title=\"~/text-fabric-data/github/etcbc/BHSA/tf/2021/g_lex.tf\">g_lex</a>\n",
       "</div>\n",
       "<div class=\"fmono\">str</div>\n",
       "\n",
       "<span> ✅ lexeme pointed-transliterated (B.:- R;>CIJT B.@R@> >:ELOH ...)</span>\n",
       "\n",
       "</div>\n",
       "\n",
       "<div class=\"frow\">\n",
       "    <div class=\"fnamecat \">\n",
       "<a target=\"_blank\" href=\"https://etcbc.github.io/BHSA/features/g_lex_utf8\" title=\"~/text-fabric-data/github/etcbc/BHSA/tf/2021/g_lex_utf8.tf\">g_lex_utf8</a>\n",
       "</div>\n",
       "<div class=\"fmono\">str</div>\n",
       "\n",
       "<span> ✅ lexeme pointed-Hebrew (בְּ רֵאשִׁית בָּרָא אֱלֹה)</span>\n",
       "\n",
       "</div>\n",
       "\n",
       "<div class=\"frow\">\n",
       "    <div class=\"fnamecat \">\n",
       "<a target=\"_blank\" href=\"https://etcbc.github.io/BHSA/features/g_word\" title=\"~/text-fabric-data/github/etcbc/BHSA/tf/2021/g_word.tf\">g_word</a>\n",
       "</div>\n",
       "<div class=\"fmono\">str</div>\n",
       "\n",
       "<span> ✅ word pointed-transliterated (B.:- R;>CI73JT B.@R@74> >:ELOHI92JM)</span>\n",
       "\n",
       "</div>\n",
       "\n",
       "<div class=\"frow\">\n",
       "    <div class=\"fnamecat \">\n",
       "<a target=\"_blank\" href=\"https://etcbc.github.io/BHSA/features/g_word_utf8\" title=\"~/text-fabric-data/github/etcbc/BHSA/tf/2021/g_word_utf8.tf\">g_word_utf8</a>\n",
       "</div>\n",
       "<div class=\"fmono\">str</div>\n",
       "\n",
       "<span> ✅ word pointed-Hebrew (בְּ רֵאשִׁ֖ית בָּרָ֣א אֱלֹהִ֑ים)</span>\n",
       "\n",
       "</div>\n",
       "\n",
       "<div class=\"frow\">\n",
       "    <div class=\"fnamecat \">\n",
       "<a target=\"_blank\" href=\"https://etcbc.github.io/BHSA/features/gloss\" title=\"~/text-fabric-data/github/etcbc/BHSA/tf/2021/gloss.tf\">gloss</a>\n",
       "</div>\n",
       "<div class=\"fmono\">str</div>\n",
       "\n",
       "<span> 🆗 english translation of lexeme (beginning create god(s))</span>\n",
       "\n",
       "</div>\n",
       "\n",
       "<div class=\"frow\">\n",
       "    <div class=\"fnamecat \">\n",
       "<a target=\"_blank\" href=\"https://etcbc.github.io/BHSA/features/gn\" title=\"~/text-fabric-data/github/etcbc/BHSA/tf/2021/gn.tf\">gn</a>\n",
       "</div>\n",
       "<div class=\"fmono\">str</div>\n",
       "\n",
       "<span> ✅ grammatical gender (m; f; NA; unknown.)</span>\n",
       "\n",
       "</div>\n",
       "\n",
       "<div class=\"frow\">\n",
       "    <div class=\"fnamecat \">\n",
       "<a target=\"_blank\" href=\"https://etcbc.github.io/BHSA/features/label\" title=\"~/text-fabric-data/github/etcbc/BHSA/tf/2021/label.tf\">label</a>\n",
       "</div>\n",
       "<div class=\"fmono\">str</div>\n",
       "\n",
       "<span> ✅ (half-)verse label (half verses: A; B; C; verses:  GEN 01,02)</span>\n",
       "\n",
       "</div>\n",
       "\n",
       "<div class=\"frow\">\n",
       "    <div class=\"fnamecat \">\n",
       "<a target=\"_blank\" href=\"https://etcbc.github.io/BHSA/features/language\" title=\"~/text-fabric-data/github/etcbc/BHSA/tf/2021/language.tf\">language</a>\n",
       "</div>\n",
       "<div class=\"fmono\">str</div>\n",
       "\n",
       "<span> ✅ of word or lexeme (Hebrew; Aramaic.)</span>\n",
       "\n",
       "</div>\n",
       "\n",
       "<div class=\"frow\">\n",
       "    <div class=\"fnamecat \">\n",
       "<a target=\"_blank\" href=\"https://etcbc.github.io/BHSA/features/lex\" title=\"~/text-fabric-data/github/etcbc/BHSA/tf/2021/lex.tf\">lex</a>\n",
       "</div>\n",
       "<div class=\"fmono\">str</div>\n",
       "\n",
       "<span> ✅ lexeme consonantal-transliterated (B R>CJT/ BR>[ >LHJM/)</span>\n",
       "\n",
       "</div>\n",
       "\n",
       "<div class=\"frow\">\n",
       "    <div class=\"fnamecat \">\n",
       "<a target=\"_blank\" href=\"https://etcbc.github.io/BHSA/features/lex_utf8\" title=\"~/text-fabric-data/github/etcbc/BHSA/tf/2021/lex_utf8.tf\">lex_utf8</a>\n",
       "</div>\n",
       "<div class=\"fmono\">str</div>\n",
       "\n",
       "<span> ✅ lexeme consonantal-Hebrew (ב ראשׁית֜ ברא אלהים֜)</span>\n",
       "\n",
       "</div>\n",
       "\n",
       "<div class=\"frow\">\n",
       "    <div class=\"fnamecat \">\n",
       "<a target=\"_blank\" href=\"https://etcbc.github.io/BHSA/features/ls\" title=\"~/text-fabric-data/github/etcbc/BHSA/tf/2021/ls.tf\">ls</a>\n",
       "</div>\n",
       "<div class=\"fmono\">str</div>\n",
       "\n",
       "<span> ✅ lexical set, subclassification of part-of-speech (card; ques; mult)</span>\n",
       "\n",
       "</div>\n",
       "\n",
       "<div class=\"frow\">\n",
       "    <div class=\"fnamecat \">\n",
       "<a target=\"_blank\" href=\"https://etcbc.github.io/BHSA/features/nametype\" title=\"~/text-fabric-data/github/etcbc/BHSA/tf/2021/nametype.tf\">nametype</a>\n",
       "</div>\n",
       "<div class=\"fmono\">str</div>\n",
       "\n",
       "<span> ⚠️ named entity type (pers; mens; gens; topo; ppde.)</span>\n",
       "\n",
       "</div>\n",
       "\n",
       "<div class=\"frow\">\n",
       "    <div class=\"fnamecat \">\n",
       "<a target=\"_blank\" href=\"https://etcbc.github.io/BHSA/features/nme\" title=\"~/text-fabric-data/github/etcbc/BHSA/tf/2021/nme.tf\">nme</a>\n",
       "</div>\n",
       "<div class=\"fmono\">str</div>\n",
       "\n",
       "<span> ✅ nominal ending consonantal-transliterated (absent; n/a; JM, ...)</span>\n",
       "\n",
       "</div>\n",
       "\n",
       "<div class=\"frow\">\n",
       "    <div class=\"fnamecat \">\n",
       "<a target=\"_blank\" href=\"https://etcbc.github.io/BHSA/features/nu\" title=\"~/text-fabric-data/github/etcbc/BHSA/tf/2021/nu.tf\">nu</a>\n",
       "</div>\n",
       "<div class=\"fmono\">str</div>\n",
       "\n",
       "<span> ✅ grammatical number (sg; du; pl; NA; unknown.)</span>\n",
       "\n",
       "</div>\n",
       "\n",
       "<div class=\"frow\">\n",
       "    <div class=\"fnamecat \">\n",
       "<a target=\"_blank\" href=\"https://etcbc.github.io/BHSA/features/number\" title=\"~/text-fabric-data/github/etcbc/BHSA/tf/2021/number.tf\">number</a>\n",
       "</div>\n",
       "<div class=\"fmono\">int</div>\n",
       "\n",
       "<span> ✅ sequence number of an object within its context</span>\n",
       "\n",
       "</div>\n",
       "\n",
       "<div class=\"frow\">\n",
       "    <div class=\"fnamecat \">\n",
       "<a target=\"_blank\" href=\"https://etcbc.github.io/BHSA/features/otype\" title=\"~/text-fabric-data/github/etcbc/BHSA/tf/2021/otype.tf\">otype</a>\n",
       "</div>\n",
       "<div class=\"fmono\">str</div>\n",
       "\n",
       "<span> </span>\n",
       "\n",
       "</div>\n",
       "\n",
       "<div class=\"frow\">\n",
       "    <div class=\"fnamecat \">\n",
       "<a target=\"_blank\" href=\"https://etcbc.github.io/BHSA/features/pargr\" title=\"~/text-fabric-data/github/etcbc/BHSA/tf/2021/pargr.tf\">pargr</a>\n",
       "</div>\n",
       "<div class=\"fmono\">str</div>\n",
       "\n",
       "<span> 🆗 hierarchical paragraph number (1; 1.2; 1.2.3.4; ...)</span>\n",
       "\n",
       "</div>\n",
       "\n",
       "<div class=\"frow\">\n",
       "    <div class=\"fnamecat \">\n",
       "<a target=\"_blank\" href=\"https://etcbc.github.io/BHSA/features/pdp\" title=\"~/text-fabric-data/github/etcbc/BHSA/tf/2021/pdp.tf\">pdp</a>\n",
       "</div>\n",
       "<div class=\"fmono\">str</div>\n",
       "\n",
       "<span> ✅ phrase dependent part-of-speech (art; verb; subs; nmpr, ...)</span>\n",
       "\n",
       "</div>\n",
       "\n",
       "<div class=\"frow\">\n",
       "    <div class=\"fnamecat \">\n",
       "<a target=\"_blank\" href=\"https://etcbc.github.io/BHSA/features/pfm\" title=\"~/text-fabric-data/github/etcbc/BHSA/tf/2021/pfm.tf\">pfm</a>\n",
       "</div>\n",
       "<div class=\"fmono\">str</div>\n",
       "\n",
       "<span> ✅ preformative consonantal-transliterated (absent; n/a; J, ...)</span>\n",
       "\n",
       "</div>\n",
       "\n",
       "<div class=\"frow\">\n",
       "    <div class=\"fnamecat \">\n",
       "<a target=\"_blank\" href=\"https://etcbc.github.io/BHSA/features/prs\" title=\"~/text-fabric-data/github/etcbc/BHSA/tf/2021/prs.tf\">prs</a>\n",
       "</div>\n",
       "<div class=\"fmono\">str</div>\n",
       "\n",
       "<span> ✅ pronominal suffix consonantal-transliterated (absent; n/a; W; ...)</span>\n",
       "\n",
       "</div>\n",
       "\n",
       "<div class=\"frow\">\n",
       "    <div class=\"fnamecat \">\n",
       "<a target=\"_blank\" href=\"https://etcbc.github.io/BHSA/features/prs_gn\" title=\"~/text-fabric-data/github/etcbc/BHSA/tf/2021/prs_gn.tf\">prs_gn</a>\n",
       "</div>\n",
       "<div class=\"fmono\">str</div>\n",
       "\n",
       "<span> ✅ pronominal suffix gender (m; f; NA; unknown.)</span>\n",
       "\n",
       "</div>\n",
       "\n",
       "<div class=\"frow\">\n",
       "    <div class=\"fnamecat \">\n",
       "<a target=\"_blank\" href=\"https://etcbc.github.io/BHSA/features/prs_nu\" title=\"~/text-fabric-data/github/etcbc/BHSA/tf/2021/prs_nu.tf\">prs_nu</a>\n",
       "</div>\n",
       "<div class=\"fmono\">str</div>\n",
       "\n",
       "<span> ✅ pronominal suffix number (sg; du; pl; NA; unknown.)</span>\n",
       "\n",
       "</div>\n",
       "\n",
       "<div class=\"frow\">\n",
       "    <div class=\"fnamecat \">\n",
       "<a target=\"_blank\" href=\"https://etcbc.github.io/BHSA/features/prs_ps\" title=\"~/text-fabric-data/github/etcbc/BHSA/tf/2021/prs_ps.tf\">prs_ps</a>\n",
       "</div>\n",
       "<div class=\"fmono\">str</div>\n",
       "\n",
       "<span> ✅ pronominal suffix person (p1; p2; p3; NA; unknown.)</span>\n",
       "\n",
       "</div>\n",
       "\n",
       "<div class=\"frow\">\n",
       "    <div class=\"fnamecat \">\n",
       "<a target=\"_blank\" href=\"https://etcbc.github.io/BHSA/features/ps\" title=\"~/text-fabric-data/github/etcbc/BHSA/tf/2021/ps.tf\">ps</a>\n",
       "</div>\n",
       "<div class=\"fmono\">str</div>\n",
       "\n",
       "<span> ✅ grammatical person (p1; p2; p3; NA; unknown.)</span>\n",
       "\n",
       "</div>\n",
       "\n",
       "<div class=\"frow\">\n",
       "    <div class=\"fnamecat \">\n",
       "<a target=\"_blank\" href=\"https://etcbc.github.io/BHSA/features/qere\" title=\"~/text-fabric-data/github/etcbc/BHSA/tf/2021/qere.tf\">qere</a>\n",
       "</div>\n",
       "<div class=\"fmono\">str</div>\n",
       "\n",
       "<span> ✅ word pointed-transliterated masoretic reading correction</span>\n",
       "\n",
       "</div>\n",
       "\n",
       "<div class=\"frow\">\n",
       "    <div class=\"fnamecat \">\n",
       "<a target=\"_blank\" href=\"https://etcbc.github.io/BHSA/features/qere_trailer\" title=\"~/text-fabric-data/github/etcbc/BHSA/tf/2021/qere_trailer.tf\">qere_trailer</a>\n",
       "</div>\n",
       "<div class=\"fmono\">str</div>\n",
       "\n",
       "<span> ✅ interword material -pointed-transliterated (Masoretic correction)</span>\n",
       "\n",
       "</div>\n",
       "\n",
       "<div class=\"frow\">\n",
       "    <div class=\"fnamecat \">\n",
       "<a target=\"_blank\" href=\"https://etcbc.github.io/BHSA/features/qere_trailer_utf8\" title=\"~/text-fabric-data/github/etcbc/BHSA/tf/2021/qere_trailer_utf8.tf\">qere_trailer_utf8</a>\n",
       "</div>\n",
       "<div class=\"fmono\">str</div>\n",
       "\n",
       "<span> ✅ interword material -pointed-transliterated (Masoretic correction)</span>\n",
       "\n",
       "</div>\n",
       "\n",
       "<div class=\"frow\">\n",
       "    <div class=\"fnamecat \">\n",
       "<a target=\"_blank\" href=\"https://etcbc.github.io/BHSA/features/qere_utf8\" title=\"~/text-fabric-data/github/etcbc/BHSA/tf/2021/qere_utf8.tf\">qere_utf8</a>\n",
       "</div>\n",
       "<div class=\"fmono\">str</div>\n",
       "\n",
       "<span> ✅ word pointed-Hebrew masoretic reading correction</span>\n",
       "\n",
       "</div>\n",
       "\n",
       "<div class=\"frow\">\n",
       "    <div class=\"fnamecat \">\n",
       "<a target=\"_blank\" href=\"https://etcbc.github.io/BHSA/features/rank_lex\" title=\"~/text-fabric-data/github/etcbc/BHSA/tf/2021/rank_lex.tf\">rank_lex</a>\n",
       "</div>\n",
       "<div class=\"fmono\">int</div>\n",
       "\n",
       "<span> ✅ ranking of lexemes based on freqnuecy</span>\n",
       "\n",
       "</div>\n",
       "\n",
       "<div class=\"frow\">\n",
       "    <div class=\"fnamecat \">\n",
       "<a target=\"_blank\" href=\"https://etcbc.github.io/BHSA/features/rela\" title=\"~/text-fabric-data/github/etcbc/BHSA/tf/2021/rela.tf\">rela</a>\n",
       "</div>\n",
       "<div class=\"fmono\">str</div>\n",
       "\n",
       "<span> ✅ linguistic relation between clause/(sub)phrase(atom) (ADJ; MOD; ATR; ...)</span>\n",
       "\n",
       "</div>\n",
       "\n",
       "<div class=\"frow\">\n",
       "    <div class=\"fnamecat \">\n",
       "<a target=\"_blank\" href=\"https://etcbc.github.io/BHSA/features/sp\" title=\"~/text-fabric-data/github/etcbc/BHSA/tf/2021/sp.tf\">sp</a>\n",
       "</div>\n",
       "<div class=\"fmono\">str</div>\n",
       "\n",
       "<span> ✅ part-of-speech (art; verb; subs; nmpr, ...)</span>\n",
       "\n",
       "</div>\n",
       "\n",
       "<div class=\"frow\">\n",
       "    <div class=\"fnamecat \">\n",
       "<a target=\"_blank\" href=\"https://etcbc.github.io/BHSA/features/st\" title=\"~/text-fabric-data/github/etcbc/BHSA/tf/2021/st.tf\">st</a>\n",
       "</div>\n",
       "<div class=\"fmono\">str</div>\n",
       "\n",
       "<span> ✅ state of a noun (a (absolute); c (construct); e (emphatic).)</span>\n",
       "\n",
       "</div>\n",
       "\n",
       "<div class=\"frow\">\n",
       "    <div class=\"fnamecat \">\n",
       "<a target=\"_blank\" href=\"https://etcbc.github.io/BHSA/features/tab\" title=\"~/text-fabric-data/github/etcbc/BHSA/tf/2021/tab.tf\">tab</a>\n",
       "</div>\n",
       "<div class=\"fmono\">int</div>\n",
       "\n",
       "<span> ✅ clause atom: its level in the linguistic embedding</span>\n",
       "\n",
       "</div>\n",
       "\n",
       "<div class=\"frow\">\n",
       "    <div class=\"fnamecat \">\n",
       "<a target=\"_blank\" href=\"https://etcbc.github.io/BHSA/features/trailer\" title=\"~/text-fabric-data/github/etcbc/BHSA/tf/2021/trailer.tf\">trailer</a>\n",
       "</div>\n",
       "<div class=\"fmono\">str</div>\n",
       "\n",
       "<span> ✅ interword material pointed-transliterated (& 00 05 00_P ...)</span>\n",
       "\n",
       "</div>\n",
       "\n",
       "<div class=\"frow\">\n",
       "    <div class=\"fnamecat \">\n",
       "<a target=\"_blank\" href=\"https://etcbc.github.io/BHSA/features/trailer_utf8\" title=\"~/text-fabric-data/github/etcbc/BHSA/tf/2021/trailer_utf8.tf\">trailer_utf8</a>\n",
       "</div>\n",
       "<div class=\"fmono\">str</div>\n",
       "\n",
       "<span> ✅ interword material pointed-Hebrew (־ ׃)</span>\n",
       "\n",
       "</div>\n",
       "\n",
       "<div class=\"frow\">\n",
       "    <div class=\"fnamecat \">\n",
       "<a target=\"_blank\" href=\"https://etcbc.github.io/BHSA/features/txt\" title=\"~/text-fabric-data/github/etcbc/BHSA/tf/2021/txt.tf\">txt</a>\n",
       "</div>\n",
       "<div class=\"fmono\">str</div>\n",
       "\n",
       "<span> ✅ text type of clause and surrounding (repetion of ? N D Q as in feature domain)</span>\n",
       "\n",
       "</div>\n",
       "\n",
       "<div class=\"frow\">\n",
       "    <div class=\"fnamecat \">\n",
       "<a target=\"_blank\" href=\"https://etcbc.github.io/BHSA/features/typ\" title=\"~/text-fabric-data/github/etcbc/BHSA/tf/2021/typ.tf\">typ</a>\n",
       "</div>\n",
       "<div class=\"fmono\">str</div>\n",
       "\n",
       "<span> ✅ clause/phrase(atom) type (VP; NP; Ellp; Ptcp; WayX)</span>\n",
       "\n",
       "</div>\n",
       "\n",
       "<div class=\"frow\">\n",
       "    <div class=\"fnamecat \">\n",
       "<a target=\"_blank\" href=\"https://etcbc.github.io/BHSA/features/uvf\" title=\"~/text-fabric-data/github/etcbc/BHSA/tf/2021/uvf.tf\">uvf</a>\n",
       "</div>\n",
       "<div class=\"fmono\">str</div>\n",
       "\n",
       "<span> ✅ univalent final consonant consonantal-transliterated (absent; N; J; ...)</span>\n",
       "\n",
       "</div>\n",
       "\n",
       "<div class=\"frow\">\n",
       "    <div class=\"fnamecat \">\n",
       "<a target=\"_blank\" href=\"https://etcbc.github.io/BHSA/features/vbe\" title=\"~/text-fabric-data/github/etcbc/BHSA/tf/2021/vbe.tf\">vbe</a>\n",
       "</div>\n",
       "<div class=\"fmono\">str</div>\n",
       "\n",
       "<span> ✅ verbal ending consonantal-transliterated (n/a; W; ...)</span>\n",
       "\n",
       "</div>\n",
       "\n",
       "<div class=\"frow\">\n",
       "    <div class=\"fnamecat \">\n",
       "<a target=\"_blank\" href=\"https://etcbc.github.io/BHSA/features/vbs\" title=\"~/text-fabric-data/github/etcbc/BHSA/tf/2021/vbs.tf\">vbs</a>\n",
       "</div>\n",
       "<div class=\"fmono\">str</div>\n",
       "\n",
       "<span> ✅ root formation consonantal-transliterated (absent; n/a; H; ...)</span>\n",
       "\n",
       "</div>\n",
       "\n",
       "<div class=\"frow\">\n",
       "    <div class=\"fnamecat \">\n",
       "<a target=\"_blank\" href=\"https://etcbc.github.io/BHSA/features/verse\" title=\"~/text-fabric-data/github/etcbc/BHSA/tf/2021/verse.tf\">verse</a>\n",
       "</div>\n",
       "<div class=\"fmono\">int</div>\n",
       "\n",
       "<span> ✅ verse number</span>\n",
       "\n",
       "</div>\n",
       "\n",
       "<div class=\"frow\">\n",
       "    <div class=\"fnamecat \">\n",
       "<a target=\"_blank\" href=\"https://etcbc.github.io/BHSA/features/voc_lex\" title=\"~/text-fabric-data/github/etcbc/BHSA/tf/2021/voc_lex.tf\">voc_lex</a>\n",
       "</div>\n",
       "<div class=\"fmono\">str</div>\n",
       "\n",
       "<span> ✅ vocalized lexeme pointed-transliterated (B.: R;>CIJT BR> >:ELOHIJM)</span>\n",
       "\n",
       "</div>\n",
       "\n",
       "<div class=\"frow\">\n",
       "    <div class=\"fnamecat \">\n",
       "<a target=\"_blank\" href=\"https://etcbc.github.io/BHSA/features/voc_lex_utf8\" title=\"~/text-fabric-data/github/etcbc/BHSA/tf/2021/voc_lex_utf8.tf\">voc_lex_utf8</a>\n",
       "</div>\n",
       "<div class=\"fmono\">str</div>\n",
       "\n",
       "<span> ✅ vocalized lexeme pointed-Hebrew (בְּ רֵאשִׁית ברא אֱלֹהִים)</span>\n",
       "\n",
       "</div>\n",
       "\n",
       "<div class=\"frow\">\n",
       "    <div class=\"fnamecat \">\n",
       "<a target=\"_blank\" href=\"https://etcbc.github.io/BHSA/features/vs\" title=\"~/text-fabric-data/github/etcbc/BHSA/tf/2021/vs.tf\">vs</a>\n",
       "</div>\n",
       "<div class=\"fmono\">str</div>\n",
       "\n",
       "<span> ✅ verbal stem (qal; piel; hif; apel; pael)</span>\n",
       "\n",
       "</div>\n",
       "\n",
       "<div class=\"frow\">\n",
       "    <div class=\"fnamecat \">\n",
       "<a target=\"_blank\" href=\"https://etcbc.github.io/BHSA/features/vt\" title=\"~/text-fabric-data/github/etcbc/BHSA/tf/2021/vt.tf\">vt</a>\n",
       "</div>\n",
       "<div class=\"fmono\">str</div>\n",
       "\n",
       "<span> ✅ verbal tense (perf; impv; wayq; infc)</span>\n",
       "\n",
       "</div>\n",
       "\n",
       "<div class=\"frow\">\n",
       "    <div class=\"fnamecat edge\">\n",
       "<a target=\"_blank\" href=\"https://etcbc.github.io/BHSA/features/mother\" title=\"~/text-fabric-data/github/etcbc/BHSA/tf/2021/mother.tf\">mother</a>\n",
       "</div>\n",
       "<div class=\"fmono\">none</div>\n",
       "\n",
       "<span> ✅ linguistic dependency between textual objects</span>\n",
       "\n",
       "</div>\n",
       "\n",
       "<div class=\"frow\">\n",
       "    <div class=\"fnamecat edge\">\n",
       "<a target=\"_blank\" href=\"https://etcbc.github.io/BHSA/features/oslots\" title=\"~/text-fabric-data/github/etcbc/BHSA/tf/2021/oslots.tf\">oslots</a>\n",
       "</div>\n",
       "<div class=\"fmono\">none</div>\n",
       "\n",
       "<span> </span>\n",
       "\n",
       "</div>\n",
       "\n",
       "    </div>\n",
       "</details>\n",
       "\n",
       "<details><summary><b>Phonetic Transcriptions</b></summary>\n",
       "    <div class=\"fcorpus\">\n",
       "\n",
       "<div class=\"frow\">\n",
       "    <div class=\"fnamecat \">\n",
       "<a target=\"_blank\" href=\"https://nbviewer.jupyter.org/github/etcbc/phono/blob/master/programs/phono.ipynb\" title=\"~/text-fabric-data/github/etcbc/phono/tf/2021/phono.tf\">phono</a>\n",
       "</div>\n",
       "<div class=\"fmono\">str</div>\n",
       "\n",
       "<span> 🆗 phonological transcription (bᵊ rēšˌîṯ bārˈā ʔᵉlōhˈîm)</span>\n",
       "\n",
       "</div>\n",
       "\n",
       "<div class=\"frow\">\n",
       "    <div class=\"fnamecat \">\n",
       "<a target=\"_blank\" href=\"https://nbviewer.jupyter.org/github/etcbc/phono/blob/master/programs/phono.ipynb\" title=\"~/text-fabric-data/github/etcbc/phono/tf/2021/phono_trailer.tf\">phono_trailer</a>\n",
       "</div>\n",
       "<div class=\"fmono\">str</div>\n",
       "\n",
       "<span> 🆗 interword material in phonological transcription</span>\n",
       "\n",
       "</div>\n",
       "\n",
       "    </div>\n",
       "</details>\n",
       "\n",
       "<details><summary><b><github>tonyjurg/BHSaddons/tf</b></summary>\n",
       "    <div class=\"fcorpus\">\n",
       "\n",
       "<div class=\"frow\">\n",
       "    <div class=\"fnamecat \">\n",
       "<a target=\"_blank\" href=\"https://github.com/tonyjurg/BHSaddons/tree/master/tf\" title=\"~/text-fabric-data/github/tonyjurg/BHSaddons/tf/2021/aliyotnum.tf\">aliyotnum</a>\n",
       "</div>\n",
       "<div class=\"fmono\">str</div>\n",
       "\n",
       "<span> Sequence number of the aliyot within the parasha</span>\n",
       "\n",
       "</div>\n",
       "\n",
       "<div class=\"frow\">\n",
       "    <div class=\"fnamecat \">\n",
       "<a target=\"_blank\" href=\"https://github.com/tonyjurg/BHSaddons/tree/master/tf\" title=\"~/text-fabric-data/github/tonyjurg/BHSaddons/tf/2021/maftir.tf\">maftir</a>\n",
       "</div>\n",
       "<div class=\"fmono\">str</div>\n",
       "\n",
       "<span> Set to 1 if this verse is part of a maftir</span>\n",
       "\n",
       "</div>\n",
       "\n",
       "<div class=\"frow\">\n",
       "    <div class=\"fnamecat \">\n",
       "<a target=\"_blank\" href=\"https://github.com/tonyjurg/BHSaddons/tree/master/tf\" title=\"~/text-fabric-data/github/tonyjurg/BHSaddons/tf/2021/parashahebr.tf\">parashahebr</a>\n",
       "</div>\n",
       "<div class=\"fmono\">str</div>\n",
       "\n",
       "<span> The name of the parasha in Hebrew</span>\n",
       "\n",
       "</div>\n",
       "\n",
       "<div class=\"frow\">\n",
       "    <div class=\"fnamecat \">\n",
       "<a target=\"_blank\" href=\"https://github.com/tonyjurg/BHSaddons/tree/master/tf\" title=\"~/text-fabric-data/github/tonyjurg/BHSaddons/tf/2021/parashanum.tf\">parashanum</a>\n",
       "</div>\n",
       "<div class=\"fmono\">str</div>\n",
       "\n",
       "<span> The sequence number of the parasha</span>\n",
       "\n",
       "</div>\n",
       "\n",
       "<div class=\"frow\">\n",
       "    <div class=\"fnamecat \">\n",
       "<a target=\"_blank\" href=\"https://github.com/tonyjurg/BHSaddons/tree/master/tf\" title=\"~/text-fabric-data/github/tonyjurg/BHSaddons/tf/2021/parashatrans.tf\">parashatrans</a>\n",
       "</div>\n",
       "<div class=\"fmono\">str</div>\n",
       "\n",
       "<span> Transliteration of the Hebrew parasha name</span>\n",
       "\n",
       "</div>\n",
       "\n",
       "<div class=\"frow\">\n",
       "    <div class=\"fnamecat \">\n",
       "<a target=\"_blank\" href=\"https://github.com/tonyjurg/BHSaddons/tree/master/tf\" title=\"~/text-fabric-data/github/tonyjurg/BHSaddons/tf/2021/parashaverse.tf\">parashaverse</a>\n",
       "</div>\n",
       "<div class=\"fmono\">str</div>\n",
       "\n",
       "<span> The sequence number of the verse within the parasha</span>\n",
       "\n",
       "</div>\n",
       "\n",
       "    </div>\n",
       "</details>\n",
       "\n",
       "            <b>Settings:</b><br><details ><summary><b>specified</b></summary><ol><li><b>apiVersion</b>: <code>3</code></li><li><b>appName</b>: <code>etcbc/BHSA</code></li><li><b>appPath</b>: <code>C:/Users/tonyj/text-fabric-data/github/etcbc/BHSA/app</code></li><li><b>commit</b>: <code>gd905e3fb6e80d0fa537600337614adc2af157309</code></li><li><b>css</b>: <code>''</code></li><li><details><summary><b>dataDisplay</b>:</summary><ul><li><details><summary><b>exampleSectionHtml</b>:</summary><code>&lt;code&gt;Genesis 1:1&lt;/code&gt; (use &lt;a href=\"https://github.com/{org}/{repo}/blob/master/tf/{version}/book%40en.tf\" target=\"_blank\"&gt;English book names&lt;/a&gt;)</code></details></li><li><details><summary><b>excludedFeatures</b>:</summary><ul><li><code>g_uvf_utf8</code></li><li><code>g_vbs</code></li><li><code>kq_hybrid</code></li><li><code>languageISO</code></li><li><code>g_nme</code></li><li><code>lex0</code></li><li><code>is_root</code></li><li><code>g_vbs_utf8</code></li><li><code>g_uvf</code></li><li><code>dist</code></li><li><code>root</code></li><li><code>suffix_person</code></li><li><code>g_vbe</code></li><li><code>dist_unit</code></li><li><code>suffix_number</code></li><li><code>distributional_parent</code></li><li><code>kq_hybrid_utf8</code></li><li><code>crossrefSET</code></li><li><code>instruction</code></li><li><code>g_prs</code></li><li><code>lexeme_count</code></li><li><code>rank_occ</code></li><li><code>g_pfm_utf8</code></li><li><code>freq_occ</code></li><li><code>crossrefLCS</code></li><li><code>functional_parent</code></li><li><code>g_pfm</code></li><li><code>g_nme_utf8</code></li><li><code>g_vbe_utf8</code></li><li><code>kind</code></li><li><code>g_prs_utf8</code></li><li><code>suffix_gender</code></li><li><code>mother_object_type</code></li></ul></details></li><li><details><summary><b>noneValues</b>:</summary><ul><li><code>none</code></li><li><code>unknown</code></li><li><i>no value</i></li><li><code>NA</code></li></ul></details></li></ul></details></li><li><details><summary><b>docs</b>:</summary><ul><li><b>docBase</b>: <code>{docRoot}/{repo}</code></li><li><b>docExt</b>: <code>''</code></li><li><b>docPage</b>: <code>''</code></li><li><b>docRoot</b>: <code>https://{org}.github.io</code></li><li><b>featurePage</b>: <code>0_home</code></li></ul></details></li><li><b>interfaceDefaults</b>: <code>{}</code></li><li><b>isCompatible</b>: <code>True</code></li><li><b>local</b>: <code>local</code></li><li><b>localDir</b>: <code>C:/Users/tonyj/text-fabric-data/github/etcbc/BHSA/_temp</code></li><li><details><summary><b>provenanceSpec</b>:</summary><ul><li><b>corpus</b>: <code>BHSA = Biblia Hebraica Stuttgartensia Amstelodamensis</code></li><li><b>doi</b>: <code>10.5281/zenodo.1007624</code></li><li><details><summary><b>moduleSpecs</b>:</summary><ul><li><details><summary>:</summary><ul><li><b>backend</b>: <i>no value</i></li><li><b>corpus</b>: <code>Phonetic Transcriptions</code></li><li><details><summary><b>docUrl</b>:</summary><code>https://nbviewer.jupyter.org/github/etcbc/phono/blob/master/programs/phono.ipynb</code></details></li><li><b>doi</b>: <code>10.5281/zenodo.1007636</code></li><li><b>org</b>: <code>etcbc</code></li><li><b>relative</b>: <code>/tf</code></li><li><b>repo</b>: <code>phono</code></li></ul></details></li><li><details><summary>:</summary><ul><li><b>backend</b>: <i>no value</i></li><li><b>corpus</b>: <code>Parallel Passages</code></li><li><details><summary><b>docUrl</b>:</summary><code>https://nbviewer.jupyter.org/github/etcbc/parallels/blob/master/programs/parallels.ipynb</code></details></li><li><b>doi</b>: <code>10.5281/zenodo.1007642</code></li><li><b>org</b>: <code>etcbc</code></li><li><b>relative</b>: <code>/tf</code></li><li><b>repo</b>: <code>parallels</code></li></ul></details></li></ul></details></li><li><b>org</b>: <code>etcbc</code></li><li><b>relative</b>: <code>/tf</code></li><li><b>repo</b>: <code>BHSA</code></li><li><b>version</b>: <code>2021</code></li><li><b>webBase</b>: <code>https://shebanq.ancient-data.org/hebrew</code></li><li><b>webHint</b>: <code>Show this on SHEBANQ</code></li><li><b>webLang</b>: <code>la</code></li><li><b>webLexId</b>: <code>True</code></li><li><details><summary><b>webUrl</b>:</summary><code>{webBase}/text?book=&lt;1&gt;&amp;chapter=&lt;2&gt;&amp;verse=&lt;3&gt;&amp;version={version}&amp;mr=m&amp;qw=q&amp;tp=txt_p&amp;tr=hb&amp;wget=v&amp;qget=v&amp;nget=vt</code></details></li><li><b>webUrlLex</b>: <code>{webBase}/word?version={version}&amp;id=&lt;lid&gt;</code></li></ul></details></li><li><b>release</b>: <code>v1.8</code></li><li><details><summary><b>typeDisplay</b>:</summary><ul><li><details><summary><b>clause</b>:</summary><ul><li><b>label</b>: <code>{typ} {rela}</code></li><li><b>style</b>: <code>''</code></li></ul></details></li><li><details><summary><b>clause_atom</b>:</summary><ul><li><b>hidden</b>: <code>True</code></li><li><b>label</b>: <code>{code}</code></li><li><b>level</b>: <code>1</code></li><li><b>style</b>: <code>''</code></li></ul></details></li><li><details><summary><b>half_verse</b>:</summary><ul><li><b>hidden</b>: <code>True</code></li><li><b>label</b>: <code>{label}</code></li><li><b>style</b>: <code>''</code></li><li><b>verselike</b>: <code>True</code></li></ul></details></li><li><details><summary><b>lex</b>:</summary><ul><li><b>featuresBare</b>: <code>gloss</code></li><li><b>label</b>: <code>{voc_lex_utf8}</code></li><li><b>lexOcc</b>: <code>word</code></li><li><b>style</b>: <code>orig</code></li><li><b>template</b>: <code>{voc_lex_utf8}</code></li></ul></details></li><li><details><summary><b>phrase</b>:</summary><ul><li><b>label</b>: <code>{typ} {function}</code></li><li><b>style</b>: <code>''</code></li></ul></details></li><li><details><summary><b>phrase_atom</b>:</summary><ul><li><b>hidden</b>: <code>True</code></li><li><b>label</b>: <code>{typ} {rela}</code></li><li><b>level</b>: <code>1</code></li><li><b>style</b>: <code>''</code></li></ul></details></li><li><details><summary><b>sentence</b>:</summary><ul><li><b>label</b>: <code>{number}</code></li><li><b>style</b>: <code>''</code></li></ul></details></li><li><details><summary><b>sentence_atom</b>:</summary><ul><li><b>hidden</b>: <code>True</code></li><li><b>label</b>: <code>{number}</code></li><li><b>level</b>: <code>1</code></li><li><b>style</b>: <code>''</code></li></ul></details></li><li><details><summary><b>subphrase</b>:</summary><ul><li><b>hidden</b>: <code>True</code></li><li><b>label</b>: <code>{number}</code></li><li><b>style</b>: <code>''</code></li></ul></details></li><li><details><summary><b>word</b>:</summary><ul><li><b>features</b>: <code>pdp vs vt</code></li><li><b>featuresBare</b>: <code>lex:gloss</code></li></ul></details></li></ul></details></li><li><b>writing</b>: <code>hbo</code></li></ol></details>\n"
      ],
      "text/plain": [
       "<IPython.core.display.HTML object>"
      ]
     },
     "metadata": {},
     "output_type": "display_data"
    },
    {
     "data": {
      "text/html": [
       "<style>tr.tf.ltr, td.tf.ltr, th.tf.ltr { text-align: left ! important;}\n",
       "tr.tf.rtl, td.tf.rtl, th.tf.rtl { text-align: right ! important;}\n",
       "@font-face {\n",
       "  font-family: \"Gentium Plus\";\n",
       "  src: local('Gentium Plus'), local('GentiumPlus'),\n",
       "    url('/browser/static/fonts/GentiumPlus-R.woff') format('woff'),\n",
       "    url('https://github.com/annotation/text-fabric/blob/master/tf/browser/static/fonts/GentiumPlus-R.woff?raw=true') format('woff');\n",
       "}\n",
       "\n",
       "@font-face {\n",
       "  font-family: \"Ezra SIL\";\n",
       "  src: local('Ezra SIL'), local('EzraSIL'),\n",
       "    url('/browser/static/fonts/SILEOT.woff') format('woff'),\n",
       "    url('https://github.com/annotation/text-fabric/blob/master/tf/browser/static/fonts/SILEOT.woff?raw=true') format('woff');\n",
       "}\n",
       "\n",
       "@font-face {\n",
       "  font-family: \"SBL Hebrew\";\n",
       "  src: local('SBL Hebrew'), local('SBLHebrew'),\n",
       "    url('/browser/static/fonts/SBL_Hbrw.woff') format('woff'),\n",
       "    url('https://github.com/annotation/text-fabric/blob/master/tf/browser/static/fonts/SBL_Hbrw.woff?raw=true') format('woff');\n",
       "}\n",
       "\n",
       "@font-face {\n",
       "  font-family: \"Estrangelo Edessa\";\n",
       "  src: local('Estrangelo Edessa'), local('EstrangeloEdessa');\n",
       "    url('/browser/static/fonts/SyrCOMEdessa.woff') format('woff'),\n",
       "    url('https://github.com/annotation/text-fabric/blob/master/tf/browser/static/fonts/SyrCOMEdessa.woff?raw=true') format('woff');\n",
       "}\n",
       "\n",
       "@font-face {\n",
       "  font-family: AmiriQuran;\n",
       "  font-style: normal;\n",
       "  font-weight: 400;\n",
       "  src: local('Amiri Quran'), local('AmiriQuran'),\n",
       "    url('/browser/static/fonts/AmiriQuran.woff') format('woff'),\n",
       "    url('https://github.com/annotation/text-fabric/blob/master/tf/browser/static/fonts/AmiriQuran.woff?raw=true') format('woff');\n",
       "}\n",
       "\n",
       "@font-face {\n",
       "  font-family: AmiriQuranColored;\n",
       "  font-style: normal;\n",
       "  font-weight: 400;\n",
       "  src: local('Amiri Quran Colored'), local('AmiriQuranColored'),\n",
       "    url('/browser/static/fonts/AmiriQuranColored.woff') format('woff'),\n",
       "    url('https://github.com/annotation/text-fabric/blob/master/tf/browser/static/fonts/AmiriQuranColored.woff?raw=true') format('woff');\n",
       "}\n",
       "\n",
       "@font-face {\n",
       "  font-family: \"Santakku\";\n",
       "  src: local('Santakku'),\n",
       "    url('/browser/static/fonts/Santakku.woff') format('woff'),\n",
       "    url('https://github.com/annotation/text-fabric/blob/master/tf/browser/static/fonts/Santakku.woff?raw=true') format('woff');\n",
       "}\n",
       "\n",
       "@font-face {\n",
       "  font-family: \"SantakkuM\";\n",
       "  src: local('SantakkuM'),\n",
       "    url('/browser/static/fonts/SantakkuM.woff') format('woff'),\n",
       "    url('https://github.com/annotation/text-fabric/blob/master/tf/browser/static/fonts/SantakkuM.woff?raw=true') format('woff');\n",
       "}\n",
       "\n",
       "/* bypassing some classical notebook settings */\n",
       "div#notebook {\n",
       "  line-height: unset;\n",
       "}\n",
       "/* neutral text */\n",
       ".txtn,.txtn a:visited,.txtn a:link {\n",
       "    font-family: sans-serif;\n",
       "    font-size: medium;\n",
       "    direction: ltr;\n",
       "    unicode-bidi: embed;\n",
       "    text-decoration: none;\n",
       "    color: var(--text-color);\n",
       "}\n",
       "/* transcription text */\n",
       ".txtt,.txtt a:visited,.txtt a:link {\n",
       "    font-family: monospace;\n",
       "    font-size: medium;\n",
       "    direction: ltr;\n",
       "    unicode-bidi: embed;\n",
       "    text-decoration: none;\n",
       "    color: var(--text-color);\n",
       "}\n",
       "/* source text */\n",
       ".txto,.txto a:visited,.txto a:link {\n",
       "    font-family: serif;\n",
       "    font-size: medium;\n",
       "    direction: ltr;\n",
       "    unicode-bidi: embed;\n",
       "    text-decoration: none;\n",
       "    color: var(--text-color);\n",
       "}\n",
       "/* phonetic text */\n",
       ".txtp,.txtp a:visited,.txtp a:link {\n",
       "    font-family: Gentium, sans-serif;\n",
       "    font-size: medium;\n",
       "    direction: ltr;\n",
       "    unicode-bidi: embed;\n",
       "    text-decoration: none;\n",
       "    color: var(--text-color);\n",
       "}\n",
       "/* original script text */\n",
       ".txtu,.txtu a:visited,.txtu a:link {\n",
       "    font-family: Gentium, sans-serif;\n",
       "    font-size: medium;\n",
       "    text-decoration: none;\n",
       "    color: var(--text-color);\n",
       "}\n",
       "/* hebrew */\n",
       ".txtu.hbo,.lex.hbo {\n",
       "    font-family: \"Ezra SIL\", \"SBL Hebrew\", sans-serif;\n",
       "    font-size: large;\n",
       "    direction: rtl ! important;\n",
       "    unicode-bidi: embed;\n",
       "}\n",
       "/* syriac */\n",
       ".txtu.syc,.lex.syc {\n",
       "    font-family: \"Estrangelo Edessa\", sans-serif;\n",
       "    font-size: medium;\n",
       "    direction: rtl ! important;\n",
       "    unicode-bidi: embed;\n",
       "}\n",
       "/* neo aramaic */\n",
       ".txtu.cld,.lex.cld {\n",
       "    font-family: \"CharisSIL-R\", sans-serif;\n",
       "    font-size: medium;\n",
       "    direction: ltr ! important;\n",
       "    unicode-bidi: embed;\n",
       "}\n",
       "/* standard arabic */\n",
       ".txtu.ara,.lex.ara {\n",
       "    font-family: \"AmiriQuran\", sans-serif;\n",
       "    font-size: large;\n",
       "    direction: rtl ! important;\n",
       "    unicode-bidi: embed;\n",
       "}\n",
       "/* cuneiform */\n",
       ".txtu.akk,.lex.akk {\n",
       "    font-family: Santakku, sans-serif;\n",
       "    font-size: large;\n",
       "    direction: ltr ! important;\n",
       "    unicode-bidi: embed;\n",
       "}\n",
       ".txtu.uga,.lex.uga {\n",
       "    font-family: sans-serif;\n",
       "    /*font-family: Noto Sans Ugaritic, sans-serif;*/\n",
       "    font-size: large;\n",
       "    direction: ltr ! important;\n",
       "    unicode-bidi: embed;\n",
       "}\n",
       "/* greek */\n",
       ".txtu.grc,.lex.grc a:link {\n",
       "    font-family: Gentium, sans-serif;\n",
       "    font-size: medium;\n",
       "    direction: ltr ! important;\n",
       "    unicode-bidi: embed;\n",
       "}\n",
       "a:hover {\n",
       "    text-decoration: underline | important;\n",
       "    color: #0000ff | important;\n",
       "}\n",
       ".ltr {\n",
       "    direction: ltr ! important;\n",
       "    unicode-bidi: embed;\n",
       "}\n",
       ".rtl {\n",
       "    direction: rtl ! important;\n",
       "    unicode-bidi: embed;\n",
       "}\n",
       ".ubd {\n",
       "    unicode-bidi: embed;\n",
       "}\n",
       ".col {\n",
       "   display: inline-block;\n",
       "}\n",
       ".features {\n",
       "    font-family: monospace;\n",
       "    font-size: medium;\n",
       "    font-weight: bold;\n",
       "    color: var(--features);\n",
       "    display: flex;\n",
       "    flex-flow: column nowrap;\n",
       "    justify-content: flex-start;\n",
       "    align-items: flex-start;\n",
       "    align-content: flex-start;\n",
       "    padding: 2px;\n",
       "    margin: 2px;\n",
       "    direction: ltr;\n",
       "    unicode-bidi: embed;\n",
       "    border: var(--meta-width) solid var(--meta-color);\n",
       "    border-radius: var(--meta-width);\n",
       "}\n",
       ".features div,.features span {\n",
       "    padding: 0;\n",
       "    margin: -2px 0;\n",
       "}\n",
       ".features .f {\n",
       "    font-family: sans-serif;\n",
       "    font-size: small;\n",
       "    font-weight: normal;\n",
       "    color: #5555bb;\n",
       "}\n",
       ".features .xft {\n",
       "  color: #000000;\n",
       "  background-color: #eeeeee;\n",
       "  font-size: medium;\n",
       "  margin: 2px 0px;\n",
       "}\n",
       ".features .xft .f {\n",
       "  color: #000000;\n",
       "  background-color: #eeeeee;\n",
       "  font-size: small;\n",
       "  font-weight: normal;\n",
       "}\n",
       ".tfsechead {\n",
       "    font-family: sans-serif;\n",
       "    font-size: small;\n",
       "    font-weight: bold;\n",
       "    color: var(--tfsechead);\n",
       "    unicode-bidi: embed;\n",
       "    text-align: start;\n",
       "}\n",
       ".structure {\n",
       "    font-family: sans-serif;\n",
       "    font-size: small;\n",
       "    font-weight: bold;\n",
       "    color: var(--structure);\n",
       "    unicode-bidi: embed;\n",
       "    text-align: start;\n",
       "}\n",
       ".comments {\n",
       "    display: flex;\n",
       "    justify-content: flex-start;\n",
       "    align-items: flex-start;\n",
       "    align-content: flex-start;\n",
       "    flex-flow: column nowrap;\n",
       "}\n",
       ".nd, a:link.nd {\n",
       "    font-family: sans-serif;\n",
       "    font-size: small;\n",
       "    color: var(--node);\n",
       "    vertical-align: super;\n",
       "    direction: ltr ! important;\n",
       "    unicode-bidi: embed;\n",
       "}\n",
       ".nde, a:link.nde {\n",
       "    font-family: sans-serif;\n",
       "    font-size: small;\n",
       "    color: var(--node);\n",
       "    direction: ltr ! important;\n",
       "    unicode-bidi: embed;\n",
       "}\n",
       ".etf {\n",
       "    font-size: normal;\n",
       "    border-radius: 0.2rem;\n",
       "    border: 1pt solid white;\n",
       "    padding: 0 0.2rem ! important;\n",
       "    margin: 0 0.2rem ! important;\n",
       "}\n",
       ".etfx {\n",
       "    font-size: x-large;\n",
       "}\n",
       ".lex {\n",
       "  color: var(--lex-color);;\n",
       "}\n",
       "#colormapplus, #colormapmin, .ecolormapmin {\n",
       "  font-weight: bold;\n",
       "  border-radius: 0.1rem;\n",
       "  background-color: #eeeeff;\n",
       "  padding: 0 1rem;\n",
       "  margin: 0 1rem;\n",
       "}\n",
       ".clr {\n",
       "  font-style: italic;\n",
       "  font-size: small;\n",
       "}\n",
       ".clmap,.eclmap {\n",
       "  padding: 0;\n",
       "}\n",
       ".children,.children.ltr {\n",
       "    display: flex;\n",
       "    border: 0;\n",
       "    background-color: #ffffff;\n",
       "    justify-content: flex-start;\n",
       "    align-items: flex-start;\n",
       "    align-content: flex-start;\n",
       "}\n",
       ".children.stretch {\n",
       "    align-items: stretch;\n",
       "}\n",
       ".children.hor {\n",
       "    flex-flow: row nowrap;\n",
       "}\n",
       ".children.hor.wrap {\n",
       "    flex-flow: row wrap;\n",
       "}\n",
       ".children.ver {\n",
       "    flex-flow: column nowrap;\n",
       "}\n",
       ".children.ver.wrap {\n",
       "    flex-flow: column wrap;\n",
       "}\n",
       ".contnr {\n",
       "    width: fit-content;\n",
       "    display: flex;\n",
       "    justify-content: flex-start;\n",
       "    align-items: flex-start;\n",
       "    align-content: flex-start;\n",
       "    flex-flow: column nowrap;\n",
       "    background: #ffffff none repeat scroll 0 0;\n",
       "    padding:  10px 2px 2px 2px;\n",
       "    margin: 16px 2px 2px 2px;\n",
       "    border-style: solid;\n",
       "    font-size: small;\n",
       "}\n",
       ".contnr.trm {\n",
       "    background-attachment: local;\n",
       "}\n",
       ".contnr.cnul {\n",
       "    padding:  0;\n",
       "    margin: 0;\n",
       "    border-style: solid;\n",
       "    font-size: xx-small;\n",
       "}\n",
       ".contnr.cnul,.lbl.cnul {\n",
       "    border-color: var(--border-color-nul);\n",
       "    border-width: var(--border-width-nul);\n",
       "    border-radius: var(--border-width-nul);\n",
       "}\n",
       ".contnr.c0,.lbl.c0 {\n",
       "    border-color: var(--border-color0);\n",
       "    border-width: var(--border-width0);\n",
       "    border-radius: var(--border-width0);\n",
       "}\n",
       ".contnr.c1,.lbl.c1 {\n",
       "    border-color: var(--border-color1);\n",
       "    border-width: var(--border-width1);\n",
       "    border-radius: var(--border-width1);\n",
       "}\n",
       ".contnr.c2,.lbl.c2 {\n",
       "    border-color: var(--border-color2);\n",
       "    border-width: var(--border-width2);\n",
       "    border-radius: var(--border-width2);\n",
       "}\n",
       ".contnr.c3,.lbl.c3 {\n",
       "    border-color: var(--border-color3);\n",
       "    border-width: var(--border-width3);\n",
       "    border-radius: var(--border-width3);\n",
       "}\n",
       ".contnr.c4,.lbl.c4 {\n",
       "    border-color: var(--border-color4);\n",
       "    border-width: var(--border-width4);\n",
       "    border-radius: var(--border-width4);\n",
       "}\n",
       "span.plain {\n",
       "    /*display: inline-block;*/\n",
       "    display: inline-flex;\n",
       "    flex-flow: row wrap;\n",
       "    white-space: pre-wrap;\n",
       "}\n",
       "span.break {\n",
       "  flex-basis: 100%;\n",
       "  height: 0;\n",
       "}\n",
       ".plain {\n",
       "    background-color: #ffffff;\n",
       "}\n",
       ".plain.l,.contnr.l,.contnr.l>.lbl {\n",
       "    border-left-style: dotted\n",
       "}\n",
       ".plain.r,.contnr.r,.contnr.r>.lbl {\n",
       "    border-right-style: dotted\n",
       "}\n",
       ".plain.lno,.contnr.lno,.contnr.lno>.lbl {\n",
       "    border-left-style: none\n",
       "}\n",
       ".plain.rno,.contnr.rno,.contnr.rno>.lbl {\n",
       "    border-right-style: none\n",
       "}\n",
       ".plain.l {\n",
       "    padding-left: 4px;\n",
       "    margin-left: 2px;\n",
       "    border-width: var(--border-width-plain);\n",
       "}\n",
       ".plain.r {\n",
       "    padding-right: 4px;\n",
       "    margin-right: 2px;\n",
       "    border-width: var(--border-width-plain);\n",
       "}\n",
       ".lbl {\n",
       "    font-family: monospace;\n",
       "    margin-top: -24px;\n",
       "    margin-left: 20px;\n",
       "    background: #ffffff none repeat scroll 0 0;\n",
       "    padding: 0 6px;\n",
       "    border-style: solid;\n",
       "    display: block;\n",
       "    color: var(--label)\n",
       "}\n",
       ".lbl.trm {\n",
       "    background-attachment: local;\n",
       "    margin-top: 2px;\n",
       "    margin-left: 2px;\n",
       "    padding: 2px 2px;\n",
       "    border-style: none;\n",
       "}\n",
       ".lbl.cnul {\n",
       "    font-size: xx-small;\n",
       "}\n",
       ".lbl.c0 {\n",
       "    font-size: small;\n",
       "}\n",
       ".lbl.c1 {\n",
       "    font-size: small;\n",
       "}\n",
       ".lbl.c2 {\n",
       "    font-size: medium;\n",
       "}\n",
       ".lbl.c3 {\n",
       "    font-size: medium;\n",
       "}\n",
       ".lbl.c4 {\n",
       "    font-size: large;\n",
       "}\n",
       ".occs, a:link.occs {\n",
       "    font-size: small;\n",
       "}\n",
       "\n",
       "/* PROVENANCE */\n",
       "\n",
       "div.prov {\n",
       "\tmargin: 40px;\n",
       "\tpadding: 20px;\n",
       "\tborder: 2px solid var(--fog-rim);\n",
       "}\n",
       "div.pline {\n",
       "\tdisplay: flex;\n",
       "\tflex-flow: row nowrap;\n",
       "\tjustify-content: stretch;\n",
       "\talign-items: baseline;\n",
       "}\n",
       "div.p2line {\n",
       "\tmargin-left: 2em;\n",
       "\tdisplay: flex;\n",
       "\tflex-flow: row nowrap;\n",
       "\tjustify-content: stretch;\n",
       "\talign-items: baseline;\n",
       "}\n",
       "div.psline {\n",
       "\tdisplay: flex;\n",
       "\tflex-flow: row nowrap;\n",
       "\tjustify-content: stretch;\n",
       "\talign-items: baseline;\n",
       "\tbackground-color: var(--gold-mist-back);\n",
       "}\n",
       "div.pname {\n",
       "\tflex: 0 0 5rem;\n",
       "\tfont-weight: bold;\n",
       "}\n",
       "div.pval {\n",
       "    flex: 1 1 auto;\n",
       "}\n",
       "\n",
       "/* KEYBOARD */\n",
       ".ccoff {\n",
       "  background-color: inherit;\n",
       "}\n",
       ".ccon {\n",
       "  background-color: yellow ! important;\n",
       "}\n",
       ".ccon,.ccoff {\n",
       "  padding: 0.2rem;\n",
       "  margin: 0.2rem;\n",
       "  border: 0.1rem solid var(--letter-box-border);\n",
       "  border-radius: 0.1rem;\n",
       "}\n",
       ".ccline {\n",
       "  font-size: xx-large ! important;\n",
       "  font-weight: bold;\n",
       "  line-height: 2em ! important;\n",
       "}\n",
       "/* TF header */\n",
       "\n",
       "summary {\n",
       "  /* needed to override the normalize.less\n",
       "   * in the classical Jupyter Notebook\n",
       "   */\n",
       "  display: list-item ! important;\n",
       "}\n",
       "\n",
       ".fcorpus {\n",
       "  display: flex;\n",
       "  flex-flow: column nowrap;\n",
       "  justify-content: flex-start;\n",
       "  align-items: flex-start;\n",
       "  align-content: flex-start;\n",
       "  overflow: auto;\n",
       "}\n",
       ".frow {\n",
       "  display: flex;\n",
       "  flex-flow: row nowrap;\n",
       "  justify-content: flex-start;\n",
       "  align-items: flex-start;\n",
       "  align-content: flex-start;\n",
       "}\n",
       ".fmeta {\n",
       "  display: flex;\n",
       "  flex-flow: column nowrap;\n",
       "  justify-content: flex-start;\n",
       "  align-items: flex-start;\n",
       "  align-content: flex-start;\n",
       "}\n",
       ".fmetarow {\n",
       "  display: flex;\n",
       "  flex-flow: row nowrap;\n",
       "  justify-content: flex-start;\n",
       "  align-items: flex-start;\n",
       "  align-content: flex-start;\n",
       "}\n",
       ".fmetakey {\n",
       "  min-width: 8em;\n",
       "  font-family: monospace;\n",
       "}\n",
       ".fnamecat {\n",
       "  min-width: 8em;\n",
       "}\n",
       ".fnamecat.edge {\n",
       "  font-weight: bold;\n",
       "  font-style: italic;\n",
       "}\n",
       ".fmono {\n",
       "    font-family: monospace;\n",
       "}\n",
       "\n",
       ":root {\n",
       "\t--node:               hsla(120, 100%,  20%, 1.0  );\n",
       "\t--label:              hsla(  0, 100%,  20%, 1.0  );\n",
       "\t--tfsechead:          hsla(  0, 100%,  25%, 1.0  );\n",
       "\t--structure:          hsla(120, 100%,  25%, 1.0  );\n",
       "\t--features:           hsla(  0,   0%,  30%, 1.0  );\n",
       "  --text-color:         hsla( 60,  80%,  10%, 1.0  );\n",
       "  --lex-color:          hsla(220,  90%,  60%, 1.0  );\n",
       "  --meta-color:         hsla(  0,   0%,  90%, 0.7  );\n",
       "  --meta-width:         3px;\n",
       "  --border-color-nul:   hsla(  0,   0%,  90%, 0.5  );\n",
       "  --border-color0:      hsla(  0,   0%,  90%, 0.9  );\n",
       "  --border-color1:      hsla(  0,   0%,  80%, 0.9  );\n",
       "  --border-color2:      hsla(  0,   0%,  70%, 0.9  );\n",
       "  --border-color3:      hsla(  0,   0%,  80%, 0.8  );\n",
       "  --border-color4:      hsla(  0,   0%,  60%, 0.9  );\n",
       "\t--letter-box-border:  hsla(  0,   0%,  80%, 0.5  );\n",
       "  --border-width-nul:   2px;\n",
       "  --border-width0:      2px;\n",
       "  --border-width1:      3px;\n",
       "  --border-width2:      4px;\n",
       "  --border-width3:      6px;\n",
       "  --border-width4:      5px;\n",
       "  --border-width-plain: 2px;\n",
       "}\n",
       ".hl {\n",
       "  background-color: var(--hl-strong);\n",
       "}\n",
       "span.hl {\n",
       "\tbackground-color: var(--hl-strong);\n",
       "\tborder-width: 0;\n",
       "\tborder-radius: 2px;\n",
       "\tborder-style: solid;\n",
       "}\n",
       "div.contnr.hl,div.lbl.hl {\n",
       "  background-color: var(--hl-strong);\n",
       "}\n",
       "div.contnr.hl {\n",
       "  border-color: var(--hl-rim) ! important;\n",
       "\tborder-width: 4px ! important;\n",
       "}\n",
       "\n",
       "span.hlbx {\n",
       "\tborder-color: var(--hl-rim);\n",
       "\tborder-width: 4px ! important;\n",
       "\tborder-style: solid;\n",
       "\tborder-radius: 6px;\n",
       "  padding: 4px;\n",
       "  margin: 4px;\n",
       "}\n",
       ".ehl {\n",
       "  background-color: var(--ehl-strong);\n",
       "}\n",
       "\n",
       ":root {\n",
       "\t--hl-strong:        hsla( 60, 100%,  70%, 0.9  );\n",
       "\t--hl-rim:           hsla( 55,  80%,  50%, 1.0  );\n",
       "\t--ehl-strong:       hsla(240, 100%,  70%, 0.9  );\n",
       "}\n",
       "</style>"
      ],
      "text/plain": [
       "<IPython.core.display.HTML object>"
      ]
     },
     "metadata": {},
     "output_type": "display_data"
    },
    {
     "data": {
      "text/html": [
       "\n",
       "<script>\n",
       "globalThis.copyChar = (el, c) => {\n",
       "    for (const el of document.getElementsByClassName('ccon')) {\n",
       "        el.className = 'ccoff'\n",
       "    }\n",
       "    el.className = 'ccon'\n",
       "    navigator.clipboard.writeText(String.fromCharCode(c))\n",
       "}\n",
       "</script>\n"
      ],
      "text/plain": [
       "<IPython.core.display.HTML object>"
      ]
     },
     "metadata": {},
     "output_type": "display_data"
    },
    {
     "data": {
      "text/html": [
       "<div><b>TF API:</b> names <a target=\"_blank\" href=\"https://annotation.github.io/text-fabric/tf/cheatsheet.html\" title=\"doc\">N F E L T S C TF Fs Fall Es Eall Cs Call</a> directly usable</div><hr>"
      ],
      "text/plain": [
       "<IPython.core.display.HTML object>"
      ]
     },
     "metadata": {},
     "output_type": "display_data"
    }
   ],
   "source": [
    "# load the app and data\n",
    "BHSA = use (\"etcbc/BHSA\", mod=\"tonyjurg/BHSaddons/tf/\", hoist=globals())"
   ]
  },
  {
   "cell_type": "markdown",
   "id": "bd939a75-8253-4119-b64d-3d5c403ed096",
   "metadata": {},
   "source": [
    "# 3 - Performing the queries <a class=\"anchor\" id=\"bullet3\"></a>\n",
    "##### [Back to ToC](#TOC)\n",
    "\n",
    "We are using feature crossref."
   ]
  },
  {
   "cell_type": "markdown",
   "id": "98d90b55-8aed-4691-8a7d-e110c48d4857",
   "metadata": {},
   "source": [
    "## 3.1 Locate the parallels <a class=\"anchor\" id=\"bullet3x1\"></a>"
   ]
  },
  {
   "cell_type": "code",
   "execution_count": 4,
   "id": "9f2d4e15-43e8-4ab6-946b-52e2178e0f21",
   "metadata": {},
   "outputs": [
    {
     "name": "stdout",
     "output_type": "stream",
     "text": [
      "  0.02s 153 results\n"
     ]
    }
   ],
   "source": [
    "# find all verse nodes for this parasha using its sequence number\n",
    "parashaQuery = '''\n",
    "verse parashanum=2\n",
    "'''\n",
    "parashaResults = BHSA.search(parashaQuery)"
   ]
  },
  {
   "cell_type": "code",
   "execution_count": 5,
   "id": "6b3e6e9d-fc2a-43a7-8ea9-a376f65dc2ac",
   "metadata": {},
   "outputs": [
    {
     "data": {
      "text/markdown": [],
      "text/plain": [
       "<IPython.core.display.Markdown object>"
      ]
     },
     "metadata": {},
     "output_type": "display_data"
    },
    {
     "data": {
      "text/markdown": [],
      "text/plain": [
       "<IPython.core.display.Markdown object>"
      ]
     },
     "metadata": {},
     "output_type": "display_data"
    },
    {
     "data": {
      "text/markdown": [],
      "text/plain": [
       "<IPython.core.display.Markdown object>"
      ]
     },
     "metadata": {},
     "output_type": "display_data"
    },
    {
     "data": {
      "text/markdown": [],
      "text/plain": [
       "<IPython.core.display.Markdown object>"
      ]
     },
     "metadata": {},
     "output_type": "display_data"
    },
    {
     "data": {
      "text/markdown": [],
      "text/plain": [
       "<IPython.core.display.Markdown object>"
      ]
     },
     "metadata": {},
     "output_type": "display_data"
    },
    {
     "data": {
      "text/markdown": [],
      "text/plain": [
       "<IPython.core.display.Markdown object>"
      ]
     },
     "metadata": {},
     "output_type": "display_data"
    },
    {
     "data": {
      "text/markdown": [],
      "text/plain": [
       "<IPython.core.display.Markdown object>"
      ]
     },
     "metadata": {},
     "output_type": "display_data"
    },
    {
     "data": {
      "text/markdown": [],
      "text/plain": [
       "<IPython.core.display.Markdown object>"
      ]
     },
     "metadata": {},
     "output_type": "display_data"
    },
    {
     "data": {
      "text/markdown": [],
      "text/plain": [
       "<IPython.core.display.Markdown object>"
      ]
     },
     "metadata": {},
     "output_type": "display_data"
    },
    {
     "data": {
      "text/markdown": [],
      "text/plain": [
       "<IPython.core.display.Markdown object>"
      ]
     },
     "metadata": {},
     "output_type": "display_data"
    },
    {
     "data": {
      "text/markdown": [],
      "text/plain": [
       "<IPython.core.display.Markdown object>"
      ]
     },
     "metadata": {},
     "output_type": "display_data"
    },
    {
     "data": {
      "text/markdown": [],
      "text/plain": [
       "<IPython.core.display.Markdown object>"
      ]
     },
     "metadata": {},
     "output_type": "display_data"
    },
    {
     "data": {
      "text/markdown": [],
      "text/plain": [
       "<IPython.core.display.Markdown object>"
      ]
     },
     "metadata": {},
     "output_type": "display_data"
    },
    {
     "data": {
      "text/markdown": [
       "#### Cross-references for <a href=\"https://www.stepbible.org/?q=version=NASB2020%7Creference=Genesis.6:22&options=HNVUG\" target=\"_blank\">Genesis 6:22</a>\n",
       " ##### וַיַּ֖עַשׂ נֹ֑חַ כְּ֠כֹל אֲשֶׁ֨ר צִוָּ֥ה אֹתֹ֛ו אֱלֹהִ֖ים כֵּ֥ן עָשָֽׂה׃ ס \n",
       "| Reference | Match | Text |\n",
       "| --- | --- | --- |\n",
       "| <a href=\"https://www.stepbible.org/?q=version=NASB2020%7Creference=Genesis.7:5&options=HNVUG\" target=\"_blank\">Genesis 7:5</a> | 80% | <mark>וַיַּ֖עַשׂ נֹ֑חַ כ</mark><mark>ְּכֹ</mark>֥<mark>ל אֲשֶׁ</mark><mark>ר</mark>־<mark>צִוָּ</mark>֖<mark>ה</mark>וּ<mark> </mark>יְה<mark>ו</mark><mark>ָֽה׃ </mark> |\n",
       "| <a href=\"https://www.stepbible.org/?q=version=NASB2020%7Creference=Exodus.40:16&options=HNVUG\" target=\"_blank\">Exodus 40:16</a> | 80% | <mark>וַיַּ֖עַשׂ </mark>מ<mark>ֹ</mark>שֶׁ<mark>֑</mark>ה<mark> כְּ֠כֹל אֲשֶׁ֨ר צִוָּ</mark>֧ה יְהוָ֛<mark>ה אֹתֹ</mark>֖<mark>ו</mark><mark> כֵּ֥ן עָשָֽׂה׃ ס </mark> |\n",
       "| <a href=\"https://www.stepbible.org/?q=version=NASB2020%7Creference=Numbers.1:54&options=HNVUG\" target=\"_blank\">Numbers 1:54</a> | 81% | <mark>וַ</mark>ֽ<mark>יַּ</mark><mark>ע</mark>ֲ<mark>שׂ</mark>֖וּ<mark> </mark>בְּ<mark>נ</mark>ֵ֣י יִשְׂרָאֵ<mark>֑</mark>ל<mark> כְּ֠כֹל אֲשֶׁ֨ר צִוָּ</mark>֧ה יְהוָ֛<mark>ה א</mark>ֶת־מ<mark>ֹ</mark>שֶׁ֖<mark>ה</mark><mark> כֵּ֥ן עָשׂ</mark><mark>ֽ</mark>וּ<mark>׃ </mark>פ<mark> </mark> |\n"
      ],
      "text/plain": [
       "<IPython.core.display.Markdown object>"
      ]
     },
     "metadata": {},
     "output_type": "display_data"
    },
    {
     "data": {
      "text/markdown": [],
      "text/plain": [
       "<IPython.core.display.Markdown object>"
      ]
     },
     "metadata": {},
     "output_type": "display_data"
    },
    {
     "data": {
      "text/markdown": [],
      "text/plain": [
       "<IPython.core.display.Markdown object>"
      ]
     },
     "metadata": {},
     "output_type": "display_data"
    },
    {
     "data": {
      "text/markdown": [],
      "text/plain": [
       "<IPython.core.display.Markdown object>"
      ]
     },
     "metadata": {},
     "output_type": "display_data"
    },
    {
     "data": {
      "text/markdown": [],
      "text/plain": [
       "<IPython.core.display.Markdown object>"
      ]
     },
     "metadata": {},
     "output_type": "display_data"
    },
    {
     "data": {
      "text/markdown": [
       "#### Cross-references for <a href=\"https://www.stepbible.org/?q=version=NASB2020%7Creference=Genesis.7:5&options=HNVUG\" target=\"_blank\">Genesis 7:5</a>\n",
       " ##### וַיַּ֖עַשׂ נֹ֑חַ כְּכֹ֥ל אֲשֶׁר־צִוָּ֖הוּ יְהוָֽה׃ \n",
       "| Reference | Match | Text |\n",
       "| --- | --- | --- |\n",
       "| <a href=\"https://www.stepbible.org/?q=version=NASB2020%7Creference=Genesis.6:22&options=HNVUG\" target=\"_blank\">Genesis 6:22</a> | 80% | <mark>וַיַּ֖עַשׂ נֹ֑חַ כ</mark>֠<mark>ְּכֹ</mark><mark>ל אֲשֶׁ</mark>֨<mark>ר</mark> <mark>צִוָּ</mark>֥ה אֹתֹ֛ו אֱלֹהִ<mark>֖</mark>ים כ<mark>ּ</mark>ֵ֥ן<mark> </mark>עָשׂ<mark>ָֽה׃ </mark>ס  |\n",
       "| <a href=\"https://www.stepbible.org/?q=version=NASB2020%7Creference=Genesis.50:12&options=HNVUG\" target=\"_blank\">Genesis 50:12</a> | 77% | <mark>וַיַּ</mark><mark>ע</mark>ֲ<mark>שׂ</mark>֥וּ<mark> </mark>בָ<mark>נ</mark>ָ֖יו ל<mark>ֹ֑</mark>ו<mark> כּ</mark>ֵ֖ן <mark>כ</mark>ַּ<mark>אֲשֶׁ</mark>֥<mark>ר</mark> <mark>צִוָּ</mark><mark>ֽ</mark>ם<mark>׃ </mark> |\n"
      ],
      "text/plain": [
       "<IPython.core.display.Markdown object>"
      ]
     },
     "metadata": {},
     "output_type": "display_data"
    },
    {
     "data": {
      "text/markdown": [],
      "text/plain": [
       "<IPython.core.display.Markdown object>"
      ]
     },
     "metadata": {},
     "output_type": "display_data"
    },
    {
     "data": {
      "text/markdown": [],
      "text/plain": [
       "<IPython.core.display.Markdown object>"
      ]
     },
     "metadata": {},
     "output_type": "display_data"
    },
    {
     "data": {
      "text/markdown": [],
      "text/plain": [
       "<IPython.core.display.Markdown object>"
      ]
     },
     "metadata": {},
     "output_type": "display_data"
    },
    {
     "data": {
      "text/markdown": [],
      "text/plain": [
       "<IPython.core.display.Markdown object>"
      ]
     },
     "metadata": {},
     "output_type": "display_data"
    },
    {
     "data": {
      "text/markdown": [],
      "text/plain": [
       "<IPython.core.display.Markdown object>"
      ]
     },
     "metadata": {},
     "output_type": "display_data"
    },
    {
     "data": {
      "text/markdown": [],
      "text/plain": [
       "<IPython.core.display.Markdown object>"
      ]
     },
     "metadata": {},
     "output_type": "display_data"
    },
    {
     "data": {
      "text/markdown": [],
      "text/plain": [
       "<IPython.core.display.Markdown object>"
      ]
     },
     "metadata": {},
     "output_type": "display_data"
    },
    {
     "data": {
      "text/markdown": [],
      "text/plain": [
       "<IPython.core.display.Markdown object>"
      ]
     },
     "metadata": {},
     "output_type": "display_data"
    },
    {
     "data": {
      "text/markdown": [],
      "text/plain": [
       "<IPython.core.display.Markdown object>"
      ]
     },
     "metadata": {},
     "output_type": "display_data"
    },
    {
     "data": {
      "text/markdown": [],
      "text/plain": [
       "<IPython.core.display.Markdown object>"
      ]
     },
     "metadata": {},
     "output_type": "display_data"
    },
    {
     "data": {
      "text/markdown": [],
      "text/plain": [
       "<IPython.core.display.Markdown object>"
      ]
     },
     "metadata": {},
     "output_type": "display_data"
    },
    {
     "data": {
      "text/markdown": [],
      "text/plain": [
       "<IPython.core.display.Markdown object>"
      ]
     },
     "metadata": {},
     "output_type": "display_data"
    },
    {
     "data": {
      "text/markdown": [],
      "text/plain": [
       "<IPython.core.display.Markdown object>"
      ]
     },
     "metadata": {},
     "output_type": "display_data"
    },
    {
     "data": {
      "text/markdown": [],
      "text/plain": [
       "<IPython.core.display.Markdown object>"
      ]
     },
     "metadata": {},
     "output_type": "display_data"
    },
    {
     "data": {
      "text/markdown": [],
      "text/plain": [
       "<IPython.core.display.Markdown object>"
      ]
     },
     "metadata": {},
     "output_type": "display_data"
    },
    {
     "data": {
      "text/markdown": [],
      "text/plain": [
       "<IPython.core.display.Markdown object>"
      ]
     },
     "metadata": {},
     "output_type": "display_data"
    },
    {
     "data": {
      "text/markdown": [],
      "text/plain": [
       "<IPython.core.display.Markdown object>"
      ]
     },
     "metadata": {},
     "output_type": "display_data"
    },
    {
     "data": {
      "text/markdown": [],
      "text/plain": [
       "<IPython.core.display.Markdown object>"
      ]
     },
     "metadata": {},
     "output_type": "display_data"
    },
    {
     "data": {
      "text/markdown": [],
      "text/plain": [
       "<IPython.core.display.Markdown object>"
      ]
     },
     "metadata": {},
     "output_type": "display_data"
    },
    {
     "data": {
      "text/markdown": [],
      "text/plain": [
       "<IPython.core.display.Markdown object>"
      ]
     },
     "metadata": {},
     "output_type": "display_data"
    },
    {
     "data": {
      "text/markdown": [],
      "text/plain": [
       "<IPython.core.display.Markdown object>"
      ]
     },
     "metadata": {},
     "output_type": "display_data"
    },
    {
     "data": {
      "text/markdown": [],
      "text/plain": [
       "<IPython.core.display.Markdown object>"
      ]
     },
     "metadata": {},
     "output_type": "display_data"
    },
    {
     "data": {
      "text/markdown": [
       "#### Cross-references for <a href=\"https://www.stepbible.org/?q=version=NASB2020%7Creference=Genesis.8:4&options=HNVUG\" target=\"_blank\">Genesis 8:4</a>\n",
       " ##### וַתָּ֤נַח הַתֵּבָה֙ בַּחֹ֣דֶשׁ הַשְּׁבִיעִ֔י בְּשִׁבְעָה־עָשָׂ֥ר יֹ֖ום לַחֹ֑דֶשׁ עַ֖ל הָרֵ֥י אֲרָרָֽט׃ \n",
       "| Reference | Match | Text |\n",
       "| --- | --- | --- |\n",
       "| <a href=\"https://www.stepbible.org/?q=version=NASB2020%7Creference=Genesis.8:14&options=HNVUG\" target=\"_blank\">Genesis 8:14</a> | 77% | <mark>ו</mark><mark>ּ</mark><mark>ב</mark><mark>ַחֹ</mark>֨<mark>דֶשׁ</mark>֙<mark> הַשּׁ</mark>ֵנ<mark>ִ֔י בְּשִׁבְעָ</mark>֧<mark>ה</mark> וְ<mark>ע</mark>ֶ<mark>שׂ</mark>ְ<mark>ר</mark>ִ֛ים<mark> יֹ֖ום לַחֹ֑דֶשׁ </mark>יָבְשָׁ<mark>֖</mark>ה<mark> הָ</mark><mark>א</mark><mark>ָֽ</mark>רֶץ<mark>׃ </mark>ס  |\n"
      ],
      "text/plain": [
       "<IPython.core.display.Markdown object>"
      ]
     },
     "metadata": {},
     "output_type": "display_data"
    },
    {
     "data": {
      "text/markdown": [],
      "text/plain": [
       "<IPython.core.display.Markdown object>"
      ]
     },
     "metadata": {},
     "output_type": "display_data"
    },
    {
     "data": {
      "text/markdown": [],
      "text/plain": [
       "<IPython.core.display.Markdown object>"
      ]
     },
     "metadata": {},
     "output_type": "display_data"
    },
    {
     "data": {
      "text/markdown": [],
      "text/plain": [
       "<IPython.core.display.Markdown object>"
      ]
     },
     "metadata": {},
     "output_type": "display_data"
    },
    {
     "data": {
      "text/markdown": [],
      "text/plain": [
       "<IPython.core.display.Markdown object>"
      ]
     },
     "metadata": {},
     "output_type": "display_data"
    },
    {
     "data": {
      "text/markdown": [],
      "text/plain": [
       "<IPython.core.display.Markdown object>"
      ]
     },
     "metadata": {},
     "output_type": "display_data"
    },
    {
     "data": {
      "text/markdown": [
       "#### Cross-references for <a href=\"https://www.stepbible.org/?q=version=NASB2020%7Creference=Genesis.8:10&options=HNVUG\" target=\"_blank\">Genesis 8:10</a>\n",
       " ##### וַיָּ֣חֶל עֹ֔וד שִׁבְעַ֥ת יָמִ֖ים אֲחֵרִ֑ים וַיֹּ֛סֶף שַׁלַּ֥ח אֶת־הַיֹּונָ֖ה מִן־הַתֵּבָֽה׃ \n",
       "| Reference | Match | Text |\n",
       "| --- | --- | --- |\n",
       "| <a href=\"https://www.stepbible.org/?q=version=NASB2020%7Creference=Genesis.8:12&options=HNVUG\" target=\"_blank\">Genesis 8:12</a> | 77% | <mark>וַ</mark>יִּ<mark>יָּ֣חֶל עֹ֔וד שִׁבְעַ֥ת יָמִ֖ים אֲחֵרִ֑ים וַי</mark>ְ<mark>שַׁלַּ</mark><mark>ח</mark>֙<mark> אֶת־הַיֹּונָ</mark>֔<mark>ה </mark>וְלֹֽא<mark>־</mark>יָסְפָ֥<mark>ה</mark> שׁו<mark>ּ</mark>ב־א<mark>ֵ</mark>ל<mark>ָ</mark>֖יו עֹ<mark>ֽ</mark>וד<mark>׃ </mark> |\n"
      ],
      "text/plain": [
       "<IPython.core.display.Markdown object>"
      ]
     },
     "metadata": {},
     "output_type": "display_data"
    },
    {
     "data": {
      "text/markdown": [],
      "text/plain": [
       "<IPython.core.display.Markdown object>"
      ]
     },
     "metadata": {},
     "output_type": "display_data"
    },
    {
     "data": {
      "text/markdown": [
       "#### Cross-references for <a href=\"https://www.stepbible.org/?q=version=NASB2020%7Creference=Genesis.8:12&options=HNVUG\" target=\"_blank\">Genesis 8:12</a>\n",
       " ##### וַיִּיָּ֣חֶל עֹ֔וד שִׁבְעַ֥ת יָמִ֖ים אֲחֵרִ֑ים וַיְשַׁלַּח֙ אֶת־הַיֹּונָ֔ה וְלֹֽא־יָסְפָ֥ה שׁוּב־אֵלָ֖יו עֹֽוד׃ \n",
       "| Reference | Match | Text |\n",
       "| --- | --- | --- |\n",
       "| <a href=\"https://www.stepbible.org/?q=version=NASB2020%7Creference=Genesis.8:10&options=HNVUG\" target=\"_blank\">Genesis 8:10</a> | 77% | <mark>וַ</mark><mark>יָּ֣חֶל עֹ֔וד שִׁבְעַ֥ת יָמִ֖ים אֲחֵרִ֑ים וַי</mark>ֹּ֛סֶף <mark>שַׁלַּ</mark>֥<mark>ח</mark><mark> אֶת־הַיֹּונָ</mark>֖<mark>ה </mark>מִן־הַתֵּבָ<mark>ֽ</mark><mark>ה</mark><mark>׃ </mark> |\n"
      ],
      "text/plain": [
       "<IPython.core.display.Markdown object>"
      ]
     },
     "metadata": {},
     "output_type": "display_data"
    },
    {
     "data": {
      "text/markdown": [],
      "text/plain": [
       "<IPython.core.display.Markdown object>"
      ]
     },
     "metadata": {},
     "output_type": "display_data"
    },
    {
     "data": {
      "text/markdown": [
       "#### Cross-references for <a href=\"https://www.stepbible.org/?q=version=NASB2020%7Creference=Genesis.8:14&options=HNVUG\" target=\"_blank\">Genesis 8:14</a>\n",
       " ##### וּבַחֹ֨דֶשׁ֙ הַשֵּׁנִ֔י בְּשִׁבְעָ֧ה וְעֶשְׂרִ֛ים יֹ֖ום לַחֹ֑דֶשׁ יָבְשָׁ֖ה הָאָֽרֶץ׃ ס \n",
       "| Reference | Match | Text |\n",
       "| --- | --- | --- |\n",
       "| <a href=\"https://www.stepbible.org/?q=version=NASB2020%7Creference=Genesis.8:4&options=HNVUG\" target=\"_blank\">Genesis 8:4</a> | 77% | <mark>ו</mark>ַת<mark>ּ</mark>ָ֤נַח הַתֵּ<mark>ב</mark>ָה֙ בּ<mark>ַחֹ</mark>֣<mark>דֶשׁ</mark><mark> הַשּׁ</mark>ְבִיע<mark>ִ֔י בְּשִׁבְעָ</mark><mark>ה</mark>־<mark>ע</mark>ָ<mark>שׂ</mark>ָ֥<mark>ר</mark><mark> יֹ֖ום לַחֹ֑דֶשׁ </mark>עַ<mark>֖</mark>ל<mark> הָ</mark>רֵ֥י <mark>א</mark>ֲרָר<mark>ָֽ</mark>ט<mark>׃ </mark> |\n",
       "| <a href=\"https://www.stepbible.org/?q=version=NASB2020%7Creference=Leviticus.23:5&options=HNVUG\" target=\"_blank\">Leviticus 23:5</a> | 78% | ב<mark>ּ</mark><mark>ַחֹ</mark>֣<mark>דֶשׁ</mark><mark> ה</mark>ָרִא<mark>שׁ</mark>ֹ֗ון<mark> בְּ</mark>אַרְ<mark>ב</mark>ָּ<mark>עָ</mark>֥<mark>ה </mark><mark>ע</mark>ָ<mark>שׂ</mark>ָ֛<mark>ר</mark><mark> לַחֹ</mark>֖<mark>דֶשׁ </mark>בֵּ֣<mark>י</mark>ן<mark> הָ</mark>עַרְבָּ֑יִם פֶּ֖סַח לַיהו<mark>ָֽ</mark>ה<mark>׃ </mark> |\n",
       "| <a href=\"https://www.stepbible.org/?q=version=NASB2020%7Creference=Numbers.28:16&options=HNVUG\" target=\"_blank\">Numbers 28:16</a> | 82% | <mark>וּבַחֹ</mark>֣<mark>דֶשׁ</mark><mark> ה</mark>ָרִא<mark>שׁ</mark>ֹ֗ון<mark> בְּ</mark>אַרְ<mark>ב</mark>ָּ<mark>עָ</mark>֥<mark>ה </mark><mark>ע</mark>ָ<mark>שׂ</mark>ָ֛<mark>ר</mark><mark> יֹ֖ום לַחֹ֑דֶשׁ </mark>פֶּ֖סַח לַ<mark>י</mark><mark>ה</mark>ו<mark>ָֽ</mark>ה<mark>׃ </mark> |\n"
      ],
      "text/plain": [
       "<IPython.core.display.Markdown object>"
      ]
     },
     "metadata": {},
     "output_type": "display_data"
    },
    {
     "data": {
      "text/markdown": [
       "#### Cross-references for <a href=\"https://www.stepbible.org/?q=version=NASB2020%7Creference=Genesis.8:15&options=HNVUG\" target=\"_blank\">Genesis 8:15</a>\n",
       " ##### וַיְדַבֵּ֥ר אֱלֹהִ֖ים אֶל־נֹ֥חַ לֵאמֹֽר׃ \n",
       "| Reference | Match | Text |\n",
       "| --- | --- | --- |\n",
       "| <a href=\"https://www.stepbible.org/?q=version=NASB2020%7Creference=Genesis.9:8&options=HNVUG\" target=\"_blank\">Genesis 9:8</a> | 75% | <mark>וַי</mark><mark>ּ</mark>ֹ֤אמֶ<mark>ר אֱלֹהִ</mark><mark>ים</mark>֙<mark> אֶל־נֹ</mark>֔<mark>חַ</mark> וְאֶל־בָּנָ֥יו אִתֹּ֖ו<mark> לֵאמֹֽר׃ </mark> |\n",
       "| <a href=\"https://www.stepbible.org/?q=version=NASB2020%7Creference=Exodus.6:10&options=HNVUG\" target=\"_blank\">Exodus 6:10</a> | 76% | <mark>וַיְדַבֵּ֥ר </mark>יְ<mark>ה</mark>וָ<mark>֖</mark>ה<mark> אֶל־</mark>מ<mark>ֹ</mark>שֶׁ<mark>֥</mark>ה<mark> ל</mark>ּ<mark>ֵאמֹֽר׃ </mark> |\n",
       "| <a href=\"https://www.stepbible.org/?q=version=NASB2020%7Creference=Exodus.13:1&options=HNVUG\" target=\"_blank\">Exodus 13:1</a> | 76% | <mark>וַיְדַבֵּ֥ר </mark>יְ<mark>ה</mark>וָ<mark>֖</mark>ה<mark> אֶל־</mark>מ<mark>ֹ</mark>שֶׁ<mark>֥</mark>ה<mark> ל</mark>ּ<mark>ֵאמֹֽר׃ </mark> |\n",
       "| <a href=\"https://www.stepbible.org/?q=version=NASB2020%7Creference=Exodus.14:1&options=HNVUG\" target=\"_blank\">Exodus 14:1</a> | 76% | <mark>וַיְדַבֵּ֥ר </mark>יְה<mark>ֹ</mark>וָ֖<mark>ה</mark><mark> אֶל־</mark>מ<mark>ֹ</mark>שֶׁ<mark>֥</mark>ה<mark> ל</mark>ּ<mark>ֵאמֹֽר׃ </mark> |\n",
       "| <a href=\"https://www.stepbible.org/?q=version=NASB2020%7Creference=Exodus.16:11&options=HNVUG\" target=\"_blank\">Exodus 16:11</a> | 76% | <mark>וַיְדַבֵּ֥ר </mark>יְ<mark>ה</mark>וָ<mark>֖</mark>ה<mark> אֶל־</mark>מ<mark>ֹ</mark>שֶׁ<mark>֥</mark>ה<mark> ל</mark>ּ<mark>ֵאמֹֽר׃ </mark> |\n",
       "| <a href=\"https://www.stepbible.org/?q=version=NASB2020%7Creference=Exodus.25:1&options=HNVUG\" target=\"_blank\">Exodus 25:1</a> | 76% | <mark>וַיְדַבֵּ֥ר </mark>יְ<mark>ה</mark>וָ<mark>֖</mark>ה<mark> אֶל־</mark>מ<mark>ֹ</mark>שֶׁ<mark>֥</mark>ה<mark> ל</mark>ּ<mark>ֵאמֹֽר׃ </mark> |\n",
       "| <a href=\"https://www.stepbible.org/?q=version=NASB2020%7Creference=Exodus.30:11&options=HNVUG\" target=\"_blank\">Exodus 30:11</a> | 76% | <mark>וַיְדַבֵּ֥ר </mark>יְ<mark>ה</mark>וָ<mark>֖</mark>ה<mark> אֶל־</mark>מ<mark>ֹ</mark>שֶׁ<mark>֥</mark>ה<mark> ל</mark>ּ<mark>ֵאמֹֽר׃ </mark> |\n",
       "| <a href=\"https://www.stepbible.org/?q=version=NASB2020%7Creference=Exodus.30:17&options=HNVUG\" target=\"_blank\">Exodus 30:17</a> | 76% | <mark>וַיְדַבֵּ֥ר </mark>יְ<mark>ה</mark>וָ<mark>֖</mark>ה<mark> אֶל־</mark>מ<mark>ֹ</mark>שֶׁ<mark>֥</mark>ה<mark> ל</mark>ּ<mark>ֵאמֹֽר׃ </mark> |\n",
       "| <a href=\"https://www.stepbible.org/?q=version=NASB2020%7Creference=Exodus.30:22&options=HNVUG\" target=\"_blank\">Exodus 30:22</a> | 76% | <mark>וַיְדַבֵּ֥ר </mark>יְ<mark>ה</mark>וָ<mark>֖</mark>ה<mark> אֶל־</mark>מ<mark>ֹ</mark>שֶׁ<mark>֥</mark>ה<mark> ל</mark>ּ<mark>ֵאמֹֽר׃ </mark> |\n",
       "| <a href=\"https://www.stepbible.org/?q=version=NASB2020%7Creference=Exodus.31:1&options=HNVUG\" target=\"_blank\">Exodus 31:1</a> | 76% | <mark>וַיְדַבֵּ֥ר </mark>יְ<mark>ה</mark>וָ<mark>֖</mark>ה<mark> אֶל־</mark>מ<mark>ֹ</mark>שֶׁ<mark>֥</mark>ה<mark> ל</mark>ּ<mark>ֵאמֹֽר׃ </mark> |\n",
       "| <a href=\"https://www.stepbible.org/?q=version=NASB2020%7Creference=Exodus.40:1&options=HNVUG\" target=\"_blank\">Exodus 40:1</a> | 76% | <mark>וַיְדַבֵּ֥ר </mark>יְ<mark>ה</mark>וָ<mark>֖</mark>ה<mark> אֶל־</mark>מ<mark>ֹ</mark>שֶׁ<mark>֥</mark>ה<mark> ל</mark>ּ<mark>ֵאמֹֽר׃ </mark> |\n",
       "| <a href=\"https://www.stepbible.org/?q=version=NASB2020%7Creference=Leviticus.4:1&options=HNVUG\" target=\"_blank\">Leviticus 4:1</a> | 76% | <mark>וַיְדַבֵּ֥ר </mark>יְ<mark>ה</mark>וָ<mark>֖</mark>ה<mark> אֶל־</mark>מ<mark>ֹ</mark>שֶׁ<mark>֥</mark>ה<mark> ל</mark>ּ<mark>ֵאמֹֽר׃ </mark> |\n",
       "| <a href=\"https://www.stepbible.org/?q=version=NASB2020%7Creference=Leviticus.5:14&options=HNVUG\" target=\"_blank\">Leviticus 5:14</a> | 76% | <mark>וַיְדַבֵּ֥ר </mark>יְ<mark>ה</mark>וָ<mark>֖</mark>ה<mark> אֶל־</mark>מ<mark>ֹ</mark>שֶׁ<mark>֥</mark>ה<mark> ל</mark>ּ<mark>ֵאמֹֽר׃ </mark> |\n",
       "| <a href=\"https://www.stepbible.org/?q=version=NASB2020%7Creference=Leviticus.5:20&options=HNVUG\" target=\"_blank\">Leviticus 5:20</a> | 76% | <mark>וַיְדַבֵּ֥ר </mark>יְ<mark>ה</mark>וָ<mark>֖</mark>ה<mark> אֶל־</mark>מ<mark>ֹ</mark>שֶׁ<mark>֥</mark>ה<mark> ל</mark>ּ<mark>ֵאמֹֽר׃ </mark> |\n",
       "| <a href=\"https://www.stepbible.org/?q=version=NASB2020%7Creference=Leviticus.6:1&options=HNVUG\" target=\"_blank\">Leviticus 6:1</a> | 76% | <mark>וַיְדַבֵּ֥ר </mark>יְ<mark>ה</mark>וָ<mark>֖</mark>ה<mark> אֶל־</mark>מ<mark>ֹ</mark>שֶׁ<mark>֥</mark>ה<mark> ל</mark>ּ<mark>ֵאמֹֽר׃ </mark> |\n",
       "| <a href=\"https://www.stepbible.org/?q=version=NASB2020%7Creference=Leviticus.6:12&options=HNVUG\" target=\"_blank\">Leviticus 6:12</a> | 76% | <mark>וַיְדַבֵּ֥ר </mark>יְ<mark>ה</mark>וָ<mark>֖</mark>ה<mark> אֶל־</mark>מ<mark>ֹ</mark>שֶׁ<mark>֥</mark>ה<mark> ל</mark>ּ<mark>ֵאמֹֽר׃ </mark> |\n",
       "| <a href=\"https://www.stepbible.org/?q=version=NASB2020%7Creference=Leviticus.6:17&options=HNVUG\" target=\"_blank\">Leviticus 6:17</a> | 76% | <mark>וַיְדַבֵּ֥ר </mark>יְ<mark>ה</mark>וָ<mark>֖</mark>ה<mark> אֶל־</mark>מ<mark>ֹ</mark>שֶׁ<mark>֥</mark>ה<mark> ל</mark>ּ<mark>ֵאמֹֽר׃ </mark> |\n",
       "| <a href=\"https://www.stepbible.org/?q=version=NASB2020%7Creference=Leviticus.7:22&options=HNVUG\" target=\"_blank\">Leviticus 7:22</a> | 76% | <mark>וַיְדַבֵּ֥ר </mark>יְ<mark>ה</mark>וָ<mark>֖</mark>ה<mark> אֶל־</mark>מ<mark>ֹ</mark>שֶׁ<mark>֥</mark>ה<mark> ל</mark>ּ<mark>ֵאמֹֽר׃ </mark> |\n",
       "| <a href=\"https://www.stepbible.org/?q=version=NASB2020%7Creference=Leviticus.7:28&options=HNVUG\" target=\"_blank\">Leviticus 7:28</a> | 76% | <mark>וַיְדַבֵּ֥ר </mark>יְ<mark>ה</mark>וָ<mark>֖</mark>ה<mark> אֶל־</mark>מ<mark>ֹ</mark>שֶׁ<mark>֥</mark>ה<mark> ל</mark>ּ<mark>ֵאמֹֽר׃ </mark> |\n",
       "| <a href=\"https://www.stepbible.org/?q=version=NASB2020%7Creference=Leviticus.8:1&options=HNVUG\" target=\"_blank\">Leviticus 8:1</a> | 76% | <mark>וַיְדַבֵּ֥ר </mark>יְ<mark>ה</mark>וָ<mark>֖</mark>ה<mark> אֶל־</mark>מ<mark>ֹ</mark>שֶׁ<mark>֥</mark>ה<mark> ל</mark>ּ<mark>ֵאמֹֽר׃ </mark> |\n",
       "| <a href=\"https://www.stepbible.org/?q=version=NASB2020%7Creference=Leviticus.10:8&options=HNVUG\" target=\"_blank\">Leviticus 10:8</a> | 82% | <mark>וַיְדַבֵּ</mark>֣<mark>ר </mark>יְ<mark>ה</mark>וָ֔ה<mark> אֶ</mark>ֽ<mark>ל־</mark>אַהֲר<mark>ֹ</mark>֖ן<mark> לֵאמֹֽר׃ </mark> |\n",
       "| <a href=\"https://www.stepbible.org/?q=version=NASB2020%7Creference=Leviticus.12:1&options=HNVUG\" target=\"_blank\">Leviticus 12:1</a> | 76% | <mark>וַיְדַבֵּ֥ר </mark>יְ<mark>ה</mark>וָ<mark>֖</mark>ה<mark> אֶל־</mark>מ<mark>ֹ</mark>שֶׁ<mark>֥</mark>ה<mark> ל</mark>ּ<mark>ֵאמֹֽר׃ </mark> |\n",
       "| <a href=\"https://www.stepbible.org/?q=version=NASB2020%7Creference=Leviticus.13:1&options=HNVUG\" target=\"_blank\">Leviticus 13:1</a> | 75% | <mark>וַיְדַבֵּ</mark>֣<mark>ר </mark>יְ<mark>ה</mark>וָ֔ה<mark> אֶל־</mark>מ<mark>ֹ</mark>שֶׁ<mark>֥</mark>ה וְאֶֽל־א<mark>ַ</mark>הֲרֹ֖ן<mark> לֵאמֹֽר׃ </mark> |\n",
       "| <a href=\"https://www.stepbible.org/?q=version=NASB2020%7Creference=Leviticus.14:1&options=HNVUG\" target=\"_blank\">Leviticus 14:1</a> | 76% | <mark>וַיְדַבֵּ֥ר </mark>יְ<mark>ה</mark>וָ<mark>֖</mark>ה<mark> אֶל־</mark>מ<mark>ֹ</mark>שֶׁ<mark>֥</mark>ה<mark> ל</mark>ּ<mark>ֵאמֹֽר׃ </mark> |\n",
       "| <a href=\"https://www.stepbible.org/?q=version=NASB2020%7Creference=Leviticus.14:33&options=HNVUG\" target=\"_blank\">Leviticus 14:33</a> | 75% | <mark>וַיְדַבֵּ</mark>֣<mark>ר </mark>יְ<mark>ה</mark>וָ֔ה<mark> אֶל־</mark>מ<mark>ֹ</mark>שֶׁ<mark>֥</mark>ה וְאֶֽל־א<mark>ַ</mark>הֲרֹ֖ן<mark> לֵאמֹֽר׃ </mark> |\n",
       "| <a href=\"https://www.stepbible.org/?q=version=NASB2020%7Creference=Leviticus.15:1&options=HNVUG\" target=\"_blank\">Leviticus 15:1</a> | 75% | <mark>וַיְדַבֵּ</mark>֣<mark>ר </mark>יְ<mark>ה</mark>וָ֔ה<mark> אֶל־</mark>מ<mark>ֹ</mark>שֶׁ<mark>֥</mark>ה וְאֶֽל־א<mark>ַ</mark>הֲרֹ֖ן<mark> לֵאמֹֽר׃ </mark> |\n",
       "| <a href=\"https://www.stepbible.org/?q=version=NASB2020%7Creference=Leviticus.17:1&options=HNVUG\" target=\"_blank\">Leviticus 17:1</a> | 76% | <mark>וַיְדַבֵּ֥ר </mark>יְ<mark>ה</mark>וָ<mark>֖</mark>ה<mark> אֶל־</mark>מ<mark>ֹ</mark>שֶׁ<mark>֥</mark>ה<mark> ל</mark>ּ<mark>ֵאמֹֽר׃ </mark> |\n",
       "| <a href=\"https://www.stepbible.org/?q=version=NASB2020%7Creference=Leviticus.18:1&options=HNVUG\" target=\"_blank\">Leviticus 18:1</a> | 76% | <mark>וַיְדַבֵּ֥ר </mark>יְ<mark>ה</mark>וָ<mark>֖</mark>ה<mark> אֶל־</mark>מ<mark>ֹ</mark>שֶׁ<mark>֥</mark>ה<mark> ל</mark>ּ<mark>ֵאמֹֽר׃ </mark> |\n",
       "| <a href=\"https://www.stepbible.org/?q=version=NASB2020%7Creference=Leviticus.19:1&options=HNVUG\" target=\"_blank\">Leviticus 19:1</a> | 76% | <mark>וַיְדַבֵּ֥ר </mark>יְ<mark>ה</mark>וָ<mark>֖</mark>ה<mark> אֶל־</mark>מ<mark>ֹ</mark>שֶׁ<mark>֥</mark>ה<mark> ל</mark>ּ<mark>ֵאמֹֽר׃ </mark> |\n",
       "| <a href=\"https://www.stepbible.org/?q=version=NASB2020%7Creference=Leviticus.20:1&options=HNVUG\" target=\"_blank\">Leviticus 20:1</a> | 76% | <mark>וַיְדַבֵּ֥ר </mark>יְ<mark>ה</mark>וָ<mark>֖</mark>ה<mark> אֶל־</mark>מ<mark>ֹ</mark>שֶׁ<mark>֥</mark>ה<mark> ל</mark>ּ<mark>ֵאמֹֽר׃ </mark> |\n",
       "| <a href=\"https://www.stepbible.org/?q=version=NASB2020%7Creference=Leviticus.21:16&options=HNVUG\" target=\"_blank\">Leviticus 21:16</a> | 76% | <mark>וַיְדַבֵּ֥ר </mark>יְ<mark>ה</mark>וָ<mark>֖</mark>ה<mark> אֶל־</mark>מ<mark>ֹ</mark>שֶׁ<mark>֥</mark>ה<mark> ל</mark>ּ<mark>ֵאמֹֽר׃ </mark> |\n",
       "| <a href=\"https://www.stepbible.org/?q=version=NASB2020%7Creference=Leviticus.22:1&options=HNVUG\" target=\"_blank\">Leviticus 22:1</a> | 76% | <mark>וַיְדַבֵּ֥ר </mark>יְ<mark>ה</mark>וָ<mark>֖</mark>ה<mark> אֶל־</mark>מ<mark>ֹ</mark>שֶׁ<mark>֥</mark>ה<mark> ל</mark>ּ<mark>ֵאמֹֽר׃ </mark> |\n",
       "| <a href=\"https://www.stepbible.org/?q=version=NASB2020%7Creference=Leviticus.22:17&options=HNVUG\" target=\"_blank\">Leviticus 22:17</a> | 76% | <mark>וַיְדַבֵּ֥ר </mark>יְ<mark>ה</mark>וָ<mark>֖</mark>ה<mark> אֶל־</mark>מ<mark>ֹ</mark>שֶׁ<mark>֥</mark>ה<mark> ל</mark>ּ<mark>ֵאמֹֽר׃ </mark> |\n",
       "| <a href=\"https://www.stepbible.org/?q=version=NASB2020%7Creference=Leviticus.22:26&options=HNVUG\" target=\"_blank\">Leviticus 22:26</a> | 76% | <mark>וַיְדַבֵּ֥ר </mark>יְ<mark>ה</mark>וָ<mark>֖</mark>ה<mark> אֶל־</mark>מ<mark>ֹ</mark>שֶׁ<mark>֥</mark>ה<mark> ל</mark>ּ<mark>ֵאמֹֽר׃ </mark> |\n",
       "| <a href=\"https://www.stepbible.org/?q=version=NASB2020%7Creference=Leviticus.23:1&options=HNVUG\" target=\"_blank\">Leviticus 23:1</a> | 76% | <mark>וַיְדַבֵּ֥ר </mark>יְ<mark>ה</mark>וָ<mark>֖</mark>ה<mark> אֶל־</mark>מ<mark>ֹ</mark>שֶׁ<mark>֥</mark>ה<mark> ל</mark>ּ<mark>ֵאמֹֽר׃ </mark> |\n",
       "| <a href=\"https://www.stepbible.org/?q=version=NASB2020%7Creference=Leviticus.23:9&options=HNVUG\" target=\"_blank\">Leviticus 23:9</a> | 76% | <mark>וַיְדַבֵּ֥ר </mark>יְ<mark>ה</mark>וָ<mark>֖</mark>ה<mark> אֶל־</mark>מ<mark>ֹ</mark>שֶׁ<mark>֥</mark>ה<mark> ל</mark>ּ<mark>ֵאמֹֽר׃ </mark> |\n",
       "| <a href=\"https://www.stepbible.org/?q=version=NASB2020%7Creference=Leviticus.23:23&options=HNVUG\" target=\"_blank\">Leviticus 23:23</a> | 76% | <mark>וַיְדַבֵּ֥ר </mark>יְ<mark>ה</mark>וָ<mark>֖</mark>ה<mark> אֶל־</mark>מ<mark>ֹ</mark>שֶׁ<mark>֥</mark>ה<mark> ל</mark>ּ<mark>ֵאמֹֽר׃ </mark> |\n",
       "| <a href=\"https://www.stepbible.org/?q=version=NASB2020%7Creference=Leviticus.23:26&options=HNVUG\" target=\"_blank\">Leviticus 23:26</a> | 76% | <mark>וַיְדַבֵּ֥ר </mark>יְ<mark>ה</mark>וָ<mark>֖</mark>ה<mark> אֶל־</mark>מ<mark>ֹ</mark>שֶׁ<mark>֥</mark>ה<mark> ל</mark>ּ<mark>ֵאמֹֽר׃ </mark> |\n",
       "| <a href=\"https://www.stepbible.org/?q=version=NASB2020%7Creference=Leviticus.23:33&options=HNVUG\" target=\"_blank\">Leviticus 23:33</a> | 76% | <mark>וַיְדַבֵּ֥ר </mark>יְ<mark>ה</mark>וָ<mark>֖</mark>ה<mark> אֶל־</mark>מ<mark>ֹ</mark>שֶׁ<mark>֥</mark>ה<mark> ל</mark>ּ<mark>ֵאמֹֽר׃ </mark> |\n",
       "| <a href=\"https://www.stepbible.org/?q=version=NASB2020%7Creference=Leviticus.24:1&options=HNVUG\" target=\"_blank\">Leviticus 24:1</a> | 76% | <mark>וַיְדַבֵּ֥ר </mark>יְ<mark>ה</mark>וָ<mark>֖</mark>ה<mark> אֶל־</mark>מ<mark>ֹ</mark>שֶׁ<mark>֥</mark>ה<mark> ל</mark>ּ<mark>ֵאמֹֽר׃ </mark> |\n",
       "| <a href=\"https://www.stepbible.org/?q=version=NASB2020%7Creference=Leviticus.24:13&options=HNVUG\" target=\"_blank\">Leviticus 24:13</a> | 76% | <mark>וַיְדַבֵּ֥ר </mark>יְ<mark>ה</mark>וָ<mark>֖</mark>ה<mark> אֶל־</mark>מ<mark>ֹ</mark>שֶׁ<mark>֥</mark>ה<mark> ל</mark>ּ<mark>ֵאמֹֽר׃ </mark> |\n",
       "| <a href=\"https://www.stepbible.org/?q=version=NASB2020%7Creference=Leviticus.27:1&options=HNVUG\" target=\"_blank\">Leviticus 27:1</a> | 76% | <mark>וַיְדַבֵּ֥ר </mark>יְ<mark>ה</mark>וָ<mark>֖</mark>ה<mark> אֶל־</mark>מ<mark>ֹ</mark>שֶׁ<mark>֥</mark>ה<mark> ל</mark>ּ<mark>ֵאמֹֽר׃ </mark> |\n",
       "| <a href=\"https://www.stepbible.org/?q=version=NASB2020%7Creference=Numbers.1:48&options=HNVUG\" target=\"_blank\">Numbers 1:48</a> | 76% | <mark>וַיְדַבֵּ֥ר </mark>יְ<mark>ה</mark>וָ<mark>֖</mark>ה<mark> אֶל־</mark>מ<mark>ֹ</mark>שֶׁ<mark>֥</mark>ה<mark> ל</mark>ּ<mark>ֵאמֹֽר׃ </mark> |\n",
       "| <a href=\"https://www.stepbible.org/?q=version=NASB2020%7Creference=Numbers.2:1&options=HNVUG\" target=\"_blank\">Numbers 2:1</a> | 75% | <mark>וַיְדַבֵּ</mark>֣<mark>ר </mark>יְ<mark>ה</mark>וָ֔ה<mark> אֶל־</mark>מ<mark>ֹ</mark>שֶׁ<mark>֥</mark>ה וְאֶֽל־א<mark>ַ</mark>הֲרֹ֖ן<mark> לֵאמֹֽר׃ </mark> |\n",
       "| <a href=\"https://www.stepbible.org/?q=version=NASB2020%7Creference=Numbers.3:5&options=HNVUG\" target=\"_blank\">Numbers 3:5</a> | 76% | <mark>וַיְדַבֵּ֥ר </mark>יְ<mark>ה</mark>וָ<mark>֖</mark>ה<mark> אֶל־</mark>מ<mark>ֹ</mark>שֶׁ<mark>֥</mark>ה<mark> ל</mark>ּ<mark>ֵאמֹֽר׃ </mark> |\n",
       "| <a href=\"https://www.stepbible.org/?q=version=NASB2020%7Creference=Numbers.3:11&options=HNVUG\" target=\"_blank\">Numbers 3:11</a> | 76% | <mark>וַיְדַבֵּ֥ר </mark>יְ<mark>ה</mark>וָ<mark>֖</mark>ה<mark> אֶל־</mark>מ<mark>ֹ</mark>שֶׁ<mark>֥</mark>ה<mark> ל</mark>ּ<mark>ֵאמֹֽר׃ </mark> |\n",
       "| <a href=\"https://www.stepbible.org/?q=version=NASB2020%7Creference=Numbers.3:44&options=HNVUG\" target=\"_blank\">Numbers 3:44</a> | 76% | <mark>וַיְדַבֵּ֥ר </mark>יְ<mark>ה</mark>וָ<mark>֖</mark>ה<mark> אֶל־</mark>מ<mark>ֹ</mark>שֶׁ<mark>֥</mark>ה<mark> ל</mark>ּ<mark>ֵאמֹֽר׃ </mark> |\n",
       "| <a href=\"https://www.stepbible.org/?q=version=NASB2020%7Creference=Numbers.4:1&options=HNVUG\" target=\"_blank\">Numbers 4:1</a> | 75% | <mark>וַיְדַבֵּ</mark>֣<mark>ר </mark>יְ<mark>ה</mark>וָ֔ה<mark> אֶל־</mark>מ<mark>ֹ</mark>שֶׁ<mark>֥</mark>ה וְאֶֽל־א<mark>ַ</mark>הֲרֹ֖ן<mark> לֵאמֹֽר׃ </mark> |\n",
       "| <a href=\"https://www.stepbible.org/?q=version=NASB2020%7Creference=Numbers.4:17&options=HNVUG\" target=\"_blank\">Numbers 4:17</a> | 75% | <mark>וַיְדַבֵּ</mark>֣<mark>ר </mark>יְ<mark>ה</mark>וָ֔ה<mark> אֶל־</mark>מ<mark>ֹ</mark>שֶׁ<mark>֥</mark>ה וְאֶֽל־א<mark>ַ</mark>הֲרֹ֖ן<mark> לֵאמֹֽר׃ </mark> |\n",
       "| <a href=\"https://www.stepbible.org/?q=version=NASB2020%7Creference=Numbers.4:21&options=HNVUG\" target=\"_blank\">Numbers 4:21</a> | 76% | <mark>וַיְדַבֵּ֥ר </mark>יְ<mark>ה</mark>וָ<mark>֖</mark>ה<mark> אֶל־</mark>מ<mark>ֹ</mark>שֶׁ<mark>֥</mark>ה<mark> ל</mark>ּ<mark>ֵאמֹֽר׃ </mark> |\n",
       "| <a href=\"https://www.stepbible.org/?q=version=NASB2020%7Creference=Numbers.5:1&options=HNVUG\" target=\"_blank\">Numbers 5:1</a> | 76% | <mark>וַיְדַבֵּ֥ר </mark>יְ<mark>ה</mark>וָ<mark>֖</mark>ה<mark> אֶל־</mark>מ<mark>ֹ</mark>שֶׁ<mark>֥</mark>ה<mark> ל</mark>ּ<mark>ֵאמֹֽר׃ </mark> |\n",
       "| <a href=\"https://www.stepbible.org/?q=version=NASB2020%7Creference=Numbers.5:5&options=HNVUG\" target=\"_blank\">Numbers 5:5</a> | 76% | <mark>וַיְדַבֵּ֥ר </mark>יְ<mark>ה</mark>וָ<mark>֖</mark>ה<mark> אֶל־</mark>מ<mark>ֹ</mark>שֶׁ<mark>֥</mark>ה<mark> ל</mark>ּ<mark>ֵאמֹֽר׃ </mark> |\n",
       "| <a href=\"https://www.stepbible.org/?q=version=NASB2020%7Creference=Numbers.5:11&options=HNVUG\" target=\"_blank\">Numbers 5:11</a> | 76% | <mark>וַיְדַבֵּ֥ר </mark>יְ<mark>ה</mark>וָ<mark>֖</mark>ה<mark> אֶל־</mark>מ<mark>ֹ</mark>שֶׁ<mark>֥</mark>ה<mark> ל</mark>ּ<mark>ֵאמֹֽר׃ </mark> |\n",
       "| <a href=\"https://www.stepbible.org/?q=version=NASB2020%7Creference=Numbers.6:1&options=HNVUG\" target=\"_blank\">Numbers 6:1</a> | 76% | <mark>וַיְדַבֵּ֥ר </mark>יְ<mark>ה</mark>וָ<mark>֖</mark>ה<mark> אֶל־</mark>מ<mark>ֹ</mark>שֶׁ<mark>֥</mark>ה<mark> ל</mark>ּ<mark>ֵאמֹֽר׃ </mark> |\n",
       "| <a href=\"https://www.stepbible.org/?q=version=NASB2020%7Creference=Numbers.6:22&options=HNVUG\" target=\"_blank\">Numbers 6:22</a> | 76% | <mark>וַיְדַבֵּ֥ר </mark>יְ<mark>ה</mark>וָ<mark>֖</mark>ה<mark> אֶל־</mark>מ<mark>ֹ</mark>שֶׁ<mark>֥</mark>ה<mark> ל</mark>ּ<mark>ֵאמֹֽר׃ </mark> |\n",
       "| <a href=\"https://www.stepbible.org/?q=version=NASB2020%7Creference=Numbers.8:1&options=HNVUG\" target=\"_blank\">Numbers 8:1</a> | 76% | <mark>וַיְדַבֵּ֥ר </mark>יְ<mark>ה</mark>וָ<mark>֖</mark>ה<mark> אֶל־</mark>מ<mark>ֹ</mark>שֶׁ<mark>֥</mark>ה<mark> ל</mark>ּ<mark>ֵאמֹֽר׃ </mark> |\n",
       "| <a href=\"https://www.stepbible.org/?q=version=NASB2020%7Creference=Numbers.8:5&options=HNVUG\" target=\"_blank\">Numbers 8:5</a> | 76% | <mark>וַיְדַבֵּ֥ר </mark>יְ<mark>ה</mark>וָ<mark>֖</mark>ה<mark> אֶל־</mark>מ<mark>ֹ</mark>שֶׁ<mark>֥</mark>ה<mark> ל</mark>ּ<mark>ֵאמֹֽר׃ </mark> |\n",
       "| <a href=\"https://www.stepbible.org/?q=version=NASB2020%7Creference=Numbers.8:23&options=HNVUG\" target=\"_blank\">Numbers 8:23</a> | 76% | <mark>וַיְדַבֵּ֥ר </mark>יְ<mark>ה</mark>וָ<mark>֖</mark>ה<mark> אֶל־</mark>מ<mark>ֹ</mark>שֶׁ<mark>֥</mark>ה<mark> ל</mark>ּ<mark>ֵאמֹֽר׃ </mark> |\n",
       "| <a href=\"https://www.stepbible.org/?q=version=NASB2020%7Creference=Numbers.9:9&options=HNVUG\" target=\"_blank\">Numbers 9:9</a> | 76% | <mark>וַיְדַבֵּ֥ר </mark>יְ<mark>ה</mark>וָ<mark>֖</mark>ה<mark> אֶל־</mark>מ<mark>ֹ</mark>שֶׁ<mark>֥</mark>ה<mark> ל</mark>ּ<mark>ֵאמֹֽר׃ </mark> |\n",
       "| <a href=\"https://www.stepbible.org/?q=version=NASB2020%7Creference=Numbers.10:1&options=HNVUG\" target=\"_blank\">Numbers 10:1</a> | 76% | <mark>וַיְדַבֵּ֥ר </mark>יְ<mark>ה</mark>וָ<mark>֖</mark>ה<mark> אֶל־</mark>מ<mark>ֹ</mark>שֶׁ<mark>֥</mark>ה<mark> ל</mark>ּ<mark>ֵאמֹֽר׃ </mark> |\n",
       "| <a href=\"https://www.stepbible.org/?q=version=NASB2020%7Creference=Numbers.13:1&options=HNVUG\" target=\"_blank\">Numbers 13:1</a> | 76% | <mark>וַיְדַבֵּ֥ר </mark>יְ<mark>ה</mark>וָ<mark>֖</mark>ה<mark> אֶל־</mark>מ<mark>ֹ</mark>שֶׁ<mark>֥</mark>ה<mark> ל</mark>ּ<mark>ֵאמֹֽר׃ </mark> |\n",
       "| <a href=\"https://www.stepbible.org/?q=version=NASB2020%7Creference=Numbers.14:26&options=HNVUG\" target=\"_blank\">Numbers 14:26</a> | 75% | <mark>וַיְדַבֵּ</mark>֣<mark>ר </mark>יְ<mark>ה</mark>וָ֔ה<mark> אֶל־</mark>מ<mark>ֹ</mark>שֶׁ<mark>֥</mark>ה וְאֶֽל־א<mark>ַ</mark>הֲרֹ֖ן<mark> לֵאמֹֽר׃ </mark> |\n",
       "| <a href=\"https://www.stepbible.org/?q=version=NASB2020%7Creference=Numbers.15:1&options=HNVUG\" target=\"_blank\">Numbers 15:1</a> | 76% | <mark>וַיְדַבֵּ֥ר </mark>יְ<mark>ה</mark>וָ<mark>֖</mark>ה<mark> אֶל־</mark>מ<mark>ֹ</mark>שֶׁ<mark>֥</mark>ה<mark> ל</mark>ּ<mark>ֵאמֹֽר׃ </mark> |\n",
       "| <a href=\"https://www.stepbible.org/?q=version=NASB2020%7Creference=Numbers.15:17&options=HNVUG\" target=\"_blank\">Numbers 15:17</a> | 76% | <mark>וַיְדַבֵּ֥ר </mark>יְ<mark>ה</mark>וָ<mark>֖</mark>ה<mark> אֶל־</mark>מ<mark>ֹ</mark>שֶׁ<mark>֥</mark>ה<mark> ל</mark>ּ<mark>ֵאמֹֽר׃ </mark> |\n",
       "| <a href=\"https://www.stepbible.org/?q=version=NASB2020%7Creference=Numbers.16:20&options=HNVUG\" target=\"_blank\">Numbers 16:20</a> | 75% | <mark>וַיְדַבֵּ</mark>֣<mark>ר </mark>יְ<mark>ה</mark>וָ֔ה<mark> אֶל־</mark>מ<mark>ֹ</mark>שֶׁ<mark>֥</mark>ה וְאֶֽל־א<mark>ַ</mark>הֲרֹ֖ן<mark> לֵאמֹֽר׃ </mark> |\n",
       "| <a href=\"https://www.stepbible.org/?q=version=NASB2020%7Creference=Numbers.16:23&options=HNVUG\" target=\"_blank\">Numbers 16:23</a> | 76% | <mark>וַיְדַבֵּ֥ר </mark>יְ<mark>ה</mark>וָ<mark>֖</mark>ה<mark> אֶל־</mark>מ<mark>ֹ</mark>שֶׁ<mark>֥</mark>ה<mark> ל</mark>ּ<mark>ֵאמֹֽר׃ </mark> |\n",
       "| <a href=\"https://www.stepbible.org/?q=version=NASB2020%7Creference=Numbers.17:1&options=HNVUG\" target=\"_blank\">Numbers 17:1</a> | 76% | <mark>וַיְדַבֵּ֥ר </mark>יְ<mark>ה</mark>וָ<mark>֖</mark>ה<mark> אֶל־</mark>מ<mark>ֹ</mark>שֶׁ<mark>֥</mark>ה<mark> ל</mark>ּ<mark>ֵאמֹֽר׃ </mark> |\n",
       "| <a href=\"https://www.stepbible.org/?q=version=NASB2020%7Creference=Numbers.17:9&options=HNVUG\" target=\"_blank\">Numbers 17:9</a> | 76% | <mark>וַיְדַבֵּ֥ר </mark>יְ<mark>ה</mark>וָ<mark>֖</mark>ה<mark> אֶל־</mark>מ<mark>ֹ</mark>שֶׁ<mark>֥</mark>ה<mark> ל</mark>ּ<mark>ֵאמֹֽר׃ </mark> |\n",
       "| <a href=\"https://www.stepbible.org/?q=version=NASB2020%7Creference=Numbers.17:16&options=HNVUG\" target=\"_blank\">Numbers 17:16</a> | 76% | <mark>וַיְדַבֵּ֥ר </mark>יְ<mark>ה</mark>וָ<mark>֖</mark>ה<mark> אֶל־</mark>מ<mark>ֹ</mark>שֶׁ<mark>֥</mark>ה<mark> ל</mark>ּ<mark>ֵאמֹֽר׃ </mark> |\n",
       "| <a href=\"https://www.stepbible.org/?q=version=NASB2020%7Creference=Numbers.18:25&options=HNVUG\" target=\"_blank\">Numbers 18:25</a> | 76% | <mark>וַיְדַבֵּ֥ר </mark>יְ<mark>ה</mark>וָ<mark>֖</mark>ה<mark> אֶל־</mark>מ<mark>ֹ</mark>שֶׁ<mark>֥</mark>ה<mark> ל</mark>ּ<mark>ֵאמֹֽר׃ </mark> |\n",
       "| <a href=\"https://www.stepbible.org/?q=version=NASB2020%7Creference=Numbers.19:1&options=HNVUG\" target=\"_blank\">Numbers 19:1</a> | 75% | <mark>וַיְדַבֵּ</mark>֣<mark>ר </mark>יְ<mark>ה</mark>וָ֔ה<mark> אֶל־</mark>מ<mark>ֹ</mark>שֶׁ<mark>֥</mark>ה וְאֶֽל־א<mark>ַ</mark>הֲרֹ֖ן<mark> לֵאמֹֽר׃ </mark> |\n",
       "| <a href=\"https://www.stepbible.org/?q=version=NASB2020%7Creference=Numbers.20:7&options=HNVUG\" target=\"_blank\">Numbers 20:7</a> | 76% | <mark>וַיְדַבֵּ֥ר </mark>יְ<mark>ה</mark>וָ<mark>֖</mark>ה<mark> אֶל־</mark>מ<mark>ֹ</mark>שֶׁ<mark>֥</mark>ה<mark> ל</mark>ּ<mark>ֵאמֹֽר׃ </mark> |\n",
       "| <a href=\"https://www.stepbible.org/?q=version=NASB2020%7Creference=Numbers.25:10&options=HNVUG\" target=\"_blank\">Numbers 25:10</a> | 76% | <mark>וַיְדַבֵּ֥ר </mark>יְ<mark>ה</mark>וָ<mark>֖</mark>ה<mark> אֶל־</mark>מ<mark>ֹ</mark>שֶׁ<mark>֥</mark>ה<mark> ל</mark>ּ<mark>ֵאמֹֽר׃ </mark> |\n",
       "| <a href=\"https://www.stepbible.org/?q=version=NASB2020%7Creference=Numbers.25:16&options=HNVUG\" target=\"_blank\">Numbers 25:16</a> | 76% | <mark>וַיְדַבֵּ֥ר </mark>יְ<mark>ה</mark>וָ<mark>֖</mark>ה<mark> אֶל־</mark>מ<mark>ֹ</mark>שֶׁ<mark>֥</mark>ה<mark> ל</mark>ּ<mark>ֵאמֹֽר׃ </mark> |\n",
       "| <a href=\"https://www.stepbible.org/?q=version=NASB2020%7Creference=Numbers.26:52&options=HNVUG\" target=\"_blank\">Numbers 26:52</a> | 76% | <mark>וַיְדַבֵּ֥ר </mark>יְ<mark>ה</mark>וָ<mark>֖</mark>ה<mark> אֶל־</mark>מ<mark>ֹ</mark>שֶׁ<mark>֥</mark>ה<mark> ל</mark>ּ<mark>ֵאמֹֽר׃ </mark> |\n",
       "| <a href=\"https://www.stepbible.org/?q=version=NASB2020%7Creference=Numbers.27:15&options=HNVUG\" target=\"_blank\">Numbers 27:15</a> | 76% | <mark>וַיְדַבֵּ</mark>֣<mark>ר </mark>מ<mark>ֹ</mark>שֶׁ֔<mark>ה</mark><mark> אֶל־</mark>יְהוָ֖ה<mark> לֵאמֹֽר׃ </mark> |\n",
       "| <a href=\"https://www.stepbible.org/?q=version=NASB2020%7Creference=Numbers.28:1&options=HNVUG\" target=\"_blank\">Numbers 28:1</a> | 76% | <mark>וַיְדַבֵּ֥ר </mark>יְ<mark>ה</mark>וָ<mark>֖</mark>ה<mark> אֶל־</mark>מ<mark>ֹ</mark>שֶׁ<mark>֥</mark>ה<mark> ל</mark>ּ<mark>ֵאמֹֽר׃ </mark> |\n",
       "| <a href=\"https://www.stepbible.org/?q=version=NASB2020%7Creference=Numbers.31:1&options=HNVUG\" target=\"_blank\">Numbers 31:1</a> | 76% | <mark>וַיְדַבֵּ֥ר </mark>יְ<mark>ה</mark>וָ<mark>֖</mark>ה<mark> אֶל־</mark>מ<mark>ֹ</mark>שֶׁ<mark>֥</mark>ה<mark> ל</mark>ּ<mark>ֵאמֹֽר׃ </mark> |\n",
       "| <a href=\"https://www.stepbible.org/?q=version=NASB2020%7Creference=Numbers.34:1&options=HNVUG\" target=\"_blank\">Numbers 34:1</a> | 76% | <mark>וַיְדַבֵּ֥ר </mark>יְ<mark>ה</mark>וָ<mark>֖</mark>ה<mark> אֶל־</mark>מ<mark>ֹ</mark>שֶׁ<mark>֥</mark>ה<mark> ל</mark>ּ<mark>ֵאמֹֽר׃ </mark> |\n",
       "| <a href=\"https://www.stepbible.org/?q=version=NASB2020%7Creference=Numbers.34:16&options=HNVUG\" target=\"_blank\">Numbers 34:16</a> | 76% | <mark>וַיְדַבֵּ֥ר </mark>יְ<mark>ה</mark>וָ<mark>֖</mark>ה<mark> אֶל־</mark>מ<mark>ֹ</mark>שֶׁ<mark>֥</mark>ה<mark> ל</mark>ּ<mark>ֵאמֹֽר׃ </mark> |\n",
       "| <a href=\"https://www.stepbible.org/?q=version=NASB2020%7Creference=Numbers.35:9&options=HNVUG\" target=\"_blank\">Numbers 35:9</a> | 76% | <mark>וַיְדַבֵּ֥ר </mark>יְ<mark>ה</mark>וָ<mark>֖</mark>ה<mark> אֶל־</mark>מ<mark>ֹ</mark>שֶׁ<mark>֥</mark>ה<mark> ל</mark>ּ<mark>ֵאמֹֽר׃ </mark> |\n",
       "| <a href=\"https://www.stepbible.org/?q=version=NASB2020%7Creference=Deuteronomy.2:17&options=HNVUG\" target=\"_blank\">Deuteronomy 2:17</a> | 80% | <mark>וַיְדַבֵּ֥ר </mark>יְ<mark>ה</mark>וָ<mark>֖</mark>ה<mark> א</mark>ֵ<mark>ל</mark>ַ<mark>֥</mark>י<mark> לֵאמֹֽר׃ </mark> |\n",
       "| <a href=\"https://www.stepbible.org/?q=version=NASB2020%7Creference=Joshua.20:1&options=HNVUG\" target=\"_blank\">Joshua 20:1</a> | 76% | <mark>וַיְדַבֵּ</mark>֣<mark>ר </mark>יְ<mark>ה</mark>וָ֔ה<mark> אֶל־</mark>יְה<mark>ֹ</mark>ושֻׁ֖ע<mark>ַ לֵאמֹֽר׃ </mark> |\n",
       "| <a href=\"https://www.stepbible.org/?q=version=NASB2020%7Creference=Jeremiah.13:3&options=HNVUG\" target=\"_blank\">Jeremiah 13:3</a> | 78% | <mark>וַיְ</mark>הִ֧י <mark>ד</mark>ְב<mark>ַ</mark><mark>ר</mark>־יְהוָ֛ה<mark> א</mark>ֵ<mark>ל</mark>ַ<mark>֖י</mark><mark> </mark>שֵׁ<mark>נ</mark>ִ<mark>֥</mark>ית<mark> לֵאמֹֽר׃ </mark> |\n"
      ],
      "text/plain": [
       "<IPython.core.display.Markdown object>"
      ]
     },
     "metadata": {},
     "output_type": "display_data"
    },
    {
     "data": {
      "text/markdown": [],
      "text/plain": [
       "<IPython.core.display.Markdown object>"
      ]
     },
     "metadata": {},
     "output_type": "display_data"
    },
    {
     "data": {
      "text/markdown": [],
      "text/plain": [
       "<IPython.core.display.Markdown object>"
      ]
     },
     "metadata": {},
     "output_type": "display_data"
    },
    {
     "data": {
      "text/markdown": [],
      "text/plain": [
       "<IPython.core.display.Markdown object>"
      ]
     },
     "metadata": {},
     "output_type": "display_data"
    },
    {
     "data": {
      "text/markdown": [],
      "text/plain": [
       "<IPython.core.display.Markdown object>"
      ]
     },
     "metadata": {},
     "output_type": "display_data"
    },
    {
     "data": {
      "text/markdown": [],
      "text/plain": [
       "<IPython.core.display.Markdown object>"
      ]
     },
     "metadata": {},
     "output_type": "display_data"
    },
    {
     "data": {
      "text/markdown": [],
      "text/plain": [
       "<IPython.core.display.Markdown object>"
      ]
     },
     "metadata": {},
     "output_type": "display_data"
    },
    {
     "data": {
      "text/markdown": [],
      "text/plain": [
       "<IPython.core.display.Markdown object>"
      ]
     },
     "metadata": {},
     "output_type": "display_data"
    },
    {
     "data": {
      "text/markdown": [],
      "text/plain": [
       "<IPython.core.display.Markdown object>"
      ]
     },
     "metadata": {},
     "output_type": "display_data"
    },
    {
     "data": {
      "text/markdown": [],
      "text/plain": [
       "<IPython.core.display.Markdown object>"
      ]
     },
     "metadata": {},
     "output_type": "display_data"
    },
    {
     "data": {
      "text/markdown": [],
      "text/plain": [
       "<IPython.core.display.Markdown object>"
      ]
     },
     "metadata": {},
     "output_type": "display_data"
    },
    {
     "data": {
      "text/markdown": [
       "#### Cross-references for <a href=\"https://www.stepbible.org/?q=version=NASB2020%7Creference=Genesis.9:4&options=HNVUG\" target=\"_blank\">Genesis 9:4</a>\n",
       " ##### אַךְ־בָּשָׂ֕ר בְּנַפְשֹׁ֥ו דָמֹ֖ו לֹ֥א תֹאכֵֽלוּ׃ \n",
       "| Reference | Match | Text |\n",
       "| --- | --- | --- |\n",
       "| <a href=\"https://www.stepbible.org/?q=version=NASB2020%7Creference=Job.14:22&options=HNVUG\" target=\"_blank\">Job 14:22</a> | 75% | <mark>אַךְ־ב</mark>֭<mark>ּ</mark>ְ<mark>שָׂ</mark><mark>ר</mark>ֹו<mark> </mark>עָלָ֣יו יִכְאָ֑<mark>ב</mark> ו֝<mark>ְנַפְשֹׁ</mark>֗<mark>ו </mark>ע<mark>ָ</mark>לָ֥י<mark>ו </mark>תֶּ<mark>א</mark>ֱבָ<mark>ֽל</mark><mark>׃ </mark>פ  |\n"
      ],
      "text/plain": [
       "<IPython.core.display.Markdown object>"
      ]
     },
     "metadata": {},
     "output_type": "display_data"
    },
    {
     "data": {
      "text/markdown": [],
      "text/plain": [
       "<IPython.core.display.Markdown object>"
      ]
     },
     "metadata": {},
     "output_type": "display_data"
    },
    {
     "data": {
      "text/markdown": [],
      "text/plain": [
       "<IPython.core.display.Markdown object>"
      ]
     },
     "metadata": {},
     "output_type": "display_data"
    },
    {
     "data": {
      "text/markdown": [],
      "text/plain": [
       "<IPython.core.display.Markdown object>"
      ]
     },
     "metadata": {},
     "output_type": "display_data"
    },
    {
     "data": {
      "text/markdown": [
       "#### Cross-references for <a href=\"https://www.stepbible.org/?q=version=NASB2020%7Creference=Genesis.9:8&options=HNVUG\" target=\"_blank\">Genesis 9:8</a>\n",
       " ##### וַיֹּ֤אמֶר אֱלֹהִים֙ אֶל־נֹ֔חַ וְאֶל־בָּנָ֥יו אִתֹּ֖ו לֵאמֹֽר׃ \n",
       "| Reference | Match | Text |\n",
       "| --- | --- | --- |\n",
       "| <a href=\"https://www.stepbible.org/?q=version=NASB2020%7Creference=Genesis.8:15&options=HNVUG\" target=\"_blank\">Genesis 8:15</a> | 75% | <mark>וַי</mark>ְדַב<mark>ּ</mark>ֵ֥<mark>ר אֱלֹהִ</mark>֖<mark>ים</mark><mark> אֶל־נֹ</mark>֥<mark>חַ</mark><mark> לֵאמֹֽר׃ </mark> |\n"
      ],
      "text/plain": [
       "<IPython.core.display.Markdown object>"
      ]
     },
     "metadata": {},
     "output_type": "display_data"
    },
    {
     "data": {
      "text/markdown": [],
      "text/plain": [
       "<IPython.core.display.Markdown object>"
      ]
     },
     "metadata": {},
     "output_type": "display_data"
    },
    {
     "data": {
      "text/markdown": [],
      "text/plain": [
       "<IPython.core.display.Markdown object>"
      ]
     },
     "metadata": {},
     "output_type": "display_data"
    },
    {
     "data": {
      "text/markdown": [],
      "text/plain": [
       "<IPython.core.display.Markdown object>"
      ]
     },
     "metadata": {},
     "output_type": "display_data"
    },
    {
     "data": {
      "text/markdown": [],
      "text/plain": [
       "<IPython.core.display.Markdown object>"
      ]
     },
     "metadata": {},
     "output_type": "display_data"
    },
    {
     "data": {
      "text/markdown": [],
      "text/plain": [
       "<IPython.core.display.Markdown object>"
      ]
     },
     "metadata": {},
     "output_type": "display_data"
    },
    {
     "data": {
      "text/markdown": [],
      "text/plain": [
       "<IPython.core.display.Markdown object>"
      ]
     },
     "metadata": {},
     "output_type": "display_data"
    },
    {
     "data": {
      "text/markdown": [],
      "text/plain": [
       "<IPython.core.display.Markdown object>"
      ]
     },
     "metadata": {},
     "output_type": "display_data"
    },
    {
     "data": {
      "text/markdown": [],
      "text/plain": [
       "<IPython.core.display.Markdown object>"
      ]
     },
     "metadata": {},
     "output_type": "display_data"
    },
    {
     "data": {
      "text/markdown": [],
      "text/plain": [
       "<IPython.core.display.Markdown object>"
      ]
     },
     "metadata": {},
     "output_type": "display_data"
    },
    {
     "data": {
      "text/markdown": [],
      "text/plain": [
       "<IPython.core.display.Markdown object>"
      ]
     },
     "metadata": {},
     "output_type": "display_data"
    },
    {
     "data": {
      "text/markdown": [],
      "text/plain": [
       "<IPython.core.display.Markdown object>"
      ]
     },
     "metadata": {},
     "output_type": "display_data"
    },
    {
     "data": {
      "text/markdown": [],
      "text/plain": [
       "<IPython.core.display.Markdown object>"
      ]
     },
     "metadata": {},
     "output_type": "display_data"
    },
    {
     "data": {
      "text/markdown": [],
      "text/plain": [
       "<IPython.core.display.Markdown object>"
      ]
     },
     "metadata": {},
     "output_type": "display_data"
    },
    {
     "data": {
      "text/markdown": [],
      "text/plain": [
       "<IPython.core.display.Markdown object>"
      ]
     },
     "metadata": {},
     "output_type": "display_data"
    },
    {
     "data": {
      "text/markdown": [],
      "text/plain": [
       "<IPython.core.display.Markdown object>"
      ]
     },
     "metadata": {},
     "output_type": "display_data"
    },
    {
     "data": {
      "text/markdown": [],
      "text/plain": [
       "<IPython.core.display.Markdown object>"
      ]
     },
     "metadata": {},
     "output_type": "display_data"
    },
    {
     "data": {
      "text/markdown": [],
      "text/plain": [
       "<IPython.core.display.Markdown object>"
      ]
     },
     "metadata": {},
     "output_type": "display_data"
    },
    {
     "data": {
      "text/markdown": [],
      "text/plain": [
       "<IPython.core.display.Markdown object>"
      ]
     },
     "metadata": {},
     "output_type": "display_data"
    },
    {
     "data": {
      "text/markdown": [],
      "text/plain": [
       "<IPython.core.display.Markdown object>"
      ]
     },
     "metadata": {},
     "output_type": "display_data"
    },
    {
     "data": {
      "text/markdown": [],
      "text/plain": [
       "<IPython.core.display.Markdown object>"
      ]
     },
     "metadata": {},
     "output_type": "display_data"
    },
    {
     "data": {
      "text/markdown": [
       "#### Cross-references for <a href=\"https://www.stepbible.org/?q=version=NASB2020%7Creference=Genesis.9:29&options=HNVUG\" target=\"_blank\">Genesis 9:29</a>\n",
       " ##### וַיִּֽהְיוּ֙ כָּל־יְמֵי־נֹ֔חַ תְּשַׁ֤ע מֵאֹות֙ שָׁנָ֔ה וַחֲמִשִּׁ֖ים שָׁנָ֑ה וַיָּמֹֽת׃ פ \n",
       "| Reference | Match | Text |\n",
       "| --- | --- | --- |\n",
       "| <a href=\"https://www.stepbible.org/?q=version=NASB2020%7Creference=Genesis.5:5&options=HNVUG\" target=\"_blank\">Genesis 5:5</a> | 83% | <mark>וַיִּֽהְי</mark>֞<mark>וּ</mark><mark> כָּל־יְמֵ</mark>֤<mark>י</mark> אָדָם֙ אֲשֶׁר<mark>־</mark><mark>חַ</mark>֔י<mark> תְּשַׁ֤ע מֵאֹות֙ שָׁנָ֔ה ו</mark>ּ<mark>שׁ</mark>ְלֹשׁ<mark>ִ֖ים שָׁנָ֑ה וַיָּמֹֽת׃ </mark>ס<mark> </mark> |\n",
       "| <a href=\"https://www.stepbible.org/?q=version=NASB2020%7Creference=Genesis.5:11&options=HNVUG\" target=\"_blank\">Genesis 5:11</a> | 79% | <mark>וַיִּֽהְיוּ֙ כָּל־יְמֵ</mark>֣<mark>י</mark> אֱ<mark>נֹ֔</mark>ושׁ <mark>ח</mark>ָמֵ֣שׁ<mark> </mark>שָׁנִ֔ים וּ<mark>ת</mark><mark>ְשַׁ</mark>֥<mark>ע מֵאֹ</mark>֖<mark>ות</mark><mark> שָׁנָ֑ה וַיָּמֹֽת׃ </mark>ס<mark> </mark> |\n",
       "| <a href=\"https://www.stepbible.org/?q=version=NASB2020%7Creference=Genesis.5:17&options=HNVUG\" target=\"_blank\">Genesis 5:17</a> | 78% | <mark>וַיִּ</mark><mark>הְיוּ֙ כָּל־יְמֵ</mark>֣<mark>י</mark> מַהֲלַלְאֵ<mark>֔</mark>ל <mark>ח</mark>ָמֵ֤<mark>שׁ</mark> וְתִשְׁ<mark>ע</mark>ִים<mark>֙ שָׁנָ֔ה ו</mark>ּ<mark>שׁ</mark>ְמֹנֶ֥ה מֵאֹ<mark>֖</mark>ות<mark> שָׁנָ֑ה וַיָּמֹֽת׃ </mark>ס<mark> </mark> |\n",
       "| <a href=\"https://www.stepbible.org/?q=version=NASB2020%7Creference=Genesis.5:27&options=HNVUG\" target=\"_blank\">Genesis 5:27</a> | 77% | <mark>וַיִּ</mark><mark>הְיוּ֙ כָּל־יְמֵ</mark>֣<mark>י</mark> מְתוּשֶׁ<mark>֔</mark>לַ<mark>ח</mark><mark> תּ</mark>ֵ֤שַׁע ו<mark>ְשׁ</mark>ִשִּׁים<mark>֙ שָׁנָ֔ה ו</mark>ּתְ<mark>שׁ</mark>ַ֥ע מֵאֹ<mark>֖</mark>ות<mark> שָׁנָ֑ה וַיָּמֹֽת׃ פ </mark> |\n"
      ],
      "text/plain": [
       "<IPython.core.display.Markdown object>"
      ]
     },
     "metadata": {},
     "output_type": "display_data"
    },
    {
     "data": {
      "text/markdown": [],
      "text/plain": [
       "<IPython.core.display.Markdown object>"
      ]
     },
     "metadata": {},
     "output_type": "display_data"
    },
    {
     "data": {
      "text/markdown": [
       "#### Cross-references for <a href=\"https://www.stepbible.org/?q=version=NASB2020%7Creference=Genesis.10:2&options=HNVUG\" target=\"_blank\">Genesis 10:2</a>\n",
       " ##### בְּנֵ֣י יֶ֔פֶת גֹּ֣מֶר וּמָגֹ֔וג וּמָדַ֖י וְיָוָ֣ן וְתֻבָ֑ל וּמֶ֖שֶׁךְ וְתִירָֽס׃ \n",
       "| Reference | Match | Text |\n",
       "| --- | --- | --- |\n",
       "| <a href=\"https://www.stepbible.org/?q=version=NASB2020%7Creference=1_Chronicles.1:5&options=HNVUG\" target=\"_blank\">1_Chronicles 1:5</a> | 100% | <mark>בְּנֵ֣י יֶ֔פֶת גֹּ֣מֶר וּמָגֹ֔וג וּמָדַ֖י וְיָוָ֣ן וְתֻבָ֑ל וּמֶ֖שֶׁךְ וְתִירָֽס׃ </mark>ס  |\n"
      ],
      "text/plain": [
       "<IPython.core.display.Markdown object>"
      ]
     },
     "metadata": {},
     "output_type": "display_data"
    },
    {
     "data": {
      "text/markdown": [
       "#### Cross-references for <a href=\"https://www.stepbible.org/?q=version=NASB2020%7Creference=Genesis.10:3&options=HNVUG\" target=\"_blank\">Genesis 10:3</a>\n",
       " ##### וּבְנֵ֖י גֹּ֑מֶר אַשְׁכֲּנַ֥ז וְרִיפַ֖ת וְתֹגַרְמָֽה׃ \n",
       "| Reference | Match | Text |\n",
       "| --- | --- | --- |\n",
       "| <a href=\"https://www.stepbible.org/?q=version=NASB2020%7Creference=1_Chronicles.1:6&options=HNVUG\" target=\"_blank\">1_Chronicles 1:6</a> | 95% | <mark>וּבְנֵ֖י גֹּ֑מֶר אַשְׁכֲּנַ֥ז וְ</mark>ד<mark>ִיפַ֖ת וְתֹ</mark>ו<mark>גַרְמָֽה׃ </mark> |\n"
      ],
      "text/plain": [
       "<IPython.core.display.Markdown object>"
      ]
     },
     "metadata": {},
     "output_type": "display_data"
    },
    {
     "data": {
      "text/markdown": [
       "#### Cross-references for <a href=\"https://www.stepbible.org/?q=version=NASB2020%7Creference=Genesis.10:4&options=HNVUG\" target=\"_blank\">Genesis 10:4</a>\n",
       " ##### וּבְנֵ֥י יָוָ֖ן אֱלִישָׁ֣ה וְתַרְשִׁ֑ישׁ כִּתִּ֖ים וְדֹדָנִֽים׃ \n",
       "| Reference | Match | Text |\n",
       "| --- | --- | --- |\n",
       "| <a href=\"https://www.stepbible.org/?q=version=NASB2020%7Creference=1_Chronicles.1:7&options=HNVUG\" target=\"_blank\">1_Chronicles 1:7</a> | 95% | <mark>וּבְנֵ֥י יָוָ֖ן אֱלִישָׁ֣ה וְתַרְשִׁ֑ישׁ</mark>ָה<mark> כִּתִּ֖ים וְ</mark>ר<mark>ֹ</mark>ו<mark>דָנִֽים׃ </mark>ס  |\n"
      ],
      "text/plain": [
       "<IPython.core.display.Markdown object>"
      ]
     },
     "metadata": {},
     "output_type": "display_data"
    },
    {
     "data": {
      "text/markdown": [],
      "text/plain": [
       "<IPython.core.display.Markdown object>"
      ]
     },
     "metadata": {},
     "output_type": "display_data"
    },
    {
     "data": {
      "text/markdown": [
       "#### Cross-references for <a href=\"https://www.stepbible.org/?q=version=NASB2020%7Creference=Genesis.10:6&options=HNVUG\" target=\"_blank\">Genesis 10:6</a>\n",
       " ##### וּבְנֵ֖י חָ֑ם כּ֥וּשׁ וּמִצְרַ֖יִם וּפ֥וּט וּכְנָֽעַן׃ \n",
       "| Reference | Match | Text |\n",
       "| --- | --- | --- |\n",
       "| <a href=\"https://www.stepbible.org/?q=version=NASB2020%7Creference=1_Chronicles.1:8&options=HNVUG\" target=\"_blank\">1_Chronicles 1:8</a> | 100% | ב<mark>ּ</mark><mark>ְנֵ֖י חָ֑ם כּ֥וּשׁ וּמִצְרַ֖יִם </mark>פ<mark>ּ</mark><mark>֥וּט וּכְנָֽעַן׃ </mark> |\n"
      ],
      "text/plain": [
       "<IPython.core.display.Markdown object>"
      ]
     },
     "metadata": {},
     "output_type": "display_data"
    },
    {
     "data": {
      "text/markdown": [
       "#### Cross-references for <a href=\"https://www.stepbible.org/?q=version=NASB2020%7Creference=Genesis.10:7&options=HNVUG\" target=\"_blank\">Genesis 10:7</a>\n",
       " ##### וּבְנֵ֣י כ֔וּשׁ סְבָא֙ וַֽחֲוִילָ֔ה וְסַבְתָּ֥ה וְרַעְמָ֖ה וְסַבְתְּכָ֑א וּבְנֵ֥י רַעְמָ֖ה שְׁבָ֥א וּדְדָֽן׃ \n",
       "| Reference | Match | Text |\n",
       "| --- | --- | --- |\n",
       "| <a href=\"https://www.stepbible.org/?q=version=NASB2020%7Creference=1_Chronicles.1:9&options=HNVUG\" target=\"_blank\">1_Chronicles 1:9</a> | 100% | <mark>וּבְנֵ֣י כ֔וּשׁ סְבָא֙ וַ</mark><mark>חֲוִילָ֔ה וְסַבְתָּ֥</mark>א<mark> וְרַעְמָ֖</mark>א<mark> וְסַבְתְּכָ֑א וּבְנֵ֥י רַעְמָ֖</mark>א<mark> שְׁבָ֥א וּדְדָֽן׃ </mark>ס  |\n"
      ],
      "text/plain": [
       "<IPython.core.display.Markdown object>"
      ]
     },
     "metadata": {},
     "output_type": "display_data"
    },
    {
     "data": {
      "text/markdown": [
       "#### Cross-references for <a href=\"https://www.stepbible.org/?q=version=NASB2020%7Creference=Genesis.10:8&options=HNVUG\" target=\"_blank\">Genesis 10:8</a>\n",
       " ##### וְכ֖וּשׁ יָלַ֣ד אֶת־נִמְרֹ֑ד ה֣וּא הֵחֵ֔ל לִֽהְיֹ֥ות גִּבֹּ֖ר בָּאָֽרֶץ׃ \n",
       "| Reference | Match | Text |\n",
       "| --- | --- | --- |\n",
       "| <a href=\"https://www.stepbible.org/?q=version=NASB2020%7Creference=1_Chronicles.1:10&options=HNVUG\" target=\"_blank\">1_Chronicles 1:10</a> | 100% | <mark>וְכ֖וּשׁ יָלַ֣ד אֶת־נִמְרֹ֑</mark>ו<mark>ד ה֣וּא הֵחֵ֔ל לִ</mark><mark>הְיֹ֥ות גִּבֹּ֖</mark>ו<mark>ר בָּאָֽרֶץ׃ </mark>ס  |\n"
      ],
      "text/plain": [
       "<IPython.core.display.Markdown object>"
      ]
     },
     "metadata": {},
     "output_type": "display_data"
    },
    {
     "data": {
      "text/markdown": [],
      "text/plain": [
       "<IPython.core.display.Markdown object>"
      ]
     },
     "metadata": {},
     "output_type": "display_data"
    },
    {
     "data": {
      "text/markdown": [],
      "text/plain": [
       "<IPython.core.display.Markdown object>"
      ]
     },
     "metadata": {},
     "output_type": "display_data"
    },
    {
     "data": {
      "text/markdown": [],
      "text/plain": [
       "<IPython.core.display.Markdown object>"
      ]
     },
     "metadata": {},
     "output_type": "display_data"
    },
    {
     "data": {
      "text/markdown": [],
      "text/plain": [
       "<IPython.core.display.Markdown object>"
      ]
     },
     "metadata": {},
     "output_type": "display_data"
    },
    {
     "data": {
      "text/markdown": [
       "#### Cross-references for <a href=\"https://www.stepbible.org/?q=version=NASB2020%7Creference=Genesis.10:13&options=HNVUG\" target=\"_blank\">Genesis 10:13</a>\n",
       " ##### וּמִצְרַ֡יִם יָלַ֞ד אֶת־לוּדִ֧ים וְאֶת־עֲנָמִ֛ים וְאֶת־לְהָבִ֖ים וְאֶת־נַפְתֻּחִֽים׃ \n",
       "| Reference | Match | Text |\n",
       "| --- | --- | --- |\n",
       "| <a href=\"https://www.stepbible.org/?q=version=NASB2020%7Creference=1_Chronicles.1:11&options=HNVUG\" target=\"_blank\">1_Chronicles 1:11</a> | 100% | <mark>וּמִצְרַ֡יִם יָלַ֞ד אֶת־לוּדִ֧ים וְאֶת־עֲנָמִ֛ים וְאֶת־לְהָבִ֖ים וְאֶת־נַפְתֻּחִֽים׃ </mark> |\n"
      ],
      "text/plain": [
       "<IPython.core.display.Markdown object>"
      ]
     },
     "metadata": {},
     "output_type": "display_data"
    },
    {
     "data": {
      "text/markdown": [
       "#### Cross-references for <a href=\"https://www.stepbible.org/?q=version=NASB2020%7Creference=Genesis.10:14&options=HNVUG\" target=\"_blank\">Genesis 10:14</a>\n",
       " ##### וְֽאֶת־פַּתְרֻסִ֞ים וְאֶת־כַּסְלֻחִ֗ים אֲשֶׁ֨ר יָצְא֥וּ מִשָּׁ֛ם פְּלִשְׁתִּ֖ים וְאֶת־כַּפְתֹּרִֽים׃ ס \n",
       "| Reference | Match | Text |\n",
       "| --- | --- | --- |\n",
       "| <a href=\"https://www.stepbible.org/?q=version=NASB2020%7Creference=1_Chronicles.1:12&options=HNVUG\" target=\"_blank\">1_Chronicles 1:12</a> | 100% | <mark>וְֽאֶת־פַּתְרֻסִ֞ים וְאֶת־כַּסְלֻחִ֗ים אֲשֶׁ֨ר יָצְא֥וּ מִשָּׁ֛ם פְּלִשְׁתִּ֖ים וְאֶת־כַּפְתֹּרִֽים׃ ס </mark> |\n"
      ],
      "text/plain": [
       "<IPython.core.display.Markdown object>"
      ]
     },
     "metadata": {},
     "output_type": "display_data"
    },
    {
     "data": {
      "text/markdown": [
       "#### Cross-references for <a href=\"https://www.stepbible.org/?q=version=NASB2020%7Creference=Genesis.10:15&options=HNVUG\" target=\"_blank\">Genesis 10:15</a>\n",
       " ##### וּכְנַ֗עַן יָלַ֛ד אֶת־צִידֹ֥ן בְּכֹרֹ֖ו וְאֶת־חֵֽת׃ \n",
       "| Reference | Match | Text |\n",
       "| --- | --- | --- |\n",
       "| <a href=\"https://www.stepbible.org/?q=version=NASB2020%7Creference=1_Chronicles.1:13&options=HNVUG\" target=\"_blank\">1_Chronicles 1:13</a> | 100% | <mark>וּכְנַ֗עַן יָלַ֛ד אֶת־צִידֹ֥</mark>ו<mark>ן בְּכֹרֹ֖ו וְאֶת־חֵֽת׃ </mark> |\n"
      ],
      "text/plain": [
       "<IPython.core.display.Markdown object>"
      ]
     },
     "metadata": {},
     "output_type": "display_data"
    },
    {
     "data": {
      "text/markdown": [
       "#### Cross-references for <a href=\"https://www.stepbible.org/?q=version=NASB2020%7Creference=Genesis.10:16&options=HNVUG\" target=\"_blank\">Genesis 10:16</a>\n",
       " ##### וְאֶת־הַיְבוּסִי֙ וְאֶת־הָ֣אֱמֹרִ֔י וְאֵ֖ת הַגִּרְגָּשִֽׁי׃ \n",
       "| Reference | Match | Text |\n",
       "| --- | --- | --- |\n",
       "| <a href=\"https://www.stepbible.org/?q=version=NASB2020%7Creference=Genesis.15:21&options=HNVUG\" target=\"_blank\">Genesis 15:21</a> | 83% | וְאֶת־הָֽאֱמֹרִי֙ וְאֶת־הַֽכְּנַעֲנִ֔י וְאֶת־הַגִּרְגָּשִׁ֖י <mark>וְאֶת־הַיְבוּסִ</mark><mark>ֽי׃ </mark>ס  |\n",
       "| <a href=\"https://www.stepbible.org/?q=version=NASB2020%7Creference=1_Chronicles.1:14&options=HNVUG\" target=\"_blank\">1_Chronicles 1:14</a> | 100% | <mark>וְאֶת־הַיְבוּסִי֙ וְאֶת־הָ֣אֱמֹרִ֔י וְאֵ֖ת הַגִּרְגָּשִֽׁי׃ </mark> |\n"
      ],
      "text/plain": [
       "<IPython.core.display.Markdown object>"
      ]
     },
     "metadata": {},
     "output_type": "display_data"
    },
    {
     "data": {
      "text/markdown": [
       "#### Cross-references for <a href=\"https://www.stepbible.org/?q=version=NASB2020%7Creference=Genesis.10:17&options=HNVUG\" target=\"_blank\">Genesis 10:17</a>\n",
       " ##### וְאֶת־הַֽחִוִּ֥י וְאֶת־הַֽעַרְקִ֖י וְאֶת־הַסִּינִֽי׃ \n",
       "| Reference | Match | Text |\n",
       "| --- | --- | --- |\n",
       "| <a href=\"https://www.stepbible.org/?q=version=NASB2020%7Creference=Genesis.15:20&options=HNVUG\" target=\"_blank\">Genesis 15:20</a> | 76% | <mark>וְאֶת־הַ</mark><mark>חִ</mark>ת<mark>ִּ֥י וְאֶת־הַ</mark>פְּ<mark>ר</mark>ִזּ<mark>ִ֖י וְאֶת־ה</mark>ָרְפָא<mark>ִֽי</mark>ם<mark>׃ </mark> |\n",
       "| <a href=\"https://www.stepbible.org/?q=version=NASB2020%7Creference=1_Chronicles.1:15&options=HNVUG\" target=\"_blank\">1_Chronicles 1:15</a> | 100% | <mark>וְאֶת־הַ</mark><mark>חִוִּ֥י וְאֶת־הַֽעַרְקִ֖י וְאֶת־הַסִּינִֽי׃ </mark> |\n"
      ],
      "text/plain": [
       "<IPython.core.display.Markdown object>"
      ]
     },
     "metadata": {},
     "output_type": "display_data"
    },
    {
     "data": {
      "text/markdown": [],
      "text/plain": [
       "<IPython.core.display.Markdown object>"
      ]
     },
     "metadata": {},
     "output_type": "display_data"
    },
    {
     "data": {
      "text/markdown": [],
      "text/plain": [
       "<IPython.core.display.Markdown object>"
      ]
     },
     "metadata": {},
     "output_type": "display_data"
    },
    {
     "data": {
      "text/markdown": [
       "#### Cross-references for <a href=\"https://www.stepbible.org/?q=version=NASB2020%7Creference=Genesis.10:20&options=HNVUG\" target=\"_blank\">Genesis 10:20</a>\n",
       " ##### אֵ֣לֶּה בְנֵי־חָ֔ם לְמִשְׁפְּחֹתָ֖ם לִלְשֹֽׁנֹתָ֑ם בְּאַרְצֹתָ֖ם בְּגֹויֵהֶֽם׃ ס \n",
       "| Reference | Match | Text |\n",
       "| --- | --- | --- |\n",
       "| <a href=\"https://www.stepbible.org/?q=version=NASB2020%7Creference=Genesis.10:31&options=HNVUG\" target=\"_blank\">Genesis 10:31</a> | 87% | <mark>אֵ֣לֶּה בְנֵי־</mark>שֵׁ<mark>֔ם לְמִשְׁפְּחֹתָ֖ם לִלְשֹׁ</mark><mark>נֹתָ֑ם בְּאַרְצֹתָ֖ם </mark>ל<mark>ְגֹויֵהֶֽם׃ </mark> |\n"
      ],
      "text/plain": [
       "<IPython.core.display.Markdown object>"
      ]
     },
     "metadata": {},
     "output_type": "display_data"
    },
    {
     "data": {
      "text/markdown": [],
      "text/plain": [
       "<IPython.core.display.Markdown object>"
      ]
     },
     "metadata": {},
     "output_type": "display_data"
    },
    {
     "data": {
      "text/markdown": [
       "#### Cross-references for <a href=\"https://www.stepbible.org/?q=version=NASB2020%7Creference=Genesis.10:22&options=HNVUG\" target=\"_blank\">Genesis 10:22</a>\n",
       " ##### בְּנֵ֥י שֵׁ֖ם עֵילָ֣ם וְאַשּׁ֑וּר וְאַרְפַּכְשַׁ֖ד וְל֥וּד וַֽאֲרָֽם׃ \n",
       "| Reference | Match | Text |\n",
       "| --- | --- | --- |\n",
       "| <a href=\"https://www.stepbible.org/?q=version=NASB2020%7Creference=1_Chronicles.1:17&options=HNVUG\" target=\"_blank\">1_Chronicles 1:17</a> | 77% | <mark>בְּנֵ</mark>֣<mark>י שֵׁ</mark>֔<mark>ם עֵילָ֣ם וְאַשּׁ</mark>֔<mark>וּר וְאַרְפַּכְשַׁ֖ד וְל</mark>֣<mark>וּד וַ</mark><mark>אֲרָ</mark>֑ם וְע֥וּץ וְח֖וּל וְגֶ֥תֶר וָמֶ<mark>ֽ</mark>שֶׁךְ<mark>׃ </mark>ס  |\n"
      ],
      "text/plain": [
       "<IPython.core.display.Markdown object>"
      ]
     },
     "metadata": {},
     "output_type": "display_data"
    },
    {
     "data": {
      "text/markdown": [],
      "text/plain": [
       "<IPython.core.display.Markdown object>"
      ]
     },
     "metadata": {},
     "output_type": "display_data"
    },
    {
     "data": {
      "text/markdown": [
       "#### Cross-references for <a href=\"https://www.stepbible.org/?q=version=NASB2020%7Creference=Genesis.10:24&options=HNVUG\" target=\"_blank\">Genesis 10:24</a>\n",
       " ##### וְאַרְפַּכְשַׁ֖ד יָלַ֣ד אֶת־שָׁ֑לַח וְשֶׁ֖לַח יָלַ֥ד אֶת־עֵֽבֶר׃ \n",
       "| Reference | Match | Text |\n",
       "| --- | --- | --- |\n",
       "| <a href=\"https://www.stepbible.org/?q=version=NASB2020%7Creference=1_Chronicles.1:18&options=HNVUG\" target=\"_blank\">1_Chronicles 1:18</a> | 100% | <mark>וְאַרְפַּכְשַׁ֖ד יָלַ֣ד אֶת־שָׁ֑לַח וְשֶׁ֖לַח יָלַ֥ד אֶת־עֵֽבֶר׃ </mark> |\n"
      ],
      "text/plain": [
       "<IPython.core.display.Markdown object>"
      ]
     },
     "metadata": {},
     "output_type": "display_data"
    },
    {
     "data": {
      "text/markdown": [
       "#### Cross-references for <a href=\"https://www.stepbible.org/?q=version=NASB2020%7Creference=Genesis.10:25&options=HNVUG\" target=\"_blank\">Genesis 10:25</a>\n",
       " ##### וּלְעֵ֥בֶר יֻלַּ֖ד שְׁנֵ֣י בָנִ֑ים שֵׁ֣ם הָֽאֶחָ֞ד פֶּ֗לֶג כִּ֤י בְיָמָיו֙ נִפְלְגָ֣ה הָאָ֔רֶץ וְשֵׁ֥ם אָחִ֖יו יָקְטָֽן׃ \n",
       "| Reference | Match | Text |\n",
       "| --- | --- | --- |\n",
       "| <a href=\"https://www.stepbible.org/?q=version=NASB2020%7Creference=1_Chronicles.1:19&options=HNVUG\" target=\"_blank\">1_Chronicles 1:19</a> | 100% | <mark>וּלְעֵ֥בֶר יֻלַּ֖ד שְׁנֵ֣י בָנִ֑ים שֵׁ֣ם הָ</mark><mark>אֶחָ֞ד פֶּ֗לֶג כִּ֤י בְיָמָיו֙ נִפְלְגָ֣ה הָאָ֔רֶץ וְשֵׁ֥ם אָחִ֖יו יָקְטָֽן׃ </mark> |\n"
      ],
      "text/plain": [
       "<IPython.core.display.Markdown object>"
      ]
     },
     "metadata": {},
     "output_type": "display_data"
    },
    {
     "data": {
      "text/markdown": [
       "#### Cross-references for <a href=\"https://www.stepbible.org/?q=version=NASB2020%7Creference=Genesis.10:26&options=HNVUG\" target=\"_blank\">Genesis 10:26</a>\n",
       " ##### וְיָקְטָ֣ן יָלַ֔ד אֶת־אַלְמֹודָ֖ד וְאֶת־שָׁ֑לֶף וְאֶת־חֲצַרְמָ֖וֶת וְאֶת־יָֽרַח׃ \n",
       "| Reference | Match | Text |\n",
       "| --- | --- | --- |\n",
       "| <a href=\"https://www.stepbible.org/?q=version=NASB2020%7Creference=1_Chronicles.1:20&options=HNVUG\" target=\"_blank\">1_Chronicles 1:20</a> | 100% | <mark>וְיָקְטָ֣ן יָלַ֔ד אֶת־אַלְמֹודָ֖ד וְאֶת־שָׁ֑לֶף וְאֶת־חֲצַרְמָ֖וֶת וְאֶת־יָֽרַח׃ </mark> |\n"
      ],
      "text/plain": [
       "<IPython.core.display.Markdown object>"
      ]
     },
     "metadata": {},
     "output_type": "display_data"
    },
    {
     "data": {
      "text/markdown": [
       "#### Cross-references for <a href=\"https://www.stepbible.org/?q=version=NASB2020%7Creference=Genesis.10:27&options=HNVUG\" target=\"_blank\">Genesis 10:27</a>\n",
       " ##### וְאֶת־הֲדֹורָ֥ם וְאֶת־אוּזָ֖ל וְאֶת־דִּקְלָֽה׃ \n",
       "| Reference | Match | Text |\n",
       "| --- | --- | --- |\n",
       "| <a href=\"https://www.stepbible.org/?q=version=NASB2020%7Creference=1_Chronicles.1:21&options=HNVUG\" target=\"_blank\">1_Chronicles 1:21</a> | 100% | <mark>וְאֶת־הֲדֹורָ֥ם וְאֶת־אוּזָ֖ל וְאֶת־דִּקְלָֽה׃ </mark> |\n",
       "| <a href=\"https://www.stepbible.org/?q=version=NASB2020%7Creference=2_Chronicles.11:9&options=HNVUG\" target=\"_blank\">2_Chronicles 11:9</a> | 78% | <mark>וְאֶת־</mark>א<mark>ֲדֹור</mark>ַ<mark>֥</mark>יִ<mark>ם וְאֶת־</mark>ל<mark>ָ</mark>כִ<mark>֖</mark>ישׁ<mark> וְאֶת־</mark>עֲזֵ<mark>ק</mark><mark>ָֽה׃ </mark> |\n"
      ],
      "text/plain": [
       "<IPython.core.display.Markdown object>"
      ]
     },
     "metadata": {},
     "output_type": "display_data"
    },
    {
     "data": {
      "text/markdown": [
       "#### Cross-references for <a href=\"https://www.stepbible.org/?q=version=NASB2020%7Creference=Genesis.10:28&options=HNVUG\" target=\"_blank\">Genesis 10:28</a>\n",
       " ##### וְאֶת־עֹובָ֥ל וְאֶת־אֲבִֽימָאֵ֖ל וְאֶת־שְׁבָֽא׃ \n",
       "| Reference | Match | Text |\n",
       "| --- | --- | --- |\n",
       "| <a href=\"https://www.stepbible.org/?q=version=NASB2020%7Creference=1_Chronicles.1:22&options=HNVUG\" target=\"_blank\">1_Chronicles 1:22</a> | 100% | <mark>וְאֶת־ע</mark>ֵי<mark>בָ֥ל וְאֶת־אֲבִ</mark><mark>ימָאֵ֖ל וְאֶת־שְׁבָֽא׃ </mark> |\n"
      ],
      "text/plain": [
       "<IPython.core.display.Markdown object>"
      ]
     },
     "metadata": {},
     "output_type": "display_data"
    },
    {
     "data": {
      "text/markdown": [
       "#### Cross-references for <a href=\"https://www.stepbible.org/?q=version=NASB2020%7Creference=Genesis.10:29&options=HNVUG\" target=\"_blank\">Genesis 10:29</a>\n",
       " ##### וְאֶת־אֹופִ֥ר וְאֶת־חֲוִילָ֖ה וְאֶת־יֹובָ֑ב כָּל־אֵ֖לֶּה בְּנֵ֥י יָקְטָֽן׃ \n",
       "| Reference | Match | Text |\n",
       "| --- | --- | --- |\n",
       "| <a href=\"https://www.stepbible.org/?q=version=NASB2020%7Creference=1_Chronicles.1:23&options=HNVUG\" target=\"_blank\">1_Chronicles 1:23</a> | 100% | <mark>וְאֶת־אֹופִ֥</mark>י<mark>ר וְאֶת־חֲוִילָ֖ה וְאֶת־יֹובָ֑ב כָּל־אֵ֖לֶּה בְּנֵ֥י יָקְטָֽן׃ </mark>ס  |\n"
      ],
      "text/plain": [
       "<IPython.core.display.Markdown object>"
      ]
     },
     "metadata": {},
     "output_type": "display_data"
    },
    {
     "data": {
      "text/markdown": [],
      "text/plain": [
       "<IPython.core.display.Markdown object>"
      ]
     },
     "metadata": {},
     "output_type": "display_data"
    },
    {
     "data": {
      "text/markdown": [
       "#### Cross-references for <a href=\"https://www.stepbible.org/?q=version=NASB2020%7Creference=Genesis.10:31&options=HNVUG\" target=\"_blank\">Genesis 10:31</a>\n",
       " ##### אֵ֣לֶּה בְנֵי־שֵׁ֔ם לְמִשְׁפְּחֹתָ֖ם לִלְשֹׁנֹתָ֑ם בְּאַרְצֹתָ֖ם לְגֹויֵהֶֽם׃ \n",
       "| Reference | Match | Text |\n",
       "| --- | --- | --- |\n",
       "| <a href=\"https://www.stepbible.org/?q=version=NASB2020%7Creference=Genesis.10:20&options=HNVUG\" target=\"_blank\">Genesis 10:20</a> | 87% | <mark>אֵ֣לֶּה בְנֵי־</mark>חָ<mark>֔ם לְמִשְׁפְּחֹתָ֖ם לִלְשֹׁ</mark>ֽ<mark>נֹתָ֑ם בְּאַרְצֹתָ֖ם </mark>בּ<mark>ְגֹויֵהֶֽם׃ </mark>ס  |\n"
      ],
      "text/plain": [
       "<IPython.core.display.Markdown object>"
      ]
     },
     "metadata": {},
     "output_type": "display_data"
    },
    {
     "data": {
      "text/markdown": [],
      "text/plain": [
       "<IPython.core.display.Markdown object>"
      ]
     },
     "metadata": {},
     "output_type": "display_data"
    },
    {
     "data": {
      "text/markdown": [],
      "text/plain": [
       "<IPython.core.display.Markdown object>"
      ]
     },
     "metadata": {},
     "output_type": "display_data"
    },
    {
     "data": {
      "text/markdown": [],
      "text/plain": [
       "<IPython.core.display.Markdown object>"
      ]
     },
     "metadata": {},
     "output_type": "display_data"
    },
    {
     "data": {
      "text/markdown": [],
      "text/plain": [
       "<IPython.core.display.Markdown object>"
      ]
     },
     "metadata": {},
     "output_type": "display_data"
    },
    {
     "data": {
      "text/markdown": [],
      "text/plain": [
       "<IPython.core.display.Markdown object>"
      ]
     },
     "metadata": {},
     "output_type": "display_data"
    },
    {
     "data": {
      "text/markdown": [],
      "text/plain": [
       "<IPython.core.display.Markdown object>"
      ]
     },
     "metadata": {},
     "output_type": "display_data"
    },
    {
     "data": {
      "text/markdown": [],
      "text/plain": [
       "<IPython.core.display.Markdown object>"
      ]
     },
     "metadata": {},
     "output_type": "display_data"
    },
    {
     "data": {
      "text/markdown": [],
      "text/plain": [
       "<IPython.core.display.Markdown object>"
      ]
     },
     "metadata": {},
     "output_type": "display_data"
    },
    {
     "data": {
      "text/markdown": [],
      "text/plain": [
       "<IPython.core.display.Markdown object>"
      ]
     },
     "metadata": {},
     "output_type": "display_data"
    },
    {
     "data": {
      "text/markdown": [],
      "text/plain": [
       "<IPython.core.display.Markdown object>"
      ]
     },
     "metadata": {},
     "output_type": "display_data"
    },
    {
     "data": {
      "text/markdown": [],
      "text/plain": [
       "<IPython.core.display.Markdown object>"
      ]
     },
     "metadata": {},
     "output_type": "display_data"
    },
    {
     "data": {
      "text/markdown": [
       "#### Cross-references for <a href=\"https://www.stepbible.org/?q=version=NASB2020%7Creference=Genesis.11:11&options=HNVUG\" target=\"_blank\">Genesis 11:11</a>\n",
       " ##### וַֽיְחִי־שֵׁ֗ם אַֽחֲרֵי֙ הֹולִידֹ֣ו אֶת־אַרְפַּכְשָׁ֔ד חֲמֵ֥שׁ מֵאֹ֖ות שָׁנָ֑ה וַיֹּ֥ולֶד בָּנִ֖ים וּבָנֹֽות׃ ס \n",
       "| Reference | Match | Text |\n",
       "| --- | --- | --- |\n",
       "| <a href=\"https://www.stepbible.org/?q=version=NASB2020%7Creference=Genesis.5:4&options=HNVUG\" target=\"_blank\">Genesis 5:4</a> | 79% | <mark>וַ</mark>יִּ<mark>ֽ</mark>הְי֣וּ <mark>יְ</mark>מֵ<mark>י־</mark>אָדָ<mark>֗ם אַֽחֲרֵי֙ הֹולִידֹ֣ו אֶת־</mark><mark>שׁ</mark>ֵ<mark>֔</mark>ת<mark> </mark><mark>שׁ</mark>ְמֹנֶ֥ה<mark> מֵאֹ֖</mark><mark>ת שָׁנָ֑ה וַיֹּ֥ולֶד בָּנִ֖ים וּבָנֹֽות׃ </mark> |\n",
       "| <a href=\"https://www.stepbible.org/?q=version=NASB2020%7Creference=Genesis.5:7&options=HNVUG\" target=\"_blank\">Genesis 5:7</a> | 76% | <mark>וַֽיְחִי־שֵׁ֗</mark>ת<mark> אַֽחֲרֵי֙ הֹולִידֹ֣ו אֶת־א</mark>ֱנֹ֔ושׁ שֶׁ֣ב<mark>ַ</mark>ע <mark>שָׁ</mark>נִ<mark>֔</mark>ים<mark> </mark>וּ<mark>שׁ</mark>ְמֹנֶ֥ה<mark> מֵאֹ֖ות שָׁנָ֑ה וַיֹּ֥ולֶד בָּנִ֖ים וּבָנֹֽות׃ </mark> |\n",
       "| <a href=\"https://www.stepbible.org/?q=version=NASB2020%7Creference=Genesis.5:16&options=HNVUG\" target=\"_blank\">Genesis 5:16</a> | 76% | <mark>וַֽיְחִ</mark>֣<mark>י</mark> מַֽהֲלַלְא<mark>ֵ֗</mark>ל<mark> אַֽחֲרֵי֙ הֹולִידֹ֣ו אֶת־</mark>יֶ֔<mark>ר</mark>ֶד שׁ<mark>ְ</mark>לֹשִׁ֣ים <mark>שָׁ</mark>נָ<mark>֔</mark>ה<mark> </mark>וּ<mark>שׁ</mark>ְמֹנֶ֥ה<mark> מֵאֹ֖ות שָׁנָ֑ה וַיֹּ֥ולֶד בָּנִ֖ים וּבָנֹֽות׃ </mark> |\n",
       "| <a href=\"https://www.stepbible.org/?q=version=NASB2020%7Creference=Genesis.5:19&options=HNVUG\" target=\"_blank\">Genesis 5:19</a> | 81% | <mark>וַֽיְחִי־</mark>יֶ<mark>֗</mark>רֶד<mark> אַֽחֲרֵי֙ הֹולִידֹ֣ו אֶת־</mark>חֲנֹ֔וך<mark>ְ</mark> <mark>שׁ</mark>ְ<mark>מ</mark>ֹנֶ<mark>֥</mark>ה<mark> מֵאֹ֖ות שָׁנָ֑ה וַיֹּ֥ולֶד בָּנִ֖ים וּבָנֹֽות׃ </mark> |\n",
       "| <a href=\"https://www.stepbible.org/?q=version=NASB2020%7Creference=Genesis.5:30&options=HNVUG\" target=\"_blank\">Genesis 5:30</a> | 77% | <mark>וַֽיְחִי־</mark>לֶ<mark>֗</mark>מֶךְ<mark> אַֽחֲרֵי֙ הֹולִידֹ֣ו אֶת־</mark>נֹ֔ח<mark>ַ</mark> חָמֵ֤שׁ ו<mark>ְ</mark>תִשׁ<mark>ְ</mark>עִים֙ <mark>שָׁ</mark>נָ<mark>֔</mark>ה<mark> </mark>וַ<mark>חֲמֵ֥שׁ מֵאֹ֖</mark><mark>ת שָׁנָ֑ה וַיֹּ֥ולֶד בָּנִ֖ים וּבָנֹֽות׃ </mark> |\n",
       "| <a href=\"https://www.stepbible.org/?q=version=NASB2020%7Creference=Genesis.11:15&options=HNVUG\" target=\"_blank\">Genesis 11:15</a> | 78% | <mark>וַֽיְחִי־שׁ</mark>ֶ<mark>֗</mark>לַח<mark> אַ</mark><mark>חֲרֵי֙ הֹולִידֹ֣ו אֶת־</mark>עֵ֔בֶר שָׁלֹ֣שׁ שָׁנִ֔ים וְ<mark>אַרְ</mark>ב<mark>ַּ</mark><mark>֥</mark>ע<mark> מֵאֹ֖ות שָׁנָ֑ה וַיֹּ֥ולֶד בָּנִ֖ים וּבָנֹֽות׃ ס </mark> |\n",
       "| <a href=\"https://www.stepbible.org/?q=version=NASB2020%7Creference=Genesis.11:17&options=HNVUG\" target=\"_blank\">Genesis 11:17</a> | 75% | <mark>וַֽיְחִי־</mark>ע<mark>ֵ֗</mark>בֶר<mark> אַ</mark><mark>חֲרֵי֙ הֹולִידֹ֣ו אֶת־</mark>פֶּ֔לֶג שְׁלֹשִׁ֣ים שָׁנָ֔ה וְ<mark>אַרְ</mark>ב<mark>ַּ</mark><mark>֥</mark>ע<mark> מֵאֹ֖ות שָׁנָ֑ה וַיֹּ֥ולֶד בָּנִ֖ים וּבָנֹֽות׃ ס </mark> |\n",
       "| <a href=\"https://www.stepbible.org/?q=version=NASB2020%7Creference=Genesis.11:19&options=HNVUG\" target=\"_blank\">Genesis 11:19</a> | 80% | <mark>וַֽיְחִי־</mark>פֶ<mark>֗</mark>לֶג<mark> אַ</mark><mark>חֲרֵי֙ הֹולִידֹ֣ו אֶת־</mark><mark>רְ</mark>ע֔ו<mark>ּ</mark><mark> </mark>תּ<mark>ֵ֥שׁ</mark>ַע<mark> </mark>שָׁנִ֖ים וּ<mark>מ</mark>ָ<mark>א</mark><mark>ת</mark>ַ֣יִם<mark> שָׁנָ֑ה וַיֹּ֥ולֶד בָּנִ֖ים וּבָנֹֽות׃ ס </mark> |\n",
       "| <a href=\"https://www.stepbible.org/?q=version=NASB2020%7Creference=Genesis.11:21&options=HNVUG\" target=\"_blank\">Genesis 11:21</a> | 80% | <mark>וַ</mark><mark>יְחִ</mark>֣<mark>י</mark> רְע<mark>֗</mark>וּ<mark> אַ</mark><mark>חֲרֵי֙ הֹולִידֹ֣ו אֶת־</mark>שְׂר֔וּג שֶׁ֥ב<mark>ַ</mark>ע <mark>שָׁ</mark>נִ֖ים<mark> </mark>וּ<mark>מ</mark>ָ<mark>א</mark><mark>ת</mark>ַ֣יִם<mark> שָׁנָ֑ה וַיֹּ֥ולֶד בָּנִ֖ים וּבָנֹֽות׃ ס </mark> |\n",
       "| <a href=\"https://www.stepbible.org/?q=version=NASB2020%7Creference=Genesis.11:23&options=HNVUG\" target=\"_blank\">Genesis 11:23</a> | 79% | <mark>וַ</mark><mark>יְחִ</mark>֣<mark>י</mark> <mark>ש</mark>ְׂר<mark>֗</mark>וּג<mark> אַ</mark><mark>חֲרֵ</mark>֛<mark>י</mark><mark> הֹולִידֹ</mark>֥<mark>ו אֶת־</mark>נ<mark>ָ</mark><mark>ח</mark><mark>ֹ֖ו</mark>ר מָא<mark>ת</mark>ַ֣יִם<mark> שָׁנָ֑ה וַיֹּ֥ולֶד בָּנִ֖ים וּבָנֹֽות׃ ס </mark> |\n"
      ],
      "text/plain": [
       "<IPython.core.display.Markdown object>"
      ]
     },
     "metadata": {},
     "output_type": "display_data"
    },
    {
     "data": {
      "text/markdown": [
       "#### Cross-references for <a href=\"https://www.stepbible.org/?q=version=NASB2020%7Creference=Genesis.11:12&options=HNVUG\" target=\"_blank\">Genesis 11:12</a>\n",
       " ##### וְאַרְפַּכְשַׁ֣ד חַ֔י חָמֵ֥שׁ וּשְׁלֹשִׁ֖ים שָׁנָ֑ה וַיֹּ֖ולֶד אֶת־שָֽׁלַח׃ \n",
       "| Reference | Match | Text |\n",
       "| --- | --- | --- |\n",
       "| <a href=\"https://www.stepbible.org/?q=version=NASB2020%7Creference=Genesis.5:21&options=HNVUG\" target=\"_blank\">Genesis 5:21</a> | 77% | <mark>ו</mark>ַֽי<mark>ְ</mark>חִ<mark>֣</mark>י<mark> ח</mark>ֲנֹ<mark>֔</mark>וךְ<mark> חָמֵ֥שׁ ו</mark>ְ<mark>שׁ</mark>ִ<mark>שׁ</mark>ּ<mark>ִ֖ים שָׁנָ֑ה וַיֹּ֖ולֶד אֶת־</mark>מְתוּ<mark>שָֽׁלַח׃ </mark> |\n"
      ],
      "text/plain": [
       "<IPython.core.display.Markdown object>"
      ]
     },
     "metadata": {},
     "output_type": "display_data"
    },
    {
     "data": {
      "text/markdown": [
       "#### Cross-references for <a href=\"https://www.stepbible.org/?q=version=NASB2020%7Creference=Genesis.11:13&options=HNVUG\" target=\"_blank\">Genesis 11:13</a>\n",
       " ##### וַֽיְחִ֣י אַרְפַּכְשַׁ֗ד אַֽחֲרֵי֙ הֹולִידֹ֣ו אֶת־שֶׁ֔לַח שָׁלֹ֣שׁ שָׁנִ֔ים וְאַרְבַּ֥ע מֵאֹ֖ות שָׁנָ֑ה וַיֹּ֥ולֶד בָּנִ֖ים וּבָנֹֽות׃ ס \n",
       "| Reference | Match | Text |\n",
       "| --- | --- | --- |\n",
       "| <a href=\"https://www.stepbible.org/?q=version=NASB2020%7Creference=Genesis.5:4&options=HNVUG\" target=\"_blank\">Genesis 5:4</a> | 76% | <mark>וַ</mark>יִּ<mark>ֽ</mark>הְי֣וּ <mark>יְ</mark>מֵ<mark>י</mark>־<mark>א</mark>ָדָ<mark>֗</mark>ם<mark> אַֽחֲרֵי֙ הֹולִידֹ֣ו אֶת־שׁ</mark>ֵ<mark>֔</mark>ת<mark> שׁ</mark>ְמ<mark>ֹ</mark><mark>נ</mark>ֶ<mark>֥</mark>ה<mark> מֵאֹ֖</mark><mark>ת שָׁנָ֑ה וַיֹּ֥ולֶד בָּנִ֖ים וּבָנֹֽות׃ </mark> |\n",
       "| <a href=\"https://www.stepbible.org/?q=version=NASB2020%7Creference=Genesis.5:7&options=HNVUG\" target=\"_blank\">Genesis 5:7</a> | 80% | <mark>וַֽיְחִ</mark><mark>י</mark>־<mark>שׁ</mark>ֵ<mark>֗</mark>ת<mark> אַֽחֲרֵי֙ הֹולִידֹ֣ו אֶת־</mark>אֱנֹ֔ושׁ <mark>שֶׁ</mark>֣ב<mark>ַ</mark>ע<mark> שָׁנִ֔ים ו</mark>ּשׁ<mark>ְ</mark>מֹנֶ<mark>֥</mark>ה<mark> מֵאֹ֖ות שָׁנָ֑ה וַיֹּ֥ולֶד בָּנִ֖ים וּבָנֹֽות׃ </mark> |\n",
       "| <a href=\"https://www.stepbible.org/?q=version=NASB2020%7Creference=Genesis.5:16&options=HNVUG\" target=\"_blank\">Genesis 5:16</a> | 77% | <mark>וַֽיְחִ֣י </mark>מַֽהֲלַלְ<mark>א</mark>ֵ<mark>֗</mark>ל<mark> אַֽחֲרֵי֙ הֹולִידֹ֣ו אֶת־</mark>י<mark>ֶ֔</mark>רֶד<mark> שׁ</mark>ְ<mark>לֹ</mark><mark>שׁ</mark>ִ֣ים<mark> שָׁנ</mark>ָ<mark>֔</mark>ה<mark> ו</mark>ּשׁ<mark>ְ</mark>מֹנֶ<mark>֥</mark>ה<mark> מֵאֹ֖ות שָׁנָ֑ה וַיֹּ֥ולֶד בָּנִ֖ים וּבָנֹֽות׃ </mark> |\n",
       "| <a href=\"https://www.stepbible.org/?q=version=NASB2020%7Creference=Genesis.5:19&options=HNVUG\" target=\"_blank\">Genesis 5:19</a> | 81% | <mark>וַֽיְחִ</mark><mark>י</mark>־יֶ֗<mark>ר</mark>ֶ<mark>ד אַֽחֲרֵי֙ הֹולִידֹ֣ו אֶת־</mark>חֲנֹ<mark>֔</mark>וךְ<mark> שׁ</mark>ְמ<mark>ֹ</mark><mark>נ</mark>ֶ<mark>֥</mark>ה<mark> מֵאֹ֖ות שָׁנָ֑ה וַיֹּ֥ולֶד בָּנִ֖ים וּבָנֹֽות׃ </mark> |\n",
       "| <a href=\"https://www.stepbible.org/?q=version=NASB2020%7Creference=Genesis.5:26&options=HNVUG\" target=\"_blank\">Genesis 5:26</a> | 79% | <mark>וַֽיְחִ֣י </mark>מ<mark>ְ</mark>תו<mark>ּ</mark><mark>שׁ</mark>ֶ֗ל<mark>ַ</mark>ח<mark> אַֽחֲרֵי֙ הֹולִידֹ֣ו אֶת־</mark>ל<mark>ֶ֔</mark>מֶךְ<mark> שׁ</mark>ְתַּ֤יִם וּ<mark>שׁ</mark>ְמֹונִים֙<mark> שָׁנ</mark>ָ<mark>֔</mark>ה<mark> ו</mark>ּשׁ<mark>ְב</mark><mark>ַ֥ע מֵאֹ֖ות שָׁנָ֑ה וַיֹּ֥ולֶד בָּנִ֖ים וּבָנֹֽות׃ </mark> |\n",
       "| <a href=\"https://www.stepbible.org/?q=version=NASB2020%7Creference=Genesis.5:30&options=HNVUG\" target=\"_blank\">Genesis 5:30</a> | 78% | <mark>וַֽיְחִ</mark><mark>י</mark>־לֶ֗מֶך<mark>ְ</mark><mark> אַֽחֲרֵי֙ הֹולִידֹ֣ו אֶת־</mark>נֹ֔חַ חָמֵ֤<mark>שׁ</mark><mark> </mark>וְתִ<mark>שׁ</mark>ְעִים֙<mark> שָׁנ</mark>ָ<mark>֔</mark>ה<mark> ו</mark><mark>ַ</mark>חֲמֵ<mark>֥</mark>שׁ<mark> מֵאֹ֖</mark><mark>ת שָׁנָ֑ה וַיֹּ֥ולֶד בָּנִ֖ים וּבָנֹֽות׃ </mark> |\n",
       "| <a href=\"https://www.stepbible.org/?q=version=NASB2020%7Creference=Genesis.11:15&options=HNVUG\" target=\"_blank\">Genesis 11:15</a> | 86% | <mark>וַֽיְחִ</mark><mark>י</mark>־שֶׁ֗לַח<mark> אַ</mark><mark>חֲרֵי֙ הֹולִידֹ֣ו אֶת־</mark>עֵ֔ב<mark>ֶ</mark>ר<mark> שָׁלֹ֣שׁ שָׁנִ֔ים וְאַרְבַּ֥ע מֵאֹ֖ות שָׁנָ֑ה וַיֹּ֥ולֶד בָּנִ֖ים וּבָנֹֽות׃ ס </mark> |\n",
       "| <a href=\"https://www.stepbible.org/?q=version=NASB2020%7Creference=Genesis.11:17&options=HNVUG\" target=\"_blank\">Genesis 11:17</a> | 89% | <mark>וַֽיְחִ</mark><mark>י</mark>־עֵ֗בֶר<mark> אַ</mark><mark>חֲרֵי֙ הֹולִידֹ֣ו אֶת־</mark>פּ<mark>ֶ֔ל</mark>ֶג<mark> שׁ</mark>ְ<mark>לֹ</mark><mark>שׁ</mark>ִ֣ים<mark> שָׁנ</mark>ָ<mark>֔</mark>ה<mark> וְאַרְבַּ֥ע מֵאֹ֖ות שָׁנָ֑ה וַיֹּ֥ולֶד בָּנִ֖ים וּבָנֹֽות׃ ס </mark> |\n",
       "| <a href=\"https://www.stepbible.org/?q=version=NASB2020%7Creference=Genesis.11:19&options=HNVUG\" target=\"_blank\">Genesis 11:19</a> | 79% | <mark>וַֽיְחִ</mark><mark>י</mark>־פֶ֗לֶג<mark> אַ</mark><mark>חֲרֵי֙ הֹולִידֹ֣ו אֶת־</mark>רְע֔וּ תֵּ֥<mark>שׁ</mark><mark>ַ</mark>ע<mark> שָׁנִ</mark>֖<mark>ים ו</mark>ּמָ<mark>א</mark>ת<mark>ַ</mark>֣יִם<mark> שָׁנָ֑ה וַיֹּ֥ולֶד בָּנִ֖ים וּבָנֹֽות׃ ס </mark> |\n",
       "| <a href=\"https://www.stepbible.org/?q=version=NASB2020%7Creference=Genesis.11:21&options=HNVUG\" target=\"_blank\">Genesis 11:21</a> | 79% | <mark>וַ</mark><mark>יְחִ֣י </mark><mark>רְ</mark>ע֗ו<mark>ּ</mark><mark> אַ</mark><mark>חֲרֵי֙ הֹולִידֹ֣ו אֶת־ש</mark>ְׂר<mark>֔</mark>וּג<mark> שׁ</mark>ֶ֥בַע<mark> שָׁנִ</mark>֖<mark>ים ו</mark>ּמָ<mark>א</mark>ת<mark>ַ</mark>֣יִם<mark> שָׁנָ֑ה וַיֹּ֥ולֶד בָּנִ֖ים וּבָנֹֽות׃ ס </mark> |\n",
       "| <a href=\"https://www.stepbible.org/?q=version=NASB2020%7Creference=Genesis.11:23&options=HNVUG\" target=\"_blank\">Genesis 11:23</a> | 76% | <mark>וַ</mark><mark>יְחִ֣י </mark>שְׂ<mark>ר</mark>֗ו<mark>ּ</mark>ג<mark> אַ</mark><mark>חֲרֵ</mark>֛<mark>י</mark><mark> הֹולִידֹ</mark>֥<mark>ו אֶת־</mark>נָ<mark>ח</mark><mark>ֹ֖ו</mark>ר מָא<mark>ת</mark>ַ֣יִם<mark> שָׁנָ֑ה וַיֹּ֥ולֶד בָּנִ֖ים וּבָנֹֽות׃ ס </mark> |\n",
       "| <a href=\"https://www.stepbible.org/?q=version=NASB2020%7Creference=Genesis.11:25&options=HNVUG\" target=\"_blank\">Genesis 11:25</a> | 76% | <mark>וַ</mark><mark>יְחִ֣י </mark>נָחֹ֗ו<mark>ר</mark><mark> אַ</mark><mark>חֲרֵי֙ הֹולִידֹ֣ו אֶת־</mark>תּ<mark>ֶ֔</mark>ר<mark>ַח </mark>תְּ<mark>שׁ</mark>ַֽע־עֶ<mark>ש</mark>ְׂרֵ֥ה<mark> שָׁנ</mark>ָ֖ה<mark> ו</mark>ּמ<mark>ְאַ</mark>֣<mark>ת שָׁנָ֑ה וַיֹּ֥ולֶד בָּנִ֖ים וּבָנֹֽות׃ ס </mark> |\n"
      ],
      "text/plain": [
       "<IPython.core.display.Markdown object>"
      ]
     },
     "metadata": {},
     "output_type": "display_data"
    },
    {
     "data": {
      "text/markdown": [
       "#### Cross-references for <a href=\"https://www.stepbible.org/?q=version=NASB2020%7Creference=Genesis.11:14&options=HNVUG\" target=\"_blank\">Genesis 11:14</a>\n",
       " ##### וְשֶׁ֥לַח חַ֖י שְׁלֹשִׁ֣ים שָׁנָ֑ה וַיֹּ֖ולֶד אֶת־עֵֽבֶר׃ \n",
       "| Reference | Match | Text |\n",
       "| --- | --- | --- |\n",
       "| <a href=\"https://www.stepbible.org/?q=version=NASB2020%7Creference=Genesis.11:18&options=HNVUG\" target=\"_blank\">Genesis 11:18</a> | 76% | <mark>ו</mark>ַֽי<mark>ְ</mark>חִי־פ<mark>ֶ</mark>֖<mark>ל</mark>ֶג<mark> שְׁלֹשִׁ֣ים שָׁנָ֑ה וַיֹּ֖ולֶד אֶת־</mark>רְ<mark>ע</mark><mark>ֽ</mark>וּ<mark>׃ </mark> |\n"
      ],
      "text/plain": [
       "<IPython.core.display.Markdown object>"
      ]
     },
     "metadata": {},
     "output_type": "display_data"
    },
    {
     "data": {
      "text/markdown": [
       "#### Cross-references for <a href=\"https://www.stepbible.org/?q=version=NASB2020%7Creference=Genesis.11:15&options=HNVUG\" target=\"_blank\">Genesis 11:15</a>\n",
       " ##### וַֽיְחִי־שֶׁ֗לַח אַחֲרֵי֙ הֹולִידֹ֣ו אֶת־עֵ֔בֶר שָׁלֹ֣שׁ שָׁנִ֔ים וְאַרְבַּ֥ע מֵאֹ֖ות שָׁנָ֑ה וַיֹּ֥ולֶד בָּנִ֖ים וּבָנֹֽות׃ ס \n",
       "| Reference | Match | Text |\n",
       "| --- | --- | --- |\n",
       "| <a href=\"https://www.stepbible.org/?q=version=NASB2020%7Creference=Genesis.5:4&options=HNVUG\" target=\"_blank\">Genesis 5:4</a> | 75% | <mark>וַ</mark>יִּ<mark>ֽ</mark>הְי֣וּ <mark>יְ</mark>מֵ<mark>י־</mark>אָדָ<mark>֗</mark>ם<mark> אַ</mark>ֽ<mark>חֲרֵי֙ הֹולִידֹ֣ו אֶת־</mark>שׁ<mark>ֵ֔</mark>ת<mark> שׁ</mark>ְמ<mark>ֹ</mark><mark>נ</mark>ֶ<mark>֥</mark>ה<mark> מֵאֹ֖</mark><mark>ת שָׁנָ֑ה וַיֹּ֥ולֶד בָּנִ֖ים וּבָנֹֽות׃ </mark> |\n",
       "| <a href=\"https://www.stepbible.org/?q=version=NASB2020%7Creference=Genesis.5:7&options=HNVUG\" target=\"_blank\">Genesis 5:7</a> | 79% | <mark>וַֽיְחִי־שׁ</mark>ֵ<mark>֗</mark>ת<mark> אַ</mark>ֽ<mark>חֲרֵי֙ הֹולִידֹ֣ו אֶת־</mark>אֱנֹ<mark>֔</mark>ושׁ<mark> שׁ</mark>ֶ<mark>֣</mark>בַע<mark> שָׁנִ֔ים ו</mark>ּשׁ<mark>ְ</mark>מֹנֶ<mark>֥</mark>ה<mark> מֵאֹ֖ות שָׁנָ֑ה וַיֹּ֥ולֶד בָּנִ֖ים וּבָנֹֽות׃ </mark> |\n",
       "| <a href=\"https://www.stepbible.org/?q=version=NASB2020%7Creference=Genesis.5:10&options=HNVUG\" target=\"_blank\">Genesis 5:10</a> | 76% | <mark>וַֽיְחִ</mark>֣<mark>י</mark> אֱנֹ֗ו<mark>שׁ</mark><mark> אַ</mark>ֽ<mark>חֲרֵי֙ הֹולִידֹ֣ו אֶת־</mark>ק<mark>ֵ</mark>ינָ<mark>֔</mark>ן<mark> </mark>חֲמֵ֤<mark>שׁ</mark> עֶ<mark>ש</mark>ְׂרֵה֙<mark> שָׁנ</mark>ָ<mark>֔</mark>ה<mark> ו</mark>ּשׁ<mark>ְ</mark>מֹנֶ<mark>֥</mark>ה<mark> מֵאֹ֖ות שָׁנָ֑ה וַיֹּ֥ולֶד בָּנִ֖ים וּבָנֹֽות׃ </mark> |\n",
       "| <a href=\"https://www.stepbible.org/?q=version=NASB2020%7Creference=Genesis.5:16&options=HNVUG\" target=\"_blank\">Genesis 5:16</a> | 83% | <mark>וַֽיְחִ</mark>֣<mark>י</mark> מַֽהֲלַלְאֵ<mark>֗ל</mark><mark> אַ</mark>ֽ<mark>חֲרֵי֙ הֹולִידֹ֣ו אֶת־</mark>יֶ<mark>֔</mark>ר<mark>ֶ</mark>ד<mark> שׁ</mark>ְ<mark>לֹ</mark><mark>שׁ</mark>ִ֣ים<mark> שָׁנ</mark>ָ<mark>֔</mark>ה<mark> ו</mark>ּשׁ<mark>ְ</mark>מֹנֶ<mark>֥</mark>ה<mark> מֵאֹ֖ות שָׁנָ֑ה וַיֹּ֥ולֶד בָּנִ֖ים וּבָנֹֽות׃ </mark> |\n",
       "| <a href=\"https://www.stepbible.org/?q=version=NASB2020%7Creference=Genesis.5:19&options=HNVUG\" target=\"_blank\">Genesis 5:19</a> | 76% | <mark>וַֽיְחִי־</mark>י<mark>ֶ֗</mark>רֶד<mark> אַ</mark>ֽ<mark>חֲרֵי֙ הֹולִידֹ֣ו אֶת־</mark>חֲנֹ<mark>֔</mark>וךְ<mark> שׁ</mark>ְמ<mark>ֹ</mark><mark>נ</mark>ֶ<mark>֥</mark>ה<mark> מֵאֹ֖ות שָׁנָ֑ה וַיֹּ֥ולֶד בָּנִ֖ים וּבָנֹֽות׃ </mark> |\n",
       "| <a href=\"https://www.stepbible.org/?q=version=NASB2020%7Creference=Genesis.5:26&options=HNVUG\" target=\"_blank\">Genesis 5:26</a> | 83% | <mark>וַֽיְחִ</mark>֣<mark>י</mark> מְתוּ<mark>שֶׁ֗לַח אַ</mark>ֽ<mark>חֲרֵי֙ הֹולִידֹ֣ו אֶת־</mark>לֶ<mark>֔</mark>מ<mark>ֶ</mark>ךְ<mark> שׁ</mark>ְתַּ֤יִם וּ<mark>שׁ</mark>ְמֹונִים֙<mark> שָׁנ</mark>ָ<mark>֔</mark>ה<mark> ו</mark>ּשׁ<mark>ְב</mark><mark>ַ֥ע מֵאֹ֖ות שָׁנָ֑ה וַיֹּ֥ולֶד בָּנִ֖ים וּבָנֹֽות׃ </mark> |\n",
       "| <a href=\"https://www.stepbible.org/?q=version=NASB2020%7Creference=Genesis.5:30&options=HNVUG\" target=\"_blank\">Genesis 5:30</a> | 78% | <mark>וַֽיְחִי־</mark>ל<mark>ֶ֗</mark>מֶךְ<mark> אַ</mark>ֽ<mark>חֲרֵי֙ הֹולִידֹ֣ו אֶת־</mark>נֹ֔חַ חָמ<mark>ֵ</mark>֤<mark>שׁ</mark> וְתִ<mark>שׁ</mark>ְעִים֙<mark> שָׁנ</mark>ָ<mark>֔</mark>ה<mark> ו</mark><mark>ַ</mark>חֲמֵ<mark>֥</mark>שׁ<mark> מֵאֹ֖</mark><mark>ת שָׁנָ֑ה וַיֹּ֥ולֶד בָּנִ֖ים וּבָנֹֽות׃ </mark> |\n",
       "| <a href=\"https://www.stepbible.org/?q=version=NASB2020%7Creference=Genesis.11:11&options=HNVUG\" target=\"_blank\">Genesis 11:11</a> | 78% | <mark>וַֽיְחִי־שׁ</mark>ֵ<mark>֗</mark>ם<mark> אַ</mark>ֽ<mark>חֲרֵי֙ הֹולִידֹ֣ו אֶת־</mark><mark>אַרְ</mark>פ<mark>ַּ</mark>כְשָׁ֔ד חֲמֵ<mark>֥</mark>שׁ<mark> מֵאֹ֖ות שָׁנָ֑ה וַיֹּ֥ולֶד בָּנִ֖ים וּבָנֹֽות׃ ס </mark> |\n",
       "| <a href=\"https://www.stepbible.org/?q=version=NASB2020%7Creference=Genesis.11:13&options=HNVUG\" target=\"_blank\">Genesis 11:13</a> | 86% | <mark>וַֽיְחִ</mark>֣<mark>י</mark><mark> אַ</mark>רְפַּכְשַׁ֗ד אַֽ<mark>חֲרֵי֙ הֹולִידֹ֣ו אֶת־</mark>שֶׁ<mark>֔</mark>לַח<mark> שָׁלֹ֣שׁ שָׁנִ֔ים וְאַרְבַּ֥ע מֵאֹ֖ות שָׁנָ֑ה וַיֹּ֥ולֶד בָּנִ֖ים וּבָנֹֽות׃ ס </mark> |\n",
       "| <a href=\"https://www.stepbible.org/?q=version=NASB2020%7Creference=Genesis.11:17&options=HNVUG\" target=\"_blank\">Genesis 11:17</a> | 86% | <mark>וַֽיְחִי־</mark>עֵ֗ב<mark>ֶ</mark>ר<mark> אַחֲרֵי֙ הֹולִידֹ֣ו אֶת־</mark>פֶּ<mark>֔</mark>ל<mark>ֶ</mark>ג<mark> שׁ</mark>ְ<mark>לֹ</mark><mark>שׁ</mark>ִ֣ים<mark> שָׁנ</mark>ָ<mark>֔</mark>ה<mark> וְאַרְבַּ֥ע מֵאֹ֖ות שָׁנָ֑ה וַיֹּ֥ולֶד בָּנִ֖ים וּבָנֹֽות׃ ס </mark> |\n",
       "| <a href=\"https://www.stepbible.org/?q=version=NASB2020%7Creference=Genesis.11:19&options=HNVUG\" target=\"_blank\">Genesis 11:19</a> | 83% | <mark>וַֽיְחִי־</mark>פ<mark>ֶ֗ל</mark>ֶג<mark> אַחֲרֵי֙ הֹולִידֹ֣ו אֶת־</mark>רְ<mark>ע</mark>֔וּ תּ<mark>ֵ</mark>֥<mark>שׁ</mark>ַע<mark> שָׁנִ</mark>֖<mark>ים ו</mark>ּמָ<mark>א</mark>ת<mark>ַ</mark>֣יִם<mark> שָׁנָ֑ה וַיֹּ֥ולֶד בָּנִ֖ים וּבָנֹֽות׃ ס </mark> |\n",
       "| <a href=\"https://www.stepbible.org/?q=version=NASB2020%7Creference=Genesis.11:21&options=HNVUG\" target=\"_blank\">Genesis 11:21</a> | 80% | <mark>וַ</mark><mark>יְחִ</mark>֣<mark>י</mark> רְע<mark>֗</mark>וּ<mark> אַחֲרֵי֙ הֹולִידֹ֣ו אֶת־</mark>שְׂר<mark>֔</mark>וּג<mark> שׁ</mark>ֶ֥בַע<mark> שָׁנִ</mark>֖<mark>ים ו</mark>ּמָ<mark>א</mark>ת<mark>ַ</mark>֣יִם<mark> שָׁנָ֑ה וַיֹּ֥ולֶד בָּנִ֖ים וּבָנֹֽות׃ ס </mark> |\n",
       "| <a href=\"https://www.stepbible.org/?q=version=NASB2020%7Creference=Genesis.11:23&options=HNVUG\" target=\"_blank\">Genesis 11:23</a> | 75% | <mark>וַ</mark><mark>יְחִ</mark>֣<mark>י</mark> <mark>ש</mark>ְׂר<mark>֗</mark>וּג<mark> אַחֲרֵ</mark>֛<mark>י</mark><mark> הֹולִידֹ</mark>֥<mark>ו אֶת־</mark>נ<mark>ָ</mark>ח<mark>ֹ֖ו</mark>ר מָא<mark>ת</mark>ַ֣יִם<mark> שָׁנָ֑ה וַיֹּ֥ולֶד בָּנִ֖ים וּבָנֹֽות׃ ס </mark> |\n",
       "| <a href=\"https://www.stepbible.org/?q=version=NASB2020%7Creference=Genesis.11:25&options=HNVUG\" target=\"_blank\">Genesis 11:25</a> | 77% | <mark>וַ</mark><mark>יְחִ</mark>֣<mark>י</mark> נָחֹ<mark>֗</mark>ור<mark> אַחֲרֵי֙ הֹולִידֹ֣ו אֶת־</mark>תֶּ<mark>֔</mark><mark>ר</mark>ַח<mark> </mark>תְּ<mark>שׁ</mark>ַֽע־עֶ<mark>ש</mark>ְׂרֵ֥ה<mark> שָׁנ</mark>ָ֖ה<mark> ו</mark>ּמ<mark>ְאַ</mark>֣<mark>ת שָׁנָ֑ה וַיֹּ֥ולֶד בָּנִ֖ים וּבָנֹֽות׃ ס </mark> |\n"
      ],
      "text/plain": [
       "<IPython.core.display.Markdown object>"
      ]
     },
     "metadata": {},
     "output_type": "display_data"
    },
    {
     "data": {
      "text/markdown": [
       "#### Cross-references for <a href=\"https://www.stepbible.org/?q=version=NASB2020%7Creference=Genesis.11:16&options=HNVUG\" target=\"_blank\">Genesis 11:16</a>\n",
       " ##### וַֽיְחִי־עֵ֕בֶר אַרְבַּ֥ע וּשְׁלֹשִׁ֖ים שָׁנָ֑ה וַיֹּ֖ולֶד אֶת־פָּֽלֶג׃ \n",
       "| Reference | Match | Text |\n",
       "| --- | --- | --- |\n",
       "| <a href=\"https://www.stepbible.org/?q=version=NASB2020%7Creference=Genesis.11:20&options=HNVUG\" target=\"_blank\">Genesis 11:20</a> | 75% | <mark>וַ</mark><mark>יְחִ</mark>֣<mark>י</mark><mark> </mark><mark>רְ</mark>ע֔וּ שְׁת<mark>ַּ֥</mark>יִם<mark> וּשְׁלֹשִׁ֖ים שָׁנָ֑ה וַיֹּ֖ולֶד אֶת־</mark>שְׂרֽו<mark>ּ</mark><mark>ג׃ </mark> |\n"
      ],
      "text/plain": [
       "<IPython.core.display.Markdown object>"
      ]
     },
     "metadata": {},
     "output_type": "display_data"
    },
    {
     "data": {
      "text/markdown": [
       "#### Cross-references for <a href=\"https://www.stepbible.org/?q=version=NASB2020%7Creference=Genesis.11:17&options=HNVUG\" target=\"_blank\">Genesis 11:17</a>\n",
       " ##### וַֽיְחִי־עֵ֗בֶר אַחֲרֵי֙ הֹולִידֹ֣ו אֶת־פֶּ֔לֶג שְׁלֹשִׁ֣ים שָׁנָ֔ה וְאַרְבַּ֥ע מֵאֹ֖ות שָׁנָ֑ה וַיֹּ֥ולֶד בָּנִ֖ים וּבָנֹֽות׃ ס \n",
       "| Reference | Match | Text |\n",
       "| --- | --- | --- |\n",
       "| <a href=\"https://www.stepbible.org/?q=version=NASB2020%7Creference=Genesis.5:4&options=HNVUG\" target=\"_blank\">Genesis 5:4</a> | 75% | <mark>וַ</mark>יִּ<mark>ֽ</mark>הְי֣וּ <mark>יְ</mark>מֵ<mark>י־</mark>אָדָ<mark>֗</mark>ם<mark> אַ</mark>ֽ<mark>חֲרֵי֙ הֹולִידֹ֣ו אֶת־</mark>שֵׁ<mark>֔</mark>ת<mark> שְׁ</mark>מ<mark>ֹ</mark><mark>נ</mark>ֶ֥<mark>ה</mark><mark> מֵאֹ֖</mark><mark>ת שָׁנָ֑ה וַיֹּ֥ולֶד בָּנִ֖ים וּבָנֹֽות׃ </mark> |\n",
       "| <a href=\"https://www.stepbible.org/?q=version=NASB2020%7Creference=Genesis.5:7&options=HNVUG\" target=\"_blank\">Genesis 5:7</a> | 77% | <mark>וַֽיְחִי־</mark>שׁ<mark>ֵ֗</mark>ת<mark> אַ</mark>ֽ<mark>חֲרֵי֙ הֹולִידֹ֣ו אֶת־</mark>אֱנֹ<mark>֔</mark>ושׁ<mark> שׁ</mark>ֶ<mark>֣</mark>בַע<mark> שָׁנ</mark>ִ<mark>֔</mark>ים<mark> ו</mark>ּשׁ<mark>ְ</mark>מֹנֶ<mark>֥</mark>ה<mark> מֵאֹ֖ות שָׁנָ֑ה וַיֹּ֥ולֶד בָּנִ֖ים וּבָנֹֽות׃ </mark> |\n",
       "| <a href=\"https://www.stepbible.org/?q=version=NASB2020%7Creference=Genesis.5:16&options=HNVUG\" target=\"_blank\">Genesis 5:16</a> | 79% | <mark>וַֽיְחִ</mark>֣<mark>י</mark> מַֽהֲלַלְא<mark>ֵ֗</mark>ל<mark> אַ</mark>ֽ<mark>חֲרֵי֙ הֹולִידֹ֣ו אֶת־</mark>י<mark>ֶ֔</mark>ר<mark>ֶ</mark>ד<mark> שְׁלֹשִׁ֣ים שָׁנָ֔ה ו</mark>ּשׁ<mark>ְ</mark>מֹנֶ<mark>֥</mark>ה<mark> מֵאֹ֖ות שָׁנָ֑ה וַיֹּ֥ולֶד בָּנִ֖ים וּבָנֹֽות׃ </mark> |\n",
       "| <a href=\"https://www.stepbible.org/?q=version=NASB2020%7Creference=Genesis.5:19&options=HNVUG\" target=\"_blank\">Genesis 5:19</a> | 79% | <mark>וַֽיְחִי־</mark>יֶ<mark>֗</mark>ר<mark>ֶ</mark>ד<mark> אַ</mark>ֽ<mark>חֲרֵי֙ הֹולִידֹ֣ו אֶת־</mark>חֲנֹ<mark>֔</mark>וךְ<mark> שְׁ</mark>מ<mark>ֹ</mark><mark>נ</mark>ֶ֥<mark>ה</mark><mark> מֵאֹ֖ות שָׁנָ֑ה וַיֹּ֥ולֶד בָּנִ֖ים וּבָנֹֽות׃ </mark> |\n",
       "| <a href=\"https://www.stepbible.org/?q=version=NASB2020%7Creference=Genesis.5:26&options=HNVUG\" target=\"_blank\">Genesis 5:26</a> | 79% | <mark>וַֽיְחִ</mark>֣<mark>י</mark> מְתוּשֶׁ<mark>֗</mark>לַח<mark> אַ</mark>ֽ<mark>חֲרֵי֙ הֹולִידֹ֣ו אֶת־</mark>ל<mark>ֶ֔</mark>מ<mark>ֶ</mark>ךְ<mark> שְׁ</mark>תַּ֤יִם וּ<mark>שׁ</mark>ְמֹונ<mark>ִ</mark><mark>ים</mark>֙<mark> שָׁנָ֔ה ו</mark>ּשׁ<mark>ְב</mark><mark>ַ֥ע מֵאֹ֖ות שָׁנָ֑ה וַיֹּ֥ולֶד בָּנִ֖ים וּבָנֹֽות׃ </mark> |\n",
       "| <a href=\"https://www.stepbible.org/?q=version=NASB2020%7Creference=Genesis.5:30&options=HNVUG\" target=\"_blank\">Genesis 5:30</a> | 76% | <mark>וַֽיְחִי־</mark>לֶ<mark>֗</mark>מ<mark>ֶ</mark>ךְ<mark> אַ</mark>ֽ<mark>חֲרֵי֙ הֹולִידֹ֣ו אֶת־</mark>נֹ<mark>֔</mark>חַ<mark> </mark>חָמֵ֤שׁ וְתִ<mark>שְׁ</mark>ע<mark>ִ</mark><mark>ים</mark>֙<mark> שָׁנָ֔ה ו</mark><mark>ַ</mark>חֲמֵ<mark>֥</mark>שׁ<mark> מֵאֹ֖</mark><mark>ת שָׁנָ֑ה וַיֹּ֥ולֶד בָּנִ֖ים וּבָנֹֽות׃ </mark> |\n",
       "| <a href=\"https://www.stepbible.org/?q=version=NASB2020%7Creference=Genesis.11:11&options=HNVUG\" target=\"_blank\">Genesis 11:11</a> | 75% | <mark>וַֽיְחִי־</mark>שׁ<mark>ֵ֗</mark>ם<mark> אַ</mark>ֽ<mark>חֲרֵי֙ הֹולִידֹ֣ו אֶת־</mark><mark>אַרְ</mark>פ<mark>ַּ</mark>כְשָׁ֔ד חֲמֵ<mark>֥</mark>שׁ<mark> מֵאֹ֖ות שָׁנָ֑ה וַיֹּ֥ולֶד בָּנִ֖ים וּבָנֹֽות׃ ס </mark> |\n",
       "| <a href=\"https://www.stepbible.org/?q=version=NASB2020%7Creference=Genesis.11:13&options=HNVUG\" target=\"_blank\">Genesis 11:13</a> | 89% | <mark>וַֽיְחִ</mark>֣<mark>י</mark><mark> אַ</mark>רְפַּכְשַׁ֗ד אַֽ<mark>חֲרֵי֙ הֹולִידֹ֣ו אֶת־</mark>שׁ<mark>ֶ֔ל</mark>ַח<mark> שׁ</mark>ָ<mark>לֹ</mark>֣<mark>שׁ</mark><mark> שָׁנ</mark>ִ<mark>֔</mark>ים<mark> וְאַרְבַּ֥ע מֵאֹ֖ות שָׁנָ֑ה וַיֹּ֥ולֶד בָּנִ֖ים וּבָנֹֽות׃ ס </mark> |\n",
       "| <a href=\"https://www.stepbible.org/?q=version=NASB2020%7Creference=Genesis.11:15&options=HNVUG\" target=\"_blank\">Genesis 11:15</a> | 86% | <mark>וַֽיְחִי־</mark>שֶׁ<mark>֗</mark>לַח<mark> אַחֲרֵי֙ הֹולִידֹ֣ו אֶת־</mark>עֵ֔ב<mark>ֶ</mark>ר<mark> שׁ</mark>ָ<mark>לֹ</mark>֣<mark>שׁ</mark><mark> שָׁנ</mark>ִ<mark>֔</mark>ים<mark> וְאַרְבַּ֥ע מֵאֹ֖ות שָׁנָ֑ה וַיֹּ֥ולֶד בָּנִ֖ים וּבָנֹֽות׃ ס </mark> |\n",
       "| <a href=\"https://www.stepbible.org/?q=version=NASB2020%7Creference=Genesis.11:19&options=HNVUG\" target=\"_blank\">Genesis 11:19</a> | 78% | <mark>וַֽיְחִי־</mark>פֶ<mark>֗</mark>ל<mark>ֶ</mark>ג<mark> אַחֲרֵי֙ הֹולִידֹ֣ו אֶת־</mark>רְע֔ו<mark>ּ</mark><mark> </mark>תֵּ֥<mark>שׁ</mark>ַע<mark> שָׁנ</mark>ִ֖ים<mark> ו</mark>ּמָ<mark>א</mark>ת<mark>ַ</mark>֣יִם<mark> שָׁנָ֑ה וַיֹּ֥ולֶד בָּנִ֖ים וּבָנֹֽות׃ ס </mark> |\n",
       "| <a href=\"https://www.stepbible.org/?q=version=NASB2020%7Creference=Genesis.11:21&options=HNVUG\" target=\"_blank\">Genesis 11:21</a> | 83% | <mark>וַ</mark><mark>יְחִ</mark>֣<mark>י</mark> רְ<mark>ע</mark><mark>֗</mark>וּ<mark> אַחֲרֵי֙ הֹולִידֹ֣ו אֶת־</mark>שְׂר֔ו<mark>ּ</mark><mark>ג שׁ</mark>ֶ֥בַע<mark> שָׁנ</mark>ִ֖ים<mark> ו</mark>ּמָ<mark>א</mark>ת<mark>ַ</mark>֣יִם<mark> שָׁנָ֑ה וַיֹּ֥ולֶד בָּנִ֖ים וּבָנֹֽות׃ ס </mark> |\n",
       "| <a href=\"https://www.stepbible.org/?q=version=NASB2020%7Creference=Genesis.11:23&options=HNVUG\" target=\"_blank\">Genesis 11:23</a> | 78% | <mark>וַ</mark><mark>יְחִ</mark>֣<mark>י</mark> שְׂר<mark>֗</mark>וּג<mark> אַחֲרֵ</mark>֛<mark>י</mark><mark> הֹולִידֹ</mark>֥<mark>ו אֶת־</mark><mark>נָ</mark>ח<mark>ֹ֖ו</mark>ר מָא<mark>ת</mark>ַ֣יִם<mark> שָׁנָ֑ה וַיֹּ֥ולֶד בָּנִ֖ים וּבָנֹֽות׃ ס </mark> |\n",
       "| <a href=\"https://www.stepbible.org/?q=version=NASB2020%7Creference=Genesis.11:25&options=HNVUG\" target=\"_blank\">Genesis 11:25</a> | 75% | <mark>וַ</mark><mark>יְחִ</mark>֣<mark>י</mark> נָחֹ<mark>֗</mark>ו<mark>ר אַחֲרֵי֙ הֹולִידֹ֣ו אֶת־</mark>ת<mark>ֶּ֔</mark>רַח<mark> </mark>תְּ<mark>שׁ</mark>ַֽע־עֶשׂ<mark>ְ</mark>רֵ֥ה<mark> שָׁנָ</mark>֖<mark>ה ו</mark>ּמ<mark>ְאַ</mark>֣<mark>ת שָׁנָ֑ה וַיֹּ֥ולֶד בָּנִ֖ים וּבָנֹֽות׃ ס </mark> |\n"
      ],
      "text/plain": [
       "<IPython.core.display.Markdown object>"
      ]
     },
     "metadata": {},
     "output_type": "display_data"
    },
    {
     "data": {
      "text/markdown": [
       "#### Cross-references for <a href=\"https://www.stepbible.org/?q=version=NASB2020%7Creference=Genesis.11:18&options=HNVUG\" target=\"_blank\">Genesis 11:18</a>\n",
       " ##### וַֽיְחִי־פֶ֖לֶג שְׁלֹשִׁ֣ים שָׁנָ֑ה וַיֹּ֖ולֶד אֶת־רְעֽוּ׃ \n",
       "| Reference | Match | Text |\n",
       "| --- | --- | --- |\n",
       "| <a href=\"https://www.stepbible.org/?q=version=NASB2020%7Creference=Genesis.11:14&options=HNVUG\" target=\"_blank\">Genesis 11:14</a> | 76% | <mark>ו</mark>ְשֶׁ֥ל<mark>ַ</mark>ח חַ֖<mark>י</mark><mark> שְׁלֹשִׁ֣ים שָׁנָ֑ה וַיֹּ֖ולֶד אֶת־</mark>עֵֽבֶ<mark>ר</mark><mark>׃ </mark> |\n",
       "| <a href=\"https://www.stepbible.org/?q=version=NASB2020%7Creference=Genesis.11:20&options=HNVUG\" target=\"_blank\">Genesis 11:20</a> | 75% | <mark>וַ</mark><mark>יְחִ</mark>֣<mark>י</mark><mark> </mark>רְע֔וּ שְׁתַּ֥יִם וּ<mark>שְׁלֹשִׁ</mark>֖<mark>ים שָׁנָ֑ה וַיֹּ֖ולֶד אֶת־</mark>שְׂ<mark>ר</mark><mark>ֽוּ</mark>ג<mark>׃ </mark> |\n",
       "| <a href=\"https://www.stepbible.org/?q=version=NASB2020%7Creference=Genesis.11:22&options=HNVUG\" target=\"_blank\">Genesis 11:22</a> | 84% | <mark>וַ</mark><mark>יְחִ</mark>֥<mark>י</mark> שְׂר<mark>֖</mark>וּ<mark>ג שְׁלֹשִׁ֣ים שָׁנָ֑ה וַיֹּ֖ולֶד אֶת־</mark>נָחֹ<mark>ֽו</mark>ר<mark>׃ </mark> |\n"
      ],
      "text/plain": [
       "<IPython.core.display.Markdown object>"
      ]
     },
     "metadata": {},
     "output_type": "display_data"
    },
    {
     "data": {
      "text/markdown": [
       "#### Cross-references for <a href=\"https://www.stepbible.org/?q=version=NASB2020%7Creference=Genesis.11:19&options=HNVUG\" target=\"_blank\">Genesis 11:19</a>\n",
       " ##### וַֽיְחִי־פֶ֗לֶג אַחֲרֵי֙ הֹולִידֹ֣ו אֶת־רְע֔וּ תֵּ֥שַׁע שָׁנִ֖ים וּמָאתַ֣יִם שָׁנָ֑ה וַיֹּ֥ולֶד בָּנִ֖ים וּבָנֹֽות׃ ס \n",
       "| Reference | Match | Text |\n",
       "| --- | --- | --- |\n",
       "| <a href=\"https://www.stepbible.org/?q=version=NASB2020%7Creference=Genesis.5:4&options=HNVUG\" target=\"_blank\">Genesis 5:4</a> | 80% | <mark>וַ</mark>יִּ<mark>ֽ</mark>הְי֣וּ <mark>יְ</mark>מֵ<mark>י־</mark>אָדָ<mark>֗</mark>ם<mark> אַ</mark>ֽ<mark>חֲרֵי֙ הֹולִידֹ֣ו אֶת־</mark><mark>שׁ</mark>ֵ֔ת<mark> שׁ</mark>ְמֹ<mark>נ</mark>ֶ֥ה מֵאֹ<mark>֖</mark><mark>ת</mark><mark> שָׁנָ֑ה וַיֹּ֥ולֶד בָּנִ֖ים וּבָנֹֽות׃ </mark> |\n",
       "| <a href=\"https://www.stepbible.org/?q=version=NASB2020%7Creference=Genesis.5:7&options=HNVUG\" target=\"_blank\">Genesis 5:7</a> | 81% | <mark>וַֽיְחִי־</mark>שֵׁ<mark>֗</mark>ת<mark> אַ</mark>ֽ<mark>חֲרֵי֙ הֹולִידֹ֣ו אֶת־</mark>אֱנֹ<mark>֔ו</mark><mark>שׁ</mark> שֶׁ֣ב<mark>ַע שָׁנִ</mark>֔<mark>ים וּ</mark>שְׁ<mark>מ</mark>ֹנֶ֥ה מֵ<mark>א</mark>ֹ֖ו<mark>ת</mark><mark> שָׁנָ֑ה וַיֹּ֥ולֶד בָּנִ֖ים וּבָנֹֽות׃ </mark> |\n",
       "| <a href=\"https://www.stepbible.org/?q=version=NASB2020%7Creference=Genesis.5:10&options=HNVUG\" target=\"_blank\">Genesis 5:10</a> | 76% | <mark>וַֽיְחִ</mark>֣<mark>י</mark> אֱנֹ<mark>֗</mark>ושׁ<mark> אַ</mark>ֽ<mark>חֲרֵי֙ הֹולִידֹ֣ו אֶת־</mark>קֵינָ<mark>֔</mark>ן<mark> </mark>חֲמ<mark>ֵ</mark>֤<mark>שׁ</mark> <mark>ע</mark>ֶשְׂרֵה֙<mark> שָׁנ</mark>ָ֔ה<mark> וּ</mark>שְׁ<mark>מ</mark>ֹנֶ֥ה מֵ<mark>א</mark>ֹ֖ו<mark>ת</mark><mark> שָׁנָ֑ה וַיֹּ֥ולֶד בָּנִ֖ים וּבָנֹֽות׃ </mark> |\n",
       "| <a href=\"https://www.stepbible.org/?q=version=NASB2020%7Creference=Genesis.5:13&options=HNVUG\" target=\"_blank\">Genesis 5:13</a> | 80% | <mark>וַ</mark><mark>יְחִ</mark>֣<mark>י</mark> קֵינָ<mark>֗</mark>ן<mark> אַחֲרֵי֙ הֹולִידֹ֣ו אֶת־</mark>מַֽהֲלַלְאֵ֔ל אַ<mark>רְ</mark>בָּ<mark>ע</mark>ִ֣ים<mark> שָׁנ</mark>ָ֔ה<mark> וּ</mark>שְׁ<mark>מ</mark>ֹנֶ֥ה מֵ<mark>א</mark>ֹ֖ו<mark>ת</mark><mark> שָׁנָ֑ה וַיֹּ֥ולֶד בָּנִ֖ים וּבָנֹֽות׃ </mark> |\n",
       "| <a href=\"https://www.stepbible.org/?q=version=NASB2020%7Creference=Genesis.5:16&options=HNVUG\" target=\"_blank\">Genesis 5:16</a> | 81% | <mark>וַֽיְחִ</mark>֣<mark>י</mark> מַֽהֲלַלְאֵ<mark>֗ל</mark><mark> אַ</mark>ֽ<mark>חֲרֵי֙ הֹולִידֹ֣ו אֶת־</mark>יֶ֔<mark>ר</mark>ֶד<mark> </mark><mark>שׁ</mark>ְלֹשִׁ֣ים<mark> שָׁנ</mark>ָ֔ה<mark> וּ</mark>שְׁ<mark>מ</mark>ֹנֶ֥ה מֵ<mark>א</mark>ֹ֖ו<mark>ת</mark><mark> שָׁנָ֑ה וַיֹּ֥ולֶד בָּנִ֖ים וּבָנֹֽות׃ </mark> |\n",
       "| <a href=\"https://www.stepbible.org/?q=version=NASB2020%7Creference=Genesis.5:19&options=HNVUG\" target=\"_blank\">Genesis 5:19</a> | 81% | <mark>וַֽיְחִי־</mark>י<mark>ֶ֗</mark>ר<mark>ֶ</mark>ד<mark> אַ</mark>ֽ<mark>חֲרֵי֙ הֹולִידֹ֣ו אֶת־</mark>חֲנֹ<mark>֔ו</mark>ךְ<mark> שׁ</mark>ְמֹ<mark>נ</mark>ֶ֥ה מֵאֹ<mark>֖</mark><mark>ו</mark><mark>ת</mark><mark> שָׁנָ֑ה וַיֹּ֥ולֶד בָּנִ֖ים וּבָנֹֽות׃ </mark> |\n",
       "| <a href=\"https://www.stepbible.org/?q=version=NASB2020%7Creference=Genesis.5:30&options=HNVUG\" target=\"_blank\">Genesis 5:30</a> | 82% | <mark>וַֽיְחִי־</mark>ל<mark>ֶ֗</mark>מ<mark>ֶ</mark>ךְ<mark> אַ</mark>ֽ<mark>חֲרֵי֙ הֹולִידֹ֣ו אֶת־</mark>נֹ֔חַ חָמֵ֤שׁ וְתִשׁ<mark>ְע</mark>ִים֙<mark> שָׁנ</mark>ָ֔ה<mark> ו</mark>ַחֲ<mark>מ</mark>ֵ֥שׁ מֵ<mark>א</mark>ֹ֖<mark>ת</mark><mark> שָׁנָ֑ה וַיֹּ֥ולֶד בָּנִ֖ים וּבָנֹֽות׃ </mark> |\n",
       "| <a href=\"https://www.stepbible.org/?q=version=NASB2020%7Creference=Genesis.11:11&options=HNVUG\" target=\"_blank\">Genesis 11:11</a> | 80% | <mark>וַֽיְחִי־</mark>שֵׁ<mark>֗</mark>ם<mark> אַ</mark>ֽ<mark>חֲרֵי֙ הֹולִידֹ֣ו אֶת־</mark>אַ<mark>רְ</mark>פַּכְשָׁ<mark>֔</mark>ד<mark> </mark>חֲמ<mark>ֵ֥שׁ</mark><mark> </mark>מֵאֹ<mark>֖</mark><mark>ו</mark><mark>ת</mark><mark> שָׁנָ֑ה וַיֹּ֥ולֶד בָּנִ֖ים וּבָנֹֽות׃ ס </mark> |\n",
       "| <a href=\"https://www.stepbible.org/?q=version=NASB2020%7Creference=Genesis.11:13&options=HNVUG\" target=\"_blank\">Genesis 11:13</a> | 79% | <mark>וַֽיְחִ</mark>֣<mark>י</mark><mark> אַ</mark>רְפַּכְשַׁ֗ד אַֽ<mark>חֲרֵי֙ הֹולִידֹ֣ו אֶת־</mark><mark>שׁ</mark>ֶ֔ל<mark>ַ</mark>ח שָׁלֹ֣שׁ<mark> שָׁנִ</mark>֔<mark>ים ו</mark>ְאַרְב<mark>ּ</mark>ַ֥ע <mark>מ</mark>ֵ<mark>א</mark>ֹ֖ו<mark>ת</mark><mark> שָׁנָ֑ה וַיֹּ֥ולֶד בָּנִ֖ים וּבָנֹֽות׃ ס </mark> |\n",
       "| <a href=\"https://www.stepbible.org/?q=version=NASB2020%7Creference=Genesis.11:15&options=HNVUG\" target=\"_blank\">Genesis 11:15</a> | 83% | <mark>וַֽיְחִי־</mark>שׁ<mark>ֶ֗ל</mark>ַח<mark> אַחֲרֵי֙ הֹולִידֹ֣ו אֶת־</mark>עֵ֔בֶ<mark>ר</mark><mark> </mark><mark>שׁ</mark>ָלֹ֣שׁ<mark> שָׁנִ</mark>֔<mark>ים ו</mark>ְאַרְב<mark>ּ</mark>ַ֥ע <mark>מ</mark>ֵ<mark>א</mark>ֹ֖ו<mark>ת</mark><mark> שָׁנָ֑ה וַיֹּ֥ולֶד בָּנִ֖ים וּבָנֹֽות׃ ס </mark> |\n",
       "| <a href=\"https://www.stepbible.org/?q=version=NASB2020%7Creference=Genesis.11:17&options=HNVUG\" target=\"_blank\">Genesis 11:17</a> | 78% | <mark>וַֽיְחִי־</mark>עֵ֗ב<mark>ֶ</mark>ר<mark> אַחֲרֵי֙ הֹולִידֹ֣ו אֶת־</mark>פֶּ<mark>֔</mark>לֶג<mark> </mark><mark>שׁ</mark>ְלֹשִׁ֣ים<mark> שָׁנ</mark>ָ֔ה<mark> ו</mark>ְאַרְב<mark>ּ</mark>ַ֥ע <mark>מ</mark>ֵ<mark>א</mark>ֹ֖ו<mark>ת</mark><mark> שָׁנָ֑ה וַיֹּ֥ולֶד בָּנִ֖ים וּבָנֹֽות׃ ס </mark> |\n",
       "| <a href=\"https://www.stepbible.org/?q=version=NASB2020%7Creference=Genesis.11:21&options=HNVUG\" target=\"_blank\">Genesis 11:21</a> | 88% | <mark>וַ</mark><mark>יְחִ</mark>֣<mark>י</mark> רְע<mark>֗</mark>וּ<mark> אַחֲרֵי֙ הֹולִידֹ֣ו אֶת־</mark>שְׂ<mark>ר</mark><mark>֔וּ</mark>ג<mark> </mark><mark>שׁ</mark>ֶ֥ב<mark>ַע שָׁנִ֖ים וּמָאתַ֣יִם שָׁנָ֑ה וַיֹּ֥ולֶד בָּנִ֖ים וּבָנֹֽות׃ ס </mark> |\n",
       "| <a href=\"https://www.stepbible.org/?q=version=NASB2020%7Creference=Genesis.11:23&options=HNVUG\" target=\"_blank\">Genesis 11:23</a> | 80% | <mark>וַ</mark><mark>יְחִ</mark>֣<mark>י</mark> שְׂר<mark>֗</mark>וּ<mark>ג אַחֲרֵ</mark>֛<mark>י</mark><mark> הֹולִידֹ</mark>֥<mark>ו אֶת־</mark>נָחֹ֖ו<mark>ר</mark><mark> </mark><mark>מָאתַ֣יִם שָׁנָ֑ה וַיֹּ֥ולֶד בָּנִ֖ים וּבָנֹֽות׃ ס </mark> |\n",
       "| <a href=\"https://www.stepbible.org/?q=version=NASB2020%7Creference=Genesis.11:25&options=HNVUG\" target=\"_blank\">Genesis 11:25</a> | 84% | <mark>וַ</mark><mark>יְחִ</mark>֣<mark>י</mark> נָחֹ<mark>֗</mark>ור<mark> אַחֲרֵי֙ הֹולִידֹ֣ו אֶת־</mark>תֶּ֔<mark>ר</mark>ַח<mark> תּ</mark>ְ<mark>שַׁ</mark>ֽ<mark>ע</mark>־עֶשְׂרֵ֥ה<mark> שָׁנ</mark>ָ<mark>֖</mark>ה<mark> וּמ</mark>ְ<mark>א</mark><mark>ַ֣</mark>ת<mark> שָׁנָ֑ה וַיֹּ֥ולֶד בָּנִ֖ים וּבָנֹֽות׃ ס </mark> |\n"
      ],
      "text/plain": [
       "<IPython.core.display.Markdown object>"
      ]
     },
     "metadata": {},
     "output_type": "display_data"
    },
    {
     "data": {
      "text/markdown": [
       "#### Cross-references for <a href=\"https://www.stepbible.org/?q=version=NASB2020%7Creference=Genesis.11:20&options=HNVUG\" target=\"_blank\">Genesis 11:20</a>\n",
       " ##### וַיְחִ֣י רְע֔וּ שְׁתַּ֥יִם וּשְׁלֹשִׁ֖ים שָׁנָ֑ה וַיֹּ֖ולֶד אֶת־שְׂרֽוּג׃ \n",
       "| Reference | Match | Text |\n",
       "| --- | --- | --- |\n",
       "| <a href=\"https://www.stepbible.org/?q=version=NASB2020%7Creference=Genesis.11:16&options=HNVUG\" target=\"_blank\">Genesis 11:16</a> | 75% | <mark>וַ</mark>ֽ<mark>יְחִ</mark><mark>י</mark>־עֵ֕בֶר<mark> </mark>אַ<mark>רְ</mark>ב<mark>ַּ֥</mark>ע<mark> וּשְׁלֹשִׁ֖ים שָׁנָ֑ה וַיֹּ֖ולֶד אֶת־</mark>פָּ<mark>ֽ</mark>לֶ<mark>ג׃ </mark> |\n",
       "| <a href=\"https://www.stepbible.org/?q=version=NASB2020%7Creference=Genesis.11:18&options=HNVUG\" target=\"_blank\">Genesis 11:18</a> | 75% | <mark>וַ</mark>ֽ<mark>יְחִ</mark><mark>י</mark>־פֶ֖לֶג<mark> </mark><mark>שְׁלֹשִׁ</mark>֣<mark>ים שָׁנָ֑ה וַיֹּ֖ולֶד אֶת־</mark>ר<mark>ְ</mark>ע<mark>ֽוּ</mark><mark>׃ </mark> |\n",
       "| <a href=\"https://www.stepbible.org/?q=version=NASB2020%7Creference=Genesis.11:22&options=HNVUG\" target=\"_blank\">Genesis 11:22</a> | 78% | <mark>וַיְחִ</mark>֥<mark>י </mark>שְׂ<mark>ר</mark>֖<mark>וּ</mark>ג<mark> </mark><mark>שְׁלֹשִׁ</mark>֣<mark>ים שָׁנָ֑ה וַיֹּ֖ולֶד אֶת־</mark>נָחֹ<mark>ֽו</mark>ר<mark>׃ </mark> |\n"
      ],
      "text/plain": [
       "<IPython.core.display.Markdown object>"
      ]
     },
     "metadata": {},
     "output_type": "display_data"
    },
    {
     "data": {
      "text/markdown": [
       "#### Cross-references for <a href=\"https://www.stepbible.org/?q=version=NASB2020%7Creference=Genesis.11:21&options=HNVUG\" target=\"_blank\">Genesis 11:21</a>\n",
       " ##### וַיְחִ֣י רְע֗וּ אַחֲרֵי֙ הֹולִידֹ֣ו אֶת־שְׂר֔וּג שֶׁ֥בַע שָׁנִ֖ים וּמָאתַ֣יִם שָׁנָ֑ה וַיֹּ֥ולֶד בָּנִ֖ים וּבָנֹֽות׃ ס \n",
       "| Reference | Match | Text |\n",
       "| --- | --- | --- |\n",
       "| <a href=\"https://www.stepbible.org/?q=version=NASB2020%7Creference=Genesis.5:4&options=HNVUG\" target=\"_blank\">Genesis 5:4</a> | 80% | <mark>וַי</mark>ִּֽה<mark>ְ</mark>י<mark>֣</mark><mark>וּ </mark>יְמֵי־אָדָ֗ם <mark>אַ</mark>ֽ<mark>חֲרֵי֙ הֹולִידֹ֣ו אֶת־ש</mark>ֵׁ<mark>֔</mark>ת<mark> שׁ</mark>ְמֹנ<mark>ֶ֥</mark>ה<mark> </mark>מֵאֹ<mark>֖</mark><mark>ת</mark><mark> שָׁנָ֑ה וַיֹּ֥ולֶד בָּנִ֖ים וּבָנֹֽות׃ </mark> |\n",
       "| <a href=\"https://www.stepbible.org/?q=version=NASB2020%7Creference=Genesis.5:7&options=HNVUG\" target=\"_blank\">Genesis 5:7</a> | 84% | <mark>וַ</mark>ֽ<mark>יְחִ</mark><mark>י</mark>־שֵׁ<mark>֗</mark>ת<mark> אַ</mark>ֽ<mark>חֲרֵי֙ הֹולִידֹ֣ו אֶת־</mark>אֱנֹ<mark>֔ו</mark>שׁ<mark> שֶׁ</mark>֣<mark>בַע שָׁנִ</mark>֔<mark>ים וּ</mark>שְׁ<mark>מ</mark>ֹנֶ֥ה מֵ<mark>א</mark>ֹ֖ו<mark>ת</mark><mark> שָׁנָ֑ה וַיֹּ֥ולֶד בָּנִ֖ים וּבָנֹֽות׃ </mark> |\n",
       "| <a href=\"https://www.stepbible.org/?q=version=NASB2020%7Creference=Genesis.5:10&options=HNVUG\" target=\"_blank\">Genesis 5:10</a> | 78% | <mark>וַ</mark>ֽ<mark>יְחִ֣י </mark>אֱנֹ<mark>֗ו</mark>שׁ<mark> אַ</mark>ֽ<mark>חֲרֵי֙ הֹולִידֹ֣ו אֶת־</mark>קֵינָ֔ן חֲמֵ֤שׁ עֶ<mark>שְׂר</mark>ֵה֙<mark> שָׁנ</mark>ָ֔ה<mark> וּ</mark>שְׁ<mark>מ</mark>ֹנֶ֥ה מֵ<mark>א</mark>ֹ֖ו<mark>ת</mark><mark> שָׁנָ֑ה וַיֹּ֥ולֶד בָּנִ֖ים וּבָנֹֽות׃ </mark> |\n",
       "| <a href=\"https://www.stepbible.org/?q=version=NASB2020%7Creference=Genesis.5:13&options=HNVUG\" target=\"_blank\">Genesis 5:13</a> | 78% | <mark>וַיְחִ֣י </mark>קֵינָ<mark>֗</mark>ן<mark> אַחֲרֵי֙ הֹולִידֹ֣ו אֶת־</mark>מַֽהֲלַל<mark>ְ</mark>אֵ֔ל אַ<mark>ר</mark>ְב<mark>ּ</mark>ָ<mark>ע</mark>ִ֣ים<mark> שָׁנ</mark>ָ֔ה<mark> וּ</mark>שְׁ<mark>מ</mark>ֹנֶ֥ה מֵ<mark>א</mark>ֹ֖ו<mark>ת</mark><mark> שָׁנָ֑ה וַיֹּ֥ולֶד בָּנִ֖ים וּבָנֹֽות׃ </mark> |\n",
       "| <a href=\"https://www.stepbible.org/?q=version=NASB2020%7Creference=Genesis.5:16&options=HNVUG\" target=\"_blank\">Genesis 5:16</a> | 79% | <mark>וַ</mark>ֽ<mark>יְחִ֣י </mark>מַֽהֲלַל<mark>ְ</mark>אֵ<mark>֗</mark>ל<mark> אַ</mark>ֽ<mark>חֲרֵי֙ הֹולִידֹ֣ו אֶת־</mark>יֶ֔<mark>ר</mark>ֶד<mark> שׁ</mark>ְלֹשִׁ֣ים<mark> שָׁנ</mark>ָ֔ה<mark> וּ</mark>שְׁ<mark>מ</mark>ֹנֶ֥ה מֵ<mark>א</mark>ֹ֖ו<mark>ת</mark><mark> שָׁנָ֑ה וַיֹּ֥ולֶד בָּנִ֖ים וּבָנֹֽות׃ </mark> |\n",
       "| <a href=\"https://www.stepbible.org/?q=version=NASB2020%7Creference=Genesis.5:19&options=HNVUG\" target=\"_blank\">Genesis 5:19</a> | 84% | <mark>וַ</mark>ֽ<mark>יְחִ</mark><mark>י</mark>־יֶ֗<mark>ר</mark>ֶד<mark> אַ</mark>ֽ<mark>חֲרֵי֙ הֹולִידֹ֣ו אֶת־</mark>חֲנֹ<mark>֔ו</mark>ךְ<mark> שׁ</mark>ְמֹנ<mark>ֶ֥</mark>ה<mark> </mark>מֵאֹ<mark>֖</mark><mark>ו</mark><mark>ת</mark><mark> שָׁנָ֑ה וַיֹּ֥ולֶד בָּנִ֖ים וּבָנֹֽות׃ </mark> |\n",
       "| <a href=\"https://www.stepbible.org/?q=version=NASB2020%7Creference=Genesis.5:30&options=HNVUG\" target=\"_blank\">Genesis 5:30</a> | 78% | <mark>וַ</mark>ֽ<mark>יְחִ</mark><mark>י</mark>־לֶ֗מֶך<mark>ְ</mark><mark> אַ</mark>ֽ<mark>חֲרֵי֙ הֹולִידֹ֣ו אֶת־</mark>נֹ<mark>֔</mark>חַ<mark> </mark>חָמֵ֤<mark>שׁ</mark> וְתִשְׁ<mark>ע</mark>ִים֙<mark> שָׁנ</mark>ָ֔ה<mark> ו</mark>ַחֲ<mark>מ</mark>ֵ֥שׁ מֵ<mark>א</mark>ֹ֖<mark>ת</mark><mark> שָׁנָ֑ה וַיֹּ֥ולֶד בָּנִ֖ים וּבָנֹֽות׃ </mark> |\n",
       "| <a href=\"https://www.stepbible.org/?q=version=NASB2020%7Creference=Genesis.11:11&options=HNVUG\" target=\"_blank\">Genesis 11:11</a> | 80% | <mark>וַ</mark>ֽ<mark>יְחִ</mark><mark>י</mark>־שֵׁ<mark>֗</mark>ם<mark> אַ</mark>ֽ<mark>חֲרֵי֙ הֹולִידֹ֣ו אֶת־</mark>אַר<mark>ְ</mark>פ<mark>ּ</mark><mark>ַ</mark>כְ<mark>שָׁ</mark>֔ד חֲמֵ֥שׁ מֵאֹ<mark>֖</mark><mark>ו</mark><mark>ת</mark><mark> שָׁנָ֑ה וַיֹּ֥ולֶד בָּנִ֖ים וּבָנֹֽות׃ ס </mark> |\n",
       "| <a href=\"https://www.stepbible.org/?q=version=NASB2020%7Creference=Genesis.11:13&options=HNVUG\" target=\"_blank\">Genesis 11:13</a> | 79% | <mark>וַ</mark>ֽ<mark>יְחִ֣י </mark>אַ<mark>רְ</mark>פַּכְשַׁ<mark>֗</mark>ד<mark> אַ</mark>ֽ<mark>חֲרֵי֙ הֹולִידֹ֣ו אֶת־ש</mark>ֶׁ<mark>֔</mark>לַח<mark> שׁ</mark>ָלֹ֣שׁ<mark> שָׁנִ</mark>֔<mark>ים ו</mark>ְאַרְב<mark>ּ</mark>ַ֥ע <mark>מ</mark>ֵ<mark>א</mark>ֹ֖ו<mark>ת</mark><mark> שָׁנָ֑ה וַיֹּ֥ולֶד בָּנִ֖ים וּבָנֹֽות׃ ס </mark> |\n",
       "| <a href=\"https://www.stepbible.org/?q=version=NASB2020%7Creference=Genesis.11:15&options=HNVUG\" target=\"_blank\">Genesis 11:15</a> | 80% | <mark>וַ</mark>ֽ<mark>יְחִ</mark><mark>י</mark>־שֶׁ<mark>֗</mark>לַח<mark> אַחֲרֵי֙ הֹולִידֹ֣ו אֶת־</mark>עֵ֔בֶ<mark>ר</mark><mark> שׁ</mark>ָלֹ֣שׁ<mark> שָׁנִ</mark>֔<mark>ים ו</mark>ְאַרְב<mark>ּ</mark>ַ֥ע <mark>מ</mark>ֵ<mark>א</mark>ֹ֖ו<mark>ת</mark><mark> שָׁנָ֑ה וַיֹּ֥ולֶד בָּנִ֖ים וּבָנֹֽות׃ ס </mark> |\n",
       "| <a href=\"https://www.stepbible.org/?q=version=NASB2020%7Creference=Genesis.11:17&options=HNVUG\" target=\"_blank\">Genesis 11:17</a> | 83% | <mark>וַ</mark>ֽ<mark>יְחִ</mark><mark>י</mark>־עֵ֗בֶ<mark>ר</mark><mark> אַחֲרֵי֙ הֹולִידֹ֣ו אֶת־</mark>פֶּ<mark>֔</mark>לֶ<mark>ג שׁ</mark>ְלֹשִׁ֣ים<mark> שָׁנ</mark>ָ֔ה<mark> ו</mark>ְאַרְב<mark>ּ</mark>ַ֥ע <mark>מ</mark>ֵ<mark>א</mark>ֹ֖ו<mark>ת</mark><mark> שָׁנָ֑ה וַיֹּ֥ולֶד בָּנִ֖ים וּבָנֹֽות׃ ס </mark> |\n",
       "| <a href=\"https://www.stepbible.org/?q=version=NASB2020%7Creference=Genesis.11:19&options=HNVUG\" target=\"_blank\">Genesis 11:19</a> | 88% | <mark>וַ</mark>ֽ<mark>יְחִ</mark><mark>י</mark>־פֶ<mark>֗</mark>לֶג<mark> אַחֲרֵי֙ הֹולִידֹ֣ו אֶת־</mark>ר<mark>ְ</mark>ע<mark>֔וּ</mark><mark> </mark>תֵּ֥<mark>שׁ</mark><mark>ַע שָׁנִ֖ים וּמָאתַ֣יִם שָׁנָ֑ה וַיֹּ֥ולֶד בָּנִ֖ים וּבָנֹֽות׃ ס </mark> |\n",
       "| <a href=\"https://www.stepbible.org/?q=version=NASB2020%7Creference=Genesis.11:23&options=HNVUG\" target=\"_blank\">Genesis 11:23</a> | 78% | <mark>וַיְחִ֣י </mark>שְׂ<mark>ר</mark><mark>֗וּ</mark>ג<mark> אַחֲרֵ</mark>֛<mark>י</mark><mark> הֹולִידֹ</mark>֥<mark>ו אֶת־</mark>נָחֹ֖ו<mark>ר</mark><mark> </mark><mark>מָאתַ֣יִם שָׁנָ֑ה וַיֹּ֥ולֶד בָּנִ֖ים וּבָנֹֽות׃ ס </mark> |\n",
       "| <a href=\"https://www.stepbible.org/?q=version=NASB2020%7Creference=Genesis.11:25&options=HNVUG\" target=\"_blank\">Genesis 11:25</a> | 84% | <mark>וַיְחִ֣י </mark>נָחֹ<mark>֗ו</mark>ר<mark> אַחֲרֵי֙ הֹולִידֹ֣ו אֶת־</mark>תֶּ֔רַח תְּשַֽׁע־עֶ<mark>שְׂר</mark>ֵ<mark>֥</mark>ה<mark> שָׁנ</mark>ָ<mark>֖</mark>ה<mark> וּמ</mark>ְ<mark>א</mark><mark>ַ֣</mark>ת<mark> שָׁנָ֑ה וַיֹּ֥ולֶד בָּנִ֖ים וּבָנֹֽות׃ ס </mark> |\n"
      ],
      "text/plain": [
       "<IPython.core.display.Markdown object>"
      ]
     },
     "metadata": {},
     "output_type": "display_data"
    },
    {
     "data": {
      "text/markdown": [
       "#### Cross-references for <a href=\"https://www.stepbible.org/?q=version=NASB2020%7Creference=Genesis.11:22&options=HNVUG\" target=\"_blank\">Genesis 11:22</a>\n",
       " ##### וַיְחִ֥י שְׂר֖וּג שְׁלֹשִׁ֣ים שָׁנָ֑ה וַיֹּ֖ולֶד אֶת־נָחֹֽור׃ \n",
       "| Reference | Match | Text |\n",
       "| --- | --- | --- |\n",
       "| <a href=\"https://www.stepbible.org/?q=version=NASB2020%7Creference=Genesis.11:18&options=HNVUG\" target=\"_blank\">Genesis 11:18</a> | 84% | <mark>וַ</mark>ֽ<mark>יְחִ</mark><mark>י</mark>־פֶ<mark>֖</mark>לֶ<mark>ג שְׁלֹשִׁ֣ים שָׁנָ֑ה וַיֹּ֖ולֶד אֶת־</mark>רְע<mark>ֽו</mark>ּ<mark>׃ </mark> |\n",
       "| <a href=\"https://www.stepbible.org/?q=version=NASB2020%7Creference=Genesis.11:20&options=HNVUG\" target=\"_blank\">Genesis 11:20</a> | 78% | <mark>וַיְחִ</mark>֣י רְע֔וּ שְׁתַּ<mark>֥י</mark>ִם<mark> </mark><mark>וּ</mark><mark>שְׁלֹשִׁ</mark>֖<mark>ים שָׁנָ֑ה וַיֹּ֖ולֶד אֶת־</mark>שְׂר<mark>ֽו</mark>ּג<mark>׃ </mark> |\n"
      ],
      "text/plain": [
       "<IPython.core.display.Markdown object>"
      ]
     },
     "metadata": {},
     "output_type": "display_data"
    },
    {
     "data": {
      "text/markdown": [
       "#### Cross-references for <a href=\"https://www.stepbible.org/?q=version=NASB2020%7Creference=Genesis.11:23&options=HNVUG\" target=\"_blank\">Genesis 11:23</a>\n",
       " ##### וַיְחִ֣י שְׂר֗וּג אַחֲרֵ֛י הֹולִידֹ֥ו אֶת־נָחֹ֖ור מָאתַ֣יִם שָׁנָ֑ה וַיֹּ֥ולֶד בָּנִ֖ים וּבָנֹֽות׃ ס \n",
       "| Reference | Match | Text |\n",
       "| --- | --- | --- |\n",
       "| <a href=\"https://www.stepbible.org/?q=version=NASB2020%7Creference=Genesis.5:4&options=HNVUG\" target=\"_blank\">Genesis 5:4</a> | 77% | <mark>וַי</mark>ִּֽה<mark>ְ</mark>י<mark>֣</mark><mark>וּ</mark> יְמֵי־אָדָ֗ם<mark> אַ</mark>ֽ<mark>חֲרֵ</mark><mark>י</mark>֙<mark> הֹולִידֹ</mark>֣<mark>ו אֶת־</mark>שֵׁ֔ת שְׁמֹ<mark>נ</mark>ֶ֥ה מֵא<mark>ֹ֖</mark><mark>ת</mark><mark> שָׁנָ֑ה וַיֹּ֥ולֶד בָּנִ֖ים וּבָנֹֽות׃ </mark> |\n",
       "| <a href=\"https://www.stepbible.org/?q=version=NASB2020%7Creference=Genesis.5:19&options=HNVUG\" target=\"_blank\">Genesis 5:19</a> | 83% | <mark>וַ</mark>ֽ<mark>יְחִ</mark><mark>י</mark>־יֶ֗<mark>ר</mark>ֶד<mark> אַ</mark>ֽ<mark>חֲרֵ</mark><mark>י</mark>֙<mark> הֹולִידֹ</mark>֣<mark>ו אֶת־</mark>חֲ<mark>נ</mark>ֹ֔וךְ שְׁמֹנֶ֥ה מֵא<mark>ֹ֖ו</mark><mark>ת</mark><mark> שָׁנָ֑ה וַיֹּ֥ולֶד בָּנִ֖ים וּבָנֹֽות׃ </mark> |\n",
       "| <a href=\"https://www.stepbible.org/?q=version=NASB2020%7Creference=Genesis.11:11&options=HNVUG\" target=\"_blank\">Genesis 11:11</a> | 79% | <mark>וַ</mark>ֽ<mark>יְחִ</mark><mark>י</mark>־<mark>ש</mark>ֵׁ<mark>֗</mark>ם<mark> אַ</mark>ֽ<mark>חֲרֵ</mark><mark>י</mark>֙<mark> הֹולִידֹ</mark>֣<mark>ו אֶת־</mark>אַרְפַּכְשׁ<mark>ָ</mark>֔ד <mark>ח</mark>ֲמֵ֥שׁ מֵא<mark>ֹ֖ו</mark><mark>ת</mark><mark> שָׁנָ֑ה וַיֹּ֥ולֶד בָּנִ֖ים וּבָנֹֽות׃ ס </mark> |\n",
       "| <a href=\"https://www.stepbible.org/?q=version=NASB2020%7Creference=Genesis.11:13&options=HNVUG\" target=\"_blank\">Genesis 11:13</a> | 76% | <mark>וַ</mark>ֽ<mark>יְחִ֣י </mark>אַרְפַּכְ<mark>ש</mark>ַׁ<mark>֗</mark>ד<mark> אַ</mark>ֽ<mark>חֲרֵ</mark><mark>י</mark>֙<mark> הֹולִידֹ</mark>֣<mark>ו אֶת־</mark>שֶׁ֔לַח שָׁלֹ֣שׁ שָׁ<mark>נ</mark>ִ֔ים וְאַרְבַּ֥ע מֵא<mark>ֹ֖ו</mark><mark>ת</mark><mark> שָׁנָ֑ה וַיֹּ֥ולֶד בָּנִ֖ים וּבָנֹֽות׃ ס </mark> |\n",
       "| <a href=\"https://www.stepbible.org/?q=version=NASB2020%7Creference=Genesis.11:15&options=HNVUG\" target=\"_blank\">Genesis 11:15</a> | 75% | <mark>וַ</mark>ֽ<mark>יְחִ</mark><mark>י</mark>־<mark>ש</mark>ֶׁ<mark>֗</mark>לַח<mark> אַחֲרֵ</mark><mark>י</mark>֙<mark> הֹולִידֹ</mark>֣<mark>ו אֶת־</mark>עֵ֔בֶר שָׁלֹ֣שׁ שָׁ<mark>נ</mark>ִ֔ים וְאַרְבַּ֥ע מֵא<mark>ֹ֖ו</mark><mark>ת</mark><mark> שָׁנָ֑ה וַיֹּ֥ולֶד בָּנִ֖ים וּבָנֹֽות׃ ס </mark> |\n",
       "| <a href=\"https://www.stepbible.org/?q=version=NASB2020%7Creference=Genesis.11:17&options=HNVUG\" target=\"_blank\">Genesis 11:17</a> | 78% | <mark>וַ</mark>ֽ<mark>יְחִ</mark><mark>י</mark>־עֵ֗בֶ<mark>ר</mark><mark> אַחֲרֵ</mark><mark>י</mark>֙<mark> הֹולִידֹ</mark>֣<mark>ו אֶת־</mark>פֶּ֔לֶג שְׁלֹשִׁ֣ים שָׁ<mark>נָ</mark>֔ה וְאַרְבַּ֥ע מֵא<mark>ֹ֖ו</mark><mark>ת</mark><mark> שָׁנָ֑ה וַיֹּ֥ולֶד בָּנִ֖ים וּבָנֹֽות׃ ס </mark> |\n",
       "| <a href=\"https://www.stepbible.org/?q=version=NASB2020%7Creference=Genesis.11:19&options=HNVUG\" target=\"_blank\">Genesis 11:19</a> | 80% | <mark>וַ</mark>ֽ<mark>יְחִ</mark><mark>י</mark>־פֶ<mark>֗</mark>לֶ<mark>ג אַחֲרֵ</mark><mark>י</mark>֙<mark> הֹולִידֹ</mark>֣<mark>ו אֶת־</mark>רְע֔וּ תֵּ֥שַׁע שָׁ<mark>נ</mark>ִ<mark>֖</mark>ים <mark>ו</mark>ּ<mark>מָאתַ֣יִם שָׁנָ֑ה וַיֹּ֥ולֶד בָּנִ֖ים וּבָנֹֽות׃ ס </mark> |\n",
       "| <a href=\"https://www.stepbible.org/?q=version=NASB2020%7Creference=Genesis.11:21&options=HNVUG\" target=\"_blank\">Genesis 11:21</a> | 78% | <mark>וַיְחִ֣י </mark>ר<mark>ְ</mark>ע<mark>֗וּ</mark><mark> אַחֲרֵ</mark><mark>י</mark>֙<mark> הֹולִידֹ</mark>֣<mark>ו אֶת־</mark>שְׂר֔וּג שֶׁ֥בַע שָׁ<mark>נ</mark>ִ<mark>֖</mark>ים <mark>ו</mark>ּ<mark>מָאתַ֣יִם שָׁנָ֑ה וַיֹּ֥ולֶד בָּנִ֖ים וּבָנֹֽות׃ ס </mark> |\n",
       "| <a href=\"https://www.stepbible.org/?q=version=NASB2020%7Creference=Genesis.11:25&options=HNVUG\" target=\"_blank\">Genesis 11:25</a> | 77% | <mark>וַיְחִ֣י </mark>נָחֹ<mark>֗ו</mark>ר<mark> אַחֲרֵ</mark><mark>י</mark>֙<mark> הֹולִידֹ</mark>֣<mark>ו אֶת־</mark>תֶּ֔רַח תְּשַֽׁע־עֶשְׂרֵ֥ה שָׁ<mark>נָ</mark><mark>֖</mark>ה <mark>ו</mark>ּ<mark>מ</mark>ְ<mark>א</mark><mark>ַ֣</mark>ת<mark> שָׁנָ֑ה וַיֹּ֥ולֶד בָּנִ֖ים וּבָנֹֽות׃ ס </mark> |\n"
      ],
      "text/plain": [
       "<IPython.core.display.Markdown object>"
      ]
     },
     "metadata": {},
     "output_type": "display_data"
    },
    {
     "data": {
      "text/markdown": [],
      "text/plain": [
       "<IPython.core.display.Markdown object>"
      ]
     },
     "metadata": {},
     "output_type": "display_data"
    },
    {
     "data": {
      "text/markdown": [
       "#### Cross-references for <a href=\"https://www.stepbible.org/?q=version=NASB2020%7Creference=Genesis.11:25&options=HNVUG\" target=\"_blank\">Genesis 11:25</a>\n",
       " ##### וַיְחִ֣י נָחֹ֗ור אַחֲרֵי֙ הֹולִידֹ֣ו אֶת־תֶּ֔רַח תְּשַֽׁע־עֶשְׂרֵ֥ה שָׁנָ֖ה וּמְאַ֣ת שָׁנָ֑ה וַיֹּ֥ולֶד בָּנִ֖ים וּבָנֹֽות׃ ס \n",
       "| Reference | Match | Text |\n",
       "| --- | --- | --- |\n",
       "| <a href=\"https://www.stepbible.org/?q=version=NASB2020%7Creference=Genesis.5:7&options=HNVUG\" target=\"_blank\">Genesis 5:7</a> | 80% | <mark>וַ</mark>ֽ<mark>יְחִ</mark><mark>י</mark>־שֵׁ<mark>֗</mark>ת<mark> אַ</mark>ֽ<mark>חֲרֵי֙ הֹולִידֹ֣ו אֶת־</mark>אֱנֹ<mark>֔</mark>ו<mark>שׁ</mark> שֶׁ֣ב<mark>ַ</mark><mark>ע</mark><mark> שָׁנ</mark>ִ֔ים<mark> וּ</mark>שְׁ<mark>מ</mark>ֹנֶ֥ה מֵ<mark>א</mark>ֹ֖ו<mark>ת שָׁנָ֑ה וַיֹּ֥ולֶד בָּנִ֖ים וּבָנֹֽות׃ </mark> |\n",
       "| <a href=\"https://www.stepbible.org/?q=version=NASB2020%7Creference=Genesis.5:10&options=HNVUG\" target=\"_blank\">Genesis 5:10</a> | 82% | <mark>וַ</mark>ֽ<mark>יְחִ֣י </mark>אֱ<mark>נ</mark><mark>ֹ֗ו</mark>שׁ<mark> אַ</mark>ֽ<mark>חֲרֵי֙ הֹולִידֹ֣ו אֶת־</mark>קֵינָ<mark>֔</mark>ן <mark>ח</mark>ֲמֵ֤<mark>שׁ</mark> <mark>עֶשְׂרֵ</mark><mark>ה</mark>֙<mark> שָׁנָ</mark>֔<mark>ה וּ</mark>שְׁ<mark>מ</mark>ֹנֶ֥ה מֵ<mark>א</mark>ֹ֖ו<mark>ת שָׁנָ֑ה וַיֹּ֥ולֶד בָּנִ֖ים וּבָנֹֽות׃ </mark> |\n",
       "| <a href=\"https://www.stepbible.org/?q=version=NASB2020%7Creference=Genesis.5:13&options=HNVUG\" target=\"_blank\">Genesis 5:13</a> | 77% | <mark>וַיְחִ֣י </mark>קֵי<mark>נָ</mark><mark>֗</mark>ן<mark> אַחֲרֵי֙ הֹולִידֹ֣ו אֶת־</mark>מ<mark>ַֽ</mark>הֲלַלְאֵ֔ל אַרְבָּ<mark>ע</mark>ִ֣ים<mark> שָׁנָ</mark>֔<mark>ה וּ</mark>שְׁ<mark>מ</mark>ֹנֶ֥ה מֵ<mark>א</mark>ֹ֖ו<mark>ת שָׁנָ֑ה וַיֹּ֥ולֶד בָּנִ֖ים וּבָנֹֽות׃ </mark> |\n",
       "| <a href=\"https://www.stepbible.org/?q=version=NASB2020%7Creference=Genesis.5:16&options=HNVUG\" target=\"_blank\">Genesis 5:16</a> | 78% | <mark>וַ</mark>ֽ<mark>יְחִ֣י </mark>מַֽהֲלַלְאֵ<mark>֗</mark>ל<mark> אַ</mark>ֽ<mark>חֲרֵי֙ הֹולִידֹ֣ו אֶת־</mark>י<mark>ֶ֔ר</mark>ֶד<mark> </mark><mark>שׁ</mark>ְלֹ<mark>ש</mark>ִׁ֣ים<mark> שָׁנָ</mark>֔<mark>ה וּ</mark>שְׁ<mark>מ</mark>ֹנֶ֥ה מֵ<mark>א</mark>ֹ֖ו<mark>ת שָׁנָ֑ה וַיֹּ֥ולֶד בָּנִ֖ים וּבָנֹֽות׃ </mark> |\n",
       "| <a href=\"https://www.stepbible.org/?q=version=NASB2020%7Creference=Genesis.5:19&options=HNVUG\" target=\"_blank\">Genesis 5:19</a> | 80% | <mark>וַ</mark>ֽ<mark>יְחִ</mark><mark>י</mark>־יֶ<mark>֗</mark><mark>ר</mark>ֶד<mark> אַ</mark>ֽ<mark>חֲרֵי֙ הֹולִידֹ֣ו אֶת־</mark>חֲנֹ<mark>֔</mark>וךְ<mark> </mark><mark>שׁ</mark>ְמֹנ<mark>ֶ</mark><mark>֥ה </mark>מֵאֹ<mark>֖</mark><mark>ו</mark><mark>ת שָׁנָ֑ה וַיֹּ֥ולֶד בָּנִ֖ים וּבָנֹֽות׃ </mark> |\n",
       "| <a href=\"https://www.stepbible.org/?q=version=NASB2020%7Creference=Genesis.5:30&options=HNVUG\" target=\"_blank\">Genesis 5:30</a> | 77% | <mark>וַ</mark>ֽ<mark>יְחִ</mark><mark>י</mark>־לֶ<mark>֗</mark>מֶךְ<mark> אַ</mark>ֽ<mark>חֲרֵי֙ הֹולִידֹ֣ו אֶת־</mark>נֹ<mark>֔</mark>ח<mark>ַ</mark> <mark>ח</mark>ָמֵ֤<mark>שׁ</mark> וְתִשְׁ<mark>ע</mark>ִים֙<mark> שָׁנָ</mark>֔<mark>ה ו</mark>ַחֲ<mark>מ</mark>ֵ֥שׁ מֵ<mark>א</mark>ֹ֖<mark>ת שָׁנָ֑ה וַיֹּ֥ולֶד בָּנִ֖ים וּבָנֹֽות׃ </mark> |\n",
       "| <a href=\"https://www.stepbible.org/?q=version=NASB2020%7Creference=Genesis.11:13&options=HNVUG\" target=\"_blank\">Genesis 11:13</a> | 76% | <mark>וַ</mark>ֽ<mark>יְחִ֣י </mark>אַרְפַּכְשַׁ<mark>֗</mark>ד<mark> אַ</mark>ֽ<mark>חֲרֵי֙ הֹולִידֹ֣ו אֶת־</mark>שׁ<mark>ֶ֔</mark>ל<mark>ַח </mark><mark>שׁ</mark>ָלֹ֣<mark>ש</mark>ׁ<mark> שָׁנ</mark>ִ֔ים<mark> ו</mark><mark>ְאַ</mark>רְבַּ֥ע מֵאֹ֖ו<mark>ת שָׁנָ֑ה וַיֹּ֥ולֶד בָּנִ֖ים וּבָנֹֽות׃ ס </mark> |\n",
       "| <a href=\"https://www.stepbible.org/?q=version=NASB2020%7Creference=Genesis.11:15&options=HNVUG\" target=\"_blank\">Genesis 11:15</a> | 77% | <mark>וַ</mark>ֽ<mark>יְחִ</mark><mark>י</mark>־שֶׁ֗לַ<mark>ח</mark><mark> אַחֲרֵי֙ הֹולִידֹ֣ו אֶת־</mark>עֵ֔ב<mark>ֶ</mark><mark>ר</mark><mark> </mark><mark>שׁ</mark>ָלֹ֣<mark>ש</mark>ׁ<mark> שָׁנ</mark>ִ֔ים<mark> ו</mark><mark>ְאַ</mark>רְבַּ֥ע מֵאֹ֖ו<mark>ת שָׁנָ֑ה וַיֹּ֥ולֶד בָּנִ֖ים וּבָנֹֽות׃ ס </mark> |\n",
       "| <a href=\"https://www.stepbible.org/?q=version=NASB2020%7Creference=Genesis.11:17&options=HNVUG\" target=\"_blank\">Genesis 11:17</a> | 75% | <mark>וַ</mark>ֽ<mark>יְחִ</mark><mark>י</mark>־עֵ<mark>֗</mark>בֶ<mark>ר אַחֲרֵי֙ הֹולִידֹ֣ו אֶת־</mark>פ<mark>ֶּ֔</mark>לֶג<mark> </mark><mark>שׁ</mark>ְלֹ<mark>ש</mark>ִׁ֣ים<mark> שָׁנָ</mark>֔<mark>ה ו</mark><mark>ְאַ</mark>רְבַּ֥ע מֵאֹ֖ו<mark>ת שָׁנָ֑ה וַיֹּ֥ולֶד בָּנִ֖ים וּבָנֹֽות׃ ס </mark> |\n",
       "| <a href=\"https://www.stepbible.org/?q=version=NASB2020%7Creference=Genesis.11:19&options=HNVUG\" target=\"_blank\">Genesis 11:19</a> | 84% | <mark>וַ</mark>ֽ<mark>יְחִ</mark><mark>י</mark>־פֶ<mark>֗</mark>לֶג<mark> אַחֲרֵי֙ הֹולִידֹ֣ו אֶת־</mark>רְע֔ו<mark>ּ</mark><mark> תּ</mark>ֵ֥<mark>שַׁ</mark><mark>ע</mark><mark> שָׁנ</mark>ִ<mark>֖</mark>ים<mark> וּמ</mark>ָ<mark>א</mark>ת<mark>ַ֣</mark>יִם<mark> שָׁנָ֑ה וַיֹּ֥ולֶד בָּנִ֖ים וּבָנֹֽות׃ ס </mark> |\n",
       "| <a href=\"https://www.stepbible.org/?q=version=NASB2020%7Creference=Genesis.11:21&options=HNVUG\" target=\"_blank\">Genesis 11:21</a> | 84% | <mark>וַיְחִ֣י </mark>רְע<mark>֗ו</mark>ּ<mark> אַחֲרֵי֙ הֹולִידֹ֣ו אֶת־</mark><mark>שְׂר</mark>֔וּג שֶׁ<mark>֥</mark>בַע<mark> שָׁנ</mark>ִ<mark>֖</mark>ים<mark> וּמ</mark>ָ<mark>א</mark>ת<mark>ַ֣</mark>יִם<mark> שָׁנָ֑ה וַיֹּ֥ולֶד בָּנִ֖ים וּבָנֹֽות׃ ס </mark> |\n",
       "| <a href=\"https://www.stepbible.org/?q=version=NASB2020%7Creference=Genesis.11:23&options=HNVUG\" target=\"_blank\">Genesis 11:23</a> | 77% | <mark>וַיְחִ֣י </mark>שְׂר<mark>֗ו</mark>ּג<mark> אַחֲרֵ</mark>֛<mark>י</mark><mark> הֹולִידֹ</mark>֥<mark>ו אֶת־</mark><mark>נָ</mark>חֹ<mark>֖</mark>ור<mark> </mark><mark>מ</mark>ָ<mark>א</mark>ת<mark>ַ֣</mark>יִם<mark> שָׁנָ֑ה וַיֹּ֥ולֶד בָּנִ֖ים וּבָנֹֽות׃ ס </mark> |\n"
      ],
      "text/plain": [
       "<IPython.core.display.Markdown object>"
      ]
     },
     "metadata": {},
     "output_type": "display_data"
    },
    {
     "data": {
      "text/markdown": [],
      "text/plain": [
       "<IPython.core.display.Markdown object>"
      ]
     },
     "metadata": {},
     "output_type": "display_data"
    },
    {
     "data": {
      "text/markdown": [],
      "text/plain": [
       "<IPython.core.display.Markdown object>"
      ]
     },
     "metadata": {},
     "output_type": "display_data"
    },
    {
     "data": {
      "text/markdown": [],
      "text/plain": [
       "<IPython.core.display.Markdown object>"
      ]
     },
     "metadata": {},
     "output_type": "display_data"
    },
    {
     "data": {
      "text/markdown": [],
      "text/plain": [
       "<IPython.core.display.Markdown object>"
      ]
     },
     "metadata": {},
     "output_type": "display_data"
    },
    {
     "data": {
      "text/markdown": [],
      "text/plain": [
       "<IPython.core.display.Markdown object>"
      ]
     },
     "metadata": {},
     "output_type": "display_data"
    },
    {
     "data": {
      "text/markdown": [],
      "text/plain": [
       "<IPython.core.display.Markdown object>"
      ]
     },
     "metadata": {},
     "output_type": "display_data"
    },
    {
     "data": {
      "text/markdown": [],
      "text/plain": [
       "<IPython.core.display.Markdown object>"
      ]
     },
     "metadata": {},
     "output_type": "display_data"
    }
   ],
   "source": [
    "from difflib import SequenceMatcher\n",
    "\n",
    "# Function to find and highlight matching parts between two strings\n",
    "def highlightMatches(baseText, comparisonText):\n",
    "    matcher = SequenceMatcher(None, baseText, comparisonText)\n",
    "    highlightedComparisonText = \"\"\n",
    "    \n",
    "    for tag, i1, i2, j1, j2 in matcher.get_opcodes():\n",
    "        if tag == \"equal\":  # Identical parts\n",
    "            highlightedComparisonText += f\"<mark>{comparisonText[j1:j2]}</mark>\"\n",
    "        else:  # Non-matching parts\n",
    "            highlightedComparisonText += comparisonText[j1:j2]\n",
    "    \n",
    "    return highlightedComparisonText\n",
    "\n",
    "# Function to process cross-references and format them into a Markdown table\n",
    "def generateCrossReferencesTable(verseNode):\n",
    "    \"\"\"\n",
    "    Generates a Markdown table with cross-references for a single verse node, highlighting identical parts.\n",
    "    \n",
    "    Parameters:\n",
    "    - verseNode: the node ID of the verse to retrieve cross-references for.\n",
    "    \"\"\"\n",
    "    # Get cross-references for the specified verseNode\n",
    "    crossRefs = Es(\"crossref\").f(verseNode)\n",
    "    tableContent = \"\"\n",
    "    \n",
    "    # Check if there are any cross-references for this verse\n",
    "    if crossRefs:\n",
    "        verseSection = T.sectionFromNode(verseNode)\n",
    "        mainVerseText = T.text(verseNode)\n",
    "        linkStepBible = (\n",
    "            f\"<a href=\\\"https://www.stepbible.org/?q=version=NASB2020%7Creference={verseSection[0]}.{verseSection[1]}:{verseSection[2]}&options=HNVUG\\\" target=\\\"_blank\\\">\"\n",
    "            f\"{verseSection[0]} {verseSection[1]}:{verseSection[2]}</a>\"\n",
    "        ) \n",
    "        tableContent += f\"#### Cross-references for {linkStepBible}\\n ##### {mainVerseText}\"\n",
    "        # Create table header\n",
    "        tableContent += f\"\\n| Reference | Match | Text |\\n| --- | --- | --- |\\n\"\n",
    "        \n",
    "        # Process each cross-reference and add a row to the table\n",
    "        for target, confidence in crossRefs:\n",
    "            targetSection = T.sectionFromNode(target)\n",
    "            targetText = T.text(target)\n",
    "            \n",
    "            targetStepBible = (\n",
    "                f\"<a href=\\\"https://www.stepbible.org/?q=version=NASB2020%7Creference={targetSection[0]}.{targetSection[1]}:{targetSection[2]}&options=HNVUG\\\" target=\\\"_blank\\\">\"\n",
    "                f\"{targetSection[0]} {targetSection[1]}:{targetSection[2]}</a>\"\n",
    "            )     \n",
    "            # Highlight identical parts in target verse\n",
    "            highlightedText = highlightMatches(mainVerseText, targetText)\n",
    "            \n",
    "            # Add the row for the cross-reference\n",
    "            tableContent += f\"| {targetStepBible} | {confidence}% | {highlightedText} |\\n\"\n",
    "        \n",
    "    # Display the table in the notebook using BHSA.dm\n",
    "    BHSA.dm(tableContent)\n",
    "\n",
    "# Example usage with verses from parashaResults\n",
    "for verse in parashaResults:\n",
    "    generateCrossReferencesTable(verse[0])"
   ]
  },
  {
   "cell_type": "markdown",
   "id": "93852912-fa5c-420a-88ed-8be3b090eb3a",
   "metadata": {
    "tags": []
   },
   "source": [
    "# 4 - Required libraries <a class=\"anchor\" id=\"bullet4\"></a>\n",
    "##### [Back to ToC](#TOC)\n",
    "\n",
    "The scripts in this notebook require (beside `text-fabric`) the following Python libraries to be installed in the environment:\n",
    "\n",
    "    difflib\n",
    "\n",
    "You can install any missing library from within Jupyter Notebook using either`pip` or `pip3`."
   ]
  },
  {
   "cell_type": "markdown",
   "id": "bc5b6c04-4855-4d2d-aa9a-a1dac0256074",
   "metadata": {},
   "source": [
    "# 5 - Further reading <a class=\"anchor\" id=\"bullet5\"></a>\n",
    "##### [Back to ToC](#TOC)\n",
    "\n",
    "For an elaborate treatment of parallel passages, see:\n",
    "\n",
    "> Willem Th. van Peursen and Eep Talstra. \"Computer-Assisted Analysis of Parallel Texts in the Bible - The Case of 2 Kings xviii-xix and its Parallels in Isaiah and Chronicles\" in *Vetus Testamentum* 57, pp. 45-72. 2007, Brill, Leiden."
   ]
  },
  {
   "cell_type": "markdown",
   "id": "68573424-b71f-4596-95e7-468cf9ef9c1e",
   "metadata": {},
   "source": [
    "# 6 - Notebook version details<a class=\"anchor\" id=\"bullet6\"></a>\n",
    "##### [Back to TOC](#TOC)\n",
    "\n",
    "<div style=\"float: left;\">\n",
    "  <table>\n",
    "    <tr>\n",
    "      <td><strong>Author</strong></td>\n",
    "      <td>Tony Jurg</td>\n",
    "    </tr>\n",
    "    <tr>\n",
    "      <td><strong>Version</strong></td>\n",
    "      <td>1.0</td>\n",
    "    </tr>\n",
    "    <tr>\n",
    "      <td><strong>Date</strong></td>\n",
    "      <td>10 November 2024</td>\n",
    "    </tr>\n",
    "  </table>\n",
    "</div>"
   ]
  }
 ],
 "metadata": {
  "kernelspec": {
   "display_name": "Python 3 (ipykernel)",
   "language": "python",
   "name": "python3"
  },
  "language_info": {
   "codemirror_mode": {
    "name": "ipython",
    "version": 3
   },
   "file_extension": ".py",
   "mimetype": "text/x-python",
   "name": "python",
   "nbconvert_exporter": "python",
   "pygments_lexer": "ipython3",
   "version": "3.12.7"
  }
 },
 "nbformat": 4,
 "nbformat_minor": 5
}
