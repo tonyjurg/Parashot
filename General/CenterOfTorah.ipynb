{
 "cells": [
  {
   "cell_type": "markdown",
   "id": "b412ef40-3d6a-422d-a658-0f7f9474e423",
   "metadata": {},
   "source": [
    "# The 'center' of the Torah"
   ]
  },
  {
   "cell_type": "markdown",
   "id": "8da22526-375c-406c-a63c-bc425007d7e3",
   "metadata": {},
   "source": [
    "## Table of content <a class=\"anchor\" id=\"TOC\"></a>\n",
    "\n",
    "* <a href=\"#bullet1\">1 - Introduction</a>\n",
    "* <a href=\"#bullet2\">2 - Load Text-Fabric app and data</a>\n",
    "* <a href=\"#bullet3\">3 - Performing the queries</a>\n",
    "* <a href=\"#bullet3x1\">&nbsp;&nbsp;&nbsp;3.1 - Center word</a>\n",
    "* <a href=\"#bullet3x2\">&nbsp;&nbsp;&nbsp;3.2 - Center verse</a>\n",
    "* <a href=\"#bullet3x3\">&nbsp;&nbsp;&nbsp;3.3 - Center sentence</a>\n",
    "* <a href=\"#bullet3x4\">&nbsp;&nbsp;&nbsp;3.4 - Center clause</a>\n",
    "* <a href=\"#bullet3x5\">&nbsp;&nbsp;&nbsp;3.5 - Center phrase</a>\n",
    "* <a href=\"#bullet3x6\">&nbsp;&nbsp;&nbsp;3.6 - Center chapter</a>\n",
    "* <a href=\"#bullet3x7\">&nbsp;&nbsp;&nbsp;3.7 - Center word - alternative 1</a> \n",
    "* <a href=\"#bullet3x8\">&nbsp;&nbsp;&nbsp;3.8 - Center word - alternative 2</a> \n"
   ]
  },
  {
   "cell_type": "markdown",
   "id": "06785b1d-4bde-40bd-813d-9381f48e8aa4",
   "metadata": {},
   "source": [
    "# 1 - Introduction <a class=\"anchor\" id=\"bullet1\"></a>\n",
    "##### [Back to TOC](#TOC)"
   ]
  },
  {
   "cell_type": "markdown",
   "id": "69c871f8-82b9-47b3-b3cd-95c9a3b7ed12",
   "metadata": {},
   "source": [
    "What is the center of the Torah? By what measure should this be determined?"
   ]
  },
  {
   "cell_type": "markdown",
   "id": "525e2cf9-08e0-4d20-a5f1-b7b7a15662fa",
   "metadata": {},
   "source": [
    "# 2 - Load Text-Fabric app and data <a class=\"anchor\" id=\"bullet2\"></a>\n",
    "##### [Back to TOC](#TOC)"
   ]
  },
  {
   "cell_type": "code",
   "execution_count": 1,
   "id": "ef428d41-2caa-4522-95cf-ef39e4f0e8da",
   "metadata": {
    "tags": []
   },
   "outputs": [],
   "source": [
    "%load_ext autoreload\n",
    "%autoreload 2"
   ]
  },
  {
   "cell_type": "code",
   "execution_count": 2,
   "id": "77b1cb10-629c-4653-b4d0-afc1d13e9d7e",
   "metadata": {},
   "outputs": [],
   "source": [
    "# Loading the Text-Fabric code\n",
    "# Note: it is assumed Text-Fabric is installed in your environment.\n",
    "from tf.fabric import Fabric\n",
    "from tf.app import use"
   ]
  },
  {
   "cell_type": "code",
   "execution_count": 3,
   "id": "e256d50f-a0d1-4c4c-819d-33bab7fb75c7",
   "metadata": {
    "tags": []
   },
   "outputs": [
    {
     "data": {
      "text/markdown": [
       "**Locating corpus resources ...**"
      ],
      "text/plain": [
       "<IPython.core.display.Markdown object>"
      ]
     },
     "metadata": {},
     "output_type": "display_data"
    },
    {
     "data": {
      "text/html": [
       "<b title=\"local release\">app:</b> <span title=\"rv1.8=#gd905e3fb6e80d0fa537600337614adc2af157309 offline under C:/Users/tonyj/text-fabric-data/github\">~/text-fabric-data/github/etcbc/BHSA/app</span>"
      ],
      "text/plain": [
       "<IPython.core.display.HTML object>"
      ]
     },
     "metadata": {},
     "output_type": "display_data"
    },
    {
     "data": {
      "text/html": [
       "<b title=\"local release\">data:</b> <span title=\"rv1.8=#gd905e3fb6e80d0fa537600337614adc2af157309 offline under C:/Users/tonyj/text-fabric-data/github\">~/text-fabric-data/github/etcbc/BHSA/tf/2021</span>"
      ],
      "text/plain": [
       "<IPython.core.display.HTML object>"
      ]
     },
     "metadata": {},
     "output_type": "display_data"
    },
    {
     "data": {
      "text/html": [
       "<b title=\"local release\">data:</b> <span title=\"rv2.1=#gaba4367b49750089e4e4122415a77cac43bd97bc offline under C:/Users/tonyj/text-fabric-data/github\">~/text-fabric-data/github/etcbc/phono/tf/2021</span>"
      ],
      "text/plain": [
       "<IPython.core.display.HTML object>"
      ]
     },
     "metadata": {},
     "output_type": "display_data"
    },
    {
     "data": {
      "text/html": [
       "<b title=\"local release\">data:</b> <span title=\"rv2.1=#gf45f6cc3c4f933dba6e649f49cdb14a40dcf333f offline under C:/Users/tonyj/text-fabric-data/github\">~/text-fabric-data/github/etcbc/parallels/tf/2021</span>"
      ],
      "text/plain": [
       "<IPython.core.display.HTML object>"
      ]
     },
     "metadata": {},
     "output_type": "display_data"
    },
    {
     "data": {
      "text/html": [
       "\n",
       "            <b>Text-Fabric:</b> <a target=\"_blank\" href=\"https://annotation.github.io/text-fabric/tf/cheatsheet.html\" title=\"text-fabric-api\">Text-Fabric API 11.4.10</a>, <a target=\"_blank\" href=\"https://github.com/etcbc/BHSA/blob/master/app\" title=\"etcbc/BHSA app\">etcbc/BHSA/app  v3</a>, <a target=\"_blank\" href=\"https://annotation.github.io/text-fabric/tf/about/searchusage.html\" title=\"Search Templates Introduction and Reference\">Search Reference</a><br>\n",
       "            <b>Data:</b> <a target=\"_blank\" href=\"https://etcbc.github.io/BHSA/\" title=\"provenance of BHSA = Biblia Hebraica Stuttgartensia Amstelodamensis\">etcbc - BHSA 2021</a>, <a target=\"_blank\" href=\"https://annotation.github.io/text-fabric/tf/writing/hebrew.html\" title=\"How TF features represent text\">Character table</a>, <a target=\"_blank\" href=\"https://etcbc.github.io/BHSA/features/0_home\" title=\"etcbc - BHSA feature documentation\">Feature docs</a><br>\n",
       "            <details class=\"nodeinfo\"><summary><b>Node types</b></summary>\n",
       "<table class=\"nodeinfo\">\n",
       "    <tr>\n",
       "        <th>Name</th>\n",
       "        <th># of nodes</th>\n",
       "        <th># slots/node</th>\n",
       "        <th>% coverage</th>\n",
       "    </tr>\n",
       "\n",
       "<tr>\n",
       "    <th>book</th>\n",
       "    <td>39</td>\n",
       "    <td>10938.21</td>\n",
       "    <td><b>100</b></td>\n",
       "</tr>\n",
       "\n",
       "<tr>\n",
       "    <th>chapter</th>\n",
       "    <td>929</td>\n",
       "    <td>459.19</td>\n",
       "    <td><b>100</b></td>\n",
       "</tr>\n",
       "\n",
       "<tr>\n",
       "    <th>lex</th>\n",
       "    <td>9230</td>\n",
       "    <td>46.22</td>\n",
       "    <td><b>100</b></td>\n",
       "</tr>\n",
       "\n",
       "<tr>\n",
       "    <th>verse</th>\n",
       "    <td>23213</td>\n",
       "    <td>18.38</td>\n",
       "    <td><b>100</b></td>\n",
       "</tr>\n",
       "\n",
       "<tr>\n",
       "    <th>half_verse</th>\n",
       "    <td>45179</td>\n",
       "    <td>9.44</td>\n",
       "    <td><b>100</b></td>\n",
       "</tr>\n",
       "\n",
       "<tr>\n",
       "    <th>sentence</th>\n",
       "    <td>63717</td>\n",
       "    <td>6.70</td>\n",
       "    <td><b>100</b></td>\n",
       "</tr>\n",
       "\n",
       "<tr>\n",
       "    <th>sentence_atom</th>\n",
       "    <td>64514</td>\n",
       "    <td>6.61</td>\n",
       "    <td><b>100</b></td>\n",
       "</tr>\n",
       "\n",
       "<tr>\n",
       "    <th>clause</th>\n",
       "    <td>88131</td>\n",
       "    <td>4.84</td>\n",
       "    <td><b>100</b></td>\n",
       "</tr>\n",
       "\n",
       "<tr>\n",
       "    <th>clause_atom</th>\n",
       "    <td>90704</td>\n",
       "    <td>4.70</td>\n",
       "    <td><b>100</b></td>\n",
       "</tr>\n",
       "\n",
       "<tr>\n",
       "    <th>phrase</th>\n",
       "    <td>253203</td>\n",
       "    <td>1.68</td>\n",
       "    <td><b>100</b></td>\n",
       "</tr>\n",
       "\n",
       "<tr>\n",
       "    <th>phrase_atom</th>\n",
       "    <td>267532</td>\n",
       "    <td>1.59</td>\n",
       "    <td><b>100</b></td>\n",
       "</tr>\n",
       "\n",
       "<tr>\n",
       "    <th>subphrase</th>\n",
       "    <td>113850</td>\n",
       "    <td>1.42</td>\n",
       "    <td>38</td>\n",
       "</tr>\n",
       "\n",
       "<tr>\n",
       "    <th><i>word</i></th>\n",
       "    <td>426590</td>\n",
       "    <td>1.00</td>\n",
       "    <td><b>100</b></td>\n",
       "</tr>\n",
       "</table></details>\n",
       "            <b>Sets:</b> no custom sets<br>\n",
       "            <b>Features:</b><br>\n",
       "<details><summary><b>Parallel Passages</b></summary>\n",
       "    <div class=\"fcorpus\">\n",
       "\n",
       "<div class=\"frow\">\n",
       "    <div class=\"fnamecat edge\">\n",
       "<a target=\"_blank\" href=\"https://nbviewer.jupyter.org/github/etcbc/parallels/blob/master/programs/parallels.ipynb\" title=\"~/text-fabric-data/github/etcbc/parallels/tf/2021/crossref.tf\">crossref</a>\n",
       "</div>\n",
       "<div class=\"fmono\">int</div>\n",
       "\n",
       "<span> 🆗 links between similar passages</span>\n",
       "\n",
       "</div>\n",
       "\n",
       "    </div>\n",
       "</details>\n",
       "\n",
       "<details><summary><b>BHSA = Biblia Hebraica Stuttgartensia Amstelodamensis</b></summary>\n",
       "    <div class=\"fcorpus\">\n",
       "\n",
       "<div class=\"frow\">\n",
       "    <div class=\"fnamecat \">\n",
       "<a target=\"_blank\" href=\"https://etcbc.github.io/BHSA/features/book\" title=\"~/text-fabric-data/github/etcbc/BHSA/tf/2021/book.tf\">book</a>\n",
       "</div>\n",
       "<div class=\"fmono\">str</div>\n",
       "\n",
       "<span> ✅ book name in Latin (Genesis; Numeri; Reges1; ...)</span>\n",
       "\n",
       "</div>\n",
       "\n",
       "<div class=\"frow\">\n",
       "    <div class=\"fnamecat \">\n",
       "<a target=\"_blank\" href=\"https://etcbc.github.io/BHSA/features/book@ll\" title=\"~/text-fabric-data/github/etcbc/BHSA/tf/2021/book@am.tf\">book@ll</a>\n",
       "</div>\n",
       "<div class=\"fmono\">str</div>\n",
       "\n",
       "<span> ✅ book name in amharic (ኣማርኛ)</span>\n",
       "\n",
       "</div>\n",
       "\n",
       "<div class=\"frow\">\n",
       "    <div class=\"fnamecat \">\n",
       "<a target=\"_blank\" href=\"https://etcbc.github.io/BHSA/features/chapter\" title=\"~/text-fabric-data/github/etcbc/BHSA/tf/2021/chapter.tf\">chapter</a>\n",
       "</div>\n",
       "<div class=\"fmono\">int</div>\n",
       "\n",
       "<span> ✅ chapter number (1; 2; 3; ...)</span>\n",
       "\n",
       "</div>\n",
       "\n",
       "<div class=\"frow\">\n",
       "    <div class=\"fnamecat \">\n",
       "<a target=\"_blank\" href=\"https://etcbc.github.io/BHSA/features/code\" title=\"~/text-fabric-data/github/etcbc/BHSA/tf/2021/code.tf\">code</a>\n",
       "</div>\n",
       "<div class=\"fmono\">int</div>\n",
       "\n",
       "<span> ✅ identifier of a clause atom relationship (0; 74; 367; ...)</span>\n",
       "\n",
       "</div>\n",
       "\n",
       "<div class=\"frow\">\n",
       "    <div class=\"fnamecat \">\n",
       "<a target=\"_blank\" href=\"https://etcbc.github.io/BHSA/features/det\" title=\"~/text-fabric-data/github/etcbc/BHSA/tf/2021/det.tf\">det</a>\n",
       "</div>\n",
       "<div class=\"fmono\">str</div>\n",
       "\n",
       "<span> ✅ determinedness of phrase(atom) (det; und; NA.)</span>\n",
       "\n",
       "</div>\n",
       "\n",
       "<div class=\"frow\">\n",
       "    <div class=\"fnamecat \">\n",
       "<a target=\"_blank\" href=\"https://etcbc.github.io/BHSA/features/domain\" title=\"~/text-fabric-data/github/etcbc/BHSA/tf/2021/domain.tf\">domain</a>\n",
       "</div>\n",
       "<div class=\"fmono\">str</div>\n",
       "\n",
       "<span> ✅ text type of clause (? (Unknown); N (narrative); D (discursive); Q (Quotation).)</span>\n",
       "\n",
       "</div>\n",
       "\n",
       "<div class=\"frow\">\n",
       "    <div class=\"fnamecat \">\n",
       "<a target=\"_blank\" href=\"https://etcbc.github.io/BHSA/features/freq_lex\" title=\"~/text-fabric-data/github/etcbc/BHSA/tf/2021/freq_lex.tf\">freq_lex</a>\n",
       "</div>\n",
       "<div class=\"fmono\">int</div>\n",
       "\n",
       "<span> ✅ frequency of lexemes</span>\n",
       "\n",
       "</div>\n",
       "\n",
       "<div class=\"frow\">\n",
       "    <div class=\"fnamecat \">\n",
       "<a target=\"_blank\" href=\"https://etcbc.github.io/BHSA/features/function\" title=\"~/text-fabric-data/github/etcbc/BHSA/tf/2021/function.tf\">function</a>\n",
       "</div>\n",
       "<div class=\"fmono\">str</div>\n",
       "\n",
       "<span> ✅ syntactic function of phrase (Cmpl; Objc; Pred; ...)</span>\n",
       "\n",
       "</div>\n",
       "\n",
       "<div class=\"frow\">\n",
       "    <div class=\"fnamecat \">\n",
       "<a target=\"_blank\" href=\"https://etcbc.github.io/BHSA/features/g_cons\" title=\"~/text-fabric-data/github/etcbc/BHSA/tf/2021/g_cons.tf\">g_cons</a>\n",
       "</div>\n",
       "<div class=\"fmono\">str</div>\n",
       "\n",
       "<span> ✅ word consonantal-transliterated (B R>CJT BR> >LHJM ...)</span>\n",
       "\n",
       "</div>\n",
       "\n",
       "<div class=\"frow\">\n",
       "    <div class=\"fnamecat \">\n",
       "<a target=\"_blank\" href=\"https://etcbc.github.io/BHSA/features/g_cons_utf8\" title=\"~/text-fabric-data/github/etcbc/BHSA/tf/2021/g_cons_utf8.tf\">g_cons_utf8</a>\n",
       "</div>\n",
       "<div class=\"fmono\">str</div>\n",
       "\n",
       "<span> ✅ word consonantal-Hebrew (ב ראשׁית ברא אלהים)</span>\n",
       "\n",
       "</div>\n",
       "\n",
       "<div class=\"frow\">\n",
       "    <div class=\"fnamecat \">\n",
       "<a target=\"_blank\" href=\"https://etcbc.github.io/BHSA/features/g_lex\" title=\"~/text-fabric-data/github/etcbc/BHSA/tf/2021/g_lex.tf\">g_lex</a>\n",
       "</div>\n",
       "<div class=\"fmono\">str</div>\n",
       "\n",
       "<span> ✅ lexeme pointed-transliterated (B.:- R;>CIJT B.@R@> >:ELOH ...)</span>\n",
       "\n",
       "</div>\n",
       "\n",
       "<div class=\"frow\">\n",
       "    <div class=\"fnamecat \">\n",
       "<a target=\"_blank\" href=\"https://etcbc.github.io/BHSA/features/g_lex_utf8\" title=\"~/text-fabric-data/github/etcbc/BHSA/tf/2021/g_lex_utf8.tf\">g_lex_utf8</a>\n",
       "</div>\n",
       "<div class=\"fmono\">str</div>\n",
       "\n",
       "<span> ✅ lexeme pointed-Hebrew (בְּ רֵאשִׁית בָּרָא אֱלֹה)</span>\n",
       "\n",
       "</div>\n",
       "\n",
       "<div class=\"frow\">\n",
       "    <div class=\"fnamecat \">\n",
       "<a target=\"_blank\" href=\"https://etcbc.github.io/BHSA/features/g_word\" title=\"~/text-fabric-data/github/etcbc/BHSA/tf/2021/g_word.tf\">g_word</a>\n",
       "</div>\n",
       "<div class=\"fmono\">str</div>\n",
       "\n",
       "<span> ✅ word pointed-transliterated (B.:- R;>CI73JT B.@R@74> >:ELOHI92JM)</span>\n",
       "\n",
       "</div>\n",
       "\n",
       "<div class=\"frow\">\n",
       "    <div class=\"fnamecat \">\n",
       "<a target=\"_blank\" href=\"https://etcbc.github.io/BHSA/features/g_word_utf8\" title=\"~/text-fabric-data/github/etcbc/BHSA/tf/2021/g_word_utf8.tf\">g_word_utf8</a>\n",
       "</div>\n",
       "<div class=\"fmono\">str</div>\n",
       "\n",
       "<span> ✅ word pointed-Hebrew (בְּ רֵאשִׁ֖ית בָּרָ֣א אֱלֹהִ֑ים)</span>\n",
       "\n",
       "</div>\n",
       "\n",
       "<div class=\"frow\">\n",
       "    <div class=\"fnamecat \">\n",
       "<a target=\"_blank\" href=\"https://etcbc.github.io/BHSA/features/gloss\" title=\"~/text-fabric-data/github/etcbc/BHSA/tf/2021/gloss.tf\">gloss</a>\n",
       "</div>\n",
       "<div class=\"fmono\">str</div>\n",
       "\n",
       "<span> 🆗 english translation of lexeme (beginning create god(s))</span>\n",
       "\n",
       "</div>\n",
       "\n",
       "<div class=\"frow\">\n",
       "    <div class=\"fnamecat \">\n",
       "<a target=\"_blank\" href=\"https://etcbc.github.io/BHSA/features/gn\" title=\"~/text-fabric-data/github/etcbc/BHSA/tf/2021/gn.tf\">gn</a>\n",
       "</div>\n",
       "<div class=\"fmono\">str</div>\n",
       "\n",
       "<span> ✅ grammatical gender (m; f; NA; unknown.)</span>\n",
       "\n",
       "</div>\n",
       "\n",
       "<div class=\"frow\">\n",
       "    <div class=\"fnamecat \">\n",
       "<a target=\"_blank\" href=\"https://etcbc.github.io/BHSA/features/label\" title=\"~/text-fabric-data/github/etcbc/BHSA/tf/2021/label.tf\">label</a>\n",
       "</div>\n",
       "<div class=\"fmono\">str</div>\n",
       "\n",
       "<span> ✅ (half-)verse label (half verses: A; B; C; verses:  GEN 01,02)</span>\n",
       "\n",
       "</div>\n",
       "\n",
       "<div class=\"frow\">\n",
       "    <div class=\"fnamecat \">\n",
       "<a target=\"_blank\" href=\"https://etcbc.github.io/BHSA/features/language\" title=\"~/text-fabric-data/github/etcbc/BHSA/tf/2021/language.tf\">language</a>\n",
       "</div>\n",
       "<div class=\"fmono\">str</div>\n",
       "\n",
       "<span> ✅ of word or lexeme (Hebrew; Aramaic.)</span>\n",
       "\n",
       "</div>\n",
       "\n",
       "<div class=\"frow\">\n",
       "    <div class=\"fnamecat \">\n",
       "<a target=\"_blank\" href=\"https://etcbc.github.io/BHSA/features/lex\" title=\"~/text-fabric-data/github/etcbc/BHSA/tf/2021/lex.tf\">lex</a>\n",
       "</div>\n",
       "<div class=\"fmono\">str</div>\n",
       "\n",
       "<span> ✅ lexeme consonantal-transliterated (B R>CJT/ BR>[ >LHJM/)</span>\n",
       "\n",
       "</div>\n",
       "\n",
       "<div class=\"frow\">\n",
       "    <div class=\"fnamecat \">\n",
       "<a target=\"_blank\" href=\"https://etcbc.github.io/BHSA/features/lex_utf8\" title=\"~/text-fabric-data/github/etcbc/BHSA/tf/2021/lex_utf8.tf\">lex_utf8</a>\n",
       "</div>\n",
       "<div class=\"fmono\">str</div>\n",
       "\n",
       "<span> ✅ lexeme consonantal-Hebrew (ב ראשׁית֜ ברא אלהים֜)</span>\n",
       "\n",
       "</div>\n",
       "\n",
       "<div class=\"frow\">\n",
       "    <div class=\"fnamecat \">\n",
       "<a target=\"_blank\" href=\"https://etcbc.github.io/BHSA/features/ls\" title=\"~/text-fabric-data/github/etcbc/BHSA/tf/2021/ls.tf\">ls</a>\n",
       "</div>\n",
       "<div class=\"fmono\">str</div>\n",
       "\n",
       "<span> ✅ lexical set, subclassification of part-of-speech (card; ques; mult)</span>\n",
       "\n",
       "</div>\n",
       "\n",
       "<div class=\"frow\">\n",
       "    <div class=\"fnamecat \">\n",
       "<a target=\"_blank\" href=\"https://etcbc.github.io/BHSA/features/nametype\" title=\"~/text-fabric-data/github/etcbc/BHSA/tf/2021/nametype.tf\">nametype</a>\n",
       "</div>\n",
       "<div class=\"fmono\">str</div>\n",
       "\n",
       "<span> ⚠️ named entity type (pers; mens; gens; topo; ppde.)</span>\n",
       "\n",
       "</div>\n",
       "\n",
       "<div class=\"frow\">\n",
       "    <div class=\"fnamecat \">\n",
       "<a target=\"_blank\" href=\"https://etcbc.github.io/BHSA/features/nme\" title=\"~/text-fabric-data/github/etcbc/BHSA/tf/2021/nme.tf\">nme</a>\n",
       "</div>\n",
       "<div class=\"fmono\">str</div>\n",
       "\n",
       "<span> ✅ nominal ending consonantal-transliterated (absent; n/a; JM, ...)</span>\n",
       "\n",
       "</div>\n",
       "\n",
       "<div class=\"frow\">\n",
       "    <div class=\"fnamecat \">\n",
       "<a target=\"_blank\" href=\"https://etcbc.github.io/BHSA/features/nu\" title=\"~/text-fabric-data/github/etcbc/BHSA/tf/2021/nu.tf\">nu</a>\n",
       "</div>\n",
       "<div class=\"fmono\">str</div>\n",
       "\n",
       "<span> ✅ grammatical number (sg; du; pl; NA; unknown.)</span>\n",
       "\n",
       "</div>\n",
       "\n",
       "<div class=\"frow\">\n",
       "    <div class=\"fnamecat \">\n",
       "<a target=\"_blank\" href=\"https://etcbc.github.io/BHSA/features/number\" title=\"~/text-fabric-data/github/etcbc/BHSA/tf/2021/number.tf\">number</a>\n",
       "</div>\n",
       "<div class=\"fmono\">int</div>\n",
       "\n",
       "<span> ✅ sequence number of an object within its context</span>\n",
       "\n",
       "</div>\n",
       "\n",
       "<div class=\"frow\">\n",
       "    <div class=\"fnamecat \">\n",
       "<a target=\"_blank\" href=\"https://etcbc.github.io/BHSA/features/otype\" title=\"~/text-fabric-data/github/etcbc/BHSA/tf/2021/otype.tf\">otype</a>\n",
       "</div>\n",
       "<div class=\"fmono\">str</div>\n",
       "\n",
       "<span> </span>\n",
       "\n",
       "</div>\n",
       "\n",
       "<div class=\"frow\">\n",
       "    <div class=\"fnamecat \">\n",
       "<a target=\"_blank\" href=\"https://etcbc.github.io/BHSA/features/pargr\" title=\"~/text-fabric-data/github/etcbc/BHSA/tf/2021/pargr.tf\">pargr</a>\n",
       "</div>\n",
       "<div class=\"fmono\">str</div>\n",
       "\n",
       "<span> 🆗 hierarchical paragraph number (1; 1.2; 1.2.3.4; ...)</span>\n",
       "\n",
       "</div>\n",
       "\n",
       "<div class=\"frow\">\n",
       "    <div class=\"fnamecat \">\n",
       "<a target=\"_blank\" href=\"https://etcbc.github.io/BHSA/features/pdp\" title=\"~/text-fabric-data/github/etcbc/BHSA/tf/2021/pdp.tf\">pdp</a>\n",
       "</div>\n",
       "<div class=\"fmono\">str</div>\n",
       "\n",
       "<span> ✅ phrase dependent part-of-speech (art; verb; subs; nmpr, ...)</span>\n",
       "\n",
       "</div>\n",
       "\n",
       "<div class=\"frow\">\n",
       "    <div class=\"fnamecat \">\n",
       "<a target=\"_blank\" href=\"https://etcbc.github.io/BHSA/features/pfm\" title=\"~/text-fabric-data/github/etcbc/BHSA/tf/2021/pfm.tf\">pfm</a>\n",
       "</div>\n",
       "<div class=\"fmono\">str</div>\n",
       "\n",
       "<span> ✅ preformative consonantal-transliterated (absent; n/a; J, ...)</span>\n",
       "\n",
       "</div>\n",
       "\n",
       "<div class=\"frow\">\n",
       "    <div class=\"fnamecat \">\n",
       "<a target=\"_blank\" href=\"https://etcbc.github.io/BHSA/features/prs\" title=\"~/text-fabric-data/github/etcbc/BHSA/tf/2021/prs.tf\">prs</a>\n",
       "</div>\n",
       "<div class=\"fmono\">str</div>\n",
       "\n",
       "<span> ✅ pronominal suffix consonantal-transliterated (absent; n/a; W; ...)</span>\n",
       "\n",
       "</div>\n",
       "\n",
       "<div class=\"frow\">\n",
       "    <div class=\"fnamecat \">\n",
       "<a target=\"_blank\" href=\"https://etcbc.github.io/BHSA/features/prs_gn\" title=\"~/text-fabric-data/github/etcbc/BHSA/tf/2021/prs_gn.tf\">prs_gn</a>\n",
       "</div>\n",
       "<div class=\"fmono\">str</div>\n",
       "\n",
       "<span> ✅ pronominal suffix gender (m; f; NA; unknown.)</span>\n",
       "\n",
       "</div>\n",
       "\n",
       "<div class=\"frow\">\n",
       "    <div class=\"fnamecat \">\n",
       "<a target=\"_blank\" href=\"https://etcbc.github.io/BHSA/features/prs_nu\" title=\"~/text-fabric-data/github/etcbc/BHSA/tf/2021/prs_nu.tf\">prs_nu</a>\n",
       "</div>\n",
       "<div class=\"fmono\">str</div>\n",
       "\n",
       "<span> ✅ pronominal suffix number (sg; du; pl; NA; unknown.)</span>\n",
       "\n",
       "</div>\n",
       "\n",
       "<div class=\"frow\">\n",
       "    <div class=\"fnamecat \">\n",
       "<a target=\"_blank\" href=\"https://etcbc.github.io/BHSA/features/prs_ps\" title=\"~/text-fabric-data/github/etcbc/BHSA/tf/2021/prs_ps.tf\">prs_ps</a>\n",
       "</div>\n",
       "<div class=\"fmono\">str</div>\n",
       "\n",
       "<span> ✅ pronominal suffix person (p1; p2; p3; NA; unknown.)</span>\n",
       "\n",
       "</div>\n",
       "\n",
       "<div class=\"frow\">\n",
       "    <div class=\"fnamecat \">\n",
       "<a target=\"_blank\" href=\"https://etcbc.github.io/BHSA/features/ps\" title=\"~/text-fabric-data/github/etcbc/BHSA/tf/2021/ps.tf\">ps</a>\n",
       "</div>\n",
       "<div class=\"fmono\">str</div>\n",
       "\n",
       "<span> ✅ grammatical person (p1; p2; p3; NA; unknown.)</span>\n",
       "\n",
       "</div>\n",
       "\n",
       "<div class=\"frow\">\n",
       "    <div class=\"fnamecat \">\n",
       "<a target=\"_blank\" href=\"https://etcbc.github.io/BHSA/features/qere\" title=\"~/text-fabric-data/github/etcbc/BHSA/tf/2021/qere.tf\">qere</a>\n",
       "</div>\n",
       "<div class=\"fmono\">str</div>\n",
       "\n",
       "<span> ✅ word pointed-transliterated masoretic reading correction</span>\n",
       "\n",
       "</div>\n",
       "\n",
       "<div class=\"frow\">\n",
       "    <div class=\"fnamecat \">\n",
       "<a target=\"_blank\" href=\"https://etcbc.github.io/BHSA/features/qere_trailer\" title=\"~/text-fabric-data/github/etcbc/BHSA/tf/2021/qere_trailer.tf\">qere_trailer</a>\n",
       "</div>\n",
       "<div class=\"fmono\">str</div>\n",
       "\n",
       "<span> ✅ interword material -pointed-transliterated (Masoretic correction)</span>\n",
       "\n",
       "</div>\n",
       "\n",
       "<div class=\"frow\">\n",
       "    <div class=\"fnamecat \">\n",
       "<a target=\"_blank\" href=\"https://etcbc.github.io/BHSA/features/qere_trailer_utf8\" title=\"~/text-fabric-data/github/etcbc/BHSA/tf/2021/qere_trailer_utf8.tf\">qere_trailer_utf8</a>\n",
       "</div>\n",
       "<div class=\"fmono\">str</div>\n",
       "\n",
       "<span> ✅ interword material -pointed-transliterated (Masoretic correction)</span>\n",
       "\n",
       "</div>\n",
       "\n",
       "<div class=\"frow\">\n",
       "    <div class=\"fnamecat \">\n",
       "<a target=\"_blank\" href=\"https://etcbc.github.io/BHSA/features/qere_utf8\" title=\"~/text-fabric-data/github/etcbc/BHSA/tf/2021/qere_utf8.tf\">qere_utf8</a>\n",
       "</div>\n",
       "<div class=\"fmono\">str</div>\n",
       "\n",
       "<span> ✅ word pointed-Hebrew masoretic reading correction</span>\n",
       "\n",
       "</div>\n",
       "\n",
       "<div class=\"frow\">\n",
       "    <div class=\"fnamecat \">\n",
       "<a target=\"_blank\" href=\"https://etcbc.github.io/BHSA/features/rank_lex\" title=\"~/text-fabric-data/github/etcbc/BHSA/tf/2021/rank_lex.tf\">rank_lex</a>\n",
       "</div>\n",
       "<div class=\"fmono\">int</div>\n",
       "\n",
       "<span> ✅ ranking of lexemes based on freqnuecy</span>\n",
       "\n",
       "</div>\n",
       "\n",
       "<div class=\"frow\">\n",
       "    <div class=\"fnamecat \">\n",
       "<a target=\"_blank\" href=\"https://etcbc.github.io/BHSA/features/rela\" title=\"~/text-fabric-data/github/etcbc/BHSA/tf/2021/rela.tf\">rela</a>\n",
       "</div>\n",
       "<div class=\"fmono\">str</div>\n",
       "\n",
       "<span> ✅ linguistic relation between clause/(sub)phrase(atom) (ADJ; MOD; ATR; ...)</span>\n",
       "\n",
       "</div>\n",
       "\n",
       "<div class=\"frow\">\n",
       "    <div class=\"fnamecat \">\n",
       "<a target=\"_blank\" href=\"https://etcbc.github.io/BHSA/features/sp\" title=\"~/text-fabric-data/github/etcbc/BHSA/tf/2021/sp.tf\">sp</a>\n",
       "</div>\n",
       "<div class=\"fmono\">str</div>\n",
       "\n",
       "<span> ✅ part-of-speech (art; verb; subs; nmpr, ...)</span>\n",
       "\n",
       "</div>\n",
       "\n",
       "<div class=\"frow\">\n",
       "    <div class=\"fnamecat \">\n",
       "<a target=\"_blank\" href=\"https://etcbc.github.io/BHSA/features/st\" title=\"~/text-fabric-data/github/etcbc/BHSA/tf/2021/st.tf\">st</a>\n",
       "</div>\n",
       "<div class=\"fmono\">str</div>\n",
       "\n",
       "<span> ✅ state of a noun (a (absolute); c (construct); e (emphatic).)</span>\n",
       "\n",
       "</div>\n",
       "\n",
       "<div class=\"frow\">\n",
       "    <div class=\"fnamecat \">\n",
       "<a target=\"_blank\" href=\"https://etcbc.github.io/BHSA/features/tab\" title=\"~/text-fabric-data/github/etcbc/BHSA/tf/2021/tab.tf\">tab</a>\n",
       "</div>\n",
       "<div class=\"fmono\">int</div>\n",
       "\n",
       "<span> ✅ clause atom: its level in the linguistic embedding</span>\n",
       "\n",
       "</div>\n",
       "\n",
       "<div class=\"frow\">\n",
       "    <div class=\"fnamecat \">\n",
       "<a target=\"_blank\" href=\"https://etcbc.github.io/BHSA/features/trailer\" title=\"~/text-fabric-data/github/etcbc/BHSA/tf/2021/trailer.tf\">trailer</a>\n",
       "</div>\n",
       "<div class=\"fmono\">str</div>\n",
       "\n",
       "<span> ✅ interword material pointed-transliterated (& 00 05 00_P ...)</span>\n",
       "\n",
       "</div>\n",
       "\n",
       "<div class=\"frow\">\n",
       "    <div class=\"fnamecat \">\n",
       "<a target=\"_blank\" href=\"https://etcbc.github.io/BHSA/features/trailer_utf8\" title=\"~/text-fabric-data/github/etcbc/BHSA/tf/2021/trailer_utf8.tf\">trailer_utf8</a>\n",
       "</div>\n",
       "<div class=\"fmono\">str</div>\n",
       "\n",
       "<span> ✅ interword material pointed-Hebrew (־ ׃)</span>\n",
       "\n",
       "</div>\n",
       "\n",
       "<div class=\"frow\">\n",
       "    <div class=\"fnamecat \">\n",
       "<a target=\"_blank\" href=\"https://etcbc.github.io/BHSA/features/txt\" title=\"~/text-fabric-data/github/etcbc/BHSA/tf/2021/txt.tf\">txt</a>\n",
       "</div>\n",
       "<div class=\"fmono\">str</div>\n",
       "\n",
       "<span> ✅ text type of clause and surrounding (repetion of ? N D Q as in feature domain)</span>\n",
       "\n",
       "</div>\n",
       "\n",
       "<div class=\"frow\">\n",
       "    <div class=\"fnamecat \">\n",
       "<a target=\"_blank\" href=\"https://etcbc.github.io/BHSA/features/typ\" title=\"~/text-fabric-data/github/etcbc/BHSA/tf/2021/typ.tf\">typ</a>\n",
       "</div>\n",
       "<div class=\"fmono\">str</div>\n",
       "\n",
       "<span> ✅ clause/phrase(atom) type (VP; NP; Ellp; Ptcp; WayX)</span>\n",
       "\n",
       "</div>\n",
       "\n",
       "<div class=\"frow\">\n",
       "    <div class=\"fnamecat \">\n",
       "<a target=\"_blank\" href=\"https://etcbc.github.io/BHSA/features/uvf\" title=\"~/text-fabric-data/github/etcbc/BHSA/tf/2021/uvf.tf\">uvf</a>\n",
       "</div>\n",
       "<div class=\"fmono\">str</div>\n",
       "\n",
       "<span> ✅ univalent final consonant consonantal-transliterated (absent; N; J; ...)</span>\n",
       "\n",
       "</div>\n",
       "\n",
       "<div class=\"frow\">\n",
       "    <div class=\"fnamecat \">\n",
       "<a target=\"_blank\" href=\"https://etcbc.github.io/BHSA/features/vbe\" title=\"~/text-fabric-data/github/etcbc/BHSA/tf/2021/vbe.tf\">vbe</a>\n",
       "</div>\n",
       "<div class=\"fmono\">str</div>\n",
       "\n",
       "<span> ✅ verbal ending consonantal-transliterated (n/a; W; ...)</span>\n",
       "\n",
       "</div>\n",
       "\n",
       "<div class=\"frow\">\n",
       "    <div class=\"fnamecat \">\n",
       "<a target=\"_blank\" href=\"https://etcbc.github.io/BHSA/features/vbs\" title=\"~/text-fabric-data/github/etcbc/BHSA/tf/2021/vbs.tf\">vbs</a>\n",
       "</div>\n",
       "<div class=\"fmono\">str</div>\n",
       "\n",
       "<span> ✅ root formation consonantal-transliterated (absent; n/a; H; ...)</span>\n",
       "\n",
       "</div>\n",
       "\n",
       "<div class=\"frow\">\n",
       "    <div class=\"fnamecat \">\n",
       "<a target=\"_blank\" href=\"https://etcbc.github.io/BHSA/features/verse\" title=\"~/text-fabric-data/github/etcbc/BHSA/tf/2021/verse.tf\">verse</a>\n",
       "</div>\n",
       "<div class=\"fmono\">int</div>\n",
       "\n",
       "<span> ✅ verse number</span>\n",
       "\n",
       "</div>\n",
       "\n",
       "<div class=\"frow\">\n",
       "    <div class=\"fnamecat \">\n",
       "<a target=\"_blank\" href=\"https://etcbc.github.io/BHSA/features/voc_lex\" title=\"~/text-fabric-data/github/etcbc/BHSA/tf/2021/voc_lex.tf\">voc_lex</a>\n",
       "</div>\n",
       "<div class=\"fmono\">str</div>\n",
       "\n",
       "<span> ✅ vocalized lexeme pointed-transliterated (B.: R;>CIJT BR> >:ELOHIJM)</span>\n",
       "\n",
       "</div>\n",
       "\n",
       "<div class=\"frow\">\n",
       "    <div class=\"fnamecat \">\n",
       "<a target=\"_blank\" href=\"https://etcbc.github.io/BHSA/features/voc_lex_utf8\" title=\"~/text-fabric-data/github/etcbc/BHSA/tf/2021/voc_lex_utf8.tf\">voc_lex_utf8</a>\n",
       "</div>\n",
       "<div class=\"fmono\">str</div>\n",
       "\n",
       "<span> ✅ vocalized lexeme pointed-Hebrew (בְּ רֵאשִׁית ברא אֱלֹהִים)</span>\n",
       "\n",
       "</div>\n",
       "\n",
       "<div class=\"frow\">\n",
       "    <div class=\"fnamecat \">\n",
       "<a target=\"_blank\" href=\"https://etcbc.github.io/BHSA/features/vs\" title=\"~/text-fabric-data/github/etcbc/BHSA/tf/2021/vs.tf\">vs</a>\n",
       "</div>\n",
       "<div class=\"fmono\">str</div>\n",
       "\n",
       "<span> ✅ verbal stem (qal; piel; hif; apel; pael)</span>\n",
       "\n",
       "</div>\n",
       "\n",
       "<div class=\"frow\">\n",
       "    <div class=\"fnamecat \">\n",
       "<a target=\"_blank\" href=\"https://etcbc.github.io/BHSA/features/vt\" title=\"~/text-fabric-data/github/etcbc/BHSA/tf/2021/vt.tf\">vt</a>\n",
       "</div>\n",
       "<div class=\"fmono\">str</div>\n",
       "\n",
       "<span> ✅ verbal tense (perf; impv; wayq; infc)</span>\n",
       "\n",
       "</div>\n",
       "\n",
       "<div class=\"frow\">\n",
       "    <div class=\"fnamecat edge\">\n",
       "<a target=\"_blank\" href=\"https://etcbc.github.io/BHSA/features/mother\" title=\"~/text-fabric-data/github/etcbc/BHSA/tf/2021/mother.tf\">mother</a>\n",
       "</div>\n",
       "<div class=\"fmono\">none</div>\n",
       "\n",
       "<span> ✅ linguistic dependency between textual objects</span>\n",
       "\n",
       "</div>\n",
       "\n",
       "<div class=\"frow\">\n",
       "    <div class=\"fnamecat edge\">\n",
       "<a target=\"_blank\" href=\"https://etcbc.github.io/BHSA/features/oslots\" title=\"~/text-fabric-data/github/etcbc/BHSA/tf/2021/oslots.tf\">oslots</a>\n",
       "</div>\n",
       "<div class=\"fmono\">none</div>\n",
       "\n",
       "<span> </span>\n",
       "\n",
       "</div>\n",
       "\n",
       "    </div>\n",
       "</details>\n",
       "\n",
       "<details><summary><b>Phonetic Transcriptions</b></summary>\n",
       "    <div class=\"fcorpus\">\n",
       "\n",
       "<div class=\"frow\">\n",
       "    <div class=\"fnamecat \">\n",
       "<a target=\"_blank\" href=\"https://nbviewer.jupyter.org/github/etcbc/phono/blob/master/programs/phono.ipynb\" title=\"~/text-fabric-data/github/etcbc/phono/tf/2021/phono.tf\">phono</a>\n",
       "</div>\n",
       "<div class=\"fmono\">str</div>\n",
       "\n",
       "<span> 🆗 phonological transcription (bᵊ rēšˌîṯ bārˈā ʔᵉlōhˈîm)</span>\n",
       "\n",
       "</div>\n",
       "\n",
       "<div class=\"frow\">\n",
       "    <div class=\"fnamecat \">\n",
       "<a target=\"_blank\" href=\"https://nbviewer.jupyter.org/github/etcbc/phono/blob/master/programs/phono.ipynb\" title=\"~/text-fabric-data/github/etcbc/phono/tf/2021/phono_trailer.tf\">phono_trailer</a>\n",
       "</div>\n",
       "<div class=\"fmono\">str</div>\n",
       "\n",
       "<span> 🆗 interword material in phonological transcription</span>\n",
       "\n",
       "</div>\n",
       "\n",
       "    </div>\n",
       "</details>\n",
       "\n"
      ],
      "text/plain": [
       "<IPython.core.display.HTML object>"
      ]
     },
     "metadata": {},
     "output_type": "display_data"
    },
    {
     "data": {
      "text/html": [
       "<style>tr.tf.ltr, td.tf.ltr, th.tf.ltr { text-align: left ! important;}\n",
       "tr.tf.rtl, td.tf.rtl, th.tf.rtl { text-align: right ! important;}\n",
       "@font-face {\n",
       "  font-family: \"Gentium Plus\";\n",
       "  src: local('Gentium Plus'), local('GentiumPlus'),\n",
       "    url('/server/static/fonts/GentiumPlus-R.woff') format('woff'),\n",
       "    url('https://github.com/annotation/text-fabric/blob/master/tf/server/static/fonts/GentiumPlus-R.woff?raw=true') format('woff');\n",
       "}\n",
       "\n",
       "@font-face {\n",
       "  font-family: \"Ezra SIL\";\n",
       "  src: local('Ezra SIL'), local('EzraSIL'),\n",
       "    url('/server/static/fonts/SILEOT.woff') format('woff'),\n",
       "    url('https://github.com/annotation/text-fabric/blob/master/tf/server/static/fonts/SILEOT.woff?raw=true') format('woff');\n",
       "}\n",
       "\n",
       "@font-face {\n",
       "  font-family: \"SBL Hebrew\";\n",
       "  src: local('SBL Hebrew'), local('SBLHebrew'),\n",
       "    url('/server/static/fonts/SBL_Hbrw.woff') format('woff'),\n",
       "    url('https://github.com/annotation/text-fabric/blob/master/tf/server/static/fonts/SBL_Hbrw.woff?raw=true') format('woff');\n",
       "}\n",
       "\n",
       "@font-face {\n",
       "  font-family: \"Estrangelo Edessa\";\n",
       "  src: local('Estrangelo Edessa'), local('EstrangeloEdessa');\n",
       "    url('/server/static/fonts/SyrCOMEdessa.woff') format('woff'),\n",
       "    url('https://github.com/annotation/text-fabric/blob/master/tf/server/static/fonts/SyrCOMEdessa.woff?raw=true') format('woff');\n",
       "}\n",
       "\n",
       "@font-face {\n",
       "  font-family: AmiriQuran;\n",
       "  font-style: normal;\n",
       "  font-weight: 400;\n",
       "  src: local('Amiri Quran'), local('AmiriQuran'),\n",
       "    url('/server/static/fonts/AmiriQuran.woff') format('woff'),\n",
       "    url('https://github.com/annotation/text-fabric/blob/master/tf/server/static/fonts/AmiriQuran.woff?raw=true') format('woff');\n",
       "}\n",
       "\n",
       "@font-face {\n",
       "  font-family: AmiriQuranColored;\n",
       "  font-style: normal;\n",
       "  font-weight: 400;\n",
       "  src: local('Amiri Quran Colored'), local('AmiriQuranColored'),\n",
       "    url('/server/static/fonts/AmiriQuranColored.woff') format('woff'),\n",
       "    url('https://github.com/annotation/text-fabric/blob/master/tf/server/static/fonts/AmiriQuranColored.woff?raw=true') format('woff');\n",
       "}\n",
       "\n",
       "@font-face {\n",
       "  font-family: \"Santakku\";\n",
       "  src: local('Santakku'),\n",
       "    url('/server/static/fonts/Santakku.woff') format('woff'),\n",
       "    url('https://github.com/annotation/text-fabric/blob/master/tf/server/static/fonts/Santakku.woff?raw=true') format('woff');\n",
       "}\n",
       "\n",
       "@font-face {\n",
       "  font-family: \"SantakkuM\";\n",
       "  src: local('SantakkuM'),\n",
       "    url('/server/static/fonts/SantakkuM.woff') format('woff'),\n",
       "    url('https://github.com/annotation/text-fabric/blob/master/tf/server/static/fonts/SantakkuM.woff?raw=true') format('woff');\n",
       "}\n",
       "/* bypassing some classical notebook settings */\n",
       "div#notebook {\n",
       "  line-height: unset;\n",
       "}\n",
       "/* neutral text */\n",
       ".txtn,.txtn a:visited,.txtn a:link {\n",
       "    font-family: sans-serif;\n",
       "    font-size: medium;\n",
       "    direction: ltr;\n",
       "    unicode-bidi: embed;\n",
       "    text-decoration: none;\n",
       "    color: var(--text-color);\n",
       "}\n",
       "/* transcription text */\n",
       ".txtt,.txtt a:visited,.txtt a:link {\n",
       "    font-family: monospace;\n",
       "    font-size: medium;\n",
       "    direction: ltr;\n",
       "    unicode-bidi: embed;\n",
       "    text-decoration: none;\n",
       "    color: var(--text-color);\n",
       "}\n",
       "/* source text */\n",
       ".txto,.txto a:visited,.txto a:link {\n",
       "    font-family: serif;\n",
       "    font-size: medium;\n",
       "    direction: ltr;\n",
       "    unicode-bidi: embed;\n",
       "    text-decoration: none;\n",
       "    color: var(--text-color);\n",
       "}\n",
       "/* phonetic text */\n",
       ".txtp,.txtp a:visited,.txtp a:link {\n",
       "    font-family: Gentium, sans-serif;\n",
       "    font-size: medium;\n",
       "    direction: ltr;\n",
       "    unicode-bidi: embed;\n",
       "    text-decoration: none;\n",
       "    color: var(--text-color);\n",
       "}\n",
       "/* original script text */\n",
       ".txtu,.txtu a:visited,.txtu a:link {\n",
       "    font-family: Gentium, sans-serif;\n",
       "    font-size: medium;\n",
       "    text-decoration: none;\n",
       "    color: var(--text-color);\n",
       "}\n",
       "/* hebrew */\n",
       ".txtu.hbo,.lex.hbo {\n",
       "    font-family: \"Ezra SIL\", \"SBL Hebrew\", sans-serif;\n",
       "    font-size: large;\n",
       "    direction: rtl ! important;\n",
       "    unicode-bidi: embed;\n",
       "}\n",
       "/* syriac */\n",
       ".txtu.syc,.lex.syc {\n",
       "    font-family: \"Estrangelo Edessa\", sans-serif;\n",
       "    font-size: medium;\n",
       "    direction: rtl ! important;\n",
       "    unicode-bidi: embed;\n",
       "}\n",
       "/* neo aramaic */\n",
       ".txtu.cld,.lex.cld {\n",
       "    font-family: \"CharisSIL-R\", sans-serif;\n",
       "    font-size: medium;\n",
       "    direction: ltr ! important;\n",
       "    unicode-bidi: embed;\n",
       "}\n",
       "/* standard arabic */\n",
       ".txtu.ara,.lex.ara {\n",
       "    font-family: \"AmiriQuran\", sans-serif;\n",
       "    font-size: large;\n",
       "    direction: rtl ! important;\n",
       "    unicode-bidi: embed;\n",
       "}\n",
       "/* cuneiform */\n",
       ".txtu.akk,.lex.akk {\n",
       "    font-family: Santakku, sans-serif;\n",
       "    font-size: large;\n",
       "    direction: ltr ! important;\n",
       "    unicode-bidi: embed;\n",
       "}\n",
       "/* greek */\n",
       ".txtu.grc,.lex.grc a:link {\n",
       "    font-family: Gentium, sans-serif;\n",
       "    font-size: medium;\n",
       "    direction: ltr ! important;\n",
       "    unicode-bidi: embed;\n",
       "}\n",
       "a:hover {\n",
       "    text-decoration: underline | important;\n",
       "    color: #0000ff | important;\n",
       "}\n",
       ".ltr {\n",
       "    direction: ltr ! important;\n",
       "    unicode-bidi: embed;\n",
       "}\n",
       ".rtl {\n",
       "    direction: rtl ! important;\n",
       "    unicode-bidi: embed;\n",
       "}\n",
       ".ubd {\n",
       "    unicode-bidi: embed;\n",
       "}\n",
       ".col {\n",
       "   display: inline-block;\n",
       "}\n",
       ".features {\n",
       "    font-family: monospace;\n",
       "    font-size: medium;\n",
       "    font-weight: bold;\n",
       "    color: var(--features);\n",
       "    display: flex;\n",
       "    flex-flow: column nowrap;\n",
       "    justify-content: flex-start;\n",
       "    align-items: flex-start;\n",
       "    align-content: flex-start;\n",
       "    padding: 2px;\n",
       "    margin: 2px;\n",
       "    direction: ltr;\n",
       "    unicode-bidi: embed;\n",
       "    border: var(--meta-width) solid var(--meta-color);\n",
       "    border-radius: var(--meta-width);\n",
       "}\n",
       ".features div,.features span {\n",
       "    padding: 0;\n",
       "    margin: -2px 0;\n",
       "}\n",
       ".features .f {\n",
       "    font-family: sans-serif;\n",
       "    font-size: small;\n",
       "    font-weight: normal;\n",
       "    color: #5555bb;\n",
       "}\n",
       ".features .xft {\n",
       "  color: #000000;\n",
       "  background-color: #eeeeee;\n",
       "  font-size: medium;\n",
       "  margin: 2px 0px;\n",
       "}\n",
       ".features .xft .f {\n",
       "  color: #000000;\n",
       "  background-color: #eeeeee;\n",
       "  font-size: small;\n",
       "  font-weight: normal;\n",
       "}\n",
       ".tfsechead {\n",
       "    font-family: sans-serif;\n",
       "    font-size: small;\n",
       "    font-weight: bold;\n",
       "    color: var(--tfsechead);\n",
       "    unicode-bidi: embed;\n",
       "    text-align: start;\n",
       "}\n",
       ".structure {\n",
       "    font-family: sans-serif;\n",
       "    font-size: small;\n",
       "    font-weight: bold;\n",
       "    color: var(--structure);\n",
       "    unicode-bidi: embed;\n",
       "    text-align: start;\n",
       "}\n",
       ".comments {\n",
       "    display: flex;\n",
       "    justify-content: flex-start;\n",
       "    align-items: flex-start;\n",
       "    align-content: flex-start;\n",
       "    flex-flow: column nowrap;\n",
       "}\n",
       ".nd, a:link.nd {\n",
       "    font-family: sans-serif;\n",
       "    font-size: small;\n",
       "    color: var(--node);\n",
       "    vertical-align: super;\n",
       "    direction: ltr ! important;\n",
       "    unicode-bidi: embed;\n",
       "}\n",
       ".lex {\n",
       "  color: var(--lex-color);;\n",
       "}\n",
       ".children,.children.ltr {\n",
       "    display: flex;\n",
       "    border: 0;\n",
       "    background-color: #ffffff;\n",
       "    justify-content: flex-start;\n",
       "    align-items: flex-start;\n",
       "    align-content: flex-start;\n",
       "}\n",
       ".children.stretch {\n",
       "    align-items: stretch;\n",
       "}\n",
       ".children.hor {\n",
       "    flex-flow: row nowrap;\n",
       "}\n",
       ".children.hor.wrap {\n",
       "    flex-flow: row wrap;\n",
       "}\n",
       ".children.ver {\n",
       "    flex-flow: column nowrap;\n",
       "}\n",
       ".children.ver.wrap {\n",
       "    flex-flow: column wrap;\n",
       "}\n",
       ".contnr {\n",
       "    width: fit-content;\n",
       "    display: flex;\n",
       "    justify-content: flex-start;\n",
       "    align-items: flex-start;\n",
       "    align-content: flex-start;\n",
       "    flex-flow: column nowrap;\n",
       "    background: #ffffff none repeat scroll 0 0;\n",
       "    padding:  10px 2px 2px 2px;\n",
       "    margin: 16px 2px 2px 2px;\n",
       "    border-style: solid;\n",
       "    font-size: small;\n",
       "}\n",
       ".contnr.trm {\n",
       "    background-attachment: local;\n",
       "}\n",
       ".contnr.cnul {\n",
       "    padding:  0;\n",
       "    margin: 0;\n",
       "    border-style: solid;\n",
       "    font-size: xx-small;\n",
       "}\n",
       ".contnr.cnul,.lbl.cnul {\n",
       "    border-color: var(--border-color-nul);\n",
       "    border-width: var(--border-width-nul);\n",
       "    border-radius: var(--border-width-nul);\n",
       "}\n",
       ".contnr.c0,.lbl.c0 {\n",
       "    border-color: var(--border-color0);\n",
       "    border-width: var(--border-width0);\n",
       "    border-radius: var(--border-width0);\n",
       "}\n",
       ".contnr.c1,.lbl.c1 {\n",
       "    border-color: var(--border-color1);\n",
       "    border-width: var(--border-width1);\n",
       "    border-radius: var(--border-width1);\n",
       "}\n",
       ".contnr.c2,.lbl.c2 {\n",
       "    border-color: var(--border-color2);\n",
       "    border-width: var(--border-width2);\n",
       "    border-radius: var(--border-width2);\n",
       "}\n",
       ".contnr.c3,.lbl.c3 {\n",
       "    border-color: var(--border-color3);\n",
       "    border-width: var(--border-width3);\n",
       "    border-radius: var(--border-width3);\n",
       "}\n",
       ".contnr.c4,.lbl.c4 {\n",
       "    border-color: var(--border-color4);\n",
       "    border-width: var(--border-width4);\n",
       "    border-radius: var(--border-width4);\n",
       "}\n",
       "span.plain {\n",
       "    /*display: inline-block;*/\n",
       "    display: inline-flex;\n",
       "    flex-flow: row wrap;\n",
       "    white-space: pre-wrap;\n",
       "}\n",
       "span.break {\n",
       "  flex-basis: 100%;\n",
       "  height: 0;\n",
       "}\n",
       ".plain {\n",
       "    background-color: #ffffff;\n",
       "}\n",
       ".plain.l,.contnr.l,.contnr.l>.lbl {\n",
       "    border-left-style: dotted\n",
       "}\n",
       ".plain.r,.contnr.r,.contnr.r>.lbl {\n",
       "    border-right-style: dotted\n",
       "}\n",
       ".plain.lno,.contnr.lno,.contnr.lno>.lbl {\n",
       "    border-left-style: none\n",
       "}\n",
       ".plain.rno,.contnr.rno,.contnr.rno>.lbl {\n",
       "    border-right-style: none\n",
       "}\n",
       ".plain.l {\n",
       "    padding-left: 4px;\n",
       "    margin-left: 2px;\n",
       "    border-width: var(--border-width-plain);\n",
       "}\n",
       ".plain.r {\n",
       "    padding-right: 4px;\n",
       "    margin-right: 2px;\n",
       "    border-width: var(--border-width-plain);\n",
       "}\n",
       ".lbl {\n",
       "    font-family: monospace;\n",
       "    margin-top: -24px;\n",
       "    margin-left: 20px;\n",
       "    background: #ffffff none repeat scroll 0 0;\n",
       "    padding: 0 6px;\n",
       "    border-style: solid;\n",
       "    display: block;\n",
       "    color: var(--label)\n",
       "}\n",
       ".lbl.trm {\n",
       "    background-attachment: local;\n",
       "    margin-top: 2px;\n",
       "    margin-left: 2px;\n",
       "    padding: 2px 2px;\n",
       "    border-style: none;\n",
       "}\n",
       ".lbl.cnul {\n",
       "    font-size: xx-small;\n",
       "}\n",
       ".lbl.c0 {\n",
       "    font-size: small;\n",
       "}\n",
       ".lbl.c1 {\n",
       "    font-size: small;\n",
       "}\n",
       ".lbl.c2 {\n",
       "    font-size: medium;\n",
       "}\n",
       ".lbl.c3 {\n",
       "    font-size: medium;\n",
       "}\n",
       ".lbl.c4 {\n",
       "    font-size: large;\n",
       "}\n",
       ".occs, a:link.occs {\n",
       "    font-size: small;\n",
       "}\n",
       "\n",
       "/* PROVENANCE */\n",
       "\n",
       "div.prov {\n",
       "\tmargin: 40px;\n",
       "\tpadding: 20px;\n",
       "\tborder: 2px solid var(--fog-rim);\n",
       "}\n",
       "div.pline {\n",
       "\tdisplay: flex;\n",
       "\tflex-flow: row nowrap;\n",
       "\tjustify-content: stretch;\n",
       "\talign-items: baseline;\n",
       "}\n",
       "div.p2line {\n",
       "\tmargin-left: 2em;\n",
       "\tdisplay: flex;\n",
       "\tflex-flow: row nowrap;\n",
       "\tjustify-content: stretch;\n",
       "\talign-items: baseline;\n",
       "}\n",
       "div.psline {\n",
       "\tdisplay: flex;\n",
       "\tflex-flow: row nowrap;\n",
       "\tjustify-content: stretch;\n",
       "\talign-items: baseline;\n",
       "\tbackground-color: var(--gold-mist-back);\n",
       "}\n",
       "div.pname {\n",
       "\tflex: 0 0 5rem;\n",
       "\tfont-weight: bold;\n",
       "}\n",
       "div.pval {\n",
       "    flex: 1 1 auto;\n",
       "}\n",
       "\n",
       "/* KEYBOARD */\n",
       ".ccoff {\n",
       "  background-color: inherit;\n",
       "}\n",
       ".ccon {\n",
       "  background-color: yellow ! important;\n",
       "}\n",
       ".ccon,.ccoff {\n",
       "  padding: 0.2rem;\n",
       "  margin: 0.2rem;\n",
       "  border: 0.1rem solid var(--letter-box-border);\n",
       "  border-radius: 0.1rem;\n",
       "}\n",
       ".ccline {\n",
       "  font-size: xx-large ! important;\n",
       "  font-weight: bold;\n",
       "  line-height: 2em ! important;\n",
       "}\n",
       "/* TF header */\n",
       "\n",
       "summary {\n",
       "  /* needed to override the normalize.less\n",
       "   * in the classical jupyter notebook\n",
       "   */\n",
       "  display: list-item ! important;\n",
       "}\n",
       "\n",
       ".fcorpus {\n",
       "  display: flex;\n",
       "  flex-flow: column nowrap;\n",
       "  justify-content: flex-start;\n",
       "  align-items: flex-start;\n",
       "  align-content: flex-start;\n",
       "}\n",
       ".frow {\n",
       "  display: flex;\n",
       "  flex-flow: row nowrap;\n",
       "  justify-content: flex-start;\n",
       "  align-items: flex-start;\n",
       "  align-content: flex-start;\n",
       "}\n",
       ".fmeta {\n",
       "  display: flex;\n",
       "  flex-flow: column nowrap;\n",
       "  justify-content: flex-start;\n",
       "  align-items: flex-start;\n",
       "  align-content: flex-start;\n",
       "}\n",
       ".fmetarow {\n",
       "  display: flex;\n",
       "  flex-flow: row nowrap;\n",
       "  justify-content: flex-start;\n",
       "  align-items: flex-start;\n",
       "  align-content: flex-start;\n",
       "}\n",
       ".fmetakey {\n",
       "  min-width: 8em;\n",
       "  font-family: monospace;\n",
       "}\n",
       ".fnamecat {\n",
       "  min-width: 8em;\n",
       "}\n",
       ".fnamecat.edge {\n",
       "  font-weight: bold;\n",
       "  font-style: italic;\n",
       "}\n",
       ".fmono {\n",
       "    font-family: monospace;\n",
       "}\n",
       "\n",
       ":root {\n",
       "\t--node:               hsla(120, 100%,  20%, 1.0  );\n",
       "\t--label:              hsla(  0, 100%,  20%, 1.0  );\n",
       "\t--tfsechead:          hsla(  0, 100%,  25%, 1.0  );\n",
       "\t--structure:          hsla(120, 100%,  25%, 1.0  );\n",
       "\t--features:           hsla(  0,   0%,  30%, 1.0  );\n",
       "  --text-color:         hsla( 60,  80%,  10%, 1.0  );\n",
       "  --lex-color:          hsla(220,  90%,  60%, 1.0  );\n",
       "  --meta-color:         hsla(  0,   0%,  90%, 0.7  );\n",
       "  --meta-width:         3px;\n",
       "  --border-color-nul:   hsla(  0,   0%,  90%, 0.5  );\n",
       "  --border-color0:      hsla(  0,   0%,  90%, 0.9  );\n",
       "  --border-color1:      hsla(  0,   0%,  80%, 0.9  );\n",
       "  --border-color2:      hsla(  0,   0%,  70%, 0.9  );\n",
       "  --border-color3:      hsla(  0,   0%,  80%, 0.8  );\n",
       "  --border-color4:      hsla(  0,   0%,  60%, 0.9  );\n",
       "\t--letter-box-border:  hsla(  0,   0%,  80%, 0.5  );\n",
       "  --border-width-nul:   2px;\n",
       "  --border-width0:      2px;\n",
       "  --border-width1:      3px;\n",
       "  --border-width2:      4px;\n",
       "  --border-width3:      6px;\n",
       "  --border-width4:      5px;\n",
       "  --border-width-plain: 2px;\n",
       "}\n",
       ".hl {\n",
       "  background-color: var(--hl-strong);\n",
       "}\n",
       "span.hl {\n",
       "\tbackground-color: var(--hl-strong);\n",
       "\tborder-width: 0;\n",
       "\tborder-radius: 2px;\n",
       "\tborder-style: solid;\n",
       "}\n",
       "div.contnr.hl,div.lbl.hl {\n",
       "  background-color: var(--hl-strong);\n",
       "}\n",
       "div.contnr.hl {\n",
       "  border-color: var(--hl-rim) ! important;\n",
       "\tborder-width: 4px ! important;\n",
       "}\n",
       "\n",
       "span.hlbx {\n",
       "\tborder-color: var(--hl-rim);\n",
       "\tborder-width: 4px ! important;\n",
       "\tborder-style: solid;\n",
       "\tborder-radius: 6px;\n",
       "  padding: 4px;\n",
       "  margin: 4px;\n",
       "}\n",
       "\n",
       ":root {\n",
       "\t--hl-strong:        hsla( 60, 100%,  70%, 0.9  );\n",
       "\t--hl-rim:           hsla( 55,  80%,  50%, 1.0  );\n",
       "}\n",
       "</style>"
      ],
      "text/plain": [
       "<IPython.core.display.HTML object>"
      ]
     },
     "metadata": {},
     "output_type": "display_data"
    },
    {
     "data": {
      "text/html": [
       "\n",
       "<script>\n",
       "globalThis.copyChar = (el, c) => {\n",
       "    for (const el of document.getElementsByClassName('ccon')) {\n",
       "        el.className = 'ccoff'\n",
       "    }\n",
       "    el.className = 'ccon'\n",
       "    navigator.clipboard.writeText(String.fromCharCode(c))\n",
       "}\n",
       "</script>\n"
      ],
      "text/plain": [
       "<IPython.core.display.HTML object>"
      ]
     },
     "metadata": {},
     "output_type": "display_data"
    },
    {
     "data": {
      "text/html": [
       "<div><b>Text-Fabric API:</b> names <a target=\"_blank\" href=\"https://annotation.github.io/text-fabric/tf/cheatsheet.html\" title=\"doc\">N F E L T S C TF</a> directly usable</div><hr>"
      ],
      "text/plain": [
       "<IPython.core.display.HTML object>"
      ]
     },
     "metadata": {},
     "output_type": "display_data"
    }
   ],
   "source": [
    "# load the BHSL app and data\n",
    "BHS = use (\"etcbc/BHSA\",hoist=globals())"
   ]
  },
  {
   "cell_type": "markdown",
   "id": "d32502e9-c6ae-45d6-ac6f-e298b4315bde",
   "metadata": {},
   "source": [
    "Note: Thefeature documentation can be found at [ETCBC GitHub](https://github.com/ETCBC/bhsa/blob/master/docs/features/0_home.md) "
   ]
  },
  {
   "cell_type": "code",
   "execution_count": 62,
   "id": "20826b6e-5511-448d-a0da-8abdbd67eb77",
   "metadata": {},
   "outputs": [
    {
     "data": {
      "text/html": [
       "<style>tr.tf.ltr, td.tf.ltr, th.tf.ltr { text-align: left ! important;}\n",
       "tr.tf.rtl, td.tf.rtl, th.tf.rtl { text-align: right ! important;}\n",
       "@font-face {\n",
       "  font-family: \"Gentium Plus\";\n",
       "  src: local('Gentium Plus'), local('GentiumPlus'),\n",
       "    url('/server/static/fonts/GentiumPlus-R.woff') format('woff'),\n",
       "    url('https://github.com/annotation/text-fabric/blob/master/tf/server/static/fonts/GentiumPlus-R.woff?raw=true') format('woff');\n",
       "}\n",
       "\n",
       "@font-face {\n",
       "  font-family: \"Ezra SIL\";\n",
       "  src: local('Ezra SIL'), local('EzraSIL'),\n",
       "    url('/server/static/fonts/SILEOT.woff') format('woff'),\n",
       "    url('https://github.com/annotation/text-fabric/blob/master/tf/server/static/fonts/SILEOT.woff?raw=true') format('woff');\n",
       "}\n",
       "\n",
       "@font-face {\n",
       "  font-family: \"SBL Hebrew\";\n",
       "  src: local('SBL Hebrew'), local('SBLHebrew'),\n",
       "    url('/server/static/fonts/SBL_Hbrw.woff') format('woff'),\n",
       "    url('https://github.com/annotation/text-fabric/blob/master/tf/server/static/fonts/SBL_Hbrw.woff?raw=true') format('woff');\n",
       "}\n",
       "\n",
       "@font-face {\n",
       "  font-family: \"Estrangelo Edessa\";\n",
       "  src: local('Estrangelo Edessa'), local('EstrangeloEdessa');\n",
       "    url('/server/static/fonts/SyrCOMEdessa.woff') format('woff'),\n",
       "    url('https://github.com/annotation/text-fabric/blob/master/tf/server/static/fonts/SyrCOMEdessa.woff?raw=true') format('woff');\n",
       "}\n",
       "\n",
       "@font-face {\n",
       "  font-family: AmiriQuran;\n",
       "  font-style: normal;\n",
       "  font-weight: 400;\n",
       "  src: local('Amiri Quran'), local('AmiriQuran'),\n",
       "    url('/server/static/fonts/AmiriQuran.woff') format('woff'),\n",
       "    url('https://github.com/annotation/text-fabric/blob/master/tf/server/static/fonts/AmiriQuran.woff?raw=true') format('woff');\n",
       "}\n",
       "\n",
       "@font-face {\n",
       "  font-family: AmiriQuranColored;\n",
       "  font-style: normal;\n",
       "  font-weight: 400;\n",
       "  src: local('Amiri Quran Colored'), local('AmiriQuranColored'),\n",
       "    url('/server/static/fonts/AmiriQuranColored.woff') format('woff'),\n",
       "    url('https://github.com/annotation/text-fabric/blob/master/tf/server/static/fonts/AmiriQuranColored.woff?raw=true') format('woff');\n",
       "}\n",
       "\n",
       "@font-face {\n",
       "  font-family: \"Santakku\";\n",
       "  src: local('Santakku'),\n",
       "    url('/server/static/fonts/Santakku.woff') format('woff'),\n",
       "    url('https://github.com/annotation/text-fabric/blob/master/tf/server/static/fonts/Santakku.woff?raw=true') format('woff');\n",
       "}\n",
       "\n",
       "@font-face {\n",
       "  font-family: \"SantakkuM\";\n",
       "  src: local('SantakkuM'),\n",
       "    url('/server/static/fonts/SantakkuM.woff') format('woff'),\n",
       "    url('https://github.com/annotation/text-fabric/blob/master/tf/server/static/fonts/SantakkuM.woff?raw=true') format('woff');\n",
       "}\n",
       "/* bypassing some classical notebook settings */\n",
       "div#notebook {\n",
       "  line-height: unset;\n",
       "}\n",
       "/* neutral text */\n",
       ".txtn,.txtn a:visited,.txtn a:link {\n",
       "    font-family: sans-serif;\n",
       "    font-size: medium;\n",
       "    direction: ltr;\n",
       "    unicode-bidi: embed;\n",
       "    text-decoration: none;\n",
       "    color: var(--text-color);\n",
       "}\n",
       "/* transcription text */\n",
       ".txtt,.txtt a:visited,.txtt a:link {\n",
       "    font-family: monospace;\n",
       "    font-size: medium;\n",
       "    direction: ltr;\n",
       "    unicode-bidi: embed;\n",
       "    text-decoration: none;\n",
       "    color: var(--text-color);\n",
       "}\n",
       "/* source text */\n",
       ".txto,.txto a:visited,.txto a:link {\n",
       "    font-family: serif;\n",
       "    font-size: medium;\n",
       "    direction: ltr;\n",
       "    unicode-bidi: embed;\n",
       "    text-decoration: none;\n",
       "    color: var(--text-color);\n",
       "}\n",
       "/* phonetic text */\n",
       ".txtp,.txtp a:visited,.txtp a:link {\n",
       "    font-family: Gentium, sans-serif;\n",
       "    font-size: medium;\n",
       "    direction: ltr;\n",
       "    unicode-bidi: embed;\n",
       "    text-decoration: none;\n",
       "    color: var(--text-color);\n",
       "}\n",
       "/* original script text */\n",
       ".txtu,.txtu a:visited,.txtu a:link {\n",
       "    font-family: Gentium, sans-serif;\n",
       "    font-size: medium;\n",
       "    text-decoration: none;\n",
       "    color: var(--text-color);\n",
       "}\n",
       "/* hebrew */\n",
       ".txtu.hbo,.lex.hbo {\n",
       "    font-family: \"Ezra SIL\", \"SBL Hebrew\", sans-serif;\n",
       "    font-size: large;\n",
       "    direction: rtl ! important;\n",
       "    unicode-bidi: embed;\n",
       "}\n",
       "/* syriac */\n",
       ".txtu.syc,.lex.syc {\n",
       "    font-family: \"Estrangelo Edessa\", sans-serif;\n",
       "    font-size: medium;\n",
       "    direction: rtl ! important;\n",
       "    unicode-bidi: embed;\n",
       "}\n",
       "/* neo aramaic */\n",
       ".txtu.cld,.lex.cld {\n",
       "    font-family: \"CharisSIL-R\", sans-serif;\n",
       "    font-size: medium;\n",
       "    direction: ltr ! important;\n",
       "    unicode-bidi: embed;\n",
       "}\n",
       "/* standard arabic */\n",
       ".txtu.ara,.lex.ara {\n",
       "    font-family: \"AmiriQuran\", sans-serif;\n",
       "    font-size: large;\n",
       "    direction: rtl ! important;\n",
       "    unicode-bidi: embed;\n",
       "}\n",
       "/* cuneiform */\n",
       ".txtu.akk,.lex.akk {\n",
       "    font-family: Santakku, sans-serif;\n",
       "    font-size: large;\n",
       "    direction: ltr ! important;\n",
       "    unicode-bidi: embed;\n",
       "}\n",
       "/* greek */\n",
       ".txtu.grc,.lex.grc a:link {\n",
       "    font-family: Gentium, sans-serif;\n",
       "    font-size: medium;\n",
       "    direction: ltr ! important;\n",
       "    unicode-bidi: embed;\n",
       "}\n",
       "a:hover {\n",
       "    text-decoration: underline | important;\n",
       "    color: #0000ff | important;\n",
       "}\n",
       ".ltr {\n",
       "    direction: ltr ! important;\n",
       "    unicode-bidi: embed;\n",
       "}\n",
       ".rtl {\n",
       "    direction: rtl ! important;\n",
       "    unicode-bidi: embed;\n",
       "}\n",
       ".ubd {\n",
       "    unicode-bidi: embed;\n",
       "}\n",
       ".col {\n",
       "   display: inline-block;\n",
       "}\n",
       ".features {\n",
       "    font-family: monospace;\n",
       "    font-size: medium;\n",
       "    font-weight: bold;\n",
       "    color: var(--features);\n",
       "    display: flex;\n",
       "    flex-flow: column nowrap;\n",
       "    justify-content: flex-start;\n",
       "    align-items: flex-start;\n",
       "    align-content: flex-start;\n",
       "    padding: 2px;\n",
       "    margin: 2px;\n",
       "    direction: ltr;\n",
       "    unicode-bidi: embed;\n",
       "    border: var(--meta-width) solid var(--meta-color);\n",
       "    border-radius: var(--meta-width);\n",
       "}\n",
       ".features div,.features span {\n",
       "    padding: 0;\n",
       "    margin: -2px 0;\n",
       "}\n",
       ".features .f {\n",
       "    font-family: sans-serif;\n",
       "    font-size: small;\n",
       "    font-weight: normal;\n",
       "    color: #5555bb;\n",
       "}\n",
       ".features .xft {\n",
       "  color: #000000;\n",
       "  background-color: #eeeeee;\n",
       "  font-size: medium;\n",
       "  margin: 2px 0px;\n",
       "}\n",
       ".features .xft .f {\n",
       "  color: #000000;\n",
       "  background-color: #eeeeee;\n",
       "  font-size: small;\n",
       "  font-weight: normal;\n",
       "}\n",
       ".tfsechead {\n",
       "    font-family: sans-serif;\n",
       "    font-size: small;\n",
       "    font-weight: bold;\n",
       "    color: var(--tfsechead);\n",
       "    unicode-bidi: embed;\n",
       "    text-align: start;\n",
       "}\n",
       ".structure {\n",
       "    font-family: sans-serif;\n",
       "    font-size: small;\n",
       "    font-weight: bold;\n",
       "    color: var(--structure);\n",
       "    unicode-bidi: embed;\n",
       "    text-align: start;\n",
       "}\n",
       ".comments {\n",
       "    display: flex;\n",
       "    justify-content: flex-start;\n",
       "    align-items: flex-start;\n",
       "    align-content: flex-start;\n",
       "    flex-flow: column nowrap;\n",
       "}\n",
       ".nd, a:link.nd {\n",
       "    font-family: sans-serif;\n",
       "    font-size: small;\n",
       "    color: var(--node);\n",
       "    vertical-align: super;\n",
       "    direction: ltr ! important;\n",
       "    unicode-bidi: embed;\n",
       "}\n",
       ".lex {\n",
       "  color: var(--lex-color);;\n",
       "}\n",
       ".children,.children.ltr {\n",
       "    display: flex;\n",
       "    border: 0;\n",
       "    background-color: #ffffff;\n",
       "    justify-content: flex-start;\n",
       "    align-items: flex-start;\n",
       "    align-content: flex-start;\n",
       "}\n",
       ".children.stretch {\n",
       "    align-items: stretch;\n",
       "}\n",
       ".children.hor {\n",
       "    flex-flow: row nowrap;\n",
       "}\n",
       ".children.hor.wrap {\n",
       "    flex-flow: row wrap;\n",
       "}\n",
       ".children.ver {\n",
       "    flex-flow: column nowrap;\n",
       "}\n",
       ".children.ver.wrap {\n",
       "    flex-flow: column wrap;\n",
       "}\n",
       ".contnr {\n",
       "    width: fit-content;\n",
       "    display: flex;\n",
       "    justify-content: flex-start;\n",
       "    align-items: flex-start;\n",
       "    align-content: flex-start;\n",
       "    flex-flow: column nowrap;\n",
       "    background: #ffffff none repeat scroll 0 0;\n",
       "    padding:  10px 2px 2px 2px;\n",
       "    margin: 16px 2px 2px 2px;\n",
       "    border-style: solid;\n",
       "    font-size: small;\n",
       "}\n",
       ".contnr.trm {\n",
       "    background-attachment: local;\n",
       "}\n",
       ".contnr.cnul {\n",
       "    padding:  0;\n",
       "    margin: 0;\n",
       "    border-style: solid;\n",
       "    font-size: xx-small;\n",
       "}\n",
       ".contnr.cnul,.lbl.cnul {\n",
       "    border-color: var(--border-color-nul);\n",
       "    border-width: var(--border-width-nul);\n",
       "    border-radius: var(--border-width-nul);\n",
       "}\n",
       ".contnr.c0,.lbl.c0 {\n",
       "    border-color: var(--border-color0);\n",
       "    border-width: var(--border-width0);\n",
       "    border-radius: var(--border-width0);\n",
       "}\n",
       ".contnr.c1,.lbl.c1 {\n",
       "    border-color: var(--border-color1);\n",
       "    border-width: var(--border-width1);\n",
       "    border-radius: var(--border-width1);\n",
       "}\n",
       ".contnr.c2,.lbl.c2 {\n",
       "    border-color: var(--border-color2);\n",
       "    border-width: var(--border-width2);\n",
       "    border-radius: var(--border-width2);\n",
       "}\n",
       ".contnr.c3,.lbl.c3 {\n",
       "    border-color: var(--border-color3);\n",
       "    border-width: var(--border-width3);\n",
       "    border-radius: var(--border-width3);\n",
       "}\n",
       ".contnr.c4,.lbl.c4 {\n",
       "    border-color: var(--border-color4);\n",
       "    border-width: var(--border-width4);\n",
       "    border-radius: var(--border-width4);\n",
       "}\n",
       "span.plain {\n",
       "    /*display: inline-block;*/\n",
       "    display: inline-flex;\n",
       "    flex-flow: row wrap;\n",
       "    white-space: pre-wrap;\n",
       "}\n",
       "span.break {\n",
       "  flex-basis: 100%;\n",
       "  height: 0;\n",
       "}\n",
       ".plain {\n",
       "    background-color: #ffffff;\n",
       "}\n",
       ".plain.l,.contnr.l,.contnr.l>.lbl {\n",
       "    border-left-style: dotted\n",
       "}\n",
       ".plain.r,.contnr.r,.contnr.r>.lbl {\n",
       "    border-right-style: dotted\n",
       "}\n",
       ".plain.lno,.contnr.lno,.contnr.lno>.lbl {\n",
       "    border-left-style: none\n",
       "}\n",
       ".plain.rno,.contnr.rno,.contnr.rno>.lbl {\n",
       "    border-right-style: none\n",
       "}\n",
       ".plain.l {\n",
       "    padding-left: 4px;\n",
       "    margin-left: 2px;\n",
       "    border-width: var(--border-width-plain);\n",
       "}\n",
       ".plain.r {\n",
       "    padding-right: 4px;\n",
       "    margin-right: 2px;\n",
       "    border-width: var(--border-width-plain);\n",
       "}\n",
       ".lbl {\n",
       "    font-family: monospace;\n",
       "    margin-top: -24px;\n",
       "    margin-left: 20px;\n",
       "    background: #ffffff none repeat scroll 0 0;\n",
       "    padding: 0 6px;\n",
       "    border-style: solid;\n",
       "    display: block;\n",
       "    color: var(--label)\n",
       "}\n",
       ".lbl.trm {\n",
       "    background-attachment: local;\n",
       "    margin-top: 2px;\n",
       "    margin-left: 2px;\n",
       "    padding: 2px 2px;\n",
       "    border-style: none;\n",
       "}\n",
       ".lbl.cnul {\n",
       "    font-size: xx-small;\n",
       "}\n",
       ".lbl.c0 {\n",
       "    font-size: small;\n",
       "}\n",
       ".lbl.c1 {\n",
       "    font-size: small;\n",
       "}\n",
       ".lbl.c2 {\n",
       "    font-size: medium;\n",
       "}\n",
       ".lbl.c3 {\n",
       "    font-size: medium;\n",
       "}\n",
       ".lbl.c4 {\n",
       "    font-size: large;\n",
       "}\n",
       ".occs, a:link.occs {\n",
       "    font-size: small;\n",
       "}\n",
       "\n",
       "/* PROVENANCE */\n",
       "\n",
       "div.prov {\n",
       "\tmargin: 40px;\n",
       "\tpadding: 20px;\n",
       "\tborder: 2px solid var(--fog-rim);\n",
       "}\n",
       "div.pline {\n",
       "\tdisplay: flex;\n",
       "\tflex-flow: row nowrap;\n",
       "\tjustify-content: stretch;\n",
       "\talign-items: baseline;\n",
       "}\n",
       "div.p2line {\n",
       "\tmargin-left: 2em;\n",
       "\tdisplay: flex;\n",
       "\tflex-flow: row nowrap;\n",
       "\tjustify-content: stretch;\n",
       "\talign-items: baseline;\n",
       "}\n",
       "div.psline {\n",
       "\tdisplay: flex;\n",
       "\tflex-flow: row nowrap;\n",
       "\tjustify-content: stretch;\n",
       "\talign-items: baseline;\n",
       "\tbackground-color: var(--gold-mist-back);\n",
       "}\n",
       "div.pname {\n",
       "\tflex: 0 0 5rem;\n",
       "\tfont-weight: bold;\n",
       "}\n",
       "div.pval {\n",
       "    flex: 1 1 auto;\n",
       "}\n",
       "\n",
       "/* KEYBOARD */\n",
       ".ccoff {\n",
       "  background-color: inherit;\n",
       "}\n",
       ".ccon {\n",
       "  background-color: yellow ! important;\n",
       "}\n",
       ".ccon,.ccoff {\n",
       "  padding: 0.2rem;\n",
       "  margin: 0.2rem;\n",
       "  border: 0.1rem solid var(--letter-box-border);\n",
       "  border-radius: 0.1rem;\n",
       "}\n",
       ".ccline {\n",
       "  font-size: xx-large ! important;\n",
       "  font-weight: bold;\n",
       "  line-height: 2em ! important;\n",
       "}\n",
       "/* TF header */\n",
       "\n",
       "summary {\n",
       "  /* needed to override the normalize.less\n",
       "   * in the classical jupyter notebook\n",
       "   */\n",
       "  display: list-item ! important;\n",
       "}\n",
       "\n",
       ".fcorpus {\n",
       "  display: flex;\n",
       "  flex-flow: column nowrap;\n",
       "  justify-content: flex-start;\n",
       "  align-items: flex-start;\n",
       "  align-content: flex-start;\n",
       "}\n",
       ".frow {\n",
       "  display: flex;\n",
       "  flex-flow: row nowrap;\n",
       "  justify-content: flex-start;\n",
       "  align-items: flex-start;\n",
       "  align-content: flex-start;\n",
       "}\n",
       ".fmeta {\n",
       "  display: flex;\n",
       "  flex-flow: column nowrap;\n",
       "  justify-content: flex-start;\n",
       "  align-items: flex-start;\n",
       "  align-content: flex-start;\n",
       "}\n",
       ".fmetarow {\n",
       "  display: flex;\n",
       "  flex-flow: row nowrap;\n",
       "  justify-content: flex-start;\n",
       "  align-items: flex-start;\n",
       "  align-content: flex-start;\n",
       "}\n",
       ".fmetakey {\n",
       "  min-width: 8em;\n",
       "  font-family: monospace;\n",
       "}\n",
       ".fnamecat {\n",
       "  min-width: 8em;\n",
       "}\n",
       ".fnamecat.edge {\n",
       "  font-weight: bold;\n",
       "  font-style: italic;\n",
       "}\n",
       ".fmono {\n",
       "    font-family: monospace;\n",
       "}\n",
       "\n",
       ":root {\n",
       "\t--node:               hsla(120, 100%,  20%, 1.0  );\n",
       "\t--label:              hsla(  0, 100%,  20%, 1.0  );\n",
       "\t--tfsechead:          hsla(  0, 100%,  25%, 1.0  );\n",
       "\t--structure:          hsla(120, 100%,  25%, 1.0  );\n",
       "\t--features:           hsla(  0,   0%,  30%, 1.0  );\n",
       "  --text-color:         hsla( 60,  80%,  10%, 1.0  );\n",
       "  --lex-color:          hsla(220,  90%,  60%, 1.0  );\n",
       "  --meta-color:         hsla(  0,   0%,  90%, 0.7  );\n",
       "  --meta-width:         3px;\n",
       "  --border-color-nul:   hsla(  0,   0%,  90%, 0.5  );\n",
       "  --border-color0:      hsla(  0,   0%,  90%, 0.9  );\n",
       "  --border-color1:      hsla(  0,   0%,  80%, 0.9  );\n",
       "  --border-color2:      hsla(  0,   0%,  70%, 0.9  );\n",
       "  --border-color3:      hsla(  0,   0%,  80%, 0.8  );\n",
       "  --border-color4:      hsla(  0,   0%,  60%, 0.9  );\n",
       "\t--letter-box-border:  hsla(  0,   0%,  80%, 0.5  );\n",
       "  --border-width-nul:   2px;\n",
       "  --border-width0:      2px;\n",
       "  --border-width1:      3px;\n",
       "  --border-width2:      4px;\n",
       "  --border-width3:      6px;\n",
       "  --border-width4:      5px;\n",
       "  --border-width-plain: 2px;\n",
       "}\n",
       ".hl {\n",
       "  background-color: var(--hl-strong);\n",
       "}\n",
       "span.hl {\n",
       "\tbackground-color: var(--hl-strong);\n",
       "\tborder-width: 0;\n",
       "\tborder-radius: 2px;\n",
       "\tborder-style: solid;\n",
       "}\n",
       "div.contnr.hl,div.lbl.hl {\n",
       "  background-color: var(--hl-strong);\n",
       "}\n",
       "div.contnr.hl {\n",
       "  border-color: var(--hl-rim) ! important;\n",
       "\tborder-width: 4px ! important;\n",
       "}\n",
       "\n",
       "span.hlbx {\n",
       "\tborder-color: var(--hl-rim);\n",
       "\tborder-width: 4px ! important;\n",
       "\tborder-style: solid;\n",
       "\tborder-radius: 6px;\n",
       "  padding: 4px;\n",
       "  margin: 4px;\n",
       "}\n",
       "\n",
       ":root {\n",
       "\t--hl-strong:        hsla( 60, 100%,  70%, 0.9  );\n",
       "\t--hl-rim:           hsla( 55,  80%,  50%, 1.0  );\n",
       "}\n",
       "</style>"
      ],
      "text/plain": [
       "<IPython.core.display.HTML object>"
      ]
     },
     "metadata": {},
     "output_type": "display_data"
    }
   ],
   "source": [
    "# The following will push the Text-Fabric stylesheet to this notebook (to facilitate proper display with notebook viewer)\n",
    "BHS.dh(BHS.getCss())"
   ]
  },
  {
   "cell_type": "markdown",
   "id": "947d7fd8-20c9-4b82-8b37-45ca74d18ef4",
   "metadata": {},
   "source": [
    "# 3 - Performing the queries <a class=\"anchor\" id=\"bullet3\"></a>\n",
    "##### [Back to TOC](#TOC)"
   ]
  },
  {
   "cell_type": "markdown",
   "id": "1ac06c2b-91bc-47a9-9ac8-1c574ce9473e",
   "metadata": {},
   "source": [
    "The feature uses will be 'number'. This starts with 1. The manner of numbering objects differs per object type. The following are of interest for this research:\n",
    "\n",
    "type | numbering\n",
    "--- | ---\n",
    "phrase_atom | within the book\n",
    "clause_atom | within the book\n",
    "sentence_atom | within the book\n",
    "word | within the book\n",
    "\n",
    "Note: Full feature documentation is found [here](https://github.com/ETCBC/bhsa/blob/master/docs/features/number.md)"
   ]
  },
  {
   "cell_type": "markdown",
   "id": "7d01484d-1d68-4f5c-8648-e02bbf74ee14",
   "metadata": {},
   "source": [
    "**Warning: the impact of borderconditions still needs to be sorted out here. ALso still need to investigate why result 0 returns last word of Deuteronomy 34:12 (i.e. the last entry of the results). Hence, the results below are provisional.**"
   ]
  },
  {
   "cell_type": "markdown",
   "id": "20281c1d-d6d1-4dab-8449-671066918263",
   "metadata": {},
   "source": [
    "## 3.1 - Center word <a class=\"anchor\" id=\"bullet3x1\"></a>\n",
    "##### [Back to TOC](#TOC)"
   ]
  },
  {
   "cell_type": "code",
   "execution_count": 78,
   "id": "45f0cfbf-86e9-47c4-89be-3b31a1b6b85f",
   "metadata": {},
   "outputs": [
    {
     "name": "stdout",
     "output_type": "stream",
     "text": [
      "  0.46s 112927 results\n"
     ]
    }
   ],
   "source": [
    "# number of words in Torah (WARNING: as per ETCBC definition!) \n",
    "WordQuery = '''\n",
    "book book=Genesis|Exodus|Leviticus|Numeri|Deuteronomium\n",
    "  word \n",
    "'''\n",
    "\n",
    "WordResults = BHS.search(WordQuery)"
   ]
  },
  {
   "cell_type": "code",
   "execution_count": 54,
   "id": "7504d521-55bb-412f-a26b-a761ff33ab74",
   "metadata": {},
   "outputs": [
    {
     "data": {
      "text/plain": [
       "(1, 426590)"
      ]
     },
     "execution_count": 54,
     "metadata": {},
     "output_type": "execute_result"
    }
   ],
   "source": [
    "F.otype.sInterval('word')"
   ]
  },
  {
   "cell_type": "code",
   "execution_count": 55,
   "id": "1c903e0c-946d-438e-92e3-d42d33419d62",
   "metadata": {},
   "outputs": [
    {
     "data": {
      "text/plain": [
       "('Leviticus', 8, 21)"
      ]
     },
     "execution_count": 55,
     "metadata": {},
     "output_type": "execute_result"
    }
   ],
   "source": [
    "# start + delta: 1 + int(112927/2) = 1 + 56463 = 56464\n",
    "T.sectionFromNode(56464)"
   ]
  },
  {
   "cell_type": "code",
   "execution_count": 56,
   "id": "8bbe56f8-8640-41ab-99d5-7a755fd9a185",
   "metadata": {},
   "outputs": [
    {
     "data": {
      "text/plain": [
       "'בַּ'"
      ]
     },
     "execution_count": 56,
     "metadata": {},
     "output_type": "execute_result"
    }
   ],
   "source": [
    "T.text(56464)"
   ]
  },
  {
   "cell_type": "code",
   "execution_count": 80,
   "id": "9c16893f-9d60-40ba-860c-6560e2e6c9df",
   "metadata": {},
   "outputs": [
    {
     "data": {
      "text/html": [
       "<p><b>result</b> <i>56463</i>"
      ],
      "text/plain": [
       "<IPython.core.display.HTML object>"
      ]
     },
     "metadata": {},
     "output_type": "display_data"
    },
    {
     "data": {
      "text/html": [
       "<div class=\"tfsechead rtl\"><span class=\"ltr\"><a target=\"_blank\" href=\"https://shebanq.ancient-data.org/hebrew/text?book=Leviticus&amp;chapter=1&amp;verse=1&amp;version=2021&amp;mr=m&amp;qw=q&amp;tp=txt_p&amp;tr=hb&amp;wget=v&amp;qget=v&amp;nget=vt\" title=\"Show this on SHEBANQ\" sec=\"Leviticus\">Leviticus</a></span></div><div class=\"rtl children\"><div class=\"contnr c4 trm rtl  \" ><div class=\"lbl c4 trm \" ><span class=\"nd\">book </span> <span class=\"txtu hbo\"><span class=\"tfsechead rtl\"><span class=\"ltr\">Leviticus</span></span></span></div><div class=\"features\"><span class=\"book xft\" ><span class=\"f\">book=</span>Leviticus</span><span class=\"book@am xft\" ><span class=\"f\">book@am=</span>ኦሪት_ዘሌዋውያን</span><span class=\"book@ar xft\" ><span class=\"f\">book@ar=</span>لاويين</span><span class=\"book@bn xft\" ><span class=\"f\">book@bn=</span>লেবীয়_পুস্তক</span><span class=\"book@da xft\" ><span class=\"f\">book@da=</span>3.Mosebog</span><span class=\"book@de xft\" ><span class=\"f\">book@de=</span>Levitikus</span><span class=\"book@el xft\" ><span class=\"f\">book@el=</span>Λευιτικό</span><span class=\"book@en xft\" ><span class=\"f\">book@en=</span>Leviticus</span><span class=\"book@es xft\" ><span class=\"f\">book@es=</span>Levítico</span><span class=\"book@fa xft\" ><span class=\"f\">book@fa=</span>لاويان</span><span class=\"book@fr xft\" ><span class=\"f\">book@fr=</span>Lévitique</span><span class=\"book@he xft\" ><span class=\"f\">book@he=</span>ויקרא</span><span class=\"book@hi xft\" ><span class=\"f\">book@hi=</span>लैव्यव्यवस्थ</span><span class=\"book@id xft\" ><span class=\"f\">book@id=</span>Imamat</span><span class=\"book@ja xft\" ><span class=\"f\">book@ja=</span>レビ記</span><span class=\"book@ko xft\" ><span class=\"f\">book@ko=</span>레위기</span><span class=\"book@la xft\" ><span class=\"f\">book@la=</span>Leviticus</span><span class=\"book@nl xft\" ><span class=\"f\">book@nl=</span>Leviticus</span><span class=\"book@pa xft\" ><span class=\"f\">book@pa=</span>ਲੇਵੀਆਂ_ਦੀ_ਪੋਥੀ</span><span class=\"book@pt xft\" ><span class=\"f\">book@pt=</span>Levítico</span><span class=\"book@ru xft\" ><span class=\"f\">book@ru=</span>Левит</span><span class=\"book@sw xft\" ><span class=\"f\">book@sw=</span>Mambo_ya_Walawi</span><span class=\"book@syc xft\" ><span class=\"f\">book@syc=</span>ܟܗܢ̈ܐ</span><span class=\"book@tr xft\" ><span class=\"f\">book@tr=</span>Levililer</span><span class=\"book@ur xft\" ><span class=\"f\">book@ur=</span>احبار</span><span class=\"book@yo xft\" ><span class=\"f\">book@yo=</span>Lefitiku</span><span class=\"book@zh xft\" ><span class=\"f\">book@zh=</span>利未记</span></div></div></div>"
      ],
      "text/plain": [
       "<IPython.core.display.HTML object>"
      ]
     },
     "metadata": {},
     "output_type": "display_data"
    },
    {
     "data": {
      "text/html": [
       "<div class=\"tfsechead rtl\"><span class=\"ltr\"><a target=\"_blank\" href=\"https://shebanq.ancient-data.org/hebrew/text?book=Leviticus&amp;chapter=8&amp;verse=21&amp;version=2021&amp;mr=m&amp;qw=q&amp;tp=txt_p&amp;tr=hb&amp;wget=v&amp;qget=v&amp;nget=vt\" title=\"Show this on SHEBANQ\" sec=\"Leviticus 8:21\">Leviticus 8:21</a></span></div><div class=\"rtl children\"><div class=\"contnr c3  rtl  \" ><div class=\"lbl c3  \" ><span class=\"nd\">verse </span></div><div class=\"features\"><span class=\"book xft\" ><span class=\"f\">book=</span>Leviticus</span><span class=\"chapter xft\" ><span class=\"f\">chapter=</span>8</span><span class=\"label xft\" ><span class=\"f\">label=</span> LEV 08,21</span><span class=\"verse xft\" ><span class=\"f\">verse=</span>21</span></div><div class=\"children hor wrap rtl\"><div class=\"contnr c2  rtl  \" ><div class=\"lbl c2  \" ><span class=\"nd\">sentence </span> <span class=\"\"><span title=\"number\">48</span></span></div><div class=\"features\"><span class=\"number xft\" ><span class=\"f\">number=</span>48</span></div><div class=\"children hor wrap rtl\"><div class=\"contnr c2  rtl  \" ><div class=\"lbl c2  \" ><span class=\"nd\">clause </span> <span class=\"\"><span title=\"typ\">WxQ0</span> <span title=\"rela\">NA</span></span></div><div class=\"features\"><span class=\"domain xft\" ><span class=\"f\">domain=</span>N</span><span class=\"number xft\" ><span class=\"f\">number=</span>1</span><span class=\"txt xft\" ><span class=\"f\">txt=</span>N</span><span class=\"typ xft\" ><span class=\"f\">typ=</span>WxQ0</span></div><div class=\"children hor wrap rtl\"><div class=\"contnr c1  rtl  \" ><div class=\"lbl c1  \" ><span class=\"nd\">phrase </span> <span class=\"\"><span title=\"typ\">CP</span> <span title=\"function\">Conj</span></span></div><div class=\"features\"><span class=\"function xft\" ><span class=\"f\">function=</span>Conj</span><span class=\"number xft\" ><span class=\"f\">number=</span>1</span><span class=\"typ xft\" ><span class=\"f\">typ=</span>CP</span></div><div class=\"children hor wrap rtl\"><div class=\"contnr c0 trm rtl  \" ><div class=\"lbl c0 trm \" ><a class=\" txtu hbo\" target=\"_blank\" href=\"https://shebanq.ancient-data.org/hebrew/word?version=2021&amp;id=1W\" title=\"Show this on SHEBANQ\"><span class=\"txtu hbo\">וְ</span></a></div><div class=\"features\"><span class=\"gloss \" title=\"gloss\">and</span><span class=\"pdp \" ><span class=\"f\">pdp=</span>conj</span><span class=\"freq_lex xft\" ><span class=\"f\">freq_lex=</span>50272</span><span class=\"g_cons xft\" ><span class=\"f\">g_cons=</span>W</span><span class=\"g_cons_utf8 xft\" ><span class=\"f\">g_cons_utf8=</span>ו</span><span class=\"g_lex xft\" ><span class=\"f\">g_lex=</span>W:-</span><span class=\"g_lex_utf8 xft\" ><span class=\"f\">g_lex_utf8=</span>וְ</span><span class=\"g_word xft\" ><span class=\"f\">g_word=</span>W:-</span><span class=\"g_word_utf8 xft\" ><span class=\"f\">g_word_utf8=</span>וְ</span><span class=\"language xft\" ><span class=\"f\">language=</span>Hebrew</span><span class=\"lex xft\" ><span class=\"f\">lex=</span>W</span><span class=\"lex_utf8 xft\" ><span class=\"f\">lex_utf8=</span>ו</span><span class=\"nme xft\" ><span class=\"f\">nme=</span>n/a</span><span class=\"number xft\" ><span class=\"f\">number=</span>3943</span><span class=\"pfm xft\" ><span class=\"f\">pfm=</span>n/a</span><span class=\"phono xft\" ><span class=\"f\">phono=</span>wᵊ</span><span class=\"phono_trailer xft\" ><span class=\"f\">phono_trailer=</span></span><span class=\"prs xft\" ><span class=\"f\">prs=</span>n/a</span><span class=\"rank_lex xft\" ><span class=\"f\">rank_lex=</span></span><span class=\"sp xft\" ><span class=\"f\">sp=</span>conj</span><span class=\"trailer xft\" ><span class=\"f\">trailer=</span></span><span class=\"trailer_utf8 xft\" ><span class=\"f\">trailer_utf8=</span></span><span class=\"uvf xft\" ><span class=\"f\">uvf=</span>absent</span><span class=\"vbe xft\" ><span class=\"f\">vbe=</span>n/a</span><span class=\"vbs xft\" ><span class=\"f\">vbs=</span>n/a</span><span class=\"voc_lex xft\" ><span class=\"f\">voc_lex=</span>W:</span><span class=\"voc_lex_utf8 xft\" ><span class=\"f\">voc_lex_utf8=</span>וְ</span></div></div></div></div><div class=\"contnr c1  rtl  \" ><div class=\"lbl c1  \" ><span class=\"nd\">phrase </span> <span class=\"\"><span title=\"typ\">PP</span> <span title=\"function\">Objc</span></span></div><div class=\"features\"><span class=\"det xft\" ><span class=\"f\">det=</span>det</span><span class=\"function xft\" ><span class=\"f\">function=</span>Objc</span><span class=\"number xft\" ><span class=\"f\">number=</span>2</span><span class=\"typ xft\" ><span class=\"f\">typ=</span>PP</span></div><div class=\"children hor wrap rtl\"><div class=\"contnr c0 trm rtl  \" ><div class=\"lbl c0 trm \" ><a class=\" txtu hbo\" target=\"_blank\" href=\"https://shebanq.ancient-data.org/hebrew/word?version=2021&amp;id=1AT\" title=\"Show this on SHEBANQ\"><span class=\"txtu hbo\">אֶת־</span></a></div><div class=\"features\"><span class=\"gloss \" title=\"gloss\">&lt;object marker></span><span class=\"pdp \" ><span class=\"f\">pdp=</span>prep</span><span class=\"freq_lex xft\" ><span class=\"f\">freq_lex=</span>10987</span><span class=\"g_cons xft\" ><span class=\"f\">g_cons=</span>>T</span><span class=\"g_cons_utf8 xft\" ><span class=\"f\">g_cons_utf8=</span>את</span><span class=\"g_lex xft\" ><span class=\"f\">g_lex=</span>>ET</span><span class=\"g_lex_utf8 xft\" ><span class=\"f\">g_lex_utf8=</span>אֶת</span><span class=\"g_word xft\" ><span class=\"f\">g_word=</span>>ET</span><span class=\"g_word_utf8 xft\" ><span class=\"f\">g_word_utf8=</span>אֶת</span><span class=\"language xft\" ><span class=\"f\">language=</span>Hebrew</span><span class=\"lex xft\" ><span class=\"f\">lex=</span>>T</span><span class=\"lex_utf8 xft\" ><span class=\"f\">lex_utf8=</span>את</span><span class=\"nme xft\" ><span class=\"f\">nme=</span>n/a</span><span class=\"number xft\" ><span class=\"f\">number=</span>3944</span><span class=\"pfm xft\" ><span class=\"f\">pfm=</span>n/a</span><span class=\"phono xft\" ><span class=\"f\">phono=</span>ʔeṯ-</span><span class=\"phono_trailer xft\" ><span class=\"f\">phono_trailer=</span></span><span class=\"prs xft\" ><span class=\"f\">prs=</span>absent</span><span class=\"rank_lex xft\" ><span class=\"f\">rank_lex=</span>4</span><span class=\"sp xft\" ><span class=\"f\">sp=</span>prep</span><span class=\"trailer xft\" ><span class=\"f\">trailer=</span>&amp;</span><span class=\"trailer_utf8 xft\" ><span class=\"f\">trailer_utf8=</span>־</span><span class=\"uvf xft\" ><span class=\"f\">uvf=</span>absent</span><span class=\"vbe xft\" ><span class=\"f\">vbe=</span>n/a</span><span class=\"vbs xft\" ><span class=\"f\">vbs=</span>n/a</span><span class=\"voc_lex xft\" ><span class=\"f\">voc_lex=</span>>;T</span><span class=\"voc_lex_utf8 xft\" ><span class=\"f\">voc_lex_utf8=</span>אֵת</span></div></div><div class=\"contnr c0 trm rtl  \" ><div class=\"lbl c0 trm \" ><a class=\" txtu hbo\" target=\"_blank\" href=\"https://shebanq.ancient-data.org/hebrew/word?version=2021&amp;id=1H\" title=\"Show this on SHEBANQ\"><span class=\"txtu hbo\">הַ</span></a></div><div class=\"features\"><span class=\"gloss \" title=\"gloss\">the</span><span class=\"pdp \" ><span class=\"f\">pdp=</span>art</span><span class=\"freq_lex xft\" ><span class=\"f\">freq_lex=</span>30386</span><span class=\"g_cons xft\" ><span class=\"f\">g_cons=</span>H</span><span class=\"g_cons_utf8 xft\" ><span class=\"f\">g_cons_utf8=</span>ה</span><span class=\"g_lex xft\" ><span class=\"f\">g_lex=</span>HA-</span><span class=\"g_lex_utf8 xft\" ><span class=\"f\">g_lex_utf8=</span>הַ</span><span class=\"g_word xft\" ><span class=\"f\">g_word=</span>HA-</span><span class=\"g_word_utf8 xft\" ><span class=\"f\">g_word_utf8=</span>הַ</span><span class=\"language xft\" ><span class=\"f\">language=</span>Hebrew</span><span class=\"lex xft\" ><span class=\"f\">lex=</span>H</span><span class=\"lex_utf8 xft\" ><span class=\"f\">lex_utf8=</span>ה</span><span class=\"nme xft\" ><span class=\"f\">nme=</span>n/a</span><span class=\"number xft\" ><span class=\"f\">number=</span>3945</span><span class=\"pfm xft\" ><span class=\"f\">pfm=</span>n/a</span><span class=\"phono xft\" ><span class=\"f\">phono=</span>ha</span><span class=\"phono_trailer xft\" ><span class=\"f\">phono_trailer=</span></span><span class=\"prs xft\" ><span class=\"f\">prs=</span>n/a</span><span class=\"rank_lex xft\" ><span class=\"f\">rank_lex=</span>1</span><span class=\"sp xft\" ><span class=\"f\">sp=</span>art</span><span class=\"trailer xft\" ><span class=\"f\">trailer=</span></span><span class=\"trailer_utf8 xft\" ><span class=\"f\">trailer_utf8=</span></span><span class=\"uvf xft\" ><span class=\"f\">uvf=</span>absent</span><span class=\"vbe xft\" ><span class=\"f\">vbe=</span>n/a</span><span class=\"vbs xft\" ><span class=\"f\">vbs=</span>n/a</span><span class=\"voc_lex xft\" ><span class=\"f\">voc_lex=</span>HA</span><span class=\"voc_lex_utf8 xft\" ><span class=\"f\">voc_lex_utf8=</span>הַ</span></div></div><div class=\"contnr c0 trm rtl  \" ><div class=\"lbl c0 trm \" ><a class=\" txtu hbo\" target=\"_blank\" href=\"https://shebanq.ancient-data.org/hebrew/word?version=2021&amp;id=1QRBn\" title=\"Show this on SHEBANQ\"><span class=\"txtu hbo\">קֶּ֥רֶב </span></a></div><div class=\"features\"><span class=\"gloss \" title=\"gloss\">interior</span><span class=\"pdp \" ><span class=\"f\">pdp=</span>subs</span><span class=\"freq_lex xft\" ><span class=\"f\">freq_lex=</span>227</span><span class=\"g_cons xft\" ><span class=\"f\">g_cons=</span>QRB</span><span class=\"g_cons_utf8 xft\" ><span class=\"f\">g_cons_utf8=</span>קרב</span><span class=\"g_lex xft\" ><span class=\"f\">g_lex=</span>Q.EREB</span><span class=\"g_lex_utf8 xft\" ><span class=\"f\">g_lex_utf8=</span>קֶּרֶב</span><span class=\"g_word xft\" ><span class=\"f\">g_word=</span>Q.E71REB</span><span class=\"g_word_utf8 xft\" ><span class=\"f\">g_word_utf8=</span>קֶּ֥רֶב</span><span class=\"gn xft\" ><span class=\"f\">gn=</span>m</span><span class=\"language xft\" ><span class=\"f\">language=</span>Hebrew</span><span class=\"lex xft\" ><span class=\"f\">lex=</span>QRB/</span><span class=\"lex_utf8 xft\" ><span class=\"f\">lex_utf8=</span>קרב</span><span class=\"nme xft\" ><span class=\"f\">nme=</span></span><span class=\"nu xft\" ><span class=\"f\">nu=</span>sg</span><span class=\"number xft\" ><span class=\"f\">number=</span>3946</span><span class=\"pfm xft\" ><span class=\"f\">pfm=</span>n/a</span><span class=\"phono xft\" ><span class=\"f\">phono=</span>qqˌerev</span><span class=\"phono_trailer xft\" ><span class=\"f\">phono_trailer=</span> </span><span class=\"prs xft\" ><span class=\"f\">prs=</span>absent</span><span class=\"rank_lex xft\" ><span class=\"f\">rank_lex=</span>210</span><span class=\"sp xft\" ><span class=\"f\">sp=</span>subs</span><span class=\"st xft\" ><span class=\"f\">st=</span>a</span><span class=\"trailer xft\" ><span class=\"f\">trailer=</span> </span><span class=\"trailer_utf8 xft\" ><span class=\"f\">trailer_utf8=</span> </span><span class=\"uvf xft\" ><span class=\"f\">uvf=</span>absent</span><span class=\"vbe xft\" ><span class=\"f\">vbe=</span>n/a</span><span class=\"vbs xft\" ><span class=\"f\">vbs=</span>n/a</span><span class=\"voc_lex xft\" ><span class=\"f\">voc_lex=</span>QEREB</span><span class=\"voc_lex_utf8 xft\" ><span class=\"f\">voc_lex_utf8=</span>קֶרֶב</span></div></div><div class=\"contnr c0 trm rtl  \" ><div class=\"lbl c0 trm \" ><a class=\" txtu hbo\" target=\"_blank\" href=\"https://shebanq.ancient-data.org/hebrew/word?version=2021&amp;id=1W\" title=\"Show this on SHEBANQ\"><span class=\"txtu hbo\">וְ</span></a></div><div class=\"features\"><span class=\"gloss \" title=\"gloss\">and</span><span class=\"pdp \" ><span class=\"f\">pdp=</span>conj</span><span class=\"freq_lex xft\" ><span class=\"f\">freq_lex=</span>50272</span><span class=\"g_cons xft\" ><span class=\"f\">g_cons=</span>W</span><span class=\"g_cons_utf8 xft\" ><span class=\"f\">g_cons_utf8=</span>ו</span><span class=\"g_lex xft\" ><span class=\"f\">g_lex=</span>W:-</span><span class=\"g_lex_utf8 xft\" ><span class=\"f\">g_lex_utf8=</span>וְ</span><span class=\"g_word xft\" ><span class=\"f\">g_word=</span>W:-</span><span class=\"g_word_utf8 xft\" ><span class=\"f\">g_word_utf8=</span>וְ</span><span class=\"language xft\" ><span class=\"f\">language=</span>Hebrew</span><span class=\"lex xft\" ><span class=\"f\">lex=</span>W</span><span class=\"lex_utf8 xft\" ><span class=\"f\">lex_utf8=</span>ו</span><span class=\"nme xft\" ><span class=\"f\">nme=</span>n/a</span><span class=\"number xft\" ><span class=\"f\">number=</span>3947</span><span class=\"pfm xft\" ><span class=\"f\">pfm=</span>n/a</span><span class=\"phono xft\" ><span class=\"f\">phono=</span>wᵊ</span><span class=\"phono_trailer xft\" ><span class=\"f\">phono_trailer=</span></span><span class=\"prs xft\" ><span class=\"f\">prs=</span>n/a</span><span class=\"rank_lex xft\" ><span class=\"f\">rank_lex=</span></span><span class=\"sp xft\" ><span class=\"f\">sp=</span>conj</span><span class=\"trailer xft\" ><span class=\"f\">trailer=</span></span><span class=\"trailer_utf8 xft\" ><span class=\"f\">trailer_utf8=</span></span><span class=\"uvf xft\" ><span class=\"f\">uvf=</span>absent</span><span class=\"vbe xft\" ><span class=\"f\">vbe=</span>n/a</span><span class=\"vbs xft\" ><span class=\"f\">vbs=</span>n/a</span><span class=\"voc_lex xft\" ><span class=\"f\">voc_lex=</span>W:</span><span class=\"voc_lex_utf8 xft\" ><span class=\"f\">voc_lex_utf8=</span>וְ</span></div></div><div class=\"contnr c0 trm rtl  \" ><div class=\"lbl c0 trm \" ><a class=\" txtu hbo\" target=\"_blank\" href=\"https://shebanq.ancient-data.org/hebrew/word?version=2021&amp;id=1AT\" title=\"Show this on SHEBANQ\"><span class=\"txtu hbo\">אֶת־</span></a></div><div class=\"features\"><span class=\"gloss \" title=\"gloss\">&lt;object marker></span><span class=\"pdp \" ><span class=\"f\">pdp=</span>prep</span><span class=\"freq_lex xft\" ><span class=\"f\">freq_lex=</span>10987</span><span class=\"g_cons xft\" ><span class=\"f\">g_cons=</span>>T</span><span class=\"g_cons_utf8 xft\" ><span class=\"f\">g_cons_utf8=</span>את</span><span class=\"g_lex xft\" ><span class=\"f\">g_lex=</span>>ET</span><span class=\"g_lex_utf8 xft\" ><span class=\"f\">g_lex_utf8=</span>אֶת</span><span class=\"g_word xft\" ><span class=\"f\">g_word=</span>>ET</span><span class=\"g_word_utf8 xft\" ><span class=\"f\">g_word_utf8=</span>אֶת</span><span class=\"language xft\" ><span class=\"f\">language=</span>Hebrew</span><span class=\"lex xft\" ><span class=\"f\">lex=</span>>T</span><span class=\"lex_utf8 xft\" ><span class=\"f\">lex_utf8=</span>את</span><span class=\"nme xft\" ><span class=\"f\">nme=</span>n/a</span><span class=\"number xft\" ><span class=\"f\">number=</span>3948</span><span class=\"pfm xft\" ><span class=\"f\">pfm=</span>n/a</span><span class=\"phono xft\" ><span class=\"f\">phono=</span>ʔeṯ-</span><span class=\"phono_trailer xft\" ><span class=\"f\">phono_trailer=</span></span><span class=\"prs xft\" ><span class=\"f\">prs=</span>absent</span><span class=\"rank_lex xft\" ><span class=\"f\">rank_lex=</span>4</span><span class=\"sp xft\" ><span class=\"f\">sp=</span>prep</span><span class=\"trailer xft\" ><span class=\"f\">trailer=</span>&amp;</span><span class=\"trailer_utf8 xft\" ><span class=\"f\">trailer_utf8=</span>־</span><span class=\"uvf xft\" ><span class=\"f\">uvf=</span>absent</span><span class=\"vbe xft\" ><span class=\"f\">vbe=</span>n/a</span><span class=\"vbs xft\" ><span class=\"f\">vbs=</span>n/a</span><span class=\"voc_lex xft\" ><span class=\"f\">voc_lex=</span>>;T</span><span class=\"voc_lex_utf8 xft\" ><span class=\"f\">voc_lex_utf8=</span>אֵת</span></div></div><div class=\"contnr c0 trm rtl  \" ><div class=\"lbl c0 trm \" ><a class=\" txtu hbo\" target=\"_blank\" href=\"https://shebanq.ancient-data.org/hebrew/word?version=2021&amp;id=1H\" title=\"Show this on SHEBANQ\"><span class=\"txtu hbo\">הַ</span></a></div><div class=\"features\"><span class=\"gloss \" title=\"gloss\">the</span><span class=\"pdp \" ><span class=\"f\">pdp=</span>art</span><span class=\"freq_lex xft\" ><span class=\"f\">freq_lex=</span>30386</span><span class=\"g_cons xft\" ><span class=\"f\">g_cons=</span>H</span><span class=\"g_cons_utf8 xft\" ><span class=\"f\">g_cons_utf8=</span>ה</span><span class=\"g_lex xft\" ><span class=\"f\">g_lex=</span>HA-</span><span class=\"g_lex_utf8 xft\" ><span class=\"f\">g_lex_utf8=</span>הַ</span><span class=\"g_word xft\" ><span class=\"f\">g_word=</span>HA-</span><span class=\"g_word_utf8 xft\" ><span class=\"f\">g_word_utf8=</span>הַ</span><span class=\"language xft\" ><span class=\"f\">language=</span>Hebrew</span><span class=\"lex xft\" ><span class=\"f\">lex=</span>H</span><span class=\"lex_utf8 xft\" ><span class=\"f\">lex_utf8=</span>ה</span><span class=\"nme xft\" ><span class=\"f\">nme=</span>n/a</span><span class=\"number xft\" ><span class=\"f\">number=</span>3949</span><span class=\"pfm xft\" ><span class=\"f\">pfm=</span>n/a</span><span class=\"phono xft\" ><span class=\"f\">phono=</span>ha</span><span class=\"phono_trailer xft\" ><span class=\"f\">phono_trailer=</span></span><span class=\"prs xft\" ><span class=\"f\">prs=</span>n/a</span><span class=\"rank_lex xft\" ><span class=\"f\">rank_lex=</span>1</span><span class=\"sp xft\" ><span class=\"f\">sp=</span>art</span><span class=\"trailer xft\" ><span class=\"f\">trailer=</span></span><span class=\"trailer_utf8 xft\" ><span class=\"f\">trailer_utf8=</span></span><span class=\"uvf xft\" ><span class=\"f\">uvf=</span>absent</span><span class=\"vbe xft\" ><span class=\"f\">vbe=</span>n/a</span><span class=\"vbs xft\" ><span class=\"f\">vbs=</span>n/a</span><span class=\"voc_lex xft\" ><span class=\"f\">voc_lex=</span>HA</span><span class=\"voc_lex_utf8 xft\" ><span class=\"f\">voc_lex_utf8=</span>הַ</span></div></div><div class=\"contnr c0 trm rtl  \" ><div class=\"lbl c0 trm \" ><a class=\" txtu hbo\" target=\"_blank\" href=\"https://shebanq.ancient-data.org/hebrew/word?version=2021&amp;id=1KROJMn\" title=\"Show this on SHEBANQ\"><span class=\"txtu hbo\">כְּרָעַ֖יִם </span></a></div><div class=\"features\"><span class=\"gloss \" title=\"gloss\">shank</span><span class=\"pdp \" ><span class=\"f\">pdp=</span>subs</span><span class=\"freq_lex xft\" ><span class=\"f\">freq_lex=</span>9</span><span class=\"g_cons xft\" ><span class=\"f\">g_cons=</span>KR&lt;JM</span><span class=\"g_cons_utf8 xft\" ><span class=\"f\">g_cons_utf8=</span>כרעים</span><span class=\"g_lex xft\" ><span class=\"f\">g_lex=</span>K.:R@&lt;</span><span class=\"g_lex_utf8 xft\" ><span class=\"f\">g_lex_utf8=</span>כְּרָע</span><span class=\"g_word xft\" ><span class=\"f\">g_word=</span>K.:R@&lt;A73JIM</span><span class=\"g_word_utf8 xft\" ><span class=\"f\">g_word_utf8=</span>כְּרָעַ֖יִם</span><span class=\"gn xft\" ><span class=\"f\">gn=</span>f</span><span class=\"language xft\" ><span class=\"f\">language=</span>Hebrew</span><span class=\"lex xft\" ><span class=\"f\">lex=</span>KR&lt;JM/</span><span class=\"lex_utf8 xft\" ><span class=\"f\">lex_utf8=</span>כרעים</span><span class=\"nme xft\" ><span class=\"f\">nme=</span>JM=</span><span class=\"nu xft\" ><span class=\"f\">nu=</span>du</span><span class=\"number xft\" ><span class=\"f\">number=</span>3950</span><span class=\"pfm xft\" ><span class=\"f\">pfm=</span>n/a</span><span class=\"phono xft\" ><span class=\"f\">phono=</span>kkᵊrāʕˌayim</span><span class=\"phono_trailer xft\" ><span class=\"f\">phono_trailer=</span> </span><span class=\"prs xft\" ><span class=\"f\">prs=</span>absent</span><span class=\"rank_lex xft\" ><span class=\"f\">rank_lex=</span>2331</span><span class=\"sp xft\" ><span class=\"f\">sp=</span>subs</span><span class=\"st xft\" ><span class=\"f\">st=</span>a</span><span class=\"trailer xft\" ><span class=\"f\">trailer=</span> </span><span class=\"trailer_utf8 xft\" ><span class=\"f\">trailer_utf8=</span> </span><span class=\"uvf xft\" ><span class=\"f\">uvf=</span>absent</span><span class=\"vbe xft\" ><span class=\"f\">vbe=</span>n/a</span><span class=\"vbs xft\" ><span class=\"f\">vbs=</span>n/a</span><span class=\"voc_lex xft\" ><span class=\"f\">voc_lex=</span>K.:R@&lt;AJIM</span><span class=\"voc_lex_utf8 xft\" ><span class=\"f\">voc_lex_utf8=</span>כְּרָעַיִם</span></div></div></div></div><div class=\"contnr c1  rtl  \" ><div class=\"lbl c1  \" ><span class=\"nd\">phrase </span> <span class=\"\"><span title=\"typ\">VP</span> <span title=\"function\">Pred</span></span></div><div class=\"features\"><span class=\"function xft\" ><span class=\"f\">function=</span>Pred</span><span class=\"number xft\" ><span class=\"f\">number=</span>3</span><span class=\"typ xft\" ><span class=\"f\">typ=</span>VP</span></div><div class=\"children hor wrap rtl\"><div class=\"contnr c0 trm rtl  hl\" ><div class=\"lbl c0 trm hl\" ><a class=\" txtu hbo\" target=\"_blank\" href=\"https://shebanq.ancient-data.org/hebrew/word?version=2021&amp;id=1RXYv\" title=\"Show this on SHEBANQ\"><span class=\"txtu hbo\">רָחַ֣ץ </span></a></div><div class=\"features\"><span class=\"gloss \" title=\"gloss\">wash</span><span class=\"pdp \" ><span class=\"f\">pdp=</span>verb</span><span class=\"vs \" ><span class=\"f\">vs=</span>qal</span><span class=\"vt \" ><span class=\"f\">vt=</span>perf</span><span class=\"freq_lex xft\" ><span class=\"f\">freq_lex=</span>72</span><span class=\"g_cons xft\" ><span class=\"f\">g_cons=</span>RXY</span><span class=\"g_cons_utf8 xft\" ><span class=\"f\">g_cons_utf8=</span>רחץ</span><span class=\"g_lex xft\" ><span class=\"f\">g_lex=</span>R@XAY</span><span class=\"g_lex_utf8 xft\" ><span class=\"f\">g_lex_utf8=</span>רָחַץ</span><span class=\"g_word xft\" ><span class=\"f\">g_word=</span>R@XA74Y</span><span class=\"g_word_utf8 xft\" ><span class=\"f\">g_word_utf8=</span>רָחַ֣ץ</span><span class=\"gn xft\" ><span class=\"f\">gn=</span>m</span><span class=\"language xft\" ><span class=\"f\">language=</span>Hebrew</span><span class=\"lex xft\" ><span class=\"f\">lex=</span>RXY[</span><span class=\"lex_utf8 xft\" ><span class=\"f\">lex_utf8=</span>רחץ</span><span class=\"nme xft\" ><span class=\"f\">nme=</span>absent</span><span class=\"nu xft\" ><span class=\"f\">nu=</span>sg</span><span class=\"number xft\" ><span class=\"f\">number=</span>3951</span><span class=\"pfm xft\" ><span class=\"f\">pfm=</span>absent</span><span class=\"phono xft\" ><span class=\"f\">phono=</span>rāḥˈaṣ</span><span class=\"phono_trailer xft\" ><span class=\"f\">phono_trailer=</span> </span><span class=\"prs xft\" ><span class=\"f\">prs=</span>absent</span><span class=\"ps xft\" ><span class=\"f\">ps=</span>p3</span><span class=\"rank_lex xft\" ><span class=\"f\">rank_lex=</span>545</span><span class=\"sp xft\" ><span class=\"f\">sp=</span>verb</span><span class=\"trailer xft\" ><span class=\"f\">trailer=</span> </span><span class=\"trailer_utf8 xft\" ><span class=\"f\">trailer_utf8=</span> </span><span class=\"uvf xft\" ><span class=\"f\">uvf=</span>absent</span><span class=\"vbe xft\" ><span class=\"f\">vbe=</span></span><span class=\"vbs xft\" ><span class=\"f\">vbs=</span>absent</span><span class=\"voc_lex xft\" ><span class=\"f\">voc_lex=</span>RXY</span><span class=\"voc_lex_utf8 xft\" ><span class=\"f\">voc_lex_utf8=</span>רחץ</span></div></div></div></div><div class=\"contnr c1  rtl  \" ><div class=\"lbl c1  \" ><span class=\"nd\">phrase </span> <span class=\"\"><span title=\"typ\">PP</span> <span title=\"function\">Cmpl</span></span></div><div class=\"features\"><span class=\"det xft\" ><span class=\"f\">det=</span>det</span><span class=\"function xft\" ><span class=\"f\">function=</span>Cmpl</span><span class=\"number xft\" ><span class=\"f\">number=</span>4</span><span class=\"typ xft\" ><span class=\"f\">typ=</span>PP</span></div><div class=\"children hor wrap rtl\"><div class=\"contnr c0 trm rtl  \" ><div class=\"lbl c0 trm \" ><a class=\" txtu hbo\" target=\"_blank\" href=\"https://shebanq.ancient-data.org/hebrew/word?version=2021&amp;id=1B\" title=\"Show this on SHEBANQ\"><span class=\"txtu hbo\">בַּ</span></a></div><div class=\"features\"><span class=\"gloss \" title=\"gloss\">in</span><span class=\"pdp \" ><span class=\"f\">pdp=</span>prep</span><span class=\"freq_lex xft\" ><span class=\"f\">freq_lex=</span>15542</span><span class=\"g_cons xft\" ><span class=\"f\">g_cons=</span>B</span><span class=\"g_cons_utf8 xft\" ><span class=\"f\">g_cons_utf8=</span>ב</span><span class=\"g_lex xft\" ><span class=\"f\">g_lex=</span>B.A-</span><span class=\"g_lex_utf8 xft\" ><span class=\"f\">g_lex_utf8=</span>בַּ</span><span class=\"g_word xft\" ><span class=\"f\">g_word=</span>B.A-</span><span class=\"g_word_utf8 xft\" ><span class=\"f\">g_word_utf8=</span>בַּ</span><span class=\"language xft\" ><span class=\"f\">language=</span>Hebrew</span><span class=\"lex xft\" ><span class=\"f\">lex=</span>B</span><span class=\"lex_utf8 xft\" ><span class=\"f\">lex_utf8=</span>ב</span><span class=\"nme xft\" ><span class=\"f\">nme=</span>n/a</span><span class=\"number xft\" ><span class=\"f\">number=</span>3952</span><span class=\"pfm xft\" ><span class=\"f\">pfm=</span>n/a</span><span class=\"phono xft\" ><span class=\"f\">phono=</span>ba</span><span class=\"phono_trailer xft\" ><span class=\"f\">phono_trailer=</span></span><span class=\"prs xft\" ><span class=\"f\">prs=</span>absent</span><span class=\"rank_lex xft\" ><span class=\"f\">rank_lex=</span>3</span><span class=\"sp xft\" ><span class=\"f\">sp=</span>prep</span><span class=\"trailer xft\" ><span class=\"f\">trailer=</span></span><span class=\"trailer_utf8 xft\" ><span class=\"f\">trailer_utf8=</span></span><span class=\"uvf xft\" ><span class=\"f\">uvf=</span>absent</span><span class=\"vbe xft\" ><span class=\"f\">vbe=</span>n/a</span><span class=\"vbs xft\" ><span class=\"f\">vbs=</span>n/a</span><span class=\"voc_lex xft\" ><span class=\"f\">voc_lex=</span>B.:</span><span class=\"voc_lex_utf8 xft\" ><span class=\"f\">voc_lex_utf8=</span>בְּ</span></div></div><div class=\"contnr c0 trm rtl  \" ><div class=\"lbl c0 trm \" ><a class=\" txtu hbo\" target=\"_blank\" href=\"https://shebanq.ancient-data.org/hebrew/word?version=2021&amp;id=1H\" title=\"Show this on SHEBANQ\"></a></div><div class=\"features\"><span class=\"gloss \" title=\"gloss\">the</span><span class=\"pdp \" ><span class=\"f\">pdp=</span>art</span><span class=\"freq_lex xft\" ><span class=\"f\">freq_lex=</span>30386</span><span class=\"g_cons xft\" ><span class=\"f\">g_cons=</span></span><span class=\"g_cons_utf8 xft\" ><span class=\"f\">g_cons_utf8=</span></span><span class=\"g_lex xft\" ><span class=\"f\">g_lex=</span>-</span><span class=\"g_lex_utf8 xft\" ><span class=\"f\">g_lex_utf8=</span></span><span class=\"g_word xft\" ><span class=\"f\">g_word=</span>-</span><span class=\"g_word_utf8 xft\" ><span class=\"f\">g_word_utf8=</span></span><span class=\"language xft\" ><span class=\"f\">language=</span>Hebrew</span><span class=\"lex xft\" ><span class=\"f\">lex=</span>H</span><span class=\"lex_utf8 xft\" ><span class=\"f\">lex_utf8=</span>ה</span><span class=\"nme xft\" ><span class=\"f\">nme=</span>n/a</span><span class=\"number xft\" ><span class=\"f\">number=</span>3953</span><span class=\"pfm xft\" ><span class=\"f\">pfm=</span>n/a</span><span class=\"phono xft\" ><span class=\"f\">phono=</span></span><span class=\"phono_trailer xft\" ><span class=\"f\">phono_trailer=</span></span><span class=\"prs xft\" ><span class=\"f\">prs=</span>n/a</span><span class=\"rank_lex xft\" ><span class=\"f\">rank_lex=</span>1</span><span class=\"sp xft\" ><span class=\"f\">sp=</span>art</span><span class=\"trailer xft\" ><span class=\"f\">trailer=</span></span><span class=\"trailer_utf8 xft\" ><span class=\"f\">trailer_utf8=</span></span><span class=\"uvf xft\" ><span class=\"f\">uvf=</span>absent</span><span class=\"vbe xft\" ><span class=\"f\">vbe=</span>n/a</span><span class=\"vbs xft\" ><span class=\"f\">vbs=</span>n/a</span><span class=\"voc_lex xft\" ><span class=\"f\">voc_lex=</span>HA</span><span class=\"voc_lex_utf8 xft\" ><span class=\"f\">voc_lex_utf8=</span>הַ</span></div></div><div class=\"contnr c0 trm rtl  \" ><div class=\"lbl c0 trm \" ><a class=\" txtu hbo\" target=\"_blank\" href=\"https://shebanq.ancient-data.org/hebrew/word?version=2021&amp;id=1MJMn\" title=\"Show this on SHEBANQ\"><span class=\"txtu hbo\">מָּ֑יִם </span></a></div><div class=\"features\"><span class=\"gloss \" title=\"gloss\">water</span><span class=\"pdp \" ><span class=\"f\">pdp=</span>subs</span><span class=\"freq_lex xft\" ><span class=\"f\">freq_lex=</span>582</span><span class=\"g_cons xft\" ><span class=\"f\">g_cons=</span>MJM</span><span class=\"g_cons_utf8 xft\" ><span class=\"f\">g_cons_utf8=</span>מים</span><span class=\"g_lex xft\" ><span class=\"f\">g_lex=</span>M.@J</span><span class=\"g_lex_utf8 xft\" ><span class=\"f\">g_lex_utf8=</span>מָּי</span><span class=\"g_word xft\" ><span class=\"f\">g_word=</span>M.@92JIM</span><span class=\"g_word_utf8 xft\" ><span class=\"f\">g_word_utf8=</span>מָּ֑יִם</span><span class=\"gn xft\" ><span class=\"f\">gn=</span>m</span><span class=\"language xft\" ><span class=\"f\">language=</span>Hebrew</span><span class=\"lex xft\" ><span class=\"f\">lex=</span>MJM/</span><span class=\"lex_utf8 xft\" ><span class=\"f\">lex_utf8=</span>מים</span><span class=\"nme xft\" ><span class=\"f\">nme=</span>JM</span><span class=\"nu xft\" ><span class=\"f\">nu=</span>pl</span><span class=\"number xft\" ><span class=\"f\">number=</span>3954</span><span class=\"pfm xft\" ><span class=\"f\">pfm=</span>n/a</span><span class=\"phono xft\" ><span class=\"f\">phono=</span>mmˈāyim</span><span class=\"phono_trailer xft\" ><span class=\"f\">phono_trailer=</span> </span><span class=\"prs xft\" ><span class=\"f\">prs=</span>absent</span><span class=\"rank_lex xft\" ><span class=\"f\">rank_lex=</span>87</span><span class=\"sp xft\" ><span class=\"f\">sp=</span>subs</span><span class=\"st xft\" ><span class=\"f\">st=</span>a</span><span class=\"trailer xft\" ><span class=\"f\">trailer=</span> </span><span class=\"trailer_utf8 xft\" ><span class=\"f\">trailer_utf8=</span> </span><span class=\"uvf xft\" ><span class=\"f\">uvf=</span>absent</span><span class=\"vbe xft\" ><span class=\"f\">vbe=</span>n/a</span><span class=\"vbs xft\" ><span class=\"f\">vbs=</span>n/a</span><span class=\"voc_lex xft\" ><span class=\"f\">voc_lex=</span>MAJIM</span><span class=\"voc_lex_utf8 xft\" ><span class=\"f\">voc_lex_utf8=</span>מַיִם</span></div></div></div></div></div></div></div></div><div class=\"contnr c2  rtl  \" ><div class=\"lbl c2  \" ><span class=\"nd\">sentence </span> <span class=\"\"><span title=\"number\">49</span></span></div><div class=\"features\"><span class=\"number xft\" ><span class=\"f\">number=</span>49</span></div><div class=\"children hor wrap rtl\"><div class=\"contnr c2  rtl  \" ><div class=\"lbl c2  \" ><span class=\"nd\">clause </span> <span class=\"\"><span title=\"typ\">WayX</span> <span title=\"rela\">NA</span></span></div><div class=\"features\"><span class=\"domain xft\" ><span class=\"f\">domain=</span>N</span><span class=\"number xft\" ><span class=\"f\">number=</span>1</span><span class=\"txt xft\" ><span class=\"f\">txt=</span>N</span><span class=\"typ xft\" ><span class=\"f\">typ=</span>WayX</span></div><div class=\"children hor wrap rtl\"><div class=\"contnr c1  rtl  \" ><div class=\"lbl c1  \" ><span class=\"nd\">phrase </span> <span class=\"\"><span title=\"typ\">CP</span> <span title=\"function\">Conj</span></span></div><div class=\"features\"><span class=\"function xft\" ><span class=\"f\">function=</span>Conj</span><span class=\"number xft\" ><span class=\"f\">number=</span>1</span><span class=\"typ xft\" ><span class=\"f\">typ=</span>CP</span></div><div class=\"children hor wrap rtl\"><div class=\"contnr c0 trm rtl  \" ><div class=\"lbl c0 trm \" ><a class=\" txtu hbo\" target=\"_blank\" href=\"https://shebanq.ancient-data.org/hebrew/word?version=2021&amp;id=1W\" title=\"Show this on SHEBANQ\"><span class=\"txtu hbo\">וַ</span></a></div><div class=\"features\"><span class=\"gloss \" title=\"gloss\">and</span><span class=\"pdp \" ><span class=\"f\">pdp=</span>conj</span><span class=\"freq_lex xft\" ><span class=\"f\">freq_lex=</span>50272</span><span class=\"g_cons xft\" ><span class=\"f\">g_cons=</span>W</span><span class=\"g_cons_utf8 xft\" ><span class=\"f\">g_cons_utf8=</span>ו</span><span class=\"g_lex xft\" ><span class=\"f\">g_lex=</span>WA-</span><span class=\"g_lex_utf8 xft\" ><span class=\"f\">g_lex_utf8=</span>וַ</span><span class=\"g_word xft\" ><span class=\"f\">g_word=</span>WA-</span><span class=\"g_word_utf8 xft\" ><span class=\"f\">g_word_utf8=</span>וַ</span><span class=\"language xft\" ><span class=\"f\">language=</span>Hebrew</span><span class=\"lex xft\" ><span class=\"f\">lex=</span>W</span><span class=\"lex_utf8 xft\" ><span class=\"f\">lex_utf8=</span>ו</span><span class=\"nme xft\" ><span class=\"f\">nme=</span>n/a</span><span class=\"number xft\" ><span class=\"f\">number=</span>3955</span><span class=\"pfm xft\" ><span class=\"f\">pfm=</span>n/a</span><span class=\"phono xft\" ><span class=\"f\">phono=</span>wa</span><span class=\"phono_trailer xft\" ><span class=\"f\">phono_trailer=</span></span><span class=\"prs xft\" ><span class=\"f\">prs=</span>n/a</span><span class=\"rank_lex xft\" ><span class=\"f\">rank_lex=</span></span><span class=\"sp xft\" ><span class=\"f\">sp=</span>conj</span><span class=\"trailer xft\" ><span class=\"f\">trailer=</span></span><span class=\"trailer_utf8 xft\" ><span class=\"f\">trailer_utf8=</span></span><span class=\"uvf xft\" ><span class=\"f\">uvf=</span>absent</span><span class=\"vbe xft\" ><span class=\"f\">vbe=</span>n/a</span><span class=\"vbs xft\" ><span class=\"f\">vbs=</span>n/a</span><span class=\"voc_lex xft\" ><span class=\"f\">voc_lex=</span>W:</span><span class=\"voc_lex_utf8 xft\" ><span class=\"f\">voc_lex_utf8=</span>וְ</span></div></div></div></div><div class=\"contnr c1  rtl  \" ><div class=\"lbl c1  \" ><span class=\"nd\">phrase </span> <span class=\"\"><span title=\"typ\">VP</span> <span title=\"function\">Pred</span></span></div><div class=\"features\"><span class=\"function xft\" ><span class=\"f\">function=</span>Pred</span><span class=\"number xft\" ><span class=\"f\">number=</span>2</span><span class=\"typ xft\" ><span class=\"f\">typ=</span>VP</span></div><div class=\"children hor wrap rtl\"><div class=\"contnr c0 trm rtl  \" ><div class=\"lbl c0 trm \" ><a class=\" txtu hbo\" target=\"_blank\" href=\"https://shebanq.ancient-data.org/hebrew/word?version=2021&amp;id=1QVRv\" title=\"Show this on SHEBANQ\"><span class=\"txtu hbo\">יַּקְטֵר֩ </span></a></div><div class=\"features\"><span class=\"gloss \" title=\"gloss\">smoke</span><span class=\"pdp \" ><span class=\"f\">pdp=</span>verb</span><span class=\"vs \" ><span class=\"f\">vs=</span>hif</span><span class=\"vt \" ><span class=\"f\">vt=</span>wayq</span><span class=\"freq_lex xft\" ><span class=\"f\">freq_lex=</span>115</span><span class=\"g_cons xft\" ><span class=\"f\">g_cons=</span>JQVR</span><span class=\"g_cons_utf8 xft\" ><span class=\"f\">g_cons_utf8=</span>יקטר</span><span class=\"g_lex xft\" ><span class=\"f\">g_lex=</span>Q:V;R</span><span class=\"g_lex_utf8 xft\" ><span class=\"f\">g_lex_utf8=</span>קְטֵר</span><span class=\"g_word xft\" ><span class=\"f\">g_word=</span>J.AQ:V;R04</span><span class=\"g_word_utf8 xft\" ><span class=\"f\">g_word_utf8=</span>יַּקְטֵר֩</span><span class=\"gn xft\" ><span class=\"f\">gn=</span>m</span><span class=\"language xft\" ><span class=\"f\">language=</span>Hebrew</span><span class=\"lex xft\" ><span class=\"f\">lex=</span>QVR[</span><span class=\"lex_utf8 xft\" ><span class=\"f\">lex_utf8=</span>קטר</span><span class=\"nme xft\" ><span class=\"f\">nme=</span>absent</span><span class=\"nu xft\" ><span class=\"f\">nu=</span>sg</span><span class=\"number xft\" ><span class=\"f\">number=</span>3956</span><span class=\"pfm xft\" ><span class=\"f\">pfm=</span>J</span><span class=\"phono xft\" ><span class=\"f\">phono=</span>yyaqṭˌēr</span><span class=\"phono_trailer xft\" ><span class=\"f\">phono_trailer=</span> </span><span class=\"prs xft\" ><span class=\"f\">prs=</span>absent</span><span class=\"ps xft\" ><span class=\"f\">ps=</span>p3</span><span class=\"rank_lex xft\" ><span class=\"f\">rank_lex=</span>380</span><span class=\"sp xft\" ><span class=\"f\">sp=</span>verb</span><span class=\"trailer xft\" ><span class=\"f\">trailer=</span> </span><span class=\"trailer_utf8 xft\" ><span class=\"f\">trailer_utf8=</span> </span><span class=\"uvf xft\" ><span class=\"f\">uvf=</span>absent</span><span class=\"vbe xft\" ><span class=\"f\">vbe=</span></span><span class=\"vbs xft\" ><span class=\"f\">vbs=</span>H</span><span class=\"voc_lex xft\" ><span class=\"f\">voc_lex=</span>QVR</span><span class=\"voc_lex_utf8 xft\" ><span class=\"f\">voc_lex_utf8=</span>קטר</span></div></div></div></div><div class=\"contnr c1  rtl  \" ><div class=\"lbl c1  \" ><span class=\"nd\">phrase </span> <span class=\"\"><span title=\"typ\">PrNP</span> <span title=\"function\">Subj</span></span></div><div class=\"features\"><span class=\"det xft\" ><span class=\"f\">det=</span>det</span><span class=\"function xft\" ><span class=\"f\">function=</span>Subj</span><span class=\"number xft\" ><span class=\"f\">number=</span>3</span><span class=\"typ xft\" ><span class=\"f\">typ=</span>PrNP</span></div><div class=\"children hor wrap rtl\"><div class=\"contnr c0 trm rtl  \" ><div class=\"lbl c0 trm \" ><a class=\" txtu hbo\" target=\"_blank\" href=\"https://shebanq.ancient-data.org/hebrew/word?version=2021&amp;id=1MCHin\" title=\"Show this on SHEBANQ\"><span class=\"txtu hbo\">מֹשֶׁ֨ה </span></a></div><div class=\"features\"><span class=\"gloss \" title=\"gloss\">Moses</span><span class=\"pdp \" ><span class=\"f\">pdp=</span>nmpr</span><span class=\"freq_lex xft\" ><span class=\"f\">freq_lex=</span>766</span><span class=\"g_cons xft\" ><span class=\"f\">g_cons=</span>MCH</span><span class=\"g_cons_utf8 xft\" ><span class=\"f\">g_cons_utf8=</span>משׁה</span><span class=\"g_lex xft\" ><span class=\"f\">g_lex=</span>MOCEH</span><span class=\"g_lex_utf8 xft\" ><span class=\"f\">g_lex_utf8=</span>מֹשֶׁה</span><span class=\"g_word xft\" ><span class=\"f\">g_word=</span>MOCE63H</span><span class=\"g_word_utf8 xft\" ><span class=\"f\">g_word_utf8=</span>מֹשֶׁ֨ה</span><span class=\"gn xft\" ><span class=\"f\">gn=</span>m</span><span class=\"language xft\" ><span class=\"f\">language=</span>Hebrew</span><span class=\"lex xft\" ><span class=\"f\">lex=</span>MCH=/</span><span class=\"lex_utf8 xft\" ><span class=\"f\">lex_utf8=</span>משׁה</span><span class=\"nametype xft\" ><span class=\"f\">nametype=</span>pers</span><span class=\"nme xft\" ><span class=\"f\">nme=</span></span><span class=\"nu xft\" ><span class=\"f\">nu=</span>sg</span><span class=\"number xft\" ><span class=\"f\">number=</span>3957</span><span class=\"pfm xft\" ><span class=\"f\">pfm=</span>n/a</span><span class=\"phono xft\" ><span class=\"f\">phono=</span>mōšˌeh</span><span class=\"phono_trailer xft\" ><span class=\"f\">phono_trailer=</span> </span><span class=\"prs xft\" ><span class=\"f\">prs=</span>n/a</span><span class=\"rank_lex xft\" ><span class=\"f\">rank_lex=</span>66</span><span class=\"sp xft\" ><span class=\"f\">sp=</span>nmpr</span><span class=\"st xft\" ><span class=\"f\">st=</span>a</span><span class=\"trailer xft\" ><span class=\"f\">trailer=</span> </span><span class=\"trailer_utf8 xft\" ><span class=\"f\">trailer_utf8=</span> </span><span class=\"uvf xft\" ><span class=\"f\">uvf=</span>absent</span><span class=\"vbe xft\" ><span class=\"f\">vbe=</span>n/a</span><span class=\"vbs xft\" ><span class=\"f\">vbs=</span>n/a</span><span class=\"voc_lex xft\" ><span class=\"f\">voc_lex=</span>MOCEH</span><span class=\"voc_lex_utf8 xft\" ><span class=\"f\">voc_lex_utf8=</span>מֹשֶׁה</span></div></div></div></div><div class=\"contnr c1  rtl  \" ><div class=\"lbl c1  \" ><span class=\"nd\">phrase </span> <span class=\"\"><span title=\"typ\">PP</span> <span title=\"function\">Objc</span></span></div><div class=\"features\"><span class=\"det xft\" ><span class=\"f\">det=</span>det</span><span class=\"function xft\" ><span class=\"f\">function=</span>Objc</span><span class=\"number xft\" ><span class=\"f\">number=</span>4</span><span class=\"typ xft\" ><span class=\"f\">typ=</span>PP</span></div><div class=\"children hor wrap rtl\"><div class=\"contnr c0 trm rtl  \" ><div class=\"lbl c0 trm \" ><a class=\" txtu hbo\" target=\"_blank\" href=\"https://shebanq.ancient-data.org/hebrew/word?version=2021&amp;id=1AT\" title=\"Show this on SHEBANQ\"><span class=\"txtu hbo\">אֶת־</span></a></div><div class=\"features\"><span class=\"gloss \" title=\"gloss\">&lt;object marker></span><span class=\"pdp \" ><span class=\"f\">pdp=</span>prep</span><span class=\"freq_lex xft\" ><span class=\"f\">freq_lex=</span>10987</span><span class=\"g_cons xft\" ><span class=\"f\">g_cons=</span>>T</span><span class=\"g_cons_utf8 xft\" ><span class=\"f\">g_cons_utf8=</span>את</span><span class=\"g_lex xft\" ><span class=\"f\">g_lex=</span>>ET</span><span class=\"g_lex_utf8 xft\" ><span class=\"f\">g_lex_utf8=</span>אֶת</span><span class=\"g_word xft\" ><span class=\"f\">g_word=</span>>ET</span><span class=\"g_word_utf8 xft\" ><span class=\"f\">g_word_utf8=</span>אֶת</span><span class=\"language xft\" ><span class=\"f\">language=</span>Hebrew</span><span class=\"lex xft\" ><span class=\"f\">lex=</span>>T</span><span class=\"lex_utf8 xft\" ><span class=\"f\">lex_utf8=</span>את</span><span class=\"nme xft\" ><span class=\"f\">nme=</span>n/a</span><span class=\"number xft\" ><span class=\"f\">number=</span>3958</span><span class=\"pfm xft\" ><span class=\"f\">pfm=</span>n/a</span><span class=\"phono xft\" ><span class=\"f\">phono=</span>ʔeṯ-</span><span class=\"phono_trailer xft\" ><span class=\"f\">phono_trailer=</span></span><span class=\"prs xft\" ><span class=\"f\">prs=</span>absent</span><span class=\"rank_lex xft\" ><span class=\"f\">rank_lex=</span>4</span><span class=\"sp xft\" ><span class=\"f\">sp=</span>prep</span><span class=\"trailer xft\" ><span class=\"f\">trailer=</span>&amp;</span><span class=\"trailer_utf8 xft\" ><span class=\"f\">trailer_utf8=</span>־</span><span class=\"uvf xft\" ><span class=\"f\">uvf=</span>absent</span><span class=\"vbe xft\" ><span class=\"f\">vbe=</span>n/a</span><span class=\"vbs xft\" ><span class=\"f\">vbs=</span>n/a</span><span class=\"voc_lex xft\" ><span class=\"f\">voc_lex=</span>>;T</span><span class=\"voc_lex_utf8 xft\" ><span class=\"f\">voc_lex_utf8=</span>אֵת</span></div></div><div class=\"contnr c0 trm rtl  \" ><div class=\"lbl c0 trm \" ><a class=\" txtu hbo\" target=\"_blank\" href=\"https://shebanq.ancient-data.org/hebrew/word?version=2021&amp;id=1KLn\" title=\"Show this on SHEBANQ\"><span class=\"txtu hbo\">כָּל־</span></a></div><div class=\"features\"><span class=\"gloss \" title=\"gloss\">whole</span><span class=\"pdp \" ><span class=\"f\">pdp=</span>subs</span><span class=\"freq_lex xft\" ><span class=\"f\">freq_lex=</span>5412</span><span class=\"g_cons xft\" ><span class=\"f\">g_cons=</span>KL</span><span class=\"g_cons_utf8 xft\" ><span class=\"f\">g_cons_utf8=</span>כל</span><span class=\"g_lex xft\" ><span class=\"f\">g_lex=</span>K.@L</span><span class=\"g_lex_utf8 xft\" ><span class=\"f\">g_lex_utf8=</span>כָּל</span><span class=\"g_word xft\" ><span class=\"f\">g_word=</span>K.@L</span><span class=\"g_word_utf8 xft\" ><span class=\"f\">g_word_utf8=</span>כָּל</span><span class=\"gn xft\" ><span class=\"f\">gn=</span>m</span><span class=\"language xft\" ><span class=\"f\">language=</span>Hebrew</span><span class=\"lex xft\" ><span class=\"f\">lex=</span>KL/</span><span class=\"lex_utf8 xft\" ><span class=\"f\">lex_utf8=</span>כל</span><span class=\"ls xft\" ><span class=\"f\">ls=</span>nmdi</span><span class=\"nme xft\" ><span class=\"f\">nme=</span></span><span class=\"nu xft\" ><span class=\"f\">nu=</span>sg</span><span class=\"number xft\" ><span class=\"f\">number=</span>3959</span><span class=\"pfm xft\" ><span class=\"f\">pfm=</span>n/a</span><span class=\"phono xft\" ><span class=\"f\">phono=</span>kol-</span><span class=\"phono_trailer xft\" ><span class=\"f\">phono_trailer=</span></span><span class=\"prs xft\" ><span class=\"f\">prs=</span>absent</span><span class=\"rank_lex xft\" ><span class=\"f\">rank_lex=</span>10</span><span class=\"sp xft\" ><span class=\"f\">sp=</span>subs</span><span class=\"st xft\" ><span class=\"f\">st=</span>c</span><span class=\"trailer xft\" ><span class=\"f\">trailer=</span>&amp;</span><span class=\"trailer_utf8 xft\" ><span class=\"f\">trailer_utf8=</span>־</span><span class=\"uvf xft\" ><span class=\"f\">uvf=</span>absent</span><span class=\"vbe xft\" ><span class=\"f\">vbe=</span>n/a</span><span class=\"vbs xft\" ><span class=\"f\">vbs=</span>n/a</span><span class=\"voc_lex xft\" ><span class=\"f\">voc_lex=</span>K.OL</span><span class=\"voc_lex_utf8 xft\" ><span class=\"f\">voc_lex_utf8=</span>כֹּל</span></div></div><div class=\"contnr c0 trm rtl  \" ><div class=\"lbl c0 trm \" ><a class=\" txtu hbo\" target=\"_blank\" href=\"https://shebanq.ancient-data.org/hebrew/word?version=2021&amp;id=1H\" title=\"Show this on SHEBANQ\"><span class=\"txtu hbo\">הָ</span></a></div><div class=\"features\"><span class=\"gloss \" title=\"gloss\">the</span><span class=\"pdp \" ><span class=\"f\">pdp=</span>art</span><span class=\"freq_lex xft\" ><span class=\"f\">freq_lex=</span>30386</span><span class=\"g_cons xft\" ><span class=\"f\">g_cons=</span>H</span><span class=\"g_cons_utf8 xft\" ><span class=\"f\">g_cons_utf8=</span>ה</span><span class=\"g_lex xft\" ><span class=\"f\">g_lex=</span>H@-</span><span class=\"g_lex_utf8 xft\" ><span class=\"f\">g_lex_utf8=</span>הָ</span><span class=\"g_word xft\" ><span class=\"f\">g_word=</span>H@-</span><span class=\"g_word_utf8 xft\" ><span class=\"f\">g_word_utf8=</span>הָ</span><span class=\"language xft\" ><span class=\"f\">language=</span>Hebrew</span><span class=\"lex xft\" ><span class=\"f\">lex=</span>H</span><span class=\"lex_utf8 xft\" ><span class=\"f\">lex_utf8=</span>ה</span><span class=\"nme xft\" ><span class=\"f\">nme=</span>n/a</span><span class=\"number xft\" ><span class=\"f\">number=</span>3960</span><span class=\"pfm xft\" ><span class=\"f\">pfm=</span>n/a</span><span class=\"phono xft\" ><span class=\"f\">phono=</span>hā</span><span class=\"phono_trailer xft\" ><span class=\"f\">phono_trailer=</span></span><span class=\"prs xft\" ><span class=\"f\">prs=</span>n/a</span><span class=\"rank_lex xft\" ><span class=\"f\">rank_lex=</span>1</span><span class=\"sp xft\" ><span class=\"f\">sp=</span>art</span><span class=\"trailer xft\" ><span class=\"f\">trailer=</span></span><span class=\"trailer_utf8 xft\" ><span class=\"f\">trailer_utf8=</span></span><span class=\"uvf xft\" ><span class=\"f\">uvf=</span>absent</span><span class=\"vbe xft\" ><span class=\"f\">vbe=</span>n/a</span><span class=\"vbs xft\" ><span class=\"f\">vbs=</span>n/a</span><span class=\"voc_lex xft\" ><span class=\"f\">voc_lex=</span>HA</span><span class=\"voc_lex_utf8 xft\" ><span class=\"f\">voc_lex_utf8=</span>הַ</span></div></div><div class=\"contnr c0 trm rtl  \" ><div class=\"lbl c0 trm \" ><a class=\" txtu hbo\" target=\"_blank\" href=\"https://shebanq.ancient-data.org/hebrew/word?version=2021&amp;id=1AJLin\" title=\"Show this on SHEBANQ\"><span class=\"txtu hbo\">אַ֜יִל </span></a></div><div class=\"features\"><span class=\"gloss \" title=\"gloss\">ram, despot</span><span class=\"pdp \" ><span class=\"f\">pdp=</span>subs</span><span class=\"freq_lex xft\" ><span class=\"f\">freq_lex=</span>163</span><span class=\"g_cons xft\" ><span class=\"f\">g_cons=</span>>JL</span><span class=\"g_cons_utf8 xft\" ><span class=\"f\">g_cons_utf8=</span>איל</span><span class=\"g_lex xft\" ><span class=\"f\">g_lex=</span>>AJIL</span><span class=\"g_lex_utf8 xft\" ><span class=\"f\">g_lex_utf8=</span>אַיִל</span><span class=\"g_word xft\" ><span class=\"f\">g_word=</span>>A61JIL</span><span class=\"g_word_utf8 xft\" ><span class=\"f\">g_word_utf8=</span>אַ֜יִל</span><span class=\"gn xft\" ><span class=\"f\">gn=</span>m</span><span class=\"language xft\" ><span class=\"f\">language=</span>Hebrew</span><span class=\"lex xft\" ><span class=\"f\">lex=</span>>JL=/</span><span class=\"lex_utf8 xft\" ><span class=\"f\">lex_utf8=</span>איל</span><span class=\"nme xft\" ><span class=\"f\">nme=</span></span><span class=\"nu xft\" ><span class=\"f\">nu=</span>sg</span><span class=\"number xft\" ><span class=\"f\">number=</span>3961</span><span class=\"pfm xft\" ><span class=\"f\">pfm=</span>n/a</span><span class=\"phono xft\" ><span class=\"f\">phono=</span>ʔˈayil</span><span class=\"phono_trailer xft\" ><span class=\"f\">phono_trailer=</span> </span><span class=\"prs xft\" ><span class=\"f\">prs=</span>absent</span><span class=\"rank_lex xft\" ><span class=\"f\">rank_lex=</span>284</span><span class=\"sp xft\" ><span class=\"f\">sp=</span>subs</span><span class=\"st xft\" ><span class=\"f\">st=</span>a</span><span class=\"trailer xft\" ><span class=\"f\">trailer=</span> </span><span class=\"trailer_utf8 xft\" ><span class=\"f\">trailer_utf8=</span> </span><span class=\"uvf xft\" ><span class=\"f\">uvf=</span>absent</span><span class=\"vbe xft\" ><span class=\"f\">vbe=</span>n/a</span><span class=\"vbs xft\" ><span class=\"f\">vbs=</span>n/a</span><span class=\"voc_lex xft\" ><span class=\"f\">voc_lex=</span>>AJIL</span><span class=\"voc_lex_utf8 xft\" ><span class=\"f\">voc_lex_utf8=</span>אַיִל</span></div></div></div></div><div class=\"contnr c1  rtl  \" ><div class=\"lbl c1  \" ><span class=\"nd\">phrase </span> <span class=\"\"><span title=\"typ\">AdvP</span> <span title=\"function\">Cmpl</span></span></div><div class=\"features\"><span class=\"function xft\" ><span class=\"f\">function=</span>Cmpl</span><span class=\"number xft\" ><span class=\"f\">number=</span>5</span><span class=\"typ xft\" ><span class=\"f\">typ=</span>AdvP</span></div><div class=\"children hor wrap rtl\"><div class=\"contnr c0 trm rtl  \" ><div class=\"lbl c0 trm \" ><a class=\" txtu hbo\" target=\"_blank\" href=\"https://shebanq.ancient-data.org/hebrew/word?version=2021&amp;id=1H\" title=\"Show this on SHEBANQ\"><span class=\"txtu hbo\">הַ</span></a></div><div class=\"features\"><span class=\"gloss \" title=\"gloss\">the</span><span class=\"pdp \" ><span class=\"f\">pdp=</span>art</span><span class=\"freq_lex xft\" ><span class=\"f\">freq_lex=</span>30386</span><span class=\"g_cons xft\" ><span class=\"f\">g_cons=</span>H</span><span class=\"g_cons_utf8 xft\" ><span class=\"f\">g_cons_utf8=</span>ה</span><span class=\"g_lex xft\" ><span class=\"f\">g_lex=</span>HA-</span><span class=\"g_lex_utf8 xft\" ><span class=\"f\">g_lex_utf8=</span>הַ</span><span class=\"g_word xft\" ><span class=\"f\">g_word=</span>HA-</span><span class=\"g_word_utf8 xft\" ><span class=\"f\">g_word_utf8=</span>הַ</span><span class=\"language xft\" ><span class=\"f\">language=</span>Hebrew</span><span class=\"lex xft\" ><span class=\"f\">lex=</span>H</span><span class=\"lex_utf8 xft\" ><span class=\"f\">lex_utf8=</span>ה</span><span class=\"nme xft\" ><span class=\"f\">nme=</span>n/a</span><span class=\"number xft\" ><span class=\"f\">number=</span>3962</span><span class=\"pfm xft\" ><span class=\"f\">pfm=</span>n/a</span><span class=\"phono xft\" ><span class=\"f\">phono=</span>ha</span><span class=\"phono_trailer xft\" ><span class=\"f\">phono_trailer=</span></span><span class=\"prs xft\" ><span class=\"f\">prs=</span>n/a</span><span class=\"rank_lex xft\" ><span class=\"f\">rank_lex=</span>1</span><span class=\"sp xft\" ><span class=\"f\">sp=</span>art</span><span class=\"trailer xft\" ><span class=\"f\">trailer=</span></span><span class=\"trailer_utf8 xft\" ><span class=\"f\">trailer_utf8=</span></span><span class=\"uvf xft\" ><span class=\"f\">uvf=</span>absent</span><span class=\"vbe xft\" ><span class=\"f\">vbe=</span>n/a</span><span class=\"vbs xft\" ><span class=\"f\">vbs=</span>n/a</span><span class=\"voc_lex xft\" ><span class=\"f\">voc_lex=</span>HA</span><span class=\"voc_lex_utf8 xft\" ><span class=\"f\">voc_lex_utf8=</span>הַ</span></div></div><div class=\"contnr c0 trm rtl  \" ><div class=\"lbl c0 trm \" ><a class=\" txtu hbo\" target=\"_blank\" href=\"https://shebanq.ancient-data.org/hebrew/word?version=2021&amp;id=1MZBXn\" title=\"Show this on SHEBANQ\"><span class=\"txtu hbo\">מִּזְבֵּ֗חָה </span></a></div><div class=\"features\"><span class=\"gloss \" title=\"gloss\">altar</span><span class=\"pdp \" ><span class=\"f\">pdp=</span>subs</span><span class=\"freq_lex xft\" ><span class=\"f\">freq_lex=</span>401</span><span class=\"g_cons xft\" ><span class=\"f\">g_cons=</span>MZBXH</span><span class=\"g_cons_utf8 xft\" ><span class=\"f\">g_cons_utf8=</span>מזבחה</span><span class=\"g_lex xft\" ><span class=\"f\">g_lex=</span>M.IZ:B.;X</span><span class=\"g_lex_utf8 xft\" ><span class=\"f\">g_lex_utf8=</span>מִּזְבֵּח</span><span class=\"g_word xft\" ><span class=\"f\">g_word=</span>M.IZ:B.;81X@H</span><span class=\"g_word_utf8 xft\" ><span class=\"f\">g_word_utf8=</span>מִּזְבֵּ֗חָה</span><span class=\"gn xft\" ><span class=\"f\">gn=</span>m</span><span class=\"language xft\" ><span class=\"f\">language=</span>Hebrew</span><span class=\"lex xft\" ><span class=\"f\">lex=</span>MZBX/</span><span class=\"lex_utf8 xft\" ><span class=\"f\">lex_utf8=</span>מזבח</span><span class=\"nme xft\" ><span class=\"f\">nme=</span></span><span class=\"nu xft\" ><span class=\"f\">nu=</span>sg</span><span class=\"number xft\" ><span class=\"f\">number=</span>3963</span><span class=\"pfm xft\" ><span class=\"f\">pfm=</span>n/a</span><span class=\"phono xft\" ><span class=\"f\">phono=</span>mmizbˈēḥā</span><span class=\"phono_trailer xft\" ><span class=\"f\">phono_trailer=</span> </span><span class=\"prs xft\" ><span class=\"f\">prs=</span>absent</span><span class=\"rank_lex xft\" ><span class=\"f\">rank_lex=</span>130</span><span class=\"sp xft\" ><span class=\"f\">sp=</span>subs</span><span class=\"st xft\" ><span class=\"f\">st=</span>a</span><span class=\"trailer xft\" ><span class=\"f\">trailer=</span> </span><span class=\"trailer_utf8 xft\" ><span class=\"f\">trailer_utf8=</span> </span><span class=\"uvf xft\" ><span class=\"f\">uvf=</span>H</span><span class=\"vbe xft\" ><span class=\"f\">vbe=</span>n/a</span><span class=\"vbs xft\" ><span class=\"f\">vbs=</span>n/a</span><span class=\"voc_lex xft\" ><span class=\"f\">voc_lex=</span>MIZ:B.;XA</span><span class=\"voc_lex_utf8 xft\" ><span class=\"f\">voc_lex_utf8=</span>מִזְבֵּחַ</span></div></div></div></div></div></div></div></div><div class=\"contnr c2  rtl  \" ><div class=\"lbl c2  \" ><span class=\"nd\">sentence </span> <span class=\"\"><span title=\"number\">50</span></span></div><div class=\"features\"><span class=\"number xft\" ><span class=\"f\">number=</span>50</span></div><div class=\"children hor wrap rtl\"><div class=\"contnr c2  rtl  \" ><div class=\"lbl c2  \" ><span class=\"nd\">clause </span> <span class=\"\"><span title=\"typ\">NmCl</span> <span title=\"rela\">NA</span></span></div><div class=\"features\"><span class=\"domain xft\" ><span class=\"f\">domain=</span>N</span><span class=\"number xft\" ><span class=\"f\">number=</span>1</span><span class=\"txt xft\" ><span class=\"f\">txt=</span>N</span><span class=\"typ xft\" ><span class=\"f\">typ=</span>NmCl</span></div><div class=\"children hor wrap rtl\"><div class=\"contnr c1  rtl  \" ><div class=\"lbl c1  \" ><span class=\"nd\">phrase </span> <span class=\"\"><span title=\"typ\">NP</span> <span title=\"function\">PreC</span></span></div><div class=\"features\"><span class=\"det xft\" ><span class=\"f\">det=</span>und</span><span class=\"function xft\" ><span class=\"f\">function=</span>PreC</span><span class=\"number xft\" ><span class=\"f\">number=</span>1</span><span class=\"typ xft\" ><span class=\"f\">typ=</span>NP</span></div><div class=\"children hor wrap rtl\"><div class=\"contnr c0 trm rtl  \" ><div class=\"lbl c0 trm \" ><a class=\" txtu hbo\" target=\"_blank\" href=\"https://shebanq.ancient-data.org/hebrew/word?version=2021&amp;id=1OLHn\" title=\"Show this on SHEBANQ\"><span class=\"txtu hbo\">עֹלָ֨ה </span></a></div><div class=\"features\"><span class=\"gloss \" title=\"gloss\">burnt-offering</span><span class=\"pdp \" ><span class=\"f\">pdp=</span>subs</span><span class=\"freq_lex xft\" ><span class=\"f\">freq_lex=</span>286</span><span class=\"g_cons xft\" ><span class=\"f\">g_cons=</span>&lt;LH</span><span class=\"g_cons_utf8 xft\" ><span class=\"f\">g_cons_utf8=</span>עלה</span><span class=\"g_lex xft\" ><span class=\"f\">g_lex=</span>&lt;OL</span><span class=\"g_lex_utf8 xft\" ><span class=\"f\">g_lex_utf8=</span>עֹל</span><span class=\"g_word xft\" ><span class=\"f\">g_word=</span>&lt;OL@63H</span><span class=\"g_word_utf8 xft\" ><span class=\"f\">g_word_utf8=</span>עֹלָ֨ה</span><span class=\"gn xft\" ><span class=\"f\">gn=</span>f</span><span class=\"language xft\" ><span class=\"f\">language=</span>Hebrew</span><span class=\"lex xft\" ><span class=\"f\">lex=</span>&lt;LH/</span><span class=\"lex_utf8 xft\" ><span class=\"f\">lex_utf8=</span>עלה</span><span class=\"nme xft\" ><span class=\"f\">nme=</span>H</span><span class=\"nu xft\" ><span class=\"f\">nu=</span>sg</span><span class=\"number xft\" ><span class=\"f\">number=</span>3964</span><span class=\"pfm xft\" ><span class=\"f\">pfm=</span>n/a</span><span class=\"phono xft\" ><span class=\"f\">phono=</span>ʕōlˌā</span><span class=\"phono_trailer xft\" ><span class=\"f\">phono_trailer=</span> </span><span class=\"prs xft\" ><span class=\"f\">prs=</span>absent</span><span class=\"rank_lex xft\" ><span class=\"f\">rank_lex=</span>175</span><span class=\"sp xft\" ><span class=\"f\">sp=</span>subs</span><span class=\"st xft\" ><span class=\"f\">st=</span>a</span><span class=\"trailer xft\" ><span class=\"f\">trailer=</span> </span><span class=\"trailer_utf8 xft\" ><span class=\"f\">trailer_utf8=</span> </span><span class=\"uvf xft\" ><span class=\"f\">uvf=</span>absent</span><span class=\"vbe xft\" ><span class=\"f\">vbe=</span>n/a</span><span class=\"vbs xft\" ><span class=\"f\">vbs=</span>n/a</span><span class=\"voc_lex xft\" ><span class=\"f\">voc_lex=</span>&lt;OL@H</span><span class=\"voc_lex_utf8 xft\" ><span class=\"f\">voc_lex_utf8=</span>עֹלָה</span></div></div></div></div><div class=\"contnr c1  rtl  \" ><div class=\"lbl c1  \" ><span class=\"nd\">phrase </span> <span class=\"\"><span title=\"typ\">PPrP</span> <span title=\"function\">Subj</span></span></div><div class=\"features\"><span class=\"det xft\" ><span class=\"f\">det=</span>det</span><span class=\"function xft\" ><span class=\"f\">function=</span>Subj</span><span class=\"number xft\" ><span class=\"f\">number=</span>2</span><span class=\"typ xft\" ><span class=\"f\">typ=</span>PPrP</span></div><div class=\"children hor wrap rtl\"><div class=\"contnr c0 trm rtl  \" ><div class=\"lbl c0 trm \" ><a class=\" txtu hbo\" target=\"_blank\" href=\"https://shebanq.ancient-data.org/hebrew/word?version=2021&amp;id=1HWA\" title=\"Show this on SHEBANQ\"><span class=\"txtu hbo\">ה֤וּא </span></a></div><div class=\"features\"><span class=\"gloss \" title=\"gloss\">he</span><span class=\"pdp \" ><span class=\"f\">pdp=</span>prps</span><span class=\"freq_lex xft\" ><span class=\"f\">freq_lex=</span>1394</span><span class=\"g_cons xft\" ><span class=\"f\">g_cons=</span>HW></span><span class=\"g_cons_utf8 xft\" ><span class=\"f\">g_cons_utf8=</span>הוא</span><span class=\"g_lex xft\" ><span class=\"f\">g_lex=</span>HW.></span><span class=\"g_lex_utf8 xft\" ><span class=\"f\">g_lex_utf8=</span>הוּא</span><span class=\"g_word xft\" ><span class=\"f\">g_word=</span>H70W.></span><span class=\"g_word_utf8 xft\" ><span class=\"f\">g_word_utf8=</span>ה֤וּא</span><span class=\"gn xft\" ><span class=\"f\">gn=</span>m</span><span class=\"language xft\" ><span class=\"f\">language=</span>Hebrew</span><span class=\"lex xft\" ><span class=\"f\">lex=</span>HW></span><span class=\"lex_utf8 xft\" ><span class=\"f\">lex_utf8=</span>הוא</span><span class=\"nametype xft\" ><span class=\"f\">nametype=</span>ppde</span><span class=\"nme xft\" ><span class=\"f\">nme=</span>n/a</span><span class=\"nu xft\" ><span class=\"f\">nu=</span>sg</span><span class=\"number xft\" ><span class=\"f\">number=</span>3965</span><span class=\"pfm xft\" ><span class=\"f\">pfm=</span>n/a</span><span class=\"phono xft\" ><span class=\"f\">phono=</span>hˈû</span><span class=\"phono_trailer xft\" ><span class=\"f\">phono_trailer=</span> </span><span class=\"prs xft\" ><span class=\"f\">prs=</span>n/a</span><span class=\"ps xft\" ><span class=\"f\">ps=</span>p3</span><span class=\"rank_lex xft\" ><span class=\"f\">rank_lex=</span>32</span><span class=\"sp xft\" ><span class=\"f\">sp=</span>prps</span><span class=\"trailer xft\" ><span class=\"f\">trailer=</span> </span><span class=\"trailer_utf8 xft\" ><span class=\"f\">trailer_utf8=</span> </span><span class=\"uvf xft\" ><span class=\"f\">uvf=</span>absent</span><span class=\"vbe xft\" ><span class=\"f\">vbe=</span>n/a</span><span class=\"vbs xft\" ><span class=\"f\">vbs=</span>n/a</span><span class=\"voc_lex xft\" ><span class=\"f\">voc_lex=</span>HW.></span><span class=\"voc_lex_utf8 xft\" ><span class=\"f\">voc_lex_utf8=</span>הוּא</span></div></div></div></div><div class=\"contnr c1  rtl  \" ><div class=\"lbl c1  \" ><span class=\"nd\">phrase </span> <span class=\"\"><span title=\"typ\">PP</span> <span title=\"function\">Cmpl</span></span></div><div class=\"features\"><span class=\"det xft\" ><span class=\"f\">det=</span>und</span><span class=\"function xft\" ><span class=\"f\">function=</span>Cmpl</span><span class=\"number xft\" ><span class=\"f\">number=</span>3</span><span class=\"typ xft\" ><span class=\"f\">typ=</span>PP</span></div><div class=\"children hor wrap rtl\"><div class=\"contnr c0 trm rtl  \" ><div class=\"lbl c0 trm \" ><a class=\" txtu hbo\" target=\"_blank\" href=\"https://shebanq.ancient-data.org/hebrew/word?version=2021&amp;id=1L\" title=\"Show this on SHEBANQ\"><span class=\"txtu hbo\">לְ</span></a></div><div class=\"features\"><span class=\"gloss \" title=\"gloss\">to</span><span class=\"pdp \" ><span class=\"f\">pdp=</span>prep</span><span class=\"freq_lex xft\" ><span class=\"f\">freq_lex=</span>20069</span><span class=\"g_cons xft\" ><span class=\"f\">g_cons=</span>L</span><span class=\"g_cons_utf8 xft\" ><span class=\"f\">g_cons_utf8=</span>ל</span><span class=\"g_lex xft\" ><span class=\"f\">g_lex=</span>L:-</span><span class=\"g_lex_utf8 xft\" ><span class=\"f\">g_lex_utf8=</span>לְ</span><span class=\"g_word xft\" ><span class=\"f\">g_word=</span>L:-</span><span class=\"g_word_utf8 xft\" ><span class=\"f\">g_word_utf8=</span>לְ</span><span class=\"language xft\" ><span class=\"f\">language=</span>Hebrew</span><span class=\"lex xft\" ><span class=\"f\">lex=</span>L</span><span class=\"lex_utf8 xft\" ><span class=\"f\">lex_utf8=</span>ל</span><span class=\"nme xft\" ><span class=\"f\">nme=</span>n/a</span><span class=\"number xft\" ><span class=\"f\">number=</span>3966</span><span class=\"pfm xft\" ><span class=\"f\">pfm=</span>n/a</span><span class=\"phono xft\" ><span class=\"f\">phono=</span>lᵊ</span><span class=\"phono_trailer xft\" ><span class=\"f\">phono_trailer=</span></span><span class=\"prs xft\" ><span class=\"f\">prs=</span>absent</span><span class=\"rank_lex xft\" ><span class=\"f\">rank_lex=</span>2</span><span class=\"sp xft\" ><span class=\"f\">sp=</span>prep</span><span class=\"trailer xft\" ><span class=\"f\">trailer=</span></span><span class=\"trailer_utf8 xft\" ><span class=\"f\">trailer_utf8=</span></span><span class=\"uvf xft\" ><span class=\"f\">uvf=</span>absent</span><span class=\"vbe xft\" ><span class=\"f\">vbe=</span>n/a</span><span class=\"vbs xft\" ><span class=\"f\">vbs=</span>n/a</span><span class=\"voc_lex xft\" ><span class=\"f\">voc_lex=</span>L:</span><span class=\"voc_lex_utf8 xft\" ><span class=\"f\">voc_lex_utf8=</span>לְ</span></div></div><div class=\"contnr c0 trm rtl  \" ><div class=\"lbl c0 trm \" ><a class=\" txtu hbo\" target=\"_blank\" href=\"https://shebanq.ancient-data.org/hebrew/word?version=2021&amp;id=1RJXn\" title=\"Show this on SHEBANQ\"><span class=\"txtu hbo\">רֵֽיחַ־</span></a></div><div class=\"features\"><span class=\"gloss \" title=\"gloss\">scent</span><span class=\"pdp \" ><span class=\"f\">pdp=</span>subs</span><span class=\"freq_lex xft\" ><span class=\"f\">freq_lex=</span>58</span><span class=\"g_cons xft\" ><span class=\"f\">g_cons=</span>RJX</span><span class=\"g_cons_utf8 xft\" ><span class=\"f\">g_cons_utf8=</span>ריח</span><span class=\"g_lex xft\" ><span class=\"f\">g_lex=</span>R;JXA</span><span class=\"g_lex_utf8 xft\" ><span class=\"f\">g_lex_utf8=</span>רֵיחַ</span><span class=\"g_word xft\" ><span class=\"f\">g_word=</span>R;45JXA</span><span class=\"g_word_utf8 xft\" ><span class=\"f\">g_word_utf8=</span>רֵֽיחַ</span><span class=\"gn xft\" ><span class=\"f\">gn=</span>m</span><span class=\"language xft\" ><span class=\"f\">language=</span>Hebrew</span><span class=\"lex xft\" ><span class=\"f\">lex=</span>RJX/</span><span class=\"lex_utf8 xft\" ><span class=\"f\">lex_utf8=</span>ריח</span><span class=\"nme xft\" ><span class=\"f\">nme=</span></span><span class=\"nu xft\" ><span class=\"f\">nu=</span>sg</span><span class=\"number xft\" ><span class=\"f\">number=</span>3967</span><span class=\"pfm xft\" ><span class=\"f\">pfm=</span>n/a</span><span class=\"phono xft\" ><span class=\"f\">phono=</span>rˈêₐḥ-</span><span class=\"phono_trailer xft\" ><span class=\"f\">phono_trailer=</span></span><span class=\"prs xft\" ><span class=\"f\">prs=</span>absent</span><span class=\"rank_lex xft\" ><span class=\"f\">rank_lex=</span>635</span><span class=\"sp xft\" ><span class=\"f\">sp=</span>subs</span><span class=\"st xft\" ><span class=\"f\">st=</span>c</span><span class=\"trailer xft\" ><span class=\"f\">trailer=</span>&amp;</span><span class=\"trailer_utf8 xft\" ><span class=\"f\">trailer_utf8=</span>־</span><span class=\"uvf xft\" ><span class=\"f\">uvf=</span>absent</span><span class=\"vbe xft\" ><span class=\"f\">vbe=</span>n/a</span><span class=\"vbs xft\" ><span class=\"f\">vbs=</span>n/a</span><span class=\"voc_lex xft\" ><span class=\"f\">voc_lex=</span>R;JXA</span><span class=\"voc_lex_utf8 xft\" ><span class=\"f\">voc_lex_utf8=</span>רֵיחַ</span></div></div><div class=\"contnr c0 trm rtl  \" ><div class=\"lbl c0 trm \" ><a class=\" txtu hbo\" target=\"_blank\" href=\"https://shebanq.ancient-data.org/hebrew/word?version=2021&amp;id=1NJXXn\" title=\"Show this on SHEBANQ\"><span class=\"txtu hbo\">נִיחֹ֨חַ֙ </span></a></div><div class=\"features\"><span class=\"gloss \" title=\"gloss\">smell of appeasement</span><span class=\"pdp \" ><span class=\"f\">pdp=</span>subs</span><span class=\"freq_lex xft\" ><span class=\"f\">freq_lex=</span>43</span><span class=\"g_cons xft\" ><span class=\"f\">g_cons=</span>NJXX</span><span class=\"g_cons_utf8 xft\" ><span class=\"f\">g_cons_utf8=</span>ניחח</span><span class=\"g_lex xft\" ><span class=\"f\">g_lex=</span>NIJXOXA</span><span class=\"g_lex_utf8 xft\" ><span class=\"f\">g_lex_utf8=</span>נִיחֹחַ</span><span class=\"g_word xft\" ><span class=\"f\">g_word=</span>NIJXO33XA03</span><span class=\"g_word_utf8 xft\" ><span class=\"f\">g_word_utf8=</span>נִיחֹ֨חַ֙</span><span class=\"gn xft\" ><span class=\"f\">gn=</span>m</span><span class=\"language xft\" ><span class=\"f\">language=</span>Hebrew</span><span class=\"lex xft\" ><span class=\"f\">lex=</span>NJXX/</span><span class=\"lex_utf8 xft\" ><span class=\"f\">lex_utf8=</span>ניחח</span><span class=\"nme xft\" ><span class=\"f\">nme=</span></span><span class=\"nu xft\" ><span class=\"f\">nu=</span>sg</span><span class=\"number xft\" ><span class=\"f\">number=</span>3968</span><span class=\"pfm xft\" ><span class=\"f\">pfm=</span>n/a</span><span class=\"phono xft\" ><span class=\"f\">phono=</span>nîḥˈōₐḥ</span><span class=\"phono_trailer xft\" ><span class=\"f\">phono_trailer=</span> </span><span class=\"prs xft\" ><span class=\"f\">prs=</span>absent</span><span class=\"rank_lex xft\" ><span class=\"f\">rank_lex=</span>822</span><span class=\"sp xft\" ><span class=\"f\">sp=</span>subs</span><span class=\"st xft\" ><span class=\"f\">st=</span>a</span><span class=\"trailer xft\" ><span class=\"f\">trailer=</span> </span><span class=\"trailer_utf8 xft\" ><span class=\"f\">trailer_utf8=</span> </span><span class=\"uvf xft\" ><span class=\"f\">uvf=</span>absent</span><span class=\"vbe xft\" ><span class=\"f\">vbe=</span>n/a</span><span class=\"vbs xft\" ><span class=\"f\">vbs=</span>n/a</span><span class=\"voc_lex xft\" ><span class=\"f\">voc_lex=</span>NIJXOXA</span><span class=\"voc_lex_utf8 xft\" ><span class=\"f\">voc_lex_utf8=</span>נִיחֹחַ</span></div></div></div></div></div></div></div></div><div class=\"contnr c2  rtl  \" ><div class=\"lbl c2  \" ><span class=\"nd\">sentence </span> <span class=\"\"><span title=\"number\">51</span></span></div><div class=\"features\"><span class=\"number xft\" ><span class=\"f\">number=</span>51</span></div><div class=\"children hor wrap rtl\"><div class=\"contnr c2  rtl  \" ><div class=\"lbl c2  \" ><span class=\"nd\">clause </span> <span class=\"\"><span title=\"typ\">NmCl</span> <span title=\"rela\">NA</span></span></div><div class=\"features\"><span class=\"domain xft\" ><span class=\"f\">domain=</span>N</span><span class=\"number xft\" ><span class=\"f\">number=</span>1</span><span class=\"txt xft\" ><span class=\"f\">txt=</span>N</span><span class=\"typ xft\" ><span class=\"f\">typ=</span>NmCl</span></div><div class=\"children hor wrap rtl\"><div class=\"contnr c1  rtl  \" ><div class=\"lbl c1  \" ><span class=\"nd\">phrase </span> <span class=\"\"><span title=\"typ\">NP</span> <span title=\"function\">PreC</span></span></div><div class=\"features\"><span class=\"det xft\" ><span class=\"f\">det=</span>und</span><span class=\"function xft\" ><span class=\"f\">function=</span>PreC</span><span class=\"number xft\" ><span class=\"f\">number=</span>1</span><span class=\"typ xft\" ><span class=\"f\">typ=</span>NP</span></div><div class=\"children hor wrap rtl\"><div class=\"contnr c0 trm rtl  \" ><div class=\"lbl c0 trm \" ><a class=\" txtu hbo\" target=\"_blank\" href=\"https://shebanq.ancient-data.org/hebrew/word?version=2021&amp;id=1ACHin\" title=\"Show this on SHEBANQ\"><span class=\"txtu hbo\">אִשֶּׁ֥ה </span></a></div><div class=\"features\"><span class=\"gloss \" title=\"gloss\">fire offering</span><span class=\"pdp \" ><span class=\"f\">pdp=</span>subs</span><span class=\"freq_lex xft\" ><span class=\"f\">freq_lex=</span>65</span><span class=\"g_cons xft\" ><span class=\"f\">g_cons=</span>>CH</span><span class=\"g_cons_utf8 xft\" ><span class=\"f\">g_cons_utf8=</span>אשׁה</span><span class=\"g_lex xft\" ><span class=\"f\">g_lex=</span>>IC.EH</span><span class=\"g_lex_utf8 xft\" ><span class=\"f\">g_lex_utf8=</span>אִשֶּׁה</span><span class=\"g_word xft\" ><span class=\"f\">g_word=</span>>IC.E71H</span><span class=\"g_word_utf8 xft\" ><span class=\"f\">g_word_utf8=</span>אִשֶּׁ֥ה</span><span class=\"gn xft\" ><span class=\"f\">gn=</span>m</span><span class=\"language xft\" ><span class=\"f\">language=</span>Hebrew</span><span class=\"lex xft\" ><span class=\"f\">lex=</span>>CH=/</span><span class=\"lex_utf8 xft\" ><span class=\"f\">lex_utf8=</span>אשׁה</span><span class=\"nme xft\" ><span class=\"f\">nme=</span></span><span class=\"nu xft\" ><span class=\"f\">nu=</span>sg</span><span class=\"number xft\" ><span class=\"f\">number=</span>3969</span><span class=\"pfm xft\" ><span class=\"f\">pfm=</span>n/a</span><span class=\"phono xft\" ><span class=\"f\">phono=</span>ʔiššˌeh</span><span class=\"phono_trailer xft\" ><span class=\"f\">phono_trailer=</span> </span><span class=\"prs xft\" ><span class=\"f\">prs=</span>absent</span><span class=\"rank_lex xft\" ><span class=\"f\">rank_lex=</span>585</span><span class=\"sp xft\" ><span class=\"f\">sp=</span>subs</span><span class=\"st xft\" ><span class=\"f\">st=</span>a</span><span class=\"trailer xft\" ><span class=\"f\">trailer=</span> </span><span class=\"trailer_utf8 xft\" ><span class=\"f\">trailer_utf8=</span> </span><span class=\"uvf xft\" ><span class=\"f\">uvf=</span>absent</span><span class=\"vbe xft\" ><span class=\"f\">vbe=</span>n/a</span><span class=\"vbs xft\" ><span class=\"f\">vbs=</span>n/a</span><span class=\"voc_lex xft\" ><span class=\"f\">voc_lex=</span>>IC.EH</span><span class=\"voc_lex_utf8 xft\" ><span class=\"f\">voc_lex_utf8=</span>אִשֶּׁה</span></div></div></div></div><div class=\"contnr c1  rtl  \" ><div class=\"lbl c1  \" ><span class=\"nd\">phrase </span> <span class=\"\"><span title=\"typ\">PPrP</span> <span title=\"function\">Subj</span></span></div><div class=\"features\"><span class=\"det xft\" ><span class=\"f\">det=</span>det</span><span class=\"function xft\" ><span class=\"f\">function=</span>Subj</span><span class=\"number xft\" ><span class=\"f\">number=</span>2</span><span class=\"typ xft\" ><span class=\"f\">typ=</span>PPrP</span></div><div class=\"children hor wrap rtl\"><div class=\"contnr c0 trm rtl  \" ><div class=\"lbl c0 trm \" ><a class=\" txtu hbo\" target=\"_blank\" href=\"https://shebanq.ancient-data.org/hebrew/word?version=2021&amp;id=1HWA\" title=\"Show this on SHEBANQ\"><span class=\"txtu hbo\">הוּא֙ </span></a></div><div class=\"features\"><span class=\"gloss \" title=\"gloss\">he</span><span class=\"pdp \" ><span class=\"f\">pdp=</span>prps</span><span class=\"freq_lex xft\" ><span class=\"f\">freq_lex=</span>1394</span><span class=\"g_cons xft\" ><span class=\"f\">g_cons=</span>HW></span><span class=\"g_cons_utf8 xft\" ><span class=\"f\">g_cons_utf8=</span>הוא</span><span class=\"g_lex xft\" ><span class=\"f\">g_lex=</span>HW.></span><span class=\"g_lex_utf8 xft\" ><span class=\"f\">g_lex_utf8=</span>הוּא</span><span class=\"g_word xft\" ><span class=\"f\">g_word=</span>HW.>03</span><span class=\"g_word_utf8 xft\" ><span class=\"f\">g_word_utf8=</span>הוּא֙</span><span class=\"gn xft\" ><span class=\"f\">gn=</span>m</span><span class=\"language xft\" ><span class=\"f\">language=</span>Hebrew</span><span class=\"lex xft\" ><span class=\"f\">lex=</span>HW></span><span class=\"lex_utf8 xft\" ><span class=\"f\">lex_utf8=</span>הוא</span><span class=\"nametype xft\" ><span class=\"f\">nametype=</span>ppde</span><span class=\"nme xft\" ><span class=\"f\">nme=</span>n/a</span><span class=\"nu xft\" ><span class=\"f\">nu=</span>sg</span><span class=\"number xft\" ><span class=\"f\">number=</span>3970</span><span class=\"pfm xft\" ><span class=\"f\">pfm=</span>n/a</span><span class=\"phono xft\" ><span class=\"f\">phono=</span>hû</span><span class=\"phono_trailer xft\" ><span class=\"f\">phono_trailer=</span> </span><span class=\"prs xft\" ><span class=\"f\">prs=</span>n/a</span><span class=\"ps xft\" ><span class=\"f\">ps=</span>p3</span><span class=\"rank_lex xft\" ><span class=\"f\">rank_lex=</span>32</span><span class=\"sp xft\" ><span class=\"f\">sp=</span>prps</span><span class=\"trailer xft\" ><span class=\"f\">trailer=</span> </span><span class=\"trailer_utf8 xft\" ><span class=\"f\">trailer_utf8=</span> </span><span class=\"uvf xft\" ><span class=\"f\">uvf=</span>absent</span><span class=\"vbe xft\" ><span class=\"f\">vbe=</span>n/a</span><span class=\"vbs xft\" ><span class=\"f\">vbs=</span>n/a</span><span class=\"voc_lex xft\" ><span class=\"f\">voc_lex=</span>HW.></span><span class=\"voc_lex_utf8 xft\" ><span class=\"f\">voc_lex_utf8=</span>הוּא</span></div></div></div></div><div class=\"contnr c1  rtl  \" ><div class=\"lbl c1  \" ><span class=\"nd\">phrase </span> <span class=\"\"><span title=\"typ\">PP</span> <span title=\"function\">Cmpl</span></span></div><div class=\"features\"><span class=\"det xft\" ><span class=\"f\">det=</span>det</span><span class=\"function xft\" ><span class=\"f\">function=</span>Cmpl</span><span class=\"number xft\" ><span class=\"f\">number=</span>3</span><span class=\"typ xft\" ><span class=\"f\">typ=</span>PP</span></div><div class=\"children hor wrap rtl\"><div class=\"contnr c0 trm rtl  \" ><div class=\"lbl c0 trm \" ><a class=\" txtu hbo\" target=\"_blank\" href=\"https://shebanq.ancient-data.org/hebrew/word?version=2021&amp;id=1L\" title=\"Show this on SHEBANQ\"><span class=\"txtu hbo\">לַ</span></a></div><div class=\"features\"><span class=\"gloss \" title=\"gloss\">to</span><span class=\"pdp \" ><span class=\"f\">pdp=</span>prep</span><span class=\"freq_lex xft\" ><span class=\"f\">freq_lex=</span>20069</span><span class=\"g_cons xft\" ><span class=\"f\">g_cons=</span>L</span><span class=\"g_cons_utf8 xft\" ><span class=\"f\">g_cons_utf8=</span>ל</span><span class=\"g_lex xft\" ><span class=\"f\">g_lex=</span>LA-</span><span class=\"g_lex_utf8 xft\" ><span class=\"f\">g_lex_utf8=</span>לַ</span><span class=\"g_word xft\" ><span class=\"f\">g_word=</span>LA-</span><span class=\"g_word_utf8 xft\" ><span class=\"f\">g_word_utf8=</span>לַ</span><span class=\"language xft\" ><span class=\"f\">language=</span>Hebrew</span><span class=\"lex xft\" ><span class=\"f\">lex=</span>L</span><span class=\"lex_utf8 xft\" ><span class=\"f\">lex_utf8=</span>ל</span><span class=\"nme xft\" ><span class=\"f\">nme=</span>n/a</span><span class=\"number xft\" ><span class=\"f\">number=</span>3971</span><span class=\"pfm xft\" ><span class=\"f\">pfm=</span>n/a</span><span class=\"phono xft\" ><span class=\"f\">phono=</span>la</span><span class=\"phono_trailer xft\" ><span class=\"f\">phono_trailer=</span></span><span class=\"prs xft\" ><span class=\"f\">prs=</span>absent</span><span class=\"rank_lex xft\" ><span class=\"f\">rank_lex=</span>2</span><span class=\"sp xft\" ><span class=\"f\">sp=</span>prep</span><span class=\"trailer xft\" ><span class=\"f\">trailer=</span></span><span class=\"trailer_utf8 xft\" ><span class=\"f\">trailer_utf8=</span></span><span class=\"uvf xft\" ><span class=\"f\">uvf=</span>absent</span><span class=\"vbe xft\" ><span class=\"f\">vbe=</span>n/a</span><span class=\"vbs xft\" ><span class=\"f\">vbs=</span>n/a</span><span class=\"voc_lex xft\" ><span class=\"f\">voc_lex=</span>L:</span><span class=\"voc_lex_utf8 xft\" ><span class=\"f\">voc_lex_utf8=</span>לְ</span></div></div><div class=\"contnr c0 trm rtl  \" ><div class=\"lbl c0 trm \" ><a class=\" txtu hbo\" target=\"_blank\" href=\"https://shebanq.ancient-data.org/hebrew/word?version=2021&amp;id=1JHWHn\" title=\"Show this on SHEBANQ\"><span class=\"txtu hbo\">יהוָ֔ה </span></a></div><div class=\"features\"><span class=\"gloss \" title=\"gloss\">YHWH</span><span class=\"pdp \" ><span class=\"f\">pdp=</span>nmpr</span><span class=\"freq_lex xft\" ><span class=\"f\">freq_lex=</span>6828</span><span class=\"g_cons xft\" ><span class=\"f\">g_cons=</span>JHWH</span><span class=\"g_cons_utf8 xft\" ><span class=\"f\">g_cons_utf8=</span>יהוה</span><span class=\"g_lex xft\" ><span class=\"f\">g_lex=</span>JHW@H</span><span class=\"g_lex_utf8 xft\" ><span class=\"f\">g_lex_utf8=</span>יהוָה</span><span class=\"g_word xft\" ><span class=\"f\">g_word=</span>JHW@80H</span><span class=\"g_word_utf8 xft\" ><span class=\"f\">g_word_utf8=</span>יהוָ֔ה</span><span class=\"gn xft\" ><span class=\"f\">gn=</span>m</span><span class=\"language xft\" ><span class=\"f\">language=</span>Hebrew</span><span class=\"lex xft\" ><span class=\"f\">lex=</span>JHWH/</span><span class=\"lex_utf8 xft\" ><span class=\"f\">lex_utf8=</span>יהוה</span><span class=\"nametype xft\" ><span class=\"f\">nametype=</span>pers</span><span class=\"nme xft\" ><span class=\"f\">nme=</span></span><span class=\"nu xft\" ><span class=\"f\">nu=</span>sg</span><span class=\"number xft\" ><span class=\"f\">number=</span>3972</span><span class=\"pfm xft\" ><span class=\"f\">pfm=</span>n/a</span><span class=\"phono xft\" ><span class=\"f\">phono=</span>[yhwˈāh]</span><span class=\"phono_trailer xft\" ><span class=\"f\">phono_trailer=</span> </span><span class=\"prs xft\" ><span class=\"f\">prs=</span>n/a</span><span class=\"rank_lex xft\" ><span class=\"f\">rank_lex=</span>6</span><span class=\"sp xft\" ><span class=\"f\">sp=</span>nmpr</span><span class=\"st xft\" ><span class=\"f\">st=</span>a</span><span class=\"trailer xft\" ><span class=\"f\">trailer=</span> </span><span class=\"trailer_utf8 xft\" ><span class=\"f\">trailer_utf8=</span> </span><span class=\"uvf xft\" ><span class=\"f\">uvf=</span>absent</span><span class=\"vbe xft\" ><span class=\"f\">vbe=</span>n/a</span><span class=\"vbs xft\" ><span class=\"f\">vbs=</span>n/a</span><span class=\"voc_lex xft\" ><span class=\"f\">voc_lex=</span>J:HW@H</span><span class=\"voc_lex_utf8 xft\" ><span class=\"f\">voc_lex_utf8=</span>יְהוָה</span></div></div></div></div></div></div><div class=\"contnr c2  rtl  \" ><div class=\"lbl c2  \" ><span class=\"nd\">clause </span> <span class=\"\"><span title=\"typ\">xQtX</span> <span title=\"rela\">Adju</span></span></div><div class=\"features\"><span class=\"domain xft\" ><span class=\"f\">domain=</span>N</span><span class=\"number xft\" ><span class=\"f\">number=</span>2</span><span class=\"rela xft\" ><span class=\"f\">rela=</span>Adju</span><span class=\"txt xft\" ><span class=\"f\">txt=</span>N</span><span class=\"typ xft\" ><span class=\"f\">typ=</span>xQtX</span></div><div class=\"children hor wrap rtl\"><div class=\"contnr c1  rtl  \" ><div class=\"lbl c1  \" ><span class=\"nd\">phrase </span> <span class=\"\"><span title=\"typ\">CP</span> <span title=\"function\">Conj</span></span></div><div class=\"features\"><span class=\"function xft\" ><span class=\"f\">function=</span>Conj</span><span class=\"number xft\" ><span class=\"f\">number=</span>1</span><span class=\"typ xft\" ><span class=\"f\">typ=</span>CP</span></div><div class=\"children hor wrap rtl\"><div class=\"contnr c0 trm rtl  \" ><div class=\"lbl c0 trm \" ><a class=\" txtu hbo\" target=\"_blank\" href=\"https://shebanq.ancient-data.org/hebrew/word?version=2021&amp;id=1K\" title=\"Show this on SHEBANQ\"><span class=\"txtu hbo\">כַּ</span></a></div><div class=\"features\"><span class=\"gloss \" title=\"gloss\">as</span><span class=\"pdp \" ><span class=\"f\">pdp=</span>prep</span><span class=\"freq_lex xft\" ><span class=\"f\">freq_lex=</span>2902</span><span class=\"g_cons xft\" ><span class=\"f\">g_cons=</span>K</span><span class=\"g_cons_utf8 xft\" ><span class=\"f\">g_cons_utf8=</span>כ</span><span class=\"g_lex xft\" ><span class=\"f\">g_lex=</span>K.A-</span><span class=\"g_lex_utf8 xft\" ><span class=\"f\">g_lex_utf8=</span>כַּ</span><span class=\"g_word xft\" ><span class=\"f\">g_word=</span>K.A-</span><span class=\"g_word_utf8 xft\" ><span class=\"f\">g_word_utf8=</span>כַּ</span><span class=\"language xft\" ><span class=\"f\">language=</span>Hebrew</span><span class=\"lex xft\" ><span class=\"f\">lex=</span>K</span><span class=\"lex_utf8 xft\" ><span class=\"f\">lex_utf8=</span>כ</span><span class=\"nme xft\" ><span class=\"f\">nme=</span>n/a</span><span class=\"number xft\" ><span class=\"f\">number=</span>3973</span><span class=\"pfm xft\" ><span class=\"f\">pfm=</span>n/a</span><span class=\"phono xft\" ><span class=\"f\">phono=</span>ka</span><span class=\"phono_trailer xft\" ><span class=\"f\">phono_trailer=</span></span><span class=\"prs xft\" ><span class=\"f\">prs=</span>absent</span><span class=\"rank_lex xft\" ><span class=\"f\">rank_lex=</span>16</span><span class=\"sp xft\" ><span class=\"f\">sp=</span>prep</span><span class=\"trailer xft\" ><span class=\"f\">trailer=</span></span><span class=\"trailer_utf8 xft\" ><span class=\"f\">trailer_utf8=</span></span><span class=\"uvf xft\" ><span class=\"f\">uvf=</span>absent</span><span class=\"vbe xft\" ><span class=\"f\">vbe=</span>n/a</span><span class=\"vbs xft\" ><span class=\"f\">vbs=</span>n/a</span><span class=\"voc_lex xft\" ><span class=\"f\">voc_lex=</span>K.:</span><span class=\"voc_lex_utf8 xft\" ><span class=\"f\">voc_lex_utf8=</span>כְּ</span></div></div><div class=\"contnr c0 trm rtl  \" ><div class=\"lbl c0 trm \" ><a class=\" txtu hbo\" target=\"_blank\" href=\"https://shebanq.ancient-data.org/hebrew/word?version=2021&amp;id=1ACR\" title=\"Show this on SHEBANQ\"><span class=\"txtu hbo\">אֲשֶׁ֛ר </span></a></div><div class=\"features\"><span class=\"gloss \" title=\"gloss\">&lt;relative></span><span class=\"pdp \" ><span class=\"f\">pdp=</span>conj</span><span class=\"freq_lex xft\" ><span class=\"f\">freq_lex=</span>5500</span><span class=\"g_cons xft\" ><span class=\"f\">g_cons=</span>>CR</span><span class=\"g_cons_utf8 xft\" ><span class=\"f\">g_cons_utf8=</span>אשׁר</span><span class=\"g_lex xft\" ><span class=\"f\">g_lex=</span>>:ACER</span><span class=\"g_lex_utf8 xft\" ><span class=\"f\">g_lex_utf8=</span>אֲשֶׁר</span><span class=\"g_word xft\" ><span class=\"f\">g_word=</span>>:ACE91R</span><span class=\"g_word_utf8 xft\" ><span class=\"f\">g_word_utf8=</span>אֲשֶׁ֛ר</span><span class=\"language xft\" ><span class=\"f\">language=</span>Hebrew</span><span class=\"lex xft\" ><span class=\"f\">lex=</span>>CR</span><span class=\"lex_utf8 xft\" ><span class=\"f\">lex_utf8=</span>אשׁר</span><span class=\"nme xft\" ><span class=\"f\">nme=</span>n/a</span><span class=\"number xft\" ><span class=\"f\">number=</span>3974</span><span class=\"pfm xft\" ><span class=\"f\">pfm=</span>n/a</span><span class=\"phono xft\" ><span class=\"f\">phono=</span>ʔᵃšˈer</span><span class=\"phono_trailer xft\" ><span class=\"f\">phono_trailer=</span> </span><span class=\"prs xft\" ><span class=\"f\">prs=</span>n/a</span><span class=\"rank_lex xft\" ><span class=\"f\">rank_lex=</span>9</span><span class=\"sp xft\" ><span class=\"f\">sp=</span>conj</span><span class=\"trailer xft\" ><span class=\"f\">trailer=</span> </span><span class=\"trailer_utf8 xft\" ><span class=\"f\">trailer_utf8=</span> </span><span class=\"uvf xft\" ><span class=\"f\">uvf=</span>absent</span><span class=\"vbe xft\" ><span class=\"f\">vbe=</span>n/a</span><span class=\"vbs xft\" ><span class=\"f\">vbs=</span>n/a</span><span class=\"voc_lex xft\" ><span class=\"f\">voc_lex=</span>>:ACER</span><span class=\"voc_lex_utf8 xft\" ><span class=\"f\">voc_lex_utf8=</span>אֲשֶׁר</span></div></div></div></div><div class=\"contnr c1  rtl  \" ><div class=\"lbl c1  \" ><span class=\"nd\">phrase </span> <span class=\"\"><span title=\"typ\">VP</span> <span title=\"function\">Pred</span></span></div><div class=\"features\"><span class=\"function xft\" ><span class=\"f\">function=</span>Pred</span><span class=\"number xft\" ><span class=\"f\">number=</span>2</span><span class=\"typ xft\" ><span class=\"f\">typ=</span>VP</span></div><div class=\"children hor wrap rtl\"><div class=\"contnr c0 trm rtl  \" ><div class=\"lbl c0 trm \" ><a class=\" txtu hbo\" target=\"_blank\" href=\"https://shebanq.ancient-data.org/hebrew/word?version=2021&amp;id=1YWHv\" title=\"Show this on SHEBANQ\"><span class=\"txtu hbo\">צִוָּ֥ה </span></a></div><div class=\"features\"><span class=\"gloss \" title=\"gloss\">command</span><span class=\"pdp \" ><span class=\"f\">pdp=</span>verb</span><span class=\"vs \" ><span class=\"f\">vs=</span>piel</span><span class=\"vt \" ><span class=\"f\">vt=</span>perf</span><span class=\"freq_lex xft\" ><span class=\"f\">freq_lex=</span>494</span><span class=\"g_cons xft\" ><span class=\"f\">g_cons=</span>YWH</span><span class=\"g_cons_utf8 xft\" ><span class=\"f\">g_cons_utf8=</span>צוה</span><span class=\"g_lex xft\" ><span class=\"f\">g_lex=</span>YIW.@H</span><span class=\"g_lex_utf8 xft\" ><span class=\"f\">g_lex_utf8=</span>צִוָּה</span><span class=\"g_word xft\" ><span class=\"f\">g_word=</span>YIW.@71H</span><span class=\"g_word_utf8 xft\" ><span class=\"f\">g_word_utf8=</span>צִוָּ֥ה</span><span class=\"gn xft\" ><span class=\"f\">gn=</span>m</span><span class=\"language xft\" ><span class=\"f\">language=</span>Hebrew</span><span class=\"lex xft\" ><span class=\"f\">lex=</span>YWH[</span><span class=\"lex_utf8 xft\" ><span class=\"f\">lex_utf8=</span>צוה</span><span class=\"nme xft\" ><span class=\"f\">nme=</span>absent</span><span class=\"nu xft\" ><span class=\"f\">nu=</span>sg</span><span class=\"number xft\" ><span class=\"f\">number=</span>3975</span><span class=\"pfm xft\" ><span class=\"f\">pfm=</span>absent</span><span class=\"phono xft\" ><span class=\"f\">phono=</span>ṣiwwˌā</span><span class=\"phono_trailer xft\" ><span class=\"f\">phono_trailer=</span> </span><span class=\"prs xft\" ><span class=\"f\">prs=</span>absent</span><span class=\"ps xft\" ><span class=\"f\">ps=</span>p3</span><span class=\"rank_lex xft\" ><span class=\"f\">rank_lex=</span>103</span><span class=\"sp xft\" ><span class=\"f\">sp=</span>verb</span><span class=\"trailer xft\" ><span class=\"f\">trailer=</span> </span><span class=\"trailer_utf8 xft\" ><span class=\"f\">trailer_utf8=</span> </span><span class=\"uvf xft\" ><span class=\"f\">uvf=</span>absent</span><span class=\"vbe xft\" ><span class=\"f\">vbe=</span></span><span class=\"vbs xft\" ><span class=\"f\">vbs=</span>absent</span><span class=\"voc_lex xft\" ><span class=\"f\">voc_lex=</span>YWH</span><span class=\"voc_lex_utf8 xft\" ><span class=\"f\">voc_lex_utf8=</span>צוה</span></div></div></div></div><div class=\"contnr c1  rtl  \" ><div class=\"lbl c1  \" ><span class=\"nd\">phrase </span> <span class=\"\"><span title=\"typ\">PrNP</span> <span title=\"function\">Subj</span></span></div><div class=\"features\"><span class=\"det xft\" ><span class=\"f\">det=</span>det</span><span class=\"function xft\" ><span class=\"f\">function=</span>Subj</span><span class=\"number xft\" ><span class=\"f\">number=</span>3</span><span class=\"typ xft\" ><span class=\"f\">typ=</span>PrNP</span></div><div class=\"children hor wrap rtl\"><div class=\"contnr c0 trm rtl  \" ><div class=\"lbl c0 trm \" ><a class=\" txtu hbo\" target=\"_blank\" href=\"https://shebanq.ancient-data.org/hebrew/word?version=2021&amp;id=1JHWHn\" title=\"Show this on SHEBANQ\"><span class=\"txtu hbo\">יְהוָ֖ה </span></a></div><div class=\"features\"><span class=\"gloss \" title=\"gloss\">YHWH</span><span class=\"pdp \" ><span class=\"f\">pdp=</span>nmpr</span><span class=\"freq_lex xft\" ><span class=\"f\">freq_lex=</span>6828</span><span class=\"g_cons xft\" ><span class=\"f\">g_cons=</span>JHWH</span><span class=\"g_cons_utf8 xft\" ><span class=\"f\">g_cons_utf8=</span>יהוה</span><span class=\"g_lex xft\" ><span class=\"f\">g_lex=</span>J:HW@H</span><span class=\"g_lex_utf8 xft\" ><span class=\"f\">g_lex_utf8=</span>יְהוָה</span><span class=\"g_word xft\" ><span class=\"f\">g_word=</span>J:HW@73H</span><span class=\"g_word_utf8 xft\" ><span class=\"f\">g_word_utf8=</span>יְהוָ֖ה</span><span class=\"gn xft\" ><span class=\"f\">gn=</span>m</span><span class=\"language xft\" ><span class=\"f\">language=</span>Hebrew</span><span class=\"lex xft\" ><span class=\"f\">lex=</span>JHWH/</span><span class=\"lex_utf8 xft\" ><span class=\"f\">lex_utf8=</span>יהוה</span><span class=\"nametype xft\" ><span class=\"f\">nametype=</span>pers</span><span class=\"nme xft\" ><span class=\"f\">nme=</span></span><span class=\"nu xft\" ><span class=\"f\">nu=</span>sg</span><span class=\"number xft\" ><span class=\"f\">number=</span>3976</span><span class=\"pfm xft\" ><span class=\"f\">pfm=</span>n/a</span><span class=\"phono xft\" ><span class=\"f\">phono=</span>[yᵊhwˌāh]</span><span class=\"phono_trailer xft\" ><span class=\"f\">phono_trailer=</span> </span><span class=\"prs xft\" ><span class=\"f\">prs=</span>n/a</span><span class=\"rank_lex xft\" ><span class=\"f\">rank_lex=</span>6</span><span class=\"sp xft\" ><span class=\"f\">sp=</span>nmpr</span><span class=\"st xft\" ><span class=\"f\">st=</span>a</span><span class=\"trailer xft\" ><span class=\"f\">trailer=</span> </span><span class=\"trailer_utf8 xft\" ><span class=\"f\">trailer_utf8=</span> </span><span class=\"uvf xft\" ><span class=\"f\">uvf=</span>absent</span><span class=\"vbe xft\" ><span class=\"f\">vbe=</span>n/a</span><span class=\"vbs xft\" ><span class=\"f\">vbs=</span>n/a</span><span class=\"voc_lex xft\" ><span class=\"f\">voc_lex=</span>J:HW@H</span><span class=\"voc_lex_utf8 xft\" ><span class=\"f\">voc_lex_utf8=</span>יְהוָה</span></div></div></div></div><div class=\"contnr c1  rtl  \" ><div class=\"lbl c1  \" ><span class=\"nd\">phrase </span> <span class=\"\"><span title=\"typ\">PP</span> <span title=\"function\">Objc</span></span></div><div class=\"features\"><span class=\"det xft\" ><span class=\"f\">det=</span>det</span><span class=\"function xft\" ><span class=\"f\">function=</span>Objc</span><span class=\"number xft\" ><span class=\"f\">number=</span>4</span><span class=\"typ xft\" ><span class=\"f\">typ=</span>PP</span></div><div class=\"children hor wrap rtl\"><div class=\"contnr c0 trm rtl  \" ><div class=\"lbl c0 trm \" ><a class=\" txtu hbo\" target=\"_blank\" href=\"https://shebanq.ancient-data.org/hebrew/word?version=2021&amp;id=1AT\" title=\"Show this on SHEBANQ\"><span class=\"txtu hbo\">אֶת־</span></a></div><div class=\"features\"><span class=\"gloss \" title=\"gloss\">&lt;object marker></span><span class=\"pdp \" ><span class=\"f\">pdp=</span>prep</span><span class=\"freq_lex xft\" ><span class=\"f\">freq_lex=</span>10987</span><span class=\"g_cons xft\" ><span class=\"f\">g_cons=</span>>T</span><span class=\"g_cons_utf8 xft\" ><span class=\"f\">g_cons_utf8=</span>את</span><span class=\"g_lex xft\" ><span class=\"f\">g_lex=</span>>ET</span><span class=\"g_lex_utf8 xft\" ><span class=\"f\">g_lex_utf8=</span>אֶת</span><span class=\"g_word xft\" ><span class=\"f\">g_word=</span>>ET</span><span class=\"g_word_utf8 xft\" ><span class=\"f\">g_word_utf8=</span>אֶת</span><span class=\"language xft\" ><span class=\"f\">language=</span>Hebrew</span><span class=\"lex xft\" ><span class=\"f\">lex=</span>>T</span><span class=\"lex_utf8 xft\" ><span class=\"f\">lex_utf8=</span>את</span><span class=\"nme xft\" ><span class=\"f\">nme=</span>n/a</span><span class=\"number xft\" ><span class=\"f\">number=</span>3977</span><span class=\"pfm xft\" ><span class=\"f\">pfm=</span>n/a</span><span class=\"phono xft\" ><span class=\"f\">phono=</span>ʔeṯ-</span><span class=\"phono_trailer xft\" ><span class=\"f\">phono_trailer=</span></span><span class=\"prs xft\" ><span class=\"f\">prs=</span>absent</span><span class=\"rank_lex xft\" ><span class=\"f\">rank_lex=</span>4</span><span class=\"sp xft\" ><span class=\"f\">sp=</span>prep</span><span class=\"trailer xft\" ><span class=\"f\">trailer=</span>&amp;</span><span class=\"trailer_utf8 xft\" ><span class=\"f\">trailer_utf8=</span>־</span><span class=\"uvf xft\" ><span class=\"f\">uvf=</span>absent</span><span class=\"vbe xft\" ><span class=\"f\">vbe=</span>n/a</span><span class=\"vbs xft\" ><span class=\"f\">vbs=</span>n/a</span><span class=\"voc_lex xft\" ><span class=\"f\">voc_lex=</span>>;T</span><span class=\"voc_lex_utf8 xft\" ><span class=\"f\">voc_lex_utf8=</span>אֵת</span></div></div><div class=\"contnr c0 trm rtl  \" ><div class=\"lbl c0 trm \" ><a class=\" txtu hbo\" target=\"_blank\" href=\"https://shebanq.ancient-data.org/hebrew/word?version=2021&amp;id=1MCHin\" title=\"Show this on SHEBANQ\"><span class=\"txtu hbo\">מֹשֶֽׁה׃ </span></a></div><div class=\"features\"><span class=\"gloss \" title=\"gloss\">Moses</span><span class=\"pdp \" ><span class=\"f\">pdp=</span>nmpr</span><span class=\"freq_lex xft\" ><span class=\"f\">freq_lex=</span>766</span><span class=\"g_cons xft\" ><span class=\"f\">g_cons=</span>MCH</span><span class=\"g_cons_utf8 xft\" ><span class=\"f\">g_cons_utf8=</span>משׁה</span><span class=\"g_lex xft\" ><span class=\"f\">g_lex=</span>MOCEH</span><span class=\"g_lex_utf8 xft\" ><span class=\"f\">g_lex_utf8=</span>מֹשֶׁה</span><span class=\"g_word xft\" ><span class=\"f\">g_word=</span>MOCE75H</span><span class=\"g_word_utf8 xft\" ><span class=\"f\">g_word_utf8=</span>מֹשֶֽׁה</span><span class=\"gn xft\" ><span class=\"f\">gn=</span>m</span><span class=\"language xft\" ><span class=\"f\">language=</span>Hebrew</span><span class=\"lex xft\" ><span class=\"f\">lex=</span>MCH=/</span><span class=\"lex_utf8 xft\" ><span class=\"f\">lex_utf8=</span>משׁה</span><span class=\"nametype xft\" ><span class=\"f\">nametype=</span>pers</span><span class=\"nme xft\" ><span class=\"f\">nme=</span></span><span class=\"nu xft\" ><span class=\"f\">nu=</span>sg</span><span class=\"number xft\" ><span class=\"f\">number=</span>3978</span><span class=\"pfm xft\" ><span class=\"f\">pfm=</span>n/a</span><span class=\"phono xft\" ><span class=\"f\">phono=</span>mōšˈeh</span><span class=\"phono_trailer xft\" ><span class=\"f\">phono_trailer=</span> . </span><span class=\"prs xft\" ><span class=\"f\">prs=</span>n/a</span><span class=\"rank_lex xft\" ><span class=\"f\">rank_lex=</span>66</span><span class=\"sp xft\" ><span class=\"f\">sp=</span>nmpr</span><span class=\"st xft\" ><span class=\"f\">st=</span>a</span><span class=\"trailer xft\" ><span class=\"f\">trailer=</span>00 </span><span class=\"trailer_utf8 xft\" ><span class=\"f\">trailer_utf8=</span>׃ </span><span class=\"uvf xft\" ><span class=\"f\">uvf=</span>absent</span><span class=\"vbe xft\" ><span class=\"f\">vbe=</span>n/a</span><span class=\"vbs xft\" ><span class=\"f\">vbs=</span>n/a</span><span class=\"voc_lex xft\" ><span class=\"f\">voc_lex=</span>MOCEH</span><span class=\"voc_lex_utf8 xft\" ><span class=\"f\">voc_lex_utf8=</span>מֹשֶׁה</span></div></div></div></div></div></div></div></div></div></div></div>"
      ],
      "text/plain": [
       "<IPython.core.display.HTML object>"
      ]
     },
     "metadata": {},
     "output_type": "display_data"
    }
   ],
   "source": [
    "BHS.show(WordResults,start=56463,end=56463,multiFeatures=True)"
   ]
  },
  {
   "cell_type": "markdown",
   "id": "744154c9-69a4-44ae-994f-905936faf2f1",
   "metadata": {},
   "source": [
    "## 3.2 - Center verse <a class=\"anchor\" id=\"bullet3x2\"></a>\n",
    "##### [Back to TOC](#TOC)"
   ]
  },
  {
   "cell_type": "code",
   "execution_count": 63,
   "id": "e361025d-7166-4e20-afbf-0189fabc2d0f",
   "metadata": {},
   "outputs": [
    {
     "name": "stdout",
     "output_type": "stream",
     "text": [
      "  0.04s 5853 results\n"
     ]
    }
   ],
   "source": [
    "# number of verses in Torah\n",
    "VerseQuery = '''\n",
    "book book=Genesis|Exodus|Leviticus|Numeri|Deuteronomium\n",
    "  verse \n",
    "'''\n",
    "\n",
    "VerseResults = BHS.search(VerseQuery)"
   ]
  },
  {
   "cell_type": "code",
   "execution_count": 30,
   "id": "d4d84db1-8411-4011-9fdf-b4d85a406960",
   "metadata": {},
   "outputs": [
    {
     "data": {
      "text/plain": [
       "(1414389, 1437601)"
      ]
     },
     "execution_count": 30,
     "metadata": {},
     "output_type": "execute_result"
    }
   ],
   "source": [
    "F.otype.sInterval('verse')"
   ]
  },
  {
   "cell_type": "code",
   "execution_count": 34,
   "id": "dff076df-be15-4ba0-b0a6-4ade13c9bef3",
   "metadata": {},
   "outputs": [
    {
     "data": {
      "text/plain": [
       "('Leviticus', 8, 9)"
      ]
     },
     "execution_count": 34,
     "metadata": {},
     "output_type": "execute_result"
    }
   ],
   "source": [
    "# start + delta: 1414389 + int(5853/2) = 1414389 + 2926 = 1417315\n",
    "T.sectionFromNode(1417315)"
   ]
  },
  {
   "cell_type": "code",
   "execution_count": 35,
   "id": "13888b1c-20c5-4107-9fa1-943d614929a4",
   "metadata": {},
   "outputs": [
    {
     "data": {
      "text/plain": [
       "'וַיָּ֥שֶׂם אֶת־הַמִּצְנֶ֖פֶת עַל־רֹאשֹׁ֑ו וַיָּ֨שֶׂם עַֽל־הַמִּצְנֶ֜פֶת אֶל־מ֣וּל פָּנָ֗יו אֵ֣ת צִ֤יץ הַזָּהָב֙ נֵ֣זֶר הַקֹּ֔דֶשׁ כַּאֲשֶׁ֛ר צִוָּ֥ה יְהוָ֖ה אֶת־מֹשֶֽׁה׃ '"
      ]
     },
     "execution_count": 35,
     "metadata": {},
     "output_type": "execute_result"
    }
   ],
   "source": [
    "T.text(1417315)"
   ]
  },
  {
   "cell_type": "code",
   "execution_count": 65,
   "id": "84a4378c-60c3-418f-b8f4-3f5adff650e7",
   "metadata": {},
   "outputs": [
    {
     "data": {
      "text/html": [
       "<p><b>result</b> <i>2926</i>"
      ],
      "text/plain": [
       "<IPython.core.display.HTML object>"
      ]
     },
     "metadata": {},
     "output_type": "display_data"
    },
    {
     "data": {
      "text/html": [
       "<div class=\"tfsechead rtl\"><span class=\"ltr\"><a target=\"_blank\" href=\"https://shebanq.ancient-data.org/hebrew/text?book=Leviticus&amp;chapter=1&amp;verse=1&amp;version=2021&amp;mr=m&amp;qw=q&amp;tp=txt_p&amp;tr=hb&amp;wget=v&amp;qget=v&amp;nget=vt\" title=\"Show this on SHEBANQ\" sec=\"Leviticus\">Leviticus</a></span></div><div class=\"rtl children\"><div class=\"contnr c4 trm rtl  \" ><div class=\"lbl c4 trm \" ><span class=\"nd\">book </span> <span class=\"txtu hbo\"><span class=\"tfsechead rtl\"><span class=\"ltr\">Leviticus</span></span></span></div><div class=\"features\"><span class=\"book xft\" ><span class=\"f\">book=</span>Leviticus</span></div></div></div>"
      ],
      "text/plain": [
       "<IPython.core.display.HTML object>"
      ]
     },
     "metadata": {},
     "output_type": "display_data"
    },
    {
     "data": {
      "text/html": [
       "<div class=\"tfsechead rtl\"><span class=\"ltr\"><a target=\"_blank\" href=\"https://shebanq.ancient-data.org/hebrew/text?book=Leviticus&amp;chapter=8&amp;verse=8&amp;version=2021&amp;mr=m&amp;qw=q&amp;tp=txt_p&amp;tr=hb&amp;wget=v&amp;qget=v&amp;nget=vt\" title=\"Show this on SHEBANQ\" sec=\"Leviticus 8:8\">Leviticus 8:8</a></span></div><div class=\"rtl children\"><div class=\"contnr c3  rtl  \" ><div class=\"lbl c3  \" ><span class=\"nd\">verse </span></div><div class=\"features\"><span class=\"book xft\" ><span class=\"f\">book=</span>Leviticus</span></div><div class=\"children hor wrap rtl\"><div class=\"contnr c2  rtl  \" ><div class=\"lbl c2  \" ><span class=\"nd\">sentence </span> <span class=\"\"><span title=\"number\">16</span></span></div><div class=\"children hor wrap rtl\"><div class=\"contnr c2  rtl  \" ><div class=\"lbl c2  \" ><span class=\"nd\">clause </span> <span class=\"\"><span title=\"typ\">Way0</span> <span title=\"rela\">NA</span></span></div><div class=\"children hor wrap rtl\"><div class=\"contnr c1  rtl  \" ><div class=\"lbl c1  \" ><span class=\"nd\">phrase </span> <span class=\"\"><span title=\"typ\">CP</span> <span title=\"function\">Conj</span></span></div><div class=\"children hor wrap rtl\"><div class=\"contnr c0 trm rtl  \" ><div class=\"lbl c0 trm \" ><a class=\" txtu hbo\" target=\"_blank\" href=\"https://shebanq.ancient-data.org/hebrew/word?version=2021&amp;id=1W\" title=\"Show this on SHEBANQ\"><span class=\"txtu hbo\">וַ</span></a></div></div></div></div><div class=\"contnr c1  rtl  \" ><div class=\"lbl c1  \" ><span class=\"nd\">phrase </span> <span class=\"\"><span title=\"typ\">VP</span> <span title=\"function\">Pred</span></span></div><div class=\"children hor wrap rtl\"><div class=\"contnr c0 trm rtl  \" ><div class=\"lbl c0 trm \" ><a class=\" txtu hbo\" target=\"_blank\" href=\"https://shebanq.ancient-data.org/hebrew/word?version=2021&amp;id=1FJMv\" title=\"Show this on SHEBANQ\"><span class=\"txtu hbo\">יָּ֥שֶׂם </span></a></div></div></div></div><div class=\"contnr c1  rtl  \" ><div class=\"lbl c1  \" ><span class=\"nd\">phrase </span> <span class=\"\"><span title=\"typ\">PP</span> <span title=\"function\">Cmpl</span></span></div><div class=\"children hor wrap rtl\"><div class=\"contnr c0 trm rtl  \" ><div class=\"lbl c0 trm \" ><a class=\" txtu hbo\" target=\"_blank\" href=\"https://shebanq.ancient-data.org/hebrew/word?version=2021&amp;id=1OL\" title=\"Show this on SHEBANQ\"><span class=\"txtu hbo\">עָלָ֖יו </span></a></div></div></div></div><div class=\"contnr c1  rtl  \" ><div class=\"lbl c1  \" ><span class=\"nd\">phrase </span> <span class=\"\"><span title=\"typ\">PP</span> <span title=\"function\">Objc</span></span></div><div class=\"children hor wrap rtl\"><div class=\"contnr c0 trm rtl  \" ><div class=\"lbl c0 trm \" ><a class=\" txtu hbo\" target=\"_blank\" href=\"https://shebanq.ancient-data.org/hebrew/word?version=2021&amp;id=1AT\" title=\"Show this on SHEBANQ\"><span class=\"txtu hbo\">אֶת־</span></a></div></div><div class=\"contnr c0 trm rtl  \" ><div class=\"lbl c0 trm \" ><a class=\" txtu hbo\" target=\"_blank\" href=\"https://shebanq.ancient-data.org/hebrew/word?version=2021&amp;id=1H\" title=\"Show this on SHEBANQ\"><span class=\"txtu hbo\">הַ</span></a></div></div><div class=\"contnr c0 trm rtl  \" ><div class=\"lbl c0 trm \" ><a class=\" txtu hbo\" target=\"_blank\" href=\"https://shebanq.ancient-data.org/hebrew/word?version=2021&amp;id=1XCNn\" title=\"Show this on SHEBANQ\"><span class=\"txtu hbo\">חֹ֑שֶׁן </span></a></div></div></div></div></div></div></div></div><div class=\"contnr c2  rtl  \" ><div class=\"lbl c2  \" ><span class=\"nd\">sentence </span> <span class=\"\"><span title=\"number\">17</span></span></div><div class=\"children hor wrap rtl\"><div class=\"contnr c2  rtl  \" ><div class=\"lbl c2  \" ><span class=\"nd\">clause </span> <span class=\"\"><span title=\"typ\">Way0</span> <span title=\"rela\">NA</span></span></div><div class=\"children hor wrap rtl\"><div class=\"contnr c1  rtl  \" ><div class=\"lbl c1  \" ><span class=\"nd\">phrase </span> <span class=\"\"><span title=\"typ\">CP</span> <span title=\"function\">Conj</span></span></div><div class=\"children hor wrap rtl\"><div class=\"contnr c0 trm rtl  \" ><div class=\"lbl c0 trm \" ><a class=\" txtu hbo\" target=\"_blank\" href=\"https://shebanq.ancient-data.org/hebrew/word?version=2021&amp;id=1W\" title=\"Show this on SHEBANQ\"><span class=\"txtu hbo\">וַ</span></a></div></div></div></div><div class=\"contnr c1  rtl  \" ><div class=\"lbl c1  \" ><span class=\"nd\">phrase </span> <span class=\"\"><span title=\"typ\">VP</span> <span title=\"function\">Pred</span></span></div><div class=\"children hor wrap rtl\"><div class=\"contnr c0 trm rtl  \" ><div class=\"lbl c0 trm \" ><a class=\" txtu hbo\" target=\"_blank\" href=\"https://shebanq.ancient-data.org/hebrew/word?version=2021&amp;id=1NTNv\" title=\"Show this on SHEBANQ\"><span class=\"txtu hbo\">יִּתֵּן֙ </span></a></div></div></div></div><div class=\"contnr c1  rtl  \" ><div class=\"lbl c1  \" ><span class=\"nd\">phrase </span> <span class=\"\"><span title=\"typ\">PP</span> <span title=\"function\">Cmpl</span></span></div><div class=\"children hor wrap rtl\"><div class=\"contnr c0 trm rtl  \" ><div class=\"lbl c0 trm \" ><a class=\" txtu hbo\" target=\"_blank\" href=\"https://shebanq.ancient-data.org/hebrew/word?version=2021&amp;id=1AL\" title=\"Show this on SHEBANQ\"><span class=\"txtu hbo\">אֶל־</span></a></div></div><div class=\"contnr c0 trm rtl  \" ><div class=\"lbl c0 trm \" ><a class=\" txtu hbo\" target=\"_blank\" href=\"https://shebanq.ancient-data.org/hebrew/word?version=2021&amp;id=1H\" title=\"Show this on SHEBANQ\"><span class=\"txtu hbo\">הַ</span></a></div></div><div class=\"contnr c0 trm rtl  \" ><div class=\"lbl c0 trm \" ><a class=\" txtu hbo\" target=\"_blank\" href=\"https://shebanq.ancient-data.org/hebrew/word?version=2021&amp;id=1XCNn\" title=\"Show this on SHEBANQ\"><span class=\"txtu hbo\">חֹ֔שֶׁן </span></a></div></div></div></div><div class=\"contnr c1  rtl  \" ><div class=\"lbl c1  \" ><span class=\"nd\">phrase </span> <span class=\"\"><span title=\"typ\">PP</span> <span title=\"function\">Objc</span></span></div><div class=\"children hor wrap rtl\"><div class=\"contnr c0 trm rtl  \" ><div class=\"lbl c0 trm \" ><a class=\" txtu hbo\" target=\"_blank\" href=\"https://shebanq.ancient-data.org/hebrew/word?version=2021&amp;id=1AT\" title=\"Show this on SHEBANQ\"><span class=\"txtu hbo\">אֶת־</span></a></div></div><div class=\"contnr c0 trm rtl  \" ><div class=\"lbl c0 trm \" ><a class=\" txtu hbo\" target=\"_blank\" href=\"https://shebanq.ancient-data.org/hebrew/word?version=2021&amp;id=1H\" title=\"Show this on SHEBANQ\"><span class=\"txtu hbo\">הָ</span></a></div></div><div class=\"contnr c0 trm rtl  \" ><div class=\"lbl c0 trm \" ><a class=\" txtu hbo\" target=\"_blank\" href=\"https://shebanq.ancient-data.org/hebrew/word?version=2021&amp;id=1AWRiin\" title=\"Show this on SHEBANQ\"><span class=\"txtu hbo\">אוּרִ֖ים </span></a></div></div><div class=\"contnr c0 trm rtl  \" ><div class=\"lbl c0 trm \" ><a class=\" txtu hbo\" target=\"_blank\" href=\"https://shebanq.ancient-data.org/hebrew/word?version=2021&amp;id=1W\" title=\"Show this on SHEBANQ\"><span class=\"txtu hbo\">וְ</span></a></div></div><div class=\"contnr c0 trm rtl  \" ><div class=\"lbl c0 trm \" ><a class=\" txtu hbo\" target=\"_blank\" href=\"https://shebanq.ancient-data.org/hebrew/word?version=2021&amp;id=1AT\" title=\"Show this on SHEBANQ\"><span class=\"txtu hbo\">אֶת־</span></a></div></div><div class=\"contnr c0 trm rtl  \" ><div class=\"lbl c0 trm \" ><a class=\" txtu hbo\" target=\"_blank\" href=\"https://shebanq.ancient-data.org/hebrew/word?version=2021&amp;id=1H\" title=\"Show this on SHEBANQ\"><span class=\"txtu hbo\">הַ</span></a></div></div><div class=\"contnr c0 trm rtl  \" ><div class=\"lbl c0 trm \" ><a class=\" txtu hbo\" target=\"_blank\" href=\"https://shebanq.ancient-data.org/hebrew/word?version=2021&amp;id=1TMJMin\" title=\"Show this on SHEBANQ\"><span class=\"txtu hbo\">תֻּמִּֽים׃ </span></a></div></div></div></div></div></div></div></div></div></div></div>"
      ],
      "text/plain": [
       "<IPython.core.display.HTML object>"
      ]
     },
     "metadata": {},
     "output_type": "display_data"
    }
   ],
   "source": [
    "BHS.show(VerseResults,start=2926,end=2926)"
   ]
  },
  {
   "cell_type": "markdown",
   "id": "935c6015-0b94-479e-890c-2e49eb4db512",
   "metadata": {},
   "source": [
    "## 3.3 - Center sentence <a class=\"anchor\" id=\"bullet3x3\"></a>\n",
    "##### [Back to TOC](#TOC)"
   ]
  },
  {
   "cell_type": "code",
   "execution_count": 40,
   "id": "66b221aa-04d4-42da-9a32-10bb2057ba63",
   "metadata": {},
   "outputs": [
    {
     "name": "stdout",
     "output_type": "stream",
     "text": [
      "  0.13s 15088 results\n"
     ]
    }
   ],
   "source": [
    "# number of sentences in Torah\n",
    "SentenceQuery = '''\n",
    "book book=Genesis|Exodus|Leviticus|Numeri|Deuteronomium\n",
    "  sentence \n",
    "'''\n",
    "\n",
    "SentenceResults = BHS.search(SentenceQuery)"
   ]
  },
  {
   "cell_type": "code",
   "execution_count": 42,
   "id": "384fc0c6-c270-4a0a-bd8d-cb5c8428ab7e",
   "metadata": {},
   "outputs": [
    {
     "data": {
      "text/plain": [
       "(1172308, 1236024)"
      ]
     },
     "execution_count": 42,
     "metadata": {},
     "output_type": "execute_result"
    }
   ],
   "source": [
    "F.otype.sInterval('sentence')"
   ]
  },
  {
   "cell_type": "code",
   "execution_count": 43,
   "id": "2d4c1485-48a5-474d-9479-9966c1c13c2d",
   "metadata": {},
   "outputs": [
    {
     "data": {
      "text/plain": [
       "('Exodus', 36, 11)"
      ]
     },
     "execution_count": 43,
     "metadata": {},
     "output_type": "execute_result"
    }
   ],
   "source": [
    "# start + delta: 1172308 + int(15088/2) = 1172308 + 7544 = 1179852\n",
    "T.sectionFromNode(1179852)"
   ]
  },
  {
   "cell_type": "code",
   "execution_count": 44,
   "id": "9b0ea95f-1584-4c26-83b5-2231a906d80f",
   "metadata": {},
   "outputs": [
    {
     "data": {
      "text/plain": [
       "'וַיַּ֜עַשׂ לֻֽלְאֹ֣ת תְּכֵ֗לֶת עַ֣ל שְׂפַ֤ת הַיְרִיעָה֙ הָֽאֶחָ֔ת מִקָּצָ֖ה בַּמַּחְבָּ֑רֶת '"
      ]
     },
     "execution_count": 44,
     "metadata": {},
     "output_type": "execute_result"
    }
   ],
   "source": [
    "T.text(1179852)"
   ]
  },
  {
   "cell_type": "code",
   "execution_count": 64,
   "id": "2420b17d-bb54-42e4-b57c-72085f5c271d",
   "metadata": {},
   "outputs": [
    {
     "data": {
      "text/html": [
       "<p><b>result</b> <i>7544</i>"
      ],
      "text/plain": [
       "<IPython.core.display.HTML object>"
      ]
     },
     "metadata": {},
     "output_type": "display_data"
    },
    {
     "data": {
      "text/html": [
       "<div class=\"tfsechead rtl\"><span class=\"ltr\"><a target=\"_blank\" href=\"https://shebanq.ancient-data.org/hebrew/text?book=Exodus&amp;chapter=1&amp;verse=1&amp;version=2021&amp;mr=m&amp;qw=q&amp;tp=txt_p&amp;tr=hb&amp;wget=v&amp;qget=v&amp;nget=vt\" title=\"Show this on SHEBANQ\" sec=\"Exodus\">Exodus</a></span></div><div class=\"rtl children\"><div class=\"contnr c4 trm rtl  \" ><div class=\"lbl c4 trm \" ><span class=\"nd\">book </span> <span class=\"txtu hbo\"><span class=\"tfsechead rtl\"><span class=\"ltr\">Exodus</span></span></span></div><div class=\"features\"><span class=\"book xft\" ><span class=\"f\">book=</span>Exodus</span></div></div></div>"
      ],
      "text/plain": [
       "<IPython.core.display.HTML object>"
      ]
     },
     "metadata": {},
     "output_type": "display_data"
    },
    {
     "data": {
      "text/html": [
       "<div class=\"tfsechead rtl\"><span class=\"ltr\"><a target=\"_blank\" href=\"https://shebanq.ancient-data.org/hebrew/text?book=Exodus&amp;chapter=36&amp;verse=10&amp;version=2021&amp;mr=m&amp;qw=q&amp;tp=txt_p&amp;tr=hb&amp;wget=v&amp;qget=v&amp;nget=vt\" title=\"Show this on SHEBANQ\" sec=\"Exodus 36:10\">Exodus 36:10</a></span></div><div class=\"rtl children\"><div class=\"contnr c3  rtl  \" ><div class=\"lbl c3  \" ><span class=\"nd\">verse </span></div><div class=\"features\"><span class=\"book xft\" ><span class=\"f\">book=</span>Exodus</span></div><div class=\"children hor wrap rtl\"><div class=\"contnr c2  rtl  \" ><div class=\"lbl c2  \" ><span class=\"nd\">sentence </span> <span class=\"\"><span title=\"number\">19</span></span></div><div class=\"children hor wrap rtl\"><div class=\"contnr c2  rtl  \" ><div class=\"lbl c2  \" ><span class=\"nd\">clause </span> <span class=\"\"><span title=\"typ\">Way0</span> <span title=\"rela\">NA</span></span></div><div class=\"children hor wrap rtl\"><div class=\"contnr c1  rtl  \" ><div class=\"lbl c1  \" ><span class=\"nd\">phrase </span> <span class=\"\"><span title=\"typ\">CP</span> <span title=\"function\">Conj</span></span></div><div class=\"children hor wrap rtl\"><div class=\"contnr c0 trm rtl  \" ><div class=\"lbl c0 trm \" ><a class=\" txtu hbo\" target=\"_blank\" href=\"https://shebanq.ancient-data.org/hebrew/word?version=2021&amp;id=1W\" title=\"Show this on SHEBANQ\"><span class=\"txtu hbo\">וַ</span></a></div></div></div></div><div class=\"contnr c1  rtl  \" ><div class=\"lbl c1  \" ><span class=\"nd\">phrase </span> <span class=\"\"><span title=\"typ\">VP</span> <span title=\"function\">Pred</span></span></div><div class=\"children hor wrap rtl\"><div class=\"contnr c0 trm rtl  \" ><div class=\"lbl c0 trm \" ><a class=\" txtu hbo\" target=\"_blank\" href=\"https://shebanq.ancient-data.org/hebrew/word?version=2021&amp;id=1XBRv\" title=\"Show this on SHEBANQ\"><span class=\"txtu hbo\">יְחַבֵּר֙ </span></a></div></div></div></div><div class=\"contnr c1  rtl  \" ><div class=\"lbl c1  \" ><span class=\"nd\">phrase </span> <span class=\"\"><span title=\"typ\">PP</span> <span title=\"function\">Objc</span></span></div><div class=\"children hor wrap rtl\"><div class=\"contnr c0 trm rtl  \" ><div class=\"lbl c0 trm \" ><a class=\" txtu hbo\" target=\"_blank\" href=\"https://shebanq.ancient-data.org/hebrew/word?version=2021&amp;id=1AT\" title=\"Show this on SHEBANQ\"><span class=\"txtu hbo\">אֶת־</span></a></div></div><div class=\"contnr c0 trm rtl  \" ><div class=\"lbl c0 trm \" ><a class=\" txtu hbo\" target=\"_blank\" href=\"https://shebanq.ancient-data.org/hebrew/word?version=2021&amp;id=1XMCn\" title=\"Show this on SHEBANQ\"><span class=\"txtu hbo\">חֲמֵ֣שׁ </span></a></div></div><div class=\"contnr c0 trm rtl  \" ><div class=\"lbl c0 trm \" ><a class=\" txtu hbo\" target=\"_blank\" href=\"https://shebanq.ancient-data.org/hebrew/word?version=2021&amp;id=1H\" title=\"Show this on SHEBANQ\"><span class=\"txtu hbo\">הַ</span></a></div></div><div class=\"contnr c0 trm rtl  \" ><div class=\"lbl c0 trm \" ><a class=\" txtu hbo\" target=\"_blank\" href=\"https://shebanq.ancient-data.org/hebrew/word?version=2021&amp;id=1JRJOHn\" title=\"Show this on SHEBANQ\"><span class=\"txtu hbo\">יְרִיעֹ֔ת </span></a></div></div></div></div></div></div><div class=\"contnr c2  rtl  \" ><div class=\"lbl c2  \" ><span class=\"nd\">clause </span> <span class=\"\"><span title=\"typ\">Ellp</span> <span title=\"rela\">Adju</span></span></div><div class=\"children hor wrap rtl\"><div class=\"contnr c1  rtl  \" ><div class=\"lbl c1  \" ><span class=\"nd\">phrase </span> <span class=\"\"><span title=\"typ\">NP</span> <span title=\"function\">Objc</span></span></div><div class=\"children hor wrap rtl\"><div class=\"contnr c0 trm rtl  \" ><div class=\"lbl c0 trm \" ><a class=\" txtu hbo\" target=\"_blank\" href=\"https://shebanq.ancient-data.org/hebrew/word?version=2021&amp;id=1AXDn\" title=\"Show this on SHEBANQ\"><span class=\"txtu hbo\">אַחַ֖ת </span></a></div></div></div></div><div class=\"contnr c1  rtl  \" ><div class=\"lbl c1  \" ><span class=\"nd\">phrase </span> <span class=\"\"><span title=\"typ\">PP</span> <span title=\"function\">Cmpl</span></span></div><div class=\"children hor wrap rtl\"><div class=\"contnr c0 trm rtl  \" ><div class=\"lbl c0 trm \" ><a class=\" txtu hbo\" target=\"_blank\" href=\"https://shebanq.ancient-data.org/hebrew/word?version=2021&amp;id=1AL\" title=\"Show this on SHEBANQ\"><span class=\"txtu hbo\">אֶל־</span></a></div></div><div class=\"contnr c0 trm rtl  \" ><div class=\"lbl c0 trm \" ><a class=\" txtu hbo\" target=\"_blank\" href=\"https://shebanq.ancient-data.org/hebrew/word?version=2021&amp;id=1AXDn\" title=\"Show this on SHEBANQ\"><span class=\"txtu hbo\">אֶחָ֑ת </span></a></div></div></div></div></div></div></div></div><div class=\"contnr c2  rtl  hl\" ><div class=\"lbl c2  hl\" ><span class=\"nd\">sentence </span> <span class=\"\"><span title=\"number\">20</span></span></div><div class=\"children hor wrap rtl\"><div class=\"contnr c2  rtl  \" ><div class=\"lbl c2  \" ><span class=\"nd\">clause </span> <span class=\"\"><span title=\"typ\">WxQ0</span> <span title=\"rela\">NA</span></span></div><div class=\"children hor wrap rtl\"><div class=\"contnr c1  rtl  \" ><div class=\"lbl c1  \" ><span class=\"nd\">phrase </span> <span class=\"\"><span title=\"typ\">CP</span> <span title=\"function\">Conj</span></span></div><div class=\"children hor wrap rtl\"><div class=\"contnr c0 trm rtl  \" ><div class=\"lbl c0 trm \" ><a class=\" txtu hbo\" target=\"_blank\" href=\"https://shebanq.ancient-data.org/hebrew/word?version=2021&amp;id=1W\" title=\"Show this on SHEBANQ\"><span class=\"txtu hbo\">וְ</span></a></div></div></div></div><div class=\"contnr c1  rtl  \" ><div class=\"lbl c1  \" ><span class=\"nd\">phrase </span> <span class=\"\"><span title=\"typ\">NP</span> <span title=\"function\">Objc</span></span></div><div class=\"children hor wrap rtl\"><div class=\"contnr c0 trm rtl  \" ><div class=\"lbl c0 trm \" ><a class=\" txtu hbo\" target=\"_blank\" href=\"https://shebanq.ancient-data.org/hebrew/word?version=2021&amp;id=1XMCn\" title=\"Show this on SHEBANQ\"><span class=\"txtu hbo\">חָמֵ֤שׁ </span></a></div></div><div class=\"contnr c0 trm rtl  \" ><div class=\"lbl c0 trm \" ><a class=\" txtu hbo\" target=\"_blank\" href=\"https://shebanq.ancient-data.org/hebrew/word?version=2021&amp;id=1JRJOHn\" title=\"Show this on SHEBANQ\"><span class=\"txtu hbo\">יְרִיעֹת֙ </span></a></div></div></div></div><div class=\"contnr c1  rtl  \" ><div class=\"lbl c1  \" ><span class=\"nd\">phrase </span> <span class=\"\"><span title=\"typ\">VP</span> <span title=\"function\">Pred</span></span></div><div class=\"children hor wrap rtl\"><div class=\"contnr c0 trm rtl  \" ><div class=\"lbl c0 trm \" ><a class=\" txtu hbo\" target=\"_blank\" href=\"https://shebanq.ancient-data.org/hebrew/word?version=2021&amp;id=1XBRv\" title=\"Show this on SHEBANQ\"><span class=\"txtu hbo\">חִבַּ֔ר </span></a></div></div></div></div></div></div><div class=\"contnr c2  rtl  \" ><div class=\"lbl c2  \" ><span class=\"nd\">clause </span> <span class=\"\"><span title=\"typ\">Ellp</span> <span title=\"rela\">Adju</span></span></div><div class=\"children hor wrap rtl\"><div class=\"contnr c1  rtl  \" ><div class=\"lbl c1  \" ><span class=\"nd\">phrase </span> <span class=\"\"><span title=\"typ\">NP</span> <span title=\"function\">Objc</span></span></div><div class=\"children hor wrap rtl\"><div class=\"contnr c0 trm rtl  \" ><div class=\"lbl c0 trm \" ><a class=\" txtu hbo\" target=\"_blank\" href=\"https://shebanq.ancient-data.org/hebrew/word?version=2021&amp;id=1AXDn\" title=\"Show this on SHEBANQ\"><span class=\"txtu hbo\">אַחַ֖ת </span></a></div></div></div></div><div class=\"contnr c1  rtl  \" ><div class=\"lbl c1  \" ><span class=\"nd\">phrase </span> <span class=\"\"><span title=\"typ\">PP</span> <span title=\"function\">Cmpl</span></span></div><div class=\"children hor wrap rtl\"><div class=\"contnr c0 trm rtl  \" ><div class=\"lbl c0 trm \" ><a class=\" txtu hbo\" target=\"_blank\" href=\"https://shebanq.ancient-data.org/hebrew/word?version=2021&amp;id=1AL\" title=\"Show this on SHEBANQ\"><span class=\"txtu hbo\">אֶל־</span></a></div></div><div class=\"contnr c0 trm rtl  \" ><div class=\"lbl c0 trm \" ><a class=\" txtu hbo\" target=\"_blank\" href=\"https://shebanq.ancient-data.org/hebrew/word?version=2021&amp;id=1AXDn\" title=\"Show this on SHEBANQ\"><span class=\"txtu hbo\">אֶחָֽת׃ </span></a></div></div></div></div></div></div></div></div></div></div></div>"
      ],
      "text/plain": [
       "<IPython.core.display.HTML object>"
      ]
     },
     "metadata": {},
     "output_type": "display_data"
    }
   ],
   "source": [
    "BHS.show(SentenceResults,start=7544,end=7544)"
   ]
  },
  {
   "cell_type": "markdown",
   "id": "2ab19500-9c29-42bc-b185-4f1131541796",
   "metadata": {},
   "source": [
    "## 3.4 - Center clause <a class=\"anchor\" id=\"bullet3x4\"></a>\n",
    "##### [Back to TOC](#TOC)"
   ]
  },
  {
   "cell_type": "code",
   "execution_count": 36,
   "id": "a3294875-8052-41d1-8ca9-44f7cbe6cd0b",
   "metadata": {},
   "outputs": [
    {
     "name": "stdout",
     "output_type": "stream",
     "text": [
      "  0.11s 21181 results\n"
     ]
    }
   ],
   "source": [
    "# number of clauses in Torah\n",
    "ClauseQuery = '''\n",
    "book book=Genesis|Exodus|Leviticus|Numeri|Deuteronomium\n",
    "  clause \n",
    "'''\n",
    "\n",
    "ClauseResults = BHS.search(ClauseQuery)"
   ]
  },
  {
   "cell_type": "code",
   "execution_count": 37,
   "id": "db9f9a08-7e9e-4fea-92f8-bc9baf2220d4",
   "metadata": {},
   "outputs": [
    {
     "data": {
      "text/plain": [
       "(427559, 515689)"
      ]
     },
     "execution_count": 37,
     "metadata": {},
     "output_type": "execute_result"
    }
   ],
   "source": [
    "F.otype.sInterval('clause')"
   ]
  },
  {
   "cell_type": "code",
   "execution_count": 38,
   "id": "92827185-0ce5-495a-bece-a17ac430e081",
   "metadata": {},
   "outputs": [
    {
     "data": {
      "text/plain": [
       "('Leviticus', 4, 35)"
      ]
     },
     "execution_count": 38,
     "metadata": {},
     "output_type": "execute_result"
    }
   ],
   "source": [
    "# start + delta: 427559 + int(21181/2) = 427559 + 10590 = 438149\n",
    "T.sectionFromNode(438149)"
   ]
  },
  {
   "cell_type": "code",
   "execution_count": 39,
   "id": "e901a175-6c56-4b25-950f-f0eaa71d5df5",
   "metadata": {},
   "outputs": [
    {
     "data": {
      "text/plain": [
       "'וְאֶת־כָּל־חֶלְבָּ֣ה יָסִ֗יר '"
      ]
     },
     "execution_count": 39,
     "metadata": {},
     "output_type": "execute_result"
    }
   ],
   "source": [
    "T.text(438149)"
   ]
  },
  {
   "cell_type": "code",
   "execution_count": 60,
   "id": "561be90b-a335-4fcd-b9ed-4251e181f9b7",
   "metadata": {},
   "outputs": [
    {
     "data": {
      "text/html": [
       "<p><b>result</b> <i>10590</i>"
      ],
      "text/plain": [
       "<IPython.core.display.HTML object>"
      ]
     },
     "metadata": {},
     "output_type": "display_data"
    },
    {
     "data": {
      "text/html": [
       "<div class=\"tfsechead rtl\"><span class=\"ltr\"><a target=\"_blank\" href=\"https://shebanq.ancient-data.org/hebrew/text?book=Leviticus&amp;chapter=1&amp;verse=1&amp;version=2021&amp;mr=m&amp;qw=q&amp;tp=txt_p&amp;tr=hb&amp;wget=v&amp;qget=v&amp;nget=vt\" title=\"Show this on SHEBANQ\" sec=\"Leviticus\">Leviticus</a></span></div><div class=\"rtl children\"><div class=\"contnr c4 trm rtl  \" ><div class=\"lbl c4 trm \" ><span class=\"nd\">book </span> <span class=\"txtu hbo\"><span class=\"tfsechead rtl\"><span class=\"ltr\">Leviticus</span></span></span></div><div class=\"features\"><span class=\"book xft\" ><span class=\"f\">book=</span>Leviticus</span></div></div></div>"
      ],
      "text/plain": [
       "<IPython.core.display.HTML object>"
      ]
     },
     "metadata": {},
     "output_type": "display_data"
    },
    {
     "data": {
      "text/html": [
       "<div class=\"tfsechead rtl\"><span class=\"ltr\"><a target=\"_blank\" href=\"https://shebanq.ancient-data.org/hebrew/text?book=Leviticus&amp;chapter=4&amp;verse=34&amp;version=2021&amp;mr=m&amp;qw=q&amp;tp=txt_p&amp;tr=hb&amp;wget=v&amp;qget=v&amp;nget=vt\" title=\"Show this on SHEBANQ\" sec=\"Leviticus 4:34\">Leviticus 4:34</a></span></div><div class=\"rtl children\"><div class=\"contnr c3  rtl  \" ><div class=\"lbl c3  \" ><span class=\"nd\">verse </span></div><div class=\"features\"><span class=\"book xft\" ><span class=\"f\">book=</span>Leviticus</span></div><div class=\"children hor wrap rtl\"><div class=\"contnr c2  rtl  \" ><div class=\"lbl c2  \" ><span class=\"nd\">sentence </span> <span class=\"\"><span title=\"number\">75</span></span></div><div class=\"children hor wrap rtl\"><div class=\"contnr c2  rtl  \" ><div class=\"lbl c2  \" ><span class=\"nd\">clause </span> <span class=\"\"><span title=\"typ\">WQtX</span> <span title=\"rela\">NA</span></span></div><div class=\"children hor wrap rtl\"><div class=\"contnr c1  rtl  \" ><div class=\"lbl c1  \" ><span class=\"nd\">phrase </span> <span class=\"\"><span title=\"typ\">CP</span> <span title=\"function\">Conj</span></span></div><div class=\"children hor wrap rtl\"><div class=\"contnr c0 trm rtl  \" ><div class=\"lbl c0 trm \" ><a class=\" txtu hbo\" target=\"_blank\" href=\"https://shebanq.ancient-data.org/hebrew/word?version=2021&amp;id=1W\" title=\"Show this on SHEBANQ\"><span class=\"txtu hbo\">וְ</span></a></div></div></div></div><div class=\"contnr c1  rtl  \" ><div class=\"lbl c1  \" ><span class=\"nd\">phrase </span> <span class=\"\"><span title=\"typ\">VP</span> <span title=\"function\">Pred</span></span></div><div class=\"children hor wrap rtl\"><div class=\"contnr c0 trm rtl  \" ><div class=\"lbl c0 trm \" ><a class=\" txtu hbo\" target=\"_blank\" href=\"https://shebanq.ancient-data.org/hebrew/word?version=2021&amp;id=1LQXv\" title=\"Show this on SHEBANQ\"><span class=\"txtu hbo\">לָקַ֨ח </span></a></div></div></div></div><div class=\"contnr c1  rtl  \" ><div class=\"lbl c1  \" ><span class=\"nd\">phrase </span> <span class=\"\"><span title=\"typ\">NP</span> <span title=\"function\">Subj</span></span></div><div class=\"children hor wrap rtl\"><div class=\"contnr c0 trm rtl  \" ><div class=\"lbl c0 trm \" ><a class=\" txtu hbo\" target=\"_blank\" href=\"https://shebanq.ancient-data.org/hebrew/word?version=2021&amp;id=1H\" title=\"Show this on SHEBANQ\"><span class=\"txtu hbo\">הַ</span></a></div></div><div class=\"contnr c0 trm rtl  \" ><div class=\"lbl c0 trm \" ><a class=\" txtu hbo\" target=\"_blank\" href=\"https://shebanq.ancient-data.org/hebrew/word?version=2021&amp;id=1KHNn\" title=\"Show this on SHEBANQ\"><span class=\"txtu hbo\">כֹּהֵ֜ן </span></a></div></div></div></div><div class=\"contnr c1  rtl  \" ><div class=\"lbl c1  \" ><span class=\"nd\">phrase </span> <span class=\"\"><span title=\"typ\">PP</span> <span title=\"function\">Cmpl</span></span></div><div class=\"children hor wrap rtl\"><div class=\"contnr c0 trm rtl  \" ><div class=\"lbl c0 trm \" ><a class=\" txtu hbo\" target=\"_blank\" href=\"https://shebanq.ancient-data.org/hebrew/word?version=2021&amp;id=1MN\" title=\"Show this on SHEBANQ\"><span class=\"txtu hbo\">מִ</span></a></div></div><div class=\"contnr c0 trm rtl  \" ><div class=\"lbl c0 trm \" ><a class=\" txtu hbo\" target=\"_blank\" href=\"https://shebanq.ancient-data.org/hebrew/word?version=2021&amp;id=1DMn\" title=\"Show this on SHEBANQ\"><span class=\"txtu hbo\">דַּ֤ם </span></a></div></div><div class=\"contnr c0 trm rtl  \" ><div class=\"lbl c0 trm \" ><a class=\" txtu hbo\" target=\"_blank\" href=\"https://shebanq.ancient-data.org/hebrew/word?version=2021&amp;id=1H\" title=\"Show this on SHEBANQ\"><span class=\"txtu hbo\">הַֽ</span></a></div></div><div class=\"contnr c0 trm rtl  \" ><div class=\"lbl c0 trm \" ><a class=\" txtu hbo\" target=\"_blank\" href=\"https://shebanq.ancient-data.org/hebrew/word?version=2021&amp;id=1XVATn\" title=\"Show this on SHEBANQ\"><span class=\"txtu hbo\">חַטָּאת֙ </span></a></div></div></div></div><div class=\"contnr c1  rtl  \" ><div class=\"lbl c1  \" ><span class=\"nd\">phrase </span> <span class=\"\"><span title=\"typ\">PP</span> <span title=\"function\">Cmpl</span></span></div><div class=\"children hor wrap rtl\"><div class=\"contnr c0 trm rtl  \" ><div class=\"lbl c0 trm \" ><a class=\" txtu hbo\" target=\"_blank\" href=\"https://shebanq.ancient-data.org/hebrew/word?version=2021&amp;id=1B\" title=\"Show this on SHEBANQ\"><span class=\"txtu hbo\">בְּ</span></a></div></div><div class=\"contnr c0 trm rtl  \" ><div class=\"lbl c0 trm \" ><a class=\" txtu hbo\" target=\"_blank\" href=\"https://shebanq.ancient-data.org/hebrew/word?version=2021&amp;id=1AYBOn\" title=\"Show this on SHEBANQ\"><span class=\"txtu hbo\">אֶצְבָּעֹ֔ו </span></a></div></div></div></div></div></div></div></div><div class=\"contnr c2  rtl  \" ><div class=\"lbl c2  \" ><span class=\"nd\">sentence </span> <span class=\"\"><span title=\"number\">76</span></span></div><div class=\"children hor wrap rtl\"><div class=\"contnr c2  rtl  \" ><div class=\"lbl c2  \" ><span class=\"nd\">clause </span> <span class=\"\"><span title=\"typ\">WQt0</span> <span title=\"rela\">NA</span></span></div><div class=\"children hor wrap rtl\"><div class=\"contnr c1  rtl  \" ><div class=\"lbl c1  \" ><span class=\"nd\">phrase </span> <span class=\"\"><span title=\"typ\">CP</span> <span title=\"function\">Conj</span></span></div><div class=\"children hor wrap rtl\"><div class=\"contnr c0 trm rtl  \" ><div class=\"lbl c0 trm \" ><a class=\" txtu hbo\" target=\"_blank\" href=\"https://shebanq.ancient-data.org/hebrew/word?version=2021&amp;id=1W\" title=\"Show this on SHEBANQ\"><span class=\"txtu hbo\">וְ</span></a></div></div></div></div><div class=\"contnr c1  rtl  \" ><div class=\"lbl c1  \" ><span class=\"nd\">phrase </span> <span class=\"\"><span title=\"typ\">VP</span> <span title=\"function\">Pred</span></span></div><div class=\"children hor wrap rtl\"><div class=\"contnr c0 trm rtl  \" ><div class=\"lbl c0 trm \" ><a class=\" txtu hbo\" target=\"_blank\" href=\"https://shebanq.ancient-data.org/hebrew/word?version=2021&amp;id=1NTNv\" title=\"Show this on SHEBANQ\"><span class=\"txtu hbo\">נָתַ֕ן </span></a></div></div></div></div><div class=\"contnr c1  rtl  \" ><div class=\"lbl c1  \" ><span class=\"nd\">phrase </span> <span class=\"\"><span title=\"typ\">PP</span> <span title=\"function\">Cmpl</span></span></div><div class=\"children hor wrap rtl\"><div class=\"contnr c0 trm rtl  \" ><div class=\"lbl c0 trm \" ><a class=\" txtu hbo\" target=\"_blank\" href=\"https://shebanq.ancient-data.org/hebrew/word?version=2021&amp;id=1OL\" title=\"Show this on SHEBANQ\"><span class=\"txtu hbo\">עַל־</span></a></div></div><div class=\"contnr c0 trm rtl  \" ><div class=\"lbl c0 trm \" ><a class=\" txtu hbo\" target=\"_blank\" href=\"https://shebanq.ancient-data.org/hebrew/word?version=2021&amp;id=1QRNn\" title=\"Show this on SHEBANQ\"><span class=\"txtu hbo\">קַרְנֹ֖ת </span></a></div></div><div class=\"contnr c0 trm rtl  \" ><div class=\"lbl c0 trm \" ><a class=\" txtu hbo\" target=\"_blank\" href=\"https://shebanq.ancient-data.org/hebrew/word?version=2021&amp;id=1MZBXn\" title=\"Show this on SHEBANQ\"><span class=\"txtu hbo\">מִזְבַּ֣ח </span></a></div></div><div class=\"contnr c0 trm rtl  \" ><div class=\"lbl c0 trm \" ><a class=\" txtu hbo\" target=\"_blank\" href=\"https://shebanq.ancient-data.org/hebrew/word?version=2021&amp;id=1H\" title=\"Show this on SHEBANQ\"><span class=\"txtu hbo\">הָ</span></a></div></div><div class=\"contnr c0 trm rtl  \" ><div class=\"lbl c0 trm \" ><a class=\" txtu hbo\" target=\"_blank\" href=\"https://shebanq.ancient-data.org/hebrew/word?version=2021&amp;id=1OLHn\" title=\"Show this on SHEBANQ\"><span class=\"txtu hbo\">עֹלָ֑ה </span></a></div></div></div></div></div></div></div></div><div class=\"contnr c2  rtl  \" ><div class=\"lbl c2  \" ><span class=\"nd\">sentence </span> <span class=\"\"><span title=\"number\">77</span></span></div><div class=\"children hor wrap rtl\"><div class=\"contnr c2  rtl  hl\" ><div class=\"lbl c2  hl\" ><span class=\"nd\">clause </span> <span class=\"\"><span title=\"typ\">WxY0</span> <span title=\"rela\">NA</span></span></div><div class=\"children hor wrap rtl\"><div class=\"contnr c1  rtl  \" ><div class=\"lbl c1  \" ><span class=\"nd\">phrase </span> <span class=\"\"><span title=\"typ\">CP</span> <span title=\"function\">Conj</span></span></div><div class=\"children hor wrap rtl\"><div class=\"contnr c0 trm rtl  \" ><div class=\"lbl c0 trm \" ><a class=\" txtu hbo\" target=\"_blank\" href=\"https://shebanq.ancient-data.org/hebrew/word?version=2021&amp;id=1W\" title=\"Show this on SHEBANQ\"><span class=\"txtu hbo\">וְ</span></a></div></div></div></div><div class=\"contnr c1  rtl  \" ><div class=\"lbl c1  \" ><span class=\"nd\">phrase </span> <span class=\"\"><span title=\"typ\">PP</span> <span title=\"function\">Objc</span></span></div><div class=\"children hor wrap rtl\"><div class=\"contnr c0 trm rtl  \" ><div class=\"lbl c0 trm \" ><a class=\" txtu hbo\" target=\"_blank\" href=\"https://shebanq.ancient-data.org/hebrew/word?version=2021&amp;id=1AT\" title=\"Show this on SHEBANQ\"><span class=\"txtu hbo\">אֶת־</span></a></div></div><div class=\"contnr c0 trm rtl  \" ><div class=\"lbl c0 trm \" ><a class=\" txtu hbo\" target=\"_blank\" href=\"https://shebanq.ancient-data.org/hebrew/word?version=2021&amp;id=1KLn\" title=\"Show this on SHEBANQ\"><span class=\"txtu hbo\">כָּל־</span></a></div></div><div class=\"contnr c0 trm rtl  \" ><div class=\"lbl c0 trm \" ><a class=\" txtu hbo\" target=\"_blank\" href=\"https://shebanq.ancient-data.org/hebrew/word?version=2021&amp;id=1DMn\" title=\"Show this on SHEBANQ\"><span class=\"txtu hbo\">דָּמָ֣הּ </span></a></div></div></div></div><div class=\"contnr c1  rtl  \" ><div class=\"lbl c1  \" ><span class=\"nd\">phrase </span> <span class=\"\"><span title=\"typ\">VP</span> <span title=\"function\">Pred</span></span></div><div class=\"children hor wrap rtl\"><div class=\"contnr c0 trm rtl  \" ><div class=\"lbl c0 trm \" ><a class=\" txtu hbo\" target=\"_blank\" href=\"https://shebanq.ancient-data.org/hebrew/word?version=2021&amp;id=1CPKv\" title=\"Show this on SHEBANQ\"><span class=\"txtu hbo\">יִשְׁפֹּ֔ךְ </span></a></div></div></div></div><div class=\"contnr c1  rtl  \" ><div class=\"lbl c1  \" ><span class=\"nd\">phrase </span> <span class=\"\"><span title=\"typ\">PP</span> <span title=\"function\">Cmpl</span></span></div><div class=\"children hor wrap rtl\"><div class=\"contnr c0 trm rtl  \" ><div class=\"lbl c0 trm \" ><a class=\" txtu hbo\" target=\"_blank\" href=\"https://shebanq.ancient-data.org/hebrew/word?version=2021&amp;id=1AL\" title=\"Show this on SHEBANQ\"><span class=\"txtu hbo\">אֶל־</span></a></div></div><div class=\"contnr c0 trm rtl  \" ><div class=\"lbl c0 trm \" ><a class=\" txtu hbo\" target=\"_blank\" href=\"https://shebanq.ancient-data.org/hebrew/word?version=2021&amp;id=1JSWDn\" title=\"Show this on SHEBANQ\"><span class=\"txtu hbo\">יְסֹ֖וד </span></a></div></div><div class=\"contnr c0 trm rtl  \" ><div class=\"lbl c0 trm \" ><a class=\" txtu hbo\" target=\"_blank\" href=\"https://shebanq.ancient-data.org/hebrew/word?version=2021&amp;id=1H\" title=\"Show this on SHEBANQ\"><span class=\"txtu hbo\">הַ</span></a></div></div><div class=\"contnr c0 trm rtl  \" ><div class=\"lbl c0 trm \" ><a class=\" txtu hbo\" target=\"_blank\" href=\"https://shebanq.ancient-data.org/hebrew/word?version=2021&amp;id=1MZBXn\" title=\"Show this on SHEBANQ\"><span class=\"txtu hbo\">מִּזְבֵּֽחַ׃ </span></a></div></div></div></div></div></div></div></div></div></div></div>"
      ],
      "text/plain": [
       "<IPython.core.display.HTML object>"
      ]
     },
     "metadata": {},
     "output_type": "display_data"
    }
   ],
   "source": [
    "BHS.show(ClauseResults,start=10590,end=10590)"
   ]
  },
  {
   "cell_type": "markdown",
   "id": "653d6375-57b3-4863-bd0a-98c4010c698d",
   "metadata": {},
   "source": [
    "## 3.5 - Center phrase <a class=\"anchor\" id=\"bullet3x5\"></a>\n",
    "##### [Back to TOC](#TOC)"
   ]
  },
  {
   "cell_type": "code",
   "execution_count": 48,
   "id": "30182b63-2ede-46dc-8837-e84ba46dccb6",
   "metadata": {},
   "outputs": [
    {
     "name": "stdout",
     "output_type": "stream",
     "text": [
      "  0.47s 64195 results\n"
     ]
    }
   ],
   "source": [
    "# number of phrases in Torah\n",
    "PhraseQuery = '''\n",
    "book book=Genesis|Exodus|Leviticus|Numeri|Deuteronomium\n",
    "  phrase \n",
    "'''\n",
    "\n",
    "PhraseResults = BHS.search(PhraseQuery)"
   ]
  },
  {
   "cell_type": "code",
   "execution_count": 49,
   "id": "91c6c321-3910-4c53-b210-3a0cfddc8f4b",
   "metadata": {},
   "outputs": [
    {
     "data": {
      "text/plain": [
       "(651573, 904775)"
      ]
     },
     "execution_count": 49,
     "metadata": {},
     "output_type": "execute_result"
    }
   ],
   "source": [
    "F.otype.sInterval('phrase')"
   ]
  },
  {
   "cell_type": "code",
   "execution_count": 50,
   "id": "84aac874-62aa-47f8-9be8-b48cf06ed1cb",
   "metadata": {},
   "outputs": [
    {
     "data": {
      "text/plain": [
       "('Leviticus', 4, 32)"
      ]
     },
     "execution_count": 50,
     "metadata": {},
     "output_type": "execute_result"
    }
   ],
   "source": [
    "# start + delta: 651573 + int(64195/2) = 651573 + 32097 = 683670\n",
    "T.sectionFromNode(683670)"
   ]
  },
  {
   "cell_type": "code",
   "execution_count": 51,
   "id": "81906af7-5a76-424a-8371-31302885101e",
   "metadata": {},
   "outputs": [
    {
     "data": {
      "text/plain": [
       "'נְקֵבָ֥ה תְמִימָ֖ה '"
      ]
     },
     "execution_count": 51,
     "metadata": {},
     "output_type": "execute_result"
    }
   ],
   "source": [
    "T.text(683670)"
   ]
  },
  {
   "cell_type": "code",
   "execution_count": 61,
   "id": "9c7280c5-4931-409f-8e7b-4fb17bbf22c3",
   "metadata": {},
   "outputs": [
    {
     "data": {
      "text/html": [
       "<p><b>result</b> <i>32097</i>"
      ],
      "text/plain": [
       "<IPython.core.display.HTML object>"
      ]
     },
     "metadata": {},
     "output_type": "display_data"
    },
    {
     "data": {
      "text/html": [
       "<div class=\"tfsechead rtl\"><span class=\"ltr\"><a target=\"_blank\" href=\"https://shebanq.ancient-data.org/hebrew/text?book=Leviticus&amp;chapter=1&amp;verse=1&amp;version=2021&amp;mr=m&amp;qw=q&amp;tp=txt_p&amp;tr=hb&amp;wget=v&amp;qget=v&amp;nget=vt\" title=\"Show this on SHEBANQ\" sec=\"Leviticus\">Leviticus</a></span></div><div class=\"rtl children\"><div class=\"contnr c4 trm rtl  \" ><div class=\"lbl c4 trm \" ><span class=\"nd\">book </span> <span class=\"txtu hbo\"><span class=\"tfsechead rtl\"><span class=\"ltr\">Leviticus</span></span></span></div><div class=\"features\"><span class=\"book xft\" ><span class=\"f\">book=</span>Leviticus</span></div></div></div>"
      ],
      "text/plain": [
       "<IPython.core.display.HTML object>"
      ]
     },
     "metadata": {},
     "output_type": "display_data"
    },
    {
     "data": {
      "text/html": [
       "<div class=\"tfsechead rtl\"><span class=\"ltr\"><a target=\"_blank\" href=\"https://shebanq.ancient-data.org/hebrew/text?book=Leviticus&amp;chapter=4&amp;verse=32&amp;version=2021&amp;mr=m&amp;qw=q&amp;tp=txt_p&amp;tr=hb&amp;wget=v&amp;qget=v&amp;nget=vt\" title=\"Show this on SHEBANQ\" sec=\"Leviticus 4:32\">Leviticus 4:32</a></span></div><div class=\"rtl children\"><div class=\"contnr c3  rtl  \" ><div class=\"lbl c3  \" ><span class=\"nd\">verse </span></div><div class=\"features\"><span class=\"book xft\" ><span class=\"f\">book=</span>Leviticus</span></div><div class=\"children hor wrap rtl\"><div class=\"contnr c2  rtl  \" ><div class=\"lbl c2  \" ><span class=\"nd\">sentence </span> <span class=\"\"><span title=\"number\">71</span></span></div><div class=\"children hor wrap rtl\"><div class=\"contnr c2  rtl  \" ><div class=\"lbl c2  \" ><span class=\"nd\">clause </span> <span class=\"\"><span title=\"typ\">WxY0</span> <span title=\"rela\">NA</span></span></div><div class=\"children hor wrap rtl\"><div class=\"contnr c1  rtl  \" ><div class=\"lbl c1  \" ><span class=\"nd\">phrase </span> <span class=\"\"><span title=\"typ\">CP</span> <span title=\"function\">Conj</span></span></div><div class=\"children hor wrap rtl\"><div class=\"contnr c0 trm rtl  \" ><div class=\"lbl c0 trm \" ><a class=\" txtu hbo\" target=\"_blank\" href=\"https://shebanq.ancient-data.org/hebrew/word?version=2021&amp;id=1W\" title=\"Show this on SHEBANQ\"><span class=\"txtu hbo\">וְ</span></a></div></div></div></div><div class=\"contnr c1  rtl  \" ><div class=\"lbl c1  \" ><span class=\"nd\">phrase </span> <span class=\"\"><span title=\"typ\">CP</span> <span title=\"function\">Conj</span></span></div><div class=\"children hor wrap rtl\"><div class=\"contnr c0 trm rtl  \" ><div class=\"lbl c0 trm \" ><a class=\" txtu hbo\" target=\"_blank\" href=\"https://shebanq.ancient-data.org/hebrew/word?version=2021&amp;id=1AM\" title=\"Show this on SHEBANQ\"><span class=\"txtu hbo\">אִם־</span></a></div></div></div></div><div class=\"contnr c1  rtl  \" ><div class=\"lbl c1  \" ><span class=\"nd\">phrase </span> <span class=\"\"><span title=\"typ\">NP</span> <span title=\"function\">Objc</span></span></div><div class=\"children hor wrap rtl\"><div class=\"contnr c0 trm rtl  \" ><div class=\"lbl c0 trm \" ><a class=\" txtu hbo\" target=\"_blank\" href=\"https://shebanq.ancient-data.org/hebrew/word?version=2021&amp;id=1KBFn\" title=\"Show this on SHEBANQ\"><span class=\"txtu hbo\">כֶּ֛בֶשׂ </span></a></div></div></div></div><div class=\"contnr c1  rtl  \" ><div class=\"lbl c1  \" ><span class=\"nd\">phrase </span> <span class=\"\"><span title=\"typ\">VP</span> <span title=\"function\">Pred</span></span></div><div class=\"children hor wrap rtl\"><div class=\"contnr c0 trm rtl  \" ><div class=\"lbl c0 trm \" ><a class=\" txtu hbo\" target=\"_blank\" href=\"https://shebanq.ancient-data.org/hebrew/word?version=2021&amp;id=1BWAv\" title=\"Show this on SHEBANQ\"><span class=\"txtu hbo\">יָבִ֥יא </span></a></div></div></div></div><div class=\"contnr c1  rtl  hl\" ><div class=\"lbl c1  hl\" ><span class=\"nd\">phrase </span> <span class=\"\"><span title=\"typ\">NP</span> <span title=\"function\">Objc</span></span></div><div class=\"children hor wrap rtl\"><div class=\"contnr c0 trm rtl  \" ><div class=\"lbl c0 trm \" ><a class=\" txtu hbo\" target=\"_blank\" href=\"https://shebanq.ancient-data.org/hebrew/word?version=2021&amp;id=1QRBNn\" title=\"Show this on SHEBANQ\"><span class=\"txtu hbo\">קָרְבָּנֹ֖ו </span></a></div></div><div class=\"contnr c0 trm rtl  \" ><div class=\"lbl c0 trm \" ><a class=\" txtu hbo\" target=\"_blank\" href=\"https://shebanq.ancient-data.org/hebrew/word?version=2021&amp;id=1L\" title=\"Show this on SHEBANQ\"><span class=\"txtu hbo\">לְ</span></a></div></div><div class=\"contnr c0 trm rtl  \" ><div class=\"lbl c0 trm \" ><a class=\" txtu hbo\" target=\"_blank\" href=\"https://shebanq.ancient-data.org/hebrew/word?version=2021&amp;id=1XVATn\" title=\"Show this on SHEBANQ\"><span class=\"txtu hbo\">חַטָּ֑את </span></a></div></div></div></div></div></div></div></div><div class=\"contnr c2  rtl  \" ><div class=\"lbl c2  \" ><span class=\"nd\">sentence </span> <span class=\"\"><span title=\"number\">72</span></span></div><div class=\"children hor wrap rtl\"><div class=\"contnr c2  rtl  \" ><div class=\"lbl c2  \" ><span class=\"nd\">clause </span> <span class=\"\"><span title=\"typ\">xYq0</span> <span title=\"rela\">NA</span></span></div><div class=\"children hor wrap rtl\"><div class=\"contnr c1  rtl  \" ><div class=\"lbl c1  \" ><span class=\"nd\">phrase </span> <span class=\"\"><span title=\"typ\">NP</span> <span title=\"function\">PrAd</span></span></div><div class=\"children hor wrap rtl\"><div class=\"contnr c0 trm rtl  \" ><div class=\"lbl c0 trm \" ><a class=\" txtu hbo\" target=\"_blank\" href=\"https://shebanq.ancient-data.org/hebrew/word?version=2021&amp;id=1NQBHn\" title=\"Show this on SHEBANQ\"><span class=\"txtu hbo\">נְקֵבָ֥ה </span></a></div></div><div class=\"contnr c0 trm rtl  \" ><div class=\"lbl c0 trm \" ><a class=\" txtu hbo\" target=\"_blank\" href=\"https://shebanq.ancient-data.org/hebrew/word?version=2021&amp;id=1TMJMn\" title=\"Show this on SHEBANQ\"><span class=\"txtu hbo\">תְמִימָ֖ה </span></a></div></div></div></div><div class=\"contnr c1  rtl  \" ><div class=\"lbl c1  \" ><span class=\"nd\">phrase </span> <span class=\"\"><span title=\"typ\">VP</span> <span title=\"function\">PreO</span></span></div><div class=\"children hor wrap rtl\"><div class=\"contnr c0 trm rtl  \" ><div class=\"lbl c0 trm \" ><a class=\" txtu hbo\" target=\"_blank\" href=\"https://shebanq.ancient-data.org/hebrew/word?version=2021&amp;id=1BWAv\" title=\"Show this on SHEBANQ\"><span class=\"txtu hbo\">יְבִיאֶֽנָּה׃ </span></a></div></div></div></div></div></div></div></div></div></div></div>"
      ],
      "text/plain": [
       "<IPython.core.display.HTML object>"
      ]
     },
     "metadata": {},
     "output_type": "display_data"
    }
   ],
   "source": [
    "BHS.show(PhraseResults,start=32097,end=32097)"
   ]
  },
  {
   "cell_type": "markdown",
   "id": "c154814b-8939-41eb-b5b2-8c5fab298445",
   "metadata": {},
   "source": [
    "## 3.6 - Center chapter <a class=\"anchor\" id=\"bullet3x6\"></a>\n",
    "##### [Back to TOC](#TOC)"
   ]
  },
  {
   "cell_type": "code",
   "execution_count": 45,
   "id": "d12239fb-ad50-4dd0-b349-2302abc96be3",
   "metadata": {},
   "outputs": [
    {
     "name": "stdout",
     "output_type": "stream",
     "text": [
      "  0.03s 187 results\n"
     ]
    }
   ],
   "source": [
    "# number of chapters in Torah\n",
    "ChapterQuery = '''\n",
    "book book=Genesis|Exodus|Leviticus|Numeri|Deuteronomium\n",
    "  chapter \n",
    "'''\n",
    "\n",
    "ChapterResults = BHS.search(ChapterQuery)"
   ]
  },
  {
   "cell_type": "code",
   "execution_count": 46,
   "id": "4b612d9f-9a35-439a-a604-28025472262e",
   "metadata": {},
   "outputs": [
    {
     "data": {
      "text/plain": [
       "(426630, 427558)"
      ]
     },
     "execution_count": 46,
     "metadata": {},
     "output_type": "execute_result"
    }
   ],
   "source": [
    "F.otype.sInterval('chapter')"
   ]
  },
  {
   "cell_type": "code",
   "execution_count": 47,
   "id": "cbd00395-9dc8-42e0-a757-8d0fd94eb6da",
   "metadata": {},
   "outputs": [
    {
     "data": {
      "text/plain": [
       "('Leviticus', 4)"
      ]
     },
     "execution_count": 47,
     "metadata": {},
     "output_type": "execute_result"
    }
   ],
   "source": [
    "# start + delta: 426630 + int(187/2) = 426630 + 93 = 426723\n",
    "T.sectionFromNode(426723)"
   ]
  },
  {
   "cell_type": "code",
   "execution_count": 77,
   "id": "a51e015a-6377-444d-945a-2a132ad7966a",
   "metadata": {},
   "outputs": [
    {
     "data": {
      "text/html": [
       "<p><b>result</b> <i>93</i>"
      ],
      "text/plain": [
       "<IPython.core.display.HTML object>"
      ]
     },
     "metadata": {},
     "output_type": "display_data"
    },
    {
     "data": {
      "text/html": [
       "<div class=\"tfsechead rtl\"><span class=\"ltr\"><a target=\"_blank\" href=\"https://shebanq.ancient-data.org/hebrew/text?book=Leviticus&amp;chapter=1&amp;verse=1&amp;version=2021&amp;mr=m&amp;qw=q&amp;tp=txt_p&amp;tr=hb&amp;wget=v&amp;qget=v&amp;nget=vt\" title=\"Show this on SHEBANQ\" sec=\"Leviticus\">Leviticus</a></span></div><div class=\"rtl children\"><div class=\"contnr c4 trm rtl  \" ><div class=\"lbl c4 trm \" ><span class=\"nd\">book </span> <span class=\"txtu hbo\"><span class=\"tfsechead rtl\"><span class=\"ltr\">Leviticus</span></span></span></div><div class=\"features\"><span class=\"book xft\" ><span class=\"f\">book=</span>Leviticus</span></div></div></div>"
      ],
      "text/plain": [
       "<IPython.core.display.HTML object>"
      ]
     },
     "metadata": {},
     "output_type": "display_data"
    },
    {
     "data": {
      "text/html": [
       "<div class=\"tfsechead rtl\"><span class=\"ltr\"><a target=\"_blank\" href=\"https://shebanq.ancient-data.org/hebrew/text?book=Leviticus&amp;chapter=3&amp;verse=1&amp;version=2021&amp;mr=m&amp;qw=q&amp;tp=txt_p&amp;tr=hb&amp;wget=v&amp;qget=v&amp;nget=vt\" title=\"Show this on SHEBANQ\" sec=\"Leviticus 3\">Leviticus 3</a></span></div><div class=\"rtl children\"><div class=\"contnr c4 trm rtl  \" ><div class=\"lbl c4 trm \" ><span class=\"nd\">chapter </span> <span class=\"txtu hbo\"><span class=\"tfsechead rtl\"><span class=\"ltr\">Leviticus 3</span></span></span></div><div class=\"features\"><span class=\"book xft\" ><span class=\"f\">book=</span>Leviticus</span></div></div></div>"
      ],
      "text/plain": [
       "<IPython.core.display.HTML object>"
      ]
     },
     "metadata": {},
     "output_type": "display_data"
    }
   ],
   "source": [
    "BHS.show(ChapterResults,start=93,end=93)"
   ]
  },
  {
   "cell_type": "markdown",
   "id": "03849162-6e7e-45ee-904b-70e3206c31ba",
   "metadata": {},
   "source": [
    "## 3.7 Center word - alternative 1<a class=\"anchor\" id=\"bullet3x7\"></a>\n",
    "##### [Back to TOC](#TOC)"
   ]
  },
  {
   "cell_type": "markdown",
   "id": "aa074722-acfe-42e8-b820-36f817c63111",
   "metadata": {},
   "source": [
    "First check what can be placed after a word"
   ]
  },
  {
   "cell_type": "code",
   "execution_count": 127,
   "id": "cc6a238f-88b0-4fe1-b0a3-9df6bfb91f0d",
   "metadata": {},
   "outputs": [
    {
     "data": {
      "text/plain": [
       "((' ', 236930),\n",
       " ('', 121801),\n",
       " ('&', 42275),\n",
       " ('00 ', 20146),\n",
       " ('05 ', 2266),\n",
       " ('00_S ', 1892),\n",
       " ('00_P ', 1165),\n",
       " ('_S ', 76),\n",
       " (' 05 ', 17),\n",
       " ('_P ', 13),\n",
       " ('00_N ', 7),\n",
       " ('00_N_P ', 1),\n",
       " ('00_N_S ', 1))"
      ]
     },
     "execution_count": 127,
     "metadata": {},
     "output_type": "execute_result"
    }
   ],
   "source": [
    "# note: this is for the full TeNaCH!\n",
    "Fs('trailer').freqList()"
   ]
  },
  {
   "cell_type": "code",
   "execution_count": 128,
   "id": "5694148c-f4e0-40a1-bf01-a02fe891ab31",
   "metadata": {},
   "outputs": [
    {
     "name": "stdout",
     "output_type": "stream",
     "text": [
      "  0.65s 79886 results\n"
     ]
    }
   ],
   "source": [
    "# Number of words in Torah (defined as items separeted by spaces OR maqaf - diacritical mark indicating a strong connection between words) \n",
    "# Following regexp (.+) selects for values of feature trailer that are 1 or more characters in length\n",
    "\n",
    "WordQuery2 = '''\n",
    "book book=Genesis|Exodus|Leviticus|Numeri|Deuteronomium\n",
    "  word trailer~.+\n",
    "'''\n",
    "\n",
    "WordResults2 = BHS.search(WordQuery2)"
   ]
  },
  {
   "cell_type": "markdown",
   "id": "aaf17e1b-d375-4044-8fad-e15e7dd7ae84",
   "metadata": {},
   "source": [
    "Find the midpoint: 79886/2 = 39948"
   ]
  },
  {
   "cell_type": "code",
   "execution_count": 121,
   "id": "bde4c27a-ea69-4889-9600-c88754950cfa",
   "metadata": {},
   "outputs": [
    {
     "data": {
      "text/html": [
       "<p><b>result</b> <i>39948</i>"
      ],
      "text/plain": [
       "<IPython.core.display.HTML object>"
      ]
     },
     "metadata": {},
     "output_type": "display_data"
    },
    {
     "data": {
      "text/html": [
       "<div class=\"tfsechead rtl\"><span class=\"ltr\"><a target=\"_blank\" href=\"https://shebanq.ancient-data.org/hebrew/text?book=Leviticus&amp;chapter=1&amp;verse=1&amp;version=2021&amp;mr=m&amp;qw=q&amp;tp=txt_p&amp;tr=hb&amp;wget=v&amp;qget=v&amp;nget=vt\" title=\"Show this on SHEBANQ\" sec=\"Leviticus\">Leviticus</a></span></div><div class=\"rtl children\"><div class=\"contnr c4 trm rtl  \" ><div class=\"lbl c4 trm \" ><span class=\"nd\">book </span> <span class=\"txtu hbo\"><span class=\"tfsechead rtl\"><span class=\"ltr\">Leviticus</span></span></span></div><div class=\"features\"><span class=\"book xft\" ><span class=\"f\">book=</span>Leviticus</span></div></div></div>"
      ],
      "text/plain": [
       "<IPython.core.display.HTML object>"
      ]
     },
     "metadata": {},
     "output_type": "display_data"
    },
    {
     "data": {
      "text/html": [
       "<div class=\"tfsechead rtl\"><span class=\"ltr\"><a target=\"_blank\" href=\"https://shebanq.ancient-data.org/hebrew/text?book=Leviticus&amp;chapter=8&amp;verse=15&amp;version=2021&amp;mr=m&amp;qw=q&amp;tp=txt_p&amp;tr=hb&amp;wget=v&amp;qget=v&amp;nget=vt\" title=\"Show this on SHEBANQ\" sec=\"Leviticus 8:15\">Leviticus 8:15</a></span></div><div class=\"rtl children\"><div class=\"contnr c3  rtl  \" ><div class=\"lbl c3  \" ><span class=\"nd\">verse </span></div><div class=\"features\"><span class=\"book xft\" ><span class=\"f\">book=</span>Leviticus</span></div><div class=\"children hor wrap rtl\"><div class=\"contnr c2  rtl  \" ><div class=\"lbl c2  \" ><span class=\"nd\">sentence </span> <span class=\"\"><span title=\"number\">33</span></span></div><div class=\"children hor wrap rtl\"><div class=\"contnr c2  rtl  \" ><div class=\"lbl c2  \" ><span class=\"nd\">clause </span> <span class=\"\"><span title=\"typ\">Way0</span> <span title=\"rela\">NA</span></span></div><div class=\"children hor wrap rtl\"><div class=\"contnr c1  rtl  \" ><div class=\"lbl c1  \" ><span class=\"nd\">phrase </span> <span class=\"\"><span title=\"typ\">CP</span> <span title=\"function\">Conj</span></span></div><div class=\"children hor wrap rtl\"><div class=\"contnr c0 trm rtl  \" ><div class=\"lbl c0 trm \" ><a class=\" txtu hbo\" target=\"_blank\" href=\"https://shebanq.ancient-data.org/hebrew/word?version=2021&amp;id=1W\" title=\"Show this on SHEBANQ\"><span class=\"txtu hbo\">וַ</span></a></div><div class=\"features\"><span class=\"trailer xft\" ><span class=\"f\">trailer=</span></span></div></div></div></div><div class=\"contnr c1  rtl  \" ><div class=\"lbl c1  \" ><span class=\"nd\">phrase </span> <span class=\"\"><span title=\"typ\">VP</span> <span title=\"function\">Pred</span></span></div><div class=\"children hor wrap rtl\"><div class=\"contnr c0 trm rtl  \" ><div class=\"lbl c0 trm \" ><a class=\" txtu hbo\" target=\"_blank\" href=\"https://shebanq.ancient-data.org/hebrew/word?version=2021&amp;id=1CXVv\" title=\"Show this on SHEBANQ\"><span class=\"txtu hbo\">יִּשְׁחָ֗ט </span></a></div><div class=\"features\"><span class=\"trailer xft\" ><span class=\"f\">trailer=</span> </span></div></div></div></div></div></div></div></div><div class=\"contnr c2  rtl  \" ><div class=\"lbl c2  \" ><span class=\"nd\">sentence </span> <span class=\"\"><span title=\"number\">34</span></span></div><div class=\"children hor wrap rtl\"><div class=\"contnr c2  rtl  \" ><div class=\"lbl c2  \" ><span class=\"nd\">clause </span> <span class=\"\"><span title=\"typ\">WayX</span> <span title=\"rela\">NA</span></span></div><div class=\"children hor wrap rtl\"><div class=\"contnr c1  rtl  \" ><div class=\"lbl c1  \" ><span class=\"nd\">phrase </span> <span class=\"\"><span title=\"typ\">CP</span> <span title=\"function\">Conj</span></span></div><div class=\"children hor wrap rtl\"><div class=\"contnr c0 trm rtl  \" ><div class=\"lbl c0 trm \" ><a class=\" txtu hbo\" target=\"_blank\" href=\"https://shebanq.ancient-data.org/hebrew/word?version=2021&amp;id=1W\" title=\"Show this on SHEBANQ\"><span class=\"txtu hbo\">וַ</span></a></div><div class=\"features\"><span class=\"trailer xft\" ><span class=\"f\">trailer=</span></span></div></div></div></div><div class=\"contnr c1  rtl  \" ><div class=\"lbl c1  \" ><span class=\"nd\">phrase </span> <span class=\"\"><span title=\"typ\">VP</span> <span title=\"function\">Pred</span></span></div><div class=\"children hor wrap rtl\"><div class=\"contnr c0 trm rtl  \" ><div class=\"lbl c0 trm \" ><a class=\" txtu hbo\" target=\"_blank\" href=\"https://shebanq.ancient-data.org/hebrew/word?version=2021&amp;id=1LQXv\" title=\"Show this on SHEBANQ\"><span class=\"txtu hbo\">יִּקַּ֨ח </span></a></div><div class=\"features\"><span class=\"trailer xft\" ><span class=\"f\">trailer=</span> </span></div></div></div></div><div class=\"contnr c1  rtl  \" ><div class=\"lbl c1  \" ><span class=\"nd\">phrase </span> <span class=\"\"><span title=\"typ\">PrNP</span> <span title=\"function\">Subj</span></span></div><div class=\"children hor wrap rtl\"><div class=\"contnr c0 trm rtl  \" ><div class=\"lbl c0 trm \" ><a class=\" txtu hbo\" target=\"_blank\" href=\"https://shebanq.ancient-data.org/hebrew/word?version=2021&amp;id=1MCHin\" title=\"Show this on SHEBANQ\"><span class=\"txtu hbo\">מֹשֶׁ֤ה </span></a></div><div class=\"features\"><span class=\"trailer xft\" ><span class=\"f\">trailer=</span> </span></div></div></div></div><div class=\"contnr c1  rtl  \" ><div class=\"lbl c1  \" ><span class=\"nd\">phrase </span> <span class=\"\"><span title=\"typ\">PP</span> <span title=\"function\">Objc</span></span></div><div class=\"children hor wrap rtl\"><div class=\"contnr c0 trm rtl  \" ><div class=\"lbl c0 trm \" ><a class=\" txtu hbo\" target=\"_blank\" href=\"https://shebanq.ancient-data.org/hebrew/word?version=2021&amp;id=1AT\" title=\"Show this on SHEBANQ\"><span class=\"txtu hbo\">אֶת־</span></a></div><div class=\"features\"><span class=\"trailer xft\" ><span class=\"f\">trailer=</span>&amp;</span></div></div><div class=\"contnr c0 trm rtl  \" ><div class=\"lbl c0 trm \" ><a class=\" txtu hbo\" target=\"_blank\" href=\"https://shebanq.ancient-data.org/hebrew/word?version=2021&amp;id=1H\" title=\"Show this on SHEBANQ\"><span class=\"txtu hbo\">הַ</span></a></div><div class=\"features\"><span class=\"trailer xft\" ><span class=\"f\">trailer=</span></span></div></div><div class=\"contnr c0 trm rtl  \" ><div class=\"lbl c0 trm \" ><a class=\" txtu hbo\" target=\"_blank\" href=\"https://shebanq.ancient-data.org/hebrew/word?version=2021&amp;id=1DMn\" title=\"Show this on SHEBANQ\"><span class=\"txtu hbo\">דָּם֙ </span></a></div><div class=\"features\"><span class=\"trailer xft\" ><span class=\"f\">trailer=</span> </span></div></div></div></div></div></div></div></div><div class=\"contnr c2  rtl  \" ><div class=\"lbl c2  \" ><span class=\"nd\">sentence </span> <span class=\"\"><span title=\"number\">35</span></span></div><div class=\"children hor wrap rtl\"><div class=\"contnr c2  rtl  \" ><div class=\"lbl c2  \" ><span class=\"nd\">clause </span> <span class=\"\"><span title=\"typ\">Way0</span> <span title=\"rela\">NA</span></span></div><div class=\"children hor wrap rtl\"><div class=\"contnr c1  rtl  \" ><div class=\"lbl c1  \" ><span class=\"nd\">phrase </span> <span class=\"\"><span title=\"typ\">CP</span> <span title=\"function\">Conj</span></span></div><div class=\"children hor wrap rtl\"><div class=\"contnr c0 trm rtl  \" ><div class=\"lbl c0 trm \" ><a class=\" txtu hbo\" target=\"_blank\" href=\"https://shebanq.ancient-data.org/hebrew/word?version=2021&amp;id=1W\" title=\"Show this on SHEBANQ\"><span class=\"txtu hbo\">וַ֠</span></a></div><div class=\"features\"><span class=\"trailer xft\" ><span class=\"f\">trailer=</span></span></div></div></div></div><div class=\"contnr c1  rtl  \" ><div class=\"lbl c1  \" ><span class=\"nd\">phrase </span> <span class=\"\"><span title=\"typ\">VP</span> <span title=\"function\">Pred</span></span></div><div class=\"children hor wrap rtl\"><div class=\"contnr c0 trm rtl  \" ><div class=\"lbl c0 trm \" ><a class=\" txtu hbo\" target=\"_blank\" href=\"https://shebanq.ancient-data.org/hebrew/word?version=2021&amp;id=1NTNv\" title=\"Show this on SHEBANQ\"><span class=\"txtu hbo\">יִּתֵּן </span></a></div><div class=\"features\"><span class=\"trailer xft\" ><span class=\"f\">trailer=</span> </span></div></div></div></div><div class=\"contnr c1  rtl  \" ><div class=\"lbl c1  \" ><span class=\"nd\">phrase </span> <span class=\"\"><span title=\"typ\">PP</span> <span title=\"function\">Cmpl</span></span></div><div class=\"children hor wrap rtl\"><div class=\"contnr c0 trm rtl  \" ><div class=\"lbl c0 trm \" ><a class=\" txtu hbo\" target=\"_blank\" href=\"https://shebanq.ancient-data.org/hebrew/word?version=2021&amp;id=1OL\" title=\"Show this on SHEBANQ\"><span class=\"txtu hbo\">עַל־</span></a></div><div class=\"features\"><span class=\"trailer xft\" ><span class=\"f\">trailer=</span>&amp;</span></div></div><div class=\"contnr c0 trm rtl  \" ><div class=\"lbl c0 trm \" ><a class=\" txtu hbo\" target=\"_blank\" href=\"https://shebanq.ancient-data.org/hebrew/word?version=2021&amp;id=1QRNn\" title=\"Show this on SHEBANQ\"><span class=\"txtu hbo\">קַרְנֹ֨ות </span></a></div><div class=\"features\"><span class=\"trailer xft\" ><span class=\"f\">trailer=</span> </span></div></div><div class=\"contnr c0 trm rtl  \" ><div class=\"lbl c0 trm \" ><a class=\" txtu hbo\" target=\"_blank\" href=\"https://shebanq.ancient-data.org/hebrew/word?version=2021&amp;id=1H\" title=\"Show this on SHEBANQ\"><span class=\"txtu hbo\">הַ</span></a></div><div class=\"features\"><span class=\"trailer xft\" ><span class=\"f\">trailer=</span></span></div></div><div class=\"contnr c0 trm rtl  \" ><div class=\"lbl c0 trm \" ><a class=\" txtu hbo\" target=\"_blank\" href=\"https://shebanq.ancient-data.org/hebrew/word?version=2021&amp;id=1MZBXn\" title=\"Show this on SHEBANQ\"><span class=\"txtu hbo\">מִּזְבֵּ֤חַ </span></a></div><div class=\"features\"><span class=\"trailer xft\" ><span class=\"f\">trailer=</span> </span></div></div></div></div><div class=\"contnr c1  rtl  \" ><div class=\"lbl c1  \" ><span class=\"nd\">phrase </span> <span class=\"\"><span title=\"typ\">AdvP</span> <span title=\"function\">Modi</span></span></div><div class=\"children hor wrap rtl\"><div class=\"contnr c0 trm rtl  \" ><div class=\"lbl c0 trm \" ><a class=\" txtu hbo\" target=\"_blank\" href=\"https://shebanq.ancient-data.org/hebrew/word?version=2021&amp;id=1SBJBn\" title=\"Show this on SHEBANQ\"><span class=\"txtu hbo\">סָבִיב֙ </span></a></div><div class=\"features\"><span class=\"trailer xft\" ><span class=\"f\">trailer=</span> </span></div></div></div></div><div class=\"contnr c1  rtl  \" ><div class=\"lbl c1  \" ><span class=\"nd\">phrase </span> <span class=\"\"><span title=\"typ\">PP</span> <span title=\"function\">Adju</span></span></div><div class=\"children hor wrap rtl\"><div class=\"contnr c0 trm rtl  \" ><div class=\"lbl c0 trm \" ><a class=\" txtu hbo\" target=\"_blank\" href=\"https://shebanq.ancient-data.org/hebrew/word?version=2021&amp;id=1B\" title=\"Show this on SHEBANQ\"><span class=\"txtu hbo\">בְּ</span></a></div><div class=\"features\"><span class=\"trailer xft\" ><span class=\"f\">trailer=</span></span></div></div><div class=\"contnr c0 trm rtl  \" ><div class=\"lbl c0 trm \" ><a class=\" txtu hbo\" target=\"_blank\" href=\"https://shebanq.ancient-data.org/hebrew/word?version=2021&amp;id=1AYBOn\" title=\"Show this on SHEBANQ\"><span class=\"txtu hbo\">אֶצְבָּעֹ֔ו </span></a></div><div class=\"features\"><span class=\"trailer xft\" ><span class=\"f\">trailer=</span> </span></div></div></div></div></div></div></div></div><div class=\"contnr c2  rtl  \" ><div class=\"lbl c2  \" ><span class=\"nd\">sentence </span> <span class=\"\"><span title=\"number\">36</span></span></div><div class=\"children hor wrap rtl\"><div class=\"contnr c2  rtl  \" ><div class=\"lbl c2  \" ><span class=\"nd\">clause </span> <span class=\"\"><span title=\"typ\">Way0</span> <span title=\"rela\">NA</span></span></div><div class=\"children hor wrap rtl\"><div class=\"contnr c1  rtl  \" ><div class=\"lbl c1  \" ><span class=\"nd\">phrase </span> <span class=\"\"><span title=\"typ\">CP</span> <span title=\"function\">Conj</span></span></div><div class=\"children hor wrap rtl\"><div class=\"contnr c0 trm rtl  \" ><div class=\"lbl c0 trm \" ><a class=\" txtu hbo\" target=\"_blank\" href=\"https://shebanq.ancient-data.org/hebrew/word?version=2021&amp;id=1W\" title=\"Show this on SHEBANQ\"><span class=\"txtu hbo\">וַ</span></a></div><div class=\"features\"><span class=\"trailer xft\" ><span class=\"f\">trailer=</span></span></div></div></div></div><div class=\"contnr c1  rtl  \" ><div class=\"lbl c1  \" ><span class=\"nd\">phrase </span> <span class=\"\"><span title=\"typ\">VP</span> <span title=\"function\">Pred</span></span></div><div class=\"children hor wrap rtl\"><div class=\"contnr c0 trm rtl  \" ><div class=\"lbl c0 trm \" ><a class=\" txtu hbo\" target=\"_blank\" href=\"https://shebanq.ancient-data.org/hebrew/word?version=2021&amp;id=1XVAv\" title=\"Show this on SHEBANQ\"><span class=\"txtu hbo\">יְחַטֵּ֖א </span></a></div><div class=\"features\"><span class=\"trailer xft\" ><span class=\"f\">trailer=</span> </span></div></div></div></div><div class=\"contnr c1  rtl  \" ><div class=\"lbl c1  \" ><span class=\"nd\">phrase </span> <span class=\"\"><span title=\"typ\">PP</span> <span title=\"function\">Objc</span></span></div><div class=\"children hor wrap rtl\"><div class=\"contnr c0 trm rtl  \" ><div class=\"lbl c0 trm \" ><a class=\" txtu hbo\" target=\"_blank\" href=\"https://shebanq.ancient-data.org/hebrew/word?version=2021&amp;id=1AT\" title=\"Show this on SHEBANQ\"><span class=\"txtu hbo\">אֶת־</span></a></div><div class=\"features\"><span class=\"trailer xft\" ><span class=\"f\">trailer=</span>&amp;</span></div></div><div class=\"contnr c0 trm rtl  \" ><div class=\"lbl c0 trm \" ><a class=\" txtu hbo\" target=\"_blank\" href=\"https://shebanq.ancient-data.org/hebrew/word?version=2021&amp;id=1H\" title=\"Show this on SHEBANQ\"><span class=\"txtu hbo\">הַ</span></a></div><div class=\"features\"><span class=\"trailer xft\" ><span class=\"f\">trailer=</span></span></div></div><div class=\"contnr c0 trm rtl  \" ><div class=\"lbl c0 trm \" ><a class=\" txtu hbo\" target=\"_blank\" href=\"https://shebanq.ancient-data.org/hebrew/word?version=2021&amp;id=1MZBXn\" title=\"Show this on SHEBANQ\"><span class=\"txtu hbo\">מִּזְבֵּ֑חַ </span></a></div><div class=\"features\"><span class=\"trailer xft\" ><span class=\"f\">trailer=</span> </span></div></div></div></div></div></div></div></div><div class=\"contnr c2  rtl  \" ><div class=\"lbl c2  \" ><span class=\"nd\">sentence </span> <span class=\"\"><span title=\"number\">37</span></span></div><div class=\"children hor wrap rtl\"><div class=\"contnr c2  rtl  \" ><div class=\"lbl c2  \" ><span class=\"nd\">clause </span> <span class=\"\"><span title=\"typ\">WxQ0</span> <span title=\"rela\">NA</span></span></div><div class=\"children hor wrap rtl\"><div class=\"contnr c1  rtl  \" ><div class=\"lbl c1  \" ><span class=\"nd\">phrase </span> <span class=\"\"><span title=\"typ\">CP</span> <span title=\"function\">Conj</span></span></div><div class=\"children hor wrap rtl\"><div class=\"contnr c0 trm rtl  \" ><div class=\"lbl c0 trm \" ><a class=\" txtu hbo\" target=\"_blank\" href=\"https://shebanq.ancient-data.org/hebrew/word?version=2021&amp;id=1W\" title=\"Show this on SHEBANQ\"><span class=\"txtu hbo\">וְ</span></a></div><div class=\"features\"><span class=\"trailer xft\" ><span class=\"f\">trailer=</span></span></div></div></div></div><div class=\"contnr c1  rtl  \" ><div class=\"lbl c1  \" ><span class=\"nd\">phrase </span> <span class=\"\"><span title=\"typ\">PP</span> <span title=\"function\">Objc</span></span></div><div class=\"children hor wrap rtl\"><div class=\"contnr c0 trm rtl  \" ><div class=\"lbl c0 trm \" ><a class=\" txtu hbo\" target=\"_blank\" href=\"https://shebanq.ancient-data.org/hebrew/word?version=2021&amp;id=1AT\" title=\"Show this on SHEBANQ\"><span class=\"txtu hbo\">אֶת־</span></a></div><div class=\"features\"><span class=\"trailer xft\" ><span class=\"f\">trailer=</span>&amp;</span></div></div><div class=\"contnr c0 trm rtl  \" ><div class=\"lbl c0 trm \" ><a class=\" txtu hbo\" target=\"_blank\" href=\"https://shebanq.ancient-data.org/hebrew/word?version=2021&amp;id=1H\" title=\"Show this on SHEBANQ\"><span class=\"txtu hbo\">הַ</span></a></div><div class=\"features\"><span class=\"trailer xft\" ><span class=\"f\">trailer=</span></span></div></div><div class=\"contnr c0 trm rtl  \" ><div class=\"lbl c0 trm \" ><a class=\" txtu hbo\" target=\"_blank\" href=\"https://shebanq.ancient-data.org/hebrew/word?version=2021&amp;id=1DMn\" title=\"Show this on SHEBANQ\"><span class=\"txtu hbo\">דָּ֗ם </span></a></div><div class=\"features\"><span class=\"trailer xft\" ><span class=\"f\">trailer=</span> </span></div></div></div></div><div class=\"contnr c1  rtl  \" ><div class=\"lbl c1  \" ><span class=\"nd\">phrase </span> <span class=\"\"><span title=\"typ\">VP</span> <span title=\"function\">Pred</span></span></div><div class=\"children hor wrap rtl\"><div class=\"contnr c0 trm rtl  \" ><div class=\"lbl c0 trm \" ><a class=\" txtu hbo\" target=\"_blank\" href=\"https://shebanq.ancient-data.org/hebrew/word?version=2021&amp;id=1JYQv\" title=\"Show this on SHEBANQ\"><span class=\"txtu hbo\">יָצַק֙ </span></a></div><div class=\"features\"><span class=\"trailer xft\" ><span class=\"f\">trailer=</span> </span></div></div></div></div><div class=\"contnr c1  rtl  \" ><div class=\"lbl c1  \" ><span class=\"nd\">phrase </span> <span class=\"\"><span title=\"typ\">PP</span> <span title=\"function\">Cmpl</span></span></div><div class=\"children hor wrap rtl\"><div class=\"contnr c0 trm rtl  \" ><div class=\"lbl c0 trm \" ><a class=\" txtu hbo\" target=\"_blank\" href=\"https://shebanq.ancient-data.org/hebrew/word?version=2021&amp;id=1AL\" title=\"Show this on SHEBANQ\"><span class=\"txtu hbo\">אֶל־</span></a></div><div class=\"features\"><span class=\"trailer xft\" ><span class=\"f\">trailer=</span>&amp;</span></div></div><div class=\"contnr c0 trm rtl  \" ><div class=\"lbl c0 trm \" ><a class=\" txtu hbo\" target=\"_blank\" href=\"https://shebanq.ancient-data.org/hebrew/word?version=2021&amp;id=1JSWDn\" title=\"Show this on SHEBANQ\"><span class=\"txtu hbo\">יְסֹ֣וד </span></a></div><div class=\"features\"><span class=\"trailer xft\" ><span class=\"f\">trailer=</span> </span></div></div><div class=\"contnr c0 trm rtl  \" ><div class=\"lbl c0 trm \" ><a class=\" txtu hbo\" target=\"_blank\" href=\"https://shebanq.ancient-data.org/hebrew/word?version=2021&amp;id=1H\" title=\"Show this on SHEBANQ\"><span class=\"txtu hbo\">הַ</span></a></div><div class=\"features\"><span class=\"trailer xft\" ><span class=\"f\">trailer=</span></span></div></div><div class=\"contnr c0 trm rtl  \" ><div class=\"lbl c0 trm \" ><a class=\" txtu hbo\" target=\"_blank\" href=\"https://shebanq.ancient-data.org/hebrew/word?version=2021&amp;id=1MZBXn\" title=\"Show this on SHEBANQ\"><span class=\"txtu hbo\">מִּזְבֵּ֔חַ </span></a></div><div class=\"features\"><span class=\"trailer xft\" ><span class=\"f\">trailer=</span> </span></div></div></div></div></div></div></div></div><div class=\"contnr c2  rtl  \" ><div class=\"lbl c2  \" ><span class=\"nd\">sentence </span> <span class=\"\"><span title=\"number\">38</span></span></div><div class=\"children hor wrap rtl\"><div class=\"contnr c2  rtl  \" ><div class=\"lbl c2  \" ><span class=\"nd\">clause </span> <span class=\"\"><span title=\"typ\">Way0</span> <span title=\"rela\">NA</span></span></div><div class=\"children hor wrap rtl\"><div class=\"contnr c1  rtl  \" ><div class=\"lbl c1  \" ><span class=\"nd\">phrase </span> <span class=\"\"><span title=\"typ\">CP</span> <span title=\"function\">Conj</span></span></div><div class=\"children hor wrap rtl\"><div class=\"contnr c0 trm rtl  \" ><div class=\"lbl c0 trm \" ><a class=\" txtu hbo\" target=\"_blank\" href=\"https://shebanq.ancient-data.org/hebrew/word?version=2021&amp;id=1W\" title=\"Show this on SHEBANQ\"><span class=\"txtu hbo\">וַֽ</span></a></div><div class=\"features\"><span class=\"trailer xft\" ><span class=\"f\">trailer=</span></span></div></div></div></div><div class=\"contnr c1  rtl  \" ><div class=\"lbl c1  \" ><span class=\"nd\">phrase </span> <span class=\"\"><span title=\"typ\">VP</span> <span title=\"function\">PreO</span></span></div><div class=\"children hor wrap rtl\"><div class=\"contnr c0 trm rtl  hl\" ><div class=\"lbl c0 trm hl\" ><a class=\" txtu hbo\" target=\"_blank\" href=\"https://shebanq.ancient-data.org/hebrew/word?version=2021&amp;id=1QDCv\" title=\"Show this on SHEBANQ\"><span class=\"txtu hbo\">יְקַדְּשֵׁ֖הוּ </span></a></div><div class=\"features\"><span class=\"trailer xft\" ><span class=\"f\">trailer=</span> </span></div></div></div></div></div></div><div class=\"contnr c2  rtl  \" ><div class=\"lbl c2  \" ><span class=\"nd\">clause </span> <span class=\"\"><span title=\"typ\">InfC</span> <span title=\"rela\">Adju</span></span></div><div class=\"children hor wrap rtl\"><div class=\"contnr c1  rtl  \" ><div class=\"lbl c1  \" ><span class=\"nd\">phrase </span> <span class=\"\"><span title=\"typ\">VP</span> <span title=\"function\">Pred</span></span></div><div class=\"children hor wrap rtl\"><div class=\"contnr c0 trm rtl  \" ><div class=\"lbl c0 trm \" ><a class=\" txtu hbo\" target=\"_blank\" href=\"https://shebanq.ancient-data.org/hebrew/word?version=2021&amp;id=1L\" title=\"Show this on SHEBANQ\"><span class=\"txtu hbo\">לְ</span></a></div><div class=\"features\"><span class=\"trailer xft\" ><span class=\"f\">trailer=</span></span></div></div><div class=\"contnr c0 trm rtl  \" ><div class=\"lbl c0 trm \" ><a class=\" txtu hbo\" target=\"_blank\" href=\"https://shebanq.ancient-data.org/hebrew/word?version=2021&amp;id=1KPRv\" title=\"Show this on SHEBANQ\"><span class=\"txtu hbo\">כַפֵּ֥ר </span></a></div><div class=\"features\"><span class=\"trailer xft\" ><span class=\"f\">trailer=</span> </span></div></div></div></div><div class=\"contnr c1  rtl  \" ><div class=\"lbl c1  \" ><span class=\"nd\">phrase </span> <span class=\"\"><span title=\"typ\">PP</span> <span title=\"function\">Cmpl</span></span></div><div class=\"children hor wrap rtl\"><div class=\"contnr c0 trm rtl  \" ><div class=\"lbl c0 trm \" ><a class=\" txtu hbo\" target=\"_blank\" href=\"https://shebanq.ancient-data.org/hebrew/word?version=2021&amp;id=1OL\" title=\"Show this on SHEBANQ\"><span class=\"txtu hbo\">עָלָֽיו׃ </span></a></div><div class=\"features\"><span class=\"trailer xft\" ><span class=\"f\">trailer=</span>00 </span></div></div></div></div></div></div></div></div></div></div></div>"
      ],
      "text/plain": [
       "<IPython.core.display.HTML object>"
      ]
     },
     "metadata": {},
     "output_type": "display_data"
    }
   ],
   "source": [
    "BHS.show(WordResults2,start=39948,end=39948)"
   ]
  },
  {
   "cell_type": "markdown",
   "id": "245c727b-d068-4fc2-8c84-540b19522aeb",
   "metadata": {},
   "source": [
    "## 3.8 Center word - alternative 2<a class=\"anchor\" id=\"bullet3x8\"></a>\n",
    "##### [Back to TOC](#TOC)"
   ]
  },
  {
   "cell_type": "code",
   "execution_count": 129,
   "id": "8d421dff-ba72-42ea-b122-3249940118eb",
   "metadata": {},
   "outputs": [
    {
     "name": "stdout",
     "output_type": "stream",
     "text": [
      "  0.60s 68434 results\n"
     ]
    }
   ],
   "source": [
    "# Number of words in Torah (defined as items separeted by spaces) \n",
    "# following regexp (.+) selects for values of feature trailer that are 1 or more characters in length\n",
    "\n",
    "WordQuery3 = '''\n",
    "book book=Genesis|Exodus|Leviticus|Numeri|Deuteronomium\n",
    "\n",
    "  word trailer~\\ $\n",
    "'''\n",
    "\n",
    "WordResults3 = BHS.search(WordQuery3)"
   ]
  },
  {
   "cell_type": "code",
   "execution_count": 130,
   "id": "aaa0f50c-67e4-4435-b8d9-d65ef40c6f73",
   "metadata": {},
   "outputs": [
    {
     "name": "stdout",
     "output_type": "stream",
     "text": [
      "  0.35s 11452 results\n"
     ]
    }
   ],
   "source": [
    "# Just to check. query for maqafs\n",
    "\n",
    "MaqafQuery4 = '''\n",
    "book book=Genesis|Exodus|Leviticus|Numeri|Deuteronomium\n",
    "\n",
    "  word trailer=&\n",
    "'''\n",
    "\n",
    "MaqafResults4 = BHS.search(MaqafQuery4)"
   ]
  },
  {
   "cell_type": "markdown",
   "id": "7ae7a4bf-e921-4f42-9b25-b07d941df1e0",
   "metadata": {},
   "source": [
    "Check if the numbers do add up: 68434 (spaces) +  11452 (maqafs) =? 79886 (total)  YES!"
   ]
  },
  {
   "cell_type": "markdown",
   "id": "028840b1-eae8-4305-aa94-ee7eda51e38d",
   "metadata": {},
   "source": [
    "Find the midpoint: 68434/2 = 34217"
   ]
  },
  {
   "cell_type": "code",
   "execution_count": 131,
   "id": "68ced52d-edc9-4c1b-8956-ad83dc25ba94",
   "metadata": {},
   "outputs": [
    {
     "data": {
      "text/html": [
       "<p><b>result</b> <i>34217</i>"
      ],
      "text/plain": [
       "<IPython.core.display.HTML object>"
      ]
     },
     "metadata": {},
     "output_type": "display_data"
    },
    {
     "data": {
      "text/html": [
       "<div class=\"tfsechead rtl\"><span class=\"ltr\"><a target=\"_blank\" href=\"https://shebanq.ancient-data.org/hebrew/text?book=Exodus&amp;chapter=1&amp;verse=1&amp;version=2021&amp;mr=m&amp;qw=q&amp;tp=txt_p&amp;tr=hb&amp;wget=v&amp;qget=v&amp;nget=vt\" title=\"Show this on SHEBANQ\" sec=\"Exodus\">Exodus</a></span></div><div class=\"rtl children\"><div class=\"contnr c4 trm rtl  \" ><div class=\"lbl c4 trm \" ><span class=\"nd\">book </span> <span class=\"txtu hbo\"><span class=\"tfsechead rtl\"><span class=\"ltr\">Exodus</span></span></span></div><div class=\"features\"><span class=\"book xft\" ><span class=\"f\">book=</span>Exodus</span></div></div></div>"
      ],
      "text/plain": [
       "<IPython.core.display.HTML object>"
      ]
     },
     "metadata": {},
     "output_type": "display_data"
    },
    {
     "data": {
      "text/html": [
       "<div class=\"tfsechead rtl\"><span class=\"ltr\"><a target=\"_blank\" href=\"https://shebanq.ancient-data.org/hebrew/text?book=Exodus&amp;chapter=34&amp;verse=13&amp;version=2021&amp;mr=m&amp;qw=q&amp;tp=txt_p&amp;tr=hb&amp;wget=v&amp;qget=v&amp;nget=vt\" title=\"Show this on SHEBANQ\" sec=\"Exodus 34:13\">Exodus 34:13</a></span></div><div class=\"rtl children\"><div class=\"contnr c3  rtl  \" ><div class=\"lbl c3  \" ><span class=\"nd\">verse </span></div><div class=\"features\"><span class=\"book xft\" ><span class=\"f\">book=</span>Exodus</span></div><div class=\"children hor wrap rtl\"><div class=\"contnr c2  rtl  \" ><div class=\"lbl c2  \" ><span class=\"nd\">sentence </span> <span class=\"\"><span title=\"number\">37</span></span></div><div class=\"children hor wrap rtl\"><div class=\"contnr c2  rtl  \" ><div class=\"lbl c2  \" ><span class=\"nd\">clause </span> <span class=\"\"><span title=\"typ\">xYq0</span> <span title=\"rela\">NA</span></span></div><div class=\"children hor wrap rtl\"><div class=\"contnr c1  rtl  \" ><div class=\"lbl c1  \" ><span class=\"nd\">phrase </span> <span class=\"\"><span title=\"typ\">CP</span> <span title=\"function\">Conj</span></span></div><div class=\"children hor wrap rtl\"><div class=\"contnr c0 trm rtl  hl\" ><div class=\"lbl c0 trm hl\" ><a class=\" txtu hbo\" target=\"_blank\" href=\"https://shebanq.ancient-data.org/hebrew/word?version=2021&amp;id=1KJ\" title=\"Show this on SHEBANQ\"><span class=\"txtu hbo\">כִּ֤י </span></a></div><div class=\"features\"><span class=\"trailer xft\" ><span class=\"f\">trailer=</span> </span></div></div></div></div><div class=\"contnr c1  rtl  \" ><div class=\"lbl c1  \" ><span class=\"nd\">phrase </span> <span class=\"\"><span title=\"typ\">PP</span> <span title=\"function\">Objc</span></span></div><div class=\"children hor wrap rtl\"><div class=\"contnr c0 trm rtl  \" ><div class=\"lbl c0 trm \" ><a class=\" txtu hbo\" target=\"_blank\" href=\"https://shebanq.ancient-data.org/hebrew/word?version=2021&amp;id=1AT\" title=\"Show this on SHEBANQ\"><span class=\"txtu hbo\">אֶת־</span></a></div><div class=\"features\"><span class=\"trailer xft\" ><span class=\"f\">trailer=</span>&amp;</span></div></div><div class=\"contnr c0 trm rtl  \" ><div class=\"lbl c0 trm \" ><a class=\" txtu hbo\" target=\"_blank\" href=\"https://shebanq.ancient-data.org/hebrew/word?version=2021&amp;id=1MZBXn\" title=\"Show this on SHEBANQ\"><span class=\"txtu hbo\">מִזְבְּחֹתָם֙ </span></a></div><div class=\"features\"><span class=\"trailer xft\" ><span class=\"f\">trailer=</span> </span></div></div></div></div><div class=\"contnr c1  rtl  \" ><div class=\"lbl c1  \" ><span class=\"nd\">phrase </span> <span class=\"\"><span title=\"typ\">VP</span> <span title=\"function\">Pred</span></span></div><div class=\"children hor wrap rtl\"><div class=\"contnr c0 trm rtl  \" ><div class=\"lbl c0 trm \" ><a class=\" txtu hbo\" target=\"_blank\" href=\"https://shebanq.ancient-data.org/hebrew/word?version=2021&amp;id=1NTYv\" title=\"Show this on SHEBANQ\"><span class=\"txtu hbo\">תִּתֹּצ֔וּן </span></a></div><div class=\"features\"><span class=\"trailer xft\" ><span class=\"f\">trailer=</span> </span></div></div></div></div></div></div></div></div><div class=\"contnr c2  rtl  \" ><div class=\"lbl c2  \" ><span class=\"nd\">sentence </span> <span class=\"\"><span title=\"number\">38</span></span></div><div class=\"children hor wrap rtl\"><div class=\"contnr c2  rtl  \" ><div class=\"lbl c2  \" ><span class=\"nd\">clause </span> <span class=\"\"><span title=\"typ\">WxY0</span> <span title=\"rela\">NA</span></span></div><div class=\"children hor wrap rtl\"><div class=\"contnr c1  rtl  \" ><div class=\"lbl c1  \" ><span class=\"nd\">phrase </span> <span class=\"\"><span title=\"typ\">CP</span> <span title=\"function\">Conj</span></span></div><div class=\"children hor wrap rtl\"><div class=\"contnr c0 trm rtl  \" ><div class=\"lbl c0 trm \" ><a class=\" txtu hbo\" target=\"_blank\" href=\"https://shebanq.ancient-data.org/hebrew/word?version=2021&amp;id=1W\" title=\"Show this on SHEBANQ\"><span class=\"txtu hbo\">וְ</span></a></div><div class=\"features\"><span class=\"trailer xft\" ><span class=\"f\">trailer=</span></span></div></div></div></div><div class=\"contnr c1  rtl  \" ><div class=\"lbl c1  \" ><span class=\"nd\">phrase </span> <span class=\"\"><span title=\"typ\">PP</span> <span title=\"function\">Objc</span></span></div><div class=\"children hor wrap rtl\"><div class=\"contnr c0 trm rtl  \" ><div class=\"lbl c0 trm \" ><a class=\" txtu hbo\" target=\"_blank\" href=\"https://shebanq.ancient-data.org/hebrew/word?version=2021&amp;id=1AT\" title=\"Show this on SHEBANQ\"><span class=\"txtu hbo\">אֶת־</span></a></div><div class=\"features\"><span class=\"trailer xft\" ><span class=\"f\">trailer=</span>&amp;</span></div></div><div class=\"contnr c0 trm rtl  \" ><div class=\"lbl c0 trm \" ><a class=\" txtu hbo\" target=\"_blank\" href=\"https://shebanq.ancient-data.org/hebrew/word?version=2021&amp;id=1MYBHn\" title=\"Show this on SHEBANQ\"><span class=\"txtu hbo\">מַצֵּבֹתָ֖ם </span></a></div><div class=\"features\"><span class=\"trailer xft\" ><span class=\"f\">trailer=</span> </span></div></div></div></div><div class=\"contnr c1  rtl  \" ><div class=\"lbl c1  \" ><span class=\"nd\">phrase </span> <span class=\"\"><span title=\"typ\">VP</span> <span title=\"function\">Pred</span></span></div><div class=\"children hor wrap rtl\"><div class=\"contnr c0 trm rtl  \" ><div class=\"lbl c0 trm \" ><a class=\" txtu hbo\" target=\"_blank\" href=\"https://shebanq.ancient-data.org/hebrew/word?version=2021&amp;id=1CBRv\" title=\"Show this on SHEBANQ\"><span class=\"txtu hbo\">תְּשַׁבֵּר֑וּן </span></a></div><div class=\"features\"><span class=\"trailer xft\" ><span class=\"f\">trailer=</span> </span></div></div></div></div></div></div></div></div><div class=\"contnr c2  rtl  \" ><div class=\"lbl c2  \" ><span class=\"nd\">sentence </span> <span class=\"\"><span title=\"number\">39</span></span></div><div class=\"children hor wrap rtl\"><div class=\"contnr c2  rtl  \" ><div class=\"lbl c2  \" ><span class=\"nd\">clause </span> <span class=\"\"><span title=\"typ\">WxY0</span> <span title=\"rela\">NA</span></span></div><div class=\"children hor wrap rtl\"><div class=\"contnr c1  rtl  \" ><div class=\"lbl c1  \" ><span class=\"nd\">phrase </span> <span class=\"\"><span title=\"typ\">CP</span> <span title=\"function\">Conj</span></span></div><div class=\"children hor wrap rtl\"><div class=\"contnr c0 trm rtl  \" ><div class=\"lbl c0 trm \" ><a class=\" txtu hbo\" target=\"_blank\" href=\"https://shebanq.ancient-data.org/hebrew/word?version=2021&amp;id=1W\" title=\"Show this on SHEBANQ\"><span class=\"txtu hbo\">וְ</span></a></div><div class=\"features\"><span class=\"trailer xft\" ><span class=\"f\">trailer=</span></span></div></div></div></div><div class=\"contnr c1  rtl  \" ><div class=\"lbl c1  \" ><span class=\"nd\">phrase </span> <span class=\"\"><span title=\"typ\">PP</span> <span title=\"function\">Objc</span></span></div><div class=\"children hor wrap rtl\"><div class=\"contnr c0 trm rtl  \" ><div class=\"lbl c0 trm \" ><a class=\" txtu hbo\" target=\"_blank\" href=\"https://shebanq.ancient-data.org/hebrew/word?version=2021&amp;id=1AT\" title=\"Show this on SHEBANQ\"><span class=\"txtu hbo\">אֶת־</span></a></div><div class=\"features\"><span class=\"trailer xft\" ><span class=\"f\">trailer=</span>&amp;</span></div></div><div class=\"contnr c0 trm rtl  \" ><div class=\"lbl c0 trm \" ><a class=\" txtu hbo\" target=\"_blank\" href=\"https://shebanq.ancient-data.org/hebrew/word?version=2021&amp;id=1ACRHn\" title=\"Show this on SHEBANQ\"><span class=\"txtu hbo\">אֲשֵׁרָ֖יו </span></a></div><div class=\"features\"><span class=\"trailer xft\" ><span class=\"f\">trailer=</span> </span></div></div></div></div><div class=\"contnr c1  rtl  \" ><div class=\"lbl c1  \" ><span class=\"nd\">phrase </span> <span class=\"\"><span title=\"typ\">VP</span> <span title=\"function\">Pred</span></span></div><div class=\"children hor wrap rtl\"><div class=\"contnr c0 trm rtl  \" ><div class=\"lbl c0 trm \" ><a class=\" txtu hbo\" target=\"_blank\" href=\"https://shebanq.ancient-data.org/hebrew/word?version=2021&amp;id=1KRTv\" title=\"Show this on SHEBANQ\"><span class=\"txtu hbo\">תִּכְרֹתֽוּן׃ </span></a></div><div class=\"features\"><span class=\"trailer xft\" ><span class=\"f\">trailer=</span>00 </span></div></div></div></div></div></div></div></div></div></div></div>"
      ],
      "text/plain": [
       "<IPython.core.display.HTML object>"
      ]
     },
     "metadata": {},
     "output_type": "display_data"
    }
   ],
   "source": [
    "BHS.show(WordResults2,start=34217,end=34217)"
   ]
  },
  {
   "cell_type": "code",
   "execution_count": null,
   "id": "af8da38b-686e-4779-bdab-bfcea2f7ea0e",
   "metadata": {},
   "outputs": [],
   "source": []
  }
 ],
 "metadata": {
  "kernelspec": {
   "display_name": "Python 3 (ipykernel)",
   "language": "python",
   "name": "python3"
  },
  "language_info": {
   "codemirror_mode": {
    "name": "ipython",
    "version": 3
   },
   "file_extension": ".py",
   "mimetype": "text/x-python",
   "name": "python",
   "nbconvert_exporter": "python",
   "pygments_lexer": "ipython3",
   "version": "3.9.12"
  }
 },
 "nbformat": 4,
 "nbformat_minor": 5
}
